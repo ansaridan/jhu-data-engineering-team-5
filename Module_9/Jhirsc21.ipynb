{
 "cells": [
  {
   "cell_type": "markdown",
   "metadata": {},
   "source": [
    "# Lab 9 - Linear Models - Part 1"
   ]
  },
  {
   "cell_type": "code",
   "execution_count": 1,
   "metadata": {},
   "outputs": [],
   "source": [
    "%matplotlib inline"
   ]
  },
  {
   "cell_type": "markdown",
   "metadata": {},
   "source": [
    "This will make all the `matplotlib` images appear in the notebook."
   ]
  },
  {
   "cell_type": "code",
   "execution_count": 2,
   "metadata": {},
   "outputs": [],
   "source": [
    "import numpy as np\n",
    "import time\n",
    "import seaborn as sns\n",
    "import matplotlib.pyplot as plt\n",
    "import scipy.stats as stats\n",
    "import pandas as pd\n",
    "\n",
    "sns.set(style=\"whitegrid\")"
   ]
  },
  {
   "cell_type": "markdown",
   "metadata": {},
   "source": [
    "## Directions\n",
    "\n",
    "The Labs also present technical material that augments the lectures and \"book\".  You should read through the entire lab at the start of each module.\n",
    "\n",
    "<div style=\"background: mistyrose; color: firebrick; border: 2px solid darkred; padding: 5px; margin: 10px;\">\n",
    "Please follow the directions and make sure you provide the requested output. Failure to do so may result in a lower grade even if the code is correct or even 0 points.\n",
    "</div>\n",
    "\n",
    "### General Instructions\n",
    "\n",
    "1.  You will be submitting your assignment to Canvas. If there are no accompanying files, you should submit *only* your notebook and it should be named using *only* your JHED id: fsmith79.ipynb for example if your JHED id were \"fsmith79\". If the assignment requires additional files, you should name the *folder/directory* your JHED id and put all items in that folder/directory, ZIP it up (only ZIP...no other compression), and submit it to Canvas.\n",
    "    \n",
    "    * do **not** use absolute paths in your notebooks. All resources should appear in the same directory as the rest of your assignments.\n",
    "    * the directory **must** be named your JHED id and **only** your JHED id.\n",
    "    * you don't need to submit course supplied data sets back.\n",
    "    \n",
    "2. Data Science is as much about what you write (communicating) as the code you execute (researching). In many places, you will be required to execute code and discuss both the purpose and the result. Additionally, Data Science is about reproducibility and transparency. This includes good communication with your team and possibly with yourself. Therefore, you must show **all** work.\n",
    "\n",
    "3. Avail yourself of the Markdown/Codecell nature of the notebook. If you don't know about Markdown, look it up. Your notebooks should not look like ransom notes. Don't make everything bold. Clearly indicate what question you are answering.\n",
    "\n",
    "4. Submit a cleanly executed notebook. The first code cell should say `In [1]` and each successive code cell should increase by 1 throughout the notebook."
   ]
  },
  {
   "cell_type": "code",
   "execution_count": 3,
   "metadata": {
    "jupyter": {
     "source_hidden": true
    },
    "tags": []
   },
   "outputs": [],
   "source": [
    "def freeman_diaconis(data):\n",
    "    mn = data.min()\n",
    "    mx = data.max()\n",
    "    quartiles = stats.mstats.mquantiles( data, [0.25, 0.5, 0.75])\n",
    "    iqr = quartiles[2] - quartiles[ 0]\n",
    "    n = len( data)\n",
    "    h = 2.0 * (iqr/n**(1.0/3.0))\n",
    "    return int(np.ceil((mx - mn)/h)), mn, mx"
   ]
  },
  {
   "cell_type": "code",
   "execution_count": 4,
   "metadata": {
    "jupyter": {
     "source_hidden": true
    }
   },
   "outputs": [],
   "source": [
    "def histogram_w_whiskers(data, variable_name, zoom=None):\n",
    "    k, mn, mx = freeman_diaconis(data[variable_name])\n",
    "    bins = np.linspace(mn, mx, num=k)\n",
    "    print(f\"Freeman Diaconis for {variable_name}: {len(bins)} bins\")\n",
    "\n",
    "    observations = len(data)\n",
    "    empirical_weights = np.ones(observations)/observations # this converts counts to relative frequencies when used in hist()\n",
    "        \n",
    "    # start the plot: 2 rows, because we want the boxplot on the first row\n",
    "    # and the hist on the second\n",
    "    fig, ax = plt.subplots(\n",
    "        2, figsize=(7, 5), sharex=True,\n",
    "        gridspec_kw={\"height_ratios\": (.7, .3)}  # the boxplot gets 30% of the vertical space\n",
    "    )\n",
    "\n",
    "    # the histogram\n",
    "    ax[0].hist(data[variable_name],bins=bins, color=\"dimgray\", weights=empirical_weights)\n",
    "    ax[0].set_title(f\"{variable_name} distribution - Freeman Diaconis\")\n",
    "    ax[0].set_ylabel(\"Relative Frequency\")\n",
    "    if zoom:\n",
    "        ax[0].set_ylim((0, zoom))\n",
    "    # the box plot\n",
    "    ax[1].boxplot(data[variable_name], vert=False)\n",
    "    # removing borders\n",
    "    ax[1].spines['top'].set_visible(False)\n",
    "    ax[1].spines['right'].set_visible(False)\n",
    "    ax[1].spines['left'].set_visible(False)\n",
    "    ax[1].set_xlabel(variable_name)\n",
    "\n",
    "    # and we are good to go\n",
    "    plt.show()\n",
    "    plt.close()"
   ]
  },
  {
   "cell_type": "code",
   "execution_count": 5,
   "metadata": {
    "jupyter": {
     "source_hidden": true
    },
    "tags": []
   },
   "outputs": [],
   "source": [
    "def histogram_trio(data, variable_name, zoom=1.0):\n",
    "    k, mn, mx = freeman_diaconis(data[variable_name])\n",
    "    bins = np.linspace(mn, mx, num=k) #[i for i in range( mn, mx, h)]    \n",
    "    print(f\"Freeman Diaconis for {variable_name}: {len(bins)} bins\")\n",
    "\n",
    "    observations = len(data)\n",
    "    empirical_weights = np.ones(observations)/observations # this converts counts to relative frequencies when used in hist()\n",
    "\n",
    "    fig, ax = plt.subplots(1, 3, figsize=(20, 6), sharey=True)\n",
    "\n",
    "    fewer_bins = int(len(bins) * .50)\n",
    "    more_bins = int(len(bins) * 2)\n",
    "\n",
    "    n, bins, patches = ax[1].hist(data[variable_name], color=\"DimGray\", bins=bins, weights=empirical_weights) # <---\n",
    "    ax[1].set_xlabel(variable_name)\n",
    "    ax[1].set_ylabel(\"Relative Frequency\")\n",
    "    ax[1].set_title(f\"Relative Frequency Histogram of {variable_name}\")\n",
    "    ax[1].set_ylim((0, zoom))\n",
    "    \n",
    "    n, bins, patches = ax[0].hist(data[variable_name], color=\"DimGray\", bins=fewer_bins, weights=empirical_weights)\n",
    "    ax[0].set_xlabel(variable_name)\n",
    "    ax[0].set_ylabel(\"Relative Frequency\")\n",
    "    ax[0].set_title(f\"Relative Frequency Histogram of {variable_name} (Fewer Bins)\")\n",
    "    \n",
    "    n, bins, patches = ax[2].hist(data[variable_name], color=\"DimGray\", bins=more_bins, weights=empirical_weights)\n",
    "    ax[2].set_xlabel(variable_name)\n",
    "    ax[2].set_ylabel(\"Relative Frequency\")\n",
    "    ax[2].set_title(f\"Relative Frequency Histogram of {variable_name} (More Bins)\")\n",
    "\n",
    "    plt.show()\n",
    "    plt.close()"
   ]
  },
  {
   "cell_type": "code",
   "execution_count": 6,
   "metadata": {
    "jupyter": {
     "source_hidden": true
    },
    "tags": []
   },
   "outputs": [],
   "source": [
    "def describe_by_category(data, numeric, categorical, transpose=False):\n",
    "    grouped = data.groupby(categorical)\n",
    "    grouped_y = grouped[numeric].describe()\n",
    "    if transpose:\n",
    "        print(grouped_y.transpose())\n",
    "    else:\n",
    "        print(grouped_y)"
   ]
  },
  {
   "cell_type": "code",
   "execution_count": 7,
   "metadata": {},
   "outputs": [],
   "source": [
    "from io import StringIO"
   ]
  },
  {
   "cell_type": "markdown",
   "metadata": {},
   "source": [
    "## Data\n",
    "\n",
    "The data is embedded here. No need to expand..."
   ]
  },
  {
   "cell_type": "code",
   "execution_count": 8,
   "metadata": {
    "jupyter": {
     "source_hidden": true
    },
    "tags": []
   },
   "outputs": [],
   "source": [
    "data = \"\"\"\\\n",
    "x1\tx2\ty\n",
    "42.53196404638552\t0\t39.266138333852396\n",
    "37.01869338822434\t0\t35.38780631996972\n",
    "48.3288342504206\t0\t46.26839427599523\n",
    "43.01575004949211\t1\t44.16407081382897\n",
    "49.82446398716534\t1\t48.14598000061575\n",
    "53.05182703264607\t0\t50.10859905332506\n",
    "50.577508493151335\t1\t48.72278380277136\n",
    "48.66230915788665\t1\t46.86070060854518\n",
    "59.200905062365756\t1\t54.54941811007832\n",
    "46.899458063301296\t1\t46.45274210737207\n",
    "49.53984298918534\t0\t47.311098766248165\n",
    "56.20141058612436\t0\t55.009134373799384\n",
    "46.191555580958024\t0\t44.694716359010805\n",
    "51.070050720723486\t1\t49.76781032110353\n",
    "41.665398630589856\t0\t38.56016900570599\n",
    "47.254803561372825\t1\t47.48137185203709\n",
    "37.63542814810546\t1\t41.28618234911959\n",
    "51.47620027944755\t1\t50.453917889264424\n",
    "41.60356365942902\t0\t38.56589893639894\n",
    "53.077076349228655\t1\t49.84609972107021\n",
    "52.49443318351219\t1\t50.070370688536016\n",
    "53.51311419261094\t1\t51.4009809241463\n",
    "45.92157212414309\t0\t46.4205775847286\n",
    "43.90918076520862\t0\t44.06894418027712\n",
    "50.28483454561473\t0\t48.307980376536335\n",
    "47.77619925830439\t0\t47.52880364365444\n",
    "46.05021820204064\t0\t45.266540282947766\n",
    "54.74022798047512\t1\t49.5388424862949\n",
    "54.175224214094904\t1\t49.5151845038181\n",
    "33.519830644268666\t0\t33.14945320232296\n",
    "51.609721790723185\t1\t47.56576269423462\n",
    "49.557159460681596\t1\t47.33747984021572\n",
    "59.517414435952645\t1\t51.63826903998511\n",
    "39.77114946413516\t1\t42.0877068737684\n",
    "57.19934899522586\t1\t52.077398785763805\n",
    "49.69281617216099\t0\t45.833588129119434\n",
    "53.524435708676414\t1\t50.068221941368854\n",
    "50.61217550266046\t1\t49.50419159136896\n",
    "53.306928185698126\t1\t50.75987607045231\n",
    "43.03399419827299\t1\t43.9346784831377\n",
    "43.802996624770685\t0\t42.61434651785355\n",
    "51.088668626382216\t1\t48.40053169030099\n",
    "44.037250800862424\t1\t44.15064915784359\n",
    "55.72802275854175\t1\t49.8037233570838\n",
    "49.922045123509555\t0\t47.58118334256501\n",
    "50.40048098011718\t1\t47.28141145097148\n",
    "48.02305990997677\t1\t46.10165485947634\n",
    "51.64897886406086\t1\t50.287899466343205\n",
    "45.928392403145025\t1\t46.52227443544181\n",
    "47.7724354134946\t1\t47.51990418399228\n",
    "47.80675744820208\t1\t46.73881915577311\n",
    "47.35650622673358\t1\t47.72425745581924\n",
    "47.907224460386324\t0\t45.73973335962161\n",
    "45.98488666197187\t0\t44.801011100197364\n",
    "56.41638750771391\t0\t55.414010391595944\n",
    "50.86072750451391\t1\t50.572144262538714\n",
    "48.12141659727555\t1\t49.3582794938027\n",
    "55.43357474041848\t1\t51.613075364234994\n",
    "51.276189055778445\t0\t49.966446887747175\n",
    "41.5308310134472\t1\t43.341660654023244\n",
    "53.81960283823004\t1\t48.997038217219924\n",
    "51.73245886784904\t1\t49.68150480169435\n",
    "38.67507301648082\t0\t38.48163914717438\n",
    "52.011730639725364\t1\t49.79762678660579\n",
    "53.79425640517957\t1\t49.80587872843501\n",
    "47.46820398034373\t1\t46.005905956051826\n",
    "42.680463453804926\t0\t41.757416757527515\n",
    "47.014256759720936\t1\t46.336957889424994\n",
    "53.354670848377815\t0\t50.45889702027998\n",
    "49.58224911012258\t1\t49.0264643905292\n",
    "38.88899948112294\t0\t38.464739223067646\n",
    "56.510437687966835\t1\t50.93830097342925\n",
    "50.81551035943704\t1\t48.920746514983676\n",
    "53.64809210704751\t1\t49.623918929738046\n",
    "47.11904227707985\t0\t46.27750579448739\n",
    "44.34006262446135\t0\t42.05526135508424\n",
    "51.42389910442588\t1\t49.54581162077361\n",
    "49.318543069260116\t1\t47.10237118335985\n",
    "53.973145024782724\t0\t52.29182487678392\n",
    "45.95441290346115\t1\t48.074735130237976\n",
    "53.52428517654122\t1\t51.16295120339898\n",
    "46.62065003375652\t0\t43.30782980680714\n",
    "44.53656539477583\t1\t45.01816474475141\n",
    "41.15207097455226\t1\t43.89337064084363\n",
    "49.310167483183044\t0\t47.131023812095286\n",
    "39.037085956777666\t1\t43.96034732721155\n",
    "46.25776087326585\t1\t44.75279018173252\n",
    "49.39331705759021\t0\t48.52259266585329\n",
    "57.526508530317884\t0\t55.46688196486551\n",
    "51.61158177102028\t0\t50.17898869276044\n",
    "49.90659353550422\t0\t49.07749388172434\n",
    "42.565669815616296\t0\t41.705411553444804\n",
    "41.7964545880127\t0\t40.31781981336837\n",
    "51.57540430152188\t1\t47.44725959006256\n",
    "53.55247006558779\t1\t49.39702148958889\n",
    "50.996058211211285\t1\t47.968246879234464\n",
    "50.50179328654236\t1\t50.10922919554442\n",
    "42.148448659918785\t0\t40.96678336225678\n",
    "42.739255010603884\t0\t43.13838331089848\n",
    "49.21589828426975\t1\t47.41880947445886\n",
    "\"\"\""
   ]
  },
  {
   "cell_type": "code",
   "execution_count": 9,
   "metadata": {},
   "outputs": [],
   "source": [
    "df = pd.read_table(StringIO(data))"
   ]
  },
  {
   "cell_type": "code",
   "execution_count": 10,
   "metadata": {},
   "outputs": [
    {
     "data": {
      "text/html": [
       "<div>\n",
       "<style scoped>\n",
       "    .dataframe tbody tr th:only-of-type {\n",
       "        vertical-align: middle;\n",
       "    }\n",
       "\n",
       "    .dataframe tbody tr th {\n",
       "        vertical-align: top;\n",
       "    }\n",
       "\n",
       "    .dataframe thead th {\n",
       "        text-align: right;\n",
       "    }\n",
       "</style>\n",
       "<table border=\"1\" class=\"dataframe\">\n",
       "  <thead>\n",
       "    <tr style=\"text-align: right;\">\n",
       "      <th></th>\n",
       "      <th>x1</th>\n",
       "      <th>x2</th>\n",
       "      <th>y</th>\n",
       "    </tr>\n",
       "  </thead>\n",
       "  <tbody>\n",
       "    <tr>\n",
       "      <th>0</th>\n",
       "      <td>42.531964</td>\n",
       "      <td>0</td>\n",
       "      <td>39.266138</td>\n",
       "    </tr>\n",
       "    <tr>\n",
       "      <th>1</th>\n",
       "      <td>37.018693</td>\n",
       "      <td>0</td>\n",
       "      <td>35.387806</td>\n",
       "    </tr>\n",
       "    <tr>\n",
       "      <th>2</th>\n",
       "      <td>48.328834</td>\n",
       "      <td>0</td>\n",
       "      <td>46.268394</td>\n",
       "    </tr>\n",
       "    <tr>\n",
       "      <th>3</th>\n",
       "      <td>43.015750</td>\n",
       "      <td>1</td>\n",
       "      <td>44.164071</td>\n",
       "    </tr>\n",
       "    <tr>\n",
       "      <th>4</th>\n",
       "      <td>49.824464</td>\n",
       "      <td>1</td>\n",
       "      <td>48.145980</td>\n",
       "    </tr>\n",
       "  </tbody>\n",
       "</table>\n",
       "</div>"
      ],
      "text/plain": [
       "          x1  x2          y\n",
       "0  42.531964   0  39.266138\n",
       "1  37.018693   0  35.387806\n",
       "2  48.328834   0  46.268394\n",
       "3  43.015750   1  44.164071\n",
       "4  49.824464   1  48.145980"
      ]
     },
     "execution_count": 10,
     "metadata": {},
     "output_type": "execute_result"
    }
   ],
   "source": [
    "df.head()"
   ]
  },
  {
   "cell_type": "markdown",
   "metadata": {
    "tags": []
   },
   "source": [
    "## Simple Linear Regression\n",
    "\n",
    "Sam is working on a project to predict a target variable $y$ using two features $x_1$ and $x_2$.\n",
    "$x_1$ is numerical.\n",
    "$x_2$ is categorical (binary) with outcomes 0 and 1.\n",
    "Based on domain knowledge, Sam has concluded that $x_1 - (+) \\longrightarrow y$ and $x_2 - (+) \\longrightarrow y$.\n",
    "$x_2$ also influences $x_1$, $x_2 - (-) \\longrightarrow x_1$.\n",
    "\n",
    "Here is a reproduction of her EDA:"
   ]
  },
  {
   "cell_type": "markdown",
   "metadata": {},
   "source": [
    "### Single Variable EDA"
   ]
  },
  {
   "cell_type": "markdown",
   "metadata": {},
   "source": [
    "#### $y$\n",
    "\n",
    "The target variable is $y$.\n",
    "It's a numerical variable.\n",
    "\n",
    "<div style=\"background: lemonchiffon; margin:20px; padding: 20px;\">\n",
    "    <strong>Note</strong>\n",
    "    <p>This is synthetic data so there's no actual domain knowledge or hypothesis to make. Those would go here if it were real data, right?</p>\n",
    "</div>\n",
    "\n",
    "Here are the descriptive statistics:"
   ]
  },
  {
   "cell_type": "code",
   "execution_count": 11,
   "metadata": {},
   "outputs": [
    {
     "data": {
      "text/plain": [
       "count    100.000000\n",
       "mean      46.990968\n",
       "std        4.129255\n",
       "min       33.149453\n",
       "25%       44.738272\n",
       "50%       47.524354\n",
       "75%       49.799151\n",
       "max       55.466882\n",
       "Name: y, dtype: float64"
      ]
     },
     "execution_count": 11,
     "metadata": {},
     "output_type": "execute_result"
    }
   ],
   "source": [
    "df.y.describe()"
   ]
  },
  {
   "cell_type": "markdown",
   "metadata": {},
   "source": [
    "The mean is about 47 with a standard deviation of 4.13.\n",
    "The median is 47.5.\n",
    "The difference between Q2 and Q1 is 47.5 - 44.7 $\\approx$ 3.\n",
    "The difference between Q3 and Q2 is 49.8 - 47.5 $\\approx$ 2.5.\n",
    "This suggests a slight skew.\n",
    "\n",
    "The difference between the min and Q1 is nearly 11, while the difference between the max and Q3 is less than 6.\n",
    "This suggests a larger skew.\n",
    "\n",
    "Here is the histogram:"
   ]
  },
  {
   "cell_type": "code",
   "execution_count": 12,
   "metadata": {},
   "outputs": [
    {
     "name": "stdout",
     "output_type": "stream",
     "text": [
      "Freeman Diaconis for y: 11 bins\n"
     ]
    },
    {
     "data": {
      "image/png": "[encoded data removed]",
      "text/plain": [
       "<Figure size 700x500 with 2 Axes>"
      ]
     },
     "metadata": {},
     "output_type": "display_data"
    }
   ],
   "source": [
    "histogram_w_whiskers(df, \"y\", zoom=None)"
   ]
  },
  {
   "cell_type": "markdown",
   "metadata": {},
   "source": [
    "While the coincidence of the mean and median suggest symmetry, the distribution is very skewed right.\n",
    "\n",
    "Here is a set of histograms with fewer and more bins:"
   ]
  },
  {
   "cell_type": "code",
   "execution_count": 13,
   "metadata": {},
   "outputs": [
    {
     "name": "stdout",
     "output_type": "stream",
     "text": [
      "Freeman Diaconis for y: 11 bins\n"
     ]
    },
    {
     "data": {
      "image/png": "[encoded data removed]",
      "text/plain": [
       "<Figure size 2000x600 with 3 Axes>"
      ]
     },
     "metadata": {},
     "output_type": "display_data"
    }
   ],
   "source": [
    "histogram_trio(df, \"y\", zoom=1.0)"
   ]
  },
  {
   "cell_type": "markdown",
   "metadata": {},
   "source": [
    "While the overall pattern persists in the histogram with fewer bins,\n",
    "The histogram with more bins shows that there might be some finer detail in the data.\n",
    "\n",
    "<div style=\"background: lemonchiffon; margin:20px; padding: 20px;\">\n",
    "    <strong>Note</strong>\n",
    "    <p>Don't forget your questions and notes when working with real data.</p>\n",
    "</div>\n",
    "\n",
    "Here are the descriptive statistics:"
   ]
  },
  {
   "cell_type": "markdown",
   "metadata": {},
   "source": [
    "#### $x_1$\n",
    "\n",
    "$x_1$ is a numerical variable.\n",
    "\n",
    "<div style=\"background: lemonchiffon; margin:20px; padding: 20px;\">\n",
    "    <strong>Note</strong>\n",
    "    <p>This is synthetic data so there's no actual domain knowledge or hypothesis to make. Those would go here if it were real data, right?</p>\n",
    "</div>\n",
    "\n",
    "Here are the descriptive statistics:"
   ]
  },
  {
   "cell_type": "code",
   "execution_count": 14,
   "metadata": {},
   "outputs": [
    {
     "data": {
      "text/plain": [
       "count    100.000000\n",
       "mean      48.621770\n",
       "std        5.203988\n",
       "min       33.519831\n",
       "25%       45.926687\n",
       "50%       49.466580\n",
       "75%       51.802277\n",
       "max       59.517414\n",
       "Name: x1, dtype: float64"
      ]
     },
     "execution_count": 14,
     "metadata": {},
     "output_type": "execute_result"
    }
   ],
   "source": [
    "df.x1.describe()"
   ]
  },
  {
   "cell_type": "markdown",
   "metadata": {},
   "source": [
    "The mean is 48.6 with a standard deviation of 5.2.\n",
    "The median is 49.5, which suggests a slight skew.\n",
    "The difference between Q2 and Q1 is 49.5 - 46 $\\approx$ 3.5.\n",
    "The difference between Q3 and Q2 is 51.8 - 49.5 $\\approx$ 2.3.\n",
    "This suggests a skew as well.\n",
    "\n",
    "Looking at the min and max, the min and Q1 are 12.4 units apart while the max and Q3 are 7.7 units apart.\n",
    "This suggests a skew right as well.\n",
    "This makes sense if we believe that $x_1$ and $y$ are related.\n",
    "\n",
    "Here is the histogram:"
   ]
  },
  {
   "cell_type": "code",
   "execution_count": 15,
   "metadata": {},
   "outputs": [
    {
     "name": "stdout",
     "output_type": "stream",
     "text": [
      "Freeman Diaconis for x1: 11 bins\n"
     ]
    },
    {
     "data": {
      "image/png": "[encoded data removed]",
      "text/plain": [
       "<Figure size 700x500 with 2 Axes>"
      ]
     },
     "metadata": {},
     "output_type": "display_data"
    }
   ],
   "source": [
    "histogram_w_whiskers(df, \"x1\", zoom=None)"
   ]
  },
  {
   "cell_type": "markdown",
   "metadata": {},
   "source": [
    "$x_1$ itself appears to be multi-modal with a peak around 43 and 50.\n",
    "It's interesting that this same peak doesn't appear in $y$.\n",
    "$x_1$, like $y$, is skewed right but there is something else going on.\n",
    "\n",
    "Here are histograms with fewer and more bins:"
   ]
  },
  {
   "cell_type": "code",
   "execution_count": 16,
   "metadata": {},
   "outputs": [
    {
     "name": "stdout",
     "output_type": "stream",
     "text": [
      "Freeman Diaconis for x1: 11 bins\n"
     ]
    },
    {
     "data": {
      "image/png": "[encoded data removed]",
      "text/plain": [
       "<Figure size 2000x600 with 3 Axes>"
      ]
     },
     "metadata": {},
     "output_type": "display_data"
    }
   ],
   "source": [
    "histogram_trio(df, \"x1\", zoom=1.0)"
   ]
  },
  {
   "cell_type": "markdown",
   "metadata": {},
   "source": [
    "$y$ and $x_1$ have much more similar histograms with fewer bins than with the \"optimal\" number.\n",
    "With more bins, we can see more detail in $x_1$.\n",
    "This detail might explain the similar patterns in $y$.\n",
    "\n",
    "\n",
    "<div style=\"background: lemonchiffon; margin:20px; padding: 20px;\">\n",
    "    <strong>Note</strong>\n",
    "    <p>Don't forget your questions and notes when working with real data.</p>\n",
    "</div>"
   ]
  },
  {
   "cell_type": "markdown",
   "metadata": {},
   "source": [
    "#### $x_2$\n",
    "\n",
    "$x_2$ is a categorical variable with values 0 and 1.\n",
    "\n",
    "<div style=\"background: lemonchiffon; margin:20px; padding: 20px;\">\n",
    "    <strong>Note</strong>\n",
    "    <p>This is synthetic data so there's no actual domain knowledge or hypothesis to make. Those would go here if it were real data, right?</p>\n",
    "</div>\n",
    "\n",
    "Here are the descriptive statistics:"
   ]
  },
  {
   "cell_type": "code",
   "execution_count": 17,
   "metadata": {},
   "outputs": [
    {
     "data": {
      "text/plain": [
       "x2\n",
       "1    61\n",
       "0    39\n",
       "Name: count, dtype: int64"
      ]
     },
     "execution_count": 17,
     "metadata": {},
     "output_type": "execute_result"
    }
   ],
   "source": [
    "df.x2.value_counts()"
   ]
  },
  {
   "cell_type": "markdown",
   "metadata": {},
   "source": [
    "Two thirds of the data have $x_2$, whereas the other third does not.\n",
    "It's possible that $x_2$ explains the different patterns in both $y$ and $x_1$ as we know that $x_2$ influences both variables.\n",
    "\n",
    "\n",
    "<div style=\"background: lemonchiffon; margin:20px; padding: 20px;\">\n",
    "    <strong>Note</strong>\n",
    "    <p>Don't forget your questions and notes when working with real data.</p>\n",
    "</div>"
   ]
  },
  {
   "cell_type": "markdown",
   "metadata": {},
   "source": [
    "## Pairwise EDA\n",
    "\n",
    "### $y$ v. $x_1$\n",
    "\n",
    "We know from our domain knowledge that $x_1 - (+) \\longrightarrow y$.\n",
    "Let's see how strong that relationship is, based on correlation coefficients:"
   ]
  },
  {
   "cell_type": "code",
   "execution_count": 18,
   "metadata": {},
   "outputs": [
    {
     "name": "stdout",
     "output_type": "stream",
     "text": [
      "r   =  0.9319890664545462\n",
      "rho =  0.9339573957395738\n"
     ]
    }
   ],
   "source": [
    "print(\"r   = \", stats.pearsonr(df.y, df.x1)[0])\n",
    "print(\"rho = \", stats.spearmanr(df.y, df.x1)[0])"
   ]
  },
  {
   "cell_type": "markdown",
   "metadata": {},
   "source": [
    "Both Pearson's correlation coefficient, $r$ = 0.93, and Spearman's, $\\rho$ = 0.933, show a very strong correlation between $y$ and $x_1$.\n",
    "\n",
    "Here is a scatter plot:"
   ]
  },
  {
   "cell_type": "code",
   "execution_count": 19,
   "metadata": {
    "jupyter": {
     "source_hidden": true
    },
    "tags": []
   },
   "outputs": [
    {
     "data": {
      "image/png": "[encoded data removed]",
      "text/plain": [
       "<Figure size 1000x600 with 1 Axes>"
      ]
     },
     "metadata": {},
     "output_type": "display_data"
    }
   ],
   "source": [
    "figure = plt.figure(figsize=(10, 6))\n",
    "\n",
    "axes = figure.add_subplot(1, 1, 1)\n",
    "axes.scatter(df.x1, df.y, marker=\"o\", color=\"dimgray\")\n",
    "\n",
    "axes.set_ylabel(\"$y$\")\n",
    "axes.set_xlabel(\"$x_1$\")\n",
    "axes.set_title(\"Scatter Plot of $y$ vs. $x_1$\")\n",
    "\n",
    "plt.show()\n",
    "plt.close()"
   ]
  },
  {
   "cell_type": "markdown",
   "metadata": {},
   "source": [
    "Although the plot shows an overall linear relationship between the variables, the relationship gets less tight at low and high values of $x_1$."
   ]
  },
  {
   "cell_type": "markdown",
   "metadata": {},
   "source": [
    "#### $y$ v. $x_2$\n",
    "\n",
    "Based on domain knowledge, we believe that $x_2 - (+) \\longrightarrow y$.\n",
    "Therefore, we expect the mean of $y$ to be higher for $x_2=1$ than $x_2=0$."
   ]
  },
  {
   "cell_type": "code",
   "execution_count": 20,
   "metadata": {},
   "outputs": [
    {
     "name": "stdout",
     "output_type": "stream",
     "text": [
      "x2             0          1\n",
      "count  39.000000  61.000000\n",
      "mean   45.165771  48.157898\n",
      "std     5.286994   2.623129\n",
      "min    33.149453  41.286182\n",
      "25%    41.731414  46.738819\n",
      "50%    45.739733  48.722784\n",
      "75%    48.415287  49.805879\n",
      "max    55.466882  54.549418\n"
     ]
    }
   ],
   "source": [
    "describe_by_category(df, \"y\", \"x2\", transpose=True)"
   ]
  },
  {
   "cell_type": "markdown",
   "metadata": {},
   "source": [
    "The descriptive statistics show that the mean of $y$ where $x_2=1$ is 48.2 as compared to $x_2=0$, where the mean is 45.2, about three units less.\n",
    "\n",
    "Here are histograms for $y$ for the different values of $x_2$:"
   ]
  },
  {
   "cell_type": "code",
   "execution_count": 21,
   "metadata": {
    "jupyter": {
     "source_hidden": true
    },
    "tags": []
   },
   "outputs": [
    {
     "data": {
      "image/png": "[encoded data removed]",
      "text/plain": [
       "<Figure size 2000x600 with 2 Axes>"
      ]
     },
     "metadata": {},
     "output_type": "display_data"
    }
   ],
   "source": [
    "k, mn, mx = freeman_diaconis(df.y)\n",
    "bins = np.linspace(mn, mx, num=k)\n",
    "\n",
    "grouped = df.groupby(\"x2\")\n",
    "\n",
    "figure = plt.figure(figsize=(20, 6))\n",
    "\n",
    "axes = figure.add_subplot(1, 2, 1)\n",
    "\n",
    "observations = len(grouped[\"y\"].get_group(0))\n",
    "empirical_weights = np.ones(observations)/observations # this converts counts to relative frequencies when used in hist()\n",
    "\n",
    "axes.hist(grouped[\"y\"].get_group(0),bins=bins,color=\"dimgray\", weights=empirical_weights)\n",
    "axes.set_title(\"0/y distribution - Freeman Diaconis\")\n",
    "axes.set_xlabel(\"y\")\n",
    "axes.set_ylim((0,0.4))\n",
    "axes.set_ylabel(\"Relative Frequency\")\n",
    "\n",
    "observations = len(grouped[\"y\"].get_group(1))\n",
    "empirical_weights = np.ones(observations)/observations # this converts counts to relative frequencies when used in hist()\n",
    "\n",
    "axes = figure.add_subplot(1, 2, 2)\n",
    "axes.hist(grouped[\"y\"].get_group(1),bins=bins,color=\"dimgray\", weights=empirical_weights)\n",
    "axes.set_title(\"1/y distribution - Freeman Diaconis\")\n",
    "axes.set_xlabel(\"y\")\n",
    "axes.set_ylim((0,0.4))\n",
    "\n",
    "plt.show()\n",
    "plt.close()"
   ]
  },
  {
   "cell_type": "markdown",
   "metadata": {},
   "source": [
    "There's an interesting pattern here.\n",
    "When $x_2$=0, the variability of $y$ is much higher than if $x_2$=1."
   ]
  },
  {
   "cell_type": "markdown",
   "metadata": {},
   "source": [
    "#### $x_1$ v. $x_2$\n",
    "\n",
    "Our domain knowledge also suggests that $x_1$ and $x_2$ are negatively related, $x_2 - (-) \\longrightarrow x_1$.\n",
    "This could have ramifications for any modeling choices we make later, depending on the model.\n",
    "\n",
    "Here are the descriptive statistics by value of $x_2$:"
   ]
  },
  {
   "cell_type": "code",
   "execution_count": 22,
   "metadata": {},
   "outputs": [
    {
     "name": "stdout",
     "output_type": "stream",
     "text": [
      "x2             0          1\n",
      "count  39.000000  61.000000\n",
      "mean   46.698656  49.851302\n",
      "std     5.461209   4.674884\n",
      "min    33.519831  37.635428\n",
      "25%    42.623067  47.356506\n",
      "50%    46.620650  50.612176\n",
      "75%    49.914319  53.306928\n",
      "max    57.526509  59.517414\n"
     ]
    }
   ],
   "source": [
    "describe_by_category(df, \"x1\", \"x2\", transpose=True)"
   ]
  },
  {
   "cell_type": "markdown",
   "metadata": {},
   "source": [
    "The results suggest our domain knowledge might be wrong or improperly specified.\n",
    "When $x_2$ = 1, the mean of $x_1$ is higher (49.9) than when $x_2$=0, (46.7).\n",
    "We can also see that the variability of $x_1$ is larger when $x_2$=1 (5.5 v. 4.7).\n",
    "\n",
    "Here are the histograms by value of $x_2$:"
   ]
  },
  {
   "cell_type": "code",
   "execution_count": 23,
   "metadata": {
    "jupyter": {
     "source_hidden": true
    },
    "tags": []
   },
   "outputs": [
    {
     "data": {
      "image/png": "[encoded data removed]",
      "text/plain": [
       "<Figure size 2000x600 with 2 Axes>"
      ]
     },
     "metadata": {},
     "output_type": "display_data"
    }
   ],
   "source": [
    "k, mn, mx = freeman_diaconis(df.x1)\n",
    "bins = np.linspace(mn, mx, num=k)\n",
    "\n",
    "grouped = df.groupby(\"x2\")\n",
    "\n",
    "figure = plt.figure(figsize=(20, 6))\n",
    "\n",
    "axes = figure.add_subplot(1, 2, 1)\n",
    "\n",
    "observations = len(grouped[\"x1\"].get_group(0))\n",
    "empirical_weights = np.ones(observations)/observations # this converts counts to relative frequencies when used in hist()\n",
    "\n",
    "axes.hist(grouped[\"y\"].get_group(0),bins=bins,color=\"dimgray\", weights=empirical_weights)\n",
    "axes.set_title(\"0/x1 distribution - Freeman Diaconis\")\n",
    "axes.set_xlabel(\"x1\")\n",
    "axes.set_ylim((0,0.4))\n",
    "axes.set_ylabel(\"Relative Frequency\")\n",
    "\n",
    "observations = len(grouped[\"x1\"].get_group(1))\n",
    "empirical_weights = np.ones(observations)/observations # this converts counts to relative frequencies when used in hist()\n",
    "\n",
    "axes = figure.add_subplot(1, 2, 2)\n",
    "axes.hist(grouped[\"x1\"].get_group(1),bins=bins,color=\"dimgray\", weights=empirical_weights)\n",
    "axes.set_title(\"1/x1 distribution - Freeman Diaconis\")\n",
    "axes.set_xlabel(\"x1\")\n",
    "axes.set_ylim((0,0.4))\n",
    "\n",
    "plt.show()\n",
    "plt.close()"
   ]
  },
  {
   "cell_type": "markdown",
   "metadata": {},
   "source": [
    "We see the same pattern for $x_1$, given $x_2$, that we saw for $y$.\n",
    "When $x_2$ is 0, the variability of $x_1$ is larger than when when $x_2$ is 1.\n",
    "We can also see that the histogram has a higher peak when $x_2$ is 1.\n",
    "This could be an explanation for the patterns we saw in the detailed histograms for $y$ and $x_1$."
   ]
  },
  {
   "cell_type": "markdown",
   "metadata": {},
   "source": [
    "After conducting her EDA, she decided to create a Baseline or Null model for $y$.\n",
    "Based on the use case, she noted that over estimates and under estimates should be treated the same and large errors should be penalized more than small errors.\n",
    "\n",
    "**1. What function did she use to measure loss?**"
   ]
  },
  {
   "cell_type": "markdown",
   "metadata": {},
   "source": [
    "She would use the Mean Square Error (MSE) here as her loss function, since the mean, $\\bar{y}$ would be the best predictor to minimize the error."
   ]
  },
  {
   "cell_type": "markdown",
   "metadata": {},
   "source": [
    "**2. What constant/estimator minimizes that loss function?**"
   ]
  },
  {
   "cell_type": "markdown",
   "metadata": {},
   "source": [
    "The mean of $y$, $\\bar{y}$ is the estimator which minimizes the Mean Square Error loss function."
   ]
  },
  {
   "cell_type": "markdown",
   "metadata": {},
   "source": [
    "**3. Re-create her Baseline model, along with predictive/error bounds**"
   ]
  },
  {
   "cell_type": "markdown",
   "metadata": {},
   "source": [
    "The baseline model uses the mean, $\\bar{y}$ as the constant predictor."
   ]
  },
  {
   "cell_type": "code",
   "execution_count": 24,
   "metadata": {},
   "outputs": [
    {
     "data": {
      "text/plain": [
       "46.99096845797806"
      ]
     },
     "execution_count": 24,
     "metadata": {},
     "output_type": "execute_result"
    }
   ],
   "source": [
    "y_bar = np.mean(df['y'])\n",
    "y_bar"
   ]
  },
  {
   "cell_type": "markdown",
   "metadata": {},
   "source": [
    "Our mean, $\\bar{y}$, is 46.99, which becomes our constant prediction value."
   ]
  },
  {
   "cell_type": "markdown",
   "metadata": {},
   "source": [
    "In our EDA, we can see that $y$ doesn't appear to be roughly symmetric, and so to create our error bounds, we can use Chebyshev's Inequality. We can say that 75% of our data falls within $\\pm$ 2 standard deviations from the mean."
   ]
  },
  {
   "cell_type": "code",
   "execution_count": 25,
   "metadata": {},
   "outputs": [
    {
     "name": "stdout",
     "output_type": "stream",
     "text": [
      "(38.77385565653742, 55.208081259418705)\n"
     ]
    }
   ],
   "source": [
    "y_std = np.std(df['y'])\n",
    "lower = y_bar - (2 * y_std)\n",
    "upper = y_bar + (2 * y_std)\n",
    "print(f'({lower}, {upper})')"
   ]
  },
  {
   "cell_type": "markdown",
   "metadata": {},
   "source": [
    "So we know that 75% of our data falls between 38.77 and 55.21 "
   ]
  },
  {
   "cell_type": "code",
   "execution_count": 26,
   "metadata": {},
   "outputs": [],
   "source": [
    "import models\n",
    "from IPython.display import display, Latex"
   ]
  },
  {
   "cell_type": "markdown",
   "metadata": {},
   "source": [
    "**4. Model 1**\n",
    "\n",
    "Now you are going to help her build a linear regression for $y$.\n",
    "\n",
    "Build the model \"y ~ x1\" including credible intervals.\n",
    "Interpret all parameters including $\\sigma$ and $R^2$, where appropriate compare and contrast with the Null model.\n",
    "What interpretation of the coefficients did you use?"
   ]
  },
  {
   "cell_type": "code",
   "execution_count": 27,
   "metadata": {},
   "outputs": [
    {
     "data": {
      "text/html": [
       "<p><strong>Model: y ~ x1</strong><br/><table>\n",
       "<tbody>\n",
       "<tr><td><strong>Coefficients</strong</td><td>                      </td><td><strong>Value</strong</td></tr>\n",
       "<tr><td>                             </td><td>$\\beta_{0}$           </td><td>11.03                 </td></tr>\n",
       "<tr><td>x1                           </td><td>$\\beta_{1}$           </td><td>0.74                  </td></tr>\n",
       "<tr><td>                             </td><td>                      </td><td>                      </td></tr>\n",
       "<tr><td><strong>Metrics</strong     </td><td><strong>Value</strong</td><td>                      </td></tr>\n",
       "<tr><td>$\\sigma$                     </td><td>1.50                  </td><td>                      </td></tr>\n",
       "<tr><td>$R^2$                        </td><td>0.87                  </td><td>                      </td></tr>\n",
       "</tbody>\n",
       "</table></p>"
      ],
      "text/latex": [
       "\\textbf{Model: y $\\sim$ x1}\n",
       "\n",
       "\\begin{tabular}{lll}\n",
       "\\toprule\n",
       " \\textbf{Coefficients} &                & \\textbf{Value} \\\\\n",
       "                       & $\\beta_{0}$    & 11.03          \\\\\n",
       " x1                    & $\\beta_{1}$    & 0.74           \\\\\n",
       "                       &                &                \\\\\n",
       " \\textbf{Metrics}      & \\textbf{Value} &                \\\\\n",
       " $\\sigma$              & 1.50           &                \\\\\n",
       " $R^2$                 & 0.87           &                \\\\\n",
       "\\bottomrule\n",
       "\\end{tabular}"
      ],
      "text/markdown": [
       "Model: y ~ x1\n",
       "|------------------|-------------|-----------|\n",
       "| **Coefficients** |             | **Value** |\n",
       "|                  | $\\beta_{0}$ | 11.03     |\n",
       "| x1               | $\\beta_{1}$ | 0.74      |\n",
       "|                  |             |           |\n",
       "| **Metrics**      | **Value**   |           |\n",
       "| $\\sigma$         | 1.50        |           |\n",
       "| $R^2$            | 0.87        |           |"
      ],
      "text/plain": [
       "<models.ResultsWrapper at 0x1dbcc62e610>"
      ]
     },
     "execution_count": 27,
     "metadata": {},
     "output_type": "execute_result"
    }
   ],
   "source": [
    "results = models.linear_regression('y ~ x1', df)\n",
    "\n",
    "models.simple_describe_lr(results)"
   ]
  },
  {
   "cell_type": "markdown",
   "metadata": {},
   "source": [
    "Our intercept, $\\beta_{0}$ is 11.03 and our slope, $\\beta_{1}$ is 0.74. We can interpret $\\beta_{1}$ as the expected difference in _y_ between say _x1_ = 45 and _x1_ = 46, which in this case is 0.74. The intercept we will not worry about, as it doesn't seem relevant for now."
   ]
  },
  {
   "cell_type": "markdown",
   "metadata": {},
   "source": [
    "Our $\\sigma$ aka standard deviation is 1.50 and our $R^2$ is 0.87, which means our model explains about 87% of the variability in _y_, which is pretty good. "
   ]
  },
  {
   "cell_type": "markdown",
   "metadata": {},
   "source": [
    "Our model becomes $\\hat{y} = 11.03 + 0.74 * x1$"
   ]
  },
  {
   "cell_type": "markdown",
   "metadata": {},
   "source": [
    "Now we can find credible intervals for these coefficients by bootstrapping using this model, in order to find posterior distributions:"
   ]
  },
  {
   "cell_type": "code",
   "execution_count": 28,
   "metadata": {},
   "outputs": [
    {
     "data": {
      "text/html": [
       "<p><strong>Model: y ~ x1</strong><br/><table>\n",
       "<tbody>\n",
       "<tr><td>                             </td><td>                     </td><td>                     </td><td><strong>95% BCI</strong</td><td>                   </td></tr>\n",
       "<tr><td><strong>Coefficients</strong</td><td>                     </td><td><strong>Mean</strong</td><td><strong>Lo</strong     </td><td><strong>Hi</strong</td></tr>\n",
       "<tr><td>                             </td><td>$\\beta_{0}$          </td><td>11.03                </td><td>6.56                    </td><td>14.92              </td></tr>\n",
       "<tr><td>x1                           </td><td>$\\beta_{1}$          </td><td>0.74                 </td><td>0.66                    </td><td>0.83               </td></tr>\n",
       "<tr><td>                             </td><td>                     </td><td>                     </td><td>                        </td><td>                   </td></tr>\n",
       "<tr><td><strong>Metrics</strong     </td><td><strong>Mean</strong</td><td><strong>Lo</strong  </td><td><strong>Hi</strong     </td><td>                   </td></tr>\n",
       "<tr><td>$\\sigma$                     </td><td>1.50                 </td><td>1.26                 </td><td>1.65                    </td><td>                   </td></tr>\n",
       "<tr><td>$R^2$                        </td><td>0.87                 </td><td>0.83                 </td><td>0.91                    </td><td>                   </td></tr>\n",
       "</tbody>\n",
       "</table></p>"
      ],
      "text/latex": [
       "\\textbf{Model: y $\\sim$ x1}\n",
       "\n",
       "\\begin{tabular}{lllll}\n",
       "\\toprule\n",
       "                       &               &               & \\textbf{95\\% BCI} &             \\\\\n",
       " \\textbf{Coefficients} &               & \\textbf{Mean} & \\textbf{Lo}      & \\textbf{Hi} \\\\\n",
       "                       & $\\beta_{0}$   & 11.03         & 6.56             & 14.92       \\\\\n",
       " x1                    & $\\beta_{1}$   & 0.74          & 0.66             & 0.83        \\\\\n",
       "                       &               &               &                  &             \\\\\n",
       " \\textbf{Metrics}      & \\textbf{Mean} & \\textbf{Lo}   & \\textbf{Hi}      &             \\\\\n",
       " $\\sigma$              & 1.50          & 1.26          & 1.65             &             \\\\\n",
       " $R^2$                 & 0.87          & 0.83          & 0.91             &             \\\\\n",
       "\\bottomrule\n",
       "\\end{tabular}"
      ],
      "text/markdown": [
       "Model: y ~ x1\n",
       "|------------------|-------------|----------|-------------|--------|\n",
       "|                  |             |          | **95% BCI** |        |\n",
       "| **Coefficients** |             | **Mean** | **Lo**      | **Hi** |\n",
       "|                  | $\\beta_{0}$ | 11.03    | 6.56        | 14.92  |\n",
       "| x1               | $\\beta_{1}$ | 0.74     | 0.66        | 0.83   |\n",
       "|                  |             |          |             |        |\n",
       "| **Metrics**      | **Mean**    | **Lo**   | **Hi**      |        |\n",
       "| $\\sigma$         | 1.50        | 1.26     | 1.65        |        |\n",
       "| $R^2$            | 0.87        | 0.83     | 0.91        |        |"
      ],
      "text/plain": [
       "<models.ResultsWrapper at 0x1dbcb5afe50>"
      ]
     },
     "execution_count": 28,
     "metadata": {},
     "output_type": "execute_result"
    }
   ],
   "source": [
    "results_ci = models.bootstrap_linear_regression('y ~ x1', df)\n",
    "\n",
    "models.describe_bootstrap_lr(results_ci)"
   ]
  },
  {
   "cell_type": "markdown",
   "metadata": {},
   "source": [
    "Here we can see that we have 95% probability that our $\\beta_{0}$ is in the range $(7.57, 13.70)$. Similarly, $\\beta_{1}$ will have 95% chance to be between 0.69 and 0.81, and the same can be said for our metrics as well."
   ]
  },
  {
   "cell_type": "markdown",
   "metadata": {},
   "source": [
    "Comparing to the null model, remember that our error bounds for 75% of our data was 38.77 to 55.21. Note this range would not be too different had we chosen to call _y_ summetric, and use the standard $\\pm$ 1.96 for our 95% error bounds. Our regression model has a much tighter range than the baseline model."
   ]
  },
  {
   "cell_type": "markdown",
   "metadata": {},
   "source": [
    "**5. Write out the regression equation**"
   ]
  },
  {
   "cell_type": "markdown",
   "metadata": {},
   "source": [
    "Our equation for this model is $\\hat{y} = \\hat{\\beta_{0}} + \\hat{\\beta_{1}} * x1$"
   ]
  },
  {
   "cell_type": "markdown",
   "metadata": {},
   "source": [
    "With our estimated values for $\\beta_{0} = 11.03$ and $\\beta_{1} = 0.74$, we can say that our regression equation now becomes $\\hat{y} = 11.03 + 0.74 * x1$"
   ]
  },
  {
   "cell_type": "markdown",
   "metadata": {},
   "source": [
    "**6. Plot y v. x1 and the linear regression line**"
   ]
  },
  {
   "cell_type": "code",
   "execution_count": 29,
   "metadata": {},
   "outputs": [
    {
     "data": {
      "image/png": "[encoded data removed]",
      "text/plain": [
       "<Figure size 400x300 with 1 Axes>"
      ]
     },
     "metadata": {},
     "output_type": "display_data"
    }
   ],
   "source": [
    "figure = plt.figure(figsize=(4,3))\n",
    "\n",
    "axes = figure.add_subplot(1,1,1)\n",
    "axes.scatter(df['x1'], df['y'], color='dimgray')\n",
    "\n",
    "beta = results['coefficients']\n",
    "axes.plot(df['x1'], [beta[0] + beta[1] * x1 for x1 in df['x1']], '-', color='firebrick')\n",
    "\n",
    "axes.set_ylabel('y')\n",
    "axes.set_xlabel('x1')\n",
    "axes.set_title('Plot of y vs x1')\n",
    "\n",
    "plt.show()\n",
    "plt.close()"
   ]
  },
  {
   "cell_type": "markdown",
   "metadata": {},
   "source": [
    "Pretty good regression model as we saw from our $R^2$ value, we note a few fringe cases mostly towards the lower values of x1."
   ]
  },
  {
   "cell_type": "markdown",
   "metadata": {},
   "source": [
    "**7. Model 2**\n",
    "\n",
    "Build the model \"y ~ x1 + x2 + x1:x2\" including credible intervals. \n",
    "Interpret all parameters including $\\sigma$ and $R^2$, where appropriate compare and contrast with the Null model.\n",
    "What interpretation of the coefficients did you use?"
   ]
  },
  {
   "cell_type": "markdown",
   "metadata": {},
   "source": [
    "We go straight to looking at the bootstrap here, since the output will also include the coeffcients for our model."
   ]
  },
  {
   "cell_type": "code",
   "execution_count": 30,
   "metadata": {},
   "outputs": [
    {
     "data": {
      "text/html": [
       "<p><strong>Model: y ~ x1 + x2 + x1:x2</strong><br/><table>\n",
       "<tbody>\n",
       "<tr><td>                             </td><td>                     </td><td>                     </td><td><strong>95% BCI</strong</td><td>                   </td></tr>\n",
       "<tr><td><strong>Coefficients</strong</td><td>                     </td><td><strong>Mean</strong</td><td><strong>Lo</strong     </td><td><strong>Hi</strong</td></tr>\n",
       "<tr><td>                             </td><td>$\\beta_{0}$          </td><td>0.84                 </td><td>-0.80                   </td><td>3.36               </td></tr>\n",
       "<tr><td>x1                           </td><td>$\\beta_{1}$          </td><td>0.95                 </td><td>0.90                    </td><td>0.99               </td></tr>\n",
       "<tr><td>x2                           </td><td>$\\beta_{2}$          </td><td>21.38                </td><td>18.33                   </td><td>25.19              </td></tr>\n",
       "<tr><td>x1:x2                        </td><td>$\\beta_{3}$          </td><td>-0.43                </td><td>-0.50                   </td><td>-0.37              </td></tr>\n",
       "<tr><td>                             </td><td>                     </td><td>                     </td><td>                        </td><td>                   </td></tr>\n",
       "<tr><td><strong>Metrics</strong     </td><td><strong>Mean</strong</td><td><strong>Lo</strong  </td><td><strong>Hi</strong     </td><td>                   </td></tr>\n",
       "<tr><td>$\\sigma$                     </td><td>1.01                 </td><td>0.87                 </td><td>1.10                    </td><td>                   </td></tr>\n",
       "<tr><td>$R^2$                        </td><td>0.94                 </td><td>0.92                 </td><td>0.96                    </td><td>                   </td></tr>\n",
       "</tbody>\n",
       "</table></p>"
      ],
      "text/latex": [
       "\\textbf{Model: y $\\sim$ x1 + x2 + x1:x2}\n",
       "\n",
       "\\begin{tabular}{lllll}\n",
       "\\toprule\n",
       "                       &               &               & \\textbf{95\\% BCI} &             \\\\\n",
       " \\textbf{Coefficients} &               & \\textbf{Mean} & \\textbf{Lo}      & \\textbf{Hi} \\\\\n",
       "                       & $\\beta_{0}$   & 0.84          & -0.80            & 3.36        \\\\\n",
       " x1                    & $\\beta_{1}$   & 0.95          & 0.90             & 0.99        \\\\\n",
       " x2                    & $\\beta_{2}$   & 21.38         & 18.33            & 25.19       \\\\\n",
       " x1:x2                 & $\\beta_{3}$   & -0.43         & -0.50            & -0.37       \\\\\n",
       "                       &               &               &                  &             \\\\\n",
       " \\textbf{Metrics}      & \\textbf{Mean} & \\textbf{Lo}   & \\textbf{Hi}      &             \\\\\n",
       " $\\sigma$              & 1.01          & 0.87          & 1.10             &             \\\\\n",
       " $R^2$                 & 0.94          & 0.92          & 0.96             &             \\\\\n",
       "\\bottomrule\n",
       "\\end{tabular}"
      ],
      "text/markdown": [
       "Model: y ~ x1 + x2 + x1:x2\n",
       "|------------------|-------------|----------|-------------|--------|\n",
       "|                  |             |          | **95% BCI** |        |\n",
       "| **Coefficients** |             | **Mean** | **Lo**      | **Hi** |\n",
       "|                  | $\\beta_{0}$ | 0.84     | -0.80       | 3.36   |\n",
       "| x1               | $\\beta_{1}$ | 0.95     | 0.90        | 0.99   |\n",
       "| x2               | $\\beta_{2}$ | 21.38    | 18.33       | 25.19  |\n",
       "| x1:x2            | $\\beta_{3}$ | -0.43    | -0.50       | -0.37  |\n",
       "|                  |             |          |             |        |\n",
       "| **Metrics**      | **Mean**    | **Lo**   | **Hi**      |        |\n",
       "| $\\sigma$         | 1.01        | 0.87     | 1.10        |        |\n",
       "| $R^2$            | 0.94        | 0.92     | 0.96        |        |"
      ],
      "text/plain": [
       "<models.ResultsWrapper at 0x1dbcb6249d0>"
      ]
     },
     "execution_count": 30,
     "metadata": {},
     "output_type": "execute_result"
    }
   ],
   "source": [
    "results_ci_2 = models.bootstrap_linear_regression('y ~ x1 + x2 + x1:x2', df)\n",
    "\n",
    "models.describe_bootstrap_lr(results_ci_2)"
   ]
  },
  {
   "cell_type": "markdown",
   "metadata": {},
   "source": [
    " We technically have two different models here since _x2_ is binary categorical. When $x2 = 0$, our model becomes $\\hat{y} = \\beta_{0} + \\beta{1} * x1$, and when $x2 = 1$, we have $\\hat{y} = \\beta_{0} + \\beta_{1} * x1 + \\beta_{2} + \\beta_{3} * x1$ =  <br> $\\hat{y} = (\\beta_{0} + \\beta_{2}) + (\\beta_{1} + \\beta_{3}) * x1$"
   ]
  },
  {
   "cell_type": "markdown",
   "metadata": {},
   "source": [
    "Then our equations become <br><br>\n",
    "\n",
    "$\\hat{y} = 0.84 + 0.95 * x1$ and <br><br>\n",
    "$\\hat{y} = (0.84 + 21.38) + (0.84 -0.43) * x1 = 22.22 + 0.41 * x1$ "
   ]
  },
  {
   "cell_type": "markdown",
   "metadata": {},
   "source": [
    "For x2 = 0, our model starts low and increases at a rate of 1 to 1 for each point in x1. For our model where x2 = 1, we see that our base value starts much higher and increases only about half of our first model."
   ]
  },
  {
   "cell_type": "markdown",
   "metadata": {},
   "source": [
    "We can also look at our 4 coefficients, and note that $\\beta_{2}$ has a relatively large mean estimation, at 21.38, while the other 3 coefficients $\\beta_{0}$, $\\beta_{1}$, and $\\beta_{3}$ are much closer in values of 0.84, 0.95, and -0.43, respectively."
   ]
  },
  {
   "cell_type": "markdown",
   "metadata": {},
   "source": [
    "Our standard deviation is 1.01, and our $R^2$ can explain about 94% of the variability in our data, which seems good. Remember that adding coefficient terms to a model generally increases our $R^2$ value, so we could posssibly get away with removing some of these coefficients (but that's getting more into model adequacy and validation)."
   ]
  },
  {
   "cell_type": "markdown",
   "metadata": {},
   "source": [
    "Compared to the baseline model, it seems that $\\beta_{2}$ will have the largest effect on the slope, while our interaction terms has a slight negative effect."
   ]
  },
  {
   "cell_type": "markdown",
   "metadata": {},
   "source": [
    "**8. Write out the regression equations**"
   ]
  },
  {
   "cell_type": "markdown",
   "metadata": {},
   "source": [
    "Again we have two different models here since _x2_ is binary categorical. When $x2 = 0$, our model becomes $\\hat{y} = \\beta_{0} + \\beta{1} * x1$, and when $x2 = 1$, we have $\\hat{y} = \\beta_{0} + \\beta_{1} * x1 + \\beta_{2} + \\beta_{3} * x1$ =  <br> $\\hat{y} = (\\beta_{0} + \\beta_{2}) + (\\beta_{1} + \\beta_{3}) * x1$"
   ]
  },
  {
   "cell_type": "markdown",
   "metadata": {},
   "source": [
    "Then our equations become <br><br>\n",
    "\n",
    "$\\hat{y} = 0.84 + 0.95 * x1$ and <br><br>\n",
    "$\\hat{y} = (0.84 + 21.38) + (0.84 -0.43) * x1 = 22.22 + 0.41 * x1$ "
   ]
  },
  {
   "cell_type": "markdown",
   "metadata": {},
   "source": [
    "**9. Plot y v. x1, x2 and the regression lines**"
   ]
  },
  {
   "cell_type": "code",
   "execution_count": 31,
   "metadata": {},
   "outputs": [
    {
     "data": {
      "image/png": "[encoded data removed]",
      "text/plain": [
       "<Figure size 500x400 with 1 Axes>"
      ]
     },
     "metadata": {},
     "output_type": "display_data"
    }
   ],
   "source": [
    "figure = plt.figure(figsize=(5,4))\n",
    "\n",
    "axes = figure.add_subplot(1,1,1)\n",
    "axes.scatter(df['x1'], df['y'], color='dimgray')\n",
    "\n",
    "beta = results_ci_2['coefficients']\n",
    "axes.plot(df['x1'], [beta[0] + beta[1] * x1 for x1 in df['x1']], '-', color='midnightblue')\n",
    "axes.plot(df['x1'], [(beta[0] + beta[2]) + (beta[1] + beta[3]) * x1 for\n",
    "                        x1 in df['x1']], '-', color='firebrick')\n",
    "\n",
    "axes.set_ylabel('y')\n",
    "axes.set_xlabel('x1')\n",
    "axes.set_title('Plot of y vs x1, x2')\n",
    "\n",
    "plt.show()\n",
    "plt.close()"
   ]
  },
  {
   "cell_type": "markdown",
   "metadata": {},
   "source": [
    "Our plot is as expected, with the blue line being x2 = 0 in the model, and red line with x2 = 1. Our blue line starts lower and increases faster, as mentioned previously when we looked at the model coefficients."
   ]
  },
  {
   "cell_type": "markdown",
   "metadata": {},
   "source": [
    "### Side Quest\n",
    "\n",
    "**10. Model 3**\n",
    "\n",
    "Sam is interested in the relationship between $y$ and $x_2$.\n",
    "Build the model \"y ~ x2\" including credible intervals, interpret all parameters including $\\sigma$ and $R^2$, where appropriate compare and contrast with the EDA on $y$ v. $x_2$.\n",
    "How are the estimated parameters related to the descriptive statistics?"
   ]
  },
  {
   "cell_type": "code",
   "execution_count": 32,
   "metadata": {},
   "outputs": [
    {
     "data": {
      "text/html": [
       "<p><strong>Model: y ~ x2</strong><br/><table>\n",
       "<tbody>\n",
       "<tr><td>                             </td><td>                     </td><td>                     </td><td><strong>95% BCI</strong</td><td>                   </td></tr>\n",
       "<tr><td><strong>Coefficients</strong</td><td>                     </td><td><strong>Mean</strong</td><td><strong>Lo</strong     </td><td><strong>Hi</strong</td></tr>\n",
       "<tr><td>                             </td><td>$\\beta_{0}$          </td><td>45.17                </td><td>43.71                   </td><td>46.58              </td></tr>\n",
       "<tr><td>x2                           </td><td>$\\beta_{1}$          </td><td>2.99                 </td><td>1.50                    </td><td>4.52               </td></tr>\n",
       "<tr><td>                             </td><td>                     </td><td>                     </td><td>                        </td><td>                   </td></tr>\n",
       "<tr><td><strong>Metrics</strong     </td><td><strong>Mean</strong</td><td><strong>Lo</strong  </td><td><strong>Hi</strong     </td><td>                   </td></tr>\n",
       "<tr><td>$\\sigma$                     </td><td>3.88                 </td><td>3.10                 </td><td>4.40                    </td><td>                   </td></tr>\n",
       "<tr><td>$R^2$                        </td><td>0.13                 </td><td>0.03                 </td><td>0.28                    </td><td>                   </td></tr>\n",
       "</tbody>\n",
       "</table></p>"
      ],
      "text/latex": [
       "\\textbf{Model: y $\\sim$ x2}\n",
       "\n",
       "\\begin{tabular}{lllll}\n",
       "\\toprule\n",
       "                       &               &               & \\textbf{95\\% BCI} &             \\\\\n",
       " \\textbf{Coefficients} &               & \\textbf{Mean} & \\textbf{Lo}      & \\textbf{Hi} \\\\\n",
       "                       & $\\beta_{0}$   & 45.17         & 43.71            & 46.58       \\\\\n",
       " x2                    & $\\beta_{1}$   & 2.99          & 1.50             & 4.52        \\\\\n",
       "                       &               &               &                  &             \\\\\n",
       " \\textbf{Metrics}      & \\textbf{Mean} & \\textbf{Lo}   & \\textbf{Hi}      &             \\\\\n",
       " $\\sigma$              & 3.88          & 3.10          & 4.40             &             \\\\\n",
       " $R^2$                 & 0.13          & 0.03          & 0.28             &             \\\\\n",
       "\\bottomrule\n",
       "\\end{tabular}"
      ],
      "text/markdown": [
       "Model: y ~ x2\n",
       "|------------------|-------------|----------|-------------|--------|\n",
       "|                  |             |          | **95% BCI** |        |\n",
       "| **Coefficients** |             | **Mean** | **Lo**      | **Hi** |\n",
       "|                  | $\\beta_{0}$ | 45.17    | 43.71       | 46.58  |\n",
       "| x2               | $\\beta_{1}$ | 2.99     | 1.50        | 4.52   |\n",
       "|                  |             |          |             |        |\n",
       "| **Metrics**      | **Mean**    | **Lo**   | **Hi**      |        |\n",
       "| $\\sigma$         | 3.88        | 3.10     | 4.40        |        |\n",
       "| $R^2$            | 0.13        | 0.03     | 0.28        |        |"
      ],
      "text/plain": [
       "<models.ResultsWrapper at 0x1dbcd71af50>"
      ]
     },
     "execution_count": 32,
     "metadata": {},
     "output_type": "execute_result"
    }
   ],
   "source": [
    "results_ci = models.bootstrap_linear_regression('y ~ x2', df)\n",
    "\n",
    "models.describe_bootstrap_lr(results_ci)"
   ]
  },
  {
   "cell_type": "markdown",
   "metadata": {},
   "source": [
    "We see a mean for the intercept at 45.17, and a value of 2.99 for $\\beta_{1}$. Our $R^2$ is only 0.13, and standard deviation is 3.88, relatively high considering the mean of our slope."
   ]
  },
  {
   "cell_type": "markdown",
   "metadata": {},
   "source": [
    "We saw that the mean for _y_ was slightly lower given x2 = 0 compared to x2 = 1. The estimated parameters relate to the descriptive statistics by descrbing the change in values of the slope between x2 = 0 and x2 = 1."
   ]
  },
  {
   "cell_type": "markdown",
   "metadata": {},
   "source": [
    "**11. Non-Parametric Bootstrap**\n",
    "\n",
    "Estimate the posterior distribution of $y$ for the groups $x_2=0$ and $x_2=1$ as we did in Module 7.\n",
    "Estimate the 95% credible interval for the difference.\n",
    "Compare and constrast your results to Model 3 and Model 2."
   ]
  },
  {
   "cell_type": "code",
   "execution_count": 33,
   "metadata": {},
   "outputs": [],
   "source": [
    "def bootstrap_sample( data, f, n=1000):\n",
    "    result = []\n",
    "    m = len( data)\n",
    "    for _ in range( n):\n",
    "        sample = np.random.choice( data, len(data), replace=True)\n",
    "        r = f( sample)\n",
    "        result.append( r)\n",
    "    return np.array( result)"
   ]
  },
  {
   "cell_type": "markdown",
   "metadata": {},
   "source": [
    "For a binary feature, we know performing regression is equivalent to calculating the mean for each group, so we have two values for $\\bar{y}$, one when x2 = 0 and another when x2 = 1."
   ]
  },
  {
   "cell_type": "code",
   "execution_count": 34,
   "metadata": {},
   "outputs": [
    {
     "data": {
      "text/html": [
       "<div>\n",
       "<style scoped>\n",
       "    .dataframe tbody tr th:only-of-type {\n",
       "        vertical-align: middle;\n",
       "    }\n",
       "\n",
       "    .dataframe tbody tr th {\n",
       "        vertical-align: top;\n",
       "    }\n",
       "\n",
       "    .dataframe thead th {\n",
       "        text-align: right;\n",
       "    }\n",
       "</style>\n",
       "<table border=\"1\" class=\"dataframe\">\n",
       "  <thead>\n",
       "    <tr style=\"text-align: right;\">\n",
       "      <th></th>\n",
       "      <th>count</th>\n",
       "      <th>mean</th>\n",
       "      <th>std</th>\n",
       "      <th>min</th>\n",
       "      <th>25%</th>\n",
       "      <th>50%</th>\n",
       "      <th>75%</th>\n",
       "      <th>max</th>\n",
       "    </tr>\n",
       "    <tr>\n",
       "      <th>x2</th>\n",
       "      <th></th>\n",
       "      <th></th>\n",
       "      <th></th>\n",
       "      <th></th>\n",
       "      <th></th>\n",
       "      <th></th>\n",
       "      <th></th>\n",
       "      <th></th>\n",
       "    </tr>\n",
       "  </thead>\n",
       "  <tbody>\n",
       "    <tr>\n",
       "      <th>0</th>\n",
       "      <td>39.0</td>\n",
       "      <td>45.165771</td>\n",
       "      <td>5.286994</td>\n",
       "      <td>33.149453</td>\n",
       "      <td>41.731414</td>\n",
       "      <td>45.739733</td>\n",
       "      <td>48.415287</td>\n",
       "      <td>55.466882</td>\n",
       "    </tr>\n",
       "    <tr>\n",
       "      <th>1</th>\n",
       "      <td>61.0</td>\n",
       "      <td>48.157898</td>\n",
       "      <td>2.623129</td>\n",
       "      <td>41.286182</td>\n",
       "      <td>46.738819</td>\n",
       "      <td>48.722784</td>\n",
       "      <td>49.805879</td>\n",
       "      <td>54.549418</td>\n",
       "    </tr>\n",
       "  </tbody>\n",
       "</table>\n",
       "</div>"
      ],
      "text/plain": [
       "    count       mean       std        min        25%        50%        75%  \\\n",
       "x2                                                                           \n",
       "0    39.0  45.165771  5.286994  33.149453  41.731414  45.739733  48.415287   \n",
       "1    61.0  48.157898  2.623129  41.286182  46.738819  48.722784  49.805879   \n",
       "\n",
       "          max  \n",
       "x2             \n",
       "0   55.466882  \n",
       "1   54.549418  "
      ]
     },
     "execution_count": 34,
     "metadata": {},
     "output_type": "execute_result"
    }
   ],
   "source": [
    "grouped = df.groupby('x2')\n",
    "grouped['y'].describe()"
   ]
  },
  {
   "cell_type": "code",
   "execution_count": 35,
   "metadata": {},
   "outputs": [],
   "source": [
    "y1 = df[df['x2'] == 0]['y']\n",
    "y2 = df[df['x2'] == 1]['y']"
   ]
  },
  {
   "cell_type": "code",
   "execution_count": 36,
   "metadata": {},
   "outputs": [],
   "source": [
    "posterior_zero = bootstrap_sample(y1, np.mean, 1000)\n",
    "posterior_one = bootstrap_sample(y2, np.mean, 1000)\n",
    "difference = posterior_zero - posterior_one\n",
    "posteriors = [posterior_zero, posterior_one, difference]"
   ]
  },
  {
   "cell_type": "markdown",
   "metadata": {},
   "source": [
    "We can plot these posterior distributions:"
   ]
  },
  {
   "cell_type": "code",
   "execution_count": 37,
   "metadata": {},
   "outputs": [
    {
     "data": {
      "image/png": "[encoded data removed]",
      "text/plain": [
       "<Figure size 1000x600 with 3 Axes>"
      ]
     },
     "metadata": {},
     "output_type": "display_data"
    }
   ],
   "source": [
    "figure = plt.figure(figsize=(10, 6)) # first element is width, second is height.\n",
    "titles = ['x2 = 0', 'x2 = 1', 'Difference']\n",
    "\n",
    "for i,x in enumerate(posteriors):\n",
    "    axes = figure.add_subplot(2, 3, i + 1)\n",
    "    \n",
    "    axes.hist(x, density=True, color='dimgray')\n",
    "    axes.set_ylabel( \"Density\")\n",
    "    axes.set_xlabel( f\"theta_hat of {titles[i]}\")\n",
    "    axes.set_title( f\"Posteriors of theta_hat of {titles[i]}\")\n",
    "\n",
    "plt.show()\n",
    "plt.close()"
   ]
  },
  {
   "cell_type": "markdown",
   "metadata": {},
   "source": [
    "We see the posterior of x2 = 1 slightly higher than when x2 = 0, similar to what we saw in our pairwise EDA. The difference is centered around -3, which makes sense since we said x2 = 1 was about 3 points higher than x2 = 0."
   ]
  },
  {
   "cell_type": "markdown",
   "metadata": {},
   "source": [
    "The 95% credible interval for the difference is:"
   ]
  },
  {
   "cell_type": "code",
   "execution_count": 38,
   "metadata": {},
   "outputs": [
    {
     "data": {
      "text/plain": [
       "array([-4.70151669, -1.21988655])"
      ]
     },
     "execution_count": 38,
     "metadata": {},
     "output_type": "execute_result"
    }
   ],
   "source": [
    "stats.mstats.mquantiles(difference, [0.025, 0.975])"
   ]
  },
  {
   "cell_type": "markdown",
   "metadata": {},
   "source": [
    "We have 95% chance that our difference will be between -4.70 to -1.22, for the difference in x2 = 0 minus x2 = 1."
   ]
  },
  {
   "cell_type": "markdown",
   "metadata": {},
   "source": [
    "Model 2 includes the x1 term, and so model 2 has a higher $R^2$ value. Our model 3 intercept starts much higher, and has a higher standard deviation compared to model 2. I would think model 2 would be preferred in this case."
   ]
  }
 ],
 "metadata": {
  "jupytext": {
   "formats": "ipynb,md:myst"
  },
  "kernelspec": {
   "display_name": "Python (en685648)",
   "language": "python",
   "name": "en685648"
  },
  "language_info": {
   "codemirror_mode": {
    "name": "ipython",
    "version": 3
   },
   "file_extension": ".py",
   "mimetype": "text/x-python",
   "name": "python",
   "nbconvert_exporter": "python",
   "pygments_lexer": "ipython3",
   "version": "3.11.7"
  },
  "toc": {
   "colors": {
    "hover_highlight": "#DAA520",
    "navigate_num": "#000000",
    "navigate_text": "#333333",
    "running_highlight": "#FF0000",
    "selected_highlight": "#FFD700",
    "sidebar_border": "#EEEEEE",
    "wrapper_background": "#FFFFFF"
   },
   "moveMenuLeft": true,
   "nav_menu": {
    "height": "171px",
    "width": "252px"
   },
   "navigate_menu": true,
   "number_sections": true,
   "sideBar": true,
   "threshold": 4,
   "toc_cell": false,
   "toc_section_display": "block",
   "toc_window_display": false,
   "widenNotebook": false
  }
 },
 "nbformat": 4,
 "nbformat_minor": 4
}
