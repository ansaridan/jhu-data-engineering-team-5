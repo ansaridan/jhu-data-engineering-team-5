{
 "cells": [
  {
   "cell_type": "code",
   "execution_count": 1,
   "metadata": {
    "colab": {},
    "colab_type": "code",
    "id": "sEoeCQMC_CQd"
   },
   "outputs": [],
   "source": [
    "%matplotlib inline"
   ]
  },
  {
   "cell_type": "code",
   "execution_count": 2,
   "metadata": {
    "colab": {},
    "colab_type": "code",
    "id": "6bYohDRI_CQo"
   },
   "outputs": [],
   "source": [
    "import numpy as np\n",
    "import time\n",
    "import seaborn as sns\n",
    "import matplotlib.pyplot as plt\n",
    "import scipy.stats as stats\n",
    "import pandas as pd\n",
    "pd.options.mode.chained_assignment = None #default = 'warn'\n",
    "\n",
    "sns.set(style=\"whitegrid\")\n",
    "\n",
    "# You may load the dataset from URL (instead of the local file) if you wish\n",
    "auto_mpg_data = \"https://raw.githubusercontent.com/fundamentals-of-data-science/datasets/master/auto-mpg.data.txt\"\n",
    "auto_mpg_names = \"https://raw.githubusercontent.com/fundamentals-of-data-science/datasets/master/auto-mpg.names.txt\""
   ]
  },
  {
   "cell_type": "markdown",
   "metadata": {
    "colab_type": "text",
    "id": "ZsABfrDu_CQz"
   },
   "source": [
    "# Problem Set 5.1\n",
    "\n",
    "This Problem Set is a two parter. In the first part you will apply ETL/EDA/Mathematical Modeling (Labs 5 and 6) to a new data set.\n",
    "Each part is a separate grade.\n",
    "Take all your PS3 comments into account.\n",
    "\n",
    "## Directions\n",
    "\n",
    "1. Show all work/steps/calculations using a combination of code and Markdown.\n",
    "2. **All** work is to be your own. This is not a group project. You may, however, use code from the lectures and labs. Provide citations for any code that is not your own. You may also consult Stackoverflow, etc. This is not by any means \"closed book\" or anything like that. Basically, I need to see if *you* learned the concepts from the Lectures, *Fundamentals*, and Labs.\n",
    "3. Add whatever markdown or code cells you need in each part to explain and calculate your answers. Don't just provide answers but explain them as well. **Explain and interpret your results.**\n",
    "\n",
    "\n",
    "<div style=\"background: lemonchiffon; margin:20px; padding: 20px;\">\n",
    "    <strong>Note</strong>\n",
    "    <p>This part of the Problem Set covers Labs 5 and 6. You get even less help this time. You should just know what to do.</p>\n",
    "    <p>Additionally, this is a <em>report</em>, a narrative description of your process and findings. Use full sentences. Limit bullet lists. You should be able to \"hide code\" and have the remaining text make sense.</p></div>"
   ]
  },
  {
   "cell_type": "markdown",
   "metadata": {
    "colab_type": "text",
    "id": "FofBSkjuFtTZ"
   },
   "source": [
    "## 1.1 - ETL"
   ]
  },
  {
   "cell_type": "markdown",
   "metadata": {
    "colab_type": "text",
    "id": "J_R3teL9Fv0S"
   },
   "source": [
    "Let's first start by taking a look at the data and names files we've read in. Since these are text files, I'm going to manually take a quick peek at these files."
   ]
  },
  {
   "cell_type": "markdown",
   "metadata": {},
   "source": [
    "From our names file, we have our attribute information for our data.\n",
    "\n",
    "```\n",
    "Description of fields in auto mpg data.\n",
    "\n",
    "Name            Data Type\n",
    "----            ---------\n",
    "mpg             continuous\n",
    "cylinders       multi-valued discrete\n",
    "displacement    continuous\n",
    "horsepower      continuous\n",
    "weight          continuous\n",
    "acceleration    continuous\n",
    "model year      multi-valued discrete\n",
    "origin          multi-valued discrete\n",
    "car name        string (unique for each instance)\n",
    "```"
   ]
  },
  {
   "cell_type": "markdown",
   "metadata": {},
   "source": [
    "So we have 9 different variables in this dataset (most appear to be numeric). We know from our names file that there should be 398 instances/observations, and the $horsepower$ variable has 6 missing values."
   ]
  },
  {
   "cell_type": "markdown",
   "metadata": {},
   "source": [
    "We will cover these in more detail during the EDA process. For now let's try reading in the data. "
   ]
  },
  {
   "cell_type": "code",
   "execution_count": 3,
   "metadata": {},
   "outputs": [
    {
     "data": {
      "text/plain": [
       "'https://raw.githubusercontent.com/fundamentals-of-data-science/datasets/master/auto-mpg.data.txt'"
      ]
     },
     "execution_count": 3,
     "metadata": {},
     "output_type": "execute_result"
    }
   ],
   "source": [
    "auto_mpg_data"
   ]
  },
  {
   "cell_type": "markdown",
   "metadata": {},
   "source": [
    "This is indeed a text file with some data in it. Our first step should be getting our data into tidy data. Since there is an inconsistent amount of whitespace between each entry for any particular observation, we can tell our `pd.read_csv()` method to consider any whitespace between a value as a separator. (I initially used the `delim_whitespace=True` parameter, though that seems to be depreciated in favor of `\\s+` now)."
   ]
  },
  {
   "cell_type": "markdown",
   "metadata": {},
   "source": [
    "Since there are no headers in this text file, I will manually add the columns to our dataframe, using the description that we found above in our names file."
   ]
  },
  {
   "cell_type": "code",
   "execution_count": 4,
   "metadata": {},
   "outputs": [],
   "source": [
    "columns = [\n",
    "    'mpg', \n",
    "    'cylinders', \n",
    "    'displacement', \n",
    "    'horsepower',\n",
    "    'weight', \n",
    "    'acceleration', \n",
    "    'model year',\n",
    "    'origin', \n",
    "    'car name'\n",
    "]\n",
    "\n",
    "data = pd.read_csv(auto_mpg_data, sep='\\s+', header=None, names=columns)"
   ]
  },
  {
   "cell_type": "markdown",
   "metadata": {},
   "source": [
    "We'll check the first few entries to make sure our data has been read in properly."
   ]
  },
  {
   "cell_type": "code",
   "execution_count": 5,
   "metadata": {},
   "outputs": [
    {
     "data": {
      "text/html": [
       "<div>\n",
       "<style scoped>\n",
       "    .dataframe tbody tr th:only-of-type {\n",
       "        vertical-align: middle;\n",
       "    }\n",
       "\n",
       "    .dataframe tbody tr th {\n",
       "        vertical-align: top;\n",
       "    }\n",
       "\n",
       "    .dataframe thead th {\n",
       "        text-align: right;\n",
       "    }\n",
       "</style>\n",
       "<table border=\"1\" class=\"dataframe\">\n",
       "  <thead>\n",
       "    <tr style=\"text-align: right;\">\n",
       "      <th></th>\n",
       "      <th>mpg</th>\n",
       "      <th>cylinders</th>\n",
       "      <th>displacement</th>\n",
       "      <th>horsepower</th>\n",
       "      <th>weight</th>\n",
       "      <th>acceleration</th>\n",
       "      <th>model year</th>\n",
       "      <th>origin</th>\n",
       "      <th>car name</th>\n",
       "    </tr>\n",
       "  </thead>\n",
       "  <tbody>\n",
       "    <tr>\n",
       "      <th>0</th>\n",
       "      <td>18.0</td>\n",
       "      <td>8</td>\n",
       "      <td>307.0</td>\n",
       "      <td>130.0</td>\n",
       "      <td>3504.0</td>\n",
       "      <td>12.0</td>\n",
       "      <td>70</td>\n",
       "      <td>1</td>\n",
       "      <td>chevrolet chevelle malibu</td>\n",
       "    </tr>\n",
       "    <tr>\n",
       "      <th>1</th>\n",
       "      <td>15.0</td>\n",
       "      <td>8</td>\n",
       "      <td>350.0</td>\n",
       "      <td>165.0</td>\n",
       "      <td>3693.0</td>\n",
       "      <td>11.5</td>\n",
       "      <td>70</td>\n",
       "      <td>1</td>\n",
       "      <td>buick skylark 320</td>\n",
       "    </tr>\n",
       "    <tr>\n",
       "      <th>2</th>\n",
       "      <td>18.0</td>\n",
       "      <td>8</td>\n",
       "      <td>318.0</td>\n",
       "      <td>150.0</td>\n",
       "      <td>3436.0</td>\n",
       "      <td>11.0</td>\n",
       "      <td>70</td>\n",
       "      <td>1</td>\n",
       "      <td>plymouth satellite</td>\n",
       "    </tr>\n",
       "    <tr>\n",
       "      <th>3</th>\n",
       "      <td>16.0</td>\n",
       "      <td>8</td>\n",
       "      <td>304.0</td>\n",
       "      <td>150.0</td>\n",
       "      <td>3433.0</td>\n",
       "      <td>12.0</td>\n",
       "      <td>70</td>\n",
       "      <td>1</td>\n",
       "      <td>amc rebel sst</td>\n",
       "    </tr>\n",
       "    <tr>\n",
       "      <th>4</th>\n",
       "      <td>17.0</td>\n",
       "      <td>8</td>\n",
       "      <td>302.0</td>\n",
       "      <td>140.0</td>\n",
       "      <td>3449.0</td>\n",
       "      <td>10.5</td>\n",
       "      <td>70</td>\n",
       "      <td>1</td>\n",
       "      <td>ford torino</td>\n",
       "    </tr>\n",
       "  </tbody>\n",
       "</table>\n",
       "</div>"
      ],
      "text/plain": [
       "    mpg  cylinders  displacement horsepower  weight  acceleration  model year  \\\n",
       "0  18.0          8         307.0      130.0  3504.0          12.0          70   \n",
       "1  15.0          8         350.0      165.0  3693.0          11.5          70   \n",
       "2  18.0          8         318.0      150.0  3436.0          11.0          70   \n",
       "3  16.0          8         304.0      150.0  3433.0          12.0          70   \n",
       "4  17.0          8         302.0      140.0  3449.0          10.5          70   \n",
       "\n",
       "   origin                   car name  \n",
       "0       1  chevrolet chevelle malibu  \n",
       "1       1          buick skylark 320  \n",
       "2       1         plymouth satellite  \n",
       "3       1              amc rebel sst  \n",
       "4       1                ford torino  "
      ]
     },
     "execution_count": 5,
     "metadata": {},
     "output_type": "execute_result"
    }
   ],
   "source": [
    "data.head()"
   ]
  },
  {
   "cell_type": "markdown",
   "metadata": {},
   "source": [
    "Looks like we got most of what we need. We have 9 columns to represent each feature/attribute. We can also look at the information provided here with the `info()` method."
   ]
  },
  {
   "cell_type": "code",
   "execution_count": 6,
   "metadata": {},
   "outputs": [
    {
     "name": "stdout",
     "output_type": "stream",
     "text": [
      "<class 'pandas.core.frame.DataFrame'>\n",
      "RangeIndex: 398 entries, 0 to 397\n",
      "Data columns (total 9 columns):\n",
      " #   Column        Non-Null Count  Dtype  \n",
      "---  ------        --------------  -----  \n",
      " 0   mpg           398 non-null    float64\n",
      " 1   cylinders     398 non-null    int64  \n",
      " 2   displacement  398 non-null    float64\n",
      " 3   horsepower    398 non-null    object \n",
      " 4   weight        398 non-null    float64\n",
      " 5   acceleration  398 non-null    float64\n",
      " 6   model year    398 non-null    int64  \n",
      " 7   origin        398 non-null    int64  \n",
      " 8   car name      398 non-null    object \n",
      "dtypes: float64(4), int64(3), object(2)\n",
      "memory usage: 28.1+ KB\n"
     ]
    }
   ],
   "source": [
    "data.info()"
   ]
  },
  {
   "cell_type": "markdown",
   "metadata": {},
   "source": [
    "We do in fact see 398 rows for each attribute. Most variables are floats or integers, with the exceptions of $horsepower$ and $car name$, the latter which we expect to be strings, so this is not unexpected. But we know $horsepower$ has 6 missing values somewhere. How should we handle this? I'm going to simply look at our observations first, where $horsepower$ does not have a value (from peeking at the data text file, I know the missing values are coded as a '?')."
   ]
  },
  {
   "cell_type": "code",
   "execution_count": 7,
   "metadata": {},
   "outputs": [
    {
     "data": {
      "text/html": [
       "<div>\n",
       "<style scoped>\n",
       "    .dataframe tbody tr th:only-of-type {\n",
       "        vertical-align: middle;\n",
       "    }\n",
       "\n",
       "    .dataframe tbody tr th {\n",
       "        vertical-align: top;\n",
       "    }\n",
       "\n",
       "    .dataframe thead th {\n",
       "        text-align: right;\n",
       "    }\n",
       "</style>\n",
       "<table border=\"1\" class=\"dataframe\">\n",
       "  <thead>\n",
       "    <tr style=\"text-align: right;\">\n",
       "      <th></th>\n",
       "      <th>mpg</th>\n",
       "      <th>cylinders</th>\n",
       "      <th>displacement</th>\n",
       "      <th>horsepower</th>\n",
       "      <th>weight</th>\n",
       "      <th>acceleration</th>\n",
       "      <th>model year</th>\n",
       "      <th>origin</th>\n",
       "      <th>car name</th>\n",
       "    </tr>\n",
       "  </thead>\n",
       "  <tbody>\n",
       "    <tr>\n",
       "      <th>32</th>\n",
       "      <td>25.0</td>\n",
       "      <td>4</td>\n",
       "      <td>98.0</td>\n",
       "      <td>?</td>\n",
       "      <td>2046.0</td>\n",
       "      <td>19.0</td>\n",
       "      <td>71</td>\n",
       "      <td>1</td>\n",
       "      <td>ford pinto</td>\n",
       "    </tr>\n",
       "    <tr>\n",
       "      <th>126</th>\n",
       "      <td>21.0</td>\n",
       "      <td>6</td>\n",
       "      <td>200.0</td>\n",
       "      <td>?</td>\n",
       "      <td>2875.0</td>\n",
       "      <td>17.0</td>\n",
       "      <td>74</td>\n",
       "      <td>1</td>\n",
       "      <td>ford maverick</td>\n",
       "    </tr>\n",
       "    <tr>\n",
       "      <th>330</th>\n",
       "      <td>40.9</td>\n",
       "      <td>4</td>\n",
       "      <td>85.0</td>\n",
       "      <td>?</td>\n",
       "      <td>1835.0</td>\n",
       "      <td>17.3</td>\n",
       "      <td>80</td>\n",
       "      <td>2</td>\n",
       "      <td>renault lecar deluxe</td>\n",
       "    </tr>\n",
       "    <tr>\n",
       "      <th>336</th>\n",
       "      <td>23.6</td>\n",
       "      <td>4</td>\n",
       "      <td>140.0</td>\n",
       "      <td>?</td>\n",
       "      <td>2905.0</td>\n",
       "      <td>14.3</td>\n",
       "      <td>80</td>\n",
       "      <td>1</td>\n",
       "      <td>ford mustang cobra</td>\n",
       "    </tr>\n",
       "    <tr>\n",
       "      <th>354</th>\n",
       "      <td>34.5</td>\n",
       "      <td>4</td>\n",
       "      <td>100.0</td>\n",
       "      <td>?</td>\n",
       "      <td>2320.0</td>\n",
       "      <td>15.8</td>\n",
       "      <td>81</td>\n",
       "      <td>2</td>\n",
       "      <td>renault 18i</td>\n",
       "    </tr>\n",
       "    <tr>\n",
       "      <th>374</th>\n",
       "      <td>23.0</td>\n",
       "      <td>4</td>\n",
       "      <td>151.0</td>\n",
       "      <td>?</td>\n",
       "      <td>3035.0</td>\n",
       "      <td>20.5</td>\n",
       "      <td>82</td>\n",
       "      <td>1</td>\n",
       "      <td>amc concord dl</td>\n",
       "    </tr>\n",
       "  </tbody>\n",
       "</table>\n",
       "</div>"
      ],
      "text/plain": [
       "      mpg  cylinders  displacement horsepower  weight  acceleration  \\\n",
       "32   25.0          4          98.0          ?  2046.0          19.0   \n",
       "126  21.0          6         200.0          ?  2875.0          17.0   \n",
       "330  40.9          4          85.0          ?  1835.0          17.3   \n",
       "336  23.6          4         140.0          ?  2905.0          14.3   \n",
       "354  34.5          4         100.0          ?  2320.0          15.8   \n",
       "374  23.0          4         151.0          ?  3035.0          20.5   \n",
       "\n",
       "     model year  origin              car name  \n",
       "32           71       1            ford pinto  \n",
       "126          74       1         ford maverick  \n",
       "330          80       2  renault lecar deluxe  \n",
       "336          80       1    ford mustang cobra  \n",
       "354          81       2           renault 18i  \n",
       "374          82       1        amc concord dl  "
      ]
     },
     "execution_count": 7,
     "metadata": {},
     "output_type": "execute_result"
    }
   ],
   "source": [
    "data[data['horsepower'] == '?']"
   ]
  },
  {
   "cell_type": "markdown",
   "metadata": {},
   "source": [
    "We do in fact only have 6 observations here. Because that's only (6/398) = 0.015, or about 1.5% of our data, I will consider imputation for these 6 values with the median of $horsepower$. Note I'm choosing to use median instead of the mean since the median is a more robust statistic. This should not create inliers or other data abnormalities such as loss of variation since there are only a small number of missing values. We might turn to some domain knowledge to think about whether our median is a good estimate for these missing values."
   ]
  },
  {
   "cell_type": "markdown",
   "metadata": {},
   "source": [
    "[Average Horsepower of a Car Over the Years](https://carbuzz.com/features/average-horsepower-of-a-car-over-the-years/)"
   ]
  },
  {
   "cell_type": "markdown",
   "metadata": {},
   "source": [
    "In this article, we get different ranges for the average horsepower of cars in the United States, mostly broken down by decade. To summarize, the 50s started out with an average of about 100 horsepower, and only went up to about 120hp by the 80s. Later decades saw a bit of increase, where the average could be considered closer to 175hp or so, but this might at least give us an idea if we're on the mark with imputing our missing values."
   ]
  },
  {
   "cell_type": "markdown",
   "metadata": {},
   "source": [
    "I know this is kind of blending into the EDA portion a bit, so I will just replace the missing values with our median here, and as long as we have our tidy data, we can start the EDA process and go more in depth with horsepower in the next section."
   ]
  },
  {
   "cell_type": "markdown",
   "metadata": {},
   "source": [
    "We need to select all the other 392 rows that don't include the 6 missing values in order to get the median for $horsepower$."
   ]
  },
  {
   "cell_type": "code",
   "execution_count": 8,
   "metadata": {},
   "outputs": [],
   "source": [
    "data_no_missing = data[data['horsepower'] != '?']"
   ]
  },
  {
   "cell_type": "markdown",
   "metadata": {},
   "source": [
    "Since the $horsepower$ variable was a mix of strings and floats, it caused all the values to become strings. We fix this below so we can perform the numpy operations on this column."
   ]
  },
  {
   "cell_type": "code",
   "execution_count": 9,
   "metadata": {},
   "outputs": [],
   "source": [
    "data_no_missing['horsepower'] = data_no_missing['horsepower'].astype('float64')"
   ]
  },
  {
   "cell_type": "markdown",
   "metadata": {},
   "source": [
    "Here we can finally find the median of $horsepower$ without the missing values. "
   ]
  },
  {
   "cell_type": "code",
   "execution_count": 10,
   "metadata": {},
   "outputs": [
    {
     "data": {
      "text/plain": [
       "93.5"
      ]
     },
     "execution_count": 10,
     "metadata": {},
     "output_type": "execute_result"
    }
   ],
   "source": [
    "np.median(data_no_missing['horsepower'])"
   ]
  },
  {
   "cell_type": "markdown",
   "metadata": {},
   "source": [
    "It's 93.5, which seems like a reasonable guess for our missing values, if not slightly on the low side, remembering that we theorized average car horsepowers range between 100-200, very roughly. (Again, we could also look at the median model years for the cars to get a better rough estimate, but I think that's getting too much into the EDA portion of things)."
   ]
  },
  {
   "cell_type": "markdown",
   "metadata": {},
   "source": [
    "Finally, we can replace our missing values with our median of 93.5 and convert the column into a float type to prepare for our EDA."
   ]
  },
  {
   "cell_type": "code",
   "execution_count": 11,
   "metadata": {},
   "outputs": [],
   "source": [
    "data = data.replace('?', '93.5')\n",
    "data['horsepower'] = data['horsepower'].astype('float64')"
   ]
  },
  {
   "cell_type": "code",
   "execution_count": 12,
   "metadata": {},
   "outputs": [
    {
     "name": "stdout",
     "output_type": "stream",
     "text": [
      "<class 'pandas.core.frame.DataFrame'>\n",
      "RangeIndex: 398 entries, 0 to 397\n",
      "Data columns (total 9 columns):\n",
      " #   Column        Non-Null Count  Dtype  \n",
      "---  ------        --------------  -----  \n",
      " 0   mpg           398 non-null    float64\n",
      " 1   cylinders     398 non-null    int64  \n",
      " 2   displacement  398 non-null    float64\n",
      " 3   horsepower    398 non-null    float64\n",
      " 4   weight        398 non-null    float64\n",
      " 5   acceleration  398 non-null    float64\n",
      " 6   model year    398 non-null    int64  \n",
      " 7   origin        398 non-null    int64  \n",
      " 8   car name      398 non-null    object \n",
      "dtypes: float64(5), int64(3), object(1)\n",
      "memory usage: 28.1+ KB\n"
     ]
    }
   ],
   "source": [
    "data.info()"
   ]
  },
  {
   "cell_type": "markdown",
   "metadata": {},
   "source": [
    "We can see that our $horsepower$ variable is now a float64 type instead of object like it was originally. We are ready to move on to EDA now."
   ]
  },
  {
   "cell_type": "markdown",
   "metadata": {
    "colab_type": "text",
    "id": "FPDyEaJOFwIo"
   },
   "source": [
    "## 1.2 - EDA\n"
   ]
  },
  {
   "cell_type": "markdown",
   "metadata": {
    "colab_type": "text",
    "id": "x7aocAadFy6f"
   },
   "source": [
    "For our EDA, we'll start with single variable EDA and just go down the list, followed by pairwise EDA with our target variable ($mpg$). First up for single variable EDA is $mpg$."
   ]
  },
  {
   "cell_type": "markdown",
   "metadata": {},
   "source": [
    "Before we start, we might guess as to how each variable could affect $mpg$ similar to a causal loop diagram. I don't want to focus on the diagram here, but I'll list out some relationships that might be important, based on my own domain knowledge."
   ]
  },
  {
   "cell_type": "markdown",
   "metadata": {},
   "source": [
    "<ul>\n",
    "    <li>cylinders -> (-) mpg: more cylinders generally means higher fuel usage and thus less efficient mpg.\n",
    "    <li>horsepower -> (-) mpg: similar to cylinders, higher horsepower generally means more fuel usage, so we might expect cars with high horsepower to have lower values of mpg.\n",
    "    <li>cylinders -> (+) horsepower: on that note, more cylinders typically means more power/horsepower, so we would expect a positive relationship here.\n",
    "    <li>model year -> (+) mpg: newer cars typically have better mileage than older ones.\n",
    "<ul>"
   ]
  },
  {
   "cell_type": "markdown",
   "metadata": {},
   "source": [
    "Of course there are more relationships that are unexplored here, but I think this is enough to get us started. Note I am copying the `freeman_diaconis`, `histogram_w_whiskers`, and `histogram_trio` functions from the `eda.py` file for use below."
   ]
  },
  {
   "cell_type": "code",
   "execution_count": 13,
   "metadata": {},
   "outputs": [],
   "source": [
    "def freeman_diaconis(data):\n",
    "    quartiles = stats.mstats.mquantiles( data, [0.25, 0.5, 0.75])\n",
    "    iqr = quartiles[2] - quartiles[ 0]\n",
    "    n = len( data)\n",
    "    h = 2.0 * (iqr/n**(1.0/3.0))\n",
    "    #error handling for int rounding down to 0\n",
    "    if h < 1:\n",
    "        return 1\n",
    "    return int( h)"
   ]
  },
  {
   "cell_type": "code",
   "execution_count": 14,
   "metadata": {},
   "outputs": [],
   "source": [
    "def histogram_w_whiskers(data, variable_name, zoom=None):\n",
    "    h = freeman_diaconis(data[variable_name])\n",
    "    mn = int(data[variable_name].min())\n",
    "    mx = int(data[variable_name].max())\n",
    "    bins = [i for i in range( mn, mx, h)]\n",
    "    print(f\"Freeman Diaconis for {variable_name}: {len(bins)} bins\")\n",
    "\n",
    "    observations = len(data)\n",
    "    empirical_weights = np.ones(observations)/observations # this converts counts to relative frequencies when used in hist()\n",
    "        \n",
    "    # start the plot: 2 rows, because we want the boxplot on the first row\n",
    "    # and the hist on the second\n",
    "    fig, ax = plt.subplots(\n",
    "        2, figsize=(7, 5), sharex=True,\n",
    "        gridspec_kw={\"height_ratios\": (.7, .3)}  # the boxplot gets 30% of the vertical space\n",
    "    )\n",
    "\n",
    "    # the histogram\n",
    "    ax[0].hist(data[variable_name],bins=bins, color=\"dimgray\", weights=empirical_weights)\n",
    "    ax[0].set_title(f\"{variable_name} distribution - Freeman Diaconis\")\n",
    "    ax[0].set_ylabel(\"Relative Frequency\")\n",
    "    if zoom:\n",
    "        ax[0].set_ylim((0, zoom))\n",
    "    # the box plot\n",
    "    ax[1].boxplot(data[variable_name], vert=False)\n",
    "    # removing borders\n",
    "    ax[1].spines['top'].set_visible(False)\n",
    "    ax[1].spines['right'].set_visible(False)\n",
    "    ax[1].spines['left'].set_visible(False)\n",
    "    ax[1].set_xlabel(variable_name)\n",
    "\n",
    "    # and we are good to go\n",
    "    plt.show()\n",
    "    plt.close()\n",
    "    return h"
   ]
  },
  {
   "cell_type": "code",
   "execution_count": 15,
   "metadata": {},
   "outputs": [],
   "source": [
    "def histogram_trio(data, variable_name, zoom=1.0):\n",
    "    h = freeman_diaconis(data[variable_name])\n",
    "    mn = int(data[variable_name].min())\n",
    "    mx = int(data[variable_name].max())\n",
    "    bins = [i for i in range( mn, mx, h)]\n",
    "    print(f\"Freeman Diaconis for {variable_name}: {len(bins)} bins\")\n",
    "\n",
    "    observations = len(data)\n",
    "    empirical_weights = np.ones(observations)/observations # this converts counts to relative frequencies when used in hist()\n",
    "\n",
    "    fig, ax = plt.subplots(1, 3, figsize=(20, 6), sharey=True)\n",
    "\n",
    "    fewer_bins = int(len(bins) * .50)\n",
    "    more_bins = int(len(bins) * 2)\n",
    "\n",
    "    n, bins, patches = ax[1].hist(data[variable_name], color=\"DimGray\", bins=bins, weights=empirical_weights) # <---\n",
    "    ax[1].set_xlabel(variable_name)\n",
    "    ax[1].set_ylabel(\"Relative Frequency\")\n",
    "    ax[1].set_title(f\"Relative Frequency Histogram of {variable_name}\")\n",
    "    ax[1].set_ylim((0, zoom))\n",
    "    \n",
    "    n, bins, patches = ax[0].hist(data[variable_name], color=\"DimGray\", bins=fewer_bins, weights=empirical_weights)\n",
    "    ax[0].set_xlabel(variable_name)\n",
    "    ax[0].set_ylabel(\"Relative Frequency\")\n",
    "    ax[0].set_title(f\"Relative Frequency Histogram of {variable_name} (Fewer Bins)\")\n",
    "    \n",
    "    n, bins, patches = ax[2].hist(data[variable_name], color=\"DimGray\", bins=more_bins, weights=empirical_weights)\n",
    "    ax[2].set_xlabel(variable_name)\n",
    "    ax[2].set_ylabel(\"Relative Frequency\")\n",
    "    ax[2].set_title(f\"Relative Frequency Histogram of {variable_name} (More Bins)\")\n",
    "\n",
    "    plt.show()\n",
    "    plt.close()"
   ]
  },
  {
   "cell_type": "markdown",
   "metadata": {},
   "source": [
    "### $Miles \\ Per \\ Gallon \\ (MPG)$"
   ]
  },
  {
   "cell_type": "markdown",
   "metadata": {},
   "source": [
    "$mpg$ is our target variable. As such, we will see a lot relationships between mpg and the others during our pairwise analysis. This is a numeric variable and as such, we can find descriptive statistics for it. Typical fuel economy of cars can range from 10 mpg for larger cars like SUVs to about 30 mpg for more mid-sized cars. My car, which is considered more fuel efficient, gets closer to 30 mpg, so I imagine that's a bit higher than average.\n",
    "\n",
    "[Fuel Economy in Automobiles](https://en.wikipedia.org/wiki/Fuel_economy_in_automobiles#:~:text=An%20average%20North%20American%20mid,L%2F100%20km)"
   ]
  },
  {
   "cell_type": "code",
   "execution_count": 16,
   "metadata": {},
   "outputs": [
    {
     "data": {
      "text/plain": [
       "count    398.000000\n",
       "mean      23.514573\n",
       "std        7.815984\n",
       "min        9.000000\n",
       "25%       17.500000\n",
       "50%       23.000000\n",
       "75%       29.000000\n",
       "max       46.600000\n",
       "Name: mpg, dtype: float64"
      ]
     },
     "execution_count": 16,
     "metadata": {},
     "output_type": "execute_result"
    }
   ],
   "source": [
    "data['mpg'].describe()"
   ]
  },
  {
   "cell_type": "markdown",
   "metadata": {},
   "source": [
    "We have an average of about 23.5, with a standard deviation of 7.8, fairly relatively large. The min is 9 while the max is a whopping 46.6. As the 3rd quartile is only 29, we would expect the max to be an outlier. The median is 23. As such, we expect to see a fairly symmetric histogram being so close to the mean."
   ]
  },
  {
   "cell_type": "markdown",
   "metadata": {},
   "source": [
    "Let's create a histogram and boxplot to visualize the data."
   ]
  },
  {
   "cell_type": "code",
   "execution_count": 17,
   "metadata": {},
   "outputs": [
    {
     "name": "stdout",
     "output_type": "stream",
     "text": [
      "Freeman Diaconis for mpg: 13 bins\n"
     ]
    },
    {
     "data": {
      "image/png": "[encoded data removed]",
      "text/plain": [
       "<Figure size 700x500 with 2 Axes>"
      ]
     },
     "metadata": {},
     "output_type": "display_data"
    },
    {
     "data": {
      "text/plain": [
       "3"
      ]
     },
     "execution_count": 17,
     "metadata": {},
     "output_type": "execute_result"
    }
   ],
   "source": [
    "histogram_w_whiskers(data, 'mpg')"
   ]
  },
  {
   "cell_type": "markdown",
   "metadata": {},
   "source": [
    "Looks like the tiniest bit of right skew, though otherwise symmetric as we predicted. We do see the max as an extreme value on the boxplot with whiskers, while it seems that most values are contained within the 'whiskers' (Q1 - 1.5 x IQR, Q3 + 1.5 x IQR). We can also try changing the bin size of the histogram to see if any patterns emerge, but I predict we won't see anything too unusual."
   ]
  },
  {
   "cell_type": "code",
   "execution_count": 20,
   "metadata": {},
   "outputs": [
    {
     "name": "stdout",
     "output_type": "stream",
     "text": [
      "Freeman Diaconis for mpg: 13 bins\n"
     ]
    },
    {
     "data": {
      "image/png": "[encoded data removed]",
      "text/plain": [
       "<Figure size 2000x600 with 3 Axes>"
      ]
     },
     "metadata": {},
     "output_type": "display_data"
    }
   ],
   "source": [
    "histogram_trio(data, 'mpg', zoom=0.5)"
   ]
  },
  {
   "cell_type": "markdown",
   "metadata": {},
   "source": [
    "There seems to be a bit of a drop off as we go from about 12-13 down to 11 or so, which is a bit more evident with more bins. Other than that, we see almost a cyclic pattern with the more bins, which I wonder if it's simply because it is too many bins for this variable (remember that the range is not that large)."
   ]
  },
  {
   "cell_type": "markdown",
   "metadata": {},
   "source": [
    "Since this is our target I won't spend too much time with takeaways here, but maybe there is another factor that explains the cyclic pattern in the histogram with more bins."
   ]
  },
  {
   "cell_type": "markdown",
   "metadata": {},
   "source": [
    "### $Cylinders$"
   ]
  },
  {
   "cell_type": "markdown",
   "metadata": {},
   "source": [
    "Now we look at cylinders. This represents how many cylinders the car's enginer has. This is also a numeric variable, though it is discrete, not continuous. I believe the most common cylinder types are 4 and 6, so I expect to see a large frequency of those values. As mentioned above, typically more cylinders leads to increased fuel usage and thus less efficient gas mileage. Here are the summary statistics:"
   ]
  },
  {
   "cell_type": "code",
   "execution_count": 21,
   "metadata": {},
   "outputs": [
    {
     "data": {
      "text/plain": [
       "count    398.000000\n",
       "mean       5.454774\n",
       "std        1.701004\n",
       "min        3.000000\n",
       "25%        4.000000\n",
       "50%        4.000000\n",
       "75%        8.000000\n",
       "max        8.000000\n",
       "Name: cylinders, dtype: float64"
      ]
     },
     "execution_count": 21,
     "metadata": {},
     "output_type": "execute_result"
    }
   ],
   "source": [
    "data['cylinders'].describe()"
   ]
  },
  {
   "cell_type": "markdown",
   "metadata": {},
   "source": [
    "We see a mean of 5.45 and standard deviation of 1.7. The 3rd quartile and the max are both 8, while the 1st quartile and median are both 4. Let's look at the value counts to see how many different values for $cylinders$ we actually have."
   ]
  },
  {
   "cell_type": "code",
   "execution_count": 23,
   "metadata": {},
   "outputs": [
    {
     "data": {
      "text/plain": [
       "cylinders\n",
       "3      4\n",
       "4    204\n",
       "5      3\n",
       "6     84\n",
       "8    103\n",
       "Name: count, dtype: int64"
      ]
     },
     "execution_count": 23,
     "metadata": {},
     "output_type": "execute_result"
    }
   ],
   "source": [
    "data['cylinders'].value_counts().sort_index()"
   ]
  },
  {
   "cell_type": "markdown",
   "metadata": {},
   "source": [
    "The most common cylinder type is 4, while the second most is 8, by about half. 6 is not too far behind in third, and then only a few results for 3 and 5 cylinders."
   ]
  },
  {
   "cell_type": "markdown",
   "metadata": {},
   "source": [
    "Because this variable only has a few possibilities and is also a count variable, I'm going to treat this as an ordered categorical variable for charts (I don't think it makes sense for a histogram here, for example.) Apparently there are some cars that do have 3 and 5 cylinder engines, so we should still consider those valid entries."
   ]
  },
  {
   "cell_type": "code",
   "execution_count": 40,
   "metadata": {},
   "outputs": [
    {
     "data": {
      "image/png": "[encoded data removed]",
      "text/plain": [
       "<Figure size 640x480 with 1 Axes>"
      ]
     },
     "metadata": {},
     "output_type": "display_data"
    }
   ],
   "source": [
    "counts = data['cylinders'].value_counts().sort_index()\n",
    "proportions = data['cylinders'].value_counts(normalize=True).sort_index()\n",
    "x = sorted(data['cylinders'].unique())\n",
    "\n",
    "plt.bar(x, proportions, color='dimgray')\n",
    "plt.ylim((0, 1))\n",
    "plt.grid(axis='x')\n",
    "\n",
    "plt.xlabel('Cylinders')\n",
    "plt.ylabel('Proportion')\n",
    "plt.title('Relative Frequency of Cylinders')\n",
    "\n",
    "plt.show()\n",
    "plt.close()\n"
   ]
  },
  {
   "cell_type": "markdown",
   "metadata": {},
   "source": [
    "Nothing unusual here - just a visualization of the value count results we found above. It is clear that 4 is the most common cylinder type, about half of the data consistents of 4 cylinder cars. 8 and 6 cylinders are a bit less common around 25 and 20 percent, respectively, and again only a few values for 3 and 5 cylinders."
   ]
  },
  {
   "cell_type": "markdown",
   "metadata": {},
   "source": [
    "1. More cylinders typically corresponds to higher power, so we suspect an increase in cylinders leads to an increase in horsepower\n",
    "\n",
    "2. This horsepower increase leads to lower fuel mileage, so we might see similar patterns between $cylinders$ and $mpg$ as we do between $horsepower$ and $mpg$ for pairwise analysis"
   ]
  },
  {
   "cell_type": "markdown",
   "metadata": {},
   "source": [
    "### $Displacement$"
   ]
  },
  {
   "cell_type": "markdown",
   "metadata": {},
   "source": [
    "Next we have displacement, which is commonly used as an expression of an engine's size. It could also be indicative of power, though these days it's common for car manufacturer's to downsize engines and use powerboosters and other pieces to provide higher horsepower for a car's output.\n",
    "\n",
    "[Engine Displacement](https://en.wikipedia.org/wiki/Engine_displacement) <br>\n",
    "[What is Engine Displacement and Why Does it Matter?](https://www.capitalone.com/cars/learn/finding-the-right-car/what-is-engine-displacement-and-does-it-matter/2055)\n",
    "\n",
    "From our domain knowledge, there is actually an equation to calculate displacement, which is dependent on cylinders:\n",
    "\n",
    "$Displacement = stroke \\ length * \\pi (\\frac{bore}{2})^2 * cylinders$\n",
    "\n",
    "Where:\n",
    "```\n",
    "stroke length = cylinder height\n",
    "bore = diameter of the hole drilled into engine block to accept a piston\n",
    "cylinder = number of cylinders\n",
    "```\n",
    "\n",
    "\n"
   ]
  },
  {
   "cell_type": "markdown",
   "metadata": {},
   "source": [
    "$Displacement$ is a continuous numeric variable, so we can look at some summary statistics. We expect higher displacement values to correspond to higher horsepower and more fuel consumption, and this lower mileage."
   ]
  },
  {
   "cell_type": "code",
   "execution_count": 41,
   "metadata": {},
   "outputs": [
    {
     "data": {
      "text/plain": [
       "count    398.000000\n",
       "mean     193.425879\n",
       "std      104.269838\n",
       "min       68.000000\n",
       "25%      104.250000\n",
       "50%      148.500000\n",
       "75%      262.000000\n",
       "max      455.000000\n",
       "Name: displacement, dtype: float64"
      ]
     },
     "execution_count": 41,
     "metadata": {},
     "output_type": "execute_result"
    }
   ],
   "source": [
    "data['displacement'].describe()"
   ]
  },
  {
   "cell_type": "markdown",
   "metadata": {},
   "source": [
    "We see a mean of 193.4, but a median of only 148.5, indicating a right skew in the data. The standard deviation is large at 104.3. The min of 68 to the 1st quartile of 104.3 and 1st quartile to median are pretty evenly spaced. The median to 3rd quartile of 262 and 3rd quartile to max of 455 are not so much. We should expect to see a lot of large values in the histogram."
   ]
  },
  {
   "cell_type": "code",
   "execution_count": 42,
   "metadata": {},
   "outputs": [
    {
     "name": "stdout",
     "output_type": "stream",
     "text": [
      "Freeman Diaconis for displacement: 9 bins\n"
     ]
    },
    {
     "data": {
      "image/png": "[encoded data removed]",
      "text/plain": [
       "<Figure size 700x500 with 2 Axes>"
      ]
     },
     "metadata": {},
     "output_type": "display_data"
    },
    {
     "data": {
      "text/plain": [
       "43"
      ]
     },
     "execution_count": 42,
     "metadata": {},
     "output_type": "execute_result"
    }
   ],
   "source": [
    "histogram_w_whiskers(data, 'displacement')"
   ]
  },
  {
   "cell_type": "markdown",
   "metadata": {},
   "source": [
    "Because the interquartile range is so large, the boxplot does not show any extreme values. We do in fact see a strongly right skewed histogram, though the most common values seem to lie below the median. Let's try a histogram trio to see if changing bin size shows any interesting properties."
   ]
  },
  {
   "cell_type": "code",
   "execution_count": 43,
   "metadata": {},
   "outputs": [
    {
     "name": "stdout",
     "output_type": "stream",
     "text": [
      "Freeman Diaconis for displacement: 9 bins\n"
     ]
    },
    {
     "data": {
      "image/png": "[encoded data removed]",
      "text/plain": [
       "<Figure size 2000x600 with 3 Axes>"
      ]
     },
     "metadata": {},
     "output_type": "display_data"
    }
   ],
   "source": [
    "histogram_trio(data, 'displacement')"
   ]
  },
  {
   "cell_type": "markdown",
   "metadata": {},
   "source": [
    "With more bins we see sort of a 'jumping' pattern - no values for certain ranges between some of the larger values, for example 250-300."
   ]
  },
  {
   "cell_type": "markdown",
   "metadata": {},
   "source": [
    "1. As mentioned, displacement is dependent on cylinders, which we know only have a few discrete values, so there are other factors to consider that we have no data for.\n",
    "\n",
    "2. While this variable is continuous, we have to remember that auto makers likely have certain standards of quality control and tolerances for their manufacturing processes, so similar cars could have similar values of $displacement$."
   ]
  },
  {
   "cell_type": "markdown",
   "metadata": {},
   "source": [
    "### $Horsepower$"
   ]
  },
  {
   "cell_type": "markdown",
   "metadata": {},
   "source": [
    "Here we have horsepower, which basically describes how much rapidly a car's enginer can work / work output. According to this article:\n",
    "\n",
    "[What is the Average Horsepower of a Car?](https://www.jdpower.com/cars/shopping-guides/what-is-the-average-horsepower-of-a-car)\n",
    "\n",
    "The average horsepower for standard vehicles lies in the range of 180-200 horsepower. Whereas smaller cars might have closer to 100 horsepower, larger automobiles could see this as high as 300."
   ]
  },
  {
   "cell_type": "markdown",
   "metadata": {},
   "source": [
    "Like $displacement$, this is a continuous numeric variable, and so we can look at the summary statisticss. We expect most of the values to lie between 100-300, but apparently some engines can get up to 1,200 or so horsepower."
   ]
  },
  {
   "cell_type": "code",
   "execution_count": 44,
   "metadata": {},
   "outputs": [
    {
     "data": {
      "text/plain": [
       "count    398.000000\n",
       "mean     104.304020\n",
       "std       38.222625\n",
       "min       46.000000\n",
       "25%       76.000000\n",
       "50%       93.500000\n",
       "75%      125.000000\n",
       "max      230.000000\n",
       "Name: horsepower, dtype: float64"
      ]
     },
     "execution_count": 44,
     "metadata": {},
     "output_type": "execute_result"
    }
   ],
   "source": [
    "data['horsepower'].describe()"
   ]
  },
  {
   "cell_type": "markdown",
   "metadata": {},
   "source": [
    "The mean is 104 with a slightly lower median of 93.5 (which we knew from our ETL). The standard deviation is a good chunk of change at 38. The min is 46, and the max 230, a bit lower than we predicted. The 3rd quartile is only 125, so we might expect the max to be an extreme value for this dataset."
   ]
  },
  {
   "cell_type": "markdown",
   "metadata": {},
   "source": [
    "Let's look at a histogram and boxplot. We expect the histogram to show a right skew since median is less than the mean."
   ]
  },
  {
   "cell_type": "code",
   "execution_count": 45,
   "metadata": {},
   "outputs": [
    {
     "name": "stdout",
     "output_type": "stream",
     "text": [
      "Freeman Diaconis for horsepower: 15 bins\n"
     ]
    },
    {
     "data": {
      "image/png": "[encoded data removed]",
      "text/plain": [
       "<Figure size 700x500 with 2 Axes>"
      ]
     },
     "metadata": {},
     "output_type": "display_data"
    },
    {
     "data": {
      "text/plain": [
       "13"
      ]
     },
     "execution_count": 45,
     "metadata": {},
     "output_type": "execute_result"
    }
   ],
   "source": [
    "histogram_w_whiskers(data, 'horsepower')"
   ]
  },
  {
   "cell_type": "markdown",
   "metadata": {},
   "source": [
    "We do see a right skewed histogram, with several extreme values between 200 and the max of 230. Let's also check different bin sizes of the histogram"
   ]
  },
  {
   "cell_type": "code",
   "execution_count": 46,
   "metadata": {},
   "outputs": [
    {
     "name": "stdout",
     "output_type": "stream",
     "text": [
      "Freeman Diaconis for horsepower: 15 bins\n"
     ]
    },
    {
     "data": {
      "image/png": "[encoded data removed]",
      "text/plain": [
       "<Figure size 2000x600 with 3 Axes>"
      ]
     },
     "metadata": {},
     "output_type": "display_data"
    }
   ],
   "source": [
    "histogram_trio(data, 'horsepower')"
   ]
  },
  {
   "cell_type": "markdown",
   "metadata": {},
   "source": [
    "I don't see any unusual patterns emerging here. I think each of these histograms tells the same story."
   ]
  },
  {
   "cell_type": "markdown",
   "metadata": {},
   "source": [
    "1. From our pseudo causal loop diagram, we expect $horsepower$ and $mpg$ to be negatively correlated.\n",
    "\n",
    "2. $Horsepower$ and $cylinders$ are likely to be positively correlated. Both intend to increase fuel consumption and might lead to lower $mpg$."
   ]
  },
  {
   "cell_type": "markdown",
   "metadata": {
    "colab_type": "text",
    "id": "6_0fFpfg_Yeq"
   },
   "source": [
    "## 1.3 - Null & Distributional Models"
   ]
  },
  {
   "cell_type": "markdown",
   "metadata": {
    "colab_type": "text",
    "id": "k36lbHlqF9BJ"
   },
   "source": []
  },
  {
   "cell_type": "markdown",
   "metadata": {
    "colab_type": "text",
    "id": "Zeo-_jQWGDuN"
   },
   "source": [
    "---\n",
    "\n",
    "**PRE-SUBMISSION CHECK LIST**\n",
    "\n",
    "Before you submit this assignent, go back and review the directions to ensure that you have followed each instruction.\n",
    "\n",
    "* [ ] Have you completed every section and answered every question asked?\n",
    "* [ ] For every question, have you described your approach and explained your results?\n",
    "* [ ] Have you checked for spelling and grammar errors?\n",
    "* [ ] Are your code blocks free of any errors?\n",
    "* [ ] Have you deleted unused code or markdown blocks? Removed scratch calculations? Excessive raw data print outs?\n",
    "* [ ] Hide all the code/output cells and make sure that you have sufficient discussion. Re-show the output cells but leave code cells hidden.\n",
    "* [ ] Have you *SAVED* your notebook?\n",
    "* [ ] Are you following the submission requirements for this particular assignment?"
   ]
  }
 ],
 "metadata": {
  "colab": {
   "collapsed_sections": [],
   "name": "Problem Set 5.ipynb",
   "provenance": [],
   "toc_visible": true
  },
  "kernelspec": {
   "display_name": "Python (en685648)",
   "language": "python",
   "name": "en685648"
  },
  "language_info": {
   "codemirror_mode": {
    "name": "ipython",
    "version": 3
   },
   "file_extension": ".py",
   "mimetype": "text/x-python",
   "name": "python",
   "nbconvert_exporter": "python",
   "pygments_lexer": "ipython3",
   "version": "3.11.7"
  },
  "toc": {
   "colors": {
    "hover_highlight": "#DAA520",
    "navigate_num": "#000000",
    "navigate_text": "#333333",
    "running_highlight": "#FF0000",
    "selected_highlight": "#FFD700",
    "sidebar_border": "#EEEEEE",
    "wrapper_background": "#FFFFFF"
   },
   "moveMenuLeft": true,
   "nav_menu": {
    "height": "66px",
    "width": "252px"
   },
   "navigate_menu": true,
   "number_sections": true,
   "sideBar": true,
   "threshold": 4,
   "toc_cell": false,
   "toc_section_display": "block",
   "toc_window_display": false,
   "widenNotebook": false
  }
 },
 "nbformat": 4,
 "nbformat_minor": 4
}
