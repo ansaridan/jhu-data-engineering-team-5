{
 "cells": [
  {
   "cell_type": "code",
   "execution_count": 1,
   "metadata": {
    "colab": {},
    "colab_type": "code",
    "id": "sEoeCQMC_CQd"
   },
   "outputs": [],
   "source": [
    "%matplotlib inline"
   ]
  },
  {
   "cell_type": "code",
   "execution_count": 2,
   "metadata": {
    "colab": {},
    "colab_type": "code",
    "id": "6bYohDRI_CQo"
   },
   "outputs": [],
   "source": [
    "import numpy as np\n",
    "import time\n",
    "import seaborn as sns\n",
    "import matplotlib.pyplot as plt\n",
    "import scipy.stats as stats\n",
    "import pandas as pd\n",
    "\n",
    "sns.set(style=\"whitegrid\")\n",
    "\n",
    "# You may load the dataset from URL (instead of the local file) if you wish\n",
    "auto_mpg_data = \"https://raw.githubusercontent.com/fundamentals-of-data-science/datasets/master/auto-mpg.data.txt\"\n",
    "auto_mpg_names = \"https://raw.githubusercontent.com/fundamentals-of-data-science/datasets/master/auto-mpg.names.txt\""
   ]
  },
  {
   "cell_type": "markdown",
   "metadata": {
    "colab_type": "text",
    "id": "ZsABfrDu_CQz"
   },
   "source": [
    "# Problem Set 5.2\n",
    "\n",
    "\n",
    "This is the second part of the Problem Set. In this part you will apply Linear Regression and Model Evaluation to a same data set as Part 1.\n",
    "Each part is a separate grade.\n",
    "\n",
    "\n",
    "## Directions\n",
    "\n",
    "1. Show all work/steps/calculations using a combination of code and Markdown. You will submit only this notebook named: [jhed_id].ipynb back to Blackboard from whence you downloaded it. Do not return the data to me.\n",
    "2. **All** work is to be your own. This is not a group project. You may, however, use code from the lectures and labs. Provide citations for any code that is not your own. You may also consult Stackoverflow, etc. This is not by any means \"closed book\" or anything like that. Basically, I need to see if *you* learned the concepts from the Lectures, *Fundamentals*, and Labs.\n",
    "3. Add whatever markdown or code cells you need in each part to explain and calculate your answers. Don't just provide answers but explain them as well. **Explain and interpret your results.**\n",
    "\n",
    "\n",
    "<div style=\"background: lemonchiffon; margin:20px; padding: 20px;\">\n",
    "    <strong>Note</strong>\n",
    "    <p>This part of the Problem Set covers Labs 9, 10, and 11 (and the corresponding course materials). However, principles covered in previous modules are still relevant (visualization, probability, etc.).</p>\n",
    "    <p>Additionally, this is a <em>report</em>, a narrative description of your process and findings. Use full sentences. Limit bullet lists. You should be able to \"hide code\" and have the remaining text make sense.</p></div>\n"
   ]
  },
  {
   "cell_type": "markdown",
   "metadata": {
    "colab_type": "text",
    "id": "L2mS7Nag_CQz"
   },
   "source": [
    "## Introduction\n",
    "\n",
    "Labs 9, 10, and 11 were all about linear models, specifically linear and logistic regression, and evaluation. We learned how to build and interpret multivariate models by using domain knowledge, comparing the predicted and actual values of the coefficients and the credible intervals, and looking at residuals. We also applied transformations to make the models perform better and increase interpretability. However, please remember all previous modules are in affect. For example, you should use all our rules for visualization. ETL involves only data acquisition and *cleaning*.\n",
    "\n",
    "Using the techniques covered during Modules 9 and 10 (lectures, labs, course notes), **build, describe, and use** a linear regression model that estimates the target variable `mpg` for the accompanying auto data set. Again, Module 11's content is probably relevant.\n",
    "\n",
    "Do **not** use any feature selection techniques or anything other than linear regression. **Follow the method described in class.**\n",
    "\n",
    "The instructions say **build**, **describe**, and **use**. You must describe all aspects of your final model (all the parameters and metrics) and use it to make three predictions as described in the course notes."
   ]
  },
  {
   "cell_type": "markdown",
   "metadata": {
    "colab_type": "text",
    "id": "FofBSkjuFtTZ"
   },
   "source": [
    "## 1.1 - ETL\n",
    "\n",
    "* Copy from Part 1"
   ]
  },
  {
   "cell_type": "markdown",
   "metadata": {},
   "source": [
    "Let's first start by taking a look at the data and names files we've read in. Since these are text files, I'm going to manually take a quick peek at these files."
   ]
  },
  {
   "cell_type": "markdown",
   "metadata": {},
   "source": [
    "From our names file, we have our attribute information for our data.\n",
    "\n",
    "```\n",
    "Description of fields in auto mpg data.\n",
    "\n",
    "Name            Data Type\n",
    "----            ---------\n",
    "mpg             continuous\n",
    "cylinders       multi-valued discrete\n",
    "displacement    continuous\n",
    "horsepower      continuous\n",
    "weight          continuous\n",
    "acceleration    continuous\n",
    "model year      multi-valued discrete\n",
    "origin          multi-valued discrete\n",
    "car name        string (unique for each instance)\n",
    "```"
   ]
  },
  {
   "cell_type": "markdown",
   "metadata": {},
   "source": [
    "So we have 9 different variables in this dataset (most appear to be numeric). We know from our names file that there should be 398 instances/observations, and the $horsepower$ variable has 6 missing values."
   ]
  },
  {
   "cell_type": "markdown",
   "metadata": {},
   "source": [
    "Our first step should be getting our data into tidy data. Since there is an inconsistent amount of whitespace between each entry for any particular observation, we can tell our `pd.read_csv()` method to consider any whitespace between a value as a separator. (I initially used the `delim_whitespace=True` parameter, though that seems to be depreciated in favor of `\\s+` now)."
   ]
  },
  {
   "cell_type": "markdown",
   "metadata": {},
   "source": [
    "Since there are no headers in this text file, I will manually add the columns to our dataframe, using the description that we found above in our names file."
   ]
  },
  {
   "cell_type": "code",
   "execution_count": 3,
   "metadata": {},
   "outputs": [],
   "source": [
    "columns = [\n",
    "    'mpg', \n",
    "    'cylinders', \n",
    "    'displacement', \n",
    "    'horsepower',\n",
    "    'weight', \n",
    "    'acceleration', \n",
    "    'model year',\n",
    "    'origin', \n",
    "    'car name'\n",
    "]\n",
    "\n",
    "data = pd.read_csv(auto_mpg_data, sep='\\s+', header=None, names=columns)"
   ]
  },
  {
   "cell_type": "markdown",
   "metadata": {},
   "source": [
    "We'll check the first few entries to make sure our data has been read in properly."
   ]
  },
  {
   "cell_type": "code",
   "execution_count": 4,
   "metadata": {},
   "outputs": [
    {
     "data": {
      "text/html": [
       "<div>\n",
       "<style scoped>\n",
       "    .dataframe tbody tr th:only-of-type {\n",
       "        vertical-align: middle;\n",
       "    }\n",
       "\n",
       "    .dataframe tbody tr th {\n",
       "        vertical-align: top;\n",
       "    }\n",
       "\n",
       "    .dataframe thead th {\n",
       "        text-align: right;\n",
       "    }\n",
       "</style>\n",
       "<table border=\"1\" class=\"dataframe\">\n",
       "  <thead>\n",
       "    <tr style=\"text-align: right;\">\n",
       "      <th></th>\n",
       "      <th>mpg</th>\n",
       "      <th>cylinders</th>\n",
       "      <th>displacement</th>\n",
       "      <th>horsepower</th>\n",
       "      <th>weight</th>\n",
       "      <th>acceleration</th>\n",
       "      <th>model year</th>\n",
       "      <th>origin</th>\n",
       "      <th>car name</th>\n",
       "    </tr>\n",
       "  </thead>\n",
       "  <tbody>\n",
       "    <tr>\n",
       "      <th>0</th>\n",
       "      <td>18.0</td>\n",
       "      <td>8</td>\n",
       "      <td>307.0</td>\n",
       "      <td>130.0</td>\n",
       "      <td>3504.0</td>\n",
       "      <td>12.0</td>\n",
       "      <td>70</td>\n",
       "      <td>1</td>\n",
       "      <td>chevrolet chevelle malibu</td>\n",
       "    </tr>\n",
       "    <tr>\n",
       "      <th>1</th>\n",
       "      <td>15.0</td>\n",
       "      <td>8</td>\n",
       "      <td>350.0</td>\n",
       "      <td>165.0</td>\n",
       "      <td>3693.0</td>\n",
       "      <td>11.5</td>\n",
       "      <td>70</td>\n",
       "      <td>1</td>\n",
       "      <td>buick skylark 320</td>\n",
       "    </tr>\n",
       "    <tr>\n",
       "      <th>2</th>\n",
       "      <td>18.0</td>\n",
       "      <td>8</td>\n",
       "      <td>318.0</td>\n",
       "      <td>150.0</td>\n",
       "      <td>3436.0</td>\n",
       "      <td>11.0</td>\n",
       "      <td>70</td>\n",
       "      <td>1</td>\n",
       "      <td>plymouth satellite</td>\n",
       "    </tr>\n",
       "    <tr>\n",
       "      <th>3</th>\n",
       "      <td>16.0</td>\n",
       "      <td>8</td>\n",
       "      <td>304.0</td>\n",
       "      <td>150.0</td>\n",
       "      <td>3433.0</td>\n",
       "      <td>12.0</td>\n",
       "      <td>70</td>\n",
       "      <td>1</td>\n",
       "      <td>amc rebel sst</td>\n",
       "    </tr>\n",
       "    <tr>\n",
       "      <th>4</th>\n",
       "      <td>17.0</td>\n",
       "      <td>8</td>\n",
       "      <td>302.0</td>\n",
       "      <td>140.0</td>\n",
       "      <td>3449.0</td>\n",
       "      <td>10.5</td>\n",
       "      <td>70</td>\n",
       "      <td>1</td>\n",
       "      <td>ford torino</td>\n",
       "    </tr>\n",
       "  </tbody>\n",
       "</table>\n",
       "</div>"
      ],
      "text/plain": [
       "    mpg  cylinders  displacement horsepower  weight  acceleration  model year  \\\n",
       "0  18.0          8         307.0      130.0  3504.0          12.0          70   \n",
       "1  15.0          8         350.0      165.0  3693.0          11.5          70   \n",
       "2  18.0          8         318.0      150.0  3436.0          11.0          70   \n",
       "3  16.0          8         304.0      150.0  3433.0          12.0          70   \n",
       "4  17.0          8         302.0      140.0  3449.0          10.5          70   \n",
       "\n",
       "   origin                   car name  \n",
       "0       1  chevrolet chevelle malibu  \n",
       "1       1          buick skylark 320  \n",
       "2       1         plymouth satellite  \n",
       "3       1              amc rebel sst  \n",
       "4       1                ford torino  "
      ]
     },
     "execution_count": 4,
     "metadata": {},
     "output_type": "execute_result"
    }
   ],
   "source": [
    "data.head()"
   ]
  },
  {
   "cell_type": "markdown",
   "metadata": {},
   "source": [
    "Looks like we got most of what we need. We have 9 columns to represent each feature/attribute. We can also look at the information provided here with the `info()` method."
   ]
  },
  {
   "cell_type": "code",
   "execution_count": 5,
   "metadata": {},
   "outputs": [
    {
     "name": "stdout",
     "output_type": "stream",
     "text": [
      "<class 'pandas.core.frame.DataFrame'>\n",
      "RangeIndex: 398 entries, 0 to 397\n",
      "Data columns (total 9 columns):\n",
      " #   Column        Non-Null Count  Dtype  \n",
      "---  ------        --------------  -----  \n",
      " 0   mpg           398 non-null    float64\n",
      " 1   cylinders     398 non-null    int64  \n",
      " 2   displacement  398 non-null    float64\n",
      " 3   horsepower    398 non-null    object \n",
      " 4   weight        398 non-null    float64\n",
      " 5   acceleration  398 non-null    float64\n",
      " 6   model year    398 non-null    int64  \n",
      " 7   origin        398 non-null    int64  \n",
      " 8   car name      398 non-null    object \n",
      "dtypes: float64(4), int64(3), object(2)\n",
      "memory usage: 28.1+ KB\n"
     ]
    }
   ],
   "source": [
    "data.info()"
   ]
  },
  {
   "cell_type": "markdown",
   "metadata": {},
   "source": [
    "We do in fact see 398 rows for each attribute. Most variables are floats or integers, with the exceptions of $horsepower$ and $car name$, the latter which we expect to be strings, so this is not unexpected. But we know $horsepower$ has 6 missing values somewhere. How should we handle this? I'm going to simply look at our observations first, where $horsepower$ does not have a value (from peeking at the data text file, I know the missing values are coded as a '?')."
   ]
  },
  {
   "cell_type": "code",
   "execution_count": 6,
   "metadata": {},
   "outputs": [
    {
     "data": {
      "text/html": [
       "<div>\n",
       "<style scoped>\n",
       "    .dataframe tbody tr th:only-of-type {\n",
       "        vertical-align: middle;\n",
       "    }\n",
       "\n",
       "    .dataframe tbody tr th {\n",
       "        vertical-align: top;\n",
       "    }\n",
       "\n",
       "    .dataframe thead th {\n",
       "        text-align: right;\n",
       "    }\n",
       "</style>\n",
       "<table border=\"1\" class=\"dataframe\">\n",
       "  <thead>\n",
       "    <tr style=\"text-align: right;\">\n",
       "      <th></th>\n",
       "      <th>mpg</th>\n",
       "      <th>cylinders</th>\n",
       "      <th>displacement</th>\n",
       "      <th>horsepower</th>\n",
       "      <th>weight</th>\n",
       "      <th>acceleration</th>\n",
       "      <th>model year</th>\n",
       "      <th>origin</th>\n",
       "      <th>car name</th>\n",
       "    </tr>\n",
       "  </thead>\n",
       "  <tbody>\n",
       "    <tr>\n",
       "      <th>32</th>\n",
       "      <td>25.0</td>\n",
       "      <td>4</td>\n",
       "      <td>98.0</td>\n",
       "      <td>?</td>\n",
       "      <td>2046.0</td>\n",
       "      <td>19.0</td>\n",
       "      <td>71</td>\n",
       "      <td>1</td>\n",
       "      <td>ford pinto</td>\n",
       "    </tr>\n",
       "    <tr>\n",
       "      <th>126</th>\n",
       "      <td>21.0</td>\n",
       "      <td>6</td>\n",
       "      <td>200.0</td>\n",
       "      <td>?</td>\n",
       "      <td>2875.0</td>\n",
       "      <td>17.0</td>\n",
       "      <td>74</td>\n",
       "      <td>1</td>\n",
       "      <td>ford maverick</td>\n",
       "    </tr>\n",
       "    <tr>\n",
       "      <th>330</th>\n",
       "      <td>40.9</td>\n",
       "      <td>4</td>\n",
       "      <td>85.0</td>\n",
       "      <td>?</td>\n",
       "      <td>1835.0</td>\n",
       "      <td>17.3</td>\n",
       "      <td>80</td>\n",
       "      <td>2</td>\n",
       "      <td>renault lecar deluxe</td>\n",
       "    </tr>\n",
       "    <tr>\n",
       "      <th>336</th>\n",
       "      <td>23.6</td>\n",
       "      <td>4</td>\n",
       "      <td>140.0</td>\n",
       "      <td>?</td>\n",
       "      <td>2905.0</td>\n",
       "      <td>14.3</td>\n",
       "      <td>80</td>\n",
       "      <td>1</td>\n",
       "      <td>ford mustang cobra</td>\n",
       "    </tr>\n",
       "    <tr>\n",
       "      <th>354</th>\n",
       "      <td>34.5</td>\n",
       "      <td>4</td>\n",
       "      <td>100.0</td>\n",
       "      <td>?</td>\n",
       "      <td>2320.0</td>\n",
       "      <td>15.8</td>\n",
       "      <td>81</td>\n",
       "      <td>2</td>\n",
       "      <td>renault 18i</td>\n",
       "    </tr>\n",
       "    <tr>\n",
       "      <th>374</th>\n",
       "      <td>23.0</td>\n",
       "      <td>4</td>\n",
       "      <td>151.0</td>\n",
       "      <td>?</td>\n",
       "      <td>3035.0</td>\n",
       "      <td>20.5</td>\n",
       "      <td>82</td>\n",
       "      <td>1</td>\n",
       "      <td>amc concord dl</td>\n",
       "    </tr>\n",
       "  </tbody>\n",
       "</table>\n",
       "</div>"
      ],
      "text/plain": [
       "      mpg  cylinders  displacement horsepower  weight  acceleration  \\\n",
       "32   25.0          4          98.0          ?  2046.0          19.0   \n",
       "126  21.0          6         200.0          ?  2875.0          17.0   \n",
       "330  40.9          4          85.0          ?  1835.0          17.3   \n",
       "336  23.6          4         140.0          ?  2905.0          14.3   \n",
       "354  34.5          4         100.0          ?  2320.0          15.8   \n",
       "374  23.0          4         151.0          ?  3035.0          20.5   \n",
       "\n",
       "     model year  origin              car name  \n",
       "32           71       1            ford pinto  \n",
       "126          74       1         ford maverick  \n",
       "330          80       2  renault lecar deluxe  \n",
       "336          80       1    ford mustang cobra  \n",
       "354          81       2           renault 18i  \n",
       "374          82       1        amc concord dl  "
      ]
     },
     "execution_count": 6,
     "metadata": {},
     "output_type": "execute_result"
    }
   ],
   "source": [
    "data[data['horsepower'] == '?']"
   ]
  },
  {
   "cell_type": "markdown",
   "metadata": {},
   "source": [
    "We do in fact only have 6 observations here. Because that's only (6/398) = 0.015, or about 1.5% of our data, I will consider imputation for these 6 values with the median of $horsepower$. Note I'm choosing to use median instead of the mean since the median is a more robust statistic. This should not create inliers or other data abnormalities such as loss of variation since there are only a small number of missing values. We might turn to some domain knowledge to think about whether our median is a good estimate for these missing values."
   ]
  },
  {
   "cell_type": "markdown",
   "metadata": {},
   "source": [
    "[Average Horsepower of a Car Over the Years](https://carbuzz.com/features/average-horsepower-of-a-car-over-the-years/)"
   ]
  },
  {
   "cell_type": "markdown",
   "metadata": {},
   "source": [
    "In this article, we get different ranges for the average horsepower of cars in the United States, mostly broken down by decade. To summarize, the 50s started out with an average of about 100 horsepower, and only went up to about 120hp by the 80s. Later decades saw a bit of increase, where the average could be considered closer to 175hp or so, but this might at least give us an idea if we're on the mark with imputing our missing values."
   ]
  },
  {
   "cell_type": "markdown",
   "metadata": {},
   "source": [
    "I know this is kind of blending into the EDA portion a bit, so I will just replace the missing values with our median here, and as long as we have our tidy data, we can start the EDA process and go more in depth with horsepower in the next section."
   ]
  },
  {
   "cell_type": "markdown",
   "metadata": {},
   "source": [
    "We need to select all the other 392 rows that don't include the 6 missing values in order to get the median for $horsepower$."
   ]
  },
  {
   "cell_type": "code",
   "execution_count": 7,
   "metadata": {},
   "outputs": [],
   "source": [
    "data_no_missing = data[data['horsepower'] != '?']"
   ]
  },
  {
   "cell_type": "markdown",
   "metadata": {},
   "source": [
    "Since the $horsepower$ variable was a mix of strings and floats, it caused all the values to become strings. We fix this below so we can perform the numpy operations on this column."
   ]
  },
  {
   "cell_type": "code",
   "execution_count": 8,
   "metadata": {},
   "outputs": [
    {
     "name": "stderr",
     "output_type": "stream",
     "text": [
      "C:\\Users\\Jhirs\\AppData\\Local\\Temp\\ipykernel_21652\\1856811709.py:1: SettingWithCopyWarning: \n",
      "A value is trying to be set on a copy of a slice from a DataFrame.\n",
      "Try using .loc[row_indexer,col_indexer] = value instead\n",
      "\n",
      "See the caveats in the documentation: https://pandas.pydata.org/pandas-docs/stable/user_guide/indexing.html#returning-a-view-versus-a-copy\n",
      "  data_no_missing['horsepower'] = data_no_missing['horsepower'].astype('float64')\n"
     ]
    }
   ],
   "source": [
    "data_no_missing['horsepower'] = data_no_missing['horsepower'].astype('float64')"
   ]
  },
  {
   "cell_type": "markdown",
   "metadata": {},
   "source": [
    "Here we can finally find the median of $horsepower$ without the missing values. "
   ]
  },
  {
   "cell_type": "code",
   "execution_count": 9,
   "metadata": {},
   "outputs": [
    {
     "data": {
      "text/plain": [
       "93.5"
      ]
     },
     "execution_count": 9,
     "metadata": {},
     "output_type": "execute_result"
    }
   ],
   "source": [
    "np.median(data_no_missing['horsepower'])"
   ]
  },
  {
   "cell_type": "markdown",
   "metadata": {},
   "source": [
    "It's 93.5, which seems like a reasonable guess for our missing values, if not slightly on the low side, remembering that we theorized average car horsepowers range between 100-200, very roughly. (Again, we could also look at the median model years for the cars to get a better rough estimate, but I think that's getting too much into the EDA portion of things)."
   ]
  },
  {
   "cell_type": "markdown",
   "metadata": {},
   "source": [
    "Finally, we can replace our missing values with our median of 93.5 and convert the column into a float type to prepare for our EDA."
   ]
  },
  {
   "cell_type": "code",
   "execution_count": 10,
   "metadata": {},
   "outputs": [
    {
     "name": "stdout",
     "output_type": "stream",
     "text": [
      "<class 'pandas.core.frame.DataFrame'>\n",
      "RangeIndex: 398 entries, 0 to 397\n",
      "Data columns (total 9 columns):\n",
      " #   Column        Non-Null Count  Dtype  \n",
      "---  ------        --------------  -----  \n",
      " 0   mpg           398 non-null    float64\n",
      " 1   cylinders     398 non-null    int64  \n",
      " 2   displacement  398 non-null    float64\n",
      " 3   horsepower    398 non-null    float64\n",
      " 4   weight        398 non-null    float64\n",
      " 5   acceleration  398 non-null    float64\n",
      " 6   model year    398 non-null    int64  \n",
      " 7   origin        398 non-null    int64  \n",
      " 8   car name      398 non-null    object \n",
      "dtypes: float64(5), int64(3), object(1)\n",
      "memory usage: 28.1+ KB\n"
     ]
    }
   ],
   "source": [
    "data = data.replace('?', '93.5')\n",
    "data['horsepower'] = data['horsepower'].astype('float64')\n",
    "\n",
    "data.info()"
   ]
  },
  {
   "cell_type": "markdown",
   "metadata": {},
   "source": [
    "We can see that our horsepower variable is now a float64 type instead of object like it was originally."
   ]
  },
  {
   "cell_type": "markdown",
   "metadata": {},
   "source": [
    "Note I will also change the model year and car name variables to remove the spaces, so we don't run into syntax errors during our analysis going forward."
   ]
  },
  {
   "cell_type": "code",
   "execution_count": 11,
   "metadata": {},
   "outputs": [
    {
     "data": {
      "text/html": [
       "<div>\n",
       "<style scoped>\n",
       "    .dataframe tbody tr th:only-of-type {\n",
       "        vertical-align: middle;\n",
       "    }\n",
       "\n",
       "    .dataframe tbody tr th {\n",
       "        vertical-align: top;\n",
       "    }\n",
       "\n",
       "    .dataframe thead th {\n",
       "        text-align: right;\n",
       "    }\n",
       "</style>\n",
       "<table border=\"1\" class=\"dataframe\">\n",
       "  <thead>\n",
       "    <tr style=\"text-align: right;\">\n",
       "      <th></th>\n",
       "      <th>mpg</th>\n",
       "      <th>cylinders</th>\n",
       "      <th>displacement</th>\n",
       "      <th>horsepower</th>\n",
       "      <th>weight</th>\n",
       "      <th>acceleration</th>\n",
       "      <th>model_year</th>\n",
       "      <th>origin</th>\n",
       "      <th>car_name</th>\n",
       "    </tr>\n",
       "  </thead>\n",
       "  <tbody>\n",
       "    <tr>\n",
       "      <th>0</th>\n",
       "      <td>18.0</td>\n",
       "      <td>8</td>\n",
       "      <td>307.0</td>\n",
       "      <td>130.0</td>\n",
       "      <td>3504.0</td>\n",
       "      <td>12.0</td>\n",
       "      <td>70</td>\n",
       "      <td>1</td>\n",
       "      <td>chevrolet chevelle malibu</td>\n",
       "    </tr>\n",
       "    <tr>\n",
       "      <th>1</th>\n",
       "      <td>15.0</td>\n",
       "      <td>8</td>\n",
       "      <td>350.0</td>\n",
       "      <td>165.0</td>\n",
       "      <td>3693.0</td>\n",
       "      <td>11.5</td>\n",
       "      <td>70</td>\n",
       "      <td>1</td>\n",
       "      <td>buick skylark 320</td>\n",
       "    </tr>\n",
       "    <tr>\n",
       "      <th>2</th>\n",
       "      <td>18.0</td>\n",
       "      <td>8</td>\n",
       "      <td>318.0</td>\n",
       "      <td>150.0</td>\n",
       "      <td>3436.0</td>\n",
       "      <td>11.0</td>\n",
       "      <td>70</td>\n",
       "      <td>1</td>\n",
       "      <td>plymouth satellite</td>\n",
       "    </tr>\n",
       "    <tr>\n",
       "      <th>3</th>\n",
       "      <td>16.0</td>\n",
       "      <td>8</td>\n",
       "      <td>304.0</td>\n",
       "      <td>150.0</td>\n",
       "      <td>3433.0</td>\n",
       "      <td>12.0</td>\n",
       "      <td>70</td>\n",
       "      <td>1</td>\n",
       "      <td>amc rebel sst</td>\n",
       "    </tr>\n",
       "    <tr>\n",
       "      <th>4</th>\n",
       "      <td>17.0</td>\n",
       "      <td>8</td>\n",
       "      <td>302.0</td>\n",
       "      <td>140.0</td>\n",
       "      <td>3449.0</td>\n",
       "      <td>10.5</td>\n",
       "      <td>70</td>\n",
       "      <td>1</td>\n",
       "      <td>ford torino</td>\n",
       "    </tr>\n",
       "  </tbody>\n",
       "</table>\n",
       "</div>"
      ],
      "text/plain": [
       "    mpg  cylinders  displacement  horsepower  weight  acceleration  \\\n",
       "0  18.0          8         307.0       130.0  3504.0          12.0   \n",
       "1  15.0          8         350.0       165.0  3693.0          11.5   \n",
       "2  18.0          8         318.0       150.0  3436.0          11.0   \n",
       "3  16.0          8         304.0       150.0  3433.0          12.0   \n",
       "4  17.0          8         302.0       140.0  3449.0          10.5   \n",
       "\n",
       "   model_year  origin                   car_name  \n",
       "0          70       1  chevrolet chevelle malibu  \n",
       "1          70       1          buick skylark 320  \n",
       "2          70       1         plymouth satellite  \n",
       "3          70       1              amc rebel sst  \n",
       "4          70       1                ford torino  "
      ]
     },
     "execution_count": 11,
     "metadata": {},
     "output_type": "execute_result"
    }
   ],
   "source": [
    "data = data.rename(columns={'model year': 'model_year', 'car name': 'car_name'})\n",
    "\n",
    "data.head()"
   ]
  },
  {
   "cell_type": "markdown",
   "metadata": {},
   "source": [
    "We are ready to move on to EDA now."
   ]
  },
  {
   "cell_type": "markdown",
   "metadata": {
    "colab_type": "text",
    "id": "FPDyEaJOFwIo"
   },
   "source": [
    "## 1.2 - EDA\n",
    "\n",
    "* Summarize key findings from Part 1\n",
    "* Present your Null Model from Part 1"
   ]
  },
  {
   "cell_type": "markdown",
   "metadata": {},
   "source": [
    "Copying over the mpg EDA with associated `freeman_diaconis`, `histogram_w_whiskers`, and `histogram_trio` functions from the `eda.py` file:"
   ]
  },
  {
   "cell_type": "code",
   "execution_count": 12,
   "metadata": {},
   "outputs": [],
   "source": [
    "def freeman_diaconis(data):\n",
    "    quartiles = stats.mstats.mquantiles( data, [0.25, 0.5, 0.75])\n",
    "    iqr = quartiles[2] - quartiles[ 0]\n",
    "    n = len( data)\n",
    "    h = 2.0 * (iqr/n**(1.0/3.0))\n",
    "    #error handling for int rounding down to 0\n",
    "    if h < 1:\n",
    "        return 1\n",
    "    return int( h)"
   ]
  },
  {
   "cell_type": "code",
   "execution_count": 13,
   "metadata": {},
   "outputs": [],
   "source": [
    "def histogram_w_whiskers(data, variable_name, zoom=None):\n",
    "    h = freeman_diaconis(data[variable_name])\n",
    "    mn = int(data[variable_name].min())\n",
    "    mx = int(data[variable_name].max())\n",
    "    bins = [i for i in range( mn, mx, h)]\n",
    "    print(f\"Freeman Diaconis for {variable_name}: {len(bins)} bins\")\n",
    "\n",
    "    observations = len(data)\n",
    "    empirical_weights = np.ones(observations)/observations # this converts counts to relative frequencies when used in hist()\n",
    "        \n",
    "    # start the plot: 2 rows, because we want the boxplot on the first row\n",
    "    # and the hist on the second\n",
    "    fig, ax = plt.subplots(\n",
    "        2, figsize=(7, 5), sharex=True,\n",
    "        gridspec_kw={\"height_ratios\": (.7, .3)}  # the boxplot gets 30% of the vertical space\n",
    "    )\n",
    "\n",
    "    # the histogram\n",
    "    ax[0].hist(data[variable_name],bins=bins, color=\"dimgray\", weights=empirical_weights)\n",
    "    ax[0].set_title(f\"{variable_name} distribution - Freeman Diaconis\")\n",
    "    ax[0].set_ylabel(\"Relative Frequency\")\n",
    "    if zoom:\n",
    "        ax[0].set_ylim((0, zoom))\n",
    "    # the box plot\n",
    "    ax[1].boxplot(data[variable_name], vert=False)\n",
    "    # removing borders\n",
    "    ax[1].spines['top'].set_visible(False)\n",
    "    ax[1].spines['right'].set_visible(False)\n",
    "    ax[1].spines['left'].set_visible(False)\n",
    "    ax[1].set_xlabel(variable_name)\n",
    "\n",
    "    # and we are good to go\n",
    "    plt.show()\n",
    "    plt.close()\n",
    "    return h"
   ]
  },
  {
   "cell_type": "code",
   "execution_count": 14,
   "metadata": {},
   "outputs": [],
   "source": [
    "def histogram_trio(data, variable_name, zoom=1.0):\n",
    "    h = freeman_diaconis(data[variable_name])\n",
    "    mn = int(data[variable_name].min())\n",
    "    mx = int(data[variable_name].max())\n",
    "    bins = [i for i in range( mn, mx, h)]\n",
    "    print(f\"Freeman Diaconis for {variable_name}: {len(bins)} bins\")\n",
    "\n",
    "    observations = len(data)\n",
    "    empirical_weights = np.ones(observations)/observations # this converts counts to relative frequencies when used in hist()\n",
    "\n",
    "    fig, ax = plt.subplots(1, 3, figsize=(20, 6), sharey=True)\n",
    "\n",
    "    fewer_bins = int(len(bins) * .50)\n",
    "    more_bins = int(len(bins) * 2)\n",
    "\n",
    "    n, bins, patches = ax[1].hist(data[variable_name], color=\"DimGray\", bins=bins, weights=empirical_weights) # <---\n",
    "    ax[1].set_xlabel(variable_name)\n",
    "    ax[1].set_ylabel(\"Relative Frequency\")\n",
    "    ax[1].set_title(f\"Relative Frequency Histogram of {variable_name}\")\n",
    "    ax[1].set_ylim((0, zoom))\n",
    "    \n",
    "    n, bins, patches = ax[0].hist(data[variable_name], color=\"DimGray\", bins=fewer_bins, weights=empirical_weights)\n",
    "    ax[0].set_xlabel(variable_name)\n",
    "    ax[0].set_ylabel(\"Relative Frequency\")\n",
    "    ax[0].set_title(f\"Relative Frequency Histogram of {variable_name} (Fewer Bins)\")\n",
    "    \n",
    "    n, bins, patches = ax[2].hist(data[variable_name], color=\"DimGray\", bins=more_bins, weights=empirical_weights)\n",
    "    ax[2].set_xlabel(variable_name)\n",
    "    ax[2].set_ylabel(\"Relative Frequency\")\n",
    "    ax[2].set_title(f\"Relative Frequency Histogram of {variable_name} (More Bins)\")\n",
    "\n",
    "    plt.show()\n",
    "    plt.close()"
   ]
  },
  {
   "cell_type": "markdown",
   "metadata": {
    "colab_type": "text",
    "id": "x7aocAadFy6f"
   },
   "source": [
    "$mpg$ is our target variable. As such, we will see a lot relationships between mpg and the others during our pairwise analysis. This is a numeric variable and as such, we can find descriptive statistics for it. Typical fuel economy of cars can range from 10 mpg for larger cars like SUVs to about 30 mpg for more mid-sized cars. My car, which is considered more fuel efficient, gets closer to 30 mpg, so I imagine that's a bit higher than average.\n",
    "\n",
    "[Fuel Economy in Automobiles](https://en.wikipedia.org/wiki/Fuel_economy_in_automobiles#:~:text=An%20average%20North%20American%20mid,L%2F100%20km)"
   ]
  },
  {
   "cell_type": "code",
   "execution_count": 15,
   "metadata": {},
   "outputs": [
    {
     "data": {
      "text/plain": [
       "count    398.000000\n",
       "mean      23.514573\n",
       "std        7.815984\n",
       "min        9.000000\n",
       "25%       17.500000\n",
       "50%       23.000000\n",
       "75%       29.000000\n",
       "max       46.600000\n",
       "Name: mpg, dtype: float64"
      ]
     },
     "execution_count": 15,
     "metadata": {},
     "output_type": "execute_result"
    }
   ],
   "source": [
    "data['mpg'].describe()"
   ]
  },
  {
   "cell_type": "markdown",
   "metadata": {},
   "source": [
    "We have an average of about 23.5, with a standard deviation of 7.8, fairly relatively large. The min is 9 while the max is a whopping 46.6. As the 3rd quartile is only 29, we would expect the max to be an outlier. The median is 23. As such, we expect to see a fairly symmetric histogram being so close to the mean."
   ]
  },
  {
   "cell_type": "markdown",
   "metadata": {},
   "source": [
    "Let's create a histogram and boxplot to visualize the data."
   ]
  },
  {
   "cell_type": "code",
   "execution_count": 16,
   "metadata": {},
   "outputs": [
    {
     "name": "stdout",
     "output_type": "stream",
     "text": [
      "Freeman Diaconis for mpg: 13 bins\n"
     ]
    },
    {
     "data": {
      "image/png": "[encoded data removed]",
      "text/plain": [
       "<Figure size 700x500 with 2 Axes>"
      ]
     },
     "metadata": {},
     "output_type": "display_data"
    },
    {
     "data": {
      "text/plain": [
       "3"
      ]
     },
     "execution_count": 16,
     "metadata": {},
     "output_type": "execute_result"
    }
   ],
   "source": [
    "histogram_w_whiskers(data, 'mpg')"
   ]
  },
  {
   "cell_type": "markdown",
   "metadata": {},
   "source": [
    "Looks like the tiniest bit of right skew, though otherwise symmetric as we predicted. We do see the max as an extreme value on the boxplot with whiskers, while it seems that most values are contained within the 'whiskers' (Q1 - 1.5 x IQR, Q3 + 1.5 x IQR). We can also try changing the bin size of the histogram to see if any patterns emerge, but I predict we won't see anything too unusual."
   ]
  },
  {
   "cell_type": "code",
   "execution_count": 17,
   "metadata": {},
   "outputs": [
    {
     "name": "stdout",
     "output_type": "stream",
     "text": [
      "Freeman Diaconis for mpg: 13 bins\n"
     ]
    },
    {
     "data": {
      "image/png": "[encoded data removed]",
      "text/plain": [
       "<Figure size 2000x600 with 3 Axes>"
      ]
     },
     "metadata": {},
     "output_type": "display_data"
    }
   ],
   "source": [
    "histogram_trio(data, 'mpg', zoom=0.5)"
   ]
  },
  {
   "cell_type": "markdown",
   "metadata": {},
   "source": [
    "There seems to be a bit of a drop off as we go from about 12-13 down to 11 or so, which is a bit more evident with more bins. Other than that, we see almost a cyclic pattern with the more bins, which I wonder if it's simply because it is too many bins for this variable (remember that the range is not that large)."
   ]
  },
  {
   "cell_type": "markdown",
   "metadata": {},
   "source": [
    "### Null Model"
   ]
  },
  {
   "cell_type": "markdown",
   "metadata": {},
   "source": [
    "Now we can look at our Null Model. For our loss function, we want to penalize underestimates and overestimates the same, and penalize larger errors more than smaller errors. This leads us to the Mean Squared Error (MSE) as our loss function. Thus, our baseline model will simply be the mean of mpg since the mean value minimizes MSE. Let's start with reminding ourselves of the summary statistics for mpg."
   ]
  },
  {
   "cell_type": "code",
   "execution_count": 18,
   "metadata": {},
   "outputs": [
    {
     "data": {
      "text/plain": [
       "count    398.000000\n",
       "mean      23.514573\n",
       "std        7.815984\n",
       "min        9.000000\n",
       "25%       17.500000\n",
       "50%       23.000000\n",
       "75%       29.000000\n",
       "max       46.600000\n",
       "Name: mpg, dtype: float64"
      ]
     },
     "execution_count": 18,
     "metadata": {},
     "output_type": "execute_result"
    }
   ],
   "source": [
    "data['mpg'].describe()"
   ]
  },
  {
   "cell_type": "markdown",
   "metadata": {},
   "source": [
    "Since the mean is 23.5, we can predict that a car will have an $mpg$ rating of 23.5. Now we can create 95% error bounds as well. Remembering that our histogram of $mpg$ in our single variable analysis was fairly symmetric, we can use standard deviation to find the bounds as ($\\hat{y}$ - 1.96 * s, $\\hat{y}$ + 1.96 * s), where $\\hat{y}$ is the predictive value for the model/mean (using $\\bar{y}$ - the actual mean), and s is the standard deviation."
   ]
  },
  {
   "cell_type": "code",
   "execution_count": 19,
   "metadata": {},
   "outputs": [
    {
     "name": "stdout",
     "output_type": "stream",
     "text": [
      "(8.21450110422372, 38.81464462441949)\n"
     ]
    }
   ],
   "source": [
    "mpg_mean = np.mean(data['mpg'])\n",
    "mpg_std = np.std(data['mpg'])\n",
    "\n",
    "lower = mpg_mean - 1.96 * mpg_std\n",
    "upper = mpg_mean + 1.96 * mpg_std\n",
    "\n",
    "print(f'({lower}, {upper})')"
   ]
  },
  {
   "cell_type": "markdown",
   "metadata": {},
   "source": [
    "So we predict that there's a 95% chance a car's $mpg$ rating will be between 8.2 and 38.8 or so."
   ]
  },
  {
   "cell_type": "markdown",
   "metadata": {
    "colab_type": "text",
    "id": "6_0fFpfg_Yeq"
   },
   "source": [
    "## 1.3 - Build the linear model\n",
    "\n",
    "* this is going to be the bulk of the code and discussion\n",
    "* we are more interested in *process* than a particular RMSE, ie, are you doing the right things?"
   ]
  },
  {
   "cell_type": "markdown",
   "metadata": {},
   "source": [
    "Now that we have our null model, we can start looking at something more complicated like the linear model. Just as a reminder, our findings from pairwise EDA with the target variable mpg showed roughly these relationships:\n",
    "\n",
    "* Cylinders - Numeric variable, strong negative (-) correlation with mpg.\n",
    "* Displacement - Numeric variable, strong negative (-) correlation with mpg.\n",
    "* Horsepower - Numeric variable, strong negative (-) correlation with mpg.\n",
    "* Weight - Numeric variable, very strong negative (-) correlation with mpg.\n",
    "* Acceleration - Numeric variable, weak to moderate positive (+) correlation with mpg. \n",
    "* Model Year - Numeric variable, moderate to strong positive (+) correlation with mpg.\n",
    "* Origin - Categorical variable encoded as a numeric variable, moderate to strong positive (+) correlation.\n",
    "* Car Name - Categorical variable, no correlation found during EDA."
   ]
  },
  {
   "cell_type": "markdown",
   "metadata": {},
   "source": [
    "Before we begin the modeling, we need to transform any categorical variables into dummy variables. This really only applies to origin and car name. Because there are 305 unique values for car name, transforming this variable to include in a linear model seems a bit silly. Having a linear model with 305+ variables doesn't really make sense."
   ]
  },
  {
   "cell_type": "markdown",
   "metadata": {},
   "source": [
    "I could try creating the one hot encoding for brand name instead. When I did EDA for mpg vs car name, we saw there were 37 unique brands, give or take a few typos. That still doesn't seem super reasonable to me however."
   ]
  },
  {
   "cell_type": "markdown",
   "metadata": {},
   "source": [
    "According to [Cars.com](https://www.cars.com/articles/which-automaker-has-the-best-mpg-cars-431460/), most major car brands averaged an mpg rating of between 20-30 mpg in 2019. This includes Toyota, Volkswagen, Ford, etc. Now remember that this dataset only covers model years from 1970-1982 though, so I'll take this domain knowledge with a grain of salt. "
   ]
  },
  {
   "cell_type": "markdown",
   "metadata": {},
   "source": [
    "However, what I'll conclude is that car name is just not a very important variable to include in this model - we saw from our EDA as well that there are other, more important variables in the dataset that strongly correlate with mpg, and will likely be better predictors for mpg than car name."
   ]
  },
  {
   "cell_type": "markdown",
   "metadata": {},
   "source": [
    "For now I'll stick with transforming just origin."
   ]
  },
  {
   "cell_type": "code",
   "execution_count": 24,
   "metadata": {},
   "outputs": [],
   "source": [
    "data = pd.concat([data, pd.get_dummies(data['origin'], prefix='region')], axis=1)"
   ]
  },
  {
   "cell_type": "markdown",
   "metadata": {},
   "source": [
    "Here I am using the `models.py` file to perform the modeling"
   ]
  },
  {
   "cell_type": "code",
   "execution_count": 20,
   "metadata": {},
   "outputs": [],
   "source": [
    "import models"
   ]
  },
  {
   "cell_type": "markdown",
   "metadata": {},
   "source": [
    "Now on to the linear model. We start with an \"all variables in\" model at first, (again I won't include car name for reasons stated above). For origin, I'm leaving \"region 1\" out of the model since that effect gets included in the interpretation of the intercept coefficient $\\beta_{0}$ Note I'm using the bootstrap to generate posteriors for the coefficients, $R^2$, and $\\sigma$ so that we can get credible intervals for each:"
   ]
  },
  {
   "cell_type": "code",
   "execution_count": 26,
   "metadata": {},
   "outputs": [
    {
     "data": {
      "text/html": [
       "<p><strong>Model: mpg ~ cylinders + displacement + horsepower + weight + acceleration + model_year + region_2 + region_3</strong><br/><table>\n",
       "<tbody>\n",
       "<tr><td>                             </td><td>                     </td><td>                     </td><td><strong>95% BCI</strong</td><td>                   </td></tr>\n",
       "<tr><td><strong>Coefficients</strong</td><td>                     </td><td><strong>Mean</strong</td><td><strong>Lo</strong     </td><td><strong>Hi</strong</td></tr>\n",
       "<tr><td>                             </td><td>$\\beta_{0}$          </td><td>-18.73               </td><td>-27.10                  </td><td>-8.33              </td></tr>\n",
       "<tr><td>cylinders                    </td><td>$\\beta_{1}$          </td><td>2.79                 </td><td>1.54                    </td><td>4.06               </td></tr>\n",
       "<tr><td>displacement                 </td><td>$\\beta_{2}$          </td><td>2.84                 </td><td>1.77                    </td><td>3.84               </td></tr>\n",
       "<tr><td>horsepower                   </td><td>$\\beta_{3}$          </td><td>-0.42                </td><td>-1.04                   </td><td>0.19               </td></tr>\n",
       "<tr><td>weight                       </td><td>$\\beta_{4}$          </td><td>0.02                 </td><td>0.01                    </td><td>0.04               </td></tr>\n",
       "<tr><td>acceleration                 </td><td>$\\beta_{5}$          </td><td>-0.01                </td><td>-0.05                   </td><td>0.01               </td></tr>\n",
       "<tr><td>model_year                   </td><td>$\\beta_{6}$          </td><td>-0.01                </td><td>-0.01                   </td><td>-0.01              </td></tr>\n",
       "<tr><td>region_2                     </td><td>$\\beta_{7}$          </td><td>0.10                 </td><td>-0.13                   </td><td>0.30               </td></tr>\n",
       "<tr><td>region_3                     </td><td>$\\beta_{8}$          </td><td>0.78                 </td><td>0.68                    </td><td>0.86               </td></tr>\n",
       "<tr><td>                             </td><td>                     </td><td>                     </td><td>                        </td><td>                   </td></tr>\n",
       "<tr><td><strong>Metrics</strong     </td><td><strong>Mean</strong</td><td><strong>Lo</strong  </td><td><strong>Hi</strong     </td><td>                   </td></tr>\n",
       "<tr><td>$\\sigma$                     </td><td>3.31                 </td><td>2.96                 </td><td>3.52                    </td><td>                   </td></tr>\n",
       "<tr><td>$R^2$                        </td><td>0.82                 </td><td>0.80                 </td><td>0.85                    </td><td>                   </td></tr>\n",
       "</tbody>\n",
       "</table></p>"
      ],
      "text/latex": [
       "\\textbf{Model: mpg $\\sim$ cylinders + displacement + horsepower + weight + acceleration + model\\_year + region\\_2 + region\\_3}\n",
       "\n",
       "\\begin{tabular}{lllll}\n",
       "\\toprule\n",
       "                       &               &               & \\textbf{95\\% BCI} &             \\\\\n",
       " \\textbf{Coefficients} &               & \\textbf{Mean} & \\textbf{Lo}      & \\textbf{Hi} \\\\\n",
       "                       & $\\beta_{0}$   & -18.73        & -27.10           & -8.33       \\\\\n",
       " cylinders             & $\\beta_{1}$   & 2.79          & 1.54             & 4.06        \\\\\n",
       " displacement          & $\\beta_{2}$   & 2.84          & 1.77             & 3.84        \\\\\n",
       " horsepower            & $\\beta_{3}$   & -0.42         & -1.04            & 0.19        \\\\\n",
       " weight                & $\\beta_{4}$   & 0.02          & 0.01             & 0.04        \\\\\n",
       " acceleration          & $\\beta_{5}$   & -0.01         & -0.05            & 0.01        \\\\\n",
       " model\\_year           & $\\beta_{6}$   & -0.01         & -0.01            & -0.01       \\\\\n",
       " region\\_2             & $\\beta_{7}$   & 0.10          & -0.13            & 0.30        \\\\\n",
       " region\\_3             & $\\beta_{8}$   & 0.78          & 0.68             & 0.86        \\\\\n",
       "                       &               &               &                  &             \\\\\n",
       " \\textbf{Metrics}      & \\textbf{Mean} & \\textbf{Lo}   & \\textbf{Hi}      &             \\\\\n",
       " $\\sigma$              & 3.31          & 2.96          & 3.52             &             \\\\\n",
       " $R^2$                 & 0.82          & 0.80          & 0.85             &             \\\\\n",
       "\\bottomrule\n",
       "\\end{tabular}"
      ],
      "text/markdown": [
       "Model: mpg ~ cylinders + displacement + horsepower + weight + acceleration + model_year + region_2 + region_3\n",
       "|------------------|-------------|----------|-------------|--------|\n",
       "|                  |             |          | **95% BCI** |        |\n",
       "| **Coefficients** |             | **Mean** | **Lo**      | **Hi** |\n",
       "|                  | $\\beta_{0}$ | -18.73   | -27.10      | -8.33  |\n",
       "| cylinders        | $\\beta_{1}$ | 2.79     | 1.54        | 4.06   |\n",
       "| displacement     | $\\beta_{2}$ | 2.84     | 1.77        | 3.84   |\n",
       "| horsepower       | $\\beta_{3}$ | -0.42    | -1.04       | 0.19   |\n",
       "| weight           | $\\beta_{4}$ | 0.02     | 0.01        | 0.04   |\n",
       "| acceleration     | $\\beta_{5}$ | -0.01    | -0.05       | 0.01   |\n",
       "| model_year       | $\\beta_{6}$ | -0.01    | -0.01       | -0.01  |\n",
       "| region_2         | $\\beta_{7}$ | 0.10     | -0.13       | 0.30   |\n",
       "| region_3         | $\\beta_{8}$ | 0.78     | 0.68        | 0.86   |\n",
       "|                  |             |          |             |        |\n",
       "| **Metrics**      | **Mean**    | **Lo**   | **Hi**      |        |\n",
       "| $\\sigma$         | 3.31        | 2.96     | 3.52        |        |\n",
       "| $R^2$            | 0.82        | 0.80     | 0.85        |        |"
      ],
      "text/plain": [
       "<models.ResultsWrapper at 0x19f4fc42290>"
      ]
     },
     "execution_count": 26,
     "metadata": {},
     "output_type": "execute_result"
    }
   ],
   "source": [
    "model = 'mpg ~ cylinders + displacement + horsepower + weight + acceleration + model_year + region_2 + region_3'\n",
    "result_all = models.bootstrap_linear_regression(model, data=data)\n",
    "models.describe_bootstrap_lr(result_all)"
   ]
  },
  {
   "cell_type": "markdown",
   "metadata": {},
   "source": [
    "The coefficient of determination, $R^2$, is 0.82, meaning about 82% of the variability in mpg is explained by this model. Our error of regression, $\\sigma$ is 3.31, less than half of the null model's standard deviation of 7.81."
   ]
  },
  {
   "cell_type": "markdown",
   "metadata": {},
   "source": [
    "To summarize the other coefficients using a causal interpretation:\n",
    "\n",
    "* cylinders - every additional cylinder adds 2.79 to mpg.\n",
    "* displacement - an additional point of displacement adds 2.84 to mpg.\n",
    "* horsepower - for every additional point of horsepower, subtract 0.42 from mpg.\n",
    "* weight - each additional pound adds 0.02.\n",
    "* acceleration - every additional point subtracts 0.01 from mpg.\n",
    "* model_year - each year subtracts 0.01 from mpg.\n",
    "* region_2 - if a car was made in region 2, add 0.10 to mpg.\n",
    "* region_3 - if a car was made in region 3, add 0.78 to mpg.\n"
   ]
  },
  {
   "cell_type": "code",
   "execution_count": null,
   "metadata": {},
   "outputs": [],
   "source": [
    "def adjusted_r_squared(result):\n",
    "    adjustment = (result['n'] - 1)/ (result['n'] - len(result['coefficients']) - 1 - 1)\n",
    "    return 1 - (1 - result['r_squared']) * adjustment"
   ]
  },
  {
   "cell_type": "markdown",
   "metadata": {},
   "source": [
    "Let's look at improving the model now. Ideally we want to reduce the amount of features we have, while retaining the same information in our \"all in\" model. We can make predictions using our domain knowledge from part 1 as to whether each variable is likely to be positive or negative, and compare with our estimated values for this model."
   ]
  },
  {
   "cell_type": "code",
   "execution_count": 27,
   "metadata": {},
   "outputs": [
    {
     "name": "stdout",
     "output_type": "stream",
     "text": [
      "cylinders P(<0)=0.000 (weak)\n",
      "displacement P(<0)=0.000 (weak)\n",
      "horsepower P(<0)=0.880 (strong)\n",
      "weight P(<0)=0.000 (weak)\n",
      "acceleration P(>0)=0.140 (weak)\n",
      "model_year P(>0)=0.000 (weak)\n",
      "region_2 P(>0)=0.850 (strong)\n",
      "region_3 P(>0)=1.000 (strong)\n"
     ]
    }
   ],
   "source": [
    "predictions = {\n",
    "    'cylinders': '-',\n",
    "    'displacement': '-',\n",
    "    'horsepower': '-',\n",
    "    'weight': '-',\n",
    "    'acceleration': '+',\n",
    "    'model_year': '+',\n",
    "    'region_2': '+',\n",
    "    'region_3': '+'\n",
    "}\n",
    "\n",
    "models.evaluate_coefficient_predictions(predictions, result_all)"
   ]
  },
  {
   "cell_type": "markdown",
   "metadata": {},
   "source": [
    "We can see here that cylinders, displacment, and weight all show weak signs of being negative, while acceleration and model_year show weak signs of being positive. Horsepower is very likely to be negative, while region_2 and region_3 are very likely to be positive."
   ]
  },
  {
   "cell_type": "markdown",
   "metadata": {},
   "source": [
    "From *Fundamentals, Page 785*, we can refer to our nifty table to evaluate our coefficient signs and determine which ones should be kept in our model. We will remove any coefficients with an unexpected/unpredicted sign where the credible bounds does include 0 - namely just acceleration. For unexpected signs that do not include 0 in the bounds - cylinders, displacement, weight, and model_year, we need to re-examine whether these should be kept in the model."
   ]
  },
  {
   "cell_type": "markdown",
   "metadata": {},
   "source": [
    "From our EDA in part 1, we saw that cylinders, displacement, and weight were very strongly negatively correlated with mpg, so we'd expect our predicted signs to match the data. However, we also know from looking at our EDA of displacement that the displacement of a car is directly dependent on how many cylinders the car has. There is likely some multicollinearity going on here."
   ]
  },
  {
   "cell_type": "markdown",
   "metadata": {},
   "source": [
    "We can look at Pearson's correlation coefficient between cylinders and displacement to see how highly correlated they are with each other, I'm predicting a value close to 1."
   ]
  },
  {
   "cell_type": "code",
   "execution_count": 28,
   "metadata": {},
   "outputs": [
    {
     "data": {
      "text/plain": [
       "0.9507213901392411"
      ]
     },
     "execution_count": 28,
     "metadata": {},
     "output_type": "execute_result"
    }
   ],
   "source": [
    "stats.pearsonr(data['cylinders'], data['displacement'])[0]"
   ]
  },
  {
   "cell_type": "markdown",
   "metadata": {},
   "source": [
    "We do in fact see a very high correlation, about 95%. In my opinion, one of these variables should be removed from the model. I'll choose to remove cylinders since its correlation (in absolute terms) with mpg was just slightly lower than displacement vs mpg, plus I think working with the continuous variable of displacement will be easier going forward."
   ]
  },
  {
   "cell_type": "markdown",
   "metadata": {},
   "source": [
    "I'll keep weight in the model for now but may need to re-examine this variable again later. For model_year, we saw a moderate to strong positive correlation with mpg during our pairwise EDA analysis. I'll also keep this variable in the model for now."
   ]
  },
  {
   "cell_type": "markdown",
   "metadata": {},
   "source": [
    "Next we'll look at residuals for the numeric variables we want to keep in the model - displacement, horsepower, weight, and model_year. Not this `plot_residuals` function comes from the Lab 10 Solution."
   ]
  },
  {
   "cell_type": "code",
   "execution_count": 31,
   "metadata": {},
   "outputs": [],
   "source": [
    "def plot_residuals(result, variables):\n",
    "    figure = plt.figure(figsize=(20,6))\n",
    "\n",
    "    variables = ['displacement', 'horsepower', 'weight', 'model_year']\n",
    "\n",
    "    plots = len( variables)\n",
    "    rows = (plots // 3) + 1\n",
    "\n",
    "    residuals = np.array([r[0] for r in result['residuals']])\n",
    "    limits = max(np.abs(residuals.min()), residuals.max())\n",
    "    \n",
    "    n = result[\"n\"]\n",
    "    for i, variable in enumerate( variables):\n",
    "        axes = figure.add_subplot(rows, 3, i + 1)\n",
    "\n",
    "        keyed_values = sorted(zip(data[variable].values, residuals), key=lambda x: x[ 0])\n",
    "        ordered_residuals = [x[ 1] for x in keyed_values]\n",
    "\n",
    "        axes.plot(list(range(0, n)), ordered_residuals, '.', color=\"dimgray\", alpha=0.75)\n",
    "        axes.axhline(y=0.0, xmin=0, xmax=n, c=\"firebrick\", alpha=0.5)\n",
    "        axes.set_ylim((-limits, limits))\n",
    "        axes.set_ylabel(\"residuals\")\n",
    "        axes.set_xlabel(variable)\n",
    "\n",
    "    plt.show()\n",
    "    plt.close()\n",
    "    \n",
    "    "
   ]
  },
  {
   "cell_type": "code",
   "execution_count": 32,
   "metadata": {},
   "outputs": [
    {
     "data": {
      "image/png": "[encoded data removed]",
      "text/plain": [
       "<Figure size 2000x600 with 4 Axes>"
      ]
     },
     "metadata": {},
     "output_type": "display_data"
    }
   ],
   "source": [
    "plot_residuals(result_all, ['displacement', 'horsepower', 'weight', 'model_year'])"
   ]
  },
  {
   "cell_type": "markdown",
   "metadata": {},
   "source": [
    "Our residual plots actually don't look too bad. For weight I might be inclined to say we see a slight non-linear pattern - the plot dips a bit and then rises again. Model year is also interesting, we sort of see the variability in the residuals increase for higher values in model year/cars made in later years."
   ]
  },
  {
   "cell_type": "markdown",
   "metadata": {},
   "source": [
    "At this point I won't attempt any transformations of the variables or interaction terms. Let's first look at the new model which does not include cylinders or acceleration."
   ]
  },
  {
   "cell_type": "markdown",
   "metadata": {
    "colab_type": "text",
    "id": "VH-z_zTM5TtV"
   },
   "source": [
    "## 1.4 - Describe the final model\n",
    "\n",
    "* do this when you are completely, finally, and entirely done with building the model. This is a summary, in words, of the final model you would present to stakeholders before putting it into production).\n",
    "* Look at *Fundamentals* and Labs 10 & 11 if you're not sure what goes here."
   ]
  },
  {
   "cell_type": "markdown",
   "metadata": {
    "colab_type": "text",
    "id": "PaNYI6ErF8Xa"
   },
   "source": []
  },
  {
   "cell_type": "markdown",
   "metadata": {
    "colab_type": "text",
    "id": "mZt9616O5W40"
   },
   "source": [
    "## 1.5 - Use the model\n",
    "\n",
    "* and compare with the Null Model"
   ]
  },
  {
   "cell_type": "markdown",
   "metadata": {
    "colab_type": "text",
    "id": "k36lbHlqF9BJ"
   },
   "source": []
  },
  {
   "cell_type": "markdown",
   "metadata": {
    "colab_type": "text",
    "id": "Zeo-_jQWGDuN"
   },
   "source": [
    "\n",
    "\n",
    "---\n",
    "\n",
    "**CHECK LIST**\n",
    "\n",
    "Before you submit this assignent, go back and review the directions to ensure that you have followed each instruction.\n",
    "\n",
    "\n",
    "\n",
    "* Have you completed every section and answered every question asked?\n",
    "* For every question, have you described your approach and explained your results?\n",
    "* Have you checked for spelling and grammar errors?\n",
    "* Are your code blocks free of any errors?\n",
    "* Have you *SAVED* your notebook?\n",
    "* Submit *THIS* notebook to the proper place in Blackboard."
   ]
  }
 ],
 "metadata": {
  "colab": {
   "collapsed_sections": [],
   "name": "Problem Set 5.ipynb",
   "provenance": [],
   "toc_visible": true
  },
  "kernelspec": {
   "display_name": "Python (en685648)",
   "language": "python",
   "name": "en685648"
  },
  "language_info": {
   "codemirror_mode": {
    "name": "ipython",
    "version": 3
   },
   "file_extension": ".py",
   "mimetype": "text/x-python",
   "name": "python",
   "nbconvert_exporter": "python",
   "pygments_lexer": "ipython3",
   "version": "3.11.7"
  },
  "toc": {
   "colors": {
    "hover_highlight": "#DAA520",
    "navigate_num": "#000000",
    "navigate_text": "#333333",
    "running_highlight": "#FF0000",
    "selected_highlight": "#FFD700",
    "sidebar_border": "#EEEEEE",
    "wrapper_background": "#FFFFFF"
   },
   "moveMenuLeft": true,
   "nav_menu": {
    "height": "66px",
    "width": "252px"
   },
   "navigate_menu": true,
   "number_sections": true,
   "sideBar": true,
   "threshold": 4,
   "toc_cell": false,
   "toc_section_display": "block",
   "toc_window_display": false,
   "widenNotebook": false
  }
 },
 "nbformat": 4,
 "nbformat_minor": 4
}
