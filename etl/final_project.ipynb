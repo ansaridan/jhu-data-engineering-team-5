{
 "cells": [
  {
   "cell_type": "markdown",
   "id": "1b4fbf02-4aed-4e8f-acc9-068210b5c2d8",
   "metadata": {},
   "source": [
    "# Final Project Code"
   ]
  },
  {
   "cell_type": "code",
   "execution_count": 1,
   "id": "44866d91-3a1a-4c0c-83c5-1d91ad4abab7",
   "metadata": {},
   "outputs": [],
   "source": [
    "# run in base directory\n",
    "import os\n",
    "os.chdir(\"/home/awesome\")\n",
    "\n",
    "# datatypes\n",
    "import json\n",
    "import yaml\n",
    "# database connection\n",
    "import psycopg2\n",
    "import psycopg2.extras\n",
    "import psycopg2.extensions as psql_ext\n",
    "from psycopg2 import sql\n",
    "# custom etl functions\n",
    "from etl import etl\n",
    "# respective datasets\n",
    "from etl import station_info as info\n",
    "# computation\n",
    "import pandas as pd\n",
    "# utilities\n",
    "from pathlib import Path\n",
    "import itertools\n",
    "# typing\n",
    "from typing import Union\n",
    "\n",
    "# set up directories\n",
    "HOME_PATH = Path.cwd()\n",
    "DATA_PATH = HOME_PATH / 'etl' / 'processed_data'\n",
    "SCHEMAS_PATH = HOME_PATH / 'etl' / 'schemas'\n",
    "\n",
    "PROJECT_SCHEMA = 'citibike_project'"
   ]
  },
  {
   "cell_type": "markdown",
   "id": "db293678-68e7-45b3-b2f3-19dbcc069649",
   "metadata": {},
   "source": [
    "# Set Up Database"
   ]
  },
  {
   "cell_type": "markdown",
   "id": "c4e1f09d-ad66-4cf6-b9ea-b9b6f98edea0",
   "metadata": {},
   "source": [
    "### Connect, Set up schema"
   ]
  },
  {
   "cell_type": "code",
   "execution_count": 2,
   "id": "2a69bf1d-0a60-42b8-979b-b3eead28cd05",
   "metadata": {},
   "outputs": [],
   "source": [
    "# PSQL db connection using psycopg2\n",
    "conn = psycopg2.connect(\n",
    "    dbname='new_db', \n",
    "    user='awesome_user', \n",
    "    password='awesome_password', \n",
    "    host='postgres', \n",
    "    port='5432'\n",
    ")"
   ]
  },
  {
   "cell_type": "code",
   "execution_count": 3,
   "id": "b8a82829-997b-42e4-886f-cd95b21be86d",
   "metadata": {},
   "outputs": [
    {
     "name": "stdout",
     "output_type": "stream",
     "text": [
      "Table 'irs_codes' dropped.\n",
      "Table 'nyc_irs' dropped.\n",
      "Table 'station_info' dropped.\n",
      "Table 'weather_general' dropped.\n",
      "Table 'weather_precip' dropped.\n",
      "All tables in citibike_project dropped successfully.\n",
      "Dropped Schema citibike_project.\n",
      "Created Schema citibike_project.\n"
     ]
    }
   ],
   "source": [
    "etl.drop_recreate_schema(conn, PROJECT_SCHEMA)"
   ]
  },
  {
   "cell_type": "markdown",
   "id": "43507033-2240-4bd5-9845-9048aa762a27",
   "metadata": {},
   "source": [
    "### Clean all tables"
   ]
  },
  {
   "cell_type": "code",
   "execution_count": 4,
   "id": "fb884185-027c-4c46-8120-8132f6e3bc01",
   "metadata": {},
   "outputs": [
    {
     "name": "stdout",
     "output_type": "stream",
     "text": [
      "Dropping citibike_project.irs_codes\n",
      "Creating citibike_project.irs_codes\n",
      "Dropping citibike_project.nyc_irs\n",
      "Creating citibike_project.nyc_irs\n",
      "Dropping citibike_project.station_info\n",
      "Creating citibike_project.station_info\n",
      "Dropping citibike_project.weather_general\n",
      "Creating citibike_project.weather_general\n",
      "Dropping citibike_project.weather_precip\n",
      "Creating citibike_project.weather_precip\n"
     ]
    }
   ],
   "source": [
    "schema_files = [item for item in SCHEMAS_PATH.iterdir() if item.is_file()]\n",
    "tables_schemas = list(itertools.chain(*[etl.read_yaml_to_dict(schema_file)[\"tables\"] for schema_file in schema_files]))\n",
    "tables_schemas = {k: v for d in tables_schemas for k, v in d.items()}\n",
    "\n",
    "for table_name, table_schema in tables_schemas.items():\n",
    "    etl.drop_recreate_table(\n",
    "        db_schema=PROJECT_SCHEMA,\n",
    "        table_name=table_name,\n",
    "        table_schema=table_schema,\n",
    "        conn=conn,\n",
    "    )\n"
   ]
  },
  {
   "cell_type": "markdown",
   "id": "cabc7564-7e8c-415a-a63c-6007f47652a2",
   "metadata": {},
   "source": [
    "# Upload Data"
   ]
  },
  {
   "cell_type": "markdown",
   "id": "50670da0-ad9c-45f7-bfe8-9095f292b117",
   "metadata": {},
   "source": [
    "### Aggregated Ride Data"
   ]
  },
  {
   "cell_type": "code",
   "execution_count": 5,
   "id": "ed6678e6-82a1-429f-b70d-3f55926b756d",
   "metadata": {},
   "outputs": [],
   "source": [
    "# TKTK"
   ]
  },
  {
   "cell_type": "markdown",
   "id": "6b18e4f5-6aa3-40d2-9af9-f769a45a28d5",
   "metadata": {},
   "source": [
    "### Weather Data"
   ]
  },
  {
   "cell_type": "code",
   "execution_count": 6,
   "id": "b2cb9607-8f04-4772-9ed2-bd2ba64fe638",
   "metadata": {},
   "outputs": [
    {
     "name": "stdout",
     "output_type": "stream",
     "text": [
      "Uploaded 11272 records to citibike_project.weather_general\n",
      "Uploaded 11272 records to citibike_project.weather_precip\n"
     ]
    }
   ],
   "source": [
    "for file in [\n",
    "    \"weather_general\",\n",
    "    \"weather_precip\",\n",
    "]:\n",
    "    df = pd.read_csv(DATA_PATH / \"weather\" / f\"{file}.csv\")\n",
    "    etl.upload_dataframe(\n",
    "        conn=conn,\n",
    "        dataframe=df,\n",
    "        db_schema=PROJECT_SCHEMA,\n",
    "        table_name=file,\n",
    "        table_schema=tables_schemas[file]\n",
    "    )"
   ]
  },
  {
   "cell_type": "markdown",
   "id": "ea6025dc-00f7-4a71-b06b-99593ec2393f",
   "metadata": {},
   "source": [
    "### Station Info"
   ]
  },
  {
   "cell_type": "code",
   "execution_count": 7,
   "id": "5564437d-f973-401d-bfc5-cf806abd00c7",
   "metadata": {},
   "outputs": [
    {
     "name": "stdout",
     "output_type": "stream",
     "text": [
      "Uploaded 2221 records to citibike_project.station_info\n"
     ]
    }
   ],
   "source": [
    "df_station_status = info.get_station_info_data()\n",
    "\n",
    "etl.upload_dataframe(\n",
    "    conn=conn,\n",
    "    dataframe=df_station_status,\n",
    "    db_schema=PROJECT_SCHEMA,\n",
    "    table_name='station_info',\n",
    "    table_schema=tables_schemas[\"station_info\"]\n",
    ")"
   ]
  },
  {
   "cell_type": "code",
   "execution_count": 8,
   "id": "3c33d7c3-938f-4f5e-b623-83484e9237ae",
   "metadata": {},
   "outputs": [],
   "source": [
    "# pd.read_sql_query(f\"SELECT * FROM {PROJECT_SCHEMA}.station_info LIMIT 3\", conn)"
   ]
  },
  {
   "cell_type": "markdown",
   "id": "a0274592-8062-4a37-8f74-2788c12e6378",
   "metadata": {},
   "source": [
    "### IRS Data"
   ]
  },
  {
   "cell_type": "code",
   "execution_count": 9,
   "id": "ad6528fc-84e9-4d26-b0c5-6b428593eff0",
   "metadata": {},
   "outputs": [
    {
     "name": "stdout",
     "output_type": "stream",
     "text": [
      "Uploaded 167 records to citibike_project.irs_codes\n",
      "Uploaded 1050 records to citibike_project.nyc_irs\n"
     ]
    }
   ],
   "source": [
    "for file in [\n",
    "    \"irs_codes\",\n",
    "    \"nyc_irs\",\n",
    "]:\n",
    "    df = pd.read_csv(DATA_PATH / \"irs\" / f\"{file}.csv\")\n",
    "    etl.upload_dataframe(\n",
    "        conn=conn,\n",
    "        dataframe=df,\n",
    "        db_schema=PROJECT_SCHEMA,\n",
    "        table_name=file,\n",
    "        table_schema=tables_schemas[file]\n",
    "    )"
   ]
  },
  {
   "cell_type": "markdown",
   "id": "340e8c61-59de-4135-8197-700338e15f6e",
   "metadata": {},
   "source": [
    "### Close the connection"
   ]
  },
  {
   "cell_type": "code",
   "execution_count": 10,
   "id": "d531750f-1d3f-45a4-9990-22848db948e1",
   "metadata": {},
   "outputs": [],
   "source": [
    "# conn.close()"
   ]
  },
  {
   "cell_type": "markdown",
   "id": "4d005a61-fc0e-4a92-9abc-5f66b1eb84d8",
   "metadata": {},
   "source": [
    "# Report Generation"
   ]
  },
  {
   "cell_type": "code",
   "execution_count": 11,
   "id": "6fb5bf25-f62a-4dd3-a2e9-31b127a0d525",
   "metadata": {},
   "outputs": [
    {
     "name": "stderr",
     "output_type": "stream",
     "text": [
      "/tmp/ipykernel_210/137927088.py:1: UserWarning: pandas only supports SQLAlchemy connectable (engine/connection) or database string URI or sqlite3 DBAPI2 connection. Other DBAPI2 objects are not tested. Please consider using SQLAlchemy.\n",
      "  df_stations = pd.read_sql_query(f\"SELECT * FROM {PROJECT_SCHEMA}.station_info\", conn)\n"
     ]
    }
   ],
   "source": [
    "df_stations = pd.read_sql_query(f\"SELECT * FROM {PROJECT_SCHEMA}.station_info\", conn)\n",
    "df_largest_stations = df_stations.sort_values(by=\"capacity\", ascending=False).iloc[:50]"
   ]
  },
  {
   "cell_type": "code",
   "execution_count": 12,
   "id": "885466f8-893d-4da8-9e54-67622046ce9f",
   "metadata": {},
   "outputs": [
    {
     "name": "stderr",
     "output_type": "stream",
     "text": [
      "/tmp/ipykernel_210/808375836.py:1: UserWarning: pandas only supports SQLAlchemy connectable (engine/connection) or database string URI or sqlite3 DBAPI2 connection. Other DBAPI2 objects are not tested. Please consider using SQLAlchemy.\n",
      "  df_weather_precip = pd.read_sql_query(f\"SELECT * FROM {PROJECT_SCHEMA}.weather_precip\", conn)\n"
     ]
    }
   ],
   "source": [
    "df_weather_precip = pd.read_sql_query(f\"SELECT * FROM {PROJECT_SCHEMA}.weather_precip\", conn)\n",
    "df_weather_precip[\"one_hour_precip_amount\"] = pd.to_numeric(df_weather_precip['one_hour_precip_amount'], errors='coerce')\n",
    "df_weather_precip_daily = df_weather_precip.groupby(by=\"date\")[[\"one_hour_precip_amount\"]].sum()"
   ]
  },
  {
   "cell_type": "code",
   "execution_count": 13,
   "id": "82d7b127-0a6d-4aef-b3f0-bafb3ae7f4d8",
   "metadata": {},
   "outputs": [
    {
     "name": "stderr",
     "output_type": "stream",
     "text": [
      "/tmp/ipykernel_210/580007286.py:3: UserWarning: pandas only supports SQLAlchemy connectable (engine/connection) or database string URI or sqlite3 DBAPI2 connection. Other DBAPI2 objects are not tested. Please consider using SQLAlchemy.\n",
      "  df_stations = pd.read_sql_query(f\"SELECT * FROM {PROJECT_SCHEMA}.station_info\", conn)\n",
      "/tmp/ipykernel_210/580007286.py:5: UserWarning: pandas only supports SQLAlchemy connectable (engine/connection) or database string URI or sqlite3 DBAPI2 connection. Other DBAPI2 objects are not tested. Please consider using SQLAlchemy.\n",
      "  df_weather_precip = pd.read_sql_query(f\"SELECT * FROM {PROJECT_SCHEMA}.weather_precip\", conn)\n"
     ]
    }
   ],
   "source": [
    "import plotly.graph_objs as go\n",
    "\n",
    "df_stations = pd.read_sql_query(f\"SELECT * FROM {PROJECT_SCHEMA}.station_info\", conn)\n",
    "\n",
    "df_weather_precip = pd.read_sql_query(f\"SELECT * FROM {PROJECT_SCHEMA}.weather_precip\", conn)\n",
    "df_weather_precip[\"one_hour_precip_amount\"] = pd.to_numeric(df_weather_precip['one_hour_precip_amount'], errors='coerce')\n",
    "df_weather_precip_daily = df_weather_precip.groupby(by=\"date\")[[\"one_hour_precip_amount\"]].sum()\n",
    "\n",
    "# Create simple plots\n",
    "bar1 = go.Bar(x=df_weather_precip_daily.index, y=df_weather_precip_daily.one_hour_precip_amount)\n",
    "layout1 = go.Layout()\n",
    "fig1 = go.Figure([bar1], layout1)\n",
    "\n",
    "# Create another simple plot\n",
    "# Create a table\n",
    "fig2 = go.Figure(data=[go.Table(\n",
    "    header=dict(\n",
    "        values=list(df_largest_stations.to_dict().keys()),\n",
    "        fill_color='paleturquoise',\n",
    "        align='left'\n",
    "    ),\n",
    "    cells=dict(\n",
    "        values=df_largest_stations.values.T,\n",
    "        fill_color='lavender',\n",
    "        align='left'\n",
    "    ))\n",
    "])\n",
    "\n",
    "# Convert figures to HTML strings\n",
    "fig1_html = fig1.to_html(full_html=False, include_plotlyjs='cdn')\n",
    "fig2_html = fig2.to_html(full_html=False, include_plotlyjs='cdn')\n",
    "\n",
    "# Create the HTML template\n",
    "template = \"\"\"\n",
    "<html>\n",
    "\n",
    "df_largest_stations = df_stations.sort_values(by=\"capacity\", ascending=False).iloc[:50]\n",
    "<head>\n",
    "    <title>Plotly Report</title>\n",
    "    <script src=\"https://cdn.plot.ly/plotly-latest.min.js\"></script>\n",
    "</head>\n",
    "<body>\n",
    "    <h1>CitiBike Report</h1>\n",
    "    <div id='divPlotly1'>\n",
    "        <h2>Daily Precipitation</h2>\n",
    "        {fig1_html}\n",
    "    </div>\n",
    "    <div id='divPlotly2'>\n",
    "        <h2>Largest Stations</h2>\n",
    "        {fig2_html}\n",
    "    </div>\n",
    "</body>\n",
    "</html>\n",
    "\"\"\"\n",
    "\n",
    "# Write the HTML report to a file\n",
    "with open('report.html', 'w') as f:\n",
    "    f.write(template.format(fig1_html=fig1_html, fig2_html=fig2_html))\n"
   ]
  },
  {
   "cell_type": "code",
   "execution_count": null,
   "id": "415ce960-5a25-435d-b3fb-b0d6741e5ccf",
   "metadata": {},
   "outputs": [],
   "source": []
  },
  {
   "cell_type": "code",
   "execution_count": null,
   "id": "7d077a41-589c-4627-9dc8-3280a959401f",
   "metadata": {},
   "outputs": [],
   "source": []
  }
 ],
 "metadata": {
  "kernelspec": {
   "display_name": "Python 3 (ipykernel)",
   "language": "python",
   "name": "python3"
  },
  "language_info": {
   "codemirror_mode": {
    "name": "ipython",
    "version": 3
   },
   "file_extension": ".py",
   "mimetype": "text/x-python",
   "name": "python",
   "nbconvert_exporter": "python",
   "pygments_lexer": "ipython3",
   "version": "3.10.12"
  }
 },
 "nbformat": 4,
 "nbformat_minor": 5
}
