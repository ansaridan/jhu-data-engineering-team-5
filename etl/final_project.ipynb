{
 "cells": [
  {
   "cell_type": "markdown",
   "id": "1b4fbf02-4aed-4e8f-acc9-068210b5c2d8",
   "metadata": {},
   "source": [
    "# Final Project Code"
   ]
  },
  {
   "cell_type": "code",
   "execution_count": 10,
   "id": "44866d91-3a1a-4c0c-83c5-1d91ad4abab7",
   "metadata": {},
   "outputs": [],
   "source": [
    "# run in base directory\n",
    "import os\n",
    "os.chdir(\"/home/awesome\")\n",
    "\n",
    "# datatypes\n",
    "import json\n",
    "import yaml\n",
    "# database connection\n",
    "import psycopg2\n",
    "import psycopg2.extras\n",
    "import psycopg2.extensions as psql_ext\n",
    "from psycopg2 import sql\n",
    "# custom etl functions\n",
    "from etl import etl\n",
    "# respective datasets\n",
    "from etl import station_info as info\n",
    "# computation\n",
    "import pandas as pd\n",
    "# utilities\n",
    "from pathlib import Path\n",
    "import itertools\n",
    "# typing\n",
    "from typing import Union\n",
    "\n",
    "# set up directories\n",
    "HOME_PATH = Path.cwd()\n",
    "DATA_PATH = HOME_PATH / 'etl' / 'processed_data'\n",
    "SCHEMAS_PATH = HOME_PATH / 'etl' / 'schemas'\n",
    "\n",
    "PROJECT_SCHEMA = 'citibike_project'"
   ]
  },
  {
   "cell_type": "markdown",
   "id": "db293678-68e7-45b3-b2f3-19dbcc069649",
   "metadata": {},
   "source": [
    "# Set Up Database"
   ]
  },
  {
   "cell_type": "markdown",
   "id": "c4e1f09d-ad66-4cf6-b9ea-b9b6f98edea0",
   "metadata": {},
   "source": [
    "### Connect, Set up schema"
   ]
  },
  {
   "cell_type": "code",
   "execution_count": 2,
   "id": "2a69bf1d-0a60-42b8-979b-b3eead28cd05",
   "metadata": {},
   "outputs": [],
   "source": [
    "# PSQL db connection using psycopg2\n",
    "conn = psycopg2.connect(\n",
    "    dbname='new_db', \n",
    "    user='awesome_user', \n",
    "    password='awesome_password', \n",
    "    host='postgres', \n",
    "    port='5432'\n",
    ")"
   ]
  },
  {
   "cell_type": "code",
   "execution_count": 3,
   "id": "b8a82829-997b-42e4-886f-cd95b21be86d",
   "metadata": {},
   "outputs": [
    {
     "name": "stdout",
     "output_type": "stream",
     "text": [
      "Table 'irs_codes' dropped.\n",
      "Table 'irs_data' dropped.\n",
      "Table 'station_info' dropped.\n",
      "Table 'general' dropped.\n",
      "All tables in citibike_project dropped successfully.\n",
      "Dropped Schema citibike_project.\n",
      "Created Schema citibike_project.\n"
     ]
    }
   ],
   "source": [
    "etl.drop_recreate_schema(conn, PROJECT_SCHEMA)"
   ]
  },
  {
   "cell_type": "markdown",
   "id": "43507033-2240-4bd5-9845-9048aa762a27",
   "metadata": {},
   "source": [
    "### Clean all tables"
   ]
  },
  {
   "cell_type": "code",
   "execution_count": 20,
   "id": "fb884185-027c-4c46-8120-8132f6e3bc01",
   "metadata": {},
   "outputs": [
    {
     "name": "stdout",
     "output_type": "stream",
     "text": [
      "Dropping citibike_project.irs_codes\n",
      "Creating citibike_project.irs_codes\n",
      "Dropping citibike_project.irs_data\n",
      "Creating citibike_project.irs_data\n",
      "Dropping citibike_project.station_info\n",
      "Creating citibike_project.station_info\n",
      "Dropping citibike_project.weather_general\n",
      "Creating citibike_project.weather_general\n",
      "Dropping citibike_project.weather_precip\n",
      "Creating citibike_project.weather_precip\n"
     ]
    }
   ],
   "source": [
    "schema_files = [item for item in SCHEMAS_PATH.iterdir() if item.is_file()]\n",
    "tables_schemas = list(itertools.chain(*[etl.read_yaml_to_dict(schema_file)[\"tables\"] for schema_file in schema_files]))\n",
    "tables_schemas = {k: v for d in tables_schemas for k, v in d.items()}\n",
    "\n",
    "for table_name, table_schema in tables_schemas.items():\n",
    "    etl.drop_recreate_table(\n",
    "        db_schema=PROJECT_SCHEMA,\n",
    "        table_name=table_name,\n",
    "        table_schema=table_schema,\n",
    "        conn=conn,\n",
    "    )\n"
   ]
  },
  {
   "cell_type": "markdown",
   "id": "cabc7564-7e8c-415a-a63c-6007f47652a2",
   "metadata": {},
   "source": [
    "# Upload Data"
   ]
  },
  {
   "cell_type": "markdown",
   "id": "6b18e4f5-6aa3-40d2-9af9-f769a45a28d5",
   "metadata": {},
   "source": [
    "### Weather Data"
   ]
  },
  {
   "cell_type": "code",
   "execution_count": 21,
   "id": "b2cb9607-8f04-4772-9ed2-bd2ba64fe638",
   "metadata": {},
   "outputs": [
    {
     "name": "stdout",
     "output_type": "stream",
     "text": [
      "Uploaded 11272 records to citibike_project.weather_general\n",
      "Uploaded 11272 records to citibike_project.weather_precip\n"
     ]
    }
   ],
   "source": [
    "for file in [\n",
    "    \"weather_general\",\n",
    "    \"weather_precip\",\n",
    "]:\n",
    "    df = pd.read_csv(DATA_PATH / \"weather\" / f\"{file}.csv\")\n",
    "    etl.upload_dataframe(\n",
    "        conn=conn,\n",
    "        dataframe=df,\n",
    "        db_schema=PROJECT_SCHEMA,\n",
    "        table_name=file,\n",
    "        table_schema=tables_schemas[file]\n",
    "    )"
   ]
  },
  {
   "cell_type": "markdown",
   "id": "ea6025dc-00f7-4a71-b06b-99593ec2393f",
   "metadata": {},
   "source": [
    "### Station Info"
   ]
  },
  {
   "cell_type": "code",
   "execution_count": 23,
   "id": "5564437d-f973-401d-bfc5-cf806abd00c7",
   "metadata": {},
   "outputs": [
    {
     "name": "stdout",
     "output_type": "stream",
     "text": [
      "Uploaded 2221 records to citibike_project.station_info\n"
     ]
    }
   ],
   "source": [
    "df_station_status = info.get_station_info_data()\n",
    "\n",
    "etl.upload_dataframe(\n",
    "    conn=conn,\n",
    "    dataframe=df_station_status,\n",
    "    db_schema=PROJECT_SCHEMA,\n",
    "    table_name='station_info',\n",
    "    table_schema=tables_schemas[\"station_info\"]\n",
    ")"
   ]
  },
  {
   "cell_type": "code",
   "execution_count": 22,
   "id": "3c33d7c3-938f-4f5e-b623-83484e9237ae",
   "metadata": {},
   "outputs": [],
   "source": [
    "# pd.read_sql_query(f\"SELECT * FROM {PROJECT_SCHEMA}.station_info LIMIT 3\", conn)"
   ]
  },
  {
   "cell_type": "markdown",
   "id": "a0274592-8062-4a37-8f74-2788c12e6378",
   "metadata": {},
   "source": [
    "### IRS Data"
   ]
  },
  {
   "cell_type": "code",
   "execution_count": 25,
   "id": "895e8c5f-e457-4d6f-b670-3f73a0dcb4bd",
   "metadata": {},
   "outputs": [
    {
     "data": {
      "text/html": [
       "<div>\n",
       "<style scoped>\n",
       "    .dataframe tbody tr th:only-of-type {\n",
       "        vertical-align: middle;\n",
       "    }\n",
       "\n",
       "    .dataframe tbody tr th {\n",
       "        vertical-align: top;\n",
       "    }\n",
       "\n",
       "    .dataframe thead th {\n",
       "        text-align: right;\n",
       "    }\n",
       "</style>\n",
       "<table border=\"1\" class=\"dataframe\">\n",
       "  <thead>\n",
       "    <tr style=\"text-align: right;\">\n",
       "      <th></th>\n",
       "      <th>Unnamed: 0</th>\n",
       "      <th>Code</th>\n",
       "      <th>Description</th>\n",
       "    </tr>\n",
       "  </thead>\n",
       "  <tbody>\n",
       "    <tr>\n",
       "      <th>0</th>\n",
       "      <td>0</td>\n",
       "      <td>STATEFIPS</td>\n",
       "      <td>State Federal Information Processing System</td>\n",
       "    </tr>\n",
       "    <tr>\n",
       "      <th>1</th>\n",
       "      <td>1</td>\n",
       "      <td>STATE</td>\n",
       "      <td>State associated with zip code</td>\n",
       "    </tr>\n",
       "    <tr>\n",
       "      <th>2</th>\n",
       "      <td>2</td>\n",
       "      <td>ZIPCODE</td>\n",
       "      <td>5-digit zip code</td>\n",
       "    </tr>\n",
       "    <tr>\n",
       "      <th>3</th>\n",
       "      <td>3</td>\n",
       "      <td>AGI_STUB</td>\n",
       "      <td>Size of adjusted gross income</td>\n",
       "    </tr>\n",
       "    <tr>\n",
       "      <th>4</th>\n",
       "      <td>4</td>\n",
       "      <td>N1</td>\n",
       "      <td>Number of returns</td>\n",
       "    </tr>\n",
       "  </tbody>\n",
       "</table>\n",
       "</div>"
      ],
      "text/plain": [
       "   Unnamed: 0       Code                                  Description\n",
       "0           0  STATEFIPS  State Federal Information Processing System\n",
       "1           1      STATE               State associated with zip code\n",
       "2           2    ZIPCODE                             5-digit zip code\n",
       "3           3   AGI_STUB                Size of adjusted gross income\n",
       "4           4         N1                            Number of returns"
      ]
     },
     "execution_count": 25,
     "metadata": {},
     "output_type": "execute_result"
    }
   ],
   "source": [
    "\n",
    "df_irs_codes.head()"
   ]
  },
  {
   "cell_type": "code",
   "execution_count": 28,
   "id": "ad6528fc-84e9-4d26-b0c5-6b428593eff0",
   "metadata": {},
   "outputs": [
    {
     "name": "stdout",
     "output_type": "stream",
     "text": [
      "Uploaded 167 records to citibike_project.irs_codes\n"
     ]
    }
   ],
   "source": [
    "df_irs_codes = pd.read_csv(DATA_PATH / \"irs\" / \"irs_codes.csv\")\n",
    "etl.upload_dataframe(\n",
    "    conn=conn,\n",
    "    dataframe=df_irs_codes[[\"Code\", \"Description\"]],\n",
    "    db_schema=PROJECT_SCHEMA,\n",
    "    table_name='irs_codes',\n",
    "    table_schema=tables_schemas[\"irs_codes\"]\n",
    ")"
   ]
  },
  {
   "cell_type": "code",
   "execution_count": 33,
   "id": "b6fa31bb-1596-48cd-8387-f42289321b35",
   "metadata": {},
   "outputs": [
    {
     "name": "stderr",
     "output_type": "stream",
     "text": [
      "/tmp/ipykernel_1174/791849326.py:1: UserWarning: pandas only supports SQLAlchemy connectable (engine/connection) or database string URI or sqlite3 DBAPI2 connection. Other DBAPI2 objects are not tested. Please consider using SQLAlchemy.\n",
      "  pd.read_sql_query(f\"SELECT * FROM {PROJECT_SCHEMA}.irs_codes LIMIT 3\", conn)\n"
     ]
    },
    {
     "data": {
      "text/html": [
       "<div>\n",
       "<style scoped>\n",
       "    .dataframe tbody tr th:only-of-type {\n",
       "        vertical-align: middle;\n",
       "    }\n",
       "\n",
       "    .dataframe tbody tr th {\n",
       "        vertical-align: top;\n",
       "    }\n",
       "\n",
       "    .dataframe thead th {\n",
       "        text-align: right;\n",
       "    }\n",
       "</style>\n",
       "<table border=\"1\" class=\"dataframe\">\n",
       "  <thead>\n",
       "    <tr style=\"text-align: right;\">\n",
       "      <th></th>\n",
       "      <th>code</th>\n",
       "      <th>description</th>\n",
       "    </tr>\n",
       "  </thead>\n",
       "  <tbody>\n",
       "    <tr>\n",
       "      <th>0</th>\n",
       "      <td>STATEFIPS</td>\n",
       "      <td>State Federal Information Processing System</td>\n",
       "    </tr>\n",
       "    <tr>\n",
       "      <th>1</th>\n",
       "      <td>STATE</td>\n",
       "      <td>State associated with zip code</td>\n",
       "    </tr>\n",
       "    <tr>\n",
       "      <th>2</th>\n",
       "      <td>ZIPCODE</td>\n",
       "      <td>5-digit zip code</td>\n",
       "    </tr>\n",
       "  </tbody>\n",
       "</table>\n",
       "</div>"
      ],
      "text/plain": [
       "        code                                  description\n",
       "0  STATEFIPS  State Federal Information Processing System\n",
       "1      STATE               State associated with zip code\n",
       "2    ZIPCODE                             5-digit zip code"
      ]
     },
     "execution_count": 33,
     "metadata": {},
     "output_type": "execute_result"
    }
   ],
   "source": [
    "pd.read_sql_query(f\"SELECT * FROM {PROJECT_SCHEMA}.irs_codes LIMIT 3\", conn)"
   ]
  },
  {
   "cell_type": "markdown",
   "id": "340e8c61-59de-4135-8197-700338e15f6e",
   "metadata": {},
   "source": [
    "### Close the connection"
   ]
  },
  {
   "cell_type": "code",
   "execution_count": 26,
   "id": "d531750f-1d3f-45a4-9990-22848db948e1",
   "metadata": {},
   "outputs": [],
   "source": [
    "# conn.close()"
   ]
  },
  {
   "cell_type": "markdown",
   "id": "4d005a61-fc0e-4a92-9abc-5f66b1eb84d8",
   "metadata": {},
   "source": [
    "# Report Generation"
   ]
  },
  {
   "cell_type": "code",
   "execution_count": null,
   "id": "0b134684-d57d-4a5e-9e16-03c1a114090c",
   "metadata": {},
   "outputs": [],
   "source": []
  }
 ],
 "metadata": {
  "kernelspec": {
   "display_name": "Python 3 (ipykernel)",
   "language": "python",
   "name": "python3"
  },
  "language_info": {
   "codemirror_mode": {
    "name": "ipython",
    "version": 3
   },
   "file_extension": ".py",
   "mimetype": "text/x-python",
   "name": "python",
   "nbconvert_exporter": "python",
   "pygments_lexer": "ipython3",
   "version": "3.10.12"
  }
 },
 "nbformat": 4,
 "nbformat_minor": 5
}
