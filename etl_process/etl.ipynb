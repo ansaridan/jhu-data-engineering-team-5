{
 "cells": [
  {
   "cell_type": "markdown",
   "id": "1b4fbf02-4aed-4e8f-acc9-068210b5c2d8",
   "metadata": {},
   "source": [
    "# Final Project Code"
   ]
  },
  {
   "cell_type": "code",
   "execution_count": 14,
   "id": "44866d91-3a1a-4c0c-83c5-1d91ad4abab7",
   "metadata": {},
   "outputs": [],
   "source": [
    "# run in base directory\n",
    "WORKDIR = \"/home/awesome\"\n",
    "import os\n",
    "os.chdir(WORKDIR)\n",
    "\n",
    "# datatypes\n",
    "import json\n",
    "import yaml\n",
    "# database connection\n",
    "import psycopg2\n",
    "import psycopg2.extras\n",
    "import psycopg2.extensions as psql_ext\n",
    "from psycopg2 import sql\n",
    "# custom etl functions\n",
    "from etl_process import utils as etl\n",
    "# respective datasets\n",
    "from etl_process.data_processing import station_info as info\n",
    "# computation\n",
    "import pandas as pd\n",
    "# utilities\n",
    "from pathlib import Path\n",
    "import itertools\n",
    "# typing\n",
    "from typing import Union\n",
    "\n",
    "# set up directories\n",
    "WORKDIR_PATH = Path.cwd()\n",
    "DATA_PATH = WORKDIR_PATH / 'etl_process' / 'processed_data'\n",
    "SCHEMAS_PATH = WORKDIR_PATH / 'etl_process' / 'schemas'\n",
    "\n",
    "PROJECT_SCHEMA = 'citibike_project'"
   ]
  },
  {
   "cell_type": "markdown",
   "id": "db293678-68e7-45b3-b2f3-19dbcc069649",
   "metadata": {},
   "source": [
    "# Set Up Database"
   ]
  },
  {
   "cell_type": "markdown",
   "id": "c4e1f09d-ad66-4cf6-b9ea-b9b6f98edea0",
   "metadata": {},
   "source": [
    "### Connect, Set up schema"
   ]
  },
  {
   "cell_type": "code",
   "execution_count": 15,
   "id": "2a69bf1d-0a60-42b8-979b-b3eead28cd05",
   "metadata": {},
   "outputs": [],
   "source": [
    "# PSQL db connection using psycopg2\n",
    "conn = psycopg2.connect(\n",
    "    dbname='new_db', \n",
    "    user='awesome_user', \n",
    "    password='awesome_password', \n",
    "    host='postgres', \n",
    "    port='5432'\n",
    ")"
   ]
  },
  {
   "cell_type": "code",
   "execution_count": 16,
   "id": "b8a82829-997b-42e4-886f-cd95b21be86d",
   "metadata": {},
   "outputs": [
    {
     "name": "stdout",
     "output_type": "stream",
     "text": [
      "Table 'irs_codes' dropped.\n",
      "Table 'nyc_irs' dropped.\n",
      "Table 'citibike_station_history' dropped.\n",
      "Table 'station_info' dropped.\n",
      "Table 'weather_general' dropped.\n",
      "Table 'weather_precip' dropped.\n",
      "Table 'weather_wind' dropped.\n",
      "Table 'weather_pressure' dropped.\n",
      "All tables in citibike_project dropped successfully.\n",
      "Dropped Schema citibike_project.\n",
      "Created Schema citibike_project.\n"
     ]
    }
   ],
   "source": [
    "etl.drop_recreate_schema(conn, PROJECT_SCHEMA)"
   ]
  },
  {
   "cell_type": "markdown",
   "id": "43507033-2240-4bd5-9845-9048aa762a27",
   "metadata": {},
   "source": [
    "### Clean all tables"
   ]
  },
  {
   "cell_type": "code",
   "execution_count": 17,
   "id": "fb884185-027c-4c46-8120-8132f6e3bc01",
   "metadata": {},
   "outputs": [
    {
     "name": "stdout",
     "output_type": "stream",
     "text": [
      "Dropping citibike_project.irs_codes\n",
      "Creating citibike_project.irs_codes\n",
      "Dropping citibike_project.nyc_irs\n",
      "Creating citibike_project.nyc_irs\n",
      "Dropping citibike_project.citibike_station_history\n",
      "Creating citibike_project.citibike_station_history\n",
      "Dropping citibike_project.station_info\n",
      "Creating citibike_project.station_info\n",
      "Dropping citibike_project.weather_general\n",
      "Creating citibike_project.weather_general\n",
      "Dropping citibike_project.weather_precip\n",
      "Creating citibike_project.weather_precip\n",
      "Dropping citibike_project.weather_wind\n",
      "Creating citibike_project.weather_wind\n",
      "Dropping citibike_project.weather_pressure\n",
      "Creating citibike_project.weather_pressure\n"
     ]
    }
   ],
   "source": [
    "schema_files = [item for item in SCHEMAS_PATH.iterdir() if item.is_file()]\n",
    "tables_schemas = list(itertools.chain(*[etl.read_yaml_to_dict(schema_file)[\"tables\"] for schema_file in schema_files]))\n",
    "tables_schemas = {k: v for d in tables_schemas for k, v in d.items()}\n",
    "\n",
    "for table_name, table_schema in tables_schemas.items():\n",
    "# for table_name, table_schema in [(\"weather_precip\", tables_schemas[\"weather_precip\"])]:\n",
    "    etl.drop_recreate_table(\n",
    "        db_schema=PROJECT_SCHEMA,\n",
    "        table_name=table_name,\n",
    "        table_schema=table_schema,\n",
    "        conn=conn,\n",
    "    )\n"
   ]
  },
  {
   "cell_type": "markdown",
   "id": "cabc7564-7e8c-415a-a63c-6007f47652a2",
   "metadata": {},
   "source": [
    "# Upload Data"
   ]
  },
  {
   "cell_type": "markdown",
   "id": "50670da0-ad9c-45f7-bfe8-9095f292b117",
   "metadata": {},
   "source": [
    "### Aggregated Ride Data"
   ]
  },
  {
   "cell_type": "code",
   "execution_count": null,
   "id": "ed6678e6-82a1-429f-b70d-3f55926b756d",
   "metadata": {},
   "outputs": [],
   "source": [
    "traffic_data = [item for item in (DATA_PATH / \"rides\" / \"station_traffic\").iterdir() if item.is_file()]\n",
    "\n",
    "for file in traffic_data:\n",
    "    df = pd.read_csv(file)\n",
    "    etl.upload_dataframe(\n",
    "        conn=conn,\n",
    "        dataframe=df,\n",
    "        db_schema=PROJECT_SCHEMA,\n",
    "        table_name=\"citibike_station_history\",\n",
    "        table_schema=tables_schemas[\"citibike_station_history\"]\n",
    "    )\n"
   ]
  },
  {
   "cell_type": "markdown",
   "id": "6b18e4f5-6aa3-40d2-9af9-f769a45a28d5",
   "metadata": {},
   "source": [
    "### Weather Data"
   ]
  },
  {
   "cell_type": "code",
   "execution_count": null,
   "id": "b2cb9607-8f04-4772-9ed2-bd2ba64fe638",
   "metadata": {},
   "outputs": [],
   "source": [
    "for file in [\n",
    "    \"weather_general\",\n",
    "    \"weather_precip\",\n",
    "]:\n",
    "    df = pd.read_csv(DATA_PATH / \"weather\" / f\"{file}.csv\")\n",
    "    etl.upload_dataframe(\n",
    "        conn=conn,\n",
    "        dataframe=df,\n",
    "        db_schema=PROJECT_SCHEMA,\n",
    "        table_name=file,\n",
    "        table_schema=tables_schemas[file]\n",
    "    )"
   ]
  },
  {
   "cell_type": "markdown",
   "id": "ea6025dc-00f7-4a71-b06b-99593ec2393f",
   "metadata": {},
   "source": [
    "### Station Info"
   ]
  },
  {
   "cell_type": "code",
   "execution_count": null,
   "id": "5564437d-f973-401d-bfc5-cf806abd00c7",
   "metadata": {},
   "outputs": [],
   "source": [
    "df_station_info = info.get_station_info_data()\n",
    "\n",
    "etl.upload_dataframe(\n",
    "    conn=conn,\n",
    "    dataframe=df_station_info,\n",
    "    db_schema=PROJECT_SCHEMA,\n",
    "    table_name='station_info',\n",
    "    table_schema=tables_schemas[\"station_info\"]\n",
    ")"
   ]
  },
  {
   "cell_type": "code",
   "execution_count": null,
   "id": "3c33d7c3-938f-4f5e-b623-83484e9237ae",
   "metadata": {},
   "outputs": [],
   "source": [
    "# pd.read_sql_query(f\"SELECT * FROM {PROJECT_SCHEMA}.station_info LIMIT 3\", conn)"
   ]
  },
  {
   "cell_type": "markdown",
   "id": "a0274592-8062-4a37-8f74-2788c12e6378",
   "metadata": {},
   "source": [
    "### IRS Data"
   ]
  },
  {
   "cell_type": "code",
   "execution_count": null,
   "id": "ad6528fc-84e9-4d26-b0c5-6b428593eff0",
   "metadata": {},
   "outputs": [],
   "source": [
    "for file in [\n",
    "    \"irs_codes\",\n",
    "    \"nyc_irs\",\n",
    "]:\n",
    "    df = pd.read_csv(DATA_PATH / \"irs\" / f\"{file}.csv\")\n",
    "    etl.upload_dataframe(\n",
    "        conn=conn,\n",
    "        dataframe=df,\n",
    "        db_schema=PROJECT_SCHEMA,\n",
    "        table_name=file,\n",
    "        table_schema=tables_schemas[file]\n",
    "    )"
   ]
  },
  {
   "cell_type": "markdown",
   "id": "340e8c61-59de-4135-8197-700338e15f6e",
   "metadata": {},
   "source": [
    "### Close the connection"
   ]
  },
  {
   "cell_type": "code",
   "execution_count": null,
   "id": "d531750f-1d3f-45a4-9990-22848db948e1",
   "metadata": {},
   "outputs": [],
   "source": [
    "conn.close()"
   ]
  },
  {
   "cell_type": "code",
   "execution_count": null,
   "id": "8951a464-50bd-4f80-b80b-30e87da8c2a1",
   "metadata": {},
   "outputs": [],
   "source": []
  }
 ],
 "metadata": {
  "kernelspec": {
   "display_name": "Python 3 (ipykernel)",
   "language": "python",
   "name": "python3"
  },
  "language_info": {
   "codemirror_mode": {
    "name": "ipython",
    "version": 3
   },
   "file_extension": ".py",
   "mimetype": "text/x-python",
   "name": "python",
   "nbconvert_exporter": "python",
   "pygments_lexer": "ipython3",
   "version": "3.10.12"
  }
 },
 "nbformat": 4,
 "nbformat_minor": 5
}
