{
 "cells": [
  {
   "cell_type": "markdown",
   "metadata": {},
   "source": [
    "# Module 12 Lab - Distance Based Machine Learning\n",
    "\n",
    "## Directions\n",
    "\n",
    "\n",
    "The due dates for each are indicated in the Syllabus and the course calendar. If anything is unclear, please email EN685.648@gmail.com the official email for the course or ask questions in the Lab discussion area on Blackboard.\n",
    "\n",
    "The Labs also present technical material that augments the lectures and \"book\".  You should read through the entire lab at the start of each module.\n",
    "\n",
    "<div style=\"background: mistyrose; color: firebrick; border: 2px solid darkred; padding: 5px; margin: 10px;\">\n",
    "Please follow the directions and make sure you provide the requested output. Failure to do so may result in a lower grade even if the code is correct or even 0 points.\n",
    "</div>\n",
    "\n",
    "1. Show all work/steps/calculations. If it is easier to write it out by hand, do so and submit a scanned PDF in addition to this notebook. Otherwise, generate a Markdown cell for each answer.\n",
    "2. You must submit to **two** places by the deadline:\n",
    "    1. In the Lab section of the Course Module where you downloaded this file from, and\n",
    "    2. In your Lab Discussion Group, in the forum for the appropriate Module.\n",
    "3. You may use any core Python libraries or Numpy/Scipy. **Additionally, code from the Module notebooks and lectures is fair to use and modify.** You may also consult Stackoverflow (SO). If you use something from SO, please place a comment with the URL to document the code."
   ]
  },
  {
   "cell_type": "markdown",
   "metadata": {},
   "source": [
    "We're getting to the point in the semester where you should be know the drill.\n",
    "\n",
    "This module covered 3 basic problems: supervised learning (classification, regression), unsupervised learning (clustering) and recommenders (collaborative filtering based systems related to missing value imputation) using distance/similarity. We're only going to cover the first 2 in this lab.\n",
    "\n",
    "You should definitely use [Scikit Learn](http://scikit-learn.org/stable/) and refer to the documentation for this assignment.\n",
    "\n",
    "Remember to create a new random seed for each experiment (if needed) and save it."
   ]
  },
  {
   "cell_type": "markdown",
   "metadata": {},
   "source": [
    "**kNN Regression**\n",
    "\n",
    "Use k-Nearest Neighbors *regression* for the insurance data set. Make sure you do the following:\n",
    "\n",
    "1. Pick an appropriate evaluation metric.\n",
    "2. Validation curves to find the best value of k.\n",
    "3. Learning curves to see if we are high bias or high variance and suggest ways to improve the model.\n",
    "4. 10 fold cross validation to estimate the mean metric and its credible interval.\n",
    "5. Was this better than the best linear regression model you estimated in Lab 11? Use Bayesian statistical inference to generate and evaluate the posterior distribution of the difference of means."
   ]
  },
  {
   "cell_type": "markdown",
   "metadata": {},
   "source": [
    "First we have our imports followed by loading in the dataset."
   ]
  },
  {
   "cell_type": "code",
   "execution_count": 1,
   "metadata": {
    "tags": []
   },
   "outputs": [],
   "source": [
    "import numpy as np\n",
    "import random as py_random\n",
    "import numpy.random as np_random\n",
    "import time\n",
    "import seaborn as sns\n",
    "import matplotlib.pyplot as plt\n",
    "import pandas as pd\n",
    "import scipy.stats as stats\n",
    "import sklearn\n",
    "import sklearn.linear_model\n",
    "\n",
    "sns.set(style=\"whitegrid\")"
   ]
  },
  {
   "cell_type": "code",
   "execution_count": 2,
   "metadata": {},
   "outputs": [],
   "source": [
    "insurance = pd.read_csv(\"https://raw.githubusercontent.com/fundamentals-of-data-science/datasets/master/insurance.csv\", header=0)"
   ]
  },
  {
   "cell_type": "markdown",
   "metadata": {},
   "source": [
    "I'll just make sure it loaded correctly. We should have 1338 values for each variable."
   ]
  },
  {
   "cell_type": "code",
   "execution_count": 3,
   "metadata": {},
   "outputs": [
    {
     "name": "stdout",
     "output_type": "stream",
     "text": [
      "<class 'pandas.core.frame.DataFrame'>\n",
      "RangeIndex: 1338 entries, 0 to 1337\n",
      "Data columns (total 7 columns):\n",
      " #   Column    Non-Null Count  Dtype  \n",
      "---  ------    --------------  -----  \n",
      " 0   age       1338 non-null   int64  \n",
      " 1   sex       1338 non-null   object \n",
      " 2   bmi       1338 non-null   float64\n",
      " 3   children  1338 non-null   int64  \n",
      " 4   smoker    1338 non-null   object \n",
      " 5   region    1338 non-null   object \n",
      " 6   charges   1338 non-null   float64\n",
      "dtypes: float64(2), int64(2), object(3)\n",
      "memory usage: 73.3+ KB\n"
     ]
    }
   ],
   "source": [
    "insurance.info()"
   ]
  },
  {
   "cell_type": "markdown",
   "metadata": {},
   "source": [
    "Looks like we're good to go. Now we can start with the kNN and Scikit."
   ]
  },
  {
   "cell_type": "markdown",
   "metadata": {},
   "source": [
    "1. For our evaluation metric, we want to treat overestimates and underestimates the same while penalizing larger errors more than smaller errors. The loss function should then we the mean squared error, or root mean squared error (RMSE). If we create a Null model, we would use the mean to minimize our RMSE."
   ]
  },
  {
   "cell_type": "markdown",
   "metadata": {},
   "source": [
    "Since charges is our target variable, we can look quickly at our Null model."
   ]
  },
  {
   "cell_type": "code",
   "execution_count": 4,
   "metadata": {},
   "outputs": [
    {
     "data": {
      "text/plain": [
       "count     1338.000000\n",
       "mean     13270.422265\n",
       "std      12110.011237\n",
       "min       1121.873900\n",
       "25%       4740.287150\n",
       "50%       9382.033000\n",
       "75%      16639.912515\n",
       "max      63770.428010\n",
       "Name: charges, dtype: float64"
      ]
     },
     "execution_count": 4,
     "metadata": {},
     "output_type": "execute_result"
    }
   ],
   "source": [
    "insurance['charges'].describe()"
   ]
  },
  {
   "cell_type": "markdown",
   "metadata": {},
   "source": [
    "Our mean is 13,270 and standard deviation is 12,110. We can also create error bounds with the std dev assuming a symmetrical distribution."
   ]
  },
  {
   "cell_type": "code",
   "execution_count": 5,
   "metadata": {},
   "outputs": [
    {
     "name": "stdout",
     "output_type": "stream",
     "text": [
      "(-10456.328286959502, 36997.17281724201)\n"
     ]
    }
   ],
   "source": [
    "charges_mean = np.mean(insurance['charges'])\n",
    "charges_std = np.std(insurance['charges'])\n",
    "\n",
    "lower = charges_mean - 1.96 * charges_std\n",
    "upper = charges_mean + 1.96 * charges_std\n",
    "\n",
    "print(f'({lower}, {upper})')"
   ]
  },
  {
   "cell_type": "markdown",
   "metadata": {},
   "source": [
    "Now this doesn't make sense because one this variable isn't actually symmetric and two charges cannot be negative. Since our focus is not on EDA and distributional models however I will move on."
   ]
  },
  {
   "cell_type": "markdown",
   "metadata": {},
   "source": [
    "2. Now let's use validation curves to find the best k value for k nearest neighbors. Most of this code is taken from the *Fundamentals DRAFT, Page 34*."
   ]
  },
  {
   "cell_type": "code",
   "execution_count": 6,
   "metadata": {},
   "outputs": [],
   "source": [
    "from sklearn.model_selection import validation_curve, ValidationCurveDisplay\n",
    "from sklearn.utils import shuffle\n",
    "from sklearn.neighbors import KNeighborsRegressor"
   ]
  },
  {
   "cell_type": "markdown",
   "metadata": {},
   "source": [
    "Before we get to the curves, we need to perform encodings for our categorical variables sex, smoker, and region, as we did with linear regression."
   ]
  },
  {
   "cell_type": "code",
   "execution_count": 7,
   "metadata": {},
   "outputs": [],
   "source": [
    "insurance = pd.concat([insurance, pd.get_dummies(insurance[\"sex\"])], axis=1)\n",
    "insurance = pd.concat([insurance, pd.get_dummies(insurance[\"smoker\"], prefix=\"smoke\")], axis=1)\n",
    "insurance = pd.concat([insurance, pd.get_dummies(insurance['region'])], axis=1)"
   ]
  },
  {
   "cell_type": "markdown",
   "metadata": {},
   "source": [
    "We can check all our variables now."
   ]
  },
  {
   "cell_type": "code",
   "execution_count": 8,
   "metadata": {},
   "outputs": [
    {
     "data": {
      "text/html": [
       "<div>\n",
       "<style scoped>\n",
       "    .dataframe tbody tr th:only-of-type {\n",
       "        vertical-align: middle;\n",
       "    }\n",
       "\n",
       "    .dataframe tbody tr th {\n",
       "        vertical-align: top;\n",
       "    }\n",
       "\n",
       "    .dataframe thead th {\n",
       "        text-align: right;\n",
       "    }\n",
       "</style>\n",
       "<table border=\"1\" class=\"dataframe\">\n",
       "  <thead>\n",
       "    <tr style=\"text-align: right;\">\n",
       "      <th></th>\n",
       "      <th>age</th>\n",
       "      <th>sex</th>\n",
       "      <th>bmi</th>\n",
       "      <th>children</th>\n",
       "      <th>smoker</th>\n",
       "      <th>region</th>\n",
       "      <th>charges</th>\n",
       "      <th>female</th>\n",
       "      <th>male</th>\n",
       "      <th>smoke_no</th>\n",
       "      <th>smoke_yes</th>\n",
       "      <th>northeast</th>\n",
       "      <th>northwest</th>\n",
       "      <th>southeast</th>\n",
       "      <th>southwest</th>\n",
       "    </tr>\n",
       "  </thead>\n",
       "  <tbody>\n",
       "    <tr>\n",
       "      <th>0</th>\n",
       "      <td>19</td>\n",
       "      <td>female</td>\n",
       "      <td>27.900</td>\n",
       "      <td>0</td>\n",
       "      <td>yes</td>\n",
       "      <td>southwest</td>\n",
       "      <td>16884.92400</td>\n",
       "      <td>True</td>\n",
       "      <td>False</td>\n",
       "      <td>False</td>\n",
       "      <td>True</td>\n",
       "      <td>False</td>\n",
       "      <td>False</td>\n",
       "      <td>False</td>\n",
       "      <td>True</td>\n",
       "    </tr>\n",
       "    <tr>\n",
       "      <th>1</th>\n",
       "      <td>18</td>\n",
       "      <td>male</td>\n",
       "      <td>33.770</td>\n",
       "      <td>1</td>\n",
       "      <td>no</td>\n",
       "      <td>southeast</td>\n",
       "      <td>1725.55230</td>\n",
       "      <td>False</td>\n",
       "      <td>True</td>\n",
       "      <td>True</td>\n",
       "      <td>False</td>\n",
       "      <td>False</td>\n",
       "      <td>False</td>\n",
       "      <td>True</td>\n",
       "      <td>False</td>\n",
       "    </tr>\n",
       "    <tr>\n",
       "      <th>2</th>\n",
       "      <td>28</td>\n",
       "      <td>male</td>\n",
       "      <td>33.000</td>\n",
       "      <td>3</td>\n",
       "      <td>no</td>\n",
       "      <td>southeast</td>\n",
       "      <td>4449.46200</td>\n",
       "      <td>False</td>\n",
       "      <td>True</td>\n",
       "      <td>True</td>\n",
       "      <td>False</td>\n",
       "      <td>False</td>\n",
       "      <td>False</td>\n",
       "      <td>True</td>\n",
       "      <td>False</td>\n",
       "    </tr>\n",
       "    <tr>\n",
       "      <th>3</th>\n",
       "      <td>33</td>\n",
       "      <td>male</td>\n",
       "      <td>22.705</td>\n",
       "      <td>0</td>\n",
       "      <td>no</td>\n",
       "      <td>northwest</td>\n",
       "      <td>21984.47061</td>\n",
       "      <td>False</td>\n",
       "      <td>True</td>\n",
       "      <td>True</td>\n",
       "      <td>False</td>\n",
       "      <td>False</td>\n",
       "      <td>True</td>\n",
       "      <td>False</td>\n",
       "      <td>False</td>\n",
       "    </tr>\n",
       "    <tr>\n",
       "      <th>4</th>\n",
       "      <td>32</td>\n",
       "      <td>male</td>\n",
       "      <td>28.880</td>\n",
       "      <td>0</td>\n",
       "      <td>no</td>\n",
       "      <td>northwest</td>\n",
       "      <td>3866.85520</td>\n",
       "      <td>False</td>\n",
       "      <td>True</td>\n",
       "      <td>True</td>\n",
       "      <td>False</td>\n",
       "      <td>False</td>\n",
       "      <td>True</td>\n",
       "      <td>False</td>\n",
       "      <td>False</td>\n",
       "    </tr>\n",
       "  </tbody>\n",
       "</table>\n",
       "</div>"
      ],
      "text/plain": [
       "   age     sex     bmi  children smoker     region      charges  female  \\\n",
       "0   19  female  27.900         0    yes  southwest  16884.92400    True   \n",
       "1   18    male  33.770         1     no  southeast   1725.55230   False   \n",
       "2   28    male  33.000         3     no  southeast   4449.46200   False   \n",
       "3   33    male  22.705         0     no  northwest  21984.47061   False   \n",
       "4   32    male  28.880         0     no  northwest   3866.85520   False   \n",
       "\n",
       "    male  smoke_no  smoke_yes  northeast  northwest  southeast  southwest  \n",
       "0  False     False       True      False      False      False       True  \n",
       "1   True      True      False      False      False       True      False  \n",
       "2   True      True      False      False      False       True      False  \n",
       "3   True      True      False      False       True      False      False  \n",
       "4   True      True      False      False       True      False      False  "
      ]
     },
     "execution_count": 8,
     "metadata": {},
     "output_type": "execute_result"
    }
   ],
   "source": [
    "insurance.head()"
   ]
  },
  {
   "cell_type": "markdown",
   "metadata": {},
   "source": [
    "So let's create a regressors list and a target list to make working with the scikit learn tools easier."
   ]
  },
  {
   "cell_type": "code",
   "execution_count": 9,
   "metadata": {},
   "outputs": [
    {
     "data": {
      "text/plain": [
       "<sklearn.model_selection._plot.ValidationCurveDisplay at 0x26bd4c08350>"
      ]
     },
     "execution_count": 9,
     "metadata": {},
     "output_type": "execute_result"
    },
    {
     "data": {
      "image/png": "[encoded data removed]",
      "text/plain": [
       "<Figure size 640x480 with 1 Axes>"
      ]
     },
     "metadata": {},
     "output_type": "display_data"
    }
   ],
   "source": [
    "regressors = ['age', 'bmi', 'children', 'male', 'smoke_yes', 'northwest', 'southeast', 'southwest']\n",
    "target = ['charges']\n",
    "\n",
    "X = insurance[regressors]\n",
    "y = insurance[target]\n",
    "\n",
    "X, y = shuffle(X, y, random_state=10)\n",
    "ValidationCurveDisplay.from_estimator(KNeighborsRegressor(), X, y, param_name='n_neighbors', param_range=list(range(1,20)), scoring='neg_root_mean_squared_error')\n"
   ]
  },
  {
   "cell_type": "markdown",
   "metadata": {},
   "source": [
    "For low k values, the RMSE for the training data is only around maybe -500 and 'increases' as k increases. For the test data, low values of k have the RMSE around -14,000 and 'decreases' up to -11,000 as k increases. It looks like we get some sort of convergance for RMSE between the test data and training data around k = 10, although I might be inclined to say that k = 7.5 or even k=7 still might be good as well."
   ]
  },
  {
   "cell_type": "markdown",
   "metadata": {},
   "source": [
    "3. Now we can create learning curves to determine whether we are in high bias or high variance. From when we performed linear regression on this dataset (Module 11), we had a high bias situation for that model. Let's see if we get similar results here."
   ]
  },
  {
   "cell_type": "markdown",
   "metadata": {},
   "source": [
    "We'll use sklearn again, the way to plot learning curves are very similar to how we just looked at validation curves."
   ]
  },
  {
   "cell_type": "code",
   "execution_count": 10,
   "metadata": {},
   "outputs": [],
   "source": [
    "from sklearn.model_selection import LearningCurveDisplay, learning_curve"
   ]
  },
  {
   "cell_type": "code",
   "execution_count": 11,
   "metadata": {},
   "outputs": [
    {
     "data": {
      "text/plain": [
       "<sklearn.model_selection._plot.LearningCurveDisplay at 0x26bd4d3e450>"
      ]
     },
     "execution_count": 11,
     "metadata": {},
     "output_type": "execute_result"
    },
    {
     "data": {
      "image/png": "[encoded data removed]",
      "text/plain": [
       "<Figure size 640x480 with 1 Axes>"
      ]
     },
     "metadata": {},
     "output_type": "display_data"
    }
   ],
   "source": [
    "\n",
    "regressors = ['age', 'bmi', 'children', 'male', 'smoke_yes', 'northwest', 'southeast', 'southwest']\n",
    "target = ['charges']\n",
    "\n",
    "X = insurance[regressors]\n",
    "y = insurance[target]\n",
    "\n",
    "X, y = shuffle(X, y, random_state=10)\n",
    "LearningCurveDisplay.from_estimator(KNeighborsRegressor(), X, y, scoring='neg_root_mean_squared_error')\n"
   ]
  },
  {
   "cell_type": "markdown",
   "metadata": {},
   "source": [
    "So we see here that as we increase the amount of training data, the RMSE for both the training and test set increase. We don't see nice curves as we saw in linear regression, but what this tells us is that we are in a high bias situation and thus underfitting. One way we might improve the model is by getting more data."
   ]
  },
  {
   "cell_type": "markdown",
   "metadata": {},
   "source": [
    "4. Now we can use 10 cross-fold validation to estimate the mean metric and its credible interval."
   ]
  },
  {
   "cell_type": "markdown",
   "metadata": {},
   "source": [
    "Here are the imports"
   ]
  },
  {
   "cell_type": "code",
   "execution_count": 12,
   "metadata": {},
   "outputs": [],
   "source": [
    "from sklearn.model_selection import train_test_split, cross_val_score"
   ]
  },
  {
   "cell_type": "markdown",
   "metadata": {},
   "source": [
    "Let's make sure our data is in proper form."
   ]
  },
  {
   "cell_type": "code",
   "execution_count": 13,
   "metadata": {},
   "outputs": [],
   "source": [
    "x = insurance.loc[:, ['age', 'bmi', 'children', 'male', 'smoke_yes', \n",
    "                    'northwest', 'southeast', 'southwest']].values\n",
    "\n",
    "y = insurance['charges'].values"
   ]
  },
  {
   "cell_type": "markdown",
   "metadata": {},
   "source": [
    "We'll do 3 rounds of cross-fold validation just as we did for Lab 11. The main difference of course is using KNN algorithm instead of Linear Regression. I'll use k=7 since the validation curves showed that may be an optimal number of neighbors for KNN."
   ]
  },
  {
   "cell_type": "code",
   "execution_count": 14,
   "metadata": {},
   "outputs": [],
   "source": [
    "np.random.seed(83443)\n",
    "model = KNeighborsRegressor(n_neighbors=7)\n",
    "mses = []\n",
    "r2s = []\n",
    "\n",
    "\n",
    "for i in range(0,3):\n",
    "    # this shuffles the observations in the dataframe\n",
    "    insurance = insurance.sample(frac=1).reset_index(drop=True)\n",
    "\n",
    "    scores_mse = abs(cross_val_score(model, x, y, scoring='neg_root_mean_squared_error', cv=10))\n",
    "    scores_r2 = abs(cross_val_score(model, x, y, scoring='r2', cv=10))\n",
    "\n",
    "    mses.append(scores_mse)\n",
    "    r2s.append(scores_r2)"
   ]
  },
  {
   "cell_type": "markdown",
   "metadata": {},
   "source": [
    "Now we have our scores, we can concatenate to get all 30 into a single list for the mean squared error, r2 values, and sigmas."
   ]
  },
  {
   "cell_type": "code",
   "execution_count": 15,
   "metadata": {},
   "outputs": [
    {
     "data": {
      "text/html": [
       "<div>\n",
       "<style scoped>\n",
       "    .dataframe tbody tr th:only-of-type {\n",
       "        vertical-align: middle;\n",
       "    }\n",
       "\n",
       "    .dataframe tbody tr th {\n",
       "        vertical-align: top;\n",
       "    }\n",
       "\n",
       "    .dataframe thead th {\n",
       "        text-align: right;\n",
       "    }\n",
       "</style>\n",
       "<table border=\"1\" class=\"dataframe\">\n",
       "  <thead>\n",
       "    <tr style=\"text-align: right;\">\n",
       "      <th></th>\n",
       "      <th>0</th>\n",
       "    </tr>\n",
       "  </thead>\n",
       "  <tbody>\n",
       "    <tr>\n",
       "      <th>count</th>\n",
       "      <td>30.000000</td>\n",
       "    </tr>\n",
       "    <tr>\n",
       "      <th>mean</th>\n",
       "      <td>11049.505405</td>\n",
       "    </tr>\n",
       "    <tr>\n",
       "      <th>std</th>\n",
       "      <td>726.629998</td>\n",
       "    </tr>\n",
       "    <tr>\n",
       "      <th>min</th>\n",
       "      <td>9882.588243</td>\n",
       "    </tr>\n",
       "    <tr>\n",
       "      <th>25%</th>\n",
       "      <td>10504.742371</td>\n",
       "    </tr>\n",
       "    <tr>\n",
       "      <th>50%</th>\n",
       "      <td>10909.392747</td>\n",
       "    </tr>\n",
       "    <tr>\n",
       "      <th>75%</th>\n",
       "      <td>11460.369408</td>\n",
       "    </tr>\n",
       "    <tr>\n",
       "      <th>max</th>\n",
       "      <td>12506.199577</td>\n",
       "    </tr>\n",
       "  </tbody>\n",
       "</table>\n",
       "</div>"
      ],
      "text/plain": [
       "                  0\n",
       "count     30.000000\n",
       "mean   11049.505405\n",
       "std      726.629998\n",
       "min     9882.588243\n",
       "25%    10504.742371\n",
       "50%    10909.392747\n",
       "75%    11460.369408\n",
       "max    12506.199577"
      ]
     },
     "execution_count": 15,
     "metadata": {},
     "output_type": "execute_result"
    }
   ],
   "source": [
    "mse_all = np.concatenate([mses[0], mses[1], mses[2]])\n",
    "r2_all = np.concatenate([r2s[0], r2s[1], r2s[2]])\n",
    "sigma_all = np.concatenate([np.sqrt(mses[0]), np.sqrt(mses[1]),np.sqrt(mses[2])])\n",
    "\n",
    "pd.DataFrame(mse_all).describe()"
   ]
  },
  {
   "cell_type": "markdown",
   "metadata": {},
   "source": [
    "We see our results with the RMSE scoring we have a mean RMSE value of 11,049."
   ]
  },
  {
   "cell_type": "markdown",
   "metadata": {},
   "source": [
    "And now we can just use quantiles to get the credible intervals for the RMSE metric."
   ]
  },
  {
   "cell_type": "code",
   "execution_count": 16,
   "metadata": {},
   "outputs": [
    {
     "name": "stdout",
     "output_type": "stream",
     "text": [
      "95% CI for sigma: [ 9882.58824349 12506.19957734]\n"
     ]
    }
   ],
   "source": [
    "print('95% CI for sigma:', stats.mstats.mquantiles(mse_all, [0.025, 0.975]))"
   ]
  },
  {
   "cell_type": "markdown",
   "metadata": {},
   "source": [
    "We see a 95% probability that the mean RMSE falls between 9882 and 12506. We could make similar CI bounds for the $R^2$ and $\\sigma$ as well but that's left as an exercise to the reader."
   ]
  },
  {
   "cell_type": "markdown",
   "metadata": {},
   "source": [
    "5. Finally, we'll use Bayesian statistical inference to generate the posterior distributions and difference in means."
   ]
  },
  {
   "cell_type": "code",
   "execution_count": 17,
   "metadata": {},
   "outputs": [],
   "source": [
    "def bootstrap_sample( data, f, n=100):\n",
    "    result = []\n",
    "    m = len( data)\n",
    "    for _ in range( n):\n",
    "        sample = np.random.choice( data, len(data), replace=True)\n",
    "        r = f( sample)\n",
    "        result.append( r)\n",
    "    return np.array( result)"
   ]
  },
  {
   "cell_type": "markdown",
   "metadata": {},
   "source": [
    "We'll use the best linear regression model we found for the last Lab."
   ]
  },
  {
   "cell_type": "markdown",
   "metadata": {},
   "source": [
    "Here is just transforming/creating the variables and interaction terms for the best linear model."
   ]
  },
  {
   "cell_type": "code",
   "execution_count": 18,
   "metadata": {},
   "outputs": [],
   "source": [
    "insurance['age_sq'] = insurance['age'] ** 2\n",
    "insurance[\"bmi_above_30\"] = insurance.bmi.apply(lambda bmi: 1 if bmi > 30.0 else 0)\n",
    "\n",
    "insurance['interaction1'] = insurance['smoke_yes']*insurance['bmi']\n",
    "insurance['interaction2'] = insurance['smoke_yes']*insurance['bmi_above_30']"
   ]
  },
  {
   "cell_type": "markdown",
   "metadata": {},
   "source": [
    "Now we can perform the same cross fold validation on the linear model to get 30 results for RMSE."
   ]
  },
  {
   "cell_type": "code",
   "execution_count": 19,
   "metadata": {},
   "outputs": [],
   "source": [
    "x = insurance.loc[:, ['age_sq', 'male', 'bmi', 'smoke_yes', \n",
    "                    'interaction1',\n",
    "                    'bmi_above_30', 'interaction2',\n",
    "                    'children']].values\n",
    "\n",
    "y = insurance['charges'].values"
   ]
  },
  {
   "cell_type": "code",
   "execution_count": 20,
   "metadata": {},
   "outputs": [],
   "source": [
    "np.random.seed(83443)\n",
    "\n",
    "model = sklearn.linear_model.LinearRegression()\n",
    "\n",
    "linear_mses = []\n",
    "linear_r2s = []\n",
    "\n",
    "\n",
    "for i in range(0,3):\n",
    "    # this shuffles the observations in the dataframe\n",
    "    insurance = insurance.sample(frac=1).reset_index(drop=True)\n",
    "\n",
    "    scores_mse = abs(cross_val_score(model, x, y, scoring='neg_root_mean_squared_error', cv=10))\n",
    "    scores_r2 = abs(cross_val_score(model, x, y, scoring='r2', cv=10))\n",
    "\n",
    "    linear_mses.append(scores_mse)\n",
    "    linear_r2s.append(scores_r2)"
   ]
  },
  {
   "cell_type": "markdown",
   "metadata": {},
   "source": [
    "Now we just concatenate as we did with KNN."
   ]
  },
  {
   "cell_type": "code",
   "execution_count": 21,
   "metadata": {},
   "outputs": [
    {
     "data": {
      "text/html": [
       "<div>\n",
       "<style scoped>\n",
       "    .dataframe tbody tr th:only-of-type {\n",
       "        vertical-align: middle;\n",
       "    }\n",
       "\n",
       "    .dataframe tbody tr th {\n",
       "        vertical-align: top;\n",
       "    }\n",
       "\n",
       "    .dataframe thead th {\n",
       "        text-align: right;\n",
       "    }\n",
       "</style>\n",
       "<table border=\"1\" class=\"dataframe\">\n",
       "  <thead>\n",
       "    <tr style=\"text-align: right;\">\n",
       "      <th></th>\n",
       "      <th>0</th>\n",
       "    </tr>\n",
       "  </thead>\n",
       "  <tbody>\n",
       "    <tr>\n",
       "      <th>count</th>\n",
       "      <td>30.000000</td>\n",
       "    </tr>\n",
       "    <tr>\n",
       "      <th>mean</th>\n",
       "      <td>4336.510792</td>\n",
       "    </tr>\n",
       "    <tr>\n",
       "      <th>std</th>\n",
       "      <td>713.984864</td>\n",
       "    </tr>\n",
       "    <tr>\n",
       "      <th>min</th>\n",
       "      <td>2935.200421</td>\n",
       "    </tr>\n",
       "    <tr>\n",
       "      <th>25%</th>\n",
       "      <td>4096.968439</td>\n",
       "    </tr>\n",
       "    <tr>\n",
       "      <th>50%</th>\n",
       "      <td>4611.108258</td>\n",
       "    </tr>\n",
       "    <tr>\n",
       "      <th>75%</th>\n",
       "      <td>4676.337039</td>\n",
       "    </tr>\n",
       "    <tr>\n",
       "      <th>max</th>\n",
       "      <td>5313.730175</td>\n",
       "    </tr>\n",
       "  </tbody>\n",
       "</table>\n",
       "</div>"
      ],
      "text/plain": [
       "                 0\n",
       "count    30.000000\n",
       "mean   4336.510792\n",
       "std     713.984864\n",
       "min    2935.200421\n",
       "25%    4096.968439\n",
       "50%    4611.108258\n",
       "75%    4676.337039\n",
       "max    5313.730175"
      ]
     },
     "execution_count": 21,
     "metadata": {},
     "output_type": "execute_result"
    }
   ],
   "source": [
    "linear_mse_all = np.concatenate([linear_mses[0], linear_mses[1], linear_mses[2]])\n",
    "linear_r2_all = np.concatenate([linear_r2s[0], linear_r2s[1], linear_r2s[2]])\n",
    "linear_sigma_all = np.concatenate([np.sqrt(linear_mses[0]), np.sqrt(linear_mses[1]),np.sqrt(linear_mses[2])])\n",
    "\n",
    "pd.DataFrame(linear_mse_all).describe()"
   ]
  },
  {
   "cell_type": "markdown",
   "metadata": {},
   "source": [
    "We see our mean here is 4336, about a third of what we saw for KNN. Let's bootstrap and compare the difference between the linear model and KNN."
   ]
  },
  {
   "cell_type": "code",
   "execution_count": 22,
   "metadata": {},
   "outputs": [],
   "source": [
    "posterior_knn = bootstrap_sample(mse_all, np.mean, 1000)\n",
    "posterior_linear = bootstrap_sample(linear_mse_all, np.mean, 1000)\n",
    "difference = posterior_knn - posterior_linear"
   ]
  },
  {
   "cell_type": "markdown",
   "metadata": {},
   "source": [
    "We can compare with a histogram"
   ]
  },
  {
   "cell_type": "code",
   "execution_count": 23,
   "metadata": {},
   "outputs": [
    {
     "data": {
      "image/png": "[encoded data removed]",
      "text/plain": [
       "<Figure size 2000x600 with 3 Axes>"
      ]
     },
     "metadata": {},
     "output_type": "display_data"
    }
   ],
   "source": [
    "figure = plt.figure(figsize=(20, 6)) # first element is width, second is height.\n",
    "\n",
    "axes = figure.add_subplot(1, 3, 1)\n",
    "\n",
    "axes.hist(posterior_knn, density=True, color=\"dimgray\")\n",
    "axes.set_ylabel( \"Density\")\n",
    "axes.set_xlabel( \"$\\hat{theta}$\")\n",
    "axes.set_title( \"Posterior Distribution of KNN $\\hat{theta}$\")\n",
    "\n",
    "axes = figure.add_subplot(1, 3, 2)\n",
    "\n",
    "axes.hist(posterior_linear, density=True, color=\"dimgray\")\n",
    "axes.set_ylabel( \"Density\")\n",
    "axes.set_xlabel( \"$\\hat{theta}$\")\n",
    "axes.set_title( \"Posterior Distribution of Linear $\\hat{theta}$\")\n",
    "\n",
    "axes = figure.add_subplot(1, 3, 3)\n",
    "\n",
    "axes.hist(difference, density=True, color=\"dimgray\")\n",
    "axes.set_ylabel( \"Density\")\n",
    "axes.set_xlabel( \"difference in $\\hat{theta}$\")\n",
    "axes.set_title( \"Posterior Distribution of Difference in $\\hat{theta}$s\")\n",
    "\n",
    "plt.show()\n",
    "plt.close()"
   ]
  },
  {
   "cell_type": "markdown",
   "metadata": {},
   "source": [
    "We see a difference in means of about 8000, which makes sense given the data we saw above, but perhaps not a lot of sense in theory."
   ]
  },
  {
   "cell_type": "markdown",
   "metadata": {},
   "source": [
    "We can look at the quantiles to get an idea of the credible intervals for the RMSEs as well."
   ]
  },
  {
   "cell_type": "code",
   "execution_count": 24,
   "metadata": {},
   "outputs": [
    {
     "name": "stdout",
     "output_type": "stream",
     "text": [
      "95% BCI for KNN theta: [10795.42287554 11317.73480673]\n",
      "95% BCI for Linear theta: [4079.48638345 4567.51959298]\n",
      "95% BCI for difference: [6379.08436397 7063.43438663]\n"
     ]
    }
   ],
   "source": [
    "print( \"95% BCI for KNN theta:\", stats.mstats.mquantiles(posterior_knn, [0.025, 0.975]))\n",
    "print( \"95% BCI for Linear theta:\", stats.mstats.mquantiles(posterior_linear, [0.025, 0.975]))\n",
    "print( \"95% BCI for difference:\", stats.mstats.mquantiles(difference, [0.025, 0.975]))"
   ]
  },
  {
   "cell_type": "markdown",
   "metadata": {},
   "source": [
    "The difference again is about 6379 to 7063. It's clear that the Linear posterior is about a third that of the KNN posterior. I would say the linear model is better than the KNN model here since we are looking to minimize values of the RMSE. We note that the KNN algorithm suffers from the 'Curse of Dimensionality' - performance of KNN decreases for higher dimensions of our dataset. This could be one such case where we have too many features. Linear regression does not deteriorate as significantly."
   ]
  }
 ],
 "metadata": {
  "jupytext": {
   "formats": "ipynb,md:myst"
  },
  "kernelspec": {
   "display_name": "Python (en685648)",
   "language": "python",
   "name": "en685648"
  },
  "language_info": {
   "codemirror_mode": {
    "name": "ipython",
    "version": 3
   },
   "file_extension": ".py",
   "mimetype": "text/x-python",
   "name": "python",
   "nbconvert_exporter": "python",
   "pygments_lexer": "ipython3",
   "version": "3.11.7"
  },
  "toc": {
   "colors": {
    "hover_highlight": "#DAA520",
    "navigate_num": "#000000",
    "navigate_text": "#333333",
    "running_highlight": "#FF0000",
    "selected_highlight": "#FFD700",
    "sidebar_border": "#EEEEEE",
    "wrapper_background": "#FFFFFF"
   },
   "moveMenuLeft": true,
   "nav_menu": {
    "height": "63px",
    "width": "252px"
   },
   "navigate_menu": true,
   "number_sections": true,
   "sideBar": true,
   "threshold": 4,
   "toc_cell": false,
   "toc_section_display": "block",
   "toc_window_display": false,
   "widenNotebook": false
  }
 },
 "nbformat": 4,
 "nbformat_minor": 4
}
