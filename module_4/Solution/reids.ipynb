{
 "cells": [
  {
   "cell_type": "code",
   "execution_count": 1,
   "id": "ebcfedf6-39b2-4886-ac6f-a57149912a83",
   "metadata": {},
   "outputs": [],
   "source": [
    "import json\n",
    "import sqlite3\n",
    "from pprint import pprint"
   ]
  },
  {
   "cell_type": "markdown",
   "id": "4b809389-c404-442c-ab79-ec03eb4d5ca7",
   "metadata": {},
   "source": [
    "<div style=\"background: lemonchiffon; margin:20px; padding: 20px;\">\n",
    "    <strong>Important</strong>\n",
    "    <p>\n",
    "        In your assignment, this file is supposed to be a .py file.\n",
    "        It is a .ipynb file here so that I can include extended explanations.\n",
    "    </p>\n",
    "</div>"
   ]
  },
  {
   "cell_type": "markdown",
   "id": "0c5b08a5-ea90-47c1-99d3-9dc313374acb",
   "metadata": {},
   "source": [
    "## Step 1.\n",
    "\n",
    "Open the JSON file and dig around.\n",
    "What we're looking for is the basic entities, how their structure might vary, the formatting of dates/timestamps/datetimes, and anything else that might cause problems for us.\n"
   ]
  },
  {
   "cell_type": "code",
   "execution_count": 2,
   "id": "e1d84627-d72b-4563-81c1-7438d43dc807",
   "metadata": {},
   "outputs": [],
   "source": [
    "with open(\"reids.json\") as f:\n",
    "    data = json.load(f)"
   ]
  },
  {
   "cell_type": "markdown",
   "id": "7031876b-95be-4ce5-a399-abc53d61048f",
   "metadata": {},
   "source": [
    "When poking around (very) large JSON files, it's better to look at types and keys first:"
   ]
  },
  {
   "cell_type": "code",
   "execution_count": 3,
   "id": "ea3c9e7e-9fdc-4294-bee7-db1268fca75f",
   "metadata": {},
   "outputs": [
    {
     "data": {
      "text/plain": [
       "dict"
      ]
     },
     "execution_count": 3,
     "metadata": {},
     "output_type": "execute_result"
    }
   ],
   "source": [
    "type(data)"
   ]
  },
  {
   "cell_type": "code",
   "execution_count": 4,
   "id": "e7de09af-4848-4f0b-8140-18c484e259c5",
   "metadata": {},
   "outputs": [
    {
     "data": {
      "text/plain": [
       "dict_keys(['orders'])"
      ]
     },
     "execution_count": 4,
     "metadata": {},
     "output_type": "execute_result"
    }
   ],
   "source": [
    "data.keys()"
   ]
  },
  {
   "cell_type": "markdown",
   "id": "00c6541d-4379-40b0-8f76-2092c5c1d733",
   "metadata": {},
   "source": [
    "This tells us that the \"root\" object we got back from the \"API\" is a JSON object.\n",
    "This isn't uncommon.\n",
    "We could have gotten a List back as well.\n",
    "We can look at the type of \"orders\":"
   ]
  },
  {
   "cell_type": "code",
   "execution_count": 5,
   "id": "4ce43ea6-4ebd-4631-8b52-4f592b9e4af6",
   "metadata": {},
   "outputs": [
    {
     "data": {
      "text/plain": [
       "list"
      ]
     },
     "execution_count": 5,
     "metadata": {},
     "output_type": "execute_result"
    }
   ],
   "source": [
    "type(data[\"orders\"])"
   ]
  },
  {
   "cell_type": "markdown",
   "id": "3659ad0e-4dc4-41ca-81ab-46ad363fda24",
   "metadata": {},
   "source": [
    "This is where our data is...how much of it is there?"
   ]
  },
  {
   "cell_type": "code",
   "execution_count": 6,
   "id": "ed19619e-e043-49e5-80c5-9060d63c8de4",
   "metadata": {},
   "outputs": [
    {
     "data": {
      "text/plain": [
       "2071"
      ]
     },
     "execution_count": 6,
     "metadata": {},
     "output_type": "execute_result"
    }
   ],
   "source": [
    "len(data[\"orders\"])"
   ]
  },
  {
   "cell_type": "markdown",
   "id": "f2dcd402-fafa-4203-be26-abd6f46c9cdd",
   "metadata": {},
   "source": [
    "We can put it in a convenience variable and then look at a few.\n",
    "`pprint` with compact=True will make the output look prettier..."
   ]
  },
  {
   "cell_type": "code",
   "execution_count": 7,
   "id": "5a4ff9c4-2cc5-4f99-a09b-d7444e0d4b88",
   "metadata": {},
   "outputs": [],
   "source": [
    "orders = data[\"orders\"]"
   ]
  },
  {
   "cell_type": "code",
   "execution_count": 8,
   "id": "a386305e-5a8c-4b4f-bf3f-d75367251e8d",
   "metadata": {},
   "outputs": [
    {
     "name": "stdout",
     "output_type": "stream",
     "text": [
      "[{'charges': {'date': '04/01/21 11:16',\n",
      "              'subtotal': 2.75,\n",
      "              'taxes': 0.19,\n",
      "              'total': 2.94},\n",
      "  'items': [{'name': 'coffee', 'price': 2.75}],\n",
      "  'payment': {'card_type': 'mastercard',\n",
      "              'cardholder': 'Brent Morgan',\n",
      "              'last_4_card_number': '5056',\n",
      "              'method': 'credit_card',\n",
      "              'zip': '21274'}},\n",
      " {'charges': {'date': '04/01/21 11:10',\n",
      "              'subtotal': 4.0,\n",
      "              'taxes': 0.28,\n",
      "              'total': 4.28},\n",
      "  'items': [{'name': 'coffee', 'price': 2.75},\n",
      "            {'name': 'espresso', 'price': 1.25}],\n",
      "  'payment': {'card_type': 'visa',\n",
      "              'cardholder': 'Andrew Luna',\n",
      "              'last_4_card_number': '6072',\n",
      "              'method': 'credit_card',\n",
      "              'zip': '21213'}},\n",
      " {'charges': {'date': '04/01/21 8:34',\n",
      "              'subtotal': 8.5,\n",
      "              'taxes': 0.6,\n",
      "              'total': 9.1},\n",
      "  'items': [{'name': 'coffee', 'price': 2.75},\n",
      "            {'name': 'flavor shot', 'price': 1.0},\n",
      "            {'name': 'egg & sausage', 'price': 4.75}],\n",
      "  'payment': {'method': 'cash'}},\n",
      " {'charges': {'date': '04/01/21 11:15',\n",
      "              'subtotal': 4.0,\n",
      "              'taxes': 0.28,\n",
      "              'total': 4.28},\n",
      "  'items': [{'name': 'coffee', 'price': 2.75},\n",
      "            {'name': 'espresso', 'price': 1.25}],\n",
      "  'payment': {'card_type': 'visa',\n",
      "              'cardholder': 'Andrea Francis',\n",
      "              'last_4_card_number': '9614',\n",
      "              'method': 'credit_card',\n",
      "              'zip': '21216'}},\n",
      " {'charges': {'date': '04/01/21 10:53',\n",
      "              'subtotal': 7.5,\n",
      "              'taxes': 0.53,\n",
      "              'total': 8.03},\n",
      "  'items': [{'name': 'coffee', 'price': 2.75},\n",
      "            {'name': 'egg & sausage', 'price': 4.75}],\n",
      "  'payment': {'card_type': 'visa',\n",
      "              'cardholder': 'Eric Bruce',\n",
      "              'last_4_card_number': '3715',\n",
      "              'method': 'credit_card',\n",
      "              'zip': '21230'}}]\n"
     ]
    }
   ],
   "source": [
    "pprint(orders[0:5], compact=True)"
   ]
  },
  {
   "cell_type": "markdown",
   "id": "bbc3e98b-43e5-4935-aa71-46a03d31ddea",
   "metadata": {},
   "source": [
    "Here we can see a number of things:\n",
    "\n",
    "1. Each order has a charge, items, and payment.\n",
    "2. The date for the charge is in the format %m/%d/%y but the time is unusual. The hour is not zero padded. Because the meridian or time zone is not indicated, we can assume, for now, that it is a 24 hour clock and local time. If we were using a timezone sensitive database, we'd need to take that into account.\n",
    "3. We can see at least two payment methods. Are there more? Since we lack documentation, we need to explore."
   ]
  },
  {
   "cell_type": "code",
   "execution_count": 9,
   "id": "d32b5b8f-8f19-429e-97f3-cca7a9b7cde8",
   "metadata": {},
   "outputs": [
    {
     "data": {
      "text/plain": [
       "{'cash', 'credit_card'}"
      ]
     },
     "execution_count": 9,
     "metadata": {},
     "output_type": "execute_result"
    }
   ],
   "source": [
    "set([order[\"payment\"][\"method\"] for order in orders])"
   ]
  },
  {
   "cell_type": "markdown",
   "id": "d1d78c0c-a9f0-40a8-beca-c4c1a82eabf7",
   "metadata": {},
   "source": [
    "We can't see any other payment methods but that doesn't mean there aren't any.\n",
    "This is a common problem in datawarehousing when working with 3rd party vendors who either don't or won't document their data (sometimes because they don't want you going off their platform).\n",
    "If we discover a new payment method later, we might need to redo this table.\n",
    "Since we can see the format of `cash` and `credit_card` above, we can plan the table from there.\n",
    "If we couldn't we'd need to find an example of each.\n",
    "\n",
    "It's also worth noting that APIs differ in how they treat \"NULL\".\n",
    "For example, we have:\n",
    "\n",
    "```\n",
    "{'card_type': 'visa',\n",
    " 'cardholder': 'Tami Hunt',\n",
    " 'last_4_card_number': '9791',\n",
    " 'method': 'credit_card',\n",
    " 'zip': '21270'}\n",
    "```\n",
    "but\n",
    "```\n",
    "{'method': 'cash'}\n",
    "```\n",
    "An alternative might have been:\n",
    "```\n",
    "{'card_type': None,\n",
    " 'cardholder': None,\n",
    " 'last_4_card_number': None,\n",
    " 'method': 'cash',\n",
    " 'zip': None}\n",
    "```\n",
    "\n",
    "The layout of each table seems straightforward:\n",
    "\n",
    "* charges\n",
    "    * id (Integer, Primary Key)\n",
    "    * date (String in SQLite, Datetime in other DBs)\n",
    "    * subtotal (Numeric)\n",
    "    * taxes (Numeric)\n",
    "    * total (Numeric)\n",
    "    * payment_id (Integer, Foreign Key)\n",
    "* items\n",
    "    * id (Integer, Primary Key)\n",
    "    * charge_id (Integer, Foreign Key)\n",
    "    * name (String)\n",
    "    * price (Numeric)\n",
    "* payments\n",
    "    * id (Integer, Primary Key)\n",
    "    * method (String, one of \"cash\" or \"credit_card\")\n",
    "    * card_type (String)\n",
    "    * cardholder (String)\n",
    "    * last_4_card_number (String)\n",
    "    * zip (String)\n",
    "\n",
    "It's tempting to think there should be an order table but it would just be ids (really, the charge table *is* the order table).\n",
    "As mentioned previously, it's tempting to create a menu_items table but you have to be careful to preserve historicity (which is often the opposing goal of a production RDBMS...then we want the value to change everywhere when it's changed anywhere).\n",
    "If one does add a menu_items table, it should only be the name of the item and perhaps it's type (drink, food, upcharge|addon).\n",
    "\n",
    "<div style=\"background: peachpuff; margin:20px; padding: 20px;\">\n",
    "    <strong>Rubric</strong>\n",
    "    <ul>\n",
    "        <li>You don't need to have this exact schema but you should be close.</li>\n",
    "        <li>This code must be in a .py file, as requested.</li>\n",
    "    </ul>\n",
    "</div>"
   ]
  },
  {
   "cell_type": "markdown",
   "id": "4547bea6-07a3-49cc-8106-336546725a52",
   "metadata": {},
   "source": [
    "As a result of your investigation, the `reids.sql` file should look, more or less, like this:\n",
    "\n",
    "```\n",
    "DROP TABLE IF EXISTS charges;\n",
    "CREATE TABLE charges (\n",
    "    id INTEGER PRIMARY KEY,\n",
    "    date STRING,\n",
    "    subtotal NUMERIC,\n",
    "    taxes NUMERIC,\n",
    "    total NUMERIC,\n",
    "    payment_id INTEGER\n",
    ");\n",
    "\n",
    "DROP TABLE IF EXISTS items;\n",
    "CREATE TABLE items (\n",
    "    id INTEGER PRIMARY KEY,\n",
    "    charge_id INTEGER,\n",
    "    name STRING,\n",
    "    price NUMERIC\n",
    ");\n",
    "\n",
    "DROP TABLE IF EXISTS payments;\n",
    "CREATE TABLE payments (\n",
    "    id INTEGER PRIMARY KEY,\n",
    "    method STRING,\n",
    "    card_type STRING,\n",
    "    cardholder STRING,\n",
    "    last_4_card_number STRING,\n",
    "    zip STRING\n",
    ");\n",
    "```\n",
    "If the placement of your foreign key fields is different, don't fret.\n",
    "They are conventionally either at the start or the end of the table.\n",
    "\n",
    "<div style=\"background: lemonchiffon; margin:20px; padding: 20px;\">\n",
    "    <strong>Important</strong>\n",
    "    <p>\n",
    "        Whether or not you actually declare fields to be <tt>PRIMARY KEY</tt> or <tt>FOREIGN KEY</tt> will depend on the use case.\n",
    "        Most datawarehouse operations are large bulk operations.\n",
    "        In many cases, you actually have to rebuild the entire datawarehouse each night because applications do not use updated_at fields.\n",
    "        Key constraints, indexes, and the like can slow down build inserts and violations can cause multi-hour processes to fail.\n",
    "        We assume that the application database has maintained all the relationships correctly or, at worst, that getting the data is more important than data integrity.\n",
    "        The goals are different.\n",
    "        The datawarehouse is not the System of Record.\n",
    "    </p>\n",
    "    <p>\n",
    "        In this example, we only declare the <tt>PRIMARY KEY</tt>.\n",
    "        In some cases, you may not even want to declare the PRIMARY KEY.\n",
    "        For foreign keys, we use conventions for designating foreign keys ([tablename]_id).\n",
    "    </p>\n",
    "</div>\n",
    "\n",
    "<div style=\"background: peachpuff; margin:20px; padding: 20px;\">\n",
    "    <strong>Rubric</strong>\n",
    "    <ul>\n",
    "        <li>Your datawarehouse DDL must be in a .sql file.</li>\n",
    "        <li>If you included explicit Foreign Key declarations, that's fine. Just be aware that in datawarehouse <i>engineering</i>, you sometimes don't (as opposed to application engineering).</li>\n",
    "    </ul>\n",
    "</div>\n",
    "\n",
    "Additionally, it might be worth splitting up date and time in some cases and with some databases."
   ]
  },
  {
   "cell_type": "markdown",
   "id": "9b76ec98-27a2-4f5b-89e3-686f423d55a6",
   "metadata": {},
   "source": [
    "## Step 2.\n",
    "\n",
    "Put the data in the database.\n",
    "\n",
    "We're hampered here by the lack of vendor provided primary and secondary keys.\n",
    "This does sometimes happen in the real world, especially if you are pulling data directly from a report rather than a fully supported \"Data\" API.\n",
    "\n",
    "The strategy would be something like this:\n",
    "\n",
    "1. create and keep a counter for charges.\n",
    "2. create and keep a counter for items. Add the charge_id to every item.\n",
    "3. create and keep a counter for payment. Only increment the payment id if the payment hasn't been seen before.\n",
    "\n",
    "This leads to an interesting question...is there only *one* cash payment or is every cash payment unique?\n",
    "\n",
    "1. We could have a single cash payment. There's nothing that really distinguishes one from another. If we add a loyalty program in the future, the cash is still unique and we would add a loyalty number to the order/charge.\n",
    "2. We could treat cash payments as unique. We might start asking for emails or other information, if people wanted receipts emailed instead of printed. In that case, there would be more information than just \"cash\".\n",
    "\n",
    "Because this is datawarehouse, we'll go with a single cash payment for now and change things around if we need to do so.\n",
    "\n",
    "How much \"programming\" v. \"scripting\" you do at this step is up to you.\n",
    "It's often to maintain \"programming\".\n",
    "We'll take the programming route here.\n",
    "We need functions that takes in raw data, any foreign keys, and returns Tuples because that's what SQL uses for writing.\n",
    "\n",
    "Let's write a generic function that takes a list of properties, raw data, and additional values and returns a Tuple of those property's values."
   ]
  },
  {
   "cell_type": "code",
   "execution_count": 10,
   "id": "ec87dd66-cfde-4281-9b7a-a9d0bd79e8ae",
   "metadata": {},
   "outputs": [],
   "source": [
    "def extract_properties(properties, data, defaults=dict()):\n",
    "    result = []\n",
    "    for prop in properties:\n",
    "        if prop in data:\n",
    "            result.append(data[prop])\n",
    "        else:\n",
    "            result.append(defaults.get(prop, None)) # we do need things to be Nullable\n",
    "    return tuple(result)"
   ]
  },
  {
   "cell_type": "markdown",
   "id": "08de1af2-1d22-4333-ad32-aa91d0b903c8",
   "metadata": {},
   "source": [
    "Now the fun begins...the main question is, what order should we do this in? And who should be responsible for checking and incrementing ids?\n",
    "\n",
    "1. The only key we need to unique is payments. We need to keep a lookup of payment (cardholder, last_4_card_number) and ids, if that cardholder/card number has already been seen, get the id; otherwise generate a new one.\n",
    "2. Go on to charges, using the payment_id, create a charge_id.\n",
    "3. Go on to items, using the charge_id. Create item ids."
   ]
  },
  {
   "cell_type": "code",
   "execution_count": 11,
   "id": "8c1ff77a-cf0c-4f74-a32e-6a7174c7b84c",
   "metadata": {},
   "outputs": [],
   "source": [
    "def process_payment(payment_data, payments, current_id):\n",
    "    key = extract_properties([\"cardholder\", \"last_4_card_number\"], payment_data)\n",
    "    if key in payments:\n",
    "        return current_id, payments[key], None\n",
    "    payments[key] = current_id\n",
    "    payment_id = payments[key]\n",
    "    current_id +=1\n",
    "    return current_id, payment_id, extract_properties([\"id\", \"method\", \"card_type\", \"cardholder\", \"last_4_card_number\", \"zip\"], payment_data, {\"id\": payment_id})"
   ]
  },
  {
   "cell_type": "markdown",
   "id": "276f9734-1c2a-4a52-a994-ca71a9ba3828",
   "metadata": {},
   "source": [
    "This payment hasn't been seen before:"
   ]
  },
  {
   "cell_type": "code",
   "execution_count": 12,
   "id": "79b051d2-2df8-4b81-8841-7c91f365ac97",
   "metadata": {},
   "outputs": [
    {
     "data": {
      "text/plain": [
       "(2, 1, (1, 'credit_card', 'mastercard', 'Brent Morgan', '5056', '21274'))"
      ]
     },
     "execution_count": 12,
     "metadata": {},
     "output_type": "execute_result"
    }
   ],
   "source": [
    "process_payment(orders[0][\"payment\"], {}, 1)"
   ]
  },
  {
   "cell_type": "markdown",
   "id": "132dfffe-41f2-43ad-a7c0-8ef63ca3c127",
   "metadata": {},
   "source": [
    "This one has, so no need to write it to the database, but we do need to know its id:"
   ]
  },
  {
   "cell_type": "code",
   "execution_count": 13,
   "id": "9b7e4cfe-ae6b-4c33-aceb-8d4f2507d48a",
   "metadata": {},
   "outputs": [
    {
     "data": {
      "text/plain": [
       "(3, 2, (2, 'credit_card', 'mastercard', 'Brent Morgan', '5056', '21274'))"
      ]
     },
     "execution_count": 13,
     "metadata": {},
     "output_type": "execute_result"
    }
   ],
   "source": [
    "process_payment(orders[0][\"payment\"], {(\"Cheryl Colon\", '4166'): 1}, 2)"
   ]
  },
  {
   "cell_type": "code",
   "execution_count": 14,
   "id": "2f650689-ba89-444e-b977-778a6adbdb6a",
   "metadata": {},
   "outputs": [],
   "source": [
    "def process_charge(charge, current_id, payment_id):\n",
    "    result = extract_properties([\"id\", \"date\", \"subtotal\", \"taxes\", \"total\", \"payment_id\"], charge, {\"id\": current_id, \"payment_id\": payment_id})\n",
    "    current_id += 1\n",
    "    return current_id, result"
   ]
  },
  {
   "cell_type": "code",
   "execution_count": 15,
   "id": "12f98327-2bc1-4e5a-906d-580ce7e4f997",
   "metadata": {},
   "outputs": [
    {
     "data": {
      "text/plain": [
       "(2, (1, '04/01/21 11:16', 2.75, 0.19, 2.94, 27))"
      ]
     },
     "execution_count": 15,
     "metadata": {},
     "output_type": "execute_result"
    }
   ],
   "source": [
    "process_charge(orders[0][\"charges\"], 1, 27)"
   ]
  },
  {
   "cell_type": "markdown",
   "id": "5b9a744e-528b-4926-9cf0-c57b19d4193e",
   "metadata": {},
   "source": [
    "items is going to be somewhat different because there are multiple items (and so we'll be returning a List of Tuples)."
   ]
  },
  {
   "cell_type": "code",
   "execution_count": 16,
   "id": "57e8d6c3-cb54-4709-ae22-63f13e5e4ae1",
   "metadata": {},
   "outputs": [],
   "source": [
    "def process_items(items, current_id, charge_id):\n",
    "    results = []\n",
    "    for item in items:\n",
    "        result = extract_properties([\"id\", \"charge_id\", \"name\", \"price\"], item, {\"id\": current_id, \"charge_id\": charge_id})\n",
    "        results.append(result)\n",
    "        current_id += 1\n",
    "    return current_id, results"
   ]
  },
  {
   "cell_type": "code",
   "execution_count": 17,
   "id": "6fd945a8-ce9b-4e68-8725-60ccaf69695c",
   "metadata": {},
   "outputs": [
    {
     "data": {
      "text/plain": [
       "(2, [(1, 7, 'coffee', 2.75)])"
      ]
     },
     "execution_count": 17,
     "metadata": {},
     "output_type": "execute_result"
    }
   ],
   "source": [
    "process_items(orders[0][\"items\"], 1, 7)"
   ]
  },
  {
   "cell_type": "markdown",
   "id": "d0295668-6cf1-48c9-b374-a475aca3dd25",
   "metadata": {},
   "source": [
    "Now we can piece these all together.\n",
    "We generally like to make sure we properly parse all the data before we start writing it to the database but either way is fine.\n",
    "In this example, we parse all the data first."
   ]
  },
  {
   "cell_type": "code",
   "execution_count": 18,
   "id": "580015a5-0475-4d2d-b6ad-35dc11b1b82f",
   "metadata": {},
   "outputs": [],
   "source": [
    "payment_id = 1\n",
    "payment_lookup = {}\n",
    "payments = []\n",
    "charge_id = 1\n",
    "charges = []\n",
    "item_id = 1\n",
    "items = []"
   ]
  },
  {
   "cell_type": "code",
   "execution_count": 19,
   "id": "fdaab5c9-8fed-4f70-b046-50b22980e509",
   "metadata": {},
   "outputs": [],
   "source": [
    "for order in orders:\n",
    "    payment_id, this_payment_id, payment = process_payment(order[\"payment\"], payment_lookup, payment_id)\n",
    "    if payment: # could be None\n",
    "        payments.append(payment)\n",
    "    charge_id, charge = process_charge(order[\"charges\"], charge_id, this_payment_id)\n",
    "    charges.append(charge)\n",
    "    item_id, these_items = process_items(order[\"items\"], item_id, charge_id)\n",
    "    items += these_items # list concatenation"
   ]
  },
  {
   "cell_type": "markdown",
   "id": "366d25a5-2cb2-4199-be31-ad0e4c37d3c2",
   "metadata": {},
   "source": [
    "We can do some basic sanity checks:"
   ]
  },
  {
   "cell_type": "code",
   "execution_count": 20,
   "id": "8a7aabb3-1726-4761-b81b-7e32de3d65cd",
   "metadata": {},
   "outputs": [
    {
     "data": {
      "text/plain": [
       "757"
      ]
     },
     "execution_count": 20,
     "metadata": {},
     "output_type": "execute_result"
    }
   ],
   "source": [
    "len(payments)"
   ]
  },
  {
   "cell_type": "code",
   "execution_count": 21,
   "id": "5745ffb8-989b-4080-b636-340ad9b6dbfd",
   "metadata": {},
   "outputs": [
    {
     "data": {
      "text/plain": [
       "757"
      ]
     },
     "execution_count": 21,
     "metadata": {},
     "output_type": "execute_result"
    }
   ],
   "source": [
    "len(set([extract_properties([\"cardholder\", \"last_4_card_number\"], order[\"payment\"], {}) for order in orders]))"
   ]
  },
  {
   "cell_type": "code",
   "execution_count": 22,
   "id": "c82553f6-669d-4684-aead-b3318609bb4e",
   "metadata": {},
   "outputs": [
    {
     "data": {
      "text/plain": [
       "2071"
      ]
     },
     "execution_count": 22,
     "metadata": {},
     "output_type": "execute_result"
    }
   ],
   "source": [
    "len(charges)"
   ]
  },
  {
   "cell_type": "code",
   "execution_count": 23,
   "id": "7afc4689-f184-441f-918f-47d29fc81622",
   "metadata": {},
   "outputs": [
    {
     "data": {
      "text/plain": [
       "2071"
      ]
     },
     "execution_count": 23,
     "metadata": {},
     "output_type": "execute_result"
    }
   ],
   "source": [
    "len(orders)"
   ]
  },
  {
   "cell_type": "code",
   "execution_count": 24,
   "id": "947215bf-fc93-474a-b702-63b0857d50b8",
   "metadata": {},
   "outputs": [
    {
     "data": {
      "text/plain": [
       "4145"
      ]
     },
     "execution_count": 24,
     "metadata": {},
     "output_type": "execute_result"
    }
   ],
   "source": [
    "len(items)"
   ]
  },
  {
   "cell_type": "code",
   "execution_count": 25,
   "id": "8fba774b-52ff-4833-89d1-584b21ad4375",
   "metadata": {},
   "outputs": [
    {
     "data": {
      "text/plain": [
       "4145"
      ]
     },
     "execution_count": 25,
     "metadata": {},
     "output_type": "execute_result"
    }
   ],
   "source": [
    "sum([len(order[\"items\"]) for order in orders])"
   ]
  },
  {
   "cell_type": "markdown",
   "id": "5ea6fe4c-ed09-49d1-8d2b-2a6d7fb542e9",
   "metadata": {},
   "source": [
    "(We could turn these into tests to make sure the script is working properly, if we automate it for some reason.)"
   ]
  },
  {
   "cell_type": "markdown",
   "id": "f482f04d-83a3-4cf4-8e0a-0fc73f325b93",
   "metadata": {},
   "source": [
    "Now we need to write everything to the DB.\n",
    "First we make sure we're starting \"fresh\":"
   ]
  },
  {
   "cell_type": "code",
   "execution_count": 26,
   "id": "49aa5335-b757-4986-bd57-6f741ce060e0",
   "metadata": {},
   "outputs": [],
   "source": [
    "!rm reids.db"
   ]
  },
  {
   "cell_type": "code",
   "execution_count": 27,
   "id": "575645ed-6ff3-4617-8ec9-a37dee551e3a",
   "metadata": {},
   "outputs": [],
   "source": [
    "!sqlite3 reids.db < reids.sql"
   ]
  },
  {
   "cell_type": "markdown",
   "id": "b353e262-f0ac-42e3-a15e-e2473f998868",
   "metadata": {},
   "source": [
    "Next we get a connection and start inserting the data:"
   ]
  },
  {
   "cell_type": "code",
   "execution_count": 28,
   "id": "38c439d4-6ab0-49e6-a403-8288852eaedc",
   "metadata": {},
   "outputs": [],
   "source": [
    "con = sqlite3.connect('reids.db')"
   ]
  },
  {
   "cell_type": "code",
   "execution_count": 29,
   "id": "67fcf7d1-4270-4a2e-b9c8-752abb721a1b",
   "metadata": {},
   "outputs": [],
   "source": [
    "con.executemany('INSERT INTO payments (id, method, card_type, cardholder, last_4_card_number, zip) VALUES (?, ?, ?, ?, ?, ?)', payments);\n",
    "con.commit();"
   ]
  },
  {
   "cell_type": "markdown",
   "id": "9b68d3b9-3e90-460a-ada8-b8593407f130",
   "metadata": {},
   "source": [
    "More sanity checks.\n",
    "**Note**`execute` returns a Cursor to a result set. It's generator that needs to be realized somehow.\n",
    "One way is to wrap it in list()."
   ]
  },
  {
   "cell_type": "code",
   "execution_count": 30,
   "id": "5cc57274-f0c9-4326-bcb8-8427b0d0c2d9",
   "metadata": {},
   "outputs": [
    {
     "data": {
      "text/plain": [
       "[(757,)]"
      ]
     },
     "execution_count": 30,
     "metadata": {},
     "output_type": "execute_result"
    }
   ],
   "source": [
    "list(con.execute(\"SELECT COUNT(*) FROM payments\"))"
   ]
  },
  {
   "cell_type": "code",
   "execution_count": 31,
   "id": "49bd2a3c-8007-4483-9c7c-72f16377fe4a",
   "metadata": {},
   "outputs": [],
   "source": [
    "con.executemany('INSERT INTO charges (id, date, subtotal, taxes, total, payment_id) VALUES (?, ?, ?, ?, ?, ?)', charges);\n",
    "con.commit();"
   ]
  },
  {
   "cell_type": "code",
   "execution_count": 32,
   "id": "d8e7a7d8-aa02-486e-a815-179dc981dd4a",
   "metadata": {},
   "outputs": [
    {
     "data": {
      "text/plain": [
       "[(2071,)]"
      ]
     },
     "execution_count": 32,
     "metadata": {},
     "output_type": "execute_result"
    }
   ],
   "source": [
    "list(con.execute(\"SELECT COUNT(*) FROM charges\"))"
   ]
  },
  {
   "cell_type": "code",
   "execution_count": 33,
   "id": "cc22a17a-6475-44b3-a22b-8115d092acba",
   "metadata": {},
   "outputs": [],
   "source": [
    "con.executemany('INSERT INTO items (id, charge_id, name, price) VALUES (?, ?, ?, ?)', items);\n",
    "con.commit();"
   ]
  },
  {
   "cell_type": "code",
   "execution_count": 34,
   "id": "2a224a41-e40d-467f-92ca-ee9b1d7745f5",
   "metadata": {},
   "outputs": [
    {
     "data": {
      "text/plain": [
       "[(4145,)]"
      ]
     },
     "execution_count": 34,
     "metadata": {},
     "output_type": "execute_result"
    }
   ],
   "source": [
    "list(con.execute(\"SELECT COUNT(*) FROM items\"))"
   ]
  },
  {
   "cell_type": "markdown",
   "id": "3e092eb1-dbc8-4a1e-ad2a-c78c8896a96a",
   "metadata": {},
   "source": [
    "And with that, you might switch to the command line to run some queries to poke at the data.\n",
    "\n",
    "You might also come back here and decide that you want to add a `calendar` table which is a common thing to do.\n",
    "This would have dates and indicate any closings, perhaps day of the week and holidays."
   ]
  },
  {
   "cell_type": "markdown",
   "id": "93827e8f-a964-4f9c-9d10-eb2c01d4565e",
   "metadata": {},
   "source": [
    "```\n",
    "CREATE TABLE calendar (\n",
    "    date STRING,\n",
    "    day_of_week STRING\n",
    ")\n",
    "```"
   ]
  },
  {
   "cell_type": "code",
   "execution_count": 35,
   "id": "4c138b7a-b1dc-4c9b-82b9-0de49d261b07",
   "metadata": {},
   "outputs": [],
   "source": [
    "from datetime import datetime, timedelta"
   ]
  },
  {
   "cell_type": "code",
   "execution_count": 36,
   "id": "3ae2cbb1-da2a-4b9a-8268-61e7d637897c",
   "metadata": {},
   "outputs": [],
   "source": [
    "days_of_the_week = [\"Monday\", \"Tuesday\", \"Wednesday\", \"Thursday\", \"Friday\", \"Saturday\", \"Sunday\"]"
   ]
  },
  {
   "cell_type": "code",
   "execution_count": 37,
   "id": "30fa9c2a-8a48-4ea9-b123-caad188522a9",
   "metadata": {},
   "outputs": [],
   "source": [
    "calendar = []\n",
    "\n",
    "today = datetime(2021, 3, 31, 0, 0)\n",
    "for _ in range(0, 61):\n",
    "    today = today + timedelta(days=1)\n",
    "    date = today.strftime(\"%m/%d/%y\")\n",
    "    day = days_of_the_week[today.weekday()]\n",
    "    calendar.append((date, day))"
   ]
  },
  {
   "cell_type": "code",
   "execution_count": 38,
   "id": "1f1b33e0-6912-4976-8d64-647bbd3c9095",
   "metadata": {},
   "outputs": [],
   "source": [
    "con.executemany('INSERT INTO calendar (date, day_of_week) VALUES (?, ?)', calendar);\n",
    "con.commit()"
   ]
  },
  {
   "cell_type": "code",
   "execution_count": 39,
   "id": "1d6c85a3-1013-4d88-9e39-962195c42a64",
   "metadata": {},
   "outputs": [
    {
     "data": {
      "text/plain": [
       "[('04/01/21', 'Thursday'),\n",
       " ('04/02/21', 'Friday'),\n",
       " ('04/03/21', 'Saturday'),\n",
       " ('04/04/21', 'Sunday'),\n",
       " ('04/05/21', 'Monday'),\n",
       " ('04/06/21', 'Tuesday'),\n",
       " ('04/07/21', 'Wednesday'),\n",
       " ('04/08/21', 'Thursday'),\n",
       " ('04/09/21', 'Friday'),\n",
       " ('04/10/21', 'Saturday')]"
      ]
     },
     "execution_count": 39,
     "metadata": {},
     "output_type": "execute_result"
    }
   ],
   "source": [
    "list(con.execute(\"SELECT * FROM calendar LIMIT 10\"))"
   ]
  },
  {
   "cell_type": "markdown",
   "id": "04fd4ba4-76a3-4702-ace5-e2b3ac3913fe",
   "metadata": {},
   "source": [
    "**Notes**\n",
    "\n",
    "It's often tempting when developing scripts like this to comment all the tests and sanity checks out along all the \"poking around\".\n",
    "You really should keep these tests and sanity checks in the script and fail when they fail.\n",
    "Of course, this means you should also monitor your scripts.\n",
    "\n",
    "\n",
    "<div style=\"background: peachpuff; margin:20px; padding: 20px;\">\n",
    "    <strong>Rubric</strong>\n",
    "    <ul>\n",
    "        <li>All of your ETL code should be in this .py file.</li>\n",
    "        <li>You don't need to have made the calendar table. It's here just to show you what sometimes happens in a datawarehouse. We may need a table to keep track of various dates and special days like store closings and holidays.</li>\n",
    "    </ul>\n",
    "</div>"
   ]
  }
 ],
 "metadata": {
  "kernelspec": {
   "display_name": "Python (en685648)",
   "language": "python",
   "name": "en685648"
  },
  "language_info": {
   "codemirror_mode": {
    "name": "ipython",
    "version": 3
   },
   "file_extension": ".py",
   "mimetype": "text/x-python",
   "name": "python",
   "nbconvert_exporter": "python",
   "pygments_lexer": "ipython3",
   "version": "3.10.4"
  }
 },
 "nbformat": 4,
 "nbformat_minor": 5
}
