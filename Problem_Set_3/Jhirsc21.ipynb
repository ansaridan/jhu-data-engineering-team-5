{
 "cells": [
  {
   "cell_type": "markdown",
   "metadata": {
    "colab_type": "text",
    "id": "K5OfYhJP1pqB"
   },
   "source": [
    "# Problem Set 3\n",
    "\n",
    "## Directions\n",
    "\n",
    "1. Show all work/steps/calculations using a combination of code and Markdown.\n",
    "2. **All** work is to be your own. This is not a group project. You may, however, use code from the lectures and labs. Provide citations for any code that is not your own. You may also consult Stackoverflow, etc. This is not by any means \"closed book\" or anything like that. Basically, I need to see if *you* learned the concepts from the Lectures, *Fundamentals*, and Labs.\n",
    "3. Add whatever markdown or code cells you need in each part to explain and calculate your answers. Don't just provide answers but explain them as well. **Explain and interpret your results.**\n",
    "\n",
    "**Submission**\n",
    "\n",
    "For this assignment...\n",
    "\n",
    "0. Complete the pre-submission checklist at the end of the notebook.\n",
    "1. Name the notebook to be your JHED ID, ie, `ssmith1.ipynb`. Do not add anything else to the name.\n",
    "2. Upload to Canvas.\n",
    "\n",
    "Do not add anything to the names like \" Problem Set 2\".\n",
    "Any assignment not following the submission guidelines will generally be assumed to be incomplete under the Syllabus and therefore a \"C\".\n",
    "Do not return the data set.\n",
    "Do not return the eda.py file."
   ]
  },
  {
   "cell_type": "markdown",
   "metadata": {
    "colab_type": "text",
    "id": "qWXq2FnU1pqE"
   },
   "source": [
    "\n",
    "<div style=\"background: lemonchiffon; margin:20px; padding: 20px;\">\n",
    "    <strong>Note</strong>\n",
    "    <p>This Problem Set covers Labs 5 and 6 (and the corresponding course materials). However, principles covered in previous modules are still relevant (visualization, probability, etc.).</p>\n",
    "    <p>Additionally, this is a <em>report</em>, a narrative description of your process and findings. Use full sentences. Limit bullet lists. You should be able to \"hide code\" and have the remaining text make sense.</p></div>\n",
    "\n",
    "\n",
    "This is a problem about Abalone. Do you lack domain knowledge? **Google it**. Some common knowledge about volumes and weight will also help.\n",
    "\n",
    "For the purposes of this assignment, assume that the overall question revolves around abalone rings. The target variable is rings because it is a predictor of age. This assignment is thus not a complete answer to the question but the first steps. Although you must follow the visualization guidelines from Module 4, the source material for this assignment comes from Modules 5 and 6 *only*. No linear regression. No Naive Bayes.\n",
    "\n",
    "Of necessity, there is very little ETL here except to verify that the data has loaded correctly and with the correct types. For the EDA and Modeling parts, follow the guidelines in *Fundamentals*. single value models (mean) or mathematical distributions.\n",
    "\n",
    "<a id=\"contents\"></a>\n",
    "# Contents\n",
    "\n",
    "1. [ETL](#step1)\n",
    "2. [EDA](#step2)\n",
    "3. [Statistical and Mathematical Modeling of the Target Variable](#step3)\n"
   ]
  },
  {
   "cell_type": "code",
   "execution_count": 1,
   "metadata": {
    "colab_type": "text",
    "id": "lhAZG84l3hzG"
   },
   "outputs": [
    {
     "name": "stderr",
     "output_type": "stream",
     "text": [
      "C:\\Users\\Jhirs\\AppData\\Local\\Temp\\ipykernel_4232\\4080736814.py:1: DeprecationWarning: \n",
      "Pyarrow will become a required dependency of pandas in the next major release of pandas (pandas 3.0),\n",
      "(to allow more performant data types, such as the Arrow string type, and better interoperability with other libraries)\n",
      "but was not found to be installed on your system.\n",
      "If this would cause problems for you,\n",
      "please provide us feedback at https://github.com/pandas-dev/pandas/issues/54466\n",
      "        \n",
      "  import pandas as pd\n"
     ]
    }
   ],
   "source": [
    "import pandas as pd"
   ]
  },
  {
   "cell_type": "markdown",
   "metadata": {
    "colab_type": "text",
    "id": "VhUOc0Bw2xOj"
   },
   "source": [
    "## 1 <a id=\"step1\">(ETL) Extract, Transform, Load the Data</a>\n",
    "<a href=\"#contents\">^ Contents</a>"
   ]
  },
  {
   "cell_type": "markdown",
   "metadata": {},
   "source": [
    "This is the data dictionary for the Abalone data:\n",
    "\n",
    "```\n",
    "Description of fields in abalone data.\n",
    "\n",
    "Name            Data Type    Meas.    Description\n",
    "----            ---------    -----    -----------\n",
    "Sex             nominal               M, F, and I (infant)\n",
    "Length          continuous    mm      Longest shell measurement\n",
    "Diameter        continuous    mm      perpendicular to length\n",
    "Height          continuous    mm      with meat in shell\n",
    "Whole weight    continuous    grams   whole abalone\n",
    "Shucked weight  continuous    grams   weight of meat\n",
    "Viscera weight  continuous    grams   gut weight (after bleeding)\n",
    "Shell weight    continuous    grams   after being dried\n",
    "Rings           integer               +1.5 gives the age in years\n",
    "```\n",
    "\n",
    "The first step is to load the data from its remote location into a dataframe and make sure you have the data:"
   ]
  },
  {
   "cell_type": "markdown",
   "metadata": {},
   "source": [
    "Note I am also assigning appropriate headers here for each column when the data is being reda in, based on the descriptions of each field above."
   ]
  },
  {
   "cell_type": "code",
   "execution_count": 22,
   "metadata": {
    "colab": {},
    "colab_type": "code",
    "id": "uVoZBXNm1pqG"
   },
   "outputs": [],
   "source": [
    "names = ['Sex', 'Length (mm)', 'Diameter (mm)', 'Height (mm)', 'Whole Weight (g)',\n",
    "                'Shucked Weight (g)', 'Viscera Weight (g)', 'Shell Weight (g)', 'Rings']\n",
    "df = pd.read_csv(\"https://raw.githubusercontent.com/fundamentals-of-data-science/datasets/master/abalone.original.csv\", names=names)"
   ]
  },
  {
   "cell_type": "markdown",
   "metadata": {},
   "source": [
    "First we can look at the first 5 rows to make sure we have all the data that we need."
   ]
  },
  {
   "cell_type": "code",
   "execution_count": 23,
   "metadata": {},
   "outputs": [
    {
     "data": {
      "text/html": [
       "<div>\n",
       "<style scoped>\n",
       "    .dataframe tbody tr th:only-of-type {\n",
       "        vertical-align: middle;\n",
       "    }\n",
       "\n",
       "    .dataframe tbody tr th {\n",
       "        vertical-align: top;\n",
       "    }\n",
       "\n",
       "    .dataframe thead th {\n",
       "        text-align: right;\n",
       "    }\n",
       "</style>\n",
       "<table border=\"1\" class=\"dataframe\">\n",
       "  <thead>\n",
       "    <tr style=\"text-align: right;\">\n",
       "      <th></th>\n",
       "      <th>Sex</th>\n",
       "      <th>Length (mm)</th>\n",
       "      <th>Diameter (mm)</th>\n",
       "      <th>Height (mm)</th>\n",
       "      <th>Whole Weight (g)</th>\n",
       "      <th>Shucked Weight (g)</th>\n",
       "      <th>Viscera Weight (g)</th>\n",
       "      <th>Shell Weight (g)</th>\n",
       "      <th>Rings</th>\n",
       "    </tr>\n",
       "  </thead>\n",
       "  <tbody>\n",
       "    <tr>\n",
       "      <th>0</th>\n",
       "      <td>M</td>\n",
       "      <td>91</td>\n",
       "      <td>73</td>\n",
       "      <td>19</td>\n",
       "      <td>102.8</td>\n",
       "      <td>44.9</td>\n",
       "      <td>20.2</td>\n",
       "      <td>30.0</td>\n",
       "      <td>15</td>\n",
       "    </tr>\n",
       "    <tr>\n",
       "      <th>1</th>\n",
       "      <td>M</td>\n",
       "      <td>70</td>\n",
       "      <td>53</td>\n",
       "      <td>18</td>\n",
       "      <td>45.1</td>\n",
       "      <td>19.9</td>\n",
       "      <td>9.7</td>\n",
       "      <td>14.0</td>\n",
       "      <td>7</td>\n",
       "    </tr>\n",
       "    <tr>\n",
       "      <th>2</th>\n",
       "      <td>F</td>\n",
       "      <td>106</td>\n",
       "      <td>84</td>\n",
       "      <td>27</td>\n",
       "      <td>135.4</td>\n",
       "      <td>51.3</td>\n",
       "      <td>28.3</td>\n",
       "      <td>42.0</td>\n",
       "      <td>9</td>\n",
       "    </tr>\n",
       "    <tr>\n",
       "      <th>3</th>\n",
       "      <td>M</td>\n",
       "      <td>88</td>\n",
       "      <td>73</td>\n",
       "      <td>25</td>\n",
       "      <td>103.2</td>\n",
       "      <td>43.1</td>\n",
       "      <td>22.8</td>\n",
       "      <td>31.0</td>\n",
       "      <td>10</td>\n",
       "    </tr>\n",
       "    <tr>\n",
       "      <th>4</th>\n",
       "      <td>I</td>\n",
       "      <td>66</td>\n",
       "      <td>51</td>\n",
       "      <td>16</td>\n",
       "      <td>41.0</td>\n",
       "      <td>17.9</td>\n",
       "      <td>7.9</td>\n",
       "      <td>11.0</td>\n",
       "      <td>7</td>\n",
       "    </tr>\n",
       "  </tbody>\n",
       "</table>\n",
       "</div>"
      ],
      "text/plain": [
       "  Sex  Length (mm)  Diameter (mm)  Height (mm)  Whole Weight (g)  \\\n",
       "0   M           91             73           19             102.8   \n",
       "1   M           70             53           18              45.1   \n",
       "2   F          106             84           27             135.4   \n",
       "3   M           88             73           25             103.2   \n",
       "4   I           66             51           16              41.0   \n",
       "\n",
       "   Shucked Weight (g)  Viscera Weight (g)  Shell Weight (g)  Rings  \n",
       "0                44.9                20.2              30.0     15  \n",
       "1                19.9                 9.7              14.0      7  \n",
       "2                51.3                28.3              42.0      9  \n",
       "3                43.1                22.8              31.0     10  \n",
       "4                17.9                 7.9              11.0      7  "
      ]
     },
     "execution_count": 23,
     "metadata": {},
     "output_type": "execute_result"
    }
   ],
   "source": [
    "df.head()"
   ]
  },
  {
   "cell_type": "markdown",
   "metadata": {
    "colab_type": "text",
    "id": "lmK3roDw3eqg"
   },
   "source": []
  },
  {
   "cell_type": "markdown",
   "metadata": {
    "colab_type": "text",
    "id": "MlBjJXqx2z1I"
   },
   "source": [
    "## 2 <a id=\"step2\">(EDA) Exploratory Data Analysis</a>\n",
    "<a href=\"#contents\">^ Contents</a>"
   ]
  },
  {
   "cell_type": "markdown",
   "metadata": {
    "colab_type": "text",
    "id": "VYRVa9cu3fGA"
   },
   "source": []
  },
  {
   "cell_type": "markdown",
   "metadata": {
    "colab_type": "text",
    "id": "rWHPdbNj216s"
   },
   "source": [
    "## 3 <a id=\"step3\">Statistical and Mathematical Modeling of the Target Variable</a>\n",
    "<a href=\"#contents\">^ Contents</a>"
   ]
  },
  {
   "cell_type": "markdown",
   "metadata": {
    "colab_type": "text",
    "id": "2Dylhf-W3ipZ"
   },
   "source": []
  },
  {
   "cell_type": "markdown",
   "metadata": {
    "colab_type": "text",
    "id": "ZJykPvZK2lOQ"
   },
   "source": [
    "---\n",
    "\n",
    "**PRE-SUBMISSION CHECK LIST**\n",
    "\n",
    "Before you submit this assignent, go back and review the directions to ensure that you have followed each instruction.\n",
    "\n",
    "* [ ] Have you completed every section and answered every question asked?\n",
    "* [ ] For every question, have you described your approach and explained your results?\n",
    "* [ ] Have you checked for spelling and grammar errors?\n",
    "* [ ] Are your code blocks free of any errors?\n",
    "* [ ] Have you deleted unused code or markdown blocks? Removed scratch calculations? Excessive raw data print outs?\n",
    "* [ ] Hide all the code/output cells and make sure that you have sufficient discussion. Re-show the output cells but leave code cells hidden.\n",
    "* [ ] Have you *SAVED* your notebook?\n",
    "* [ ] Are you following the submission requirements for this particular assignment?"
   ]
  }
 ],
 "metadata": {
  "colab": {
   "name": "Problem Set 3.ipynb",
   "provenance": [],
   "toc_visible": true
  },
  "kernelspec": {
   "display_name": "Python (en685648)",
   "language": "python",
   "name": "en685648"
  },
  "language_info": {
   "codemirror_mode": {
    "name": "ipython",
    "version": 3
   },
   "file_extension": ".py",
   "mimetype": "text/x-python",
   "name": "python",
   "nbconvert_exporter": "python",
   "pygments_lexer": "ipython3",
   "version": "3.11.7"
  },
  "toc": {
   "colors": {
    "hover_highlight": "#DAA520",
    "navigate_num": "#000000",
    "navigate_text": "#333333",
    "running_highlight": "#FF0000",
    "selected_highlight": "#FFD700",
    "sidebar_border": "#EEEEEE",
    "wrapper_background": "#FFFFFF"
   },
   "moveMenuLeft": true,
   "nav_menu": {
    "height": "66px",
    "width": "252px"
   },
   "navigate_menu": true,
   "number_sections": true,
   "sideBar": true,
   "threshold": 4,
   "toc_cell": false,
   "toc_section_display": "block",
   "toc_window_display": false,
   "widenNotebook": false
  }
 },
 "nbformat": 4,
 "nbformat_minor": 4
}
