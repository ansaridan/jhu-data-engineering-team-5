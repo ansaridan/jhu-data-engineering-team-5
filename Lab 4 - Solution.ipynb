{
 "cells": [
  {
   "cell_type": "code",
   "execution_count": 1,
   "id": "5af420e8-f5d0-45be-a49d-d6404e36783f",
   "metadata": {},
   "outputs": [],
   "source": [
    "import warnings\n",
    "warnings.filterwarnings('ignore')"
   ]
  },
  {
   "cell_type": "markdown",
   "id": "375f8593-0c2b-4336-a4e7-8c58c3780cd9",
   "metadata": {},
   "source": [
    "# Lab 4 - Data (ETL) - Solution"
   ]
  },
  {
   "cell_type": "code",
   "execution_count": 2,
   "id": "44cbf318-6e34-46b8-bf5a-021978377d59",
   "metadata": {},
   "outputs": [],
   "source": [
    "%matplotlib inline"
   ]
  },
  {
   "cell_type": "markdown",
   "id": "71bb9bd1-234c-445e-9fc0-06f87e78ad25",
   "metadata": {},
   "source": [
    "## General Instructions\n",
    "\n",
    "In this course, Labs are the chance to applying concepts and methods discussed in the module.\n",
    "They are a low stakes (pass/fail) opportunity for you to try your hand at *doing*.\n",
    "Please make sure you follow the general Lab instructions, described in the Syllabus.\n",
    "The summary is:\n",
    "\n",
    "* Discussions should start as students work through the material, first Wednesday at the start of the new Module week. \n",
    "* Labs are due by Sunday. \n",
    "* Lab solutions are released Monday.  \n",
    "* Post Self Evaluation and Lab to Lab Group on Blackboard and Lab to Module on Blackboard on Monday.\n",
    "\n",
    "The last part is important because the Problem Sets will require you to perform the same or similar tasks without guidance.\n",
    "Problem Sets are your opportunity to demonstrate that you understand how to apply the concepts and methods discussed in the relevant Modules and Labs."
   ]
  },
  {
   "cell_type": "markdown",
   "id": "a750158b-e6aa-4db4-9576-a352ffde3943",
   "metadata": {},
   "source": [
    "## Specific Instructions\n",
    "\n",
    "1.  For Blackboard submissions, if there are no accompanying files, you should submit *only* your notebook and it should be named using *only* your JHED id: fsmith79.ipynb for example if your JHED id were \"fsmith79\". If the assignment requires additional files, you should name the *folder/directory* your JHED id and put all items in that folder/directory, ZIP it up (only ZIP...no other compression), and submit it to Blackboard.\n",
    "\n",
    "    * do **not** use absolute paths in your notebooks. All resources should located in the same directory as the rest of your assignments.\n",
    "    * the directory **must** be named your JHED id and **only** your JHED id.\n",
    "    * do **not** return files provided by us (data files, .py files)\n",
    "\n",
    "2. Data Science is as much about what you write (communicating) as the code you execute (researching). In many places, you will be required to execute code and discuss both the purpose and the result. Additionally, Data Science is about reproducibility and transparency. This includes good communication with your team and possibly with yourself. Therefore, you must show **all** work.\n",
    "\n",
    "3. Avail yourself of the Markdown/Codecell nature of the notebook. If you don't know about Markdown, look it up. Your notebooks should not look like ransom notes. Don't make everything bold. Clearly indicate what question you are answering.\n",
    "\n",
    "4. Submit a cleanly executed notebook. The first code cell should say `In [1]` and each successive code cell should increase by 1 throughout the notebook.\n",
    "\n",
    "**Note** This assignment will have multiple files. Follow those instructions."
   ]
  },
  {
   "cell_type": "markdown",
   "id": "3372e34c-c740-40f3-ac2b-db80a363f38a",
   "metadata": {},
   "source": [
    "## Lab\n",
    "\n",
    "**Reid's** is a small breakfast stand that sells drinks (coffee, tea, sodas) and food (egg & sausage, oatmeal) in a commercial downtown area, Monday through Friday, from 8a until 11am.\n",
    "Although their menu is small, they do try to cater to a wide variety of diets and thus provide both vegan and keto options for most of their meals.\n",
    "They started using Ordr as their Point of Sale system about two months ago and are on the Basic Plan.\n",
    "\n",
    "Under the Basic Plan, they are able to use the Ordr API to access orders.\n",
    "This order information comes in the form of a denormalized JSON document.\n",
    "In order to make any sense of things, you need to normalize it in the Datawarehouse.\n",
    "\n",
    "1. You are not actually going to access an external API. Use the provided JSON file as the data that the API would return.\n",
    "2. You are not actually going to use a datawarehouse. Instead you will use a SQLite database.\n",
    "\n",
    "**Note** We sometimes get strange questions about the use of SQLite like, \"do you really use SQLite in production?\". We use SQLite jor this Lab for the following reasons:\n",
    "\n",
    "1. SQLite is a real RDBMS.\n",
    "2. SQLite uses real SQL. SQL may be the most important skill you can have as a Data Scientist doing Data Science.\n",
    "3. Most importantly, the database itself is a standalone file that you can submit to us.\n",
    "\n",
    "That being said, under some and somewhat weird circumstances, I have used SQLite on real projects before. However, the learning objective is not SQLite, SQLite is  tool.\n",
    "\n",
    "**Note**\n",
    "We assume you know the basics of RDMBS in this course.\n",
    "That you understand what \"normalized\" and \"denormalized\" data means and that you know about primary and foreign keys.\n",
    "This [article](https://www3.ntu.edu.sg/home/ehchua/programming/sql/Relational_Database_Design.html) does talk about the major points.\n",
    "Additionally, we assume you know SQL and DDL.\n",
    "If you do not, this Lab will be more challenging than usual and you should start early.\n",
    "\n",
    "**Important - You must not use Pandas for any part of this assignment.**\n",
    "Why not?\n",
    "Because you should know how to do these things without relying on Pandas."
   ]
  },
  {
   "cell_type": "markdown",
   "id": "47f6ea04-cc82-4f10-a5df-397822996f32",
   "metadata": {},
   "source": [
    "## Lab\n",
    "\n",
    "**Reid's** is a small breakfast stand that sells drinks (coffee, tea, sodas) and food (egg & sausage, oatmeal) in a commercial downtown area, Monday through Friday, from 8a until 11am.\n",
    "Although their menu is small, they do try to cater to a wide variety of diets and thus provide both vegan and keto options for most of their meals.\n",
    "They started using Ordr as their Point of Sale (POS) system about two months ago and are on the Basic Plan.\n",
    "\n",
    "Under the Basic Plan, they are able to use the Ordr API to access orders.\n",
    "This order information comes in the form of a denormalized JSON document.\n",
    "In order to make any sense of things, you need to normalize it in the Datawarehouse.\n",
    "\n",
    "1. You are not actually going to access an external API. Use the provided JSON file as the data that the API would return.\n",
    "2. **You are doing \"ETL in the Large\" in this assignment.** You are going to build a datawarehouse in SQLite, *not* an application database. This difference is substantial. Refer to the draft chapter of Fundamentals for some of the differences.\n",
    "\n",
    "**Note** We sometimes get strange questions about the use of SQLite like, \"do you really use SQLite in production?\". We use SQLite jor this Lab for the following reasons:\n",
    "\n",
    "1. SQLite is a real RDBMS.\n",
    "2. SQLite uses real SQL. SQL may be the most important skill you can have as a Data Scientist doing Data Science.\n",
    "3. Most importantly, the database itself is a standalone file that you can submit to us.\n",
    "\n",
    "That being said, under some and somewhat weird circumstances, I have used SQLite on real projects before. However, the learning objective is not SQLite, SQLite is  tool.\n",
    "\n",
    "<div style=\"background: lemonchiffon; margin:20px; padding: 20px;\">\n",
    "    <strong>Note</strong>\n",
    "    <p>You may need to install <tt>sqlite</tt>. It is normally on MacOs and may be on Linux already.</p>\n",
    "</div>\n",
    "\n",
    "**Note**\n",
    "We assume you know the basics of RDMBS and SQL DDL in this course (It is in the course prerequisites!).\n",
    "That you understand what \"normalized\" and \"denormalized\" data means and that you know about primary and foreign keys.\n",
    "This [article](https://www3.ntu.edu.sg/home/ehchua/programming/sql/Relational_Database_Design.html) does talk about the major points.\n",
    "Additionally, we assume you know SQL and DDL.\n",
    "If you do not, this Lab will be more challenging than usual and you should start early.\n",
    "\n",
    "**Important - You must not use Pandas for any part of this assignment.**\n",
    "Why not?\n",
    "Because you should know how to do these things without relying on Pandas."
   ]
  },
  {
   "cell_type": "markdown",
   "id": "315e3fde-0b89-4b0f-bcc0-6d0b843a74e3",
   "metadata": {},
   "source": [
    "## Part 1\n",
    "\n",
    "### Learning Objectives\n",
    "\n",
    "* investigate the structure of data acquired from a 3rd party.\n",
    "* convert denormalized data into normalized data, according to common data warehouse practices.\n",
    "* design a data warehouse to store production data acquired from a 3rd party.\n",
    "* write data to a data warehouse.\n",
    "\n",
    "This assignment is not about tools *per se* but about broader skills and concepts.\n",
    "\n",
    "You will be creating the following files:\n",
    "\n",
    "1. **reids.sql** - this file will create the database structure using DDL. Make sure you review the data and sketch out your design.\n",
    "2. **reids.db** - this is the actual database, our data warehouse.\n",
    "\n",
    "```\n",
    "> sqlite3 reids.db < reids.sql\n",
    "```\n",
    "\n",
    "will create the database and all the tables.\n",
    "The database will be empty at this point.\n",
    "\n",
    "<div style=\"background: lemonchiffon; margin:20px; padding: 20px;\">\n",
    "    <strong>Note</strong>\n",
    "    <p>\"<tt>></tt>\" represents the command line. Your sqlite executable may have a different name.</p>\n",
    "</div>\n",
    "\n",
    "3. **reids.py** - this program will parse the JSON file and fill the database.\n",
    "\n",
    "```\n",
    "> python reids.py\n",
    "```\n",
    "\n",
    "Unfortunately, the documentations for the Ordr API is sparse, here is an example of one order:\n",
    "\n",
    "```\n",
    "{'items': [\n",
    "    {'name': 'coffee', 'price': 2.75},\n",
    "    {'name': 'flavor shot', 'price': 1.0}\n",
    "    ],\n",
    "'charges': {\n",
    "    'date': '01/04/21 10:22',\n",
    "    'subtotal': 3.75,\n",
    "    'taxes': 0.26,\n",
    "    'total': 4.01},\n",
    "'payment': {\n",
    "    'card_type': 'visa',\n",
    "    'last_4_card_number': '0465',\n",
    "    'zip': '21217',\n",
    "    'cardholder': 'Christina Sampson',\n",
    "    'method': 'credit_card'}}\n",
    "```\n",
    "\n",
    "**The date format is Month/Day/Year**\n",
    "\n",
    "Make sure you look through the data to see what values are possible for each of the fields.\n",
    "The standards of normalization/denormalization for datawarehouses are slightly different or can be different than regular production RDMBS systems.\n",
    "For example, we might be tempted to create a `menu_items` table:\n",
    "\n",
    "```\n",
    "id    name                 price\n",
    "1     coffee               2.75\n",
    "2     flavor shot          1.00\n",
    "3     egg salad sandwich   4.50\n",
    "```\n",
    "\n",
    "An issue arises if we change the name to \"Kona Coffee\" because it will change it *for past purchases*.\n",
    "That is, customers in the past bought based on the name \"Coffee\" and not \"Kona Coffee\".\n",
    "This might be important.\n",
    "Even worse, if we change the price to \\\\$3.00, it changes it for all past purchases and that is clearly wrong.\n",
    "\n",
    "In a production RDMBS we often want the data to change everywhere it is used.\n",
    "If \"Steve\" changes his name to \"Sam\", we want that to be reflected in any query and report.\n",
    "For datawarehousing, though, we want to preserve the historical fidelity of the data.\n",
    "This means we have a tendency to normalize *less* than we would otherwise do.\n",
    "It's worth noting that there is a trend to preserve the historical fidelity in production databases as well by things like soft deletes.\n",
    "\n",
    "This means the main issue for the Ordr data is storing the three main entities and creating primary/secondary keys.\n",
    "You will need to create these.\n",
    "\n",
    "All of this \"parsing and massaging\" work will be done in the `reids.py` file.\n",
    "It will contain the code to parse the JSON file and fill the database, performing whatever normalization and standardization is required as well as creating whatever primary and foreign key relationships seem reasonable.\n",
    "\n",
    "You must create the following tables in the database:\n",
    "\n",
    "1. `items`\n",
    "2. `charges`\n",
    "3. `payments`\n",
    "\n",
    "but you can add additional tables as necessary (it is not uncommmon to include tables in datawarehouses that support analytics such as information about business dates).\n",
    "\n",
    "**Note** Feel free to develop reids.py as a Notebook and then generate the .py from the .ipynb file...just make sure you only include the .py file and that it will run from the command line as specified above and you have commented out any debug/chatter.\n",
    "\n",
    "**Important**\n",
    "There are some \"gotchas\".\n",
    "1. When inserting data into the database, don't forget to the commit.\n",
    "2. If you must reconstruct your database, make sure you \"free\" all references to it. If you use a script to change it but it's open your notebook, the open version in the notebook won't necessarily see those changes.  You'll need to get a new connection.\n",
    "\n",
    "When you are done with this part, you should be able to proceed to Part 2."
   ]
  },
  {
   "cell_type": "markdown",
   "id": "1e41202b-310a-4a7b-9749-2afcc7496ced",
   "metadata": {},
   "source": [
    "<div style=\"background: peachpuff; margin:20px; padding: 20px;\">\n",
    "    <strong>Rubric</strong>\n",
    "    <ul>\n",
    "        <li>If <strong>any</strong> of the above code and SQL are in this file, that is incorrect and a \"C\".</li>\n",
    "        <li>If you used Pandas at any point, that is incorrect, and an \"F\"</li>.\n",
    "    </ul>\n",
    "</div>"
   ]
  },
  {
   "cell_type": "markdown",
   "id": "103c1b52-7cab-43cb-8dc3-c19819b21030",
   "metadata": {},
   "source": [
    "**Everything having to do with parsing the JSON file from Ordr and setting up the \"data warehouse\" should be done in the three files described above and not in this Notebook.**\n",
    "\n",
    "## Part 2\n",
    "\n",
    "### Learning Objectives\n",
    "\n",
    "You almost never start out with a Notebook and start pulling data. \n",
    "The idea that you launch Jupyter Notebook and load a readily available CSV is an incredibly artificial artifact of school (if you had to pull data The Real Way(tm) for every assignment, we'd never get anything done).\n",
    "\n",
    "Instead, you are more likely to start out with a database and you run queries directly against the database, finding out where and what everything is, answering some initial questions.\n",
    "\n",
    "* Run queries against an RDBMS to answer basic business questions.\n",
    "\n",
    "Some data science projects are literally just this: someone asks a question, you investigate the data, you run a query using something like [MySQL Workbench](https://www.mysql.com/products/workbench/), [Toad](https://www.toadworld.com/products/toad-for-sql-server) (Windows Only) or [Postico](https://eggerapps.at/postico/) (MacOS Only). There are also generic SQL clients. For example, [VSCode](https://code.visualstudio.com/) has SQL extensions.\n",
    "\n",
    "You will mimic that experience here by using only the [sqlite3](https://docs.python.org/3/library/sqlite3.html) Python library (included in the base installiation, link is to documentation).\n",
    "As with Part 1, you may *not* use Pandas for this part.\n",
    "Additionally, you *must* not print out native Python data structures.\n",
    "[Tabulate](https://pypi.org/project/tabulate/) has been provided in the environment.yml for your use.\n",
    "\n",
    "\n",
    "For Part 2, everything should be done here, in this notebook.\n",
    "\n",
    "**Note**\n",
    "The general format is discuss/code/discuss.\n",
    "For the questions below, you should be able to:\n",
    "\n",
    "1. explain what the query does (discuss)\n",
    "2. execute and display the query result (code)\n",
    "3. interpret the result (discuss)\n",
    "\n",
    "All three are required for full credit on something like Problem Set so you should practice the triad here. It is permissible to use a query to get raw data (and show it in a table) and then perform a calculation with that raw data (just add a code cell). However, you should do as much as possible in SQL.\n",
    "\n",
    "<div style=\"background: lemonchiffon; margin:20px; padding: 20px;\">\n",
    "    <strong>Note</strong>\n",
    "    <p>\n",
    "There is a significant work/payoff imbalance here and this reflects real life.\n",
    "Setting up the data warehouse is 80% of the effort but only 20% of the credit.\n",
    "Your boss just doesn't care about your struggles with the data, they only care about answering the queries.\n",
    "As a result, the queries (Part 2) may be 20% of the effort but they're 80% of the grade.\n",
    "They're proof that you did Part 1 correctly.\n",
    "If you don't get to the queries, if you don't do them right, there's no proof.\n",
    "    </p>\n",
    "</div>\n",
    "\n",
    "Using the database `reids.db` and SQL please answer the following questions:"
   ]
  },
  {
   "cell_type": "code",
   "execution_count": 3,
   "id": "7b0f0e6c-d922-41ae-bc04-23e85ff54d1f",
   "metadata": {},
   "outputs": [],
   "source": [
    "from tabulate import tabulate\n",
    "import sqlite3"
   ]
  },
  {
   "cell_type": "code",
   "execution_count": 4,
   "id": "d1143e63-2170-4150-ae35-90c4415c5ba9",
   "metadata": {},
   "outputs": [],
   "source": [
    "con = sqlite3.connect('reids.db')"
   ]
  },
  {
   "cell_type": "markdown",
   "id": "7625a6d4-1b51-4778-ad56-77aba03a88f2",
   "metadata": {},
   "source": [
    "### Question 1.\n",
    "\n",
    "What were Reid's order count and gross revenue by day for the two month period?"
   ]
  },
  {
   "cell_type": "markdown",
   "id": "5dc6d28b-d2c6-4e05-b436-bbae7fd82d9e",
   "metadata": {},
   "source": [
    "There is no date type in SQLite (SQLite is actually dynamically typed).\n",
    "There are at least two possible alternatives here.\n",
    "First, one could have extracted the date and time components of date in the charges table into two columns using Python, when the table was created.\n",
    "Second, one can just parse the string \"04/01/2021 8:49\" using the SQLite String functions.\n",
    "\n",
    "Stripping the date in charges to just the date value, we can do a simple SELECT against the date and total in the charge table and a GROUP BY to collect all the charges for a given day and a SUM aggregate function total the totals."
   ]
  },
  {
   "cell_type": "code",
   "execution_count": 5,
   "id": "16d914c6-0544-453e-9253-3fd015dedcf6",
   "metadata": {},
   "outputs": [
    {
     "data": {
      "text/html": [
       "<table>\n",
       "<thead>\n",
       "<tr><th>date    </th><th style=\"text-align: right;\">  count</th><th style=\"text-align: right;\">  total</th></tr>\n",
       "</thead>\n",
       "<tbody>\n",
       "<tr><td>04/01/21</td><td style=\"text-align: right;\">     34</td><td style=\"text-align: right;\"> 188.87</td></tr>\n",
       "<tr><td>04/02/21</td><td style=\"text-align: right;\">     51</td><td style=\"text-align: right;\"> 265.11</td></tr>\n",
       "<tr><td>04/05/21</td><td style=\"text-align: right;\">     57</td><td style=\"text-align: right;\"> 339.77</td></tr>\n",
       "<tr><td>04/06/21</td><td style=\"text-align: right;\">     48</td><td style=\"text-align: right;\"> 276.09</td></tr>\n",
       "<tr><td>04/07/21</td><td style=\"text-align: right;\">     32</td><td style=\"text-align: right;\"> 188.63</td></tr>\n",
       "<tr><td>04/08/21</td><td style=\"text-align: right;\">     58</td><td style=\"text-align: right;\"> 345.92</td></tr>\n",
       "<tr><td>04/09/21</td><td style=\"text-align: right;\">     62</td><td style=\"text-align: right;\"> 341.58</td></tr>\n",
       "<tr><td>04/12/21</td><td style=\"text-align: right;\">     55</td><td style=\"text-align: right;\"> 294.54</td></tr>\n",
       "<tr><td>04/13/21</td><td style=\"text-align: right;\">     32</td><td style=\"text-align: right;\"> 167.5 </td></tr>\n",
       "<tr><td>04/14/21</td><td style=\"text-align: right;\">     54</td><td style=\"text-align: right;\"> 288.41</td></tr>\n",
       "<tr><td>04/15/21</td><td style=\"text-align: right;\">     45</td><td style=\"text-align: right;\"> 262.69</td></tr>\n",
       "<tr><td>04/16/21</td><td style=\"text-align: right;\">     75</td><td style=\"text-align: right;\"> 402.63</td></tr>\n",
       "<tr><td>04/19/21</td><td style=\"text-align: right;\">     49</td><td style=\"text-align: right;\"> 276.1 </td></tr>\n",
       "<tr><td>04/20/21</td><td style=\"text-align: right;\">     43</td><td style=\"text-align: right;\"> 265.65</td></tr>\n",
       "<tr><td>04/21/21</td><td style=\"text-align: right;\">     39</td><td style=\"text-align: right;\"> 207.62</td></tr>\n",
       "<tr><td>04/22/21</td><td style=\"text-align: right;\">     55</td><td style=\"text-align: right;\"> 316.76</td></tr>\n",
       "<tr><td>04/23/21</td><td style=\"text-align: right;\">     75</td><td style=\"text-align: right;\"> 408.49</td></tr>\n",
       "<tr><td>04/26/21</td><td style=\"text-align: right;\">     47</td><td style=\"text-align: right;\"> 256.32</td></tr>\n",
       "<tr><td>04/27/21</td><td style=\"text-align: right;\">     46</td><td style=\"text-align: right;\"> 240.78</td></tr>\n",
       "<tr><td>04/28/21</td><td style=\"text-align: right;\">     44</td><td style=\"text-align: right;\"> 267.53</td></tr>\n",
       "<tr><td>04/29/21</td><td style=\"text-align: right;\">     50</td><td style=\"text-align: right;\"> 259.79</td></tr>\n",
       "<tr><td>04/30/21</td><td style=\"text-align: right;\">     53</td><td style=\"text-align: right;\"> 284.13</td></tr>\n",
       "<tr><td>05/03/21</td><td style=\"text-align: right;\">     48</td><td style=\"text-align: right;\"> 285.47</td></tr>\n",
       "<tr><td>05/04/21</td><td style=\"text-align: right;\">     47</td><td style=\"text-align: right;\"> 263.49</td></tr>\n",
       "<tr><td>05/05/21</td><td style=\"text-align: right;\">     35</td><td style=\"text-align: right;\"> 188.86</td></tr>\n",
       "<tr><td>05/06/21</td><td style=\"text-align: right;\">     58</td><td style=\"text-align: right;\"> 359.81</td></tr>\n",
       "<tr><td>05/07/21</td><td style=\"text-align: right;\">     63</td><td style=\"text-align: right;\"> 355.28</td></tr>\n",
       "<tr><td>05/10/21</td><td style=\"text-align: right;\">     51</td><td style=\"text-align: right;\"> 301.24</td></tr>\n",
       "<tr><td>05/11/21</td><td style=\"text-align: right;\">     30</td><td style=\"text-align: right;\"> 171.73</td></tr>\n",
       "<tr><td>05/12/21</td><td style=\"text-align: right;\">     33</td><td style=\"text-align: right;\"> 202.26</td></tr>\n",
       "<tr><td>05/13/21</td><td style=\"text-align: right;\">     59</td><td style=\"text-align: right;\"> 315.68</td></tr>\n",
       "<tr><td>05/14/21</td><td style=\"text-align: right;\">     51</td><td style=\"text-align: right;\"> 263.23</td></tr>\n",
       "<tr><td>05/17/21</td><td style=\"text-align: right;\">     30</td><td style=\"text-align: right;\"> 170.68</td></tr>\n",
       "<tr><td>05/18/21</td><td style=\"text-align: right;\">     48</td><td style=\"text-align: right;\"> 274.5 </td></tr>\n",
       "<tr><td>05/19/21</td><td style=\"text-align: right;\">     55</td><td style=\"text-align: right;\"> 296.44</td></tr>\n",
       "<tr><td>05/20/21</td><td style=\"text-align: right;\">     59</td><td style=\"text-align: right;\"> 331.69</td></tr>\n",
       "<tr><td>05/21/21</td><td style=\"text-align: right;\">     63</td><td style=\"text-align: right;\"> 333.32</td></tr>\n",
       "<tr><td>05/24/21</td><td style=\"text-align: right;\">     48</td><td style=\"text-align: right;\"> 288.93</td></tr>\n",
       "<tr><td>05/25/21</td><td style=\"text-align: right;\">     55</td><td style=\"text-align: right;\"> 318.1 </td></tr>\n",
       "<tr><td>05/26/21</td><td style=\"text-align: right;\">     39</td><td style=\"text-align: right;\"> 222.31</td></tr>\n",
       "<tr><td>05/27/21</td><td style=\"text-align: right;\">     45</td><td style=\"text-align: right;\"> 255.49</td></tr>\n",
       "<tr><td>05/28/21</td><td style=\"text-align: right;\">     50</td><td style=\"text-align: right;\"> 273.43</td></tr>\n",
       "</tbody>\n",
       "</table>"
      ],
      "text/plain": [
       "'<table>\\n<thead>\\n<tr><th>date    </th><th style=\"text-align: right;\">  count</th><th style=\"text-align: right;\">  total</th></tr>\\n</thead>\\n<tbody>\\n<tr><td>04/01/21</td><td style=\"text-align: right;\">     34</td><td style=\"text-align: right;\"> 188.87</td></tr>\\n<tr><td>04/02/21</td><td style=\"text-align: right;\">     51</td><td style=\"text-align: right;\"> 265.11</td></tr>\\n<tr><td>04/05/21</td><td style=\"text-align: right;\">     57</td><td style=\"text-align: right;\"> 339.77</td></tr>\\n<tr><td>04/06/21</td><td style=\"text-align: right;\">     48</td><td style=\"text-align: right;\"> 276.09</td></tr>\\n<tr><td>04/07/21</td><td style=\"text-align: right;\">     32</td><td style=\"text-align: right;\"> 188.63</td></tr>\\n<tr><td>04/08/21</td><td style=\"text-align: right;\">     58</td><td style=\"text-align: right;\"> 345.92</td></tr>\\n<tr><td>04/09/21</td><td style=\"text-align: right;\">     62</td><td style=\"text-align: right;\"> 341.58</td></tr>\\n<tr><td>04/12/21</td><td style=\"text-align: right;\">     55</td><td style=\"text-align: right;\"> 294.54</td></tr>\\n<tr><td>04/13/21</td><td style=\"text-align: right;\">     32</td><td style=\"text-align: right;\"> 167.5 </td></tr>\\n<tr><td>04/14/21</td><td style=\"text-align: right;\">     54</td><td style=\"text-align: right;\"> 288.41</td></tr>\\n<tr><td>04/15/21</td><td style=\"text-align: right;\">     45</td><td style=\"text-align: right;\"> 262.69</td></tr>\\n<tr><td>04/16/21</td><td style=\"text-align: right;\">     75</td><td style=\"text-align: right;\"> 402.63</td></tr>\\n<tr><td>04/19/21</td><td style=\"text-align: right;\">     49</td><td style=\"text-align: right;\"> 276.1 </td></tr>\\n<tr><td>04/20/21</td><td style=\"text-align: right;\">     43</td><td style=\"text-align: right;\"> 265.65</td></tr>\\n<tr><td>04/21/21</td><td style=\"text-align: right;\">     39</td><td style=\"text-align: right;\"> 207.62</td></tr>\\n<tr><td>04/22/21</td><td style=\"text-align: right;\">     55</td><td style=\"text-align: right;\"> 316.76</td></tr>\\n<tr><td>04/23/21</td><td style=\"text-align: right;\">     75</td><td style=\"text-align: right;\"> 408.49</td></tr>\\n<tr><td>04/26/21</td><td style=\"text-align: right;\">     47</td><td style=\"text-align: right;\"> 256.32</td></tr>\\n<tr><td>04/27/21</td><td style=\"text-align: right;\">     46</td><td style=\"text-align: right;\"> 240.78</td></tr>\\n<tr><td>04/28/21</td><td style=\"text-align: right;\">     44</td><td style=\"text-align: right;\"> 267.53</td></tr>\\n<tr><td>04/29/21</td><td style=\"text-align: right;\">     50</td><td style=\"text-align: right;\"> 259.79</td></tr>\\n<tr><td>04/30/21</td><td style=\"text-align: right;\">     53</td><td style=\"text-align: right;\"> 284.13</td></tr>\\n<tr><td>05/03/21</td><td style=\"text-align: right;\">     48</td><td style=\"text-align: right;\"> 285.47</td></tr>\\n<tr><td>05/04/21</td><td style=\"text-align: right;\">     47</td><td style=\"text-align: right;\"> 263.49</td></tr>\\n<tr><td>05/05/21</td><td style=\"text-align: right;\">     35</td><td style=\"text-align: right;\"> 188.86</td></tr>\\n<tr><td>05/06/21</td><td style=\"text-align: right;\">     58</td><td style=\"text-align: right;\"> 359.81</td></tr>\\n<tr><td>05/07/21</td><td style=\"text-align: right;\">     63</td><td style=\"text-align: right;\"> 355.28</td></tr>\\n<tr><td>05/10/21</td><td style=\"text-align: right;\">     51</td><td style=\"text-align: right;\"> 301.24</td></tr>\\n<tr><td>05/11/21</td><td style=\"text-align: right;\">     30</td><td style=\"text-align: right;\"> 171.73</td></tr>\\n<tr><td>05/12/21</td><td style=\"text-align: right;\">     33</td><td style=\"text-align: right;\"> 202.26</td></tr>\\n<tr><td>05/13/21</td><td style=\"text-align: right;\">     59</td><td style=\"text-align: right;\"> 315.68</td></tr>\\n<tr><td>05/14/21</td><td style=\"text-align: right;\">     51</td><td style=\"text-align: right;\"> 263.23</td></tr>\\n<tr><td>05/17/21</td><td style=\"text-align: right;\">     30</td><td style=\"text-align: right;\"> 170.68</td></tr>\\n<tr><td>05/18/21</td><td style=\"text-align: right;\">     48</td><td style=\"text-align: right;\"> 274.5 </td></tr>\\n<tr><td>05/19/21</td><td style=\"text-align: right;\">     55</td><td style=\"text-align: right;\"> 296.44</td></tr>\\n<tr><td>05/20/21</td><td style=\"text-align: right;\">     59</td><td style=\"text-align: right;\"> 331.69</td></tr>\\n<tr><td>05/21/21</td><td style=\"text-align: right;\">     63</td><td style=\"text-align: right;\"> 333.32</td></tr>\\n<tr><td>05/24/21</td><td style=\"text-align: right;\">     48</td><td style=\"text-align: right;\"> 288.93</td></tr>\\n<tr><td>05/25/21</td><td style=\"text-align: right;\">     55</td><td style=\"text-align: right;\"> 318.1 </td></tr>\\n<tr><td>05/26/21</td><td style=\"text-align: right;\">     39</td><td style=\"text-align: right;\"> 222.31</td></tr>\\n<tr><td>05/27/21</td><td style=\"text-align: right;\">     45</td><td style=\"text-align: right;\"> 255.49</td></tr>\\n<tr><td>05/28/21</td><td style=\"text-align: right;\">     50</td><td style=\"text-align: right;\"> 273.43</td></tr>\\n</tbody>\\n</table>'"
      ]
     },
     "execution_count": 5,
     "metadata": {},
     "output_type": "execute_result"
    }
   ],
   "source": [
    "query = \"\"\"\n",
    "SELECT \n",
    "    SUBSTR(date, 0, INSTR(date, ' ')) AS _date, \n",
    "    COUNT(*) AS _count,\n",
    "    SUM(total) AS _total\n",
    "FROM charges\n",
    "GROUP BY _date\n",
    "ORDER BY _date\n",
    "\"\"\"\n",
    "result1 = list(con.execute(query))\n",
    "tabulate(result1, headers=[\"date\", \"count\", \"total\"], tablefmt='html')"
   ]
  },
  {
   "cell_type": "markdown",
   "id": "1105a628-f149-4389-865c-83d7d0f86300",
   "metadata": {},
   "source": [
    "Every five days, two days are missing.\n",
    "Reid's is only open weekdays so this makes sense.\n",
    "The data spans from 4/1/2021 to 5/28/21 (5/31 was a holiday in the US!).\n",
    "\n",
    "<div style=\"background: peachpuff; margin:20px; padding: 20px;\">\n",
    "    <strong>Rubric</strong>\n",
    "    <ul>\n",
    "        <li>All results should be nicely formatted and not \"raw\" Python data structures.</li>\n",
    "        <li>There should always be a discussion of the results</li>\n",
    "    </ul>\n",
    "</div>\n"
   ]
  },
  {
   "cell_type": "code",
   "execution_count": 6,
   "id": "9cfd2e03-0ac7-40e8-8185-adf014abc5b5",
   "metadata": {},
   "outputs": [],
   "source": [
    "import seaborn as sns\n",
    "import matplotlib.pyplot as plt"
   ]
  },
  {
   "cell_type": "code",
   "execution_count": 7,
   "id": "2b37f3b1-d9a3-4638-b9be-bee2bbaf45d0",
   "metadata": {},
   "outputs": [
    {
     "data": {
      "image/png": "[encoded data removed]",
      "text/plain": [
       "<Figure size 1440x432 with 1 Axes>"
      ]
     },
     "metadata": {
      "needs_background": "light"
     },
     "output_type": "display_data"
    }
   ],
   "source": [
    "x = range(len(result1))\n",
    "width = 1/1.5\n",
    "\n",
    "figure = plt.figure(figsize=(20, 6))\n",
    "\n",
    "axes = figure.add_subplot(1, 1, 1)\n",
    "axes.bar(x, [r[1] for r in result1], width, color=\"dimgray\", align=\"center\")\n",
    "axes.set_xticks(x)\n",
    "axes.set_xticklabels([r[0] for r in result1])\n",
    "axes.set_title( \"Reid's Sales per Day\")\n",
    "axes.set_xlabel(\"Day\")\n",
    "axes.set_ylabel( \"Sales ($)\")\n",
    "axes.xaxis.grid(False)\n",
    "plt.setp( axes.xaxis.get_majorticklabels(), rotation=70)\n",
    "\n",
    "plt.show()\n",
    "plt.close();"
   ]
  },
  {
   "cell_type": "markdown",
   "id": "f3dc1d30-3beb-44a8-8bfd-437291c94ed4",
   "metadata": {},
   "source": [
    "This looks a little cyclical.\n",
    "\n",
    "<div style=\"background: peachpuff; margin:20px; padding: 20px;\">\n",
    "    <strong>Rubric</strong>\n",
    "    <ul>\n",
    "        <li>Did you think to make a chart?</li>\n",
    "    </ul>\n",
    "</div>\n"
   ]
  },
  {
   "cell_type": "markdown",
   "id": "de4d2559-95f3-4856-96f3-3765404bee9a",
   "metadata": {},
   "source": [
    "### Question 2.\n",
    "\n",
    "What is Reid's average order count and gross revenue by day of the week?"
   ]
  },
  {
   "cell_type": "markdown",
   "id": "e70d4745-b7ae-4aa5-b193-3c6b0b9978f3",
   "metadata": {},
   "source": [
    "We can basically take the data from the previous query and map each date to a day of the week.\n",
    "Because we set up a calendar table, we can join to that table.\n",
    "An alternative would be run the query from the last question and do the actual computation in Python (which is also just fine).\n",
    "If we find we want to do these kinds of calculations often, the calendar table (and any other \"support\" tables is the way to go in the long run)."
   ]
  },
  {
   "cell_type": "code",
   "execution_count": 8,
   "id": "ef0b6ecc-8a77-410e-9bad-158ea84f0225",
   "metadata": {},
   "outputs": [
    {
     "data": {
      "text/html": [
       "<table>\n",
       "<thead>\n",
       "<tr><th>         </th><th style=\"text-align: right;\">    Day</th><th style=\"text-align: right;\">  Average</th></tr>\n",
       "</thead>\n",
       "<tbody>\n",
       "<tr><td>Friday   </td><td style=\"text-align: right;\">60.3333</td><td style=\"text-align: right;\">  325.244</td></tr>\n",
       "<tr><td>Monday   </td><td style=\"text-align: right;\">48.125 </td><td style=\"text-align: right;\">  276.631</td></tr>\n",
       "<tr><td>Thursday </td><td style=\"text-align: right;\">51.4444</td><td style=\"text-align: right;\">  292.967</td></tr>\n",
       "<tr><td>Tuesday  </td><td style=\"text-align: right;\">43.625 </td><td style=\"text-align: right;\">  247.23 </td></tr>\n",
       "<tr><td>Wednesday</td><td style=\"text-align: right;\">41.375 </td><td style=\"text-align: right;\">  232.758</td></tr>\n",
       "</tbody>\n",
       "</table>"
      ],
      "text/plain": [
       "'<table>\\n<thead>\\n<tr><th>         </th><th style=\"text-align: right;\">    Day</th><th style=\"text-align: right;\">  Average</th></tr>\\n</thead>\\n<tbody>\\n<tr><td>Friday   </td><td style=\"text-align: right;\">60.3333</td><td style=\"text-align: right;\">  325.244</td></tr>\\n<tr><td>Monday   </td><td style=\"text-align: right;\">48.125 </td><td style=\"text-align: right;\">  276.631</td></tr>\\n<tr><td>Thursday </td><td style=\"text-align: right;\">51.4444</td><td style=\"text-align: right;\">  292.967</td></tr>\\n<tr><td>Tuesday  </td><td style=\"text-align: right;\">43.625 </td><td style=\"text-align: right;\">  247.23 </td></tr>\\n<tr><td>Wednesday</td><td style=\"text-align: right;\">41.375 </td><td style=\"text-align: right;\">  232.758</td></tr>\\n</tbody>\\n</table>'"
      ]
     },
     "execution_count": 8,
     "metadata": {},
     "output_type": "execute_result"
    }
   ],
   "source": [
    "query = \"\"\"\n",
    "WITH daily_charges(date, count, total) AS (\n",
    "SELECT \n",
    "    SUBSTR(date, 0, INSTR(date, ' ')) AS _date, \n",
    "    COUNT(*) AS _count,\n",
    "    SUM(total) AS _total\n",
    "FROM charges\n",
    "GROUP BY _date\n",
    "ORDER BY _date\n",
    ")\n",
    "SELECT\n",
    "    day_of_week,\n",
    "    AVG(count),\n",
    "    AVG(total)\n",
    "FROM calendar cal\n",
    "JOIN daily_charges ch ON cal.date = ch.date\n",
    "GROUP BY day_of_week\n",
    "\"\"\"\n",
    "result2 = list(con.execute(query))\n",
    "tabulate(result2, headers=[\"Day\", \"Average\"], tablefmt='html')"
   ]
  },
  {
   "cell_type": "markdown",
   "id": "5c2d2d37-c229-42ba-ba85-61c3e549d289",
   "metadata": {},
   "source": [
    "It seems that Fridays have higher than average sales but this is only eight-ish weeks worth of data.\n",
    "Wednesdays have the lowest sales.\n",
    "\n",
    "<div style=\"background: lemonchiffon; margin:20px; padding: 20px;\">\n",
    "    <strong>Note</strong>\n",
    "    <p>When conducting analytics, we ask ourselves three things (in general):</p>\n",
    "    <ol>\n",
    "        <li>What do we expect to see?</li>\n",
    "        <li>(do the analysis)</li>\n",
    "        <li>Is what we see important?</li>\n",
    "        <li>Is what we see believable?</li>\n",
    "   </ol>\n",
    "    <p>We will talk more about this in the EDA module and the Statistical Inference module but we never \"just\" mess with data and believe it.</p>\n",
    "</div>"
   ]
  },
  {
   "cell_type": "markdown",
   "id": "16cb64eb-50d9-478f-a782-cdca2b958c74",
   "metadata": {},
   "source": [
    "### Question 3.\n",
    "\n",
    "How many cups of coffee does Reid's sell per day, on average?\n",
    "\n",
    "\n"
   ]
  },
  {
   "cell_type": "code",
   "execution_count": 9,
   "id": "527b7190-8429-4ce8-81c8-ed47ada9dcdf",
   "metadata": {},
   "outputs": [
    {
     "data": {
      "text/html": [
       "<table>\n",
       "<thead>\n",
       "<tr><th style=\"text-align: right;\">  Days</th><th style=\"text-align: right;\">  Coffees</th></tr>\n",
       "</thead>\n",
       "<tbody>\n",
       "<tr><td style=\"text-align: right;\">    42</td><td style=\"text-align: right;\">     1515</td></tr>\n",
       "</tbody>\n",
       "</table>"
      ],
      "text/plain": [
       "'<table>\\n<thead>\\n<tr><th style=\"text-align: right;\">  Days</th><th style=\"text-align: right;\">  Coffees</th></tr>\\n</thead>\\n<tbody>\\n<tr><td style=\"text-align: right;\">    42</td><td style=\"text-align: right;\">     1515</td></tr>\\n</tbody>\\n</table>'"
      ]
     },
     "execution_count": 9,
     "metadata": {},
     "output_type": "execute_result"
    }
   ],
   "source": [
    "query = \"\"\"\n",
    "SELECT COUNT(_date), SUM(coffees)\n",
    "FROM (\n",
    "    SELECT \n",
    "        SUBSTR(date, 0, INSTR(date, ' ')) AS _date,\n",
    "        COUNT(*) AS coffees\n",
    "    FROM items it\n",
    "    JOIN charges ch ON it.charge_id = ch.id\n",
    "    WHERE it.name = 'coffee'\n",
    "    GROUP BY _date\n",
    ") a\n",
    "\"\"\"\n",
    "result3 = list(con.execute(query))\n",
    "tabulate(result3, headers=[\"Days\", \"Coffees\"], tablefmt='html')"
   ]
  },
  {
   "cell_type": "code",
   "execution_count": 10,
   "id": "6a747b78-5b32-41fd-8c64-9a39037f6005",
   "metadata": {},
   "outputs": [
    {
     "data": {
      "text/plain": [
       "36.07142857142857"
      ]
     },
     "execution_count": 10,
     "metadata": {},
     "output_type": "execute_result"
    }
   ],
   "source": [
    "1515/42"
   ]
  },
  {
   "cell_type": "markdown",
   "id": "e1ba6a34-a013-43b6-87b8-3ed92ec3da7d",
   "metadata": {},
   "source": [
    "Reid's sells about 36 cups of coffee a day.\n",
    "It might be interesting to see if this follows the same pattern as orders overall.\n",
    "\n",
    "<div style=\"background: peachpuff; margin:20px; padding: 20px;\">\n",
    "    <strong>Rubric</strong>\n",
    "    <ul>\n",
    "        <li>It's okay to mix SQL to get data and Python to process it and analyze it. This is actually expected.</li>\n",
    "    </ul>\n",
    "</div>\n"
   ]
  },
  {
   "cell_type": "markdown",
   "id": "a1b09b62-5947-45f4-b154-17aff4b5bd2d",
   "metadata": {},
   "source": [
    "### Question 4.\n",
    "\n",
    "What proportion of orders contain \"up charges\" like flavor shots, vegan or keto substitutions?"
   ]
  },
  {
   "cell_type": "markdown",
   "id": "1be6d3eb-77d8-417f-9503-71869b53d197",
   "metadata": {},
   "source": [
    "There are a variety of ways to accomplish this particular task.\n",
    "In general, I'm not a fan of performing multiple calculations in a single query (the parts and the total or divisor) so this is another case where we can use the query to get the raw data and then do the computation.\n",
    "\n",
    "We first calculate all the orders with \"special charges\" (CTE) and then perform a LEFT OUTER JOIN from all orders (charges) to those with up charges (special charges).\n",
    "Use an outer join when you expect the JOIN to fail and still need values from tables on the left.\n",
    "We transform the NULLs for the column 'special' to \"no\" and then do a simple aggregation, grouping by special and counting the orders.\n",
    "\n",
    "This gives us counts for those with (\"yes\") and without (\"no\") up charges and the rest is just arithmetic."
   ]
  },
  {
   "cell_type": "code",
   "execution_count": 11,
   "id": "16f9bf2a-d04f-4c0e-9563-487abcb5c614",
   "metadata": {},
   "outputs": [
    {
     "data": {
      "text/html": [
       "<table>\n",
       "<thead>\n",
       "<tr><th>Up Charge  </th><th style=\"text-align: right;\">  Count</th></tr>\n",
       "</thead>\n",
       "<tbody>\n",
       "<tr><td>no         </td><td style=\"text-align: right;\">   1363</td></tr>\n",
       "<tr><td>yes        </td><td style=\"text-align: right;\">    708</td></tr>\n",
       "</tbody>\n",
       "</table>"
      ],
      "text/plain": [
       "'<table>\\n<thead>\\n<tr><th>Up Charge  </th><th style=\"text-align: right;\">  Count</th></tr>\\n</thead>\\n<tbody>\\n<tr><td>no         </td><td style=\"text-align: right;\">   1363</td></tr>\\n<tr><td>yes        </td><td style=\"text-align: right;\">    708</td></tr>\\n</tbody>\\n</table>'"
      ]
     },
     "execution_count": 11,
     "metadata": {},
     "output_type": "execute_result"
    }
   ],
   "source": [
    "query = \"\"\"\n",
    "SELECT special, COUNT(*)\n",
    "FROM (\n",
    "    WITH special_charges(charge_id, special) AS (\n",
    "        SELECT \n",
    "            ch.id,\n",
    "            'yes'\n",
    "        FROM charges ch\n",
    "        JOIN items it ON ch.id = it.charge_id\n",
    "        WHERE it.name IN ('espresso', 'flavor shot', 'keto', 'vegan')\n",
    "        GROUP BY ch.id\n",
    "    )\n",
    "    SELECT IFNULL(special, 'no') AS special, 1\n",
    "    FROM charges ch\n",
    "    LEFT OUTER JOIN special_charges sc ON sc.charge_id = ch.id\n",
    ") a\n",
    "GROUP BY special\n",
    ";\n",
    "\"\"\"\n",
    "result4 = list(con.execute(query))\n",
    "tabulate(result4, headers=[\"Up Charge\", \"Count\"], tablefmt='html')"
   ]
  },
  {
   "cell_type": "code",
   "execution_count": 12,
   "id": "5ad557bb-4942-4e51-85c5-034427f1b68b",
   "metadata": {},
   "outputs": [
    {
     "data": {
      "text/plain": [
       "0.3418638338966683"
      ]
     },
     "execution_count": 12,
     "metadata": {},
     "output_type": "execute_result"
    }
   ],
   "source": [
    "708/(708+1363)"
   ]
  },
  {
   "cell_type": "markdown",
   "id": "a70b06eb-0c41-4597-8dd0-97b16e2d832d",
   "metadata": {},
   "source": [
    "34.2% of all orders contained up charges.\n",
    "It might be interesting to see the distribution of the up charges (perhaps it's not worthwhile to have a keto option to everything)."
   ]
  },
  {
   "cell_type": "markdown",
   "id": "824ca766-4b76-45f3-999d-9c35e6a372eb",
   "metadata": {},
   "source": [
    "### Question 5.\n",
    "\n",
    "Reid's considers someone to be a \"regular\" if they come at least 3 out of 5 days per week. How many regulars do you estimate there are and what are their names? How many days per week do they each come on average? What are the limits of this calculation based on the available data?"
   ]
  },
  {
   "cell_type": "markdown",
   "id": "7940a3b2-5688-4234-81e3-d4c980204a8f",
   "metadata": {},
   "source": [
    "We know there are 42 days and 3/5 = 60% so what we would like to know is that if there are any customers who came more than 25 days in the 42 day period.\n",
    "\n",
    "We first need to JOIN charges to cardholders, making sure we pick only those payments that represent credit cards.\n",
    "Assuming one visit per day (ie, nobody makes more than one purchase per day, which happens to be true), we can sum up the visits and then look only at those customers that had 25 or more.\n",
    "\n",
    "For the average, it's easier to do the calculation in Python (especially since we also wanted the underlying data)."
   ]
  },
  {
   "cell_type": "code",
   "execution_count": 13,
   "id": "36ab579a-7d7e-42c6-91a3-0ded74256c42",
   "metadata": {},
   "outputs": [
    {
     "data": {
      "text/html": [
       "<table>\n",
       "<thead>\n",
       "<tr><th>Up Charge        </th><th style=\"text-align: right;\">  Count</th></tr>\n",
       "</thead>\n",
       "<tbody>\n",
       "<tr><td>Rebecca Garza    </td><td style=\"text-align: right;\">     35</td></tr>\n",
       "<tr><td>Lisa Aguilar     </td><td style=\"text-align: right;\">     34</td></tr>\n",
       "<tr><td>Gina Green       </td><td style=\"text-align: right;\">     34</td></tr>\n",
       "<tr><td>Anthony Martin   </td><td style=\"text-align: right;\">     34</td></tr>\n",
       "<tr><td>Wesley Garcia    </td><td style=\"text-align: right;\">     33</td></tr>\n",
       "<tr><td>Mary Jones       </td><td style=\"text-align: right;\">     33</td></tr>\n",
       "<tr><td>Gregory Jones    </td><td style=\"text-align: right;\">     33</td></tr>\n",
       "<tr><td>Eric Bruce       </td><td style=\"text-align: right;\">     33</td></tr>\n",
       "<tr><td>Cassandra Francis</td><td style=\"text-align: right;\">     33</td></tr>\n",
       "<tr><td>Emily Dennis     </td><td style=\"text-align: right;\">     32</td></tr>\n",
       "<tr><td>William Dunlap   </td><td style=\"text-align: right;\">     31</td></tr>\n",
       "<tr><td>Richard Young    </td><td style=\"text-align: right;\">     31</td></tr>\n",
       "<tr><td>Margaret Brown   </td><td style=\"text-align: right;\">     31</td></tr>\n",
       "<tr><td>Calvin Jones     </td><td style=\"text-align: right;\">     31</td></tr>\n",
       "<tr><td>Lindsey Hammond  </td><td style=\"text-align: right;\">     30</td></tr>\n",
       "<tr><td>Craig Chase      </td><td style=\"text-align: right;\">     30</td></tr>\n",
       "<tr><td>Cheryl Zamora    </td><td style=\"text-align: right;\">     30</td></tr>\n",
       "<tr><td>Brent Morgan     </td><td style=\"text-align: right;\">     30</td></tr>\n",
       "<tr><td>Barbara Greene   </td><td style=\"text-align: right;\">     30</td></tr>\n",
       "<tr><td>Matthew Lewis    </td><td style=\"text-align: right;\">     29</td></tr>\n",
       "<tr><td>David Jordan     </td><td style=\"text-align: right;\">     29</td></tr>\n",
       "<tr><td>Craig Armstrong  </td><td style=\"text-align: right;\">     29</td></tr>\n",
       "<tr><td>Andrew Luna      </td><td style=\"text-align: right;\">     29</td></tr>\n",
       "<tr><td>Andrea Baker DVM </td><td style=\"text-align: right;\">     29</td></tr>\n",
       "<tr><td>Monique Wall     </td><td style=\"text-align: right;\">     28</td></tr>\n",
       "<tr><td>Jason Barker     </td><td style=\"text-align: right;\">     28</td></tr>\n",
       "<tr><td>Karen Sutton     </td><td style=\"text-align: right;\">     27</td></tr>\n",
       "<tr><td>Jamie Smith      </td><td style=\"text-align: right;\">     27</td></tr>\n",
       "<tr><td>Daniel Long      </td><td style=\"text-align: right;\">     27</td></tr>\n",
       "<tr><td>Andrea Francis   </td><td style=\"text-align: right;\">     27</td></tr>\n",
       "</tbody>\n",
       "</table>"
      ],
      "text/plain": [
       "'<table>\\n<thead>\\n<tr><th>Up Charge        </th><th style=\"text-align: right;\">  Count</th></tr>\\n</thead>\\n<tbody>\\n<tr><td>Rebecca Garza    </td><td style=\"text-align: right;\">     35</td></tr>\\n<tr><td>Lisa Aguilar     </td><td style=\"text-align: right;\">     34</td></tr>\\n<tr><td>Gina Green       </td><td style=\"text-align: right;\">     34</td></tr>\\n<tr><td>Anthony Martin   </td><td style=\"text-align: right;\">     34</td></tr>\\n<tr><td>Wesley Garcia    </td><td style=\"text-align: right;\">     33</td></tr>\\n<tr><td>Mary Jones       </td><td style=\"text-align: right;\">     33</td></tr>\\n<tr><td>Gregory Jones    </td><td style=\"text-align: right;\">     33</td></tr>\\n<tr><td>Eric Bruce       </td><td style=\"text-align: right;\">     33</td></tr>\\n<tr><td>Cassandra Francis</td><td style=\"text-align: right;\">     33</td></tr>\\n<tr><td>Emily Dennis     </td><td style=\"text-align: right;\">     32</td></tr>\\n<tr><td>William Dunlap   </td><td style=\"text-align: right;\">     31</td></tr>\\n<tr><td>Richard Young    </td><td style=\"text-align: right;\">     31</td></tr>\\n<tr><td>Margaret Brown   </td><td style=\"text-align: right;\">     31</td></tr>\\n<tr><td>Calvin Jones     </td><td style=\"text-align: right;\">     31</td></tr>\\n<tr><td>Lindsey Hammond  </td><td style=\"text-align: right;\">     30</td></tr>\\n<tr><td>Craig Chase      </td><td style=\"text-align: right;\">     30</td></tr>\\n<tr><td>Cheryl Zamora    </td><td style=\"text-align: right;\">     30</td></tr>\\n<tr><td>Brent Morgan     </td><td style=\"text-align: right;\">     30</td></tr>\\n<tr><td>Barbara Greene   </td><td style=\"text-align: right;\">     30</td></tr>\\n<tr><td>Matthew Lewis    </td><td style=\"text-align: right;\">     29</td></tr>\\n<tr><td>David Jordan     </td><td style=\"text-align: right;\">     29</td></tr>\\n<tr><td>Craig Armstrong  </td><td style=\"text-align: right;\">     29</td></tr>\\n<tr><td>Andrew Luna      </td><td style=\"text-align: right;\">     29</td></tr>\\n<tr><td>Andrea Baker DVM </td><td style=\"text-align: right;\">     29</td></tr>\\n<tr><td>Monique Wall     </td><td style=\"text-align: right;\">     28</td></tr>\\n<tr><td>Jason Barker     </td><td style=\"text-align: right;\">     28</td></tr>\\n<tr><td>Karen Sutton     </td><td style=\"text-align: right;\">     27</td></tr>\\n<tr><td>Jamie Smith      </td><td style=\"text-align: right;\">     27</td></tr>\\n<tr><td>Daniel Long      </td><td style=\"text-align: right;\">     27</td></tr>\\n<tr><td>Andrea Francis   </td><td style=\"text-align: right;\">     27</td></tr>\\n</tbody>\\n</table>'"
      ]
     },
     "execution_count": 13,
     "metadata": {},
     "output_type": "execute_result"
    }
   ],
   "source": [
    "query = \"\"\"\n",
    "SELECT customer, visits\n",
    "FROM (\n",
    "    SELECT \n",
    "        cardholder AS customer,\n",
    "        COUNT(*) AS visits\n",
    "    FROM (\n",
    "        SELECT cardholder, SUBSTR(date, 0, INSTR(date, ' ')) AS _date\n",
    "        FROM payments pay\n",
    "        JOIN charges ch ON pay.id = ch.payment_id\n",
    "        WHERE cardholder IS NOT NULL\n",
    "    )a\n",
    "    GROUP BY customer\n",
    "    ORDER BY visits DESC\n",
    ") b\n",
    "WHERE visits > 25\n",
    "\"\"\"\n",
    "result5 = list(con.execute(query))\n",
    "tabulate(result5, headers=[\"Up Charge\", \"Count\"], tablefmt='html')"
   ]
  },
  {
   "cell_type": "code",
   "execution_count": 14,
   "id": "89685817-0d2e-4f75-8b82-e6605e506bc8",
   "metadata": {},
   "outputs": [
    {
     "data": {
      "text/plain": [
       "30"
      ]
     },
     "execution_count": 14,
     "metadata": {},
     "output_type": "execute_result"
    }
   ],
   "source": [
    "len(result5)"
   ]
  },
  {
   "cell_type": "code",
   "execution_count": 15,
   "id": "e0c95bc4-4a93-49a1-8542-1fd54997b663",
   "metadata": {},
   "outputs": [
    {
     "data": {
      "text/plain": [
       "30.566666666666666"
      ]
     },
     "execution_count": 15,
     "metadata": {},
     "output_type": "execute_result"
    }
   ],
   "source": [
    "sum([c[1] for c in result5])/len(result5)"
   ]
  },
  {
   "cell_type": "markdown",
   "id": "cd13e743-e951-4c8e-851a-b5044ec30919",
   "metadata": {},
   "source": [
    "Reid's has 30 regular customers based on the available data.\n",
    "The range is from 27 to 35 days in 42 days (64% to 83% of the time).\n",
    "The average number of days that a regular comes is 31 (74% of the time).\n",
    "\n",
    "The limit of the data is that we can only track credit card purchases.\n",
    "If someone comes every day and spends cash, we'd never know (at least from the data)."
   ]
  }
 ],
 "metadata": {
  "jupytext": {
   "formats": "ipynb,md"
  },
  "kernelspec": {
   "display_name": "Python (en685648)",
   "language": "python",
   "name": "en685648"
  },
  "language_info": {
   "codemirror_mode": {
    "name": "ipython",
    "version": 3
   },
   "file_extension": ".py",
   "mimetype": "text/x-python",
   "name": "python",
   "nbconvert_exporter": "python",
   "pygments_lexer": "ipython3",
   "version": "3.10.4"
  }
 },
 "nbformat": 4,
 "nbformat_minor": 5
}
