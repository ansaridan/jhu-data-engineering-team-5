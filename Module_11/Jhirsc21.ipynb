{
 "cells": [
  {
   "cell_type": "code",
   "execution_count": 1,
   "metadata": {},
   "outputs": [],
   "source": [
    "import warnings\n",
    "warnings.filterwarnings('ignore')"
   ]
  },
  {
   "cell_type": "code",
   "execution_count": 2,
   "metadata": {},
   "outputs": [],
   "source": [
    "%matplotlib inline"
   ]
  },
  {
   "cell_type": "markdown",
   "metadata": {},
   "source": [
    "# Module 11 Lab - Model Evaluation\n",
    "\n",
    "## Directions\n",
    "\n",
    "\n",
    "The due dates for each are indicated in the Syllabus and the course calendar. If anything is unclear, please email EN685.648@gmail.com the official email for the course or ask questions in the Lab discussion area on Blackboard.\n",
    "\n",
    "The Labs also present technical material that augments the lectures and \"book\".  You should read through the entire lab at the start of each module.\n",
    "\n",
    "<div style=\"background: mistyrose; color: firebrick; border: 2px solid darkred; padding: 5px; margin: 10px;\">\n",
    "Please follow the directions and make sure you provide the requested output. Failure to do so may result in a lower grade even if the code is correct or even 0 points.\n",
    "</div>\n",
    "\n",
    "1. Show all work/steps/calculations using Code and Markdown cells.\n",
    "2. Submit your notebook (.ipynb).\n",
    "3. You may use any core Python libraries or Numpy/Scipy. **Additionally, code from the Module notebooks and lectures is fair to use and modify.** You may also consult Stackoverflow (SO). If you use something from SO, please place a comment with the URL to document the code."
   ]
  },
  {
   "cell_type": "code",
   "execution_count": 8,
   "metadata": {},
   "outputs": [],
   "source": [
    "import numpy as np\n",
    "import scipy.stats as stats\n",
    "import seaborn as sns\n",
    "import matplotlib.pyplot as plt\n",
    "import pandas as pd\n",
    "import random\n",
    "import patsy\n",
    "import sklearn.linear_model as linear\n",
    "import models\n",
    "\n",
    "sns.set(style=\"whitegrid\")\n",
    "# load whatever other libraries you need including models.py"
   ]
  },
  {
   "cell_type": "markdown",
   "metadata": {},
   "source": [
    "## Model Evaluation and Improvement\n",
    "\n",
    "As we saw in both the Linear Regression and Logistic Regression modules, there is a Statistician's view of Model Evaluation (and perhaps, Improvement) and a Machine Learning view of Model Evaluation and Improvement.\n",
    "\n",
    "We'll be working with the **insurance data**.\n",
    "\n",
    "**1. Load the data, perform your transformations, and using the Bootstrap version of the Linear Regression function, estimate your final model from Lab 10 and show the Bootstrap results** (You can also use the final model from the Solution if you like)."
   ]
  },
  {
   "cell_type": "markdown",
   "metadata": {},
   "source": [
    "Here we load in the data and make sure it loads in correctly."
   ]
  },
  {
   "cell_type": "code",
   "execution_count": 14,
   "metadata": {},
   "outputs": [],
   "source": [
    "insurance = pd.read_csv(\"https://raw.githubusercontent.com/fundamentals-of-data-science/datasets/master/insurance.csv\", header=0)"
   ]
  },
  {
   "cell_type": "code",
   "execution_count": 15,
   "metadata": {},
   "outputs": [
    {
     "name": "stdout",
     "output_type": "stream",
     "text": [
      "<class 'pandas.core.frame.DataFrame'>\n",
      "RangeIndex: 1338 entries, 0 to 1337\n",
      "Data columns (total 7 columns):\n",
      " #   Column    Non-Null Count  Dtype  \n",
      "---  ------    --------------  -----  \n",
      " 0   age       1338 non-null   int64  \n",
      " 1   sex       1338 non-null   object \n",
      " 2   bmi       1338 non-null   float64\n",
      " 3   children  1338 non-null   int64  \n",
      " 4   smoker    1338 non-null   object \n",
      " 5   region    1338 non-null   object \n",
      " 6   charges   1338 non-null   float64\n",
      "dtypes: float64(2), int64(2), object(3)\n",
      "memory usage: 73.3+ KB\n"
     ]
    }
   ],
   "source": [
    "insurance.info()"
   ]
  },
  {
   "cell_type": "code",
   "execution_count": 7,
   "metadata": {},
   "outputs": [
    {
     "data": {
      "text/html": [
       "<div>\n",
       "<style scoped>\n",
       "    .dataframe tbody tr th:only-of-type {\n",
       "        vertical-align: middle;\n",
       "    }\n",
       "\n",
       "    .dataframe tbody tr th {\n",
       "        vertical-align: top;\n",
       "    }\n",
       "\n",
       "    .dataframe thead th {\n",
       "        text-align: right;\n",
       "    }\n",
       "</style>\n",
       "<table border=\"1\" class=\"dataframe\">\n",
       "  <thead>\n",
       "    <tr style=\"text-align: right;\">\n",
       "      <th></th>\n",
       "      <th>age</th>\n",
       "      <th>sex</th>\n",
       "      <th>bmi</th>\n",
       "      <th>children</th>\n",
       "      <th>smoker</th>\n",
       "      <th>region</th>\n",
       "      <th>charges</th>\n",
       "    </tr>\n",
       "  </thead>\n",
       "  <tbody>\n",
       "    <tr>\n",
       "      <th>0</th>\n",
       "      <td>19</td>\n",
       "      <td>female</td>\n",
       "      <td>27.900</td>\n",
       "      <td>0</td>\n",
       "      <td>yes</td>\n",
       "      <td>southwest</td>\n",
       "      <td>16884.92400</td>\n",
       "    </tr>\n",
       "    <tr>\n",
       "      <th>1</th>\n",
       "      <td>18</td>\n",
       "      <td>male</td>\n",
       "      <td>33.770</td>\n",
       "      <td>1</td>\n",
       "      <td>no</td>\n",
       "      <td>southeast</td>\n",
       "      <td>1725.55230</td>\n",
       "    </tr>\n",
       "    <tr>\n",
       "      <th>2</th>\n",
       "      <td>28</td>\n",
       "      <td>male</td>\n",
       "      <td>33.000</td>\n",
       "      <td>3</td>\n",
       "      <td>no</td>\n",
       "      <td>southeast</td>\n",
       "      <td>4449.46200</td>\n",
       "    </tr>\n",
       "    <tr>\n",
       "      <th>3</th>\n",
       "      <td>33</td>\n",
       "      <td>male</td>\n",
       "      <td>22.705</td>\n",
       "      <td>0</td>\n",
       "      <td>no</td>\n",
       "      <td>northwest</td>\n",
       "      <td>21984.47061</td>\n",
       "    </tr>\n",
       "    <tr>\n",
       "      <th>4</th>\n",
       "      <td>32</td>\n",
       "      <td>male</td>\n",
       "      <td>28.880</td>\n",
       "      <td>0</td>\n",
       "      <td>no</td>\n",
       "      <td>northwest</td>\n",
       "      <td>3866.85520</td>\n",
       "    </tr>\n",
       "  </tbody>\n",
       "</table>\n",
       "</div>"
      ],
      "text/plain": [
       "   age     sex     bmi  children smoker     region      charges\n",
       "0   19  female  27.900         0    yes  southwest  16884.92400\n",
       "1   18    male  33.770         1     no  southeast   1725.55230\n",
       "2   28    male  33.000         3     no  southeast   4449.46200\n",
       "3   33    male  22.705         0     no  northwest  21984.47061\n",
       "4   32    male  28.880         0     no  northwest   3866.85520"
      ]
     },
     "execution_count": 7,
     "metadata": {},
     "output_type": "execute_result"
    }
   ],
   "source": [
    "insurance.head()"
   ]
  },
  {
   "cell_type": "markdown",
   "metadata": {},
   "source": [
    "It looks good to me. I'll be using the final model from the Lab 10 Solution. We had a model where `charges` was the target variable and our features included `age_sq`, `male`, `bmi`, `smoke_yes`, `smoke_yes:bmi`, `smoke_yes:bmi_above_30`, and `children`."
   ]
  },
  {
   "cell_type": "markdown",
   "metadata": {},
   "source": [
    "Let's make sure we properly transform our variables correctly so we can use them in our model. Age is easy to square so we do that first, and can create the one hot encodings for our categorical variables sex -> male and smoker -> smokes_yes. Then we just apply a lambda function to get an encoding for bmi over 30 and we should be set."
   ]
  },
  {
   "cell_type": "code",
   "execution_count": 16,
   "metadata": {},
   "outputs": [],
   "source": [
    "insurance['age_sq'] = insurance['age'] ** 2\n",
    "\n",
    "insurance = pd.concat([insurance, pd.get_dummies(insurance[\"sex\"])], axis=1)\n",
    "insurance = pd.concat([insurance, pd.get_dummies(insurance[\"smoker\"], prefix=\"smoke\")], axis=1)\n",
    "\n",
    "insurance[\"bmi_above_30\"] = insurance.bmi.apply(lambda bmi: 1 if bmi > 30.0 else 0)"
   ]
  },
  {
   "cell_type": "markdown",
   "metadata": {},
   "source": [
    "Let's check our variables are in the dataframe"
   ]
  },
  {
   "cell_type": "code",
   "execution_count": 17,
   "metadata": {},
   "outputs": [
    {
     "data": {
      "text/html": [
       "<div>\n",
       "<style scoped>\n",
       "    .dataframe tbody tr th:only-of-type {\n",
       "        vertical-align: middle;\n",
       "    }\n",
       "\n",
       "    .dataframe tbody tr th {\n",
       "        vertical-align: top;\n",
       "    }\n",
       "\n",
       "    .dataframe thead th {\n",
       "        text-align: right;\n",
       "    }\n",
       "</style>\n",
       "<table border=\"1\" class=\"dataframe\">\n",
       "  <thead>\n",
       "    <tr style=\"text-align: right;\">\n",
       "      <th></th>\n",
       "      <th>age</th>\n",
       "      <th>sex</th>\n",
       "      <th>bmi</th>\n",
       "      <th>children</th>\n",
       "      <th>smoker</th>\n",
       "      <th>region</th>\n",
       "      <th>charges</th>\n",
       "      <th>age_sq</th>\n",
       "      <th>female</th>\n",
       "      <th>male</th>\n",
       "      <th>smoke_no</th>\n",
       "      <th>smoke_yes</th>\n",
       "      <th>bmi_above_30</th>\n",
       "    </tr>\n",
       "  </thead>\n",
       "  <tbody>\n",
       "    <tr>\n",
       "      <th>0</th>\n",
       "      <td>19</td>\n",
       "      <td>female</td>\n",
       "      <td>27.900</td>\n",
       "      <td>0</td>\n",
       "      <td>yes</td>\n",
       "      <td>southwest</td>\n",
       "      <td>16884.92400</td>\n",
       "      <td>361</td>\n",
       "      <td>True</td>\n",
       "      <td>False</td>\n",
       "      <td>False</td>\n",
       "      <td>True</td>\n",
       "      <td>0</td>\n",
       "    </tr>\n",
       "    <tr>\n",
       "      <th>1</th>\n",
       "      <td>18</td>\n",
       "      <td>male</td>\n",
       "      <td>33.770</td>\n",
       "      <td>1</td>\n",
       "      <td>no</td>\n",
       "      <td>southeast</td>\n",
       "      <td>1725.55230</td>\n",
       "      <td>324</td>\n",
       "      <td>False</td>\n",
       "      <td>True</td>\n",
       "      <td>True</td>\n",
       "      <td>False</td>\n",
       "      <td>1</td>\n",
       "    </tr>\n",
       "    <tr>\n",
       "      <th>2</th>\n",
       "      <td>28</td>\n",
       "      <td>male</td>\n",
       "      <td>33.000</td>\n",
       "      <td>3</td>\n",
       "      <td>no</td>\n",
       "      <td>southeast</td>\n",
       "      <td>4449.46200</td>\n",
       "      <td>784</td>\n",
       "      <td>False</td>\n",
       "      <td>True</td>\n",
       "      <td>True</td>\n",
       "      <td>False</td>\n",
       "      <td>1</td>\n",
       "    </tr>\n",
       "    <tr>\n",
       "      <th>3</th>\n",
       "      <td>33</td>\n",
       "      <td>male</td>\n",
       "      <td>22.705</td>\n",
       "      <td>0</td>\n",
       "      <td>no</td>\n",
       "      <td>northwest</td>\n",
       "      <td>21984.47061</td>\n",
       "      <td>1089</td>\n",
       "      <td>False</td>\n",
       "      <td>True</td>\n",
       "      <td>True</td>\n",
       "      <td>False</td>\n",
       "      <td>0</td>\n",
       "    </tr>\n",
       "    <tr>\n",
       "      <th>4</th>\n",
       "      <td>32</td>\n",
       "      <td>male</td>\n",
       "      <td>28.880</td>\n",
       "      <td>0</td>\n",
       "      <td>no</td>\n",
       "      <td>northwest</td>\n",
       "      <td>3866.85520</td>\n",
       "      <td>1024</td>\n",
       "      <td>False</td>\n",
       "      <td>True</td>\n",
       "      <td>True</td>\n",
       "      <td>False</td>\n",
       "      <td>0</td>\n",
       "    </tr>\n",
       "  </tbody>\n",
       "</table>\n",
       "</div>"
      ],
      "text/plain": [
       "   age     sex     bmi  children smoker     region      charges  age_sq  \\\n",
       "0   19  female  27.900         0    yes  southwest  16884.92400     361   \n",
       "1   18    male  33.770         1     no  southeast   1725.55230     324   \n",
       "2   28    male  33.000         3     no  southeast   4449.46200     784   \n",
       "3   33    male  22.705         0     no  northwest  21984.47061    1089   \n",
       "4   32    male  28.880         0     no  northwest   3866.85520    1024   \n",
       "\n",
       "   female   male  smoke_no  smoke_yes  bmi_above_30  \n",
       "0    True  False     False       True             0  \n",
       "1   False   True      True      False             1  \n",
       "2   False   True      True      False             1  \n",
       "3   False   True      True      False             0  \n",
       "4   False   True      True      False             0  "
      ]
     },
     "execution_count": 17,
     "metadata": {},
     "output_type": "execute_result"
    }
   ],
   "source": [
    "insurance.head()"
   ]
  },
  {
   "cell_type": "markdown",
   "metadata": {},
   "source": [
    "Looks good to me. Now we can recreate this model and use bootstrap for linear regression from our models.py file."
   ]
  },
  {
   "cell_type": "code",
   "execution_count": 32,
   "metadata": {},
   "outputs": [
    {
     "data": {
      "text/html": [
       "<p><strong>Model: charges ~ age_sq + male + bmi + smoke_yes + smoke_yes:bmi + bmi_above_30 + smoke_yes:bmi_above_30 + children</strong><br/><table>\n",
       "<tbody>\n",
       "<tr><td>                             </td><td>                     </td><td>                     </td><td><strong>95% BCI</strong</td><td>                   </td></tr>\n",
       "<tr><td><strong>Coefficients</strong</td><td>                     </td><td><strong>Mean</strong</td><td><strong>Lo</strong     </td><td><strong>Hi</strong</td></tr>\n",
       "<tr><td>                             </td><td>$\\beta_{0}$          </td><td>2169.21              </td><td>443.46                  </td><td>3814.12            </td></tr>\n",
       "<tr><td>age_sq                       </td><td>$\\beta_{1}$          </td><td>-517.49              </td><td>-1004.94                </td><td>-25.80             </td></tr>\n",
       "<tr><td>male                         </td><td>$\\beta_{2}$          </td><td>1479.18              </td><td>-1798.49                </td><td>5397.40            </td></tr>\n",
       "<tr><td>bmi                          </td><td>$\\beta_{3}$          </td><td>3.34                 </td><td>3.14                    </td><td>3.57               </td></tr>\n",
       "<tr><td>smoke_yes                    </td><td>$\\beta_{4}$          </td><td>-3.22                </td><td>-71.88                  </td><td>56.29              </td></tr>\n",
       "<tr><td>smoke_yes:bmi                </td><td>$\\beta_{5}$          </td><td>471.11               </td><td>329.07                  </td><td>607.69             </td></tr>\n",
       "<tr><td>bmi_above_30                 </td><td>$\\beta_{6}$          </td><td>102.95               </td><td>-768.90                 </td><td>1102.26            </td></tr>\n",
       "<tr><td>smoke_yes:bmi_above_30       </td><td>$\\beta_{7}$          </td><td>15122.63             </td><td>13151.61                </td><td>17233.83           </td></tr>\n",
       "<tr><td>children                     </td><td>$\\beta_{8}$          </td><td>651.45               </td><td>482.53                  </td><td>792.05             </td></tr>\n",
       "<tr><td>                             </td><td>                     </td><td>                     </td><td>                        </td><td>                   </td></tr>\n",
       "<tr><td><strong>Metrics</strong     </td><td><strong>Mean</strong</td><td><strong>Lo</strong  </td><td><strong>Hi</strong     </td><td>                   </td></tr>\n",
       "<tr><td>$\\sigma$                     </td><td>4380.25              </td><td>3943.33              </td><td>4750.58                 </td><td>                   </td></tr>\n",
       "<tr><td>$R^2$                        </td><td>0.87                 </td><td>0.84                 </td><td>0.89                    </td><td>                   </td></tr>\n",
       "</tbody>\n",
       "</table></p>"
      ],
      "text/latex": [
       "\\textbf{Model: charges $\\sim$ age\\_sq + male + bmi + smoke\\_yes + smoke\\_yes:bmi + bmi\\_above\\_30 + smoke\\_yes:bmi\\_above\\_30 + children}\n",
       "\n",
       "\\begin{tabular}{lllll}\n",
       "\\toprule\n",
       "                           &               &               & \\textbf{95\\% BCI} &             \\\\\n",
       " \\textbf{Coefficients}     &               & \\textbf{Mean} & \\textbf{Lo}      & \\textbf{Hi} \\\\\n",
       "                           & $\\beta_{0}$   & 2169.21       & 443.46           & 3814.12     \\\\\n",
       " age\\_sq                   & $\\beta_{1}$   & -517.49       & -1004.94         & -25.80      \\\\\n",
       " male                      & $\\beta_{2}$   & 1479.18       & -1798.49         & 5397.40     \\\\\n",
       " bmi                       & $\\beta_{3}$   & 3.34          & 3.14             & 3.57        \\\\\n",
       " smoke\\_yes                & $\\beta_{4}$   & -3.22         & -71.88           & 56.29       \\\\\n",
       " smoke\\_yes:bmi            & $\\beta_{5}$   & 471.11        & 329.07           & 607.69      \\\\\n",
       " bmi\\_above\\_30            & $\\beta_{6}$   & 102.95        & -768.90          & 1102.26     \\\\\n",
       " smoke\\_yes:bmi\\_above\\_30 & $\\beta_{7}$   & 15122.63      & 13151.61         & 17233.83    \\\\\n",
       " children                  & $\\beta_{8}$   & 651.45        & 482.53           & 792.05      \\\\\n",
       "                           &               &               &                  &             \\\\\n",
       " \\textbf{Metrics}          & \\textbf{Mean} & \\textbf{Lo}   & \\textbf{Hi}      &             \\\\\n",
       " $\\sigma$                  & 4380.25       & 3943.33       & 4750.58          &             \\\\\n",
       " $R^2$                     & 0.87          & 0.84          & 0.89             &             \\\\\n",
       "\\bottomrule\n",
       "\\end{tabular}"
      ],
      "text/markdown": [
       "Model: charges ~ age_sq + male + bmi + smoke_yes + smoke_yes:bmi + bmi_above_30 + smoke_yes:bmi_above_30 + children\n",
       "|------------------------|-------------|----------|-------------|----------|\n",
       "|                        |             |          | **95% BCI** |          |\n",
       "| **Coefficients**       |             | **Mean** | **Lo**      | **Hi**   |\n",
       "|                        | $\\beta_{0}$ | 2169.21  | 443.46      | 3814.12  |\n",
       "| age_sq                 | $\\beta_{1}$ | -517.49  | -1004.94    | -25.80   |\n",
       "| male                   | $\\beta_{2}$ | 1479.18  | -1798.49    | 5397.40  |\n",
       "| bmi                    | $\\beta_{3}$ | 3.34     | 3.14        | 3.57     |\n",
       "| smoke_yes              | $\\beta_{4}$ | -3.22    | -71.88      | 56.29    |\n",
       "| smoke_yes:bmi          | $\\beta_{5}$ | 471.11   | 329.07      | 607.69   |\n",
       "| bmi_above_30           | $\\beta_{6}$ | 102.95   | -768.90     | 1102.26  |\n",
       "| smoke_yes:bmi_above_30 | $\\beta_{7}$ | 15122.63 | 13151.61    | 17233.83 |\n",
       "| children               | $\\beta_{8}$ | 651.45   | 482.53      | 792.05   |\n",
       "|                        |             |          |             |          |\n",
       "| **Metrics**            | **Mean**    | **Lo**   | **Hi**      |          |\n",
       "| $\\sigma$               | 4380.25     | 3943.33  | 4750.58     |          |\n",
       "| $R^2$                  | 0.87        | 0.84     | 0.89        |          |"
      ],
      "text/plain": [
       "<models.ResultsWrapper at 0x181a313ded0>"
      ]
     },
     "execution_count": 32,
     "metadata": {},
     "output_type": "execute_result"
    }
   ],
   "source": [
    "model = \"charges ~ age_sq + male + bmi + smoke_yes + smoke_yes:bmi + bmi_above_30 + smoke_yes:bmi_above_30 + children\"\n",
    "final = models.bootstrap_linear_regression(model, data=insurance)\n",
    "models.describe_bootstrap_lr(final)"
   ]
  },
  {
   "cell_type": "markdown",
   "metadata": {},
   "source": [
    "Note I include bmi_above_30 as a separate variable here because the `bootstrap_linear_regression` function was not working without including it in the model before the interaction term, though it's not necessary as we see the 95% BCI contains 0 and it may have an unexpected sign."
   ]
  },
  {
   "cell_type": "markdown",
   "metadata": {},
   "source": [
    "Here we have the estimates of the coefficients in the model for the bootstrap. We see an $R^2$ of 87% and a $\\sigma$ of 4380.25. Which is about a third of the original as we can see below"
   ]
  },
  {
   "cell_type": "code",
   "execution_count": 42,
   "metadata": {},
   "outputs": [
    {
     "name": "stdout",
     "output_type": "stream",
     "text": [
      "Original Std:  12105.48\n",
      "Model Sigma:  4380.25\n"
     ]
    }
   ],
   "source": [
    "print('Original Std: ', '%.2f' % np.std(insurance['charges']))\n",
    "print('Model Sigma: ', '%.2f' % final['sigma'])"
   ]
  },
  {
   "cell_type": "markdown",
   "metadata": {},
   "source": [
    "**2. Perform three rounds of 10-fold cross validation, estimating $R^2$ and $\\sigma$ each round. Using the results for the test data, calculate 95% Bootstrap estimates of the credible intervals for each.** Comment on these intervals and the intervals from above. Are the average values different? Are the intervals different?"
   ]
  },
  {
   "cell_type": "code",
   "execution_count": null,
   "metadata": {},
   "outputs": [],
   "source": []
  },
  {
   "cell_type": "markdown",
   "metadata": {},
   "source": [
    "**3. Using Learning Curves and $\\sigma$ as your evaluation metric determine if more data will improve the estimation of the model.**"
   ]
  },
  {
   "cell_type": "code",
   "execution_count": null,
   "metadata": {},
   "outputs": [],
   "source": []
  },
  {
   "cell_type": "markdown",
   "metadata": {},
   "source": [
    "**4. It was shown that `age_sq` improved the performance of the model. Perhaps a different polynomial would have been better. Generate Validation Curves for $age_n$ where `n` = [1.5, 1.6, 1.7, 1.8, 1.9, 2.0, 2.1, 2.2, 2.3, 2.4, 2.5] and select the best transformation.**"
   ]
  },
  {
   "cell_type": "code",
   "execution_count": null,
   "metadata": {},
   "outputs": [],
   "source": []
  },
  {
   "cell_type": "markdown",
   "metadata": {},
   "source": [
    "**5. Using Ridge Regression to estimate a model for the insurance data. Compare it with your final Linear Regression model.** (If you get far ahead, you may need to write your own function. Here are the sklearn docs: http://scikit-learn.org/stable/modules/linear_model.html)"
   ]
  },
  {
   "cell_type": "code",
   "execution_count": null,
   "metadata": {},
   "outputs": [],
   "source": []
  }
 ],
 "metadata": {
  "jupytext": {
   "formats": "ipynb,md:myst"
  },
  "kernelspec": {
   "display_name": "Python (en685648)",
   "language": "python",
   "name": "en685648"
  },
  "language_info": {
   "codemirror_mode": {
    "name": "ipython",
    "version": 3
   },
   "file_extension": ".py",
   "mimetype": "text/x-python",
   "name": "python",
   "nbconvert_exporter": "python",
   "pygments_lexer": "ipython3",
   "version": "3.11.7"
  },
  "toc": {
   "colors": {
    "hover_highlight": "#DAA520",
    "navigate_num": "#000000",
    "navigate_text": "#333333",
    "running_highlight": "#FF0000",
    "selected_highlight": "#FFD700",
    "sidebar_border": "#EEEEEE",
    "wrapper_background": "#FFFFFF"
   },
   "moveMenuLeft": true,
   "nav_menu": {
    "height": "135px",
    "width": "252px"
   },
   "navigate_menu": true,
   "number_sections": true,
   "sideBar": true,
   "threshold": 4,
   "toc_cell": false,
   "toc_section_display": "block",
   "toc_window_display": false,
   "widenNotebook": false
  }
 },
 "nbformat": 4,
 "nbformat_minor": 4
}
