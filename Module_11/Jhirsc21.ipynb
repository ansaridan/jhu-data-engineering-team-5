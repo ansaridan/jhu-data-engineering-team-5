{
 "cells": [
  {
   "cell_type": "code",
   "execution_count": 1,
   "metadata": {},
   "outputs": [],
   "source": [
    "import warnings\n",
    "warnings.filterwarnings('ignore')"
   ]
  },
  {
   "cell_type": "code",
   "execution_count": 2,
   "metadata": {},
   "outputs": [],
   "source": [
    "%matplotlib inline"
   ]
  },
  {
   "cell_type": "markdown",
   "metadata": {},
   "source": [
    "# Module 11 Lab - Model Evaluation\n",
    "\n",
    "## Directions\n",
    "\n",
    "\n",
    "The due dates for each are indicated in the Syllabus and the course calendar. If anything is unclear, please email EN685.648@gmail.com the official email for the course or ask questions in the Lab discussion area on Blackboard.\n",
    "\n",
    "The Labs also present technical material that augments the lectures and \"book\".  You should read through the entire lab at the start of each module.\n",
    "\n",
    "<div style=\"background: mistyrose; color: firebrick; border: 2px solid darkred; padding: 5px; margin: 10px;\">\n",
    "Please follow the directions and make sure you provide the requested output. Failure to do so may result in a lower grade even if the code is correct or even 0 points.\n",
    "</div>\n",
    "\n",
    "1. Show all work/steps/calculations using Code and Markdown cells.\n",
    "2. Submit your notebook (.ipynb).\n",
    "3. You may use any core Python libraries or Numpy/Scipy. **Additionally, code from the Module notebooks and lectures is fair to use and modify.** You may also consult Stackoverflow (SO). If you use something from SO, please place a comment with the URL to document the code."
   ]
  },
  {
   "cell_type": "code",
   "execution_count": 3,
   "metadata": {},
   "outputs": [],
   "source": [
    "import numpy as np\n",
    "import scipy.stats as stats\n",
    "import seaborn as sns\n",
    "import matplotlib.pyplot as plt\n",
    "import pandas as pd\n",
    "import random\n",
    "import patsy\n",
    "import sklearn.linear_model as linear\n",
    "import models\n",
    "\n",
    "sns.set(style=\"whitegrid\")\n",
    "# load whatever other libraries you need including models.py"
   ]
  },
  {
   "cell_type": "markdown",
   "metadata": {},
   "source": [
    "## Model Evaluation and Improvement\n",
    "\n",
    "As we saw in both the Linear Regression and Logistic Regression modules, there is a Statistician's view of Model Evaluation (and perhaps, Improvement) and a Machine Learning view of Model Evaluation and Improvement.\n",
    "\n",
    "We'll be working with the **insurance data**.\n",
    "\n",
    "**1. Load the data, perform your transformations, and using the Bootstrap version of the Linear Regression function, estimate your final model from Lab 10 and show the Bootstrap results** (You can also use the final model from the Solution if you like)."
   ]
  },
  {
   "cell_type": "markdown",
   "metadata": {},
   "source": [
    "Here we load in the data and make sure it loads in correctly."
   ]
  },
  {
   "cell_type": "code",
   "execution_count": 4,
   "metadata": {},
   "outputs": [],
   "source": [
    "insurance = pd.read_csv(\"https://raw.githubusercontent.com/fundamentals-of-data-science/datasets/master/insurance.csv\", header=0)"
   ]
  },
  {
   "cell_type": "code",
   "execution_count": 5,
   "metadata": {},
   "outputs": [
    {
     "name": "stdout",
     "output_type": "stream",
     "text": [
      "<class 'pandas.core.frame.DataFrame'>\n",
      "RangeIndex: 1338 entries, 0 to 1337\n",
      "Data columns (total 7 columns):\n",
      " #   Column    Non-Null Count  Dtype  \n",
      "---  ------    --------------  -----  \n",
      " 0   age       1338 non-null   int64  \n",
      " 1   sex       1338 non-null   object \n",
      " 2   bmi       1338 non-null   float64\n",
      " 3   children  1338 non-null   int64  \n",
      " 4   smoker    1338 non-null   object \n",
      " 5   region    1338 non-null   object \n",
      " 6   charges   1338 non-null   float64\n",
      "dtypes: float64(2), int64(2), object(3)\n",
      "memory usage: 73.3+ KB\n"
     ]
    }
   ],
   "source": [
    "insurance.info()"
   ]
  },
  {
   "cell_type": "code",
   "execution_count": 7,
   "metadata": {},
   "outputs": [
    {
     "data": {
      "text/html": [
       "<div>\n",
       "<style scoped>\n",
       "    .dataframe tbody tr th:only-of-type {\n",
       "        vertical-align: middle;\n",
       "    }\n",
       "\n",
       "    .dataframe tbody tr th {\n",
       "        vertical-align: top;\n",
       "    }\n",
       "\n",
       "    .dataframe thead th {\n",
       "        text-align: right;\n",
       "    }\n",
       "</style>\n",
       "<table border=\"1\" class=\"dataframe\">\n",
       "  <thead>\n",
       "    <tr style=\"text-align: right;\">\n",
       "      <th></th>\n",
       "      <th>age</th>\n",
       "      <th>sex</th>\n",
       "      <th>bmi</th>\n",
       "      <th>children</th>\n",
       "      <th>smoker</th>\n",
       "      <th>region</th>\n",
       "      <th>charges</th>\n",
       "    </tr>\n",
       "  </thead>\n",
       "  <tbody>\n",
       "    <tr>\n",
       "      <th>0</th>\n",
       "      <td>19</td>\n",
       "      <td>female</td>\n",
       "      <td>27.900</td>\n",
       "      <td>0</td>\n",
       "      <td>yes</td>\n",
       "      <td>southwest</td>\n",
       "      <td>16884.92400</td>\n",
       "    </tr>\n",
       "    <tr>\n",
       "      <th>1</th>\n",
       "      <td>18</td>\n",
       "      <td>male</td>\n",
       "      <td>33.770</td>\n",
       "      <td>1</td>\n",
       "      <td>no</td>\n",
       "      <td>southeast</td>\n",
       "      <td>1725.55230</td>\n",
       "    </tr>\n",
       "    <tr>\n",
       "      <th>2</th>\n",
       "      <td>28</td>\n",
       "      <td>male</td>\n",
       "      <td>33.000</td>\n",
       "      <td>3</td>\n",
       "      <td>no</td>\n",
       "      <td>southeast</td>\n",
       "      <td>4449.46200</td>\n",
       "    </tr>\n",
       "    <tr>\n",
       "      <th>3</th>\n",
       "      <td>33</td>\n",
       "      <td>male</td>\n",
       "      <td>22.705</td>\n",
       "      <td>0</td>\n",
       "      <td>no</td>\n",
       "      <td>northwest</td>\n",
       "      <td>21984.47061</td>\n",
       "    </tr>\n",
       "    <tr>\n",
       "      <th>4</th>\n",
       "      <td>32</td>\n",
       "      <td>male</td>\n",
       "      <td>28.880</td>\n",
       "      <td>0</td>\n",
       "      <td>no</td>\n",
       "      <td>northwest</td>\n",
       "      <td>3866.85520</td>\n",
       "    </tr>\n",
       "  </tbody>\n",
       "</table>\n",
       "</div>"
      ],
      "text/plain": [
       "   age     sex     bmi  children smoker     region      charges\n",
       "0   19  female  27.900         0    yes  southwest  16884.92400\n",
       "1   18    male  33.770         1     no  southeast   1725.55230\n",
       "2   28    male  33.000         3     no  southeast   4449.46200\n",
       "3   33    male  22.705         0     no  northwest  21984.47061\n",
       "4   32    male  28.880         0     no  northwest   3866.85520"
      ]
     },
     "execution_count": 7,
     "metadata": {},
     "output_type": "execute_result"
    }
   ],
   "source": [
    "insurance.head()"
   ]
  },
  {
   "cell_type": "markdown",
   "metadata": {},
   "source": [
    "It looks good to me. I'll be using the final model from the Lab 10 Solution. We had a model where `charges` was the target variable and our features included `age_sq`, `male`, `bmi`, `smoke_yes`, `smoke_yes:bmi`, `smoke_yes:bmi_above_30`, and `children`."
   ]
  },
  {
   "cell_type": "markdown",
   "metadata": {},
   "source": [
    "Let's make sure we properly transform our variables correctly so we can use them in our model. Age is easy to square so we do that first, and can create the one hot encodings for our categorical variables sex -> male and smoker -> smokes_yes. Then we just apply a lambda function to get an encoding for bmi over 30 and we should be set."
   ]
  },
  {
   "cell_type": "code",
   "execution_count": 6,
   "metadata": {},
   "outputs": [],
   "source": [
    "insurance['age_sq'] = insurance['age'] ** 2\n",
    "\n",
    "insurance = pd.concat([insurance, pd.get_dummies(insurance[\"sex\"])], axis=1)\n",
    "insurance = pd.concat([insurance, pd.get_dummies(insurance[\"smoker\"], prefix=\"smoke\")], axis=1)\n",
    "\n",
    "insurance[\"bmi_above_30\"] = insurance.bmi.apply(lambda bmi: 1 if bmi > 30.0 else 0)"
   ]
  },
  {
   "cell_type": "markdown",
   "metadata": {},
   "source": [
    "Let's check our variables are in the dataframe"
   ]
  },
  {
   "cell_type": "code",
   "execution_count": 17,
   "metadata": {},
   "outputs": [
    {
     "data": {
      "text/html": [
       "<div>\n",
       "<style scoped>\n",
       "    .dataframe tbody tr th:only-of-type {\n",
       "        vertical-align: middle;\n",
       "    }\n",
       "\n",
       "    .dataframe tbody tr th {\n",
       "        vertical-align: top;\n",
       "    }\n",
       "\n",
       "    .dataframe thead th {\n",
       "        text-align: right;\n",
       "    }\n",
       "</style>\n",
       "<table border=\"1\" class=\"dataframe\">\n",
       "  <thead>\n",
       "    <tr style=\"text-align: right;\">\n",
       "      <th></th>\n",
       "      <th>age</th>\n",
       "      <th>sex</th>\n",
       "      <th>bmi</th>\n",
       "      <th>children</th>\n",
       "      <th>smoker</th>\n",
       "      <th>region</th>\n",
       "      <th>charges</th>\n",
       "      <th>age_sq</th>\n",
       "      <th>female</th>\n",
       "      <th>male</th>\n",
       "      <th>smoke_no</th>\n",
       "      <th>smoke_yes</th>\n",
       "      <th>bmi_above_30</th>\n",
       "    </tr>\n",
       "  </thead>\n",
       "  <tbody>\n",
       "    <tr>\n",
       "      <th>0</th>\n",
       "      <td>19</td>\n",
       "      <td>female</td>\n",
       "      <td>27.900</td>\n",
       "      <td>0</td>\n",
       "      <td>yes</td>\n",
       "      <td>southwest</td>\n",
       "      <td>16884.92400</td>\n",
       "      <td>361</td>\n",
       "      <td>True</td>\n",
       "      <td>False</td>\n",
       "      <td>False</td>\n",
       "      <td>True</td>\n",
       "      <td>0</td>\n",
       "    </tr>\n",
       "    <tr>\n",
       "      <th>1</th>\n",
       "      <td>18</td>\n",
       "      <td>male</td>\n",
       "      <td>33.770</td>\n",
       "      <td>1</td>\n",
       "      <td>no</td>\n",
       "      <td>southeast</td>\n",
       "      <td>1725.55230</td>\n",
       "      <td>324</td>\n",
       "      <td>False</td>\n",
       "      <td>True</td>\n",
       "      <td>True</td>\n",
       "      <td>False</td>\n",
       "      <td>1</td>\n",
       "    </tr>\n",
       "    <tr>\n",
       "      <th>2</th>\n",
       "      <td>28</td>\n",
       "      <td>male</td>\n",
       "      <td>33.000</td>\n",
       "      <td>3</td>\n",
       "      <td>no</td>\n",
       "      <td>southeast</td>\n",
       "      <td>4449.46200</td>\n",
       "      <td>784</td>\n",
       "      <td>False</td>\n",
       "      <td>True</td>\n",
       "      <td>True</td>\n",
       "      <td>False</td>\n",
       "      <td>1</td>\n",
       "    </tr>\n",
       "    <tr>\n",
       "      <th>3</th>\n",
       "      <td>33</td>\n",
       "      <td>male</td>\n",
       "      <td>22.705</td>\n",
       "      <td>0</td>\n",
       "      <td>no</td>\n",
       "      <td>northwest</td>\n",
       "      <td>21984.47061</td>\n",
       "      <td>1089</td>\n",
       "      <td>False</td>\n",
       "      <td>True</td>\n",
       "      <td>True</td>\n",
       "      <td>False</td>\n",
       "      <td>0</td>\n",
       "    </tr>\n",
       "    <tr>\n",
       "      <th>4</th>\n",
       "      <td>32</td>\n",
       "      <td>male</td>\n",
       "      <td>28.880</td>\n",
       "      <td>0</td>\n",
       "      <td>no</td>\n",
       "      <td>northwest</td>\n",
       "      <td>3866.85520</td>\n",
       "      <td>1024</td>\n",
       "      <td>False</td>\n",
       "      <td>True</td>\n",
       "      <td>True</td>\n",
       "      <td>False</td>\n",
       "      <td>0</td>\n",
       "    </tr>\n",
       "  </tbody>\n",
       "</table>\n",
       "</div>"
      ],
      "text/plain": [
       "   age     sex     bmi  children smoker     region      charges  age_sq  \\\n",
       "0   19  female  27.900         0    yes  southwest  16884.92400     361   \n",
       "1   18    male  33.770         1     no  southeast   1725.55230     324   \n",
       "2   28    male  33.000         3     no  southeast   4449.46200     784   \n",
       "3   33    male  22.705         0     no  northwest  21984.47061    1089   \n",
       "4   32    male  28.880         0     no  northwest   3866.85520    1024   \n",
       "\n",
       "   female   male  smoke_no  smoke_yes  bmi_above_30  \n",
       "0    True  False     False       True             0  \n",
       "1   False   True      True      False             1  \n",
       "2   False   True      True      False             1  \n",
       "3   False   True      True      False             0  \n",
       "4   False   True      True      False             0  "
      ]
     },
     "execution_count": 17,
     "metadata": {},
     "output_type": "execute_result"
    }
   ],
   "source": [
    "insurance.head()"
   ]
  },
  {
   "cell_type": "markdown",
   "metadata": {},
   "source": [
    "Looks good to me. Now we can recreate this model and use bootstrap for linear regression from our models.py file."
   ]
  },
  {
   "cell_type": "code",
   "execution_count": 7,
   "metadata": {},
   "outputs": [
    {
     "data": {
      "text/html": [
       "<p><strong>Model: charges ~ age_sq + male + bmi + smoke_yes + smoke_yes:bmi + bmi_above_30 + smoke_yes:bmi_above_30 + children</strong><br/><table>\n",
       "<tbody>\n",
       "<tr><td>                             </td><td>                     </td><td>                     </td><td><strong>95% BCI</strong</td><td>                   </td></tr>\n",
       "<tr><td><strong>Coefficients</strong</td><td>                     </td><td><strong>Mean</strong</td><td><strong>Lo</strong     </td><td><strong>Hi</strong</td></tr>\n",
       "<tr><td>                             </td><td>$\\beta_{0}$          </td><td>2169.21              </td><td>416.95                  </td><td>3808.02            </td></tr>\n",
       "<tr><td>age_sq                       </td><td>$\\beta_{1}$          </td><td>-517.49              </td><td>-926.22                 </td><td>-101.27            </td></tr>\n",
       "<tr><td>male                         </td><td>$\\beta_{2}$          </td><td>1479.18              </td><td>-1852.43                </td><td>4153.57            </td></tr>\n",
       "<tr><td>bmi                          </td><td>$\\beta_{3}$          </td><td>3.34                 </td><td>3.11                    </td><td>3.51               </td></tr>\n",
       "<tr><td>smoke_yes                    </td><td>$\\beta_{4}$          </td><td>-3.22                </td><td>-67.87                  </td><td>68.53              </td></tr>\n",
       "<tr><td>smoke_yes:bmi                </td><td>$\\beta_{5}$          </td><td>471.11               </td><td>361.41                  </td><td>599.59             </td></tr>\n",
       "<tr><td>bmi_above_30                 </td><td>$\\beta_{6}$          </td><td>102.95               </td><td>-886.88                 </td><td>861.90             </td></tr>\n",
       "<tr><td>smoke_yes:bmi_above_30       </td><td>$\\beta_{7}$          </td><td>15122.63             </td><td>13387.46                </td><td>16675.38           </td></tr>\n",
       "<tr><td>children                     </td><td>$\\beta_{8}$          </td><td>651.45               </td><td>481.48                  </td><td>849.57             </td></tr>\n",
       "<tr><td>                             </td><td>                     </td><td>                     </td><td>                        </td><td>                   </td></tr>\n",
       "<tr><td><strong>Metrics</strong     </td><td><strong>Mean</strong</td><td><strong>Lo</strong  </td><td><strong>Hi</strong     </td><td>                   </td></tr>\n",
       "<tr><td>$\\sigma$                     </td><td>4380.25              </td><td>3909.56              </td><td>4885.39                 </td><td>                   </td></tr>\n",
       "<tr><td>$R^2$                        </td><td>0.87                 </td><td>0.84                 </td><td>0.90                    </td><td>                   </td></tr>\n",
       "</tbody>\n",
       "</table></p>"
      ],
      "text/latex": [
       "\\textbf{Model: charges $\\sim$ age\\_sq + male + bmi + smoke\\_yes + smoke\\_yes:bmi + bmi\\_above\\_30 + smoke\\_yes:bmi\\_above\\_30 + children}\n",
       "\n",
       "\\begin{tabular}{lllll}\n",
       "\\toprule\n",
       "                           &               &               & \\textbf{95\\% BCI} &             \\\\\n",
       " \\textbf{Coefficients}     &               & \\textbf{Mean} & \\textbf{Lo}      & \\textbf{Hi} \\\\\n",
       "                           & $\\beta_{0}$   & 2169.21       & 416.95           & 3808.02     \\\\\n",
       " age\\_sq                   & $\\beta_{1}$   & -517.49       & -926.22          & -101.27     \\\\\n",
       " male                      & $\\beta_{2}$   & 1479.18       & -1852.43         & 4153.57     \\\\\n",
       " bmi                       & $\\beta_{3}$   & 3.34          & 3.11             & 3.51        \\\\\n",
       " smoke\\_yes                & $\\beta_{4}$   & -3.22         & -67.87           & 68.53       \\\\\n",
       " smoke\\_yes:bmi            & $\\beta_{5}$   & 471.11        & 361.41           & 599.59      \\\\\n",
       " bmi\\_above\\_30            & $\\beta_{6}$   & 102.95        & -886.88          & 861.90      \\\\\n",
       " smoke\\_yes:bmi\\_above\\_30 & $\\beta_{7}$   & 15122.63      & 13387.46         & 16675.38    \\\\\n",
       " children                  & $\\beta_{8}$   & 651.45        & 481.48           & 849.57      \\\\\n",
       "                           &               &               &                  &             \\\\\n",
       " \\textbf{Metrics}          & \\textbf{Mean} & \\textbf{Lo}   & \\textbf{Hi}      &             \\\\\n",
       " $\\sigma$                  & 4380.25       & 3909.56       & 4885.39          &             \\\\\n",
       " $R^2$                     & 0.87          & 0.84          & 0.90             &             \\\\\n",
       "\\bottomrule\n",
       "\\end{tabular}"
      ],
      "text/markdown": [
       "Model: charges ~ age_sq + male + bmi + smoke_yes + smoke_yes:bmi + bmi_above_30 + smoke_yes:bmi_above_30 + children\n",
       "|------------------------|-------------|----------|-------------|----------|\n",
       "|                        |             |          | **95% BCI** |          |\n",
       "| **Coefficients**       |             | **Mean** | **Lo**      | **Hi**   |\n",
       "|                        | $\\beta_{0}$ | 2169.21  | 416.95      | 3808.02  |\n",
       "| age_sq                 | $\\beta_{1}$ | -517.49  | -926.22     | -101.27  |\n",
       "| male                   | $\\beta_{2}$ | 1479.18  | -1852.43    | 4153.57  |\n",
       "| bmi                    | $\\beta_{3}$ | 3.34     | 3.11        | 3.51     |\n",
       "| smoke_yes              | $\\beta_{4}$ | -3.22    | -67.87      | 68.53    |\n",
       "| smoke_yes:bmi          | $\\beta_{5}$ | 471.11   | 361.41      | 599.59   |\n",
       "| bmi_above_30           | $\\beta_{6}$ | 102.95   | -886.88     | 861.90   |\n",
       "| smoke_yes:bmi_above_30 | $\\beta_{7}$ | 15122.63 | 13387.46    | 16675.38 |\n",
       "| children               | $\\beta_{8}$ | 651.45   | 481.48      | 849.57   |\n",
       "|                        |             |          |             |          |\n",
       "| **Metrics**            | **Mean**    | **Lo**   | **Hi**      |          |\n",
       "| $\\sigma$               | 4380.25     | 3909.56  | 4885.39     |          |\n",
       "| $R^2$                  | 0.87        | 0.84     | 0.90        |          |"
      ],
      "text/plain": [
       "<models.ResultsWrapper at 0x1a81e45a5d0>"
      ]
     },
     "execution_count": 7,
     "metadata": {},
     "output_type": "execute_result"
    }
   ],
   "source": [
    "model = \"charges ~ age_sq + male + bmi + smoke_yes + smoke_yes:bmi + bmi_above_30 + smoke_yes:bmi_above_30 + children\"\n",
    "final = models.bootstrap_linear_regression(model, data=insurance)\n",
    "models.describe_bootstrap_lr(final)"
   ]
  },
  {
   "cell_type": "markdown",
   "metadata": {},
   "source": [
    "Note I include bmi_above_30 as a separate variable here because the `bootstrap_linear_regression` function was not working without including it in the model before the interaction term, though it's not necessary as we see the 95% BCI contains 0 and it may have an unexpected sign."
   ]
  },
  {
   "cell_type": "markdown",
   "metadata": {},
   "source": [
    "Here we have the estimates of the coefficients in the model for the bootstrap. We see an $R^2$ of 87% and a $\\sigma$ of 4380.25. Which is about a third of the original as we can see below"
   ]
  },
  {
   "cell_type": "code",
   "execution_count": 8,
   "metadata": {},
   "outputs": [
    {
     "name": "stdout",
     "output_type": "stream",
     "text": [
      "Original Std:  12105.48\n",
      "Model Sigma:  4380.25\n"
     ]
    }
   ],
   "source": [
    "print('Original Std: ', '%.2f' % np.std(insurance['charges']))\n",
    "print('Model Sigma: ', '%.2f' % final['sigma'])"
   ]
  },
  {
   "cell_type": "markdown",
   "metadata": {},
   "source": [
    "**2. Perform three rounds of 10-fold cross validation, estimating $R^2$ and $\\sigma$ each round. Using the results for the test data, calculate 95% Bootstrap estimates of the credible intervals for each.** Comment on these intervals and the intervals from above. Are the average values different? Are the intervals different?"
   ]
  },
  {
   "cell_type": "markdown",
   "metadata": {},
   "source": [
    "I'll be using the `sklearn` functions here to perform the cross validation, but note we could also make our own if we are inclined to do so. We need to first prepare our x's and y's in order to use the library properly."
   ]
  },
  {
   "cell_type": "code",
   "execution_count": 10,
   "metadata": {},
   "outputs": [],
   "source": [
    "from sklearn import datasets"
   ]
  },
  {
   "cell_type": "code",
   "execution_count": 16,
   "metadata": {},
   "outputs": [],
   "source": [
    "X, y = datasets.load_iris(return_X_y=True)"
   ]
  },
  {
   "cell_type": "markdown",
   "metadata": {},
   "source": [
    "Adding the interaction terms to the dataframe so we can select it easily in the next step."
   ]
  },
  {
   "cell_type": "code",
   "execution_count": 29,
   "metadata": {},
   "outputs": [],
   "source": [
    "insurance['interaction1'] = insurance['smoke_yes']*insurance['bmi']\n",
    "insurance['interaction2'] = insurance['smoke_yes']*insurance['bmi_above_30']"
   ]
  },
  {
   "cell_type": "markdown",
   "metadata": {},
   "source": [
    "Here is our 'x' data, we select all the observations with the features we want."
   ]
  },
  {
   "cell_type": "code",
   "execution_count": 39,
   "metadata": {},
   "outputs": [
    {
     "data": {
      "text/plain": [
       "numpy.ndarray"
      ]
     },
     "execution_count": 39,
     "metadata": {},
     "output_type": "execute_result"
    }
   ],
   "source": [
    "x = insurance.loc[:, ['age_sq', 'male', 'bmi', 'smoke_yes', \n",
    "                    'interaction1',\n",
    "                    'bmi_above_30', 'interaction2',\n",
    "                    'children']].values\n",
    "type(x)"
   ]
  },
  {
   "cell_type": "markdown",
   "metadata": {},
   "source": [
    "And here we simply select the target variable"
   ]
  },
  {
   "cell_type": "code",
   "execution_count": 42,
   "metadata": {},
   "outputs": [
    {
     "data": {
      "text/plain": [
       "numpy.ndarray"
      ]
     },
     "execution_count": 42,
     "metadata": {},
     "output_type": "execute_result"
    }
   ],
   "source": [
    "y = insurance['charges'].values\n"
   ]
  },
  {
   "cell_type": "markdown",
   "metadata": {},
   "source": [
    "Now we can create our cross validation using `sklearn`"
   ]
  },
  {
   "cell_type": "code",
   "execution_count": 75,
   "metadata": {},
   "outputs": [],
   "source": [
    "from sklearn.model_selection import train_test_split, cross_val_score"
   ]
  },
  {
   "cell_type": "markdown",
   "metadata": {},
   "source": [
    "We want to use a linear regression model"
   ]
  },
  {
   "cell_type": "code",
   "execution_count": 45,
   "metadata": {},
   "outputs": [],
   "source": [
    "model = linear.LinearRegression()"
   ]
  },
  {
   "cell_type": "markdown",
   "metadata": {},
   "source": [
    "Note we use negative mean squared error as our estimator, since this function uses a unified scoring API that maximizes the score, and we want to minimize our loss. This scoring simply returns the mse values multiplied by -1, and we can use the absolute value for our bootstrapping."
   ]
  },
  {
   "cell_type": "markdown",
   "metadata": {},
   "source": [
    "We can look at the $R^2$ and $\\sigma$ values as well here"
   ]
  },
  {
   "cell_type": "code",
   "execution_count": 79,
   "metadata": {},
   "outputs": [
    {
     "name": "stdout",
     "output_type": "stream",
     "text": [
      "R2 = 0.86\n",
      "Sigma = 4355.32\n"
     ]
    }
   ],
   "source": [
    "scores1_mse = abs(cross_val_score(model, x, y, scoring='neg_mean_squared_error', cv=10))\n",
    "scores1_r2 = abs(cross_val_score(model, x, y, scoring='r2', cv=10))\n",
    "\n",
    "print(f'R2 = {round(np.mean(scores1_r2),2)}')\n",
    "print(f'Sigma = {round(np.mean(np.sqrt(scores1_mse)),2)}')"
   ]
  },
  {
   "cell_type": "markdown",
   "metadata": {},
   "source": [
    "An $R^2$ of about 86% and $\\sigma$ of 4355 for this model, pretty similar to what we found in question 1 (values of 87% and 4380, respectively)."
   ]
  },
  {
   "cell_type": "markdown",
   "metadata": {},
   "source": [
    "We will perform the cross validation again for 2 more rounds, making sure we shuffle the data each time so we get different values for the MSE."
   ]
  },
  {
   "cell_type": "code",
   "execution_count": 84,
   "metadata": {},
   "outputs": [],
   "source": [
    "# this shuffles the observations in the dataframe\n",
    "insurance = insurance.sample(frac=1).reset_index(drop=True)"
   ]
  },
  {
   "cell_type": "markdown",
   "metadata": {},
   "source": [
    "We grab the features and target variables again and apply a 10 fold cross validation again and find the $R^2$ and $\\sigma$ each time. We will compare each round at the end."
   ]
  },
  {
   "cell_type": "code",
   "execution_count": 85,
   "metadata": {},
   "outputs": [],
   "source": [
    "x = insurance.loc[:, ['age_sq', 'male', 'bmi', 'smoke_yes', \n",
    "                    'interaction1',\n",
    "                    'bmi_above_30', 'interaction2',\n",
    "                    'children']].values\n",
    "y = insurance['charges'].values"
   ]
  },
  {
   "cell_type": "code",
   "execution_count": 86,
   "metadata": {},
   "outputs": [
    {
     "name": "stdout",
     "output_type": "stream",
     "text": [
      "R2 = 0.86\n",
      "Sigma = 4371.3\n"
     ]
    }
   ],
   "source": [
    "scores2_mse = abs(cross_val_score(model, x, y, scoring='neg_mean_squared_error', cv=10))\n",
    "scores2_r2 = abs(cross_val_score(model, x, y, scoring='r2', cv=10))\n",
    "\n",
    "print(f'R2 = {round(np.mean(scores2_r2),2)}')\n",
    "print(f'Sigma = {round(np.mean(np.sqrt(scores2_mse)),2)}')"
   ]
  },
  {
   "cell_type": "markdown",
   "metadata": {},
   "source": [
    "And one more time for round 3. Putting it all together"
   ]
  },
  {
   "cell_type": "code",
   "execution_count": 88,
   "metadata": {},
   "outputs": [
    {
     "name": "stdout",
     "output_type": "stream",
     "text": [
      "R2 = 0.87\n",
      "Sigma = 4323.81\n"
     ]
    }
   ],
   "source": [
    "# this shuffles the observations in the dataframe\n",
    "insurance = insurance.sample(frac=1).reset_index(drop=True)\n",
    "\n",
    "x = insurance.loc[:, ['age_sq', 'male', 'bmi', 'smoke_yes', \n",
    "                    'interaction1',\n",
    "                    'bmi_above_30', 'interaction2',\n",
    "                    'children']].values\n",
    "y = insurance['charges'].values\n",
    "\n",
    "scores3_mse = abs(cross_val_score(model, x, y, scoring='neg_mean_squared_error', cv=10))\n",
    "scores3_r2 = abs(cross_val_score(model, x, y, scoring='r2', cv=10))\n",
    "\n",
    "print(f'R2 = {round(np.mean(scores3_r2),2)}')\n",
    "print(f'Sigma = {round(np.mean(np.sqrt(scores3_mse)),2)}')"
   ]
  },
  {
   "cell_type": "markdown",
   "metadata": {},
   "source": [
    "Pretty similar values for each round of cross validation. Now we have 30 values of the mean squared error and can perform bootstrapping with our usual `bootstrap_sample` function from Lab 7."
   ]
  },
  {
   "cell_type": "code",
   "execution_count": 102,
   "metadata": {},
   "outputs": [],
   "source": [
    "mse_all = np.concatenate([scores1_mse, scores2_mse, scores3_mse])\n",
    "r2_all = np.concatenate([scores1_r2, scores2_r2, scores3_r2])\n",
    "sigma_all = np.concatenate([np.sqrt(scores1_mse), np.sqrt(scores2_mse),np.sqrt(scores3_mse)])"
   ]
  },
  {
   "cell_type": "code",
   "execution_count": 100,
   "metadata": {},
   "outputs": [],
   "source": [
    "def bootstrap_sample( data, f, n=100):\n",
    "    result = []\n",
    "    m = len( data)\n",
    "    for _ in range( n):\n",
    "        sample = np.random.choice( data, len(data), replace=True)\n",
    "        r = f( sample)\n",
    "        result.append( r)\n",
    "    return np.array( result)"
   ]
  },
  {
   "cell_type": "code",
   "execution_count": 103,
   "metadata": {},
   "outputs": [],
   "source": [
    "posterior_mse = bootstrap_sample(mse_all, np.mean, 1000)\n",
    "posterior_r2 = bootstrap_sample(r2_all, np.mean, 1000)\n",
    "posterior_sigma = bootstrap_sample(sigma_all, np.mean, 1000)"
   ]
  },
  {
   "cell_type": "markdown",
   "metadata": {},
   "source": [
    "We can look at a histogram of the posterior as well but I don't think it's necessary or interesting here. We can move on to looking at the 95% BCI"
   ]
  },
  {
   "cell_type": "code",
   "execution_count": 112,
   "metadata": {},
   "outputs": [
    {
     "name": "stdout",
     "output_type": "stream",
     "text": [
      "95% BCI for mse theta: [17512447.88534138 21317928.93529819]\n",
      "95% BCI for r2 theta: [0.84769068 0.87860097]\n",
      "95% BCI for sigma: [4141.57866039 4575.89079918]\n"
     ]
    }
   ],
   "source": [
    "print( \"95% BCI for mse theta:\", stats.mstats.mquantiles(posterior_mse, [0.025, 0.975]))\n",
    "print( \"95% BCI for r2 theta:\",stats.mstats.mquantiles(posterior_r2, [0.025, 0.975]))\n",
    "print( \"95% BCI for sigma:\", stats.mstats.mquantiles(posterior_sigma, [0.025, 0.975]))"
   ]
  },
  {
   "cell_type": "markdown",
   "metadata": {},
   "source": [
    "We see for our $R^2$ we have a range of 0.847 to 0.878, compared to part 1 where the range was 0.84 to 0.90. We have a tighter range from the cross validation and bootstrapping. Our $\\sigma$ range here is 4141 to 4575, compared to part 1 of 3909 to 4885, roughly. Again we see a bit of a tighter range with the cross validation process."
   ]
  },
  {
   "cell_type": "code",
   "execution_count": 114,
   "metadata": {},
   "outputs": [],
   "source": [
    "from tabulate import tabulate"
   ]
  },
  {
   "cell_type": "code",
   "execution_count": 116,
   "metadata": {},
   "outputs": [
    {
     "data": {
      "text/html": [
       "<table>\n",
       "<thead>\n",
       "<tr><th>      </th><th style=\"text-align: right;\">   $R^2$</th><th style=\"text-align: right;\">  $\\sigma$</th></tr>\n",
       "</thead>\n",
       "<tbody>\n",
       "<tr><td>Part 1</td><td style=\"text-align: right;\">0.869953</td><td style=\"text-align: right;\">   4380.25</td></tr>\n",
       "<tr><td>CV1   </td><td style=\"text-align: right;\">0.860623</td><td style=\"text-align: right;\">   4355.32</td></tr>\n",
       "<tr><td>CV2   </td><td style=\"text-align: right;\">0.863662</td><td style=\"text-align: right;\">   4371.3 </td></tr>\n",
       "<tr><td>CV3   </td><td style=\"text-align: right;\">0.867031</td><td style=\"text-align: right;\">   4323.81</td></tr>\n",
       "</tbody>\n",
       "</table>"
      ],
      "text/plain": [
       "'<table>\\n<thead>\\n<tr><th>      </th><th style=\"text-align: right;\">   $R^2$</th><th style=\"text-align: right;\">  $\\\\sigma$</th></tr>\\n</thead>\\n<tbody>\\n<tr><td>Part 1</td><td style=\"text-align: right;\">0.869953</td><td style=\"text-align: right;\">   4380.25</td></tr>\\n<tr><td>CV1   </td><td style=\"text-align: right;\">0.860623</td><td style=\"text-align: right;\">   4355.32</td></tr>\\n<tr><td>CV2   </td><td style=\"text-align: right;\">0.863662</td><td style=\"text-align: right;\">   4371.3 </td></tr>\\n<tr><td>CV3   </td><td style=\"text-align: right;\">0.867031</td><td style=\"text-align: right;\">   4323.81</td></tr>\\n</tbody>\\n</table>'"
      ]
     },
     "execution_count": 116,
     "metadata": {},
     "output_type": "execute_result"
    }
   ],
   "source": [
    "data = [\n",
    "    ['Part 1', final['r_squared'], final['sigma']],\n",
    "    ['CV1', np.mean(scores1_r2), np.mean(np.sqrt(scores1_mse))],\n",
    "    ['CV2', np.mean(scores2_r2), np.mean(np.sqrt(scores2_mse))],\n",
    "    ['CV3', np.mean(scores3_r2), np.mean(np.sqrt(scores3_mse))],\n",
    "]\n",
    "\n",
    "tabulate(data, headers=['$R^2$', '$\\sigma$'], tablefmt='html')"
   ]
  },
  {
   "cell_type": "markdown",
   "metadata": {},
   "source": [
    "As we already saw, the average values for these statistics are pretty much the same between part 1 and the cross validation techniques, with the $\\sigma$ for part 1 being slightly higher. Overall however we get very similar results."
   ]
  },
  {
   "cell_type": "markdown",
   "metadata": {},
   "source": [
    "**3. Using Learning Curves and $\\sigma$ as your evaluation metric determine if more data will improve the estimation of the model.**"
   ]
  },
  {
   "cell_type": "code",
   "execution_count": null,
   "metadata": {},
   "outputs": [],
   "source": []
  },
  {
   "cell_type": "markdown",
   "metadata": {},
   "source": [
    "**4. It was shown that `age_sq` improved the performance of the model. Perhaps a different polynomial would have been better. Generate Validation Curves for $age_n$ where `n` = [1.5, 1.6, 1.7, 1.8, 1.9, 2.0, 2.1, 2.2, 2.3, 2.4, 2.5] and select the best transformation.**"
   ]
  },
  {
   "cell_type": "code",
   "execution_count": null,
   "metadata": {},
   "outputs": [],
   "source": []
  },
  {
   "cell_type": "markdown",
   "metadata": {},
   "source": [
    "**5. Using Ridge Regression to estimate a model for the insurance data. Compare it with your final Linear Regression model.** (If you get far ahead, you may need to write your own function. Here are the sklearn docs: http://scikit-learn.org/stable/modules/linear_model.html)"
   ]
  },
  {
   "cell_type": "code",
   "execution_count": null,
   "metadata": {},
   "outputs": [],
   "source": []
  }
 ],
 "metadata": {
  "jupytext": {
   "formats": "ipynb,md:myst"
  },
  "kernelspec": {
   "display_name": "Python (en685648)",
   "language": "python",
   "name": "en685648"
  },
  "language_info": {
   "codemirror_mode": {
    "name": "ipython",
    "version": 3
   },
   "file_extension": ".py",
   "mimetype": "text/x-python",
   "name": "python",
   "nbconvert_exporter": "python",
   "pygments_lexer": "ipython3",
   "version": "3.11.7"
  },
  "toc": {
   "colors": {
    "hover_highlight": "#DAA520",
    "navigate_num": "#000000",
    "navigate_text": "#333333",
    "running_highlight": "#FF0000",
    "selected_highlight": "#FFD700",
    "sidebar_border": "#EEEEEE",
    "wrapper_background": "#FFFFFF"
   },
   "moveMenuLeft": true,
   "nav_menu": {
    "height": "135px",
    "width": "252px"
   },
   "navigate_menu": true,
   "number_sections": true,
   "sideBar": true,
   "threshold": 4,
   "toc_cell": false,
   "toc_section_display": "block",
   "toc_window_display": false,
   "widenNotebook": false
  }
 },
 "nbformat": 4,
 "nbformat_minor": 4
}
