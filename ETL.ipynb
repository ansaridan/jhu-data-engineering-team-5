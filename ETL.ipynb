{
 "cells": [
  {
   "cell_type": "code",
   "execution_count": 3,
   "id": "bc50ca6e-d22c-4f1d-a70d-e59cc5e16836",
   "metadata": {},
   "outputs": [],
   "source": [
    "import pandas as pd\n",
    "from warnings import simplefilter\n",
    "import psycopg2\n",
    "import psycopg2.extras\n",
    "import requests\n",
    "from io import StringIO"
   ]
  },
  {
   "cell_type": "code",
   "execution_count": 6,
   "id": "16b65785-bbc5-4c45-aa25-5799afe311e8",
   "metadata": {},
   "outputs": [
    {
     "name": "stdout",
     "output_type": "stream",
     "text": [
      "   STATEFIPS STATE  zipcode  agi_stub        N1     mars1     MARS2     MARS4  \\\n",
      "0          1    AL        0         1  720280.0  466930.0   75840.0  165330.0   \n",
      "1          1    AL        0         2  524160.0  264900.0  109720.0  134980.0   \n",
      "2          1    AL        0         3  291860.0  120090.0  116380.0   46410.0   \n",
      "3          1    AL        0         4  184320.0   48650.0  115740.0   16120.0   \n",
      "4          1    AL        0         5  287720.0   38750.0  234070.0    9640.0   \n",
      "\n",
      "        ELF    CPREP  ...  N85300  A85300    N11901    A11901    N11900  \\\n",
      "0  677820.0  21700.0  ...     0.0     0.0   42310.0   35969.0  632780.0   \n",
      "1  495550.0  14170.0  ...     0.0     0.0   87370.0  115842.0  435160.0   \n",
      "2  275270.0   8580.0  ...     0.0     0.0   79750.0  165576.0  212390.0   \n",
      "3  173910.0   4010.0  ...     0.0     0.0   60450.0  172959.0  122910.0   \n",
      "4  272240.0   7750.0  ...   110.0    34.0  128440.0  638854.0  159690.0   \n",
      "\n",
      "      A11900    N11902     A11902  N12000   A12000  \n",
      "0  2182999.0  630530.0  2176448.0  2290.0   5215.0  \n",
      "1  1402396.0  432590.0  1393449.0  3100.0   7423.0  \n",
      "2   608660.0  209210.0   597461.0  4110.0  11648.0  \n",
      "3   409261.0  120020.0   397318.0  2690.0  12922.0  \n",
      "4   678251.0  152450.0   616679.0  8440.0  54805.0  \n",
      "\n",
      "[5 rows x 167 columns]\n"
     ]
    }
   ],
   "source": [
    "# function to download and parse site data\n",
    "def download_and_parse_data(url):\n",
    "    response = requests.get(url)\n",
    "    \n",
    "    # Ensure the request was successful\n",
    "    if response.status_code != 200:\n",
    "        raise Exception(f\"Failed to download data: {response.status_code}\")\n",
    "    \n",
    "    # Parse the CSV data into a pandas DataFrame\n",
    "    data = pd.read_csv(StringIO(response.text), header=0)\n",
    "    \n",
    "    return data\n",
    "\n",
    "# URL from the provided link\n",
    "url = 'https://www.irs.gov/pub/irs-soi/21zpallagi.csv'\n",
    "\n",
    "# Download and parse the data\n",
    "irs_data = download_and_parse_data(url)"
   ]
  },
  {
   "cell_type": "code",
   "execution_count": 13,
   "id": "d0519ea2-b889-46f5-8a69-56402a129a4c",
   "metadata": {},
   "outputs": [],
   "source": [
    "# filter by New York state\n",
    "ny_df = irs_data[irs_data['STATE'] == 'NY'].reset_index(drop=True)"
   ]
  },
  {
   "cell_type": "code",
   "execution_count": 9,
   "id": "5bb760f9-6f78-4b3e-9ff7-414caf29525e",
   "metadata": {},
   "outputs": [
    {
     "name": "stdout",
     "output_type": "stream",
     "text": [
      "  Borough            Neighborhood  ZipCode\n",
      "0   Bronx           Central Bronx    10453\n",
      "1   Bronx           Central Bronx    10457\n",
      "2   Bronx           Central Bronx    10460\n",
      "3   Bronx  Bronx Park and Fordham    10458\n",
      "4   Bronx  Bronx Park and Fordham    10467\n"
     ]
    }
   ],
   "source": [
    "# get nyc zip codes and put it into a 2nd dataframe\n",
    "url = 'https://raw.githubusercontent.com/erikgregorywebb/nyc-housing/master/Data/nyc-zip-codes.csv'\n",
    "zips = download_and_parse_data(url)\n"
   ]
  },
  {
   "cell_type": "code",
   "execution_count": 11,
   "id": "8148a6a1-0e61-4a23-9103-85dc7207e962",
   "metadata": {},
   "outputs": [
    {
     "name": "stdout",
     "output_type": "stream",
     "text": [
      "  Borough            Neighborhood  zipcode\n",
      "0   Bronx           Central Bronx    10453\n",
      "1   Bronx           Central Bronx    10457\n",
      "2   Bronx           Central Bronx    10460\n",
      "3   Bronx  Bronx Park and Fordham    10458\n",
      "4   Bronx  Bronx Park and Fordham    10467\n"
     ]
    }
   ],
   "source": [
    "# rename columns to make merging the 2 dataframes easier\n",
    "zips = zips.rename(columns={'ZipCode': 'zipcode'})\n"
   ]
  },
  {
   "cell_type": "code",
   "execution_count": 14,
   "id": "074d7c5a-5f49-488c-b2e4-c4f14b4a1227",
   "metadata": {},
   "outputs": [],
   "source": [
    "# merge tax data with nyc neighborhood data on zipcode\n",
    "nyc_irs = pd.merge(ny_df, zips, on='zipcode')"
   ]
  },
  {
   "cell_type": "code",
   "execution_count": 33,
   "id": "166ac027-a856-42ad-bf38-3a5d284c785c",
   "metadata": {},
   "outputs": [],
   "source": [
    "# save final csv to be used for adding data to database\n",
    "nyc_irs.to_csv('./nyc_irs.csv', index=False)"
   ]
  }
 ],
 "metadata": {
  "kernelspec": {
   "display_name": "Python 3 (ipykernel)",
   "language": "python",
   "name": "python3"
  },
  "language_info": {
   "codemirror_mode": {
    "name": "ipython",
    "version": 3
   },
   "file_extension": ".py",
   "mimetype": "text/x-python",
   "name": "python",
   "nbconvert_exporter": "python",
   "pygments_lexer": "ipython3",
   "version": "3.10.12"
  }
 },
 "nbformat": 4,
 "nbformat_minor": 5
}
