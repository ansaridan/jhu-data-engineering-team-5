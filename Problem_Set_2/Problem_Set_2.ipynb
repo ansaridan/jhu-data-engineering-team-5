{
 "cells": [
  {
   "cell_type": "code",
   "execution_count": 1,
   "metadata": {
    "colab": {},
    "colab_type": "code",
    "id": "gdLBgeQ1rCZD"
   },
   "outputs": [],
   "source": [
    "%matplotlib inline"
   ]
  },
  {
   "cell_type": "code",
   "execution_count": 2,
   "metadata": {
    "colab": {},
    "colab_type": "code",
    "id": "Sl1UT6CirCZN"
   },
   "outputs": [],
   "source": [
    "from IPython.display import YouTubeVideo, Image"
   ]
  },
  {
   "cell_type": "markdown",
   "metadata": {
    "colab_type": "text",
    "id": "UTb6dF2ZrCZW"
   },
   "source": [
    "# Problem Set 2\n",
    "\n",
    "Please review the  Syllabus for the standards of \"A\" and \"B\" work.\n",
    "\n",
    "## Directions\n",
    "\n",
    "1. Show all work/steps/calculations. \n",
    "2. **All** work is to be your own. This is not a group project. You may, however, use code from the lectures and labs. Provide citations for any code that is not your own. You may also consult Stackoverflow, etc. This is not by any means \"closed book\" or anything like that. Basically, I need to see if *you* learned the concepts from the Labs.\n",
    "3. Add whatever markdown or code cells you need in each part to explain and calculate your answers. Don't just provide answers but explain them as well. **Explain and interpret your results. Explain your decisions.**\n",
    "4. Please leave all the top level Markdown headers in place.\n",
    "\n",
    "**Submission**\n",
    "\n",
    "For this assignment...\n",
    "\n",
    "0. Complete the pre-submission checklist at the end of the notebook.\n",
    "1. create a directory whose name is your JHED ID (not your student id, basically your email username): `ssmith1`\n",
    "2. Place all files in that directory:\n",
    "    1. the .ipynb version of the notebook, named using your JHED ID only, like `ssmith1.ipynb`\n",
    "    2. the database, `contracts.db`\n",
    "    3. the DDL file, `contracts.sql`\n",
    "    3. your ETL code as `contracts.py`\n",
    "    4. the CSV/Excel file that you used.\n",
    "    5. **nothing else should be in the directory**.\n",
    "3. zip using Zip compression to create a file: `ssmith1.zip`\n",
    "4. Upload to Canvas\n",
    "\n",
    "Do not add anything to the names like \" Problem Set 2\".\n",
    "Any assignment not following the submission guidelines will generally be assumed to be incomplete under the Syllabus and therefore a \"C\".\n",
    "\n",
    "\n",
    "<div style=\"background: lemonchiffon; margin:20px; padding: 20px;\">\n",
    "    <strong>Note</strong>\n",
    "    <p>This Problem Set covers Labs 3 and 4 (and the corresponding course materials).</p>\n",
    "</div>\n",
    "\n",
    "---\n",
    "\n"
   ]
  },
  {
   "cell_type": "markdown",
   "metadata": {
    "colab_type": "text",
    "id": "GaTsi6XitKtL"
   },
   "source": [
    "## Section 1 - Visualization"
   ]
  },
  {
   "cell_type": "markdown",
   "metadata": {
    "colab_type": "text",
    "id": "w_iPdBBQrCZY"
   },
   "source": [
    "Based on the visualization principles presented in the Visualization Module, answer the following questions for each chart:\n",
    "\n",
    "1. What the messages/stories of the chart? Identify at least two.\n",
    "2. What are the main problems with the chart? Be specific, referring to concepts (not rules) in the Visualization module (\"we're not supposed to use pie charts\" is not a concept).\n",
    "3. Create one chart/table for each of the two messages. Explain your visualization decisions and why your chart follows the concepts and methods presented in the Visualization module. Be specific.\n",
    "\n",
    "### Chart 1\n",
    "![chart1](http://www.essexrecordofficeblog.co.uk/wp-content/uploads/2015/01/Death-pie-chart.jpg)"
   ]
  },
  {
   "cell_type": "markdown",
   "metadata": {
    "colab_type": "text",
    "id": "FZru2ZEKuJ6B"
   },
   "source": [
    "### Question 1.1 "
   ]
  },
  {
   "cell_type": "markdown",
   "metadata": {
    "colab_type": "text",
    "id": "VVYW3Wpduppu"
   },
   "source": [
    "In terms of the Eight Quantitative Relationships, the first message of this chart that I see is a Ranking relationship, where age ranges are divided into bins of 10 years, and we can rank each age range based on how large each portion of this chart is; for example, the age range 0-9 has the largest percentage of deaths in Hatfield Broad Oak between these years by a large margin, most likely due to the high rate of infant mortality during this time period. Another relationship is a distribution, as we can look at the frequencies of each age interval and calculate a count for each one."
   ]
  },
  {
   "cell_type": "markdown",
   "metadata": {
    "colab_type": "text",
    "id": "8BjuVmb3uqMi"
   },
   "source": [
    "### Question 1.2"
   ]
  },
  {
   "cell_type": "markdown",
   "metadata": {
    "colab_type": "text",
    "id": "ik3SyueLusdt"
   },
   "source": [
    "According to William Cleveland's research, angles are more difficult to decode than something like length, so pie charts in general are not a great tool for making an easy to read chart versus something like a bar chart. We also have the use of color here, which has no meaningful value in this chart - why is 20-29 red and why is 50-59 blue? Based on Colin Ware's _Attributes of Form_. Finally, what does it mean that the 90-99 age group has a value of -1% ? Births maybe? Clearly we shouldn't have a negative percentage when looking at these relationships, and in fact adding all of the other age groups, we come out to a total of 100%. So why is the 90-99 group even included here?"
   ]
  },
  {
   "cell_type": "markdown",
   "metadata": {
    "colab_type": "text",
    "id": "ouFcUNn_usz0"
   },
   "source": [
    "### Question 1.3"
   ]
  },
  {
   "cell_type": "markdown",
   "metadata": {
    "colab_type": "text",
    "id": "ylSBR1qkrCZh"
   },
   "source": [
    "*Answer*"
   ]
  },
  {
   "cell_type": "code",
   "execution_count": null,
   "metadata": {
    "colab": {},
    "colab_type": "code",
    "id": "cAeixy7prCZh"
   },
   "outputs": [],
   "source": []
  },
  {
   "cell_type": "markdown",
   "metadata": {
    "colab_type": "text",
    "id": "BNz7APFgrCZm"
   },
   "source": [
    "---\n",
    "\n",
    "### Chart 2\n",
    "\n",
    "![chart2](http://skepchick.org/wp-content/uploads/2015/06/CNN-weed-chart.jpg)"
   ]
  },
  {
   "cell_type": "markdown",
   "metadata": {
    "colab_type": "text",
    "id": "Vghcj6caviwE"
   },
   "source": [
    "### Question 2.1"
   ]
  },
  {
   "cell_type": "markdown",
   "metadata": {
    "colab_type": "text",
    "id": "jhMl_7PWv0ea"
   },
   "source": [
    "*Answer*"
   ]
  },
  {
   "cell_type": "markdown",
   "metadata": {
    "colab_type": "text",
    "id": "tP1r2VOgv2oJ"
   },
   "source": [
    "### Question 2.2"
   ]
  },
  {
   "cell_type": "markdown",
   "metadata": {
    "colab": {},
    "colab_type": "code",
    "id": "SbD-s89grCZw"
   },
   "source": [
    "*Answer*"
   ]
  },
  {
   "cell_type": "markdown",
   "metadata": {},
   "source": [
    "### Question 2.3"
   ]
  },
  {
   "cell_type": "markdown",
   "metadata": {},
   "source": [
    "*Answer*"
   ]
  },
  {
   "cell_type": "markdown",
   "metadata": {
    "colab_type": "text",
    "id": "q4mZxOJMrCZ0"
   },
   "source": [
    "---\n",
    "\n",
    "## Section 2 - ETL and Querying an RDBMS\n",
    "\n",
    "In Lab 4, we obtained data from a JSON document. This time we're going to start with a Wikipedia page but obtain and transform the supporting data in an Excel file.\n",
    "\n",
    "<div style=\"background: lemonchiffon; margin:20px; padding: 20px;\">\n",
    "    <strong>Note</strong>\n",
    "    <p>You may not use the Pandas library for this assignment. You should use \"raw\" SQL statements and regular Python data structures. You will not always have Pandas available to you.</p>\n",
    "    <p>Scientific notation is not acceptable in a business setting. Find out how to fix the formatting in Python.</p>\n",
    "</div>\n",
    "\n",
    "\n",
    "**DIRECTIONS:**\n",
    "\n",
    "1. View [Top 100 Contractors of the U.S. federal government](https://en.wikipedia.org/wiki/Top_100_Contractors_of_the_U.S._federal_government).\n",
    "2. Scroll down to the footnotes. If you follow footnote 7, you can obtain the raw data for FY2015 which is an Excel file. \n",
    "\n",
    "    The Excel file is divided into tabs. The first tab covers all the Federal government while the remaining tabs cover departments and sub-departments. **We are only interested in departments** which means we don't want spending from the first tab (although you may want the contractor information) and we don't want sub-departments. \n",
    "    \n",
    "    A department will have a code that ends with \"00\". For example, \"9700\" is the Defense Department but \"9761\" is \"Defense Threat Reduction\". We're not interested in the latter.\n",
    "\n",
    "3. Create a SQLite3 database, `contracts.db`, of the department specific actions (contracts) and dollar amounts. It should have **two** tables. The first, `contractors`, should have an id (as a primary key) and a global_vendor_name (as a varchar). The second, `actions`, should include an id (primary key), department, actions (number of actions), dollars (dollars obligated) and contractor_id as a foreign key to the contractors table. Follow the same pattern as in the Lab. All your database and table creation (DDL) commands will be in `contracts.sql`.\n",
    "\n",
    "4. Reading the Excel file and creating the database should be automated with no cutting and pasting so that you could regenerate the database for a corrected file or for FY2016 (assuming it had the same format). Both `xlrd` and `openpyxl` are included in Anaconda. (Translating the file from .xls to .xlsx *is* permitted but may not be required). Place this \"ETL\" code in a separate `contracts.py` file and include it with your submission.\n",
    "\n",
    "At this point, you should have:\n",
    "\n",
    "1. `contracts.sql` will create the data schema.\n",
    "2. `contracts.py` will fill the database tables with the correct data from the Excel spreadsheet.\n",
    "3. `contracts.db` will have the data in it.\n",
    "\n",
    "For this ETL part, we will grade you based on the correctness of your solution (did you put the right things in the right files, etc.) and the integrity of the database (are the tables correct, with the correct number of rows, etc.).\n",
    "\n",
    "<div style=\"background: lemonchiffon; margin:20px; padding: 20px;\">\n",
    "    <strong>Note</strong>\n",
    "    <p><strong>None</strong> of your ETL should appear in this notebook. It will be in the files above.</p>\n",
    "</div>\n",
    "\n",
    "For the following questions, you should connect to `contracts.db`, using the sqlite3 library (**without** using Pandas) and provide answers to the following questions, nice formatted (you may use the `tabulate`, if you like). Remember the formula: discuss/code/discuss, after you get a query result, you should discuss anything salient in the result. Make whatever additional markdown/code cells you might need but do not delete anything already here."
   ]
  },
  {
   "cell_type": "markdown",
   "metadata": {
    "colab_type": "text",
    "id": "5KUq3HfNsCNZ"
   },
   "source": [
    "### Question 3.1\n",
    "\n",
    "What are the total actions and dollars obligated by department?\n",
    "\n"
   ]
  },
  {
   "cell_type": "code",
   "execution_count": null,
   "metadata": {
    "colab": {},
    "colab_type": "code",
    "id": "SnIBclOltnAF"
   },
   "outputs": [],
   "source": [
    "# Question 3.1 code"
   ]
  },
  {
   "cell_type": "markdown",
   "metadata": {
    "colab_type": "text",
    "id": "c9JewGxDtioR"
   },
   "source": [
    "*Answer*"
   ]
  },
  {
   "cell_type": "markdown",
   "metadata": {
    "colab_type": "text",
    "id": "AcGvKYYksEaS"
   },
   "source": [
    "### Question 3.2\n",
    "\n",
    "What is Johns Hopkins' number of actions and dollars by department (remember Johns Hopkins is not just the university)? "
   ]
  },
  {
   "cell_type": "code",
   "execution_count": null,
   "metadata": {
    "colab": {},
    "colab_type": "code",
    "id": "QhmDo8NFtn55"
   },
   "outputs": [],
   "source": [
    "# Question 2.2 code"
   ]
  },
  {
   "cell_type": "markdown",
   "metadata": {
    "colab_type": "text",
    "id": "NyU_5WfCtogR"
   },
   "source": [
    "*Answer*"
   ]
  },
  {
   "cell_type": "markdown",
   "metadata": {
    "colab_type": "text",
    "id": "VhiGBnHLrCZ5"
   },
   "source": [
    "### Question 3.3\n",
    "\n",
    "Determine how many vendors received contracts from 1 department, 2 departments, etc. In other words, I want a table that looks like the following (numbers are absolutely made up):\n",
    "\n",
    "| # Departments | Vendors |\n",
    "|-------------|-----------|\n",
    "| 1           | 1238      |\n",
    "| 2           | 525       |\n",
    "| 3           | 275       |\n",
    "| ...         |           |\n",
    "| n           | 2         |\n",
    "\n",
    "Interpret the first two rows in words. What is the overall story? Now, using *percentages* (instead of these raw counts), make a chart that shows this story using the principles explored in class."
   ]
  },
  {
   "cell_type": "code",
   "execution_count": 1,
   "metadata": {
    "colab": {},
    "colab_type": "code",
    "id": "tKYAFF88rCZ6"
   },
   "outputs": [],
   "source": [
    "# Question 3.3 code"
   ]
  },
  {
   "cell_type": "markdown",
   "metadata": {
    "colab_type": "text",
    "id": "Gnm6bm85tvjM"
   },
   "source": [
    "*Answer*"
   ]
  },
  {
   "cell_type": "markdown",
   "metadata": {},
   "source": [
    "### Question 3.4\n",
    "\n",
    "Based on your experience working with the data, pick a question you would like to answer. Pose the question (in words, ie, \"discuss\"), write and execute the query to answer it (code) and discuss the result (in words, ie, \"discuss\").\n",
    "\n",
    "Create as many Markdown/Code cells as you need to answer the question."
   ]
  },
  {
   "cell_type": "markdown",
   "metadata": {},
   "source": [
    "*answer*"
   ]
  },
  {
   "cell_type": "markdown",
   "metadata": {
    "colab_type": "text",
    "id": "x6duTZH7xnCE"
   },
   "source": [
    "---\n",
    "\n",
    "**PRE-SUBMISSION CHECK LIST**\n",
    "\n",
    "Before you submit this assignent, go back and review the directions to ensure that you have followed each instruction.\n",
    "\n",
    "* [ ] Have you completed every section and answered every question asked?\n",
    "* [ ] For every question, have you described your approach and explained your results?\n",
    "* [ ] Have you checked for spelling and grammar errors?\n",
    "* [ ] Are your code blocks free of any errors?\n",
    "* [ ] Have you deleted unused code or markdown blocks? Removed scratch calculations? Excessive raw data print outs?\n",
    "* [ ] Hide all the code/output cells and make sure that you have sufficient discussion. Re-show the output cells but leave code cells hidden.\n",
    "* [ ] Have you *SAVED* your notebook?\n",
    "* [ ] Are you following the submission requirements for this particular assignment?\n"
   ]
  }
 ],
 "metadata": {
  "colab": {
   "name": "Problem Set 2.ipynb",
   "provenance": [],
   "toc_visible": true
  },
  "kernelspec": {
   "display_name": "Python (en685648)",
   "language": "python",
   "name": "en685648"
  },
  "language_info": {
   "codemirror_mode": {
    "name": "ipython",
    "version": 3
   },
   "file_extension": ".py",
   "mimetype": "text/x-python",
   "name": "python",
   "nbconvert_exporter": "python",
   "pygments_lexer": "ipython3",
   "version": "3.11.7"
  },
  "toc": {
   "colors": {
    "hover_highlight": "#DAA520",
    "navigate_num": "#000000",
    "navigate_text": "#333333",
    "running_highlight": "#FF0000",
    "selected_highlight": "#FFD700",
    "sidebar_border": "#EEEEEE",
    "wrapper_background": "#FFFFFF"
   },
   "moveMenuLeft": true,
   "nav_menu": {
    "height": "99px",
    "width": "252px"
   },
   "navigate_menu": true,
   "number_sections": true,
   "sideBar": true,
   "threshold": 4,
   "toc_cell": false,
   "toc_section_display": "block",
   "toc_window_display": false,
   "widenNotebook": false
  }
 },
 "nbformat": 4,
 "nbformat_minor": 4
}
