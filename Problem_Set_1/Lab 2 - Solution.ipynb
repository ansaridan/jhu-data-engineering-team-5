{
 "cells": [
  {
   "cell_type": "markdown",
   "metadata": {
    "colab_type": "text",
    "id": "Zi1DjOpGw0a9"
   },
   "source": [
    "# Module 2 Lab - Probability - Solution"
   ]
  },
  {
   "cell_type": "markdown",
   "metadata": {
    "colab_type": "text",
    "id": "cuTuPF2Aw0a_"
   },
   "source": [
    "## General Instructions\n",
    "\n",
    "In this course, Labs are the chance to applying concepts and methods discussed in the module.\n",
    "They are a low stakes (pass/fail) opportunity for you to try your hand at *doing*.\n",
    "Please make sure you follow the general Lab instructions, described in the Syllabus.\n",
    "The summary is:\n",
    "\n",
    "* Discussions should start as students work through the material, first Wednesday at the start of the new Module week. \n",
    "* Labs are due by **Sunday**.\n",
    "* Lab solutions are released Monday.  \n",
    "* Post Self Evaluation and Lab to Lab Group on Blackboard and Lab to Module on Blackboard on **Monday**.\n",
    "\n",
    "The last part is important because the Problem Sets will require you to perform the same or similar tasks without guidance.\n",
    "Problem Sets are your opportunity to demonstrate that you understand how to apply the concepts and methods discussed in the relevant Modules and Labs."
   ]
  },
  {
   "cell_type": "markdown",
   "metadata": {
    "colab_type": "text",
    "id": "cuTuPF2Aw0a_"
   },
   "source": [
    "## Specific Instructions\n",
    "\n",
    "1.  For Canvas submissions, you should submit *only* your notebook and it should be named using *only* your JHED id: fsmith79.ipynb for example if your JHED id were \"fsmith79\".\n",
    "\n",
    "    * do **not** use absolute paths in your notebooks. All resources should located in the same directory as the rest of your assignments.\n",
    "    * the directory **must** be named your JHED id and **only** your JHED id.\n",
    "    * do **not** return files provided by us (data files, .py files)\n",
    "  \n",
    "\n",
    "2. Data Science is as much about what you write (communicating) as the code you execute (researching). In many places, you will be required to execute code and discuss both the purpose and the result. Additionally, Data Science is about reproducibility and transparency. This includes good communication with your team and possibly with yourself. Therefore, you must show **all** work.\n",
    "\n",
    "3. Avail yourself of the Markdown/Codecell nature of the notebook. If you don't know about Markdown, look it up. Your notebooks should not look like ransom notes. Don't make everything bold. Clearly indicate what question you are answering.\n",
    "\n",
    "4. Submit a cleanly executed notebook. The first code cell should say `In [1]` and each successive code cell should increase by 1 throughout the notebook."
   ]
  },
  {
   "cell_type": "code",
   "execution_count": 1,
   "metadata": {},
   "outputs": [],
   "source": [
    "from pprint import pprint"
   ]
  },
  {
   "cell_type": "markdown",
   "metadata": {
    "colab_type": "text",
    "id": "aoUSHSmHw0bC"
   },
   "source": [
    "## Manipulating and Interpreting Probability\n",
    "\n",
    "Given the following *joint probability distribution*, $P(A,B)$, for $A$ and $B$,\n",
    "\n",
    "```\n",
    "|    | a1   | a2   |\n",
    "|----|------|------|\n",
    "| b1 | 0.37 | 0.16 |\n",
    "| b2 | 0.23 | ?    |\n",
    "```\n",
    "\n",
    "Answer the following questions.\n",
    "\n",
    "**1\\. What is $P(A=a2, B=b2)$?**"
   ]
  },
  {
   "cell_type": "markdown",
   "metadata": {
    "colab_type": "text",
    "id": "eLkEU6Gww0bF"
   },
   "source": [
    "All probability distributions sum to 1. If we take 1 and subtract out the probabilities for the events we do know about, we'll find the probability for the one event we don't know: 1 - 0.37 - 0.16 - 0.23 = ?"
   ]
  },
  {
   "cell_type": "code",
   "execution_count": 8,
   "metadata": {},
   "outputs": [
    {
     "name": "stdout",
     "output_type": "stream",
     "text": [
      "0.2400\n"
     ]
    }
   ],
   "source": [
    "print(f\"{1 - 0.37 - 0.16 - 0.23:.4f}\")"
   ]
  },
  {
   "cell_type": "markdown",
   "metadata": {},
   "source": [
    "The probability of $P(a2, b2)$ is 0.24"
   ]
  },
  {
   "cell_type": "markdown",
   "metadata": {},
   "source": [
    "<div style=\"background: lemonchiffon; margin:20px; padding: 20px;\">\n",
    "    <strong>Note</strong>\n",
    "    <p>Get used to this pattern: discuss/code/discuss. Except in the most obvious cases (some of which are below, because they're just math), there should always be dicussion then code then a discussion of the results. Get in the habit of making three (3) cells: markdown, code, markdown every. single. time. and filling them in.</p>\n",
    "    <p>We used the new format string syntax and <tt>print</tt> to get rid of the resulting quote marks. Normally, you don't need to use <tt>print</tt> on the last expression in a Jupyter notebook.</p>\n",
    "</div>\n",
    "\n",
    "\n",
    "<div style=\"background: peachpuff; margin:20px; padding: 20px;\">\n",
    "    <strong>Rubric</strong>\n",
    "    <p>When grading Problem Sets we look very closely at whether there is sufficient discussion both before and after the code. Insufficient discussion is cause for a B. Failure to discuss is cause for a C. Did you discuss what you were doing, both here and below?\n",
    "    </p>\n",
    "</div>"
   ]
  },
  {
   "cell_type": "markdown",
   "metadata": {
    "colab_type": "text",
    "id": "hBpDJLMBw0bH"
   },
   "source": [
    "**2\\. If I observe events from this probability distribution, what is the probability of seeing (a1, b1) then (a2, b2)?**"
   ]
  },
  {
   "cell_type": "markdown",
   "metadata": {},
   "source": [
    "The two observations are independent. The definition of independence: $P((a2,b2)|(a1,b1) = P((a2,b2))$ which means that observing the first event does not give me any additional information about the probability of the second event (it does not change how uncertain I am about (a2, b2) happening by modifying the base or *prior* probability).\n",
    "\n",
    "This does not mean, however, that A and B are independent; we're talking about the *joint* event and the *joint* probability.\n",
    "\n",
    "The probability of two independent events is the productive of their individual probabilities:"
   ]
  },
  {
   "cell_type": "code",
   "execution_count": 7,
   "metadata": {},
   "outputs": [
    {
     "name": "stdout",
     "output_type": "stream",
     "text": [
      "0.0888\n"
     ]
    }
   ],
   "source": [
    "print(f\"{0.37 * 0.24:.4f}\")"
   ]
  },
  {
   "cell_type": "markdown",
   "metadata": {
    "colab_type": "text",
    "id": "dNfPdLVaw0bJ"
   },
   "source": [
    "The probability of $P((a1, b1), (a2, b2))$ is 8.88%"
   ]
  },
  {
   "cell_type": "markdown",
   "metadata": {},
   "source": [
    "<div style=\"background: lemonchiffon; margin:20px; padding: 20px;\">\n",
    "    <strong>Note</strong>\n",
    "    <p>Generally, speaking we look for at least two decimal places. This means if you're going to convert to a percent, you need four decimal places. However, if the smallest difference of interest has more decimal places we use those many decimal places for all calucations.</p>\n",
    "    <p>It is tempting to write something like this:</p>\n",
    "</div>"
   ]
  },
  {
   "cell_type": "code",
   "execution_count": 4,
   "metadata": {},
   "outputs": [
    {
     "name": "stdout",
     "output_type": "stream",
     "text": [
      "the probability of (a1, b1) then (a2, b2) is 0.09\n"
     ]
    }
   ],
   "source": [
    "print( \"the probability of (a1, b1) then (a2, b2) is %.2f\" % (0.37 * 0.24))"
   ]
  },
  {
   "cell_type": "markdown",
   "metadata": {},
   "source": [
    "<div style=\"background: lemonchiffon; margin:20px; padding: 20px;\">\n",
    "    <p><strong>Don't do this.</strong></p>\n",
    "    <p>It's very strange to read because you read the code and the code has most of the text in it then some calculation. The code cell should only have the calculation.</p>\n",
    "    <p>There are plugins that allow you to reference variables inside Markdown cells. It's better to use those, although not for this class (so far). You can, when appropriate, generate tables using code.</p>\n",
    "</div>"
   ]
  },
  {
   "cell_type": "markdown",
   "metadata": {
    "colab_type": "text",
    "id": "TdY20dH3w0bK"
   },
   "source": [
    "**3\\. Calculate the marginal probability distribution, $P(A)$.**"
   ]
  },
  {
   "cell_type": "markdown",
   "metadata": {
    "colab_type": "text",
    "id": "DSEK8ToJw0bQ"
   },
   "source": [
    "<div style=\"background: lemonchiffon; margin:20px; padding: 20px;\">\n",
    "    <strong>Note</strong>\n",
    "    <p>There are any number of ways to answer this. Much of it depends on your decision about how you want to represent probability distributions. We're going to use Dicts.</p>\n",
    "</div>\n",
    "\n",
    "The probability distribution $P(A)$ is a marginal probability distribution of the joint $P(A, B)$:"
   ]
  },
  {
   "cell_type": "code",
   "execution_count": 5,
   "metadata": {},
   "outputs": [],
   "source": [
    "p = {\"a1\": {\"b1\": 0.37, \"b2\": 0.23}, \"a2\": {\"b1\": 0.16, \"b2\": 0.24}}"
   ]
  },
  {
   "cell_type": "markdown",
   "metadata": {},
   "source": [
    "<div style=\"background: peachpuff; margin:20px; padding: 20px;\">\n",
    "    <strong>Rubric</strong>\n",
    "    <p>Using patterns from <i>Fundamentals</i> demonstrates that you're paying attention and possibly understand what you're doing. Running off on your own, may lead to the right answer, but if it leads to the wrong answer, it's not clear that paid attention.</p>\n",
    "</div>\n",
    "\n",
    "Calculating $P(A)$ involves marginalizing B *out*. We can do this by summing the individual elements:"
   ]
  },
  {
   "cell_type": "code",
   "execution_count": 6,
   "metadata": {},
   "outputs": [
    {
     "name": "stdout",
     "output_type": "stream",
     "text": [
      "{'a1': 0.6, 'a2': 0.4}\n"
     ]
    }
   ],
   "source": [
    "p_a = {\"a1\": p[\"a1\"][\"b1\"] + p[\"a1\"][\"b2\"], \"a2\": p[\"a2\"][\"b1\"] + p[\"a2\"][\"b2\"]}\n",
    "pprint(p_a)"
   ]
  },
  {
   "cell_type": "markdown",
   "metadata": {},
   "source": [
    "<div style=\"background: peachpuff; margin:20px; padding: 20px;\">\n",
    "    <strong>Rubric</strong>\n",
    "    <p>In simple calculation problems like this, success is sufficient for an A but a wrong answer drops down into C territory.</p>\n",
    "</div>"
   ]
  },
  {
   "cell_type": "markdown",
   "metadata": {
    "colab_type": "text",
    "id": "wHmrDBRew0bS"
   },
   "source": [
    "**4\\. Calculate the marginal probability distribution, $P(B)$.**"
   ]
  },
  {
   "cell_type": "markdown",
   "metadata": {
    "colab_type": "text",
    "id": "p2JDyyBiw0bU"
   },
   "source": [
    "As with $P(A)$, $P(B)$ is involves marginalizing *A* out of $P(A B)$:"
   ]
  },
  {
   "cell_type": "code",
   "execution_count": 7,
   "metadata": {},
   "outputs": [
    {
     "name": "stdout",
     "output_type": "stream",
     "text": [
      "{'b1': 0.53, 'b2': 0.47}\n"
     ]
    }
   ],
   "source": [
    "p_b = {\"b1\": p[\"a1\"][\"b1\"] + p[\"a2\"][\"b1\"], \"b2\": p[\"a1\"][\"b2\"] + p[\"a2\"][\"b2\"]}\n",
    "pprint(p_b)"
   ]
  },
  {
   "cell_type": "markdown",
   "metadata": {
    "colab_type": "text",
    "id": "vqghXUoZw0bV"
   },
   "source": [
    "**5\\. Calculate the conditional probability distribution, $P(A|B)$.**"
   ]
  },
  {
   "cell_type": "markdown",
   "metadata": {
    "colab_type": "text",
    "id": "Wnh_1qdyw0bX"
   },
   "source": [
    "The calculation of a conditional probability for A creates a new probability distribution for each event in B. That is, instead of wanting to know $P(a1, b1)$ or $P(a2, b1)$, we want to know $P(a1|b1)$ and $P(a2|b1)$. Remember, conditional probability expresses the idea \"if we know that b1 happened, how does this change the probabilities of a1, a2, etc.\". We then do this for each possible value of B.\n",
    "\n",
    "The formula for conditional probability is:\n",
    "\n",
    "$$P(A|B) = \\frac{P(A, B)}{P(B)}$$"
   ]
  },
  {
   "cell_type": "code",
   "execution_count": 8,
   "metadata": {},
   "outputs": [
    {
     "name": "stdout",
     "output_type": "stream",
     "text": [
      "{'b1': {'a1': 0.6981132075471698, 'a2': 0.3018867924528302},\n",
      " 'b2': {'a1': 0.4893617021276596, 'a2': 0.5106382978723404}}\n"
     ]
    }
   ],
   "source": [
    "p_a_given_b = {\"b1\": {\"a1\": (p[\"a1\"][\"b1\"])/(p[\"a1\"][\"b1\"] + p[\"a2\"][\"b1\"]), \"a2\": (p[\"a2\"][\"b1\"])/(p[\"a1\"][\"b1\"] + p[\"a2\"][\"b1\"])},\n",
    "               \"b2\": {\"a1\": (p[\"a1\"][\"b2\"])/(p[\"a1\"][\"b2\"] + p[\"a2\"][\"b2\"]), \"a2\": (p[\"a2\"][\"b2\"])/(p[\"a1\"][\"b2\"] + p[\"a2\"][\"b2\"])}}\n",
    "pprint(p_a_given_b)"
   ]
  },
  {
   "cell_type": "markdown",
   "metadata": {},
   "source": [
    "<div style=\"background: lemonchiffon; margin:20px; padding: 20px;\">\n",
    "    <strong>Note</strong>\n",
    "    <p>At this point, printing a table is appropriate. Try not to just print out raw Python data structures, especially if someone else is going to read the notebook.</p>\n",
    "</div>"
   ]
  },
  {
   "cell_type": "markdown",
   "metadata": {},
   "source": [
    "\n",
    "<div style=\"background: peachpuff; margin:20px; padding: 20px;\">\n",
    "    <strong>Rubric</strong>\n",
    "    <p>Adding the relevant formulas demonstrates a thorough understanding.</p>\n",
    "</div>"
   ]
  },
  {
   "cell_type": "code",
   "execution_count": 9,
   "metadata": {},
   "outputs": [],
   "source": [
    "from tabulate import tabulate"
   ]
  },
  {
   "cell_type": "code",
   "execution_count": 10,
   "metadata": {},
   "outputs": [],
   "source": [
    "def unnest(pd):\n",
    "    \"\"\"\n",
    "    utility function to unnest a conditional probability distribution represented as Dicts\n",
    "    \"\"\"\n",
    "    result = []\n",
    "    for k, d in pd.items():\n",
    "        for j, val in d.items():\n",
    "            row = [k]\n",
    "            row.append(j)\n",
    "            row.append(val)\n",
    "            result.append(row)\n",
    "    return result"
   ]
  },
  {
   "cell_type": "markdown",
   "metadata": {},
   "source": [
    "<div style=\"background: lemonchiffon; margin:20px; padding: 20px;\">\n",
    "    <strong>Note</strong>\n",
    "    <p>If you do something more than thrice, go back and write a helper function to do it.</p>\n",
    "    <p>Helper functions just need a docstring so that the main notebook's flow of explanation of the investigation isn't broken and so that the help system will show the documentation.</p>\n",
    "    <p>Your helper functions should be short and sweet, doing only one thing, so that you can compose them. For this reason, it's better to resturn a string (much of the time) than to print the string and return nothing.</p>\n",
    "</div>"
   ]
  },
  {
   "cell_type": "code",
   "execution_count": 11,
   "metadata": {},
   "outputs": [
    {
     "data": {
      "text/html": [
       "<table>\n",
       "<thead>\n",
       "<tr><th>B  </th><th>A  </th><th style=\"text-align: right;\">  P(A|B)</th></tr>\n",
       "</thead>\n",
       "<tbody>\n",
       "<tr><td>b1 </td><td>a1 </td><td style=\"text-align: right;\">    0.70</td></tr>\n",
       "<tr><td>b1 </td><td>a2 </td><td style=\"text-align: right;\">    0.30</td></tr>\n",
       "<tr><td>b2 </td><td>a1 </td><td style=\"text-align: right;\">    0.49</td></tr>\n",
       "<tr><td>b2 </td><td>a2 </td><td style=\"text-align: right;\">    0.51</td></tr>\n",
       "</tbody>\n",
       "</table>"
      ],
      "text/plain": [
       "'<table>\\n<thead>\\n<tr><th>B  </th><th>A  </th><th style=\"text-align: right;\">  P(A|B)</th></tr>\\n</thead>\\n<tbody>\\n<tr><td>b1 </td><td>a1 </td><td style=\"text-align: right;\">    0.70</td></tr>\\n<tr><td>b1 </td><td>a2 </td><td style=\"text-align: right;\">    0.30</td></tr>\\n<tr><td>b2 </td><td>a1 </td><td style=\"text-align: right;\">    0.49</td></tr>\\n<tr><td>b2 </td><td>a2 </td><td style=\"text-align: right;\">    0.51</td></tr>\\n</tbody>\\n</table>'"
      ]
     },
     "execution_count": 11,
     "metadata": {},
     "output_type": "execute_result"
    }
   ],
   "source": [
    "tabulate(unnest(p_a_given_b), headers=[\"B\", \"A\", \"P(A|B)\"], tablefmt=\"html\", floatfmt=\".2f\")"
   ]
  },
  {
   "cell_type": "markdown",
   "metadata": {},
   "source": [
    "<div style=\"background: lemonchiffon; margin:20px; padding: 20px;\">\n",
    "    <strong>Note</strong>\n",
    "    <p>If we were calculating a conditional probability distribution for a reason, we would discuss what we found out here. For example, the Titanic questions below.</p>\n",
    "    <p>Two decimal places is normally sufficient, unless that renders the values indistinguishable. If the values are indishtinguishable, increase the decimal places. Find out how to control this in tabulate and pandas. Always show sufficient decimal places appropriate to the problem (a difference of 0.0000001 might not be a difference that makes a difference) and that doesn't mislead (if a difference of 0.00001 matters then don't show that a = 0.0000 and b = 0.0000, expand each by one more decimal place).</p>\n",
    "</div>\n",
    "\n",
    "\n",
    "<div style=\"background: peachpuff; margin:20px; padding: 20px;\">\n",
    "    <strong>Rubric</strong>\n",
    "    <p>\n",
    "        You should always format your results as nicely as possible. In some cases, this can be the difference between an A and a B. Did you format your results here and below?\n",
    "    </p>\n",
    "</div>"
   ]
  },
  {
   "cell_type": "markdown",
   "metadata": {
    "colab_type": "text",
    "id": "dgKCDL4-w0bY"
   },
   "source": [
    "**6\\. Calculate the conditional probability distribution, $P(B|A)$.**"
   ]
  },
  {
   "cell_type": "markdown",
   "metadata": {},
   "source": [
    "The formula for this conditional probability is:\n",
    "\n",
    "$$P(B|A) = \\frac{P(A, B)}{P(A)}$$"
   ]
  },
  {
   "cell_type": "markdown",
   "metadata": {},
   "source": [
    "\n",
    "<div style=\"background: lemonchiffon; margin:20px; padding: 20px;\">\n",
    "    <strong>Important</strong>\n",
    "    <p>\n",
    "        Should the numerator be P(B, A)? It doesn't matter. The \"and\" implies a set and sets are unordered.\n",
    "    </p>\n",
    "</div>"
   ]
  },
  {
   "cell_type": "code",
   "execution_count": 12,
   "metadata": {
    "colab_type": "text",
    "id": "lD3r4Xhgw0ba"
   },
   "outputs": [],
   "source": [
    "p_b_given_a = {\"a1\": {\"b1\": (p[\"a1\"][\"b1\"])/(p[\"a1\"][\"b1\"] + p[\"a1\"][\"b2\"]), \"b2\": (p[\"a1\"][\"b2\"])/(p[\"a1\"][\"b1\"] + p[\"a1\"][\"b2\"])}, \n",
    "               \"a2\": {\"b1\": (p[\"a2\"][\"b1\"])/(p[\"a2\"][\"b1\"] + p[\"a2\"][\"b2\"]), \"b2\": (p[\"a2\"][\"b2\"])/(p[\"a2\"][\"b1\"] + p[\"a2\"][\"b2\"])}}"
   ]
  },
  {
   "cell_type": "code",
   "execution_count": 13,
   "metadata": {},
   "outputs": [
    {
     "data": {
      "text/html": [
       "<table>\n",
       "<thead>\n",
       "<tr><th>A  </th><th>B  </th><th style=\"text-align: right;\">  P(B|A)</th></tr>\n",
       "</thead>\n",
       "<tbody>\n",
       "<tr><td>a1 </td><td>b1 </td><td style=\"text-align: right;\">    0.62</td></tr>\n",
       "<tr><td>a1 </td><td>b2 </td><td style=\"text-align: right;\">    0.38</td></tr>\n",
       "<tr><td>a2 </td><td>b1 </td><td style=\"text-align: right;\">    0.40</td></tr>\n",
       "<tr><td>a2 </td><td>b2 </td><td style=\"text-align: right;\">    0.60</td></tr>\n",
       "</tbody>\n",
       "</table>"
      ],
      "text/plain": [
       "'<table>\\n<thead>\\n<tr><th>A  </th><th>B  </th><th style=\"text-align: right;\">  P(B|A)</th></tr>\\n</thead>\\n<tbody>\\n<tr><td>a1 </td><td>b1 </td><td style=\"text-align: right;\">    0.62</td></tr>\\n<tr><td>a1 </td><td>b2 </td><td style=\"text-align: right;\">    0.38</td></tr>\\n<tr><td>a2 </td><td>b1 </td><td style=\"text-align: right;\">    0.40</td></tr>\\n<tr><td>a2 </td><td>b2 </td><td style=\"text-align: right;\">    0.60</td></tr>\\n</tbody>\\n</table>'"
      ]
     },
     "execution_count": 13,
     "metadata": {},
     "output_type": "execute_result"
    }
   ],
   "source": [
    "tabulate(unnest(p_b_given_a), headers=[\"A\", \"B\", \"P(B|A)\"], tablefmt=\"html\", floatfmt=\".2f\")"
   ]
  },
  {
   "cell_type": "markdown",
   "metadata": {
    "colab_type": "text",
    "id": "CdjtfwHaw0bc"
   },
   "source": [
    "**7\\. Does $P(A|B) = P(B|A)$? What do we call the belief that these are always equal?**"
   ]
  },
  {
   "cell_type": "markdown",
   "metadata": {
    "colab_type": "text",
    "id": "QkH-Un_Cw0bd",
    "jupyter": {
     "source_hidden": true
    },
    "tags": []
   },
   "source": [
    "\n",
    "<div style=\"background: lemonchiffon; margin:20px; padding: 20px;\">\n",
    "    <strong>Important</strong>\n",
    "    <p>\n",
    "This question can potentially be a bit confusing because if you look at the *table* that each of these represents, they don't exactly line up. What is we are really asking is if <tt>P(a1|b1)</tt> is equal to <tt>P(b1|a1)</tt>, etc.\n",
    "    </p>\n",
    "</div>\n",
    "\n",
    "By looking at the two sets of results, we can see that the corresponding entries are definitely not equal. For example, P(a1|b1) = 0.62 and P(b1|a1) = 0.70, P(a1|b2) = 0.4 and P(b2|a1) = 0.3.\n",
    "\n",
    "The belief that these are always equal is the **inverse probability fallacy**.\n",
    "\n",
    "\n",
    "<div style=\"background: peachpuff; margin:20px; padding: 20px;\">\n",
    "    <strong>Rubric</strong>\n",
    "    <p>It's important to make a specific reference to the values here rather than saying \"as you can see above\".</p>\n",
    "</div>"
   ]
  },
  {
   "cell_type": "markdown",
   "metadata": {
    "colab_type": "text",
    "id": "-SglgfKUw0be"
   },
   "source": [
    "**8\\. Does $P(A) = P(A|B)$? What does that mean about the independence of $A$ and $B$?**"
   ]
  },
  {
   "cell_type": "markdown",
   "metadata": {
    "colab_type": "text",
    "id": "DxMlSSIEw0bf"
   },
   "source": [
    "The definition of indepencence is that P(A) = P(A|B). Since P(a1) = 0.60 and P(a1|b1) = 0.70, they are not equal and this means that A and B are not independent. \n",
    "\n",
    "\n",
    "<div style=\"background: peachpuff; margin:20px; padding: 20px;\">\n",
    "    <strong>Rubric</strong>\n",
    "    <p>\n",
    "        This is a full answer, worthy of an A. Anything less would be a B or lower. An incorrect answer would be a C.\n",
    "    </p>\n",
    "</div>\n",
    "\n",
    "<div style=\"background: lemonchiffon; margin:20px; padding: 20px;\">\n",
    "    <strong>Important</strong>\n",
    "    <p>\n",
    "You can test your understanding by creating a joint probability P(A, B) where they are independent. Start with A and B as two flips of a fair coin and then try to come up with a more interesting example.    </p>\n",
    "</div>\n"
   ]
  },
  {
   "cell_type": "markdown",
   "metadata": {
    "colab_type": "text",
    "id": "p67gfq-Jw0bg"
   },
   "source": [
    "**9\\. Using $P(A)$, $P(B|A)$, $P(B)$ from above, calculate,**\n",
    "\n",
    "$P(A|B) = \\frac{P(B|A)P(A)}{P(B)}$\n",
    "\n",
    "Does it match your previous calculation for $P(A|B)$?"
   ]
  },
  {
   "cell_type": "markdown",
   "metadata": {
    "colab_type": "text",
    "id": "jUcxPvZFw0bh"
   },
   "source": [
    "We have everything we need from our previous calculations: $P(B|A)$, $P(A)$, and $P(B)$, we just need to do the calculation:"
   ]
  },
  {
   "cell_type": "code",
   "execution_count": 14,
   "metadata": {},
   "outputs": [],
   "source": [
    "bayes = {\"b1\": {\"a1\": (p_b_given_a[\"a1\"][\"b1\"]*p_a[\"a1\"]/p_b[\"b1\"]),\n",
    "                \"a2\": (p_b_given_a[\"a2\"][\"b1\"]*p_a[\"a2\"]/p_b[\"b1\"])},\n",
    "         \"b2\": {\"a1\": (p_b_given_a[\"a1\"][\"b2\"]*p_a[\"a1\"]/p_b[\"b2\"]),\n",
    "                \"a2\": (p_b_given_a[\"a2\"][\"b2\"]*p_a[\"a2\"]/p_b[\"b2\"])}}"
   ]
  },
  {
   "cell_type": "markdown",
   "metadata": {},
   "source": [
    "Here's $P(A|B)$ we calculated using Bayes Rule:"
   ]
  },
  {
   "cell_type": "code",
   "execution_count": 15,
   "metadata": {},
   "outputs": [
    {
     "data": {
      "text/html": [
       "<table>\n",
       "<thead>\n",
       "<tr><th>B  </th><th>A  </th><th style=\"text-align: right;\">  P(A|B)</th></tr>\n",
       "</thead>\n",
       "<tbody>\n",
       "<tr><td>b1 </td><td>a1 </td><td style=\"text-align: right;\">    0.70</td></tr>\n",
       "<tr><td>b1 </td><td>a2 </td><td style=\"text-align: right;\">    0.30</td></tr>\n",
       "<tr><td>b2 </td><td>a1 </td><td style=\"text-align: right;\">    0.49</td></tr>\n",
       "<tr><td>b2 </td><td>a2 </td><td style=\"text-align: right;\">    0.51</td></tr>\n",
       "</tbody>\n",
       "</table>"
      ],
      "text/plain": [
       "'<table>\\n<thead>\\n<tr><th>B  </th><th>A  </th><th style=\"text-align: right;\">  P(A|B)</th></tr>\\n</thead>\\n<tbody>\\n<tr><td>b1 </td><td>a1 </td><td style=\"text-align: right;\">    0.70</td></tr>\\n<tr><td>b1 </td><td>a2 </td><td style=\"text-align: right;\">    0.30</td></tr>\\n<tr><td>b2 </td><td>a1 </td><td style=\"text-align: right;\">    0.49</td></tr>\\n<tr><td>b2 </td><td>a2 </td><td style=\"text-align: right;\">    0.51</td></tr>\\n</tbody>\\n</table>'"
      ]
     },
     "execution_count": 15,
     "metadata": {},
     "output_type": "execute_result"
    }
   ],
   "source": [
    "tabulate(unnest(bayes), headers=[\"B\", \"A\", \"P(A|B)\"], tablefmt=\"html\", floatfmt=\".2f\")"
   ]
  },
  {
   "cell_type": "markdown",
   "metadata": {},
   "source": [
    "Here's $P(A|B)$ we calculated by using the joint probability $P(A,B)$:"
   ]
  },
  {
   "cell_type": "code",
   "execution_count": 16,
   "metadata": {},
   "outputs": [
    {
     "data": {
      "text/html": [
       "<table>\n",
       "<thead>\n",
       "<tr><th>B  </th><th>A  </th><th style=\"text-align: right;\">  P(A|B)</th></tr>\n",
       "</thead>\n",
       "<tbody>\n",
       "<tr><td>b1 </td><td>a1 </td><td style=\"text-align: right;\">    0.70</td></tr>\n",
       "<tr><td>b1 </td><td>a2 </td><td style=\"text-align: right;\">    0.30</td></tr>\n",
       "<tr><td>b2 </td><td>a1 </td><td style=\"text-align: right;\">    0.49</td></tr>\n",
       "<tr><td>b2 </td><td>a2 </td><td style=\"text-align: right;\">    0.51</td></tr>\n",
       "</tbody>\n",
       "</table>"
      ],
      "text/plain": [
       "'<table>\\n<thead>\\n<tr><th>B  </th><th>A  </th><th style=\"text-align: right;\">  P(A|B)</th></tr>\\n</thead>\\n<tbody>\\n<tr><td>b1 </td><td>a1 </td><td style=\"text-align: right;\">    0.70</td></tr>\\n<tr><td>b1 </td><td>a2 </td><td style=\"text-align: right;\">    0.30</td></tr>\\n<tr><td>b2 </td><td>a1 </td><td style=\"text-align: right;\">    0.49</td></tr>\\n<tr><td>b2 </td><td>a2 </td><td style=\"text-align: right;\">    0.51</td></tr>\\n</tbody>\\n</table>'"
      ]
     },
     "execution_count": 16,
     "metadata": {},
     "output_type": "execute_result"
    }
   ],
   "source": [
    "tabulate(unnest(p_a_given_b), headers=[\"B\", \"A\", \"P(A|B)\"], tablefmt=\"html\", floatfmt=\".2f\")"
   ]
  },
  {
   "cell_type": "markdown",
   "metadata": {},
   "source": [
    "They're the same."
   ]
  },
  {
   "cell_type": "markdown",
   "metadata": {
    "colab_type": "text",
    "id": "7EeMKnxIw0bi"
   },
   "source": [
    "**10\\. If we let A = H (some condition, characteristic, hypothesis) and B = D (some data, evidence, a test result), then how do we interpret each of the following: $P(H)$, $P(D)$, $P(H|D)$, $P(D|H)$, $P(H, D)$?**"
   ]
  },
  {
   "cell_type": "markdown",
   "metadata": {
    "colab_type": "text",
    "id": "qpeGvo4Kw0bm"
   },
   "source": [
    "$P(H)$ - prior distribution (prior probability of the hypothesis). This is how likely we think each hypothesis is before we see the *new* evidence. The prior may be the posterior distribution from previous experiments.\n",
    "\n",
    "$P(D)$ - probability of the data. It's the normalizer that turns all our calculations of the numerator back into proper probabilities. We do not usually have this information and must use Total Probability to calculate it.\n",
    "\n",
    "$P(H|D)$ - posterior distribution (posterior probability of the hypothesis). This is how likely we think each hypothesis is after we have taken the *new* evidence into account. It may form the prior of future experiments.\n",
    "\n",
    "$P(D|H)$ - likelihood (probability of the data given the hypothesis). Basically this is the probability of the data under each possible hypothesis but we look at it the other way (from data to hypothesis).\n",
    "\n",
    "$P(H, D)$ - the joint probability of the data and hypotheses. This is not part of Bayes Rule."
   ]
  },
  {
   "cell_type": "markdown",
   "metadata": {},
   "source": [
    "\n",
    "<div style=\"background: peachpuff; margin:20px; padding: 20px;\">\n",
    "    <strong>Rubric</strong>\n",
    "    <p>This is a full \"A\" answer. As more details are omitted, the grade drops.</p>\n",
    "</div>"
   ]
  },
  {
   "cell_type": "markdown",
   "metadata": {
    "colab_type": "text",
    "id": "EnYagt27w0bo"
   },
   "source": [
    "## Bayes Rule\n",
    "\n",
    "Bayes Rule will be an important part of our toolset in the weeks to come, especially in terms of Bayesian Inference. Work through the following problems in Bayes Rule."
   ]
  },
  {
   "cell_type": "markdown",
   "metadata": {
    "colab_type": "text",
    "id": "oL8kmom4w0bp"
   },
   "source": [
    "### Problem 1 (Regular)\n",
    "\n",
    "You might be interested in the relationship between alcoholism and liver disease, in which case “being an alcoholic” (or not) is a test (evidence for) for liver disease (or not).\n",
    "\n",
    "Let `D` be the presence or absence of liver disease (`d` they have it; `~d`, \"not d\", they don't). Past data tells you that 10% of patients entering your clinic have liver disease. Let `A` be alcoholic (`a`) or not alcoholic (`~a`). 5% of the clinic’s patients are alcoholics.\n",
    "\n",
    "You know that among those patients diagnosed with liver disease, 7% are alcoholics and among those without liver disease, 95.2% are non-alcoholics.\n",
    "\n",
    "<div style=\"background: lemonchiffon; margin:20px; padding: 20px;\">\n",
    "    <strong>Note</strong>\n",
    "    <p>For multi-part questions, make sure you have answered every part and clearly indicate what part you're answering.</p>\n",
    "    <p>If they aren't provided, you can even add cells in between the parts.</p>\n",
    "</div>\n",
    "\n",
    "1. What is Bayes Rule for this problem? (write it out symbolically)"
   ]
  },
  {
   "cell_type": "markdown",
   "metadata": {},
   "source": [
    "$P(D|A) = \\frac{P(A|D)P(D)}{P(A)}$"
   ]
  },
  {
   "cell_type": "markdown",
   "metadata": {},
   "source": [
    "\n",
    "<div style=\"background: lemonchiffon; margin:20px; padding: 20px;\">\n",
    "    <strong>Important</strong>\n",
    "    <p>\n",
    "        There is a tendency to answer only <tt>P(d|a)</tt> instead of <tt>P(D|A)</tt>. Always assume you need to calculate the full conditional probability distribution.\n",
    "    </p>\n",
    "</div>"
   ]
  },
  {
   "cell_type": "markdown",
   "metadata": {},
   "source": [
    "\n",
    "<div style=\"background: peachpuff; margin:20px; padding: 20px;\">\n",
    "    <strong>Rubric</strong>\n",
    "    <p>A wrong step here can mean a completely wrong, incomplete answer. The clue is the specification of the sets D and A.</p>\n",
    "</div>"
   ]
  },
  {
   "cell_type": "markdown",
   "metadata": {
    "colab_type": "text",
    "id": "oL8kmom4w0bp"
   },
   "source": [
    "2. From the above word problem, what values of Bayes Rule do you have? Which ones are missing?\n",
    "\n",
    "We have:\n",
    "\n",
    "* P(d) = 0.10\n",
    "* P(a) = 0.05\n",
    "* P(a|d) = 0.07\n",
    "* P(\\~a|\\~d) = 0.952\n",
    "\n",
    "We're missing P(\\~d), P(\\~a), P(\\~a|d), P(a|\\~d)."
   ]
  },
  {
   "cell_type": "markdown",
   "metadata": {
    "colab_type": "text",
    "id": "oL8kmom4w0bp"
   },
   "source": [
    "3. Calculate the missing values."
   ]
  },
  {
   "cell_type": "markdown",
   "metadata": {},
   "source": [
    "P(\\~d) = 1 - P(d) = 1 - 0.10 = 0.90\n",
    "\n",
    "P(\\~a) = 1 - P(a) = 1 - 0.0.5 = 0.95\n",
    "\n",
    "P(\\~a|d) = 1 - P(a|d) = 1 - 0.07 = 0.93\n",
    "\n",
    "P(a|\\~d) = 1 - P(\\~a|\\~d) = 1 - 0.952 = 0.048"
   ]
  },
  {
   "cell_type": "markdown",
   "metadata": {
    "colab_type": "text",
    "id": "oL8kmom4w0bp"
   },
   "source": [
    "4. Calculate the posterior probability *distributions* using Bayes Rule."
   ]
  },
  {
   "cell_type": "markdown",
   "metadata": {},
   "source": [
    "We can use the code from *Fundamentals* if we get everything in the right shape."
   ]
  },
  {
   "cell_type": "code",
   "execution_count": 17,
   "metadata": {},
   "outputs": [],
   "source": [
    "def normalize( dist):\n",
    "    normalizer = sum( dist.values())\n",
    "    for k in dist.keys():\n",
    "        dist[ k] = dist[ k] / normalizer\n",
    "    return dist # don't need to do this.\n",
    "\n",
    "def query( prior, likelihoods, evidence):\n",
    "    posterior = {}\n",
    "    for k in prior.keys():\n",
    "        posterior[ k] = likelihoods[ k][ evidence] * prior[ k]\n",
    "    normalize( posterior)\n",
    "    return posterior"
   ]
  },
  {
   "cell_type": "code",
   "execution_count": 18,
   "metadata": {},
   "outputs": [],
   "source": [
    "p_d = {\"~d\": 0.90, \"d\": 0.10}\n",
    "p_a_given_d = {\"~d\": {\"a\": 0.048, \"~a\": 0.952},\n",
    "               \"d\": {\"a\": 0.07, \"~a\": 0.93}}"
   ]
  },
  {
   "cell_type": "code",
   "execution_count": 19,
   "metadata": {},
   "outputs": [
    {
     "data": {
      "text/html": [
       "<table>\n",
       "<thead>\n",
       "<tr><th>D  </th><th>A  </th><th style=\"text-align: right;\">  P(A|D)</th></tr>\n",
       "</thead>\n",
       "<tbody>\n",
       "<tr><td>~d </td><td>a  </td><td style=\"text-align: right;\">    0.05</td></tr>\n",
       "<tr><td>~d </td><td>~a </td><td style=\"text-align: right;\">    0.95</td></tr>\n",
       "<tr><td>d  </td><td>a  </td><td style=\"text-align: right;\">    0.07</td></tr>\n",
       "<tr><td>d  </td><td>~a </td><td style=\"text-align: right;\">    0.93</td></tr>\n",
       "</tbody>\n",
       "</table>"
      ],
      "text/plain": [
       "'<table>\\n<thead>\\n<tr><th>D  </th><th>A  </th><th style=\"text-align: right;\">  P(A|D)</th></tr>\\n</thead>\\n<tbody>\\n<tr><td>~d </td><td>a  </td><td style=\"text-align: right;\">    0.05</td></tr>\\n<tr><td>~d </td><td>~a </td><td style=\"text-align: right;\">    0.95</td></tr>\\n<tr><td>d  </td><td>a  </td><td style=\"text-align: right;\">    0.07</td></tr>\\n<tr><td>d  </td><td>~a </td><td style=\"text-align: right;\">    0.93</td></tr>\\n</tbody>\\n</table>'"
      ]
     },
     "execution_count": 19,
     "metadata": {},
     "output_type": "execute_result"
    }
   ],
   "source": [
    "tabulate(unnest(p_a_given_d), headers=[\"D\", \"A\", \"P(A|D)\"], tablefmt=\"html\", floatfmt=\".2f\")"
   ]
  },
  {
   "cell_type": "code",
   "execution_count": 20,
   "metadata": {},
   "outputs": [],
   "source": [
    "bayes_d_a = {\"a\": query(p_d, p_a_given_d, \"a\"),\n",
    "            \"~a\": query(p_d, p_a_given_d, \"~a\")}"
   ]
  },
  {
   "cell_type": "code",
   "execution_count": 21,
   "metadata": {},
   "outputs": [
    {
     "data": {
      "text/html": [
       "<table>\n",
       "<thead>\n",
       "<tr><th>A  </th><th>D  </th><th style=\"text-align: right;\">  P(D|A)</th></tr>\n",
       "</thead>\n",
       "<tbody>\n",
       "<tr><td>a  </td><td>~d </td><td style=\"text-align: right;\">    0.86</td></tr>\n",
       "<tr><td>a  </td><td>d  </td><td style=\"text-align: right;\">    0.14</td></tr>\n",
       "<tr><td>~a </td><td>~d </td><td style=\"text-align: right;\">    0.90</td></tr>\n",
       "<tr><td>~a </td><td>d  </td><td style=\"text-align: right;\">    0.10</td></tr>\n",
       "</tbody>\n",
       "</table>"
      ],
      "text/plain": [
       "'<table>\\n<thead>\\n<tr><th>A  </th><th>D  </th><th style=\"text-align: right;\">  P(D|A)</th></tr>\\n</thead>\\n<tbody>\\n<tr><td>a  </td><td>~d </td><td style=\"text-align: right;\">    0.86</td></tr>\\n<tr><td>a  </td><td>d  </td><td style=\"text-align: right;\">    0.14</td></tr>\\n<tr><td>~a </td><td>~d </td><td style=\"text-align: right;\">    0.90</td></tr>\\n<tr><td>~a </td><td>d  </td><td style=\"text-align: right;\">    0.10</td></tr>\\n</tbody>\\n</table>'"
      ]
     },
     "execution_count": 21,
     "metadata": {},
     "output_type": "execute_result"
    }
   ],
   "source": [
    "tabulate(unnest(bayes_d_a), headers=[\"A\", \"D\", \"P(D|A)\"], tablefmt=\"html\", floatfmt=\".2f\")"
   ]
  },
  {
   "cell_type": "markdown",
   "metadata": {},
   "source": [
    "<div style=\"background: lemonchiffon; margin:20px; padding: 20px;\">\n",
    "    <strong>Note</strong>\n",
    "    <p>This is probably the only assignment (or type of assignment) in the class where there will be a lot of calculations.</p>\n",
    "</div>"
   ]
  },
  {
   "cell_type": "markdown",
   "metadata": {
    "colab_type": "text",
    "id": "oL8kmom4w0bp"
   },
   "source": [
    "5. Describe what each individual posterior probability means *in words*."
   ]
  },
  {
   "cell_type": "markdown",
   "metadata": {
    "colab_type": "text",
    "id": "qL5KnyVsw0bq"
   },
   "source": [
    "1. `P(~d|a)` = 0.86 - the probability that an alcoholic does not have liver disease.\n",
    "2. `P(d|a)` = 0.14 - the probability that an alcoholic does have liver disease (compare to the prior probability of 0.10)\n",
    "3. `P(~d|~a)` = 0.90 - the probability that a non-alcoholic does not have liver disease.\n",
    "4. `P(d|~a)` = 0.10 - the probability that a non-alcoholic does have liver disease"
   ]
  },
  {
   "cell_type": "markdown",
   "metadata": {},
   "source": [
    "<div style=\"background: lemonchiffon; margin:20px; padding: 20px;\">\n",
    "    <strong>Note</strong>\n",
    "    <p>Whether you express the probability \"0.01\" as 0.01 or 1% is up to you but be consistent.</p>\n",
    "</div>\n",
    "\n",
    "\n",
    "<div style=\"background: peachpuff; margin:20px; padding: 20px;\">\n",
    "    <strong>Rubric</strong>\n",
    "    <p>First, the descriptions are as important as the calculations. You need to be able to describe your results and what they mean to people in your organization. Second, we do not mean the generic Bayes Rule descriptions, we mean \"what do these quantities mean in the real world for the problem?\"</p>\n",
    "</div>"
   ]
  },
  {
   "cell_type": "markdown",
   "metadata": {
    "colab_type": "text",
    "id": "Wf1S_QSIw0br"
   },
   "source": [
    "### Problem 2 (Harder)\n",
    "\n",
    "In a particular pain clinic, 10% of patients are prescribed narcotic pain killers. Overall, five percent of the clinic’s patients are addicted to narcotics (including pain killers and illegal substances). Out of all the people prescribed pain pills, 8% are addicts.  What is the relationship between addiction and pain pill prescriptions?\n",
    "\n",
    "1. What is Bayes Rule for this problem? (write it out symbolically)"
   ]
  },
  {
   "cell_type": "markdown",
   "metadata": {},
   "source": [
    "$P(K|A) = \\frac{P(A|K)P(K)}{P(A)}$"
   ]
  },
  {
   "cell_type": "markdown",
   "metadata": {
    "colab_type": "text",
    "id": "Wf1S_QSIw0br"
   },
   "source": [
    "2. From the above word problem, what values of Bayes Rule do you have? Which ones are missing?"
   ]
  },
  {
   "cell_type": "markdown",
   "metadata": {},
   "source": [
    "1. $P(K)$ = [0.1, ?]\n",
    "2. $P(A)$ = [0.05, ?]\n",
    "3. $P(A|k)$ = [0.08, ?]"
   ]
  },
  {
   "cell_type": "markdown",
   "metadata": {
    "colab_type": "text",
    "id": "Wf1S_QSIw0br"
   },
   "source": [
    "3. Calculate the missing values."
   ]
  },
  {
   "cell_type": "markdown",
   "metadata": {},
   "source": [
    "1. $P(K)$ = [0.1, 0.9]\n",
    "2. $P(A)$ = [0.05, 0.95]\n",
    "3. $P(A|k)$ = [0.08, 0.92]"
   ]
  },
  {
   "cell_type": "markdown",
   "metadata": {},
   "source": [
    "We don't have all the likelihoods we need. However, we can derive it in this case using Total Probability and the 3rd Axiom of Probability.\n",
    "\n",
    "`P(a) = P(a|k)P(k) + P(a|~k)P(~k)`\n",
    "\n",
    "`P(~a) = P(~a|k)P(k) + P(~a|~k)P(~k)`\n",
    "\n",
    "Our unknowns are `P(a|~k)` and `P(~a|~k)`.\n",
    "\n",
    "Solving for the unknowns we have:\n",
    "\n",
    "`P(a|~k) = (P(a) - P(a|k)P(k))/P(~k)`\n",
    "\n",
    "`P(~a|~k) = (P(~a) - P(~a|k)P(k))/P(~k)`\n",
    "\n",
    "Substituting from the problem, we have:\n",
    "\n",
    "`P(a|~k) = (0.05 - 0.08*0.1)/0.90 ~= 0.047`\n",
    "\n",
    "`P(~a|~k) = (0.95 - 0.92*0.1)/0.90 ~= 0.953`\n",
    "\n",
    "\n",
    "<div style=\"background: lemonchiffon; margin:20px; padding: 20px;\">\n",
    "    <strong>Important</strong>\n",
    "    <p>\n",
    "        The challenge here is understanding what information you have and what information you're missing, how they relate to each other, and identifying that you can solve for the missing information by solving for the unknowns.\n",
    "    </p>\n",
    "</div>"
   ]
  },
  {
   "cell_type": "markdown",
   "metadata": {
    "colab_type": "text",
    "id": "Wf1S_QSIw0br"
   },
   "source": [
    "4. Calculate the posterior probability *distributions* using Bayes Rule."
   ]
  },
  {
   "cell_type": "code",
   "execution_count": 22,
   "metadata": {},
   "outputs": [],
   "source": [
    "p_k = {\"k\": 0.1, \"~k\": 0.9}\n",
    "p_a_given_k = {\"k\": {\"a\": 0.08, \"~a\": 0.92}, \"~k\": {\"a\": 0.047, \"~a\": 0.953}}"
   ]
  },
  {
   "cell_type": "code",
   "execution_count": 23,
   "metadata": {},
   "outputs": [
    {
     "data": {
      "text/html": [
       "<table>\n",
       "<thead>\n",
       "<tr><th>K  </th><th>A  </th><th style=\"text-align: right;\">  P(A|K)</th></tr>\n",
       "</thead>\n",
       "<tbody>\n",
       "<tr><td>k  </td><td>a  </td><td style=\"text-align: right;\">    0.08</td></tr>\n",
       "<tr><td>k  </td><td>~a </td><td style=\"text-align: right;\">    0.92</td></tr>\n",
       "<tr><td>~k </td><td>a  </td><td style=\"text-align: right;\">    0.05</td></tr>\n",
       "<tr><td>~k </td><td>~a </td><td style=\"text-align: right;\">    0.95</td></tr>\n",
       "</tbody>\n",
       "</table>"
      ],
      "text/plain": [
       "'<table>\\n<thead>\\n<tr><th>K  </th><th>A  </th><th style=\"text-align: right;\">  P(A|K)</th></tr>\\n</thead>\\n<tbody>\\n<tr><td>k  </td><td>a  </td><td style=\"text-align: right;\">    0.08</td></tr>\\n<tr><td>k  </td><td>~a </td><td style=\"text-align: right;\">    0.92</td></tr>\\n<tr><td>~k </td><td>a  </td><td style=\"text-align: right;\">    0.05</td></tr>\\n<tr><td>~k </td><td>~a </td><td style=\"text-align: right;\">    0.95</td></tr>\\n</tbody>\\n</table>'"
      ]
     },
     "execution_count": 23,
     "metadata": {},
     "output_type": "execute_result"
    }
   ],
   "source": [
    "tabulate(unnest(p_a_given_k), headers=[\"K\", \"A\", \"P(A|K)\"], tablefmt=\"html\", floatfmt=\".2f\")"
   ]
  },
  {
   "cell_type": "code",
   "execution_count": 24,
   "metadata": {},
   "outputs": [],
   "source": [
    "bayes_k_a = {\"a\": query(p_k, p_a_given_k, \"a\"),\n",
    "             \"~a\": query(p_k, p_a_given_k, \"~a\")}"
   ]
  },
  {
   "cell_type": "code",
   "execution_count": 25,
   "metadata": {},
   "outputs": [
    {
     "data": {
      "text/html": [
       "<table>\n",
       "<thead>\n",
       "<tr><th>A  </th><th>K  </th><th style=\"text-align: right;\">  P(K|A)</th></tr>\n",
       "</thead>\n",
       "<tbody>\n",
       "<tr><td>a  </td><td>k  </td><td style=\"text-align: right;\">    0.16</td></tr>\n",
       "<tr><td>a  </td><td>~k </td><td style=\"text-align: right;\">    0.84</td></tr>\n",
       "<tr><td>~a </td><td>k  </td><td style=\"text-align: right;\">    0.10</td></tr>\n",
       "<tr><td>~a </td><td>~k </td><td style=\"text-align: right;\">    0.90</td></tr>\n",
       "</tbody>\n",
       "</table>"
      ],
      "text/plain": [
       "'<table>\\n<thead>\\n<tr><th>A  </th><th>K  </th><th style=\"text-align: right;\">  P(K|A)</th></tr>\\n</thead>\\n<tbody>\\n<tr><td>a  </td><td>k  </td><td style=\"text-align: right;\">    0.16</td></tr>\\n<tr><td>a  </td><td>~k </td><td style=\"text-align: right;\">    0.84</td></tr>\\n<tr><td>~a </td><td>k  </td><td style=\"text-align: right;\">    0.10</td></tr>\\n<tr><td>~a </td><td>~k </td><td style=\"text-align: right;\">    0.90</td></tr>\\n</tbody>\\n</table>'"
      ]
     },
     "execution_count": 25,
     "metadata": {},
     "output_type": "execute_result"
    }
   ],
   "source": [
    "tabulate(unnest(bayes_k_a), headers=[\"A\", \"K\", \"P(K|A)\"], tablefmt=\"html\", floatfmt=\".2f\")"
   ]
  },
  {
   "cell_type": "markdown",
   "metadata": {
    "colab_type": "text",
    "id": "Wf1S_QSIw0br"
   },
   "source": [
    "5. Describe what each individual posterior probability means *in words*."
   ]
  },
  {
   "cell_type": "markdown",
   "metadata": {
    "colab_type": "text",
    "id": "igoRDGJww0bs"
   },
   "source": [
    "1. `P(k|a)` = 0.159 - the probability of a pain killer prescription given the patient is an addict. This is higher than the prior of 10%.\n",
    "2. `P(~k|a)` = 0.841 - the probability of not having a pain killer prescription (Rx) given the patient is an addict.\n",
    "3. `P(k|~a)` = 0.097 - the probability that the patient has a pain killer Rx given they are not an addict.\n",
    "4. `P(~k|~a)`= 0.903 - the probability that the patient does not have a pain killer Rx given they are not an addict."
   ]
  },
  {
   "cell_type": "markdown",
   "metadata": {},
   "source": [
    "<div style=\"background: peachpuff; margin:20px; padding: 20px;\">\n",
    "    <strong>Rubric</strong>\n",
    "    <p>\n",
    "        Again, the interpretation of the actual quantities in words is the correct answer. Making generic statements about Bayes Rule is an incorrect answer.\n",
    "    </p>\n",
    "</div>"
   ]
  },
  {
   "cell_type": "markdown",
   "metadata": {},
   "source": [
    "## Titanic"
   ]
  },
  {
   "cell_type": "code",
   "execution_count": 26,
   "metadata": {},
   "outputs": [],
   "source": [
    "import warnings\n",
    "warnings.filterwarnings(\"ignore\")"
   ]
  },
  {
   "cell_type": "code",
   "execution_count": 27,
   "metadata": {},
   "outputs": [],
   "source": [
    "import pandas as pd\n",
    "from pandasql import sqldf\n",
    "import seaborn as sns\n",
    "import matplotlib.pyplot as plt"
   ]
  },
  {
   "cell_type": "code",
   "execution_count": 28,
   "metadata": {},
   "outputs": [],
   "source": [
    "pysqldf = lambda q: sqldf(q, globals())"
   ]
  },
  {
   "cell_type": "markdown",
   "metadata": {},
   "source": [
    "Make sure you worked through the Titanic case study. This is a continuation of that analysis. *Feel free to copy code blocks from the case study as you see fit*\n",
    "\n",
    "We start by loading the data:"
   ]
  },
  {
   "cell_type": "code",
   "execution_count": 29,
   "metadata": {},
   "outputs": [],
   "source": [
    "titanic = pd.read_csv(\"https://raw.githubusercontent.com/fundamentals-of-data-science/datasets/master/titanic.csv\")"
   ]
  },
  {
   "cell_type": "markdown",
   "metadata": {},
   "source": [
    "For our conditional probability function later, we'll add an explicit index column:"
   ]
  },
  {
   "cell_type": "code",
   "execution_count": 30,
   "metadata": {},
   "outputs": [],
   "source": [
    "titanic[\"index\"] = titanic.index"
   ]
  },
  {
   "cell_type": "markdown",
   "metadata": {},
   "source": [
    "How many passengers are there?"
   ]
  },
  {
   "cell_type": "code",
   "execution_count": 31,
   "metadata": {},
   "outputs": [],
   "source": [
    "passengers = len(titanic)"
   ]
  },
  {
   "cell_type": "code",
   "execution_count": 32,
   "metadata": {},
   "outputs": [
    {
     "data": {
      "text/plain": [
       "1310"
      ]
     },
     "execution_count": 32,
     "metadata": {},
     "output_type": "execute_result"
    }
   ],
   "source": [
    "passengers"
   ]
  },
  {
   "cell_type": "markdown",
   "metadata": {},
   "source": [
    "## Conditional Probabilities\n",
    "\n",
    "1. Calculate $P(survived|parch)$"
   ]
  },
  {
   "cell_type": "code",
   "execution_count": 33,
   "metadata": {},
   "outputs": [],
   "source": [
    "from pandas.core.algorithms import value_counts\n",
    "from pandas.core.reshape.concat import concat"
   ]
  },
  {
   "cell_type": "code",
   "execution_count": 34,
   "metadata": {},
   "outputs": [],
   "source": [
    "def summarize_category(series):\n",
    "        res_regu = value_counts(series)\n",
    "        res_norm = value_counts(series, normalize=True)\n",
    "        result = concat([res_regu, res_norm], axis=1, keys=['Count', 'Frequency'])\n",
    "        result = result.sort_index()\n",
    "        return result"
   ]
  },
  {
   "cell_type": "code",
   "execution_count": 35,
   "metadata": {},
   "outputs": [],
   "source": [
    "def conditional_probability(df, target, givens, cell=\"index\"):\n",
    "    \"\"\"\n",
    "    calculates a simple conditional probability (only one target variable) based off of:\n",
    "    https://stackoverflow.com/questions/54040923/change-order-of-pandas-multiindex\n",
    "    \n",
    "    P(target|givens...)\n",
    "    \n",
    "    df: the DataFrame to use for the calculation\n",
    "    target: the string name of the target variable\n",
    "    givens: a string or List of strings that represent the \"givens\"\n",
    "    cell: a column that is neither target nor givens to \"count\". Should be a column without NA.\n",
    "    \n",
    "    The default assumes you have added a column: df[\"index\"] = df.index to your DataFrame.\n",
    "    \"\"\"\n",
    "    if isinstance(givens, str):\n",
    "        givens = [givens]\n",
    "    print(f\"P({target}|{', '.join(givens)})\")\n",
    "    columns = [target] + givens\n",
    "    # handling multiple targets would require a more sophisticated join.\n",
    "    result = (df.groupby(columns).count() / df.groupby(givens).count())[cell]\n",
    "    # this makes sure the target is always the column\n",
    "    result = result.reorder_levels(givens + [target]).sort_index()\n",
    "    # this flattens the hiearchical index and should fill in missing values.\n",
    "    result = result.unstack(fill_value=0.0)\n",
    "    return pd.DataFrame(result)"
   ]
  },
  {
   "cell_type": "markdown",
   "metadata": {},
   "source": [
    "$P(survived|parch)$ is the probability that someone survived *given* that they had a parent or child on board. We hypothesize that the probability of surviving is higher for those with parents or children onboard than those without.\n",
    "\n",
    "<div style=\"background: peachpuff; margin:20px; padding: 20px;\">\n",
    "    <strong>Rubric</strong>\n",
    "    <p>Remember...every \"calculation\" includes discuss/code/discuss. In this case, describe what the conditional probability is, what you expect to see, calculate it, and then discuss the results relative to your hypothesized values.</p>\n",
    "</div>\n",
    "\n",
    "As a reminder, $survived$ and $parch$ look like the following:"
   ]
  },
  {
   "cell_type": "code",
   "execution_count": 36,
   "metadata": {},
   "outputs": [
    {
     "data": {
      "text/html": [
       "<div>\n",
       "<style scoped>\n",
       "    .dataframe tbody tr th:only-of-type {\n",
       "        vertical-align: middle;\n",
       "    }\n",
       "\n",
       "    .dataframe tbody tr th {\n",
       "        vertical-align: top;\n",
       "    }\n",
       "\n",
       "    .dataframe thead th {\n",
       "        text-align: right;\n",
       "    }\n",
       "</style>\n",
       "<table border=\"1\" class=\"dataframe\">\n",
       "  <thead>\n",
       "    <tr style=\"text-align: right;\">\n",
       "      <th></th>\n",
       "      <th>Count</th>\n",
       "      <th>Frequency</th>\n",
       "    </tr>\n",
       "  </thead>\n",
       "  <tbody>\n",
       "    <tr>\n",
       "      <th>0.0</th>\n",
       "      <td>809</td>\n",
       "      <td>0.618029</td>\n",
       "    </tr>\n",
       "    <tr>\n",
       "      <th>1.0</th>\n",
       "      <td>500</td>\n",
       "      <td>0.381971</td>\n",
       "    </tr>\n",
       "  </tbody>\n",
       "</table>\n",
       "</div>"
      ],
      "text/plain": [
       "     Count  Frequency\n",
       "0.0    809   0.618029\n",
       "1.0    500   0.381971"
      ]
     },
     "execution_count": 36,
     "metadata": {},
     "output_type": "execute_result"
    }
   ],
   "source": [
    "summarize_category(titanic[\"survived\"])"
   ]
  },
  {
   "cell_type": "code",
   "execution_count": 37,
   "metadata": {},
   "outputs": [
    {
     "data": {
      "text/html": [
       "<div>\n",
       "<style scoped>\n",
       "    .dataframe tbody tr th:only-of-type {\n",
       "        vertical-align: middle;\n",
       "    }\n",
       "\n",
       "    .dataframe tbody tr th {\n",
       "        vertical-align: top;\n",
       "    }\n",
       "\n",
       "    .dataframe thead th {\n",
       "        text-align: right;\n",
       "    }\n",
       "</style>\n",
       "<table border=\"1\" class=\"dataframe\">\n",
       "  <thead>\n",
       "    <tr style=\"text-align: right;\">\n",
       "      <th></th>\n",
       "      <th>Count</th>\n",
       "      <th>Frequency</th>\n",
       "    </tr>\n",
       "  </thead>\n",
       "  <tbody>\n",
       "    <tr>\n",
       "      <th>0.0</th>\n",
       "      <td>1002</td>\n",
       "      <td>0.765470</td>\n",
       "    </tr>\n",
       "    <tr>\n",
       "      <th>1.0</th>\n",
       "      <td>170</td>\n",
       "      <td>0.129870</td>\n",
       "    </tr>\n",
       "    <tr>\n",
       "      <th>2.0</th>\n",
       "      <td>113</td>\n",
       "      <td>0.086325</td>\n",
       "    </tr>\n",
       "    <tr>\n",
       "      <th>3.0</th>\n",
       "      <td>8</td>\n",
       "      <td>0.006112</td>\n",
       "    </tr>\n",
       "    <tr>\n",
       "      <th>4.0</th>\n",
       "      <td>6</td>\n",
       "      <td>0.004584</td>\n",
       "    </tr>\n",
       "    <tr>\n",
       "      <th>5.0</th>\n",
       "      <td>6</td>\n",
       "      <td>0.004584</td>\n",
       "    </tr>\n",
       "    <tr>\n",
       "      <th>6.0</th>\n",
       "      <td>2</td>\n",
       "      <td>0.001528</td>\n",
       "    </tr>\n",
       "    <tr>\n",
       "      <th>9.0</th>\n",
       "      <td>2</td>\n",
       "      <td>0.001528</td>\n",
       "    </tr>\n",
       "  </tbody>\n",
       "</table>\n",
       "</div>"
      ],
      "text/plain": [
       "     Count  Frequency\n",
       "0.0   1002   0.765470\n",
       "1.0    170   0.129870\n",
       "2.0    113   0.086325\n",
       "3.0      8   0.006112\n",
       "4.0      6   0.004584\n",
       "5.0      6   0.004584\n",
       "6.0      2   0.001528\n",
       "9.0      2   0.001528"
      ]
     },
     "execution_count": 37,
     "metadata": {},
     "output_type": "execute_result"
    }
   ],
   "source": [
    "summarize_category(titanic[\"parch\"])"
   ]
  },
  {
   "cell_type": "markdown",
   "metadata": {},
   "source": [
    "This is a bit of a problem.\n",
    "After 2 parents or children aboard (we don't know which), the data gets very sparse.\n",
    "There are a number of ways to handle this but the best approach for now might be to turn this variable into a boolean.\n",
    "However, we're going to save the original value in case we need it."
   ]
  },
  {
   "cell_type": "code",
   "execution_count": 38,
   "metadata": {},
   "outputs": [],
   "source": [
    "titanic[\"parch_count\"] = titanic[\"parch\"]\n",
    "titanic[\"parch\"] = titanic[\"parch_count\"] > 0\n",
    "titanic[\"parch\"] = titanic[\"parch\"].astype(int)"
   ]
  },
  {
   "cell_type": "code",
   "execution_count": 39,
   "metadata": {},
   "outputs": [
    {
     "data": {
      "text/html": [
       "<div>\n",
       "<style scoped>\n",
       "    .dataframe tbody tr th:only-of-type {\n",
       "        vertical-align: middle;\n",
       "    }\n",
       "\n",
       "    .dataframe tbody tr th {\n",
       "        vertical-align: top;\n",
       "    }\n",
       "\n",
       "    .dataframe thead th {\n",
       "        text-align: right;\n",
       "    }\n",
       "</style>\n",
       "<table border=\"1\" class=\"dataframe\">\n",
       "  <thead>\n",
       "    <tr style=\"text-align: right;\">\n",
       "      <th></th>\n",
       "      <th>Count</th>\n",
       "      <th>Frequency</th>\n",
       "    </tr>\n",
       "  </thead>\n",
       "  <tbody>\n",
       "    <tr>\n",
       "      <th>0</th>\n",
       "      <td>1003</td>\n",
       "      <td>0.765649</td>\n",
       "    </tr>\n",
       "    <tr>\n",
       "      <th>1</th>\n",
       "      <td>307</td>\n",
       "      <td>0.234351</td>\n",
       "    </tr>\n",
       "  </tbody>\n",
       "</table>\n",
       "</div>"
      ],
      "text/plain": [
       "   Count  Frequency\n",
       "0   1003   0.765649\n",
       "1    307   0.234351"
      ]
     },
     "execution_count": 39,
     "metadata": {},
     "output_type": "execute_result"
    }
   ],
   "source": [
    "summarize_category(titanic[\"parch\"])"
   ]
  },
  {
   "cell_type": "markdown",
   "metadata": {},
   "source": [
    "<div style=\"background: lemonchiffon; margin:20px; padding: 20px;\">\n",
    "    <strong>Note</strong>\n",
    "    <p>It's perfectly fine if you didn't do this. You do need to solve the problem of missing values during normalization later. However, if you do something like this, you should explain your reasoning.</p>\n",
    "</div>"
   ]
  },
  {
   "cell_type": "markdown",
   "metadata": {},
   "source": [
    "Let's us first calculate the raw frequencies for the two variables. This will be (approximately) their *joint* probability distribution."
   ]
  },
  {
   "cell_type": "markdown",
   "metadata": {},
   "source": [
    "\n",
    "<div style=\"background: lemonchiffon; margin:20px; padding: 20px;\">\n",
    "    <strong>Note</strong>\n",
    "    <p>\n",
    "        Although we're using the idea of joint probability to motivate this exercise. When we do get to actual EDA, it's nearly always implicit. We don't write out \"this is the joint probability of X and Y\".\n",
    "    </p>\n",
    "</div>"
   ]
  },
  {
   "cell_type": "code",
   "execution_count": 40,
   "metadata": {},
   "outputs": [
    {
     "name": "stdout",
     "output_type": "stream",
     "text": [
      "P(survived|parch)\n"
     ]
    },
    {
     "data": {
      "text/html": [
       "<div>\n",
       "<style scoped>\n",
       "    .dataframe tbody tr th:only-of-type {\n",
       "        vertical-align: middle;\n",
       "    }\n",
       "\n",
       "    .dataframe tbody tr th {\n",
       "        vertical-align: top;\n",
       "    }\n",
       "\n",
       "    .dataframe thead th {\n",
       "        text-align: right;\n",
       "    }\n",
       "</style>\n",
       "<table border=\"1\" class=\"dataframe\">\n",
       "  <thead>\n",
       "    <tr style=\"text-align: right;\">\n",
       "      <th>survived</th>\n",
       "      <th>0.0</th>\n",
       "      <th>1.0</th>\n",
       "    </tr>\n",
       "    <tr>\n",
       "      <th>parch</th>\n",
       "      <th></th>\n",
       "      <th></th>\n",
       "    </tr>\n",
       "  </thead>\n",
       "  <tbody>\n",
       "    <tr>\n",
       "      <th>0</th>\n",
       "      <td>0.664008</td>\n",
       "      <td>0.334995</td>\n",
       "    </tr>\n",
       "    <tr>\n",
       "      <th>1</th>\n",
       "      <td>0.465798</td>\n",
       "      <td>0.534202</td>\n",
       "    </tr>\n",
       "  </tbody>\n",
       "</table>\n",
       "</div>"
      ],
      "text/plain": [
       "survived       0.0       1.0\n",
       "parch                       \n",
       "0         0.664008  0.334995\n",
       "1         0.465798  0.534202"
      ]
     },
     "execution_count": 40,
     "metadata": {},
     "output_type": "execute_result"
    }
   ],
   "source": [
    "conditional_probability(titanic, \"survived\", \"parch\")"
   ]
  },
  {
   "cell_type": "markdown",
   "metadata": {},
   "source": [
    "Our hypothesis is correct.\n",
    "A passenger with a parent or child aboard Titanic, was much more likely to survive 53.4% versus 46.6%."
   ]
  },
  {
   "cell_type": "markdown",
   "metadata": {},
   "source": [
    "<div style=\"background: lemonchiffon; margin:20px; padding: 20px;\">\n",
    "    <strong>Note</strong>\n",
    "    <p>Don't make people try to find the numbers in your table themselves. If you have a conclusion that refers to specific numbers, mention the specific numbers. A good test of the quality of the notebook discussion is to hide all the input cells. Find out from the help system how to do that if you don't know.</p>\n",
    "    <p>Because only two variables were involved, you could have used <tt>crosstab()</tt> as well.</p>\n",
    "</div>\n",
    "\n",
    "\n",
    "<div style=\"background: peachpuff; margin:20px; padding: 20px;\">\n",
    "    <strong>Rubric</strong>\n",
    "    <p>If you make your reader work hard to figure out what you're talking about, even if technically correct, that's not excellent.</p>\n",
    "</div>\n"
   ]
  },
  {
   "cell_type": "markdown",
   "metadata": {},
   "source": [
    "It would be interesting to look at the interactions between `parch` and some other variables such as `sex` and `pclass`."
   ]
  },
  {
   "cell_type": "markdown",
   "metadata": {},
   "source": [
    "2. Calculate $P(survived|fare)$"
   ]
  },
  {
   "cell_type": "markdown",
   "metadata": {},
   "source": [
    "We now want to look at the relationship between fare and survival.\n",
    "Did passengers who paid more for their tickets have a higher probability of survival?\n",
    "This question is answered by conditional probability.\n",
    "Our hypothesis is that just as passenger class was associated with survival, so will fare be.\n",
    "\n",
    "Let's look at the fare data again."
   ]
  },
  {
   "cell_type": "code",
   "execution_count": 41,
   "metadata": {},
   "outputs": [
    {
     "data": {
      "image/png": "[encoded data removed]",
      "text/plain": [
       "<Figure size 720x432 with 1 Axes>"
      ]
     },
     "metadata": {
      "needs_background": "light"
     },
     "output_type": "display_data"
    }
   ],
   "source": [
    "figure = plt.figure(figsize=(10, 6))\n",
    "\n",
    "axes = figure.add_subplot(1, 1, 1)\n",
    "axes.hist( titanic[ \"fare\"], color=\"DimGray\")\n",
    "axes.set_ylabel( \"Count\")\n",
    "axes.set_xlabel( \"X\")\n",
    "axes.set_title(\"Count Histogram of Passenger Fares on Titanic; default bins\")\n",
    "\n",
    "plt.show()\n",
    "plt.close()"
   ]
  },
  {
   "cell_type": "markdown",
   "metadata": {},
   "source": [
    "We've only worked with discrete probability distributions so we need to discretize this variable like we did for `age`.\n",
    "However, there are many more possible values here.\n",
    "Additionally, most of the values are below 100 pounds.\n",
    "Let's do a histogram of values below 100 pounds."
   ]
  },
  {
   "cell_type": "code",
   "execution_count": 42,
   "metadata": {},
   "outputs": [
    {
     "data": {
      "image/png": "[encoded data removed]",
      "text/plain": [
       "<Figure size 720x432 with 1 Axes>"
      ]
     },
     "metadata": {
      "needs_background": "light"
     },
     "output_type": "display_data"
    }
   ],
   "source": [
    "figure = plt.figure(figsize=(10, 6))\n",
    "\n",
    "axes = figure.add_subplot(1, 1, 1)\n",
    "axes.hist( titanic[titanic[ \"fare\"] < 100][\"fare\"], color=\"DimGray\")\n",
    "axes.set_ylabel( \"Count\")\n",
    "axes.set_xlabel( \"X\")\n",
    "axes.set_title(\"Count Histogram of Passenger Fares below 100 pounds on Titanic; default bins\")\n",
    "\n",
    "plt.show()\n",
    "plt.close()"
   ]
  },
  {
   "cell_type": "markdown",
   "metadata": {},
   "source": [
    "So it's fair to say that most fares are really below 25 pounds.\n",
    "Let's map the fare into 25 pound increments."
   ]
  },
  {
   "cell_type": "code",
   "execution_count": 43,
   "metadata": {},
   "outputs": [],
   "source": [
    "titanic[\"fare_group\"] = (titanic[\"fare\"] // 25) * 25"
   ]
  },
  {
   "cell_type": "code",
   "execution_count": 44,
   "metadata": {},
   "outputs": [
    {
     "data": {
      "text/html": [
       "<div>\n",
       "<style scoped>\n",
       "    .dataframe tbody tr th:only-of-type {\n",
       "        vertical-align: middle;\n",
       "    }\n",
       "\n",
       "    .dataframe tbody tr th {\n",
       "        vertical-align: top;\n",
       "    }\n",
       "\n",
       "    .dataframe thead th {\n",
       "        text-align: right;\n",
       "    }\n",
       "</style>\n",
       "<table border=\"1\" class=\"dataframe\">\n",
       "  <thead>\n",
       "    <tr style=\"text-align: right;\">\n",
       "      <th></th>\n",
       "      <th>Count</th>\n",
       "      <th>Frequency</th>\n",
       "    </tr>\n",
       "  </thead>\n",
       "  <tbody>\n",
       "    <tr>\n",
       "      <th>0.0</th>\n",
       "      <td>821</td>\n",
       "      <td>0.627676</td>\n",
       "    </tr>\n",
       "    <tr>\n",
       "      <th>25.0</th>\n",
       "      <td>245</td>\n",
       "      <td>0.187309</td>\n",
       "    </tr>\n",
       "    <tr>\n",
       "      <th>50.0</th>\n",
       "      <td>97</td>\n",
       "      <td>0.074159</td>\n",
       "    </tr>\n",
       "    <tr>\n",
       "      <th>75.0</th>\n",
       "      <td>61</td>\n",
       "      <td>0.046636</td>\n",
       "    </tr>\n",
       "    <tr>\n",
       "      <th>100.0</th>\n",
       "      <td>17</td>\n",
       "      <td>0.012997</td>\n",
       "    </tr>\n",
       "    <tr>\n",
       "      <th>125.0</th>\n",
       "      <td>16</td>\n",
       "      <td>0.012232</td>\n",
       "    </tr>\n",
       "    <tr>\n",
       "      <th>150.0</th>\n",
       "      <td>13</td>\n",
       "      <td>0.009939</td>\n",
       "    </tr>\n",
       "    <tr>\n",
       "      <th>200.0</th>\n",
       "      <td>13</td>\n",
       "      <td>0.009939</td>\n",
       "    </tr>\n",
       "    <tr>\n",
       "      <th>225.0</th>\n",
       "      <td>8</td>\n",
       "      <td>0.006116</td>\n",
       "    </tr>\n",
       "    <tr>\n",
       "      <th>250.0</th>\n",
       "      <td>13</td>\n",
       "      <td>0.009939</td>\n",
       "    </tr>\n",
       "    <tr>\n",
       "      <th>500.0</th>\n",
       "      <td>4</td>\n",
       "      <td>0.003058</td>\n",
       "    </tr>\n",
       "  </tbody>\n",
       "</table>\n",
       "</div>"
      ],
      "text/plain": [
       "       Count  Frequency\n",
       "0.0      821   0.627676\n",
       "25.0     245   0.187309\n",
       "50.0      97   0.074159\n",
       "75.0      61   0.046636\n",
       "100.0     17   0.012997\n",
       "125.0     16   0.012232\n",
       "150.0     13   0.009939\n",
       "200.0     13   0.009939\n",
       "225.0      8   0.006116\n",
       "250.0     13   0.009939\n",
       "500.0      4   0.003058"
      ]
     },
     "execution_count": 44,
     "metadata": {},
     "output_type": "execute_result"
    }
   ],
   "source": [
    "summarize_category(titanic[\"fare_group\"])"
   ]
  },
  {
   "cell_type": "markdown",
   "metadata": {},
   "source": [
    "What is the hypothesis?\n",
    "People who paid more are more likely to survive.\n",
    "\n",
    "Let's see what they conditional probability distribution says:"
   ]
  },
  {
   "cell_type": "code",
   "execution_count": 45,
   "metadata": {},
   "outputs": [
    {
     "name": "stdout",
     "output_type": "stream",
     "text": [
      "P(survived|fare_group)\n"
     ]
    },
    {
     "data": {
      "text/html": [
       "<div>\n",
       "<style scoped>\n",
       "    .dataframe tbody tr th:only-of-type {\n",
       "        vertical-align: middle;\n",
       "    }\n",
       "\n",
       "    .dataframe tbody tr th {\n",
       "        vertical-align: top;\n",
       "    }\n",
       "\n",
       "    .dataframe thead th {\n",
       "        text-align: right;\n",
       "    }\n",
       "</style>\n",
       "<table border=\"1\" class=\"dataframe\">\n",
       "  <thead>\n",
       "    <tr style=\"text-align: right;\">\n",
       "      <th>survived</th>\n",
       "      <th>0.0</th>\n",
       "      <th>1.0</th>\n",
       "    </tr>\n",
       "    <tr>\n",
       "      <th>fare_group</th>\n",
       "      <th></th>\n",
       "      <th></th>\n",
       "    </tr>\n",
       "  </thead>\n",
       "  <tbody>\n",
       "    <tr>\n",
       "      <th>0.0</th>\n",
       "      <td>0.710110</td>\n",
       "      <td>0.289890</td>\n",
       "    </tr>\n",
       "    <tr>\n",
       "      <th>25.0</th>\n",
       "      <td>0.575510</td>\n",
       "      <td>0.424490</td>\n",
       "    </tr>\n",
       "    <tr>\n",
       "      <th>50.0</th>\n",
       "      <td>0.453608</td>\n",
       "      <td>0.546392</td>\n",
       "    </tr>\n",
       "    <tr>\n",
       "      <th>75.0</th>\n",
       "      <td>0.262295</td>\n",
       "      <td>0.737705</td>\n",
       "    </tr>\n",
       "    <tr>\n",
       "      <th>100.0</th>\n",
       "      <td>0.235294</td>\n",
       "      <td>0.764706</td>\n",
       "    </tr>\n",
       "    <tr>\n",
       "      <th>125.0</th>\n",
       "      <td>0.187500</td>\n",
       "      <td>0.812500</td>\n",
       "    </tr>\n",
       "    <tr>\n",
       "      <th>150.0</th>\n",
       "      <td>0.384615</td>\n",
       "      <td>0.615385</td>\n",
       "    </tr>\n",
       "    <tr>\n",
       "      <th>200.0</th>\n",
       "      <td>0.461538</td>\n",
       "      <td>0.538462</td>\n",
       "    </tr>\n",
       "    <tr>\n",
       "      <th>225.0</th>\n",
       "      <td>0.375000</td>\n",
       "      <td>0.625000</td>\n",
       "    </tr>\n",
       "    <tr>\n",
       "      <th>250.0</th>\n",
       "      <td>0.230769</td>\n",
       "      <td>0.769231</td>\n",
       "    </tr>\n",
       "    <tr>\n",
       "      <th>500.0</th>\n",
       "      <td>0.000000</td>\n",
       "      <td>1.000000</td>\n",
       "    </tr>\n",
       "  </tbody>\n",
       "</table>\n",
       "</div>"
      ],
      "text/plain": [
       "survived         0.0       1.0\n",
       "fare_group                    \n",
       "0.0         0.710110  0.289890\n",
       "25.0        0.575510  0.424490\n",
       "50.0        0.453608  0.546392\n",
       "75.0        0.262295  0.737705\n",
       "100.0       0.235294  0.764706\n",
       "125.0       0.187500  0.812500\n",
       "150.0       0.384615  0.615385\n",
       "200.0       0.461538  0.538462\n",
       "225.0       0.375000  0.625000\n",
       "250.0       0.230769  0.769231\n",
       "500.0       0.000000  1.000000"
      ]
     },
     "execution_count": 45,
     "metadata": {},
     "output_type": "execute_result"
    }
   ],
   "source": [
    "conditional_probability(titanic, \"survived\", \"fare_group\")"
   ]
  },
  {
   "cell_type": "markdown",
   "metadata": {},
   "source": [
    "It doesn't look like fare really tells us a whole lot here after 25 pounds.\n",
    "It's possible that all 3rd class passengers paid less than 25 pounds.\n",
    "\n",
    "Let's look to see how `fare` predicts `pclass`.\n",
    "The hypothesis here is that if you paid under 25 pounds, you're in 3rd class.\n",
    "There's some point where the fare switches from 2nd class to 1st class.\n",
    "What we're probably seeing in the table above is just `pclass` all over again...we already know that 2nd class 1st class passengers, being on higher decks, were more likely to survive (at least for women)."
   ]
  },
  {
   "cell_type": "code",
   "execution_count": 46,
   "metadata": {},
   "outputs": [
    {
     "name": "stdout",
     "output_type": "stream",
     "text": [
      "P(pclass|fare_group)\n"
     ]
    },
    {
     "data": {
      "text/html": [
       "<div>\n",
       "<style scoped>\n",
       "    .dataframe tbody tr th:only-of-type {\n",
       "        vertical-align: middle;\n",
       "    }\n",
       "\n",
       "    .dataframe tbody tr th {\n",
       "        vertical-align: top;\n",
       "    }\n",
       "\n",
       "    .dataframe thead th {\n",
       "        text-align: right;\n",
       "    }\n",
       "</style>\n",
       "<table border=\"1\" class=\"dataframe\">\n",
       "  <thead>\n",
       "    <tr style=\"text-align: right;\">\n",
       "      <th>pclass</th>\n",
       "      <th>1.0</th>\n",
       "      <th>2.0</th>\n",
       "      <th>3.0</th>\n",
       "    </tr>\n",
       "    <tr>\n",
       "      <th>fare_group</th>\n",
       "      <th></th>\n",
       "      <th></th>\n",
       "      <th></th>\n",
       "    </tr>\n",
       "  </thead>\n",
       "  <tbody>\n",
       "    <tr>\n",
       "      <th>0.0</th>\n",
       "      <td>0.009744</td>\n",
       "      <td>0.213155</td>\n",
       "      <td>0.777101</td>\n",
       "    </tr>\n",
       "    <tr>\n",
       "      <th>25.0</th>\n",
       "      <td>0.424490</td>\n",
       "      <td>0.367347</td>\n",
       "      <td>0.208163</td>\n",
       "    </tr>\n",
       "    <tr>\n",
       "      <th>50.0</th>\n",
       "      <td>0.680412</td>\n",
       "      <td>0.123711</td>\n",
       "      <td>0.195876</td>\n",
       "    </tr>\n",
       "    <tr>\n",
       "      <th>75.0</th>\n",
       "      <td>1.000000</td>\n",
       "      <td>0.000000</td>\n",
       "      <td>0.000000</td>\n",
       "    </tr>\n",
       "    <tr>\n",
       "      <th>100.0</th>\n",
       "      <td>1.000000</td>\n",
       "      <td>0.000000</td>\n",
       "      <td>0.000000</td>\n",
       "    </tr>\n",
       "    <tr>\n",
       "      <th>125.0</th>\n",
       "      <td>1.000000</td>\n",
       "      <td>0.000000</td>\n",
       "      <td>0.000000</td>\n",
       "    </tr>\n",
       "    <tr>\n",
       "      <th>150.0</th>\n",
       "      <td>1.000000</td>\n",
       "      <td>0.000000</td>\n",
       "      <td>0.000000</td>\n",
       "    </tr>\n",
       "    <tr>\n",
       "      <th>200.0</th>\n",
       "      <td>1.000000</td>\n",
       "      <td>0.000000</td>\n",
       "      <td>0.000000</td>\n",
       "    </tr>\n",
       "    <tr>\n",
       "      <th>225.0</th>\n",
       "      <td>1.000000</td>\n",
       "      <td>0.000000</td>\n",
       "      <td>0.000000</td>\n",
       "    </tr>\n",
       "    <tr>\n",
       "      <th>250.0</th>\n",
       "      <td>1.000000</td>\n",
       "      <td>0.000000</td>\n",
       "      <td>0.000000</td>\n",
       "    </tr>\n",
       "    <tr>\n",
       "      <th>500.0</th>\n",
       "      <td>1.000000</td>\n",
       "      <td>0.000000</td>\n",
       "      <td>0.000000</td>\n",
       "    </tr>\n",
       "  </tbody>\n",
       "</table>\n",
       "</div>"
      ],
      "text/plain": [
       "pclass           1.0       2.0       3.0\n",
       "fare_group                              \n",
       "0.0         0.009744  0.213155  0.777101\n",
       "25.0        0.424490  0.367347  0.208163\n",
       "50.0        0.680412  0.123711  0.195876\n",
       "75.0        1.000000  0.000000  0.000000\n",
       "100.0       1.000000  0.000000  0.000000\n",
       "125.0       1.000000  0.000000  0.000000\n",
       "150.0       1.000000  0.000000  0.000000\n",
       "200.0       1.000000  0.000000  0.000000\n",
       "225.0       1.000000  0.000000  0.000000\n",
       "250.0       1.000000  0.000000  0.000000\n",
       "500.0       1.000000  0.000000  0.000000"
      ]
     },
     "execution_count": 46,
     "metadata": {},
     "output_type": "execute_result"
    }
   ],
   "source": [
    "conditional_probability(titanic, \"pclass\", \"fare_group\")"
   ]
  },
  {
   "cell_type": "markdown",
   "metadata": {},
   "source": [
    "That explains the pattern.\n",
    "A fare of under 25 pounds is associated with 3rd class and it quickly switches over to 1st class.\n",
    "Starting at 75 pounds, all passengers are 1st class.\n",
    "It's difficult to ascertain exactly where the dividing line between 2nd class was.\n",
    "\n",
    "What we really want here is a joint distribution:"
   ]
  },
  {
   "cell_type": "code",
   "execution_count": 47,
   "metadata": {},
   "outputs": [
    {
     "data": {
      "text/html": [
       "<div>\n",
       "<style scoped>\n",
       "    .dataframe tbody tr th:only-of-type {\n",
       "        vertical-align: middle;\n",
       "    }\n",
       "\n",
       "    .dataframe tbody tr th {\n",
       "        vertical-align: top;\n",
       "    }\n",
       "\n",
       "    .dataframe thead th {\n",
       "        text-align: right;\n",
       "    }\n",
       "</style>\n",
       "<table border=\"1\" class=\"dataframe\">\n",
       "  <thead>\n",
       "    <tr style=\"text-align: right;\">\n",
       "      <th>pclass</th>\n",
       "      <th>1.0</th>\n",
       "      <th>2.0</th>\n",
       "      <th>3.0</th>\n",
       "    </tr>\n",
       "    <tr>\n",
       "      <th>fare_group</th>\n",
       "      <th></th>\n",
       "      <th></th>\n",
       "      <th></th>\n",
       "    </tr>\n",
       "  </thead>\n",
       "  <tbody>\n",
       "    <tr>\n",
       "      <th>0.0</th>\n",
       "      <td>0.006116</td>\n",
       "      <td>0.133792</td>\n",
       "      <td>0.487768</td>\n",
       "    </tr>\n",
       "    <tr>\n",
       "      <th>25.0</th>\n",
       "      <td>0.079511</td>\n",
       "      <td>0.068807</td>\n",
       "      <td>0.038991</td>\n",
       "    </tr>\n",
       "    <tr>\n",
       "      <th>50.0</th>\n",
       "      <td>0.050459</td>\n",
       "      <td>0.009174</td>\n",
       "      <td>0.014526</td>\n",
       "    </tr>\n",
       "    <tr>\n",
       "      <th>75.0</th>\n",
       "      <td>0.046636</td>\n",
       "      <td>0.000000</td>\n",
       "      <td>0.000000</td>\n",
       "    </tr>\n",
       "    <tr>\n",
       "      <th>100.0</th>\n",
       "      <td>0.012997</td>\n",
       "      <td>0.000000</td>\n",
       "      <td>0.000000</td>\n",
       "    </tr>\n",
       "    <tr>\n",
       "      <th>125.0</th>\n",
       "      <td>0.012232</td>\n",
       "      <td>0.000000</td>\n",
       "      <td>0.000000</td>\n",
       "    </tr>\n",
       "    <tr>\n",
       "      <th>150.0</th>\n",
       "      <td>0.009939</td>\n",
       "      <td>0.000000</td>\n",
       "      <td>0.000000</td>\n",
       "    </tr>\n",
       "    <tr>\n",
       "      <th>200.0</th>\n",
       "      <td>0.009939</td>\n",
       "      <td>0.000000</td>\n",
       "      <td>0.000000</td>\n",
       "    </tr>\n",
       "    <tr>\n",
       "      <th>225.0</th>\n",
       "      <td>0.006116</td>\n",
       "      <td>0.000000</td>\n",
       "      <td>0.000000</td>\n",
       "    </tr>\n",
       "    <tr>\n",
       "      <th>250.0</th>\n",
       "      <td>0.009939</td>\n",
       "      <td>0.000000</td>\n",
       "      <td>0.000000</td>\n",
       "    </tr>\n",
       "    <tr>\n",
       "      <th>500.0</th>\n",
       "      <td>0.003058</td>\n",
       "      <td>0.000000</td>\n",
       "      <td>0.000000</td>\n",
       "    </tr>\n",
       "  </tbody>\n",
       "</table>\n",
       "</div>"
      ],
      "text/plain": [
       "pclass           1.0       2.0       3.0\n",
       "fare_group                              \n",
       "0.0         0.006116  0.133792  0.487768\n",
       "25.0        0.079511  0.068807  0.038991\n",
       "50.0        0.050459  0.009174  0.014526\n",
       "75.0        0.046636  0.000000  0.000000\n",
       "100.0       0.012997  0.000000  0.000000\n",
       "125.0       0.012232  0.000000  0.000000\n",
       "150.0       0.009939  0.000000  0.000000\n",
       "200.0       0.009939  0.000000  0.000000\n",
       "225.0       0.006116  0.000000  0.000000\n",
       "250.0       0.009939  0.000000  0.000000\n",
       "500.0       0.003058  0.000000  0.000000"
      ]
     },
     "execution_count": 47,
     "metadata": {},
     "output_type": "execute_result"
    }
   ],
   "source": [
    "pd.crosstab(titanic[\"fare_group\"], titanic[\"pclass\"], normalize='all')"
   ]
  },
  {
   "cell_type": "markdown",
   "metadata": {},
   "source": [
    "Nearly 50% of those aboard Titanic were 3rd class passengers who paid less than 25 pounds.\n",
    "The next largest group is 2nd class passengers who paid less than 25 pounds.\n",
    "From there we move on to 1st class passengers who paid between 25 and 50 pounds."
   ]
  },
  {
   "cell_type": "markdown",
   "metadata": {},
   "source": [
    "<div style=\"background: lemonchiffon; margin:20px; padding: 20px;\">\n",
    "    <strong>Note</strong>\n",
    "    <p>The purpose of this assignment is to get familiar with conditional probability as it relates to data...not solve all the problems. The most important thing is to <strong>explain what you're doing, why, and the implications</strong>. We're not looking for the right answer or right model (well, unless it is really just arithmetic), we're looking for the right process and for your thinking.</p>\n",
    "</div>"
   ]
  },
  {
   "cell_type": "markdown",
   "metadata": {},
   "source": [
    "## Naive Bayes Classifier"
   ]
  },
  {
   "cell_type": "code",
   "execution_count": 48,
   "metadata": {},
   "outputs": [],
   "source": [
    "from sklearn.naive_bayes import CategoricalNB\n",
    "from sklearn.preprocessing import OrdinalEncoder"
   ]
  },
  {
   "cell_type": "markdown",
   "metadata": {},
   "source": [
    "1. Calculate the Naive Bayes Classifier for $P(survived|pclass, sex, decade, parch, sibsp)$ and make 5 predictions.\n",
    "\n",
    "(Remember...discuss/code/discuss. This is especially true for the predictions...when you make up each passenger, do you expect them to survive or perish?)"
   ]
  },
  {
   "cell_type": "markdown",
   "metadata": {},
   "source": [
    "We can follow the same basic process we did in the Titanic Case Study but we'll just be building a larger model.\n",
    "We've already seen most of the variables, however we need to have a look at `sibsp`:"
   ]
  },
  {
   "cell_type": "code",
   "execution_count": 49,
   "metadata": {},
   "outputs": [],
   "source": [
    "sibsp_counts = pysqldf(f\"SELECT sibsp, count(*) AS cnt, count(*)/{float(passengers)} AS pct FROM titanic GROUP BY sibsp ORDER BY sibsp\")"
   ]
  },
  {
   "cell_type": "code",
   "execution_count": 50,
   "metadata": {},
   "outputs": [
    {
     "data": {
      "text/html": [
       "<div>\n",
       "<style scoped>\n",
       "    .dataframe tbody tr th:only-of-type {\n",
       "        vertical-align: middle;\n",
       "    }\n",
       "\n",
       "    .dataframe tbody tr th {\n",
       "        vertical-align: top;\n",
       "    }\n",
       "\n",
       "    .dataframe thead th {\n",
       "        text-align: right;\n",
       "    }\n",
       "</style>\n",
       "<table border=\"1\" class=\"dataframe\">\n",
       "  <thead>\n",
       "    <tr style=\"text-align: right;\">\n",
       "      <th></th>\n",
       "      <th>sibsp</th>\n",
       "      <th>cnt</th>\n",
       "      <th>pct</th>\n",
       "    </tr>\n",
       "  </thead>\n",
       "  <tbody>\n",
       "    <tr>\n",
       "      <th>0</th>\n",
       "      <td>NaN</td>\n",
       "      <td>1</td>\n",
       "      <td>0.000763</td>\n",
       "    </tr>\n",
       "    <tr>\n",
       "      <th>1</th>\n",
       "      <td>0.0</td>\n",
       "      <td>891</td>\n",
       "      <td>0.680153</td>\n",
       "    </tr>\n",
       "    <tr>\n",
       "      <th>2</th>\n",
       "      <td>1.0</td>\n",
       "      <td>319</td>\n",
       "      <td>0.243511</td>\n",
       "    </tr>\n",
       "    <tr>\n",
       "      <th>3</th>\n",
       "      <td>2.0</td>\n",
       "      <td>42</td>\n",
       "      <td>0.032061</td>\n",
       "    </tr>\n",
       "    <tr>\n",
       "      <th>4</th>\n",
       "      <td>3.0</td>\n",
       "      <td>20</td>\n",
       "      <td>0.015267</td>\n",
       "    </tr>\n",
       "    <tr>\n",
       "      <th>5</th>\n",
       "      <td>4.0</td>\n",
       "      <td>22</td>\n",
       "      <td>0.016794</td>\n",
       "    </tr>\n",
       "    <tr>\n",
       "      <th>6</th>\n",
       "      <td>5.0</td>\n",
       "      <td>6</td>\n",
       "      <td>0.004580</td>\n",
       "    </tr>\n",
       "    <tr>\n",
       "      <th>7</th>\n",
       "      <td>8.0</td>\n",
       "      <td>9</td>\n",
       "      <td>0.006870</td>\n",
       "    </tr>\n",
       "  </tbody>\n",
       "</table>\n",
       "</div>"
      ],
      "text/plain": [
       "   sibsp  cnt       pct\n",
       "0    NaN    1  0.000763\n",
       "1    0.0  891  0.680153\n",
       "2    1.0  319  0.243511\n",
       "3    2.0   42  0.032061\n",
       "4    3.0   20  0.015267\n",
       "5    4.0   22  0.016794\n",
       "6    5.0    6  0.004580\n",
       "7    8.0    9  0.006870"
      ]
     },
     "execution_count": 50,
     "metadata": {},
     "output_type": "execute_result"
    }
   ],
   "source": [
    "sibsp_counts"
   ]
  },
  {
   "cell_type": "markdown",
   "metadata": {},
   "source": [
    "As with `parch`, we might do better for now to convert this into a boolean variable:"
   ]
  },
  {
   "cell_type": "code",
   "execution_count": 51,
   "metadata": {},
   "outputs": [],
   "source": [
    "titanic[\"sibsp_count\"] = titanic[\"sibsp\"]\n",
    "titanic[\"sibsp\"] = titanic[\"sibsp_count\"] > 0\n",
    "titanic[\"sibsp\"] = titanic[\"sibsp\"].astype(int)"
   ]
  },
  {
   "cell_type": "markdown",
   "metadata": {},
   "source": [
    "<div style=\"background: lemonchiffon; margin:20px; padding: 20px;\">\n",
    "    <strong>Note</strong>\n",
    "    <p>Be careful with destructive, non-idempotent changes to your data frames.</p>\n",
    "</div>"
   ]
  },
  {
   "cell_type": "markdown",
   "metadata": {},
   "source": [
    "We also need to calculate `decade`:"
   ]
  },
  {
   "cell_type": "code",
   "execution_count": 52,
   "metadata": {},
   "outputs": [],
   "source": [
    "titanic[\"decade\"] = (titanic[\"age\"] // 10) * 10"
   ]
  },
  {
   "cell_type": "markdown",
   "metadata": {},
   "source": [
    "We're going to create an OrdinalEncoder, filter out passengers without age information, and then apply it to the variables:"
   ]
  },
  {
   "cell_type": "code",
   "execution_count": 53,
   "metadata": {},
   "outputs": [],
   "source": [
    "encoder = OrdinalEncoder()"
   ]
  },
  {
   "cell_type": "code",
   "execution_count": 54,
   "metadata": {},
   "outputs": [],
   "source": [
    "with_age = titanic[titanic[\"age\"].notnull()]"
   ]
  },
  {
   "cell_type": "code",
   "execution_count": 55,
   "metadata": {},
   "outputs": [],
   "source": [
    "encoder.fit(with_age[[\"pclass\", \"sex\", \"decade\", \"parch\", \"sibsp\"]]);"
   ]
  },
  {
   "cell_type": "markdown",
   "metadata": {},
   "source": [
    "Note that we had to fit the ordinal encoder to all our data, even variables that are numeric, because we're using the Categorical Naive Bayes (and the variables are mostly categorical anyway, even if some of them are numbers)."
   ]
  },
  {
   "cell_type": "code",
   "execution_count": 56,
   "metadata": {},
   "outputs": [
    {
     "data": {
      "text/plain": [
       "[array([1., 2., 3.]),\n",
       " array(['female', 'male'], dtype=object),\n",
       " array([ 0., 10., 20., 30., 40., 50., 60., 70., 80.]),\n",
       " array([0, 1]),\n",
       " array([0, 1])]"
      ]
     },
     "execution_count": 56,
     "metadata": {},
     "output_type": "execute_result"
    }
   ],
   "source": [
    "encoder.categories_"
   ]
  },
  {
   "cell_type": "markdown",
   "metadata": {},
   "source": [
    "Now we can fit our Naive Bayes Classifier using `pclass`, `sex`, `decade`, `parch`, `sibsp`:"
   ]
  },
  {
   "cell_type": "code",
   "execution_count": 57,
   "metadata": {},
   "outputs": [],
   "source": [
    "clf = CategoricalNB()"
   ]
  },
  {
   "cell_type": "code",
   "execution_count": 58,
   "metadata": {},
   "outputs": [],
   "source": [
    "clf.fit(encoder.transform(with_age[[\"pclass\", \"sex\", \"decade\", \"parch\", \"sibsp\"]]), with_age[\"survived\"]);"
   ]
  },
  {
   "cell_type": "markdown",
   "metadata": {},
   "source": [
    "<div style=\"background: salmon; margin:20px; padding: 20px;\">\n",
    "    <strong>Caution</strong>\n",
    "    <p>You should not generally leave answers as raw data structures, especially if you're going to share notebooks with non-technical people. Write a small function to display the results.</p>\n",
    "</div>"
   ]
  },
  {
   "cell_type": "code",
   "execution_count": 59,
   "metadata": {},
   "outputs": [],
   "source": [
    "def display_prediction(probs):\n",
    "    print(f\"P(    survive|*): {probs[0][1]}\")\n",
    "    print(f\"P(not survive|*): {probs[0][0]}\")"
   ]
  },
  {
   "cell_type": "markdown",
   "metadata": {},
   "source": [
    "It is often convenient to \"namespace\" results by using a Dict:"
   ]
  },
  {
   "cell_type": "code",
   "execution_count": 60,
   "metadata": {},
   "outputs": [],
   "source": [
    "predictions = {}"
   ]
  },
  {
   "cell_type": "markdown",
   "metadata": {},
   "source": [
    "We can now predict the outcome for 5 passengers onboard Titanic.\n",
    "\n",
    "First, we have a 20-something first class, female passenger with no parents or siblings. The hypothesis is that she would survive:"
   ]
  },
  {
   "cell_type": "code",
   "execution_count": 61,
   "metadata": {},
   "outputs": [],
   "source": [
    "predictions[1] = clf.predict_proba(encoder.transform([(1, 'female', 20, 0, 0)]))"
   ]
  },
  {
   "cell_type": "code",
   "execution_count": 62,
   "metadata": {},
   "outputs": [
    {
     "name": "stdout",
     "output_type": "stream",
     "text": [
      "P(    survive|*): 0.8135961772515267\n",
      "P(not survive|*): 0.18640382274847336\n"
     ]
    }
   ],
   "source": [
    "display_prediction(predictions[1])"
   ]
  },
  {
   "cell_type": "markdown",
   "metadata": {},
   "source": [
    "There is an 81.4% chance that she survived.\n",
    "\n",
    "Now we have a 40-something second class, male passenger, with children and a spouse. We predict he did not survive:"
   ]
  },
  {
   "cell_type": "code",
   "execution_count": 63,
   "metadata": {},
   "outputs": [],
   "source": [
    "predictions[2] = clf.predict_proba(encoder.transform([(2, 'male', 40, 1, 1)]))"
   ]
  },
  {
   "cell_type": "code",
   "execution_count": 64,
   "metadata": {},
   "outputs": [
    {
     "name": "stdout",
     "output_type": "stream",
     "text": [
      "P(    survive|*): 0.3991498803441676\n",
      "P(not survive|*): 0.6008501196558327\n"
     ]
    }
   ],
   "source": [
    "display_prediction(predictions[2])"
   ]
  },
  {
   "cell_type": "markdown",
   "metadata": {},
   "source": [
    "We are correct, the probability that he did not survive is higher than the probability of surviving, but it's not completely off from 50/50.\n",
    "\n",
    "What about his wife, I think she would have survived. (#3)"
   ]
  },
  {
   "cell_type": "code",
   "execution_count": 65,
   "metadata": {},
   "outputs": [],
   "source": [
    "predictions[3] = clf.predict_proba(encoder.transform([(2, 'female', 40, 1, 1)]))"
   ]
  },
  {
   "cell_type": "code",
   "execution_count": 66,
   "metadata": {},
   "outputs": [
    {
     "name": "stdout",
     "output_type": "stream",
     "text": [
      "P(    survive|*): 0.8854708231492583\n",
      "P(not survive|*): 0.11452917685074214\n"
     ]
    }
   ],
   "source": [
    "display_prediction(predictions[3])"
   ]
  },
  {
   "cell_type": "markdown",
   "metadata": {},
   "source": [
    "The model predicts she survived and quite strongly, with odds almost 9 to 1 for survival.\n",
    "\n",
    "Let's look at someone from 3rd class. A man in his 40s with wife and children, it doesn't seem like that he survived:"
   ]
  },
  {
   "cell_type": "code",
   "execution_count": 67,
   "metadata": {
    "tags": []
   },
   "outputs": [],
   "source": [
    "predictions[4] = clf.predict_proba(encoder.transform([(3, 'male', 40, 1, 1)]))"
   ]
  },
  {
   "cell_type": "code",
   "execution_count": 68,
   "metadata": {},
   "outputs": [
    {
     "name": "stdout",
     "output_type": "stream",
     "text": [
      "P(    survive|*): 0.23048648724015464\n",
      "P(not survive|*): 0.7695135127598455\n"
     ]
    }
   ],
   "source": [
    "display_prediction(predictions[4])"
   ]
  },
  {
   "cell_type": "markdown",
   "metadata": {},
   "source": [
    "Unfortunately, there is a 77% chance that he didn't survive the sinking. \n",
    "\n",
    "What about *his* wife, she might have survived?"
   ]
  },
  {
   "cell_type": "code",
   "execution_count": 69,
   "metadata": {},
   "outputs": [],
   "source": [
    "predictions[5] = clf.predict_proba(encoder.transform([(3, 'female', 30, 1, 1)]))"
   ]
  },
  {
   "cell_type": "code",
   "execution_count": 70,
   "metadata": {},
   "outputs": [
    {
     "name": "stdout",
     "output_type": "stream",
     "text": [
      "P(    survive|*): 0.8020413682445285\n",
      "P(not survive|*): 0.19795863175547118\n"
     ]
    }
   ],
   "source": [
    "display_prediction(predictions[5])"
   ]
  },
  {
   "cell_type": "markdown",
   "metadata": {},
   "source": [
    "She most likely survived."
   ]
  },
  {
   "cell_type": "markdown",
   "metadata": {},
   "source": [
    "\n",
    "<div style=\"background: peachpuff; margin:20px; padding: 20px;\">\n",
    "    <strong>Rubric</strong>\n",
    "    <p>The most important thing here is the discussion and the fact that each prediction was treated individually. Do not write everything in a loop and then say \"as you can see in row 2\" or \"person #3 survived\". Give every prediction your undivided attention.</p>\n",
    "</div>\n"
   ]
  },
  {
   "cell_type": "markdown",
   "metadata": {},
   "source": [
    "<div style=\"background: lemonchiffon; margin:20px; padding: 20px;\">\n",
    "    <strong>Note</strong>\n",
    "    <p>There were any number of ways you could have done this. It might have been more interesting to pick specific passengers, predict their survival and see if they actually survived (remembering that it is probabilistic). However, you should have followed the basic format.</p>\n",
    "    <p>We'll talk a lot more about modeling in the future, especially the use of training and test sets</p>\n",
    "    <p>If this took you a while, you're not alone. Working with data is time consuming and sometimes difficult but very rewarding.</p>\n",
    "</div>"
   ]
  }
 ],
 "metadata": {
  "colab": {
   "include_colab_link": true,
   "name": "Lab 2.ipynb",
   "provenance": []
  },
  "jupytext": {
   "formats": "ipynb,md:myst"
  },
  "kernelspec": {
   "display_name": "Python (en685648)",
   "language": "python",
   "name": "en685648"
  },
  "language_info": {
   "codemirror_mode": {
    "name": "ipython",
    "version": 3
   },
   "file_extension": ".py",
   "mimetype": "text/x-python",
   "name": "python",
   "nbconvert_exporter": "python",
   "pygments_lexer": "ipython3",
   "version": "3.10.4"
  },
  "toc": {
   "colors": {
    "hover_highlight": "#DAA520",
    "navigate_num": "#000000",
    "navigate_text": "#333333",
    "running_highlight": "#FF0000",
    "selected_highlight": "#FFD700",
    "sidebar_border": "#EEEEEE",
    "wrapper_background": "#FFFFFF"
   },
   "moveMenuLeft": true,
   "nav_menu": {
    "height": "207px",
    "width": "252px"
   },
   "navigate_menu": true,
   "number_sections": true,
   "sideBar": true,
   "threshold": 4,
   "toc_cell": false,
   "toc_section_display": "block",
   "toc_window_display": false,
   "widenNotebook": false
  }
 },
 "nbformat": 4,
 "nbformat_minor": 4
}
