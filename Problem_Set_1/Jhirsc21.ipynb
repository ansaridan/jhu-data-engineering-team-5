{
 "cells": [
  {
   "cell_type": "markdown",
   "metadata": {
    "colab_type": "text",
    "id": "view-in-github"
   },
   "source": [
    "<a href=\"https://colab.research.google.com/github/fundamentals-of-data-science/course-materials/blob/master/problem_sets/Problem_Set_1.ipynb\" target=\"_parent\"><img src=\"https://colab.research.google.com/assets/colab-badge.svg\" alt=\"Open In Colab\"/></a>"
   ]
  },
  {
   "cell_type": "code",
   "execution_count": 1,
   "metadata": {
    "colab": {},
    "colab_type": "code",
    "id": "jkhwYmUFwHNf"
   },
   "outputs": [],
   "source": [
    "%matplotlib inline"
   ]
  },
  {
   "cell_type": "markdown",
   "metadata": {
    "colab_type": "text",
    "id": "NA-BZyvtwHNr"
   },
   "source": [
    "# Problem Set 1\n",
    "\n",
    "## Directions\n",
    "\n",
    "1. Show all work/steps/calculations using a combination of code and Markdown.\n",
    "2. **All** work is to be your own. This is not a group project. You may, however, use code from the lectures and labs. Provide citations for any code that is not your own. You may also consult Stackoverflow, etc. This is not by any means \"closed book\" or anything like that. Basically, I need to see if *you* learned the concepts from the Lectures, *Fundamentals*, and Labs.\n",
    "3. Add whatever markdown or code cells you need in each part to explain and calculate your answers. Don't just provide answers but explain them as well. **Explain and interpret your results.**\n",
    "\n",
    "**Submission**\n",
    "\n",
    "For this assignment...\n",
    "\n",
    "0. Complete the pre-submission checklist at the end of the notebook.\n",
    "1. Name the notebook to be your JHED ID, ie, `ssmith1.ipynb`. Do not add anything else to the name.\n",
    "2. Upload to Canvas.\n",
    "\n",
    "Do not add anything to the names like \" Problem Set 2\".\n",
    "Any assignment not following the submission guidelines will generally be assumed to be incomplete under the Syllabus and therefore a \"C\".\n",
    "\n",
    "\n",
    "<div style=\"background: lemonchiffon; margin:20px; padding: 20px;\">\n",
    "    <strong>Note</strong>\n",
    "    <p>This Problem Set covers Lab 2 and the Titanic Case Study (and the corresponding course materials).</p>\n",
    "</div>\n",
    "\n",
    "\n",
    "**Do not delete or otherwise change the formatting, order, text of the questions**\n",
    "\n"
   ]
  },
  {
   "cell_type": "markdown",
   "metadata": {
    "colab_type": "text",
    "id": "-3khLTclwHOJ"
   },
   "source": [
    "## Question 1 - Bayes Rule"
   ]
  },
  {
   "cell_type": "markdown",
   "metadata": {},
   "source": [
    "### Concepts"
   ]
  },
  {
   "cell_type": "markdown",
   "metadata": {},
   "source": [
    "**Part 1**\n",
    "\n",
    "$$P(H|D) = \\frac{P(D|H)P(H)}{P(D)}$$\n",
    "\n",
    "If we let H be some condition, characteristic, hypothesis and D be some data, evidence, a test result), then how do we interpret each of the following in Bayes Rule: $P(H)$, $P(D)$, $P(H|D)$, $P(D|H)$, $P(H, D)$?\n"
   ]
  },
  {
   "cell_type": "markdown",
   "metadata": {},
   "source": [
    "`P(H)` - The prior distribution, or prior probability of the hypothesis. How likely the hypothesis is before we receive new evidence. <br><br>\n",
    "\n",
    "`P(D)` - The probability of the data, also called the normalizer. Often an unknown value, and we can use the law of Total Probability in order to find it. <br><br>\n",
    "\n",
    "`P(H|D)` - The posterior distribution, or posterior probability of the hypothesis. How likely the hypothesis is after we receive new evidence. <br><br>\n",
    "\n",
    "`P(D|H)` - The probability of the data, given the hypothesis. Also called the likelihood. <br><br>\n",
    "\n",
    "`P(H,D)` - The joint probability distribution between the hypothesis and the data. Not used in the Bayes Rule calculation.\n",
    "\n"
   ]
  },
  {
   "cell_type": "markdown",
   "metadata": {
    "colab_type": "text",
    "id": "-3khLTclwHOJ"
   },
   "source": [
    "### Application\n",
    "\n",
    "Use the code provided in *Fundamentals* to do your Naive Bayes calculations.\n",
    "Focus on calculating the required probabilities to fill out the data structure and on discussion.\n",
    "Read the directions *carefully*.\n",
    "\n",
    "**Part 2.** \n",
    "\n",
    "There is a genetic condition that affects 2.3% of the population, C = {c, ~c}. If someone has the condition, the test (T) can detect that fact accurately 72.1% of the time (true positive rate). However, the test (T) also returns a positive response in 20.3% of the cases where the someone does not have the condition (false positive rate), T={pos, neg}.\n",
    "\n",
    "**DO NOT CHANGE THE NOTATION**\n",
    "\n",
    "1. If we want to know `P(C|T)`, write out Bayes Rule for this problem:"
   ]
  },
  {
   "cell_type": "markdown",
   "metadata": {
    "colab_type": "text",
    "id": "owZdvNSqwHOL"
   },
   "source": [
    "$? = \\frac{? * ?}{?}$"
   ]
  },
  {
   "cell_type": "markdown",
   "metadata": {},
   "source": [
    "Bayes Rule for this problem looks like: <br>\n",
    "$$P(C|T) = \\frac{P(T|C)*P(C)}{P(T)}$$\n",
    "or\n",
    "$$P(Condition|Test) = \\frac{P(Test|Condition)*P(Condition)}{P(Test)}$$"
   ]
  },
  {
   "cell_type": "markdown",
   "metadata": {
    "colab_type": "text",
    "id": "8xObVZNzwHOO"
   },
   "source": [
    "2. Using the values supplied in the description of the problem, specify all priors and likelihoods for the version of Bayes Rule you just wrote out. Calculating the missing values."
   ]
  },
  {
   "cell_type": "markdown",
   "metadata": {
    "colab_type": "text",
    "id": "Cfx0CZh6wHOQ"
   },
   "source": [
    "The values we have from the problem are: <br>\n",
    "`P(C = c) = 0.023` <br>\n",
    "`P(T = pos|C = c) = 0.721` <br>\n",
    "`P(T = pos|C = ~c) = 0.203`\n"
   ]
  },
  {
   "cell_type": "markdown",
   "metadata": {},
   "source": [
    "We are missing the prior probability `P(C = ~c)`, and the likelihoods `P(T = neg | C = c)`, <br> `P(T = neg | C = ~c)`"
   ]
  },
  {
   "cell_type": "markdown",
   "metadata": {},
   "source": [
    "<strong>Calculations</strong> <br> We can easily calculate `P(C = ~c)` by the second axiom of probability. Since there are only two events for `P(C)`, we know that `P(C = c) + P(C = ~c) = 1`, and find that <br><br> `P(C = ~c) = 1 - 0.023 = 0.977`"
   ]
  },
  {
   "cell_type": "markdown",
   "metadata": {},
   "source": [
    "Similarly, we can say that <br><br>\n",
    "`P(T = neg | C = c) = 1 - P(T = pos | C = c) = 1 - 0.721 = 0.279` <br>\n",
    "`P(T = neg | C = ~c) = 1 - P(T = pos | C = ~c) = 1 - 0.203 = 0.797`"
   ]
  },
  {
   "cell_type": "markdown",
   "metadata": {
    "colab_type": "text",
    "id": "85X9P6OBwHOR"
   },
   "source": [
    "3. Calculate `P(C|T)`."
   ]
  },
  {
   "cell_type": "markdown",
   "metadata": {
    "colab_type": "text",
    "id": "-393PSMCwHOT"
   },
   "source": [
    "There are 4 posterior probabilities we need to calculate. Let's start with <br>\n",
    "`P(C = c | T = pos)`. We know that <br>\n",
    "\n",
    "$$P(C = c|T = pos) = \\frac{P(T = pos|C = c)*P(C = c)}{P(T = pos)}$$\n"
   ]
  },
  {
   "cell_type": "markdown",
   "metadata": {},
   "source": [
    "First, we need to find $P(T = pos)$, which we can do by the total law of probability that <br>\n",
    "$$P(T = pos) = \\sum P(T | C)* P(C) $$\n",
    "$$ = P(T = pos | C = c) * P(C = c) + P(T = pos | C =  \\sim c)* P(C =  \\sim c) $$\n",
    "$$ = (0.721 * 0.023) + (0.203 * 0.977) = 0.215 $$"
   ]
  },
  {
   "cell_type": "markdown",
   "metadata": {},
   "source": [
    "Therefore, <br>\n",
    "$$P(C = c|T = pos)  = \\frac{(0.721 * 0.023)}{0.215}  = 0.077$$"
   ]
  },
  {
   "cell_type": "markdown",
   "metadata": {},
   "source": [
    "Similarly, <br>\n",
    "$$P(C = \\sim c|T = pos)  = \\frac{(0.203 * 0.977)}{0.215} = 0.922$$ \n",
    "$$P(C = c|T = neg)  = \\frac{(0.279 * 0.023)}{0.785} = 0.008$$ \n",
    "$$P(C = \\sim c|T = neg)  = \\frac{(0.797 * 0.977)}{0.785} = 0.992$$ "
   ]
  },
  {
   "cell_type": "markdown",
   "metadata": {},
   "source": [
    "Note - We could have used the `normalize` and `query` helper functions from *Fundamentals*, Chapter 2, pages 132-133 to code these solutions instead of writing it out manually. However, I felt more comfortable doing the manual calculations, but recognize that coding the solution would be much faster when the probability distribution is much larger."
   ]
  },
  {
   "cell_type": "code",
   "execution_count": 2,
   "metadata": {},
   "outputs": [],
   "source": [
    "from tabulate import tabulate"
   ]
  },
  {
   "cell_type": "markdown",
   "metadata": {},
   "source": [
    "Below we can see the same posterior probabilities in a table and compare to the prior."
   ]
  },
  {
   "cell_type": "code",
   "execution_count": 3,
   "metadata": {},
   "outputs": [
    {
     "name": "stdout",
     "output_type": "stream",
     "text": [
      "C    T      P(C|T)    P(C)\n",
      "---  ---  --------  ------\n",
      "c    pos     0.077   0.023\n",
      "~c   pos     0.922   0.977\n",
      "c    neg     0.008   0.023\n",
      "~c   neg     0.992   0.977\n"
     ]
    }
   ],
   "source": [
    "table = [\n",
    "    ['c', 'pos', 0.077, 0.023],\n",
    "    ['~c', 'pos', 0.922, 0.977],\n",
    "    ['c', 'neg', 0.008, 0.023],\n",
    "    ['~c', 'neg', 0.992, 0.977]\n",
    "]\n",
    "\n",
    "print(tabulate(table, headers=['C', 'T', 'P(C|T)', 'P(C)']))"
   ]
  },
  {
   "cell_type": "markdown",
   "metadata": {},
   "source": [
    "Here we can see the posterior probabilities as well as the priors, for reference."
   ]
  },
  {
   "cell_type": "markdown",
   "metadata": {},
   "source": [
    "4. Please explain each individual probability in words and the difference between the prior and the posterior and the reason for the difference."
   ]
  },
  {
   "cell_type": "markdown",
   "metadata": {},
   "source": [
    "<Strong>Conclusion</Strong><br>\n",
    "\n",
    "`P(C = c | T = pos)` - The probability a patient has the condition, given they test positive for it. Larger than the prior. The true positive rate, so the test will give an accurate result. <br>\n",
    "\n",
    "`P(C = ~c | T = pos)` - The probability a patient does not have the condition, given they test positive for it. Smaller than the prior. The false positive rate, it makes sense it will go down given new information. <br>\n",
    "\n",
    "`P(C = c | T = neg)` - The probability a patient has the condition, given they test negative for it. Smaller than the prior. Makes sense that given other information, there is a smaller probability the test will fail to detect a patient with the condition. <br>\n",
    "\n",
    "`P(C = ~c | T = neg)` - The probability a patient does not have the condition, given they test negative for it. Larger than the prior. This means the test will be accurate, giving a negative result for patients without the condition."
   ]
  },
  {
   "cell_type": "markdown",
   "metadata": {
    "colab_type": "text",
    "id": "0HDtAIq6wHOU"
   },
   "source": [
    "**Part 3.** \n",
    "\n",
    "Re-calculate #2-4 (including discussion) but assume a new test has a true positive rate is 97.3% but the false positive rate is 37.2%.\n"
   ]
  },
  {
   "cell_type": "markdown",
   "metadata": {},
   "source": [
    "2. Using the values supplied in the description of the problem, specify all priors and likelihoods for the version of Bayes Rule you just wrote out. Calculating the missing values."
   ]
  },
  {
   "cell_type": "markdown",
   "metadata": {},
   "source": [
    "The new values we have from the problem are: <br>\n",
    "`P(C = c) = 0.023` <br>\n",
    "`P(T = pos|C = c) = 0.973` <br>\n",
    "`P(T = pos|C = ~c) = 0.372`"
   ]
  },
  {
   "cell_type": "markdown",
   "metadata": {},
   "source": [
    "Again, we are missing the prior probability `P(C = ~c)`, and the likelihoods `P(T = neg | C = c)`, <br> `P(T = neg | C = ~c)`"
   ]
  },
  {
   "cell_type": "markdown",
   "metadata": {},
   "source": [
    "The prior probability `P(C = ~c) = 0.977` does not change from earlier."
   ]
  },
  {
   "cell_type": "markdown",
   "metadata": {},
   "source": [
    "We can calculate <br><br>\n",
    "`P(T = neg | C = c) = 1 - P(T = pos | C = c) = 1 - 0.973 = 0.027` <br>\n",
    "`P(T = neg | C = ~c) = 1 - P(T = pos | C = ~c) = 1 - 0.372 = 0.628`"
   ]
  },
  {
   "cell_type": "markdown",
   "metadata": {},
   "source": [
    "3. Calculate `P(C|T)`."
   ]
  },
  {
   "cell_type": "markdown",
   "metadata": {},
   "source": [
    "We find again by total law of probability that <br>\n",
    "`P(T = pos) = 0.386` <br>\n",
    "`P(T = neg) = 0.614`"
   ]
  },
  {
   "cell_type": "markdown",
   "metadata": {},
   "source": [
    "Again, there are 4 posterior probabilities we need to calculate. <br>\n",
    "\n",
    "$$P(C = c|T = pos)  = \\frac{(0.973 * 0.023)}{0.386} = 0.058$$ \n",
    "$$P(C = \\sim c|T = pos)  = \\frac{(0.372 * 0.977)}{0.386} = 0.942$$ \n",
    "$$P(C = c|T = neg)  = \\frac{(0.027 * 0.023)}{0.614} = 0.001$$ \n",
    "$$P(C = \\sim c|T = neg)  = \\frac{(0.628 * 0.977)}{0.614} = 0.999$$ "
   ]
  },
  {
   "cell_type": "code",
   "execution_count": 4,
   "metadata": {},
   "outputs": [
    {
     "name": "stdout",
     "output_type": "stream",
     "text": [
      "C    T      P(C|T)    P(C)\n",
      "---  ---  --------  ------\n",
      "c    pos     0.058   0.023\n",
      "~c   pos     0.942   0.977\n",
      "c    neg     0.001   0.023\n",
      "~c   neg     0.999   0.977\n"
     ]
    }
   ],
   "source": [
    "table = [\n",
    "    ['c', 'pos', 0.058, 0.023],\n",
    "    ['~c', 'pos', 0.942, 0.977],\n",
    "    ['c', 'neg', 0.001, 0.023],\n",
    "    ['~c', 'neg', 0.999, 0.977]\n",
    "]\n",
    "\n",
    "print(tabulate(table, headers=['C', 'T', 'P(C|T)', 'P(C)']))"
   ]
  },
  {
   "cell_type": "markdown",
   "metadata": {},
   "source": [
    "<Strong>Conclusion</Strong><br>\n",
    "\n",
    "We see similar results to the first part, but note that for the posterior where `T=pos`, the difference from the prior was not as great, while when `T=neg`, the posterior here has a larger difference compared to the prior. This makes sense when considering the true positive and false positive rates are much higher in this scenario. There is a lower probability that a patient has the condition given the test is positive, due to the higher false positive rate, for example."
   ]
  },
  {
   "cell_type": "markdown",
   "metadata": {},
   "source": [
    "## Question 2 - 1994 Adult Census Data - Empirical Probability\n",
    "\n",
    "For this question, you will answer queries in conditional probability as was done with the Titanic Case Study.\n",
    "Because we have not had Exploratory Data Analysis yet, we will not ask you to explore the data \"in general\".\n",
    "Instead, for each calculation, you should examine the variables involved individually, looking to see if they have missing values, what their values look like (most of the data is categorical), and to see if any transformations are in order.\n",
    "This means that the variable stated in the question $P(X|Y)$ may not need to be the *literal* variable $X$ or $Y$ but can instead be a transformation of that variable (with an informative name).\n",
    "State your reasons for any such transformation.\n",
    "\n",
    "You may use code from the Titanic Case Study as you see fit. Add any other imports you need.\n",
    "\n",
    "To reiterate, for each calculation:\n",
    "\n",
    "1. Look at the values and counts/percentages for each variable (unless it's been done before). That is, look at the marginal probabilities.\n",
    "2. Before each calculation, write down a hypothesis about what you expect to see. For example, if you are about to calculate a conditional probability distribution, what do you expect the distribution to look like?\n",
    "3. Make the calculation.\n",
    "4. Discuss what the results show, relative to your hypothesis."
   ]
  },
  {
   "cell_type": "code",
   "execution_count": 5,
   "metadata": {},
   "outputs": [],
   "source": [
    "import warnings"
   ]
  },
  {
   "cell_type": "code",
   "execution_count": 6,
   "metadata": {},
   "outputs": [],
   "source": [
    "warnings.filterwarnings('ignore')"
   ]
  },
  {
   "cell_type": "code",
   "execution_count": 7,
   "metadata": {},
   "outputs": [],
   "source": [
    "import pandas as pd\n",
    "from pandasql import sqldf\n",
    "import seaborn as sns\n",
    "import matplotlib.pyplot as plt"
   ]
  },
  {
   "cell_type": "markdown",
   "metadata": {},
   "source": [
    "Load the data:"
   ]
  },
  {
   "cell_type": "code",
   "execution_count": 8,
   "metadata": {},
   "outputs": [],
   "source": [
    "income = pd.read_csv(\"https://raw.githubusercontent.com/fundamentals-of-data-science/datasets/master/income.csv\")"
   ]
  },
  {
   "cell_type": "markdown",
   "metadata": {},
   "source": [
    "`info()` will give us a quick overview of the data (we'll talk about this more in Module 4, ETL)"
   ]
  },
  {
   "cell_type": "code",
   "execution_count": 9,
   "metadata": {},
   "outputs": [
    {
     "name": "stdout",
     "output_type": "stream",
     "text": [
      "<class 'pandas.core.frame.DataFrame'>\n",
      "RangeIndex: 32561 entries, 0 to 32560\n",
      "Data columns (total 15 columns):\n",
      " #   Column           Non-Null Count  Dtype \n",
      "---  ------           --------------  ----- \n",
      " 0   age              32561 non-null  int64 \n",
      " 1   class            32561 non-null  object\n",
      " 2   fnlwght          32561 non-null  int64 \n",
      " 3   education        32561 non-null  object\n",
      " 4   education_years  32561 non-null  int64 \n",
      " 5   marital_status   32561 non-null  object\n",
      " 6   occupation       32561 non-null  object\n",
      " 7   relationship     32561 non-null  object\n",
      " 8   race             32561 non-null  object\n",
      " 9   sex              32561 non-null  object\n",
      " 10  capital_gain     32561 non-null  int64 \n",
      " 11  capital_loss     32561 non-null  int64 \n",
      " 12  hours_per_week   32561 non-null  int64 \n",
      " 13  native_country   32561 non-null  object\n",
      " 14  agi              32561 non-null  object\n",
      "dtypes: int64(6), object(9)\n",
      "memory usage: 3.7+ MB\n"
     ]
    }
   ],
   "source": [
    "income.info()"
   ]
  },
  {
   "cell_type": "markdown",
   "metadata": {},
   "source": [
    "Looking at the first rows, we can get a general idea of the data:"
   ]
  },
  {
   "cell_type": "code",
   "execution_count": 10,
   "metadata": {},
   "outputs": [
    {
     "data": {
      "text/html": [
       "<div>\n",
       "<style scoped>\n",
       "    .dataframe tbody tr th:only-of-type {\n",
       "        vertical-align: middle;\n",
       "    }\n",
       "\n",
       "    .dataframe tbody tr th {\n",
       "        vertical-align: top;\n",
       "    }\n",
       "\n",
       "    .dataframe thead th {\n",
       "        text-align: right;\n",
       "    }\n",
       "</style>\n",
       "<table border=\"1\" class=\"dataframe\">\n",
       "  <thead>\n",
       "    <tr style=\"text-align: right;\">\n",
       "      <th></th>\n",
       "      <th>age</th>\n",
       "      <th>class</th>\n",
       "      <th>fnlwght</th>\n",
       "      <th>education</th>\n",
       "      <th>education_years</th>\n",
       "      <th>marital_status</th>\n",
       "      <th>occupation</th>\n",
       "      <th>relationship</th>\n",
       "      <th>race</th>\n",
       "      <th>sex</th>\n",
       "      <th>capital_gain</th>\n",
       "      <th>capital_loss</th>\n",
       "      <th>hours_per_week</th>\n",
       "      <th>native_country</th>\n",
       "      <th>agi</th>\n",
       "    </tr>\n",
       "  </thead>\n",
       "  <tbody>\n",
       "    <tr>\n",
       "      <th>0</th>\n",
       "      <td>39</td>\n",
       "      <td>State-gov</td>\n",
       "      <td>77516</td>\n",
       "      <td>Bachelors</td>\n",
       "      <td>13</td>\n",
       "      <td>Never-married</td>\n",
       "      <td>Adm-clerical</td>\n",
       "      <td>Not-in-family</td>\n",
       "      <td>White</td>\n",
       "      <td>Male</td>\n",
       "      <td>2174</td>\n",
       "      <td>0</td>\n",
       "      <td>40</td>\n",
       "      <td>United-States</td>\n",
       "      <td>&lt;=50K</td>\n",
       "    </tr>\n",
       "    <tr>\n",
       "      <th>1</th>\n",
       "      <td>50</td>\n",
       "      <td>Self-emp-not-inc</td>\n",
       "      <td>83311</td>\n",
       "      <td>Bachelors</td>\n",
       "      <td>13</td>\n",
       "      <td>Married-civ-spouse</td>\n",
       "      <td>Exec-managerial</td>\n",
       "      <td>Husband</td>\n",
       "      <td>White</td>\n",
       "      <td>Male</td>\n",
       "      <td>0</td>\n",
       "      <td>0</td>\n",
       "      <td>13</td>\n",
       "      <td>United-States</td>\n",
       "      <td>&lt;=50K</td>\n",
       "    </tr>\n",
       "    <tr>\n",
       "      <th>2</th>\n",
       "      <td>38</td>\n",
       "      <td>Private</td>\n",
       "      <td>215646</td>\n",
       "      <td>HS-grad</td>\n",
       "      <td>9</td>\n",
       "      <td>Divorced</td>\n",
       "      <td>Handlers-cleaners</td>\n",
       "      <td>Not-in-family</td>\n",
       "      <td>White</td>\n",
       "      <td>Male</td>\n",
       "      <td>0</td>\n",
       "      <td>0</td>\n",
       "      <td>40</td>\n",
       "      <td>United-States</td>\n",
       "      <td>&lt;=50K</td>\n",
       "    </tr>\n",
       "    <tr>\n",
       "      <th>3</th>\n",
       "      <td>53</td>\n",
       "      <td>Private</td>\n",
       "      <td>234721</td>\n",
       "      <td>11th</td>\n",
       "      <td>7</td>\n",
       "      <td>Married-civ-spouse</td>\n",
       "      <td>Handlers-cleaners</td>\n",
       "      <td>Husband</td>\n",
       "      <td>Black</td>\n",
       "      <td>Male</td>\n",
       "      <td>0</td>\n",
       "      <td>0</td>\n",
       "      <td>40</td>\n",
       "      <td>United-States</td>\n",
       "      <td>&lt;=50K</td>\n",
       "    </tr>\n",
       "    <tr>\n",
       "      <th>4</th>\n",
       "      <td>28</td>\n",
       "      <td>Private</td>\n",
       "      <td>338409</td>\n",
       "      <td>Bachelors</td>\n",
       "      <td>13</td>\n",
       "      <td>Married-civ-spouse</td>\n",
       "      <td>Prof-specialty</td>\n",
       "      <td>Wife</td>\n",
       "      <td>Black</td>\n",
       "      <td>Female</td>\n",
       "      <td>0</td>\n",
       "      <td>0</td>\n",
       "      <td>40</td>\n",
       "      <td>Cuba</td>\n",
       "      <td>&lt;=50K</td>\n",
       "    </tr>\n",
       "  </tbody>\n",
       "</table>\n",
       "</div>"
      ],
      "text/plain": [
       "   age             class  fnlwght  education  education_years  \\\n",
       "0   39         State-gov    77516  Bachelors               13   \n",
       "1   50  Self-emp-not-inc    83311  Bachelors               13   \n",
       "2   38           Private   215646    HS-grad                9   \n",
       "3   53           Private   234721       11th                7   \n",
       "4   28           Private   338409  Bachelors               13   \n",
       "\n",
       "       marital_status         occupation   relationship   race     sex  \\\n",
       "0       Never-married       Adm-clerical  Not-in-family  White    Male   \n",
       "1  Married-civ-spouse    Exec-managerial        Husband  White    Male   \n",
       "2            Divorced  Handlers-cleaners  Not-in-family  White    Male   \n",
       "3  Married-civ-spouse  Handlers-cleaners        Husband  Black    Male   \n",
       "4  Married-civ-spouse     Prof-specialty           Wife  Black  Female   \n",
       "\n",
       "   capital_gain  capital_loss  hours_per_week native_country    agi  \n",
       "0          2174             0              40  United-States  <=50K  \n",
       "1             0             0              13  United-States  <=50K  \n",
       "2             0             0              40  United-States  <=50K  \n",
       "3             0             0              40  United-States  <=50K  \n",
       "4             0             0              40           Cuba  <=50K  "
      ]
     },
     "execution_count": 10,
     "metadata": {},
     "output_type": "execute_result"
    }
   ],
   "source": [
    "income.head()"
   ]
  },
  {
   "cell_type": "markdown",
   "metadata": {},
   "source": [
    "## Conditional Probabilities\n",
    "\n",
    "You *will* need more cells for your answer. Add them as you need them. There are already the 3 default cells there for you. You will need more. Always make those three and fill them in: \n",
    "\n",
    "* discuss\n",
    "* code\n",
    "* discuss\n",
    "\n",
    "1. $P(agi|age)$"
   ]
  },
  {
   "cell_type": "markdown",
   "metadata": {},
   "source": [
    "In order to work easier with the conditional probabilities, I will be copying the `summarize_category` function from the Titanic Case Study in *Fundamentals*, Chapter 4, page 158."
   ]
  },
  {
   "cell_type": "code",
   "execution_count": 11,
   "metadata": {},
   "outputs": [],
   "source": [
    "from pandas.core.algorithms import value_counts\n",
    "from pandas.core.reshape.concat import concat"
   ]
  },
  {
   "cell_type": "code",
   "execution_count": 12,
   "metadata": {},
   "outputs": [],
   "source": [
    "def summarize_category(series):\n",
    "    res_regu = value_counts(series)\n",
    "    res_norm = value_counts(series, normalize=True)\n",
    "    result = concat([res_regu, res_norm], axis=1, keys=['Count', 'Frequency'])\n",
    "    result = result.sort_index()\n",
    "    return result"
   ]
  },
  {
   "cell_type": "markdown",
   "metadata": {},
   "source": [
    "First let's get a good idea of what the `Agi` and `Age` categories look like by summarizing them. First up is `Agi`."
   ]
  },
  {
   "cell_type": "code",
   "execution_count": 13,
   "metadata": {},
   "outputs": [
    {
     "data": {
      "text/html": [
       "<div>\n",
       "<style scoped>\n",
       "    .dataframe tbody tr th:only-of-type {\n",
       "        vertical-align: middle;\n",
       "    }\n",
       "\n",
       "    .dataframe tbody tr th {\n",
       "        vertical-align: top;\n",
       "    }\n",
       "\n",
       "    .dataframe thead th {\n",
       "        text-align: right;\n",
       "    }\n",
       "</style>\n",
       "<table border=\"1\" class=\"dataframe\">\n",
       "  <thead>\n",
       "    <tr style=\"text-align: right;\">\n",
       "      <th></th>\n",
       "      <th>Count</th>\n",
       "      <th>Frequency</th>\n",
       "    </tr>\n",
       "    <tr>\n",
       "      <th>agi</th>\n",
       "      <th></th>\n",
       "      <th></th>\n",
       "    </tr>\n",
       "  </thead>\n",
       "  <tbody>\n",
       "    <tr>\n",
       "      <th>&lt;=50K</th>\n",
       "      <td>24720</td>\n",
       "      <td>0.75919</td>\n",
       "    </tr>\n",
       "    <tr>\n",
       "      <th>&gt;50K</th>\n",
       "      <td>7841</td>\n",
       "      <td>0.24081</td>\n",
       "    </tr>\n",
       "  </tbody>\n",
       "</table>\n",
       "</div>"
      ],
      "text/plain": [
       "       Count  Frequency\n",
       "agi                    \n",
       "<=50K  24720    0.75919\n",
       ">50K    7841    0.24081"
      ]
     },
     "execution_count": 13,
     "metadata": {},
     "output_type": "execute_result"
    }
   ],
   "source": [
    "summarize_category(income['agi'])"
   ]
  },
  {
   "cell_type": "markdown",
   "metadata": {},
   "source": [
    "We can see that the probability a person's adjusted gross income is less than or equal to 50K is about 76%. Simiarly, the probability a person's agi is greater than 50K is about 24%. Note that there are only 2 categories here, even though we have a `<=` and `>` in the descriptors. In other words <br>\n",
    "`P(agi = <=50K ) = 0.759` <br>\n",
    "`P(agi = >50K) = 0.241` <br>\n",
    "I will continue to use decimal notation rather than percents, since we tend to use decimals in calculations and not actual percentages."
   ]
  },
  {
   "cell_type": "markdown",
   "metadata": {},
   "source": [
    "Now let's look at `Age`."
   ]
  },
  {
   "cell_type": "code",
   "execution_count": 14,
   "metadata": {},
   "outputs": [
    {
     "data": {
      "text/html": [
       "<div>\n",
       "<style scoped>\n",
       "    .dataframe tbody tr th:only-of-type {\n",
       "        vertical-align: middle;\n",
       "    }\n",
       "\n",
       "    .dataframe tbody tr th {\n",
       "        vertical-align: top;\n",
       "    }\n",
       "\n",
       "    .dataframe thead th {\n",
       "        text-align: right;\n",
       "    }\n",
       "</style>\n",
       "<table border=\"1\" class=\"dataframe\">\n",
       "  <thead>\n",
       "    <tr style=\"text-align: right;\">\n",
       "      <th></th>\n",
       "      <th>Count</th>\n",
       "      <th>Frequency</th>\n",
       "    </tr>\n",
       "    <tr>\n",
       "      <th>age</th>\n",
       "      <th></th>\n",
       "      <th></th>\n",
       "    </tr>\n",
       "  </thead>\n",
       "  <tbody>\n",
       "    <tr>\n",
       "      <th>17</th>\n",
       "      <td>395</td>\n",
       "      <td>0.012131</td>\n",
       "    </tr>\n",
       "    <tr>\n",
       "      <th>18</th>\n",
       "      <td>550</td>\n",
       "      <td>0.016891</td>\n",
       "    </tr>\n",
       "    <tr>\n",
       "      <th>19</th>\n",
       "      <td>712</td>\n",
       "      <td>0.021867</td>\n",
       "    </tr>\n",
       "    <tr>\n",
       "      <th>20</th>\n",
       "      <td>753</td>\n",
       "      <td>0.023126</td>\n",
       "    </tr>\n",
       "    <tr>\n",
       "      <th>21</th>\n",
       "      <td>720</td>\n",
       "      <td>0.022112</td>\n",
       "    </tr>\n",
       "    <tr>\n",
       "      <th>...</th>\n",
       "      <td>...</td>\n",
       "      <td>...</td>\n",
       "    </tr>\n",
       "    <tr>\n",
       "      <th>85</th>\n",
       "      <td>3</td>\n",
       "      <td>0.000092</td>\n",
       "    </tr>\n",
       "    <tr>\n",
       "      <th>86</th>\n",
       "      <td>1</td>\n",
       "      <td>0.000031</td>\n",
       "    </tr>\n",
       "    <tr>\n",
       "      <th>87</th>\n",
       "      <td>1</td>\n",
       "      <td>0.000031</td>\n",
       "    </tr>\n",
       "    <tr>\n",
       "      <th>88</th>\n",
       "      <td>3</td>\n",
       "      <td>0.000092</td>\n",
       "    </tr>\n",
       "    <tr>\n",
       "      <th>90</th>\n",
       "      <td>43</td>\n",
       "      <td>0.001321</td>\n",
       "    </tr>\n",
       "  </tbody>\n",
       "</table>\n",
       "<p>73 rows × 2 columns</p>\n",
       "</div>"
      ],
      "text/plain": [
       "     Count  Frequency\n",
       "age                  \n",
       "17     395   0.012131\n",
       "18     550   0.016891\n",
       "19     712   0.021867\n",
       "20     753   0.023126\n",
       "21     720   0.022112\n",
       "..     ...        ...\n",
       "85       3   0.000092\n",
       "86       1   0.000031\n",
       "87       1   0.000031\n",
       "88       3   0.000092\n",
       "90      43   0.001321\n",
       "\n",
       "[73 rows x 2 columns]"
      ]
     },
     "execution_count": 14,
     "metadata": {},
     "output_type": "execute_result"
    }
   ],
   "source": [
    "summarize_category(income['age'])"
   ]
  },
  {
   "cell_type": "markdown",
   "metadata": {},
   "source": [
    "We see there are a lot more categories here, since age is somewhat continuous. It would probably help to group the ages by decade, similar to the Titanic Case Study, in order to make working with the data easier. We note the minimum age is 17 and the max is 90, thus there is no 0-10 as in the Titanic Case Study."
   ]
  },
  {
   "cell_type": "code",
   "execution_count": 15,
   "metadata": {},
   "outputs": [
    {
     "data": {
      "text/html": [
       "<div>\n",
       "<style scoped>\n",
       "    .dataframe tbody tr th:only-of-type {\n",
       "        vertical-align: middle;\n",
       "    }\n",
       "\n",
       "    .dataframe tbody tr th {\n",
       "        vertical-align: top;\n",
       "    }\n",
       "\n",
       "    .dataframe thead th {\n",
       "        text-align: right;\n",
       "    }\n",
       "</style>\n",
       "<table border=\"1\" class=\"dataframe\">\n",
       "  <thead>\n",
       "    <tr style=\"text-align: right;\">\n",
       "      <th></th>\n",
       "      <th>Count</th>\n",
       "      <th>Frequency</th>\n",
       "    </tr>\n",
       "    <tr>\n",
       "      <th>decade</th>\n",
       "      <th></th>\n",
       "      <th></th>\n",
       "    </tr>\n",
       "  </thead>\n",
       "  <tbody>\n",
       "    <tr>\n",
       "      <th>10</th>\n",
       "      <td>1657</td>\n",
       "      <td>0.050889</td>\n",
       "    </tr>\n",
       "    <tr>\n",
       "      <th>20</th>\n",
       "      <td>8054</td>\n",
       "      <td>0.247351</td>\n",
       "    </tr>\n",
       "    <tr>\n",
       "      <th>30</th>\n",
       "      <td>8613</td>\n",
       "      <td>0.264519</td>\n",
       "    </tr>\n",
       "    <tr>\n",
       "      <th>40</th>\n",
       "      <td>7175</td>\n",
       "      <td>0.220356</td>\n",
       "    </tr>\n",
       "    <tr>\n",
       "      <th>50</th>\n",
       "      <td>4418</td>\n",
       "      <td>0.135684</td>\n",
       "    </tr>\n",
       "    <tr>\n",
       "      <th>60</th>\n",
       "      <td>2015</td>\n",
       "      <td>0.061884</td>\n",
       "    </tr>\n",
       "    <tr>\n",
       "      <th>70</th>\n",
       "      <td>508</td>\n",
       "      <td>0.015601</td>\n",
       "    </tr>\n",
       "    <tr>\n",
       "      <th>80</th>\n",
       "      <td>78</td>\n",
       "      <td>0.002396</td>\n",
       "    </tr>\n",
       "    <tr>\n",
       "      <th>90</th>\n",
       "      <td>43</td>\n",
       "      <td>0.001321</td>\n",
       "    </tr>\n",
       "  </tbody>\n",
       "</table>\n",
       "</div>"
      ],
      "text/plain": [
       "        Count  Frequency\n",
       "decade                  \n",
       "10       1657   0.050889\n",
       "20       8054   0.247351\n",
       "30       8613   0.264519\n",
       "40       7175   0.220356\n",
       "50       4418   0.135684\n",
       "60       2015   0.061884\n",
       "70        508   0.015601\n",
       "80         78   0.002396\n",
       "90         43   0.001321"
      ]
     },
     "execution_count": 15,
     "metadata": {},
     "output_type": "execute_result"
    }
   ],
   "source": [
    "income['decade'] = (income['age'] // 10) * 10\n",
    "summarize_category(income['decade'])"
   ]
  },
  {
   "cell_type": "markdown",
   "metadata": {},
   "source": [
    "Now we are able to see the probability a person is in their 30s (P(decade = 30) = 0.266), rather than making a distinction between 33 and 36, let's say. As we get to the older generations, the frequency decreases a lot since there is not as much data due to people retiring. Organizing the age into bins will be helpful here because of this fact."
   ]
  },
  {
   "cell_type": "markdown",
   "metadata": {},
   "source": [
    "Now we can finally look at the conditional probability $P(agi|decade)$. I hypothesize that as age increases, agi will also tend to increase, up to a certain decade (maybe 70, based on common retiring age). We will use the `crosstab` method in Pandas to calculate the conditional probability distribution."
   ]
  },
  {
   "cell_type": "code",
   "execution_count": 16,
   "metadata": {},
   "outputs": [
    {
     "data": {
      "text/html": [
       "<div>\n",
       "<style scoped>\n",
       "    .dataframe tbody tr th:only-of-type {\n",
       "        vertical-align: middle;\n",
       "    }\n",
       "\n",
       "    .dataframe tbody tr th {\n",
       "        vertical-align: top;\n",
       "    }\n",
       "\n",
       "    .dataframe thead th {\n",
       "        text-align: right;\n",
       "    }\n",
       "</style>\n",
       "<table border=\"1\" class=\"dataframe\">\n",
       "  <thead>\n",
       "    <tr style=\"text-align: right;\">\n",
       "      <th>agi</th>\n",
       "      <th>&lt;=50K</th>\n",
       "      <th>&gt;50K</th>\n",
       "    </tr>\n",
       "    <tr>\n",
       "      <th>decade</th>\n",
       "      <th></th>\n",
       "      <th></th>\n",
       "    </tr>\n",
       "  </thead>\n",
       "  <tbody>\n",
       "    <tr>\n",
       "      <th>10</th>\n",
       "      <td>0.998793</td>\n",
       "      <td>0.001207</td>\n",
       "    </tr>\n",
       "    <tr>\n",
       "      <th>20</th>\n",
       "      <td>0.936802</td>\n",
       "      <td>0.063198</td>\n",
       "    </tr>\n",
       "    <tr>\n",
       "      <th>30</th>\n",
       "      <td>0.731917</td>\n",
       "      <td>0.268083</td>\n",
       "    </tr>\n",
       "    <tr>\n",
       "      <th>40</th>\n",
       "      <td>0.628990</td>\n",
       "      <td>0.371010</td>\n",
       "    </tr>\n",
       "    <tr>\n",
       "      <th>50</th>\n",
       "      <td>0.613626</td>\n",
       "      <td>0.386374</td>\n",
       "    </tr>\n",
       "    <tr>\n",
       "      <th>60</th>\n",
       "      <td>0.732506</td>\n",
       "      <td>0.267494</td>\n",
       "    </tr>\n",
       "    <tr>\n",
       "      <th>70</th>\n",
       "      <td>0.809055</td>\n",
       "      <td>0.190945</td>\n",
       "    </tr>\n",
       "    <tr>\n",
       "      <th>80</th>\n",
       "      <td>0.897436</td>\n",
       "      <td>0.102564</td>\n",
       "    </tr>\n",
       "    <tr>\n",
       "      <th>90</th>\n",
       "      <td>0.813953</td>\n",
       "      <td>0.186047</td>\n",
       "    </tr>\n",
       "  </tbody>\n",
       "</table>\n",
       "</div>"
      ],
      "text/plain": [
       "agi        <=50K      >50K\n",
       "decade                    \n",
       "10      0.998793  0.001207\n",
       "20      0.936802  0.063198\n",
       "30      0.731917  0.268083\n",
       "40      0.628990  0.371010\n",
       "50      0.613626  0.386374\n",
       "60      0.732506  0.267494\n",
       "70      0.809055  0.190945\n",
       "80      0.897436  0.102564\n",
       "90      0.813953  0.186047"
      ]
     },
     "execution_count": 16,
     "metadata": {},
     "output_type": "execute_result"
    }
   ],
   "source": [
    "pd.crosstab(income['decade'], income['agi'], normalize='index')"
   ]
  },
  {
   "cell_type": "markdown",
   "metadata": {},
   "source": [
    "It seems that the probability one makes over 50K steadily increases until decade 60, while the probability one makes less than 50K mostly decreases until roughly the same spot. This means our hypothesis was correct: as age increases, adjusted gross income is likely to increase as well, up to a certain age - around one's 60s, when people are nearing retiring age."
   ]
  },
  {
   "cell_type": "markdown",
   "metadata": {},
   "source": [
    "2. $P(agi|occupation)$"
   ]
  },
  {
   "cell_type": "markdown",
   "metadata": {},
   "source": [
    "Similar to problem 1, we can look at the conditional probability `P(agi | occupation)`. We already took a look at the `Agi` category, so let's look at `Occupation`."
   ]
  },
  {
   "cell_type": "code",
   "execution_count": 17,
   "metadata": {},
   "outputs": [
    {
     "data": {
      "text/html": [
       "<div>\n",
       "<style scoped>\n",
       "    .dataframe tbody tr th:only-of-type {\n",
       "        vertical-align: middle;\n",
       "    }\n",
       "\n",
       "    .dataframe tbody tr th {\n",
       "        vertical-align: top;\n",
       "    }\n",
       "\n",
       "    .dataframe thead th {\n",
       "        text-align: right;\n",
       "    }\n",
       "</style>\n",
       "<table border=\"1\" class=\"dataframe\">\n",
       "  <thead>\n",
       "    <tr style=\"text-align: right;\">\n",
       "      <th></th>\n",
       "      <th>Count</th>\n",
       "      <th>Frequency</th>\n",
       "    </tr>\n",
       "    <tr>\n",
       "      <th>occupation</th>\n",
       "      <th></th>\n",
       "      <th></th>\n",
       "    </tr>\n",
       "  </thead>\n",
       "  <tbody>\n",
       "    <tr>\n",
       "      <th>?</th>\n",
       "      <td>1843</td>\n",
       "      <td>0.056601</td>\n",
       "    </tr>\n",
       "    <tr>\n",
       "      <th>Adm-clerical</th>\n",
       "      <td>3770</td>\n",
       "      <td>0.115783</td>\n",
       "    </tr>\n",
       "    <tr>\n",
       "      <th>Armed-Forces</th>\n",
       "      <td>9</td>\n",
       "      <td>0.000276</td>\n",
       "    </tr>\n",
       "    <tr>\n",
       "      <th>Craft-repair</th>\n",
       "      <td>4099</td>\n",
       "      <td>0.125887</td>\n",
       "    </tr>\n",
       "    <tr>\n",
       "      <th>Exec-managerial</th>\n",
       "      <td>4066</td>\n",
       "      <td>0.124873</td>\n",
       "    </tr>\n",
       "    <tr>\n",
       "      <th>Farming-fishing</th>\n",
       "      <td>994</td>\n",
       "      <td>0.030527</td>\n",
       "    </tr>\n",
       "    <tr>\n",
       "      <th>Handlers-cleaners</th>\n",
       "      <td>1370</td>\n",
       "      <td>0.042075</td>\n",
       "    </tr>\n",
       "    <tr>\n",
       "      <th>Machine-op-inspct</th>\n",
       "      <td>2002</td>\n",
       "      <td>0.061485</td>\n",
       "    </tr>\n",
       "    <tr>\n",
       "      <th>Other-service</th>\n",
       "      <td>3295</td>\n",
       "      <td>0.101195</td>\n",
       "    </tr>\n",
       "    <tr>\n",
       "      <th>Priv-house-serv</th>\n",
       "      <td>149</td>\n",
       "      <td>0.004576</td>\n",
       "    </tr>\n",
       "    <tr>\n",
       "      <th>Prof-specialty</th>\n",
       "      <td>4140</td>\n",
       "      <td>0.127146</td>\n",
       "    </tr>\n",
       "    <tr>\n",
       "      <th>Protective-serv</th>\n",
       "      <td>649</td>\n",
       "      <td>0.019932</td>\n",
       "    </tr>\n",
       "    <tr>\n",
       "      <th>Sales</th>\n",
       "      <td>3650</td>\n",
       "      <td>0.112097</td>\n",
       "    </tr>\n",
       "    <tr>\n",
       "      <th>Tech-support</th>\n",
       "      <td>928</td>\n",
       "      <td>0.028500</td>\n",
       "    </tr>\n",
       "    <tr>\n",
       "      <th>Transport-moving</th>\n",
       "      <td>1597</td>\n",
       "      <td>0.049046</td>\n",
       "    </tr>\n",
       "  </tbody>\n",
       "</table>\n",
       "</div>"
      ],
      "text/plain": [
       "                   Count  Frequency\n",
       "occupation                         \n",
       "?                   1843   0.056601\n",
       "Adm-clerical        3770   0.115783\n",
       "Armed-Forces           9   0.000276\n",
       "Craft-repair        4099   0.125887\n",
       "Exec-managerial     4066   0.124873\n",
       "Farming-fishing      994   0.030527\n",
       "Handlers-cleaners   1370   0.042075\n",
       "Machine-op-inspct   2002   0.061485\n",
       "Other-service       3295   0.101195\n",
       "Priv-house-serv      149   0.004576\n",
       "Prof-specialty      4140   0.127146\n",
       "Protective-serv      649   0.019932\n",
       "Sales               3650   0.112097\n",
       "Tech-support         928   0.028500\n",
       "Transport-moving    1597   0.049046"
      ]
     },
     "execution_count": 17,
     "metadata": {},
     "output_type": "execute_result"
    }
   ],
   "source": [
    "summarize_category(income['occupation'])"
   ]
  },
  {
   "cell_type": "markdown",
   "metadata": {},
   "source": [
    "We have very broad categories here, and for now we assume that `? = unknown`. I think we can use this category as is, no need to bin it as we did with age, although it would probably make the data easier to work with. I hypothesize that the `P(agi = >50K| occupation)` will be more likely when `occupation = tech-support`, and `occupation = sales`, and `P(agi = <= 50K | occupation)` will be more likely when `occupation = farming-fishing` and `occupation = transport-moving`."
   ]
  },
  {
   "cell_type": "code",
   "execution_count": 18,
   "metadata": {},
   "outputs": [
    {
     "data": {
      "text/html": [
       "<div>\n",
       "<style scoped>\n",
       "    .dataframe tbody tr th:only-of-type {\n",
       "        vertical-align: middle;\n",
       "    }\n",
       "\n",
       "    .dataframe tbody tr th {\n",
       "        vertical-align: top;\n",
       "    }\n",
       "\n",
       "    .dataframe thead th {\n",
       "        text-align: right;\n",
       "    }\n",
       "</style>\n",
       "<table border=\"1\" class=\"dataframe\">\n",
       "  <thead>\n",
       "    <tr style=\"text-align: right;\">\n",
       "      <th>agi</th>\n",
       "      <th>&lt;=50K</th>\n",
       "      <th>&gt;50K</th>\n",
       "    </tr>\n",
       "    <tr>\n",
       "      <th>occupation</th>\n",
       "      <th></th>\n",
       "      <th></th>\n",
       "    </tr>\n",
       "  </thead>\n",
       "  <tbody>\n",
       "    <tr>\n",
       "      <th>?</th>\n",
       "      <td>0.896365</td>\n",
       "      <td>0.103635</td>\n",
       "    </tr>\n",
       "    <tr>\n",
       "      <th>Adm-clerical</th>\n",
       "      <td>0.865517</td>\n",
       "      <td>0.134483</td>\n",
       "    </tr>\n",
       "    <tr>\n",
       "      <th>Armed-Forces</th>\n",
       "      <td>0.888889</td>\n",
       "      <td>0.111111</td>\n",
       "    </tr>\n",
       "    <tr>\n",
       "      <th>Craft-repair</th>\n",
       "      <td>0.773359</td>\n",
       "      <td>0.226641</td>\n",
       "    </tr>\n",
       "    <tr>\n",
       "      <th>Exec-managerial</th>\n",
       "      <td>0.515986</td>\n",
       "      <td>0.484014</td>\n",
       "    </tr>\n",
       "    <tr>\n",
       "      <th>Farming-fishing</th>\n",
       "      <td>0.884306</td>\n",
       "      <td>0.115694</td>\n",
       "    </tr>\n",
       "    <tr>\n",
       "      <th>Handlers-cleaners</th>\n",
       "      <td>0.937226</td>\n",
       "      <td>0.062774</td>\n",
       "    </tr>\n",
       "    <tr>\n",
       "      <th>Machine-op-inspct</th>\n",
       "      <td>0.875125</td>\n",
       "      <td>0.124875</td>\n",
       "    </tr>\n",
       "    <tr>\n",
       "      <th>Other-service</th>\n",
       "      <td>0.958422</td>\n",
       "      <td>0.041578</td>\n",
       "    </tr>\n",
       "    <tr>\n",
       "      <th>Priv-house-serv</th>\n",
       "      <td>0.993289</td>\n",
       "      <td>0.006711</td>\n",
       "    </tr>\n",
       "    <tr>\n",
       "      <th>Prof-specialty</th>\n",
       "      <td>0.550966</td>\n",
       "      <td>0.449034</td>\n",
       "    </tr>\n",
       "    <tr>\n",
       "      <th>Protective-serv</th>\n",
       "      <td>0.674884</td>\n",
       "      <td>0.325116</td>\n",
       "    </tr>\n",
       "    <tr>\n",
       "      <th>Sales</th>\n",
       "      <td>0.730685</td>\n",
       "      <td>0.269315</td>\n",
       "    </tr>\n",
       "    <tr>\n",
       "      <th>Tech-support</th>\n",
       "      <td>0.695043</td>\n",
       "      <td>0.304957</td>\n",
       "    </tr>\n",
       "    <tr>\n",
       "      <th>Transport-moving</th>\n",
       "      <td>0.799624</td>\n",
       "      <td>0.200376</td>\n",
       "    </tr>\n",
       "  </tbody>\n",
       "</table>\n",
       "</div>"
      ],
      "text/plain": [
       "agi                   <=50K      >50K\n",
       "occupation                           \n",
       "?                  0.896365  0.103635\n",
       "Adm-clerical       0.865517  0.134483\n",
       "Armed-Forces       0.888889  0.111111\n",
       "Craft-repair       0.773359  0.226641\n",
       "Exec-managerial    0.515986  0.484014\n",
       "Farming-fishing    0.884306  0.115694\n",
       "Handlers-cleaners  0.937226  0.062774\n",
       "Machine-op-inspct  0.875125  0.124875\n",
       "Other-service      0.958422  0.041578\n",
       "Priv-house-serv    0.993289  0.006711\n",
       "Prof-specialty     0.550966  0.449034\n",
       "Protective-serv    0.674884  0.325116\n",
       "Sales              0.730685  0.269315\n",
       "Tech-support       0.695043  0.304957\n",
       "Transport-moving   0.799624  0.200376"
      ]
     },
     "execution_count": 18,
     "metadata": {},
     "output_type": "execute_result"
    }
   ],
   "source": [
    "pd.crosstab(income['occupation'], income['agi'], normalize='index')"
   ]
  },
  {
   "cell_type": "markdown",
   "metadata": {},
   "source": [
    "It looks like the highest probability for having a high income lies with `exec-managerial` at about 0.484 and `prof-specialty`, at 0.449, although my hypothesis of `tech-support` and `sales` is not too far behind those categories. On the lower end of income, we see `priv-house-serv` and `other-service`. Again, the occupations I hypothesized would be the highest are not too far behind, though there is a distinction to be made."
   ]
  },
  {
   "cell_type": "markdown",
   "metadata": {},
   "source": [
    "3. $P(agi|sex)$"
   ]
  },
  {
   "cell_type": "markdown",
   "metadata": {},
   "source": [
    "Next we can look at how `sex` affects `agi`. Let's start by summarizing `sex`."
   ]
  },
  {
   "cell_type": "code",
   "execution_count": 19,
   "metadata": {},
   "outputs": [
    {
     "data": {
      "text/html": [
       "<div>\n",
       "<style scoped>\n",
       "    .dataframe tbody tr th:only-of-type {\n",
       "        vertical-align: middle;\n",
       "    }\n",
       "\n",
       "    .dataframe tbody tr th {\n",
       "        vertical-align: top;\n",
       "    }\n",
       "\n",
       "    .dataframe thead th {\n",
       "        text-align: right;\n",
       "    }\n",
       "</style>\n",
       "<table border=\"1\" class=\"dataframe\">\n",
       "  <thead>\n",
       "    <tr style=\"text-align: right;\">\n",
       "      <th></th>\n",
       "      <th>Count</th>\n",
       "      <th>Frequency</th>\n",
       "    </tr>\n",
       "    <tr>\n",
       "      <th>sex</th>\n",
       "      <th></th>\n",
       "      <th></th>\n",
       "    </tr>\n",
       "  </thead>\n",
       "  <tbody>\n",
       "    <tr>\n",
       "      <th>Female</th>\n",
       "      <td>10771</td>\n",
       "      <td>0.330795</td>\n",
       "    </tr>\n",
       "    <tr>\n",
       "      <th>Male</th>\n",
       "      <td>21790</td>\n",
       "      <td>0.669205</td>\n",
       "    </tr>\n",
       "  </tbody>\n",
       "</table>\n",
       "</div>"
      ],
      "text/plain": [
       "        Count  Frequency\n",
       "sex                     \n",
       "Female  10771   0.330795\n",
       "Male    21790   0.669205"
      ]
     },
     "execution_count": 19,
     "metadata": {},
     "output_type": "execute_result"
    }
   ],
   "source": [
    "summarize_category(income['sex'])"
   ]
  },
  {
   "cell_type": "markdown",
   "metadata": {},
   "source": [
    "We see a higher probability that a person from this data is a male, at 0.669. It's about a 1/3 probability of being a female, and 2/3 of being a male. I hypothesize that given a person's sex is `male`, the probability that their `agi = >50K` is higher than the probability that given a `female`, the probability that their `agi = >50K`. Let's find out. "
   ]
  },
  {
   "cell_type": "code",
   "execution_count": 20,
   "metadata": {},
   "outputs": [
    {
     "data": {
      "text/html": [
       "<div>\n",
       "<style scoped>\n",
       "    .dataframe tbody tr th:only-of-type {\n",
       "        vertical-align: middle;\n",
       "    }\n",
       "\n",
       "    .dataframe tbody tr th {\n",
       "        vertical-align: top;\n",
       "    }\n",
       "\n",
       "    .dataframe thead th {\n",
       "        text-align: right;\n",
       "    }\n",
       "</style>\n",
       "<table border=\"1\" class=\"dataframe\">\n",
       "  <thead>\n",
       "    <tr style=\"text-align: right;\">\n",
       "      <th>agi</th>\n",
       "      <th>&lt;=50K</th>\n",
       "      <th>&gt;50K</th>\n",
       "    </tr>\n",
       "    <tr>\n",
       "      <th>sex</th>\n",
       "      <th></th>\n",
       "      <th></th>\n",
       "    </tr>\n",
       "  </thead>\n",
       "  <tbody>\n",
       "    <tr>\n",
       "      <th>Female</th>\n",
       "      <td>0.890539</td>\n",
       "      <td>0.109461</td>\n",
       "    </tr>\n",
       "    <tr>\n",
       "      <th>Male</th>\n",
       "      <td>0.694263</td>\n",
       "      <td>0.305737</td>\n",
       "    </tr>\n",
       "  </tbody>\n",
       "</table>\n",
       "</div>"
      ],
      "text/plain": [
       "agi        <=50K      >50K\n",
       "sex                       \n",
       "Female  0.890539  0.109461\n",
       "Male    0.694263  0.305737"
      ]
     },
     "execution_count": 20,
     "metadata": {},
     "output_type": "execute_result"
    }
   ],
   "source": [
    "pd.crosstab(income['sex'], income['agi'], normalize='index')"
   ]
  },
  {
   "cell_type": "markdown",
   "metadata": {},
   "source": [
    "Looks like my hypothesize was correct. Given a person's `sex = male` the probability their `agi = >50K` is 0.306, while given `sex = female`, the probability their `agi >50K` is only 0.109. That is a sizeable difference, and one could argue that men typically work jobs with higher income, although I don't know if that is necessarily the case. It would be interesting to look at `P(occupation | sex)`, but that is an exercise left up to the reader."
   ]
  },
  {
   "cell_type": "markdown",
   "metadata": {},
   "source": [
    "4. $P(agi|sex, occupation)$"
   ]
  },
  {
   "cell_type": "markdown",
   "metadata": {},
   "source": [
    "Now we want to find agi given two categories, so the `crosstab` function is no longer sufficient. I will be copying the `conditional_probability` function here from *Fundamentals*, Chapter 4, page 187."
   ]
  },
  {
   "cell_type": "code",
   "execution_count": 21,
   "metadata": {},
   "outputs": [],
   "source": [
    "def conditional_probability(df, target, givens, cell=\"index\"):\n",
    "    \"\"\"\n",
    "    calculates a simple conditional probability (only one target variable) based off of:\n",
    "    https://stackoverflow.com/questions/54040923/change-order-of-pandas-multiindex\n",
    "    \n",
    "    P(target|givens...)\n",
    "    \n",
    "    df: the DataFrame to use for the calculation\n",
    "    target: the string name of the target variable\n",
    "    givens: a string or List of strings that represent the \"givens\"\n",
    "    cell: a column that is neither target nor givens to \"count\". Should be a column without NA.\n",
    "    \n",
    "    The default assumes you have added a column: df[\"index\"] = df.index to your DataFrame.\n",
    "    \"\"\"\n",
    "    if isinstance(givens, str):\n",
    "        givens = [givens]\n",
    "    print(f\"P({target}|{', '.join(givens)})\")\n",
    "    columns = [target] + givens\n",
    "    # handling multiple targets would require a more sophisticated join.\n",
    "    result = (df.groupby(columns).count() / df.groupby(givens).count())[cell]\n",
    "    # this makes sure the target is always the column\n",
    "    result = result.reorder_levels(givens + [target]).sort_index()\n",
    "    # this flattens the hiearchical index and should fill in missing values.\n",
    "    result = result.unstack(fill_value=0.0)\n",
    "    return pd.DataFrame(result)"
   ]
  },
  {
   "cell_type": "markdown",
   "metadata": {},
   "source": [
    "We have already lookes at `agi`, `sex`, and `occupation` separately, as well as `P(agi|sex)` and `P(agi|occupation)`. What we found was the probability of `agi` being higher given someone's `sex = male`, and the probability `agi` is higher given someone's occupation is `exec-managerial` or `prof-specialty`."
   ]
  },
  {
   "cell_type": "markdown",
   "metadata": {},
   "source": [
    "I hypothesize that we will see a higher probability that <br>\n",
    "$$P(agi = >50K | sex = male, occupation = exec-managerial)$$\n",
    "and a higher probability that\n",
    "$$P(agi = <=50K | sex = female, occupation = priv-house-serv)$$"
   ]
  },
  {
   "cell_type": "code",
   "execution_count": 22,
   "metadata": {},
   "outputs": [
    {
     "name": "stdout",
     "output_type": "stream",
     "text": [
      "P(agi|sex, occupation)\n"
     ]
    },
    {
     "data": {
      "text/html": [
       "<div>\n",
       "<style scoped>\n",
       "    .dataframe tbody tr th:only-of-type {\n",
       "        vertical-align: middle;\n",
       "    }\n",
       "\n",
       "    .dataframe tbody tr th {\n",
       "        vertical-align: top;\n",
       "    }\n",
       "\n",
       "    .dataframe thead th {\n",
       "        text-align: right;\n",
       "    }\n",
       "</style>\n",
       "<table border=\"1\" class=\"dataframe\">\n",
       "  <thead>\n",
       "    <tr style=\"text-align: right;\">\n",
       "      <th></th>\n",
       "      <th>agi</th>\n",
       "      <th>&lt;=50K</th>\n",
       "      <th>&gt;50K</th>\n",
       "    </tr>\n",
       "    <tr>\n",
       "      <th>sex</th>\n",
       "      <th>occupation</th>\n",
       "      <th></th>\n",
       "      <th></th>\n",
       "    </tr>\n",
       "  </thead>\n",
       "  <tbody>\n",
       "    <tr>\n",
       "      <th rowspan=\"14\" valign=\"top\">Female</th>\n",
       "      <th>?</th>\n",
       "      <td>0.938169</td>\n",
       "      <td>0.061831</td>\n",
       "    </tr>\n",
       "    <tr>\n",
       "      <th>Adm-clerical</th>\n",
       "      <td>0.916437</td>\n",
       "      <td>0.083563</td>\n",
       "    </tr>\n",
       "    <tr>\n",
       "      <th>Craft-repair</th>\n",
       "      <td>0.909910</td>\n",
       "      <td>0.090090</td>\n",
       "    </tr>\n",
       "    <tr>\n",
       "      <th>Exec-managerial</th>\n",
       "      <td>0.758412</td>\n",
       "      <td>0.241588</td>\n",
       "    </tr>\n",
       "    <tr>\n",
       "      <th>Farming-fishing</th>\n",
       "      <td>0.969231</td>\n",
       "      <td>0.030769</td>\n",
       "    </tr>\n",
       "    <tr>\n",
       "      <th>Handlers-cleaners</th>\n",
       "      <td>0.975610</td>\n",
       "      <td>0.024390</td>\n",
       "    </tr>\n",
       "    <tr>\n",
       "      <th>Machine-op-inspct</th>\n",
       "      <td>0.963636</td>\n",
       "      <td>0.036364</td>\n",
       "    </tr>\n",
       "    <tr>\n",
       "      <th>Other-service</th>\n",
       "      <td>0.971667</td>\n",
       "      <td>0.028333</td>\n",
       "    </tr>\n",
       "    <tr>\n",
       "      <th>Priv-house-serv</th>\n",
       "      <td>0.992908</td>\n",
       "      <td>0.007092</td>\n",
       "    </tr>\n",
       "    <tr>\n",
       "      <th>Prof-specialty</th>\n",
       "      <td>0.745875</td>\n",
       "      <td>0.254125</td>\n",
       "    </tr>\n",
       "    <tr>\n",
       "      <th>Protective-serv</th>\n",
       "      <td>0.868421</td>\n",
       "      <td>0.131579</td>\n",
       "    </tr>\n",
       "    <tr>\n",
       "      <th>Sales</th>\n",
       "      <td>0.930325</td>\n",
       "      <td>0.069675</td>\n",
       "    </tr>\n",
       "    <tr>\n",
       "      <th>Tech-support</th>\n",
       "      <td>0.870690</td>\n",
       "      <td>0.129310</td>\n",
       "    </tr>\n",
       "    <tr>\n",
       "      <th>Transport-moving</th>\n",
       "      <td>0.900000</td>\n",
       "      <td>0.100000</td>\n",
       "    </tr>\n",
       "    <tr>\n",
       "      <th rowspan=\"15\" valign=\"top\">Male</th>\n",
       "      <th>?</th>\n",
       "      <td>0.861277</td>\n",
       "      <td>0.138723</td>\n",
       "    </tr>\n",
       "    <tr>\n",
       "      <th>Adm-clerical</th>\n",
       "      <td>0.760746</td>\n",
       "      <td>0.239254</td>\n",
       "    </tr>\n",
       "    <tr>\n",
       "      <th>Armed-Forces</th>\n",
       "      <td>0.888889</td>\n",
       "      <td>0.111111</td>\n",
       "    </tr>\n",
       "    <tr>\n",
       "      <th>Craft-repair</th>\n",
       "      <td>0.765540</td>\n",
       "      <td>0.234460</td>\n",
       "    </tr>\n",
       "    <tr>\n",
       "      <th>Exec-managerial</th>\n",
       "      <td>0.419333</td>\n",
       "      <td>0.580667</td>\n",
       "    </tr>\n",
       "    <tr>\n",
       "      <th>Farming-fishing</th>\n",
       "      <td>0.878364</td>\n",
       "      <td>0.121636</td>\n",
       "    </tr>\n",
       "    <tr>\n",
       "      <th>Handlers-cleaners</th>\n",
       "      <td>0.932007</td>\n",
       "      <td>0.067993</td>\n",
       "    </tr>\n",
       "    <tr>\n",
       "      <th>Machine-op-inspct</th>\n",
       "      <td>0.841598</td>\n",
       "      <td>0.158402</td>\n",
       "    </tr>\n",
       "    <tr>\n",
       "      <th>Other-service</th>\n",
       "      <td>0.942475</td>\n",
       "      <td>0.057525</td>\n",
       "    </tr>\n",
       "    <tr>\n",
       "      <th>Priv-house-serv</th>\n",
       "      <td>1.000000</td>\n",
       "      <td>0.000000</td>\n",
       "    </tr>\n",
       "    <tr>\n",
       "      <th>Prof-specialty</th>\n",
       "      <td>0.438476</td>\n",
       "      <td>0.561524</td>\n",
       "    </tr>\n",
       "    <tr>\n",
       "      <th>Protective-serv</th>\n",
       "      <td>0.649215</td>\n",
       "      <td>0.350785</td>\n",
       "    </tr>\n",
       "    <tr>\n",
       "      <th>Sales</th>\n",
       "      <td>0.625052</td>\n",
       "      <td>0.374948</td>\n",
       "    </tr>\n",
       "    <tr>\n",
       "      <th>Tech-support</th>\n",
       "      <td>0.589655</td>\n",
       "      <td>0.410345</td>\n",
       "    </tr>\n",
       "    <tr>\n",
       "      <th>Transport-moving</th>\n",
       "      <td>0.793630</td>\n",
       "      <td>0.206370</td>\n",
       "    </tr>\n",
       "  </tbody>\n",
       "</table>\n",
       "</div>"
      ],
      "text/plain": [
       "agi                          <=50K      >50K\n",
       "sex    occupation                           \n",
       "Female ?                  0.938169  0.061831\n",
       "       Adm-clerical       0.916437  0.083563\n",
       "       Craft-repair       0.909910  0.090090\n",
       "       Exec-managerial    0.758412  0.241588\n",
       "       Farming-fishing    0.969231  0.030769\n",
       "       Handlers-cleaners  0.975610  0.024390\n",
       "       Machine-op-inspct  0.963636  0.036364\n",
       "       Other-service      0.971667  0.028333\n",
       "       Priv-house-serv    0.992908  0.007092\n",
       "       Prof-specialty     0.745875  0.254125\n",
       "       Protective-serv    0.868421  0.131579\n",
       "       Sales              0.930325  0.069675\n",
       "       Tech-support       0.870690  0.129310\n",
       "       Transport-moving   0.900000  0.100000\n",
       "Male   ?                  0.861277  0.138723\n",
       "       Adm-clerical       0.760746  0.239254\n",
       "       Armed-Forces       0.888889  0.111111\n",
       "       Craft-repair       0.765540  0.234460\n",
       "       Exec-managerial    0.419333  0.580667\n",
       "       Farming-fishing    0.878364  0.121636\n",
       "       Handlers-cleaners  0.932007  0.067993\n",
       "       Machine-op-inspct  0.841598  0.158402\n",
       "       Other-service      0.942475  0.057525\n",
       "       Priv-house-serv    1.000000  0.000000\n",
       "       Prof-specialty     0.438476  0.561524\n",
       "       Protective-serv    0.649215  0.350785\n",
       "       Sales              0.625052  0.374948\n",
       "       Tech-support       0.589655  0.410345\n",
       "       Transport-moving   0.793630  0.206370"
      ]
     },
     "execution_count": 22,
     "metadata": {},
     "output_type": "execute_result"
    }
   ],
   "source": [
    "conditional_probability(income, 'agi', ['sex', 'occupation'], 'class')\n"
   ]
  },
  {
   "cell_type": "markdown",
   "metadata": {},
   "source": [
    "It looks like the hypotheize was correct. <br>\n",
    "$$P(agi = >50K | sex = male, occupation = exec-managerial) = 0.581$$\n",
    "while\n",
    "$$P(agi = <=50K | sex = female, occupation = priv-house-serv) = 0.993$$\n",
    "In general, there's a good chance that a female makes less than 50K, regardless of occupation. While that pattern mostly holds for males as well, there is an exception for `exec-managerial` and `prof-specialty`, as expected. We do note that given a female's occupation is `exec-managerial` or `prof-speciality`, there is a higher probability her `agi = >50K`, relative to the other occupations in this table. It seems that `occupation` has a greater effect on `agi` than `sex`, although `sex` is still a contributing factor."
   ]
  },
  {
   "cell_type": "markdown",
   "metadata": {},
   "source": [
    "5. $P(occupation|race)$"
   ]
  },
  {
   "cell_type": "markdown",
   "metadata": {},
   "source": [
    "Finally we can look at how race affects occupation. Let's start with summarizing the `race` category."
   ]
  },
  {
   "cell_type": "code",
   "execution_count": 23,
   "metadata": {},
   "outputs": [
    {
     "data": {
      "text/html": [
       "<div>\n",
       "<style scoped>\n",
       "    .dataframe tbody tr th:only-of-type {\n",
       "        vertical-align: middle;\n",
       "    }\n",
       "\n",
       "    .dataframe tbody tr th {\n",
       "        vertical-align: top;\n",
       "    }\n",
       "\n",
       "    .dataframe thead th {\n",
       "        text-align: right;\n",
       "    }\n",
       "</style>\n",
       "<table border=\"1\" class=\"dataframe\">\n",
       "  <thead>\n",
       "    <tr style=\"text-align: right;\">\n",
       "      <th></th>\n",
       "      <th>Count</th>\n",
       "      <th>Frequency</th>\n",
       "    </tr>\n",
       "    <tr>\n",
       "      <th>race</th>\n",
       "      <th></th>\n",
       "      <th></th>\n",
       "    </tr>\n",
       "  </thead>\n",
       "  <tbody>\n",
       "    <tr>\n",
       "      <th>Amer-Indian-Eskimo</th>\n",
       "      <td>311</td>\n",
       "      <td>0.009551</td>\n",
       "    </tr>\n",
       "    <tr>\n",
       "      <th>Asian-Pac-Islander</th>\n",
       "      <td>1039</td>\n",
       "      <td>0.031909</td>\n",
       "    </tr>\n",
       "    <tr>\n",
       "      <th>Black</th>\n",
       "      <td>3124</td>\n",
       "      <td>0.095943</td>\n",
       "    </tr>\n",
       "    <tr>\n",
       "      <th>Other</th>\n",
       "      <td>271</td>\n",
       "      <td>0.008323</td>\n",
       "    </tr>\n",
       "    <tr>\n",
       "      <th>White</th>\n",
       "      <td>27816</td>\n",
       "      <td>0.854274</td>\n",
       "    </tr>\n",
       "  </tbody>\n",
       "</table>\n",
       "</div>"
      ],
      "text/plain": [
       "                    Count  Frequency\n",
       "race                                \n",
       "Amer-Indian-Eskimo    311   0.009551\n",
       "Asian-Pac-Islander   1039   0.031909\n",
       "Black                3124   0.095943\n",
       "Other                 271   0.008323\n",
       "White               27816   0.854274"
      ]
     },
     "execution_count": 23,
     "metadata": {},
     "output_type": "execute_result"
    }
   ],
   "source": [
    "summarize_category(income['race'])"
   ]
  },
  {
   "cell_type": "markdown",
   "metadata": {},
   "source": [
    "We see a large difference here.\n",
    "$$P(race = White) = 0.854$$\n",
    "while the next largest probability is only,\n",
    "$$P(race = Black) = 0.0959$$ \n",
    "This makes sense given the counts. We have more data for people whose `race = white` than any other `race`. If we look at `native_country`, we might see why. "
   ]
  },
  {
   "cell_type": "code",
   "execution_count": 24,
   "metadata": {},
   "outputs": [
    {
     "data": {
      "text/html": [
       "<div>\n",
       "<style scoped>\n",
       "    .dataframe tbody tr th:only-of-type {\n",
       "        vertical-align: middle;\n",
       "    }\n",
       "\n",
       "    .dataframe tbody tr th {\n",
       "        vertical-align: top;\n",
       "    }\n",
       "\n",
       "    .dataframe thead th {\n",
       "        text-align: right;\n",
       "    }\n",
       "</style>\n",
       "<table border=\"1\" class=\"dataframe\">\n",
       "  <thead>\n",
       "    <tr style=\"text-align: right;\">\n",
       "      <th></th>\n",
       "      <th>Count</th>\n",
       "      <th>Frequency</th>\n",
       "    </tr>\n",
       "    <tr>\n",
       "      <th>native_country</th>\n",
       "      <th></th>\n",
       "      <th></th>\n",
       "    </tr>\n",
       "  </thead>\n",
       "  <tbody>\n",
       "    <tr>\n",
       "      <th>?</th>\n",
       "      <td>583</td>\n",
       "      <td>0.017905</td>\n",
       "    </tr>\n",
       "    <tr>\n",
       "      <th>Cambodia</th>\n",
       "      <td>19</td>\n",
       "      <td>0.000584</td>\n",
       "    </tr>\n",
       "    <tr>\n",
       "      <th>Canada</th>\n",
       "      <td>121</td>\n",
       "      <td>0.003716</td>\n",
       "    </tr>\n",
       "    <tr>\n",
       "      <th>China</th>\n",
       "      <td>75</td>\n",
       "      <td>0.002303</td>\n",
       "    </tr>\n",
       "    <tr>\n",
       "      <th>Columbia</th>\n",
       "      <td>59</td>\n",
       "      <td>0.001812</td>\n",
       "    </tr>\n",
       "    <tr>\n",
       "      <th>Cuba</th>\n",
       "      <td>95</td>\n",
       "      <td>0.002918</td>\n",
       "    </tr>\n",
       "    <tr>\n",
       "      <th>Dominican-Republic</th>\n",
       "      <td>70</td>\n",
       "      <td>0.002150</td>\n",
       "    </tr>\n",
       "    <tr>\n",
       "      <th>Ecuador</th>\n",
       "      <td>28</td>\n",
       "      <td>0.000860</td>\n",
       "    </tr>\n",
       "    <tr>\n",
       "      <th>El-Salvador</th>\n",
       "      <td>106</td>\n",
       "      <td>0.003255</td>\n",
       "    </tr>\n",
       "    <tr>\n",
       "      <th>England</th>\n",
       "      <td>90</td>\n",
       "      <td>0.002764</td>\n",
       "    </tr>\n",
       "    <tr>\n",
       "      <th>France</th>\n",
       "      <td>29</td>\n",
       "      <td>0.000891</td>\n",
       "    </tr>\n",
       "    <tr>\n",
       "      <th>Germany</th>\n",
       "      <td>137</td>\n",
       "      <td>0.004207</td>\n",
       "    </tr>\n",
       "    <tr>\n",
       "      <th>Greece</th>\n",
       "      <td>29</td>\n",
       "      <td>0.000891</td>\n",
       "    </tr>\n",
       "    <tr>\n",
       "      <th>Guatemala</th>\n",
       "      <td>64</td>\n",
       "      <td>0.001966</td>\n",
       "    </tr>\n",
       "    <tr>\n",
       "      <th>Haiti</th>\n",
       "      <td>44</td>\n",
       "      <td>0.001351</td>\n",
       "    </tr>\n",
       "    <tr>\n",
       "      <th>Holand-Netherlands</th>\n",
       "      <td>1</td>\n",
       "      <td>0.000031</td>\n",
       "    </tr>\n",
       "    <tr>\n",
       "      <th>Honduras</th>\n",
       "      <td>13</td>\n",
       "      <td>0.000399</td>\n",
       "    </tr>\n",
       "    <tr>\n",
       "      <th>Hong</th>\n",
       "      <td>20</td>\n",
       "      <td>0.000614</td>\n",
       "    </tr>\n",
       "    <tr>\n",
       "      <th>Hungary</th>\n",
       "      <td>13</td>\n",
       "      <td>0.000399</td>\n",
       "    </tr>\n",
       "    <tr>\n",
       "      <th>India</th>\n",
       "      <td>100</td>\n",
       "      <td>0.003071</td>\n",
       "    </tr>\n",
       "    <tr>\n",
       "      <th>Iran</th>\n",
       "      <td>43</td>\n",
       "      <td>0.001321</td>\n",
       "    </tr>\n",
       "    <tr>\n",
       "      <th>Ireland</th>\n",
       "      <td>24</td>\n",
       "      <td>0.000737</td>\n",
       "    </tr>\n",
       "    <tr>\n",
       "      <th>Italy</th>\n",
       "      <td>73</td>\n",
       "      <td>0.002242</td>\n",
       "    </tr>\n",
       "    <tr>\n",
       "      <th>Jamaica</th>\n",
       "      <td>81</td>\n",
       "      <td>0.002488</td>\n",
       "    </tr>\n",
       "    <tr>\n",
       "      <th>Japan</th>\n",
       "      <td>62</td>\n",
       "      <td>0.001904</td>\n",
       "    </tr>\n",
       "    <tr>\n",
       "      <th>Laos</th>\n",
       "      <td>18</td>\n",
       "      <td>0.000553</td>\n",
       "    </tr>\n",
       "    <tr>\n",
       "      <th>Mexico</th>\n",
       "      <td>643</td>\n",
       "      <td>0.019748</td>\n",
       "    </tr>\n",
       "    <tr>\n",
       "      <th>Nicaragua</th>\n",
       "      <td>34</td>\n",
       "      <td>0.001044</td>\n",
       "    </tr>\n",
       "    <tr>\n",
       "      <th>Outlying-US(Guam-USVI-etc)</th>\n",
       "      <td>14</td>\n",
       "      <td>0.000430</td>\n",
       "    </tr>\n",
       "    <tr>\n",
       "      <th>Peru</th>\n",
       "      <td>31</td>\n",
       "      <td>0.000952</td>\n",
       "    </tr>\n",
       "    <tr>\n",
       "      <th>Philippines</th>\n",
       "      <td>198</td>\n",
       "      <td>0.006081</td>\n",
       "    </tr>\n",
       "    <tr>\n",
       "      <th>Poland</th>\n",
       "      <td>60</td>\n",
       "      <td>0.001843</td>\n",
       "    </tr>\n",
       "    <tr>\n",
       "      <th>Portugal</th>\n",
       "      <td>37</td>\n",
       "      <td>0.001136</td>\n",
       "    </tr>\n",
       "    <tr>\n",
       "      <th>Puerto-Rico</th>\n",
       "      <td>114</td>\n",
       "      <td>0.003501</td>\n",
       "    </tr>\n",
       "    <tr>\n",
       "      <th>Scotland</th>\n",
       "      <td>12</td>\n",
       "      <td>0.000369</td>\n",
       "    </tr>\n",
       "    <tr>\n",
       "      <th>South</th>\n",
       "      <td>80</td>\n",
       "      <td>0.002457</td>\n",
       "    </tr>\n",
       "    <tr>\n",
       "      <th>Taiwan</th>\n",
       "      <td>51</td>\n",
       "      <td>0.001566</td>\n",
       "    </tr>\n",
       "    <tr>\n",
       "      <th>Thailand</th>\n",
       "      <td>18</td>\n",
       "      <td>0.000553</td>\n",
       "    </tr>\n",
       "    <tr>\n",
       "      <th>Trinadad&amp;Tobago</th>\n",
       "      <td>19</td>\n",
       "      <td>0.000584</td>\n",
       "    </tr>\n",
       "    <tr>\n",
       "      <th>United-States</th>\n",
       "      <td>29170</td>\n",
       "      <td>0.895857</td>\n",
       "    </tr>\n",
       "    <tr>\n",
       "      <th>Vietnam</th>\n",
       "      <td>67</td>\n",
       "      <td>0.002058</td>\n",
       "    </tr>\n",
       "    <tr>\n",
       "      <th>Yugoslavia</th>\n",
       "      <td>16</td>\n",
       "      <td>0.000491</td>\n",
       "    </tr>\n",
       "  </tbody>\n",
       "</table>\n",
       "</div>"
      ],
      "text/plain": [
       "                            Count  Frequency\n",
       "native_country                              \n",
       "?                             583   0.017905\n",
       "Cambodia                       19   0.000584\n",
       "Canada                        121   0.003716\n",
       "China                          75   0.002303\n",
       "Columbia                       59   0.001812\n",
       "Cuba                           95   0.002918\n",
       "Dominican-Republic             70   0.002150\n",
       "Ecuador                        28   0.000860\n",
       "El-Salvador                   106   0.003255\n",
       "England                        90   0.002764\n",
       "France                         29   0.000891\n",
       "Germany                       137   0.004207\n",
       "Greece                         29   0.000891\n",
       "Guatemala                      64   0.001966\n",
       "Haiti                          44   0.001351\n",
       "Holand-Netherlands              1   0.000031\n",
       "Honduras                       13   0.000399\n",
       "Hong                           20   0.000614\n",
       "Hungary                        13   0.000399\n",
       "India                         100   0.003071\n",
       "Iran                           43   0.001321\n",
       "Ireland                        24   0.000737\n",
       "Italy                          73   0.002242\n",
       "Jamaica                        81   0.002488\n",
       "Japan                          62   0.001904\n",
       "Laos                           18   0.000553\n",
       "Mexico                        643   0.019748\n",
       "Nicaragua                      34   0.001044\n",
       "Outlying-US(Guam-USVI-etc)     14   0.000430\n",
       "Peru                           31   0.000952\n",
       "Philippines                   198   0.006081\n",
       "Poland                         60   0.001843\n",
       "Portugal                       37   0.001136\n",
       "Puerto-Rico                   114   0.003501\n",
       "Scotland                       12   0.000369\n",
       "South                          80   0.002457\n",
       "Taiwan                         51   0.001566\n",
       "Thailand                       18   0.000553\n",
       "Trinadad&Tobago                19   0.000584\n",
       "United-States               29170   0.895857\n",
       "Vietnam                        67   0.002058\n",
       "Yugoslavia                     16   0.000491"
      ]
     },
     "execution_count": 24,
     "metadata": {},
     "output_type": "execute_result"
    }
   ],
   "source": [
    "summarize_category(income['native_country'])"
   ]
  },
  {
   "cell_type": "markdown",
   "metadata": {},
   "source": [
    "We can see we mostly have people from the US, so the difference that we see in the `race` category starts to make sense in this context. Now we can look at `P(occupation | race)`. I hypothesize that give `race = White`, we will see a higher probability that `occupation = exec-managerial` and a lower probability `occupation = handlers-cleaners`. And given `race = Asian-Pac-Islander`, we might expect a higher probability that `occupation  = Transport-moving`. "
   ]
  },
  {
   "cell_type": "code",
   "execution_count": 25,
   "metadata": {},
   "outputs": [
    {
     "data": {
      "text/html": [
       "<div>\n",
       "<style scoped>\n",
       "    .dataframe tbody tr th:only-of-type {\n",
       "        vertical-align: middle;\n",
       "    }\n",
       "\n",
       "    .dataframe tbody tr th {\n",
       "        vertical-align: top;\n",
       "    }\n",
       "\n",
       "    .dataframe thead th {\n",
       "        text-align: right;\n",
       "    }\n",
       "</style>\n",
       "<table border=\"1\" class=\"dataframe\">\n",
       "  <thead>\n",
       "    <tr style=\"text-align: right;\">\n",
       "      <th>occupation</th>\n",
       "      <th>?</th>\n",
       "      <th>Adm-clerical</th>\n",
       "      <th>Armed-Forces</th>\n",
       "      <th>Craft-repair</th>\n",
       "      <th>Exec-managerial</th>\n",
       "      <th>Farming-fishing</th>\n",
       "      <th>Handlers-cleaners</th>\n",
       "      <th>Machine-op-inspct</th>\n",
       "      <th>Other-service</th>\n",
       "      <th>Priv-house-serv</th>\n",
       "      <th>Prof-specialty</th>\n",
       "      <th>Protective-serv</th>\n",
       "      <th>Sales</th>\n",
       "      <th>Tech-support</th>\n",
       "      <th>Transport-moving</th>\n",
       "    </tr>\n",
       "    <tr>\n",
       "      <th>race</th>\n",
       "      <th></th>\n",
       "      <th></th>\n",
       "      <th></th>\n",
       "      <th></th>\n",
       "      <th></th>\n",
       "      <th></th>\n",
       "      <th></th>\n",
       "      <th></th>\n",
       "      <th></th>\n",
       "      <th></th>\n",
       "      <th></th>\n",
       "      <th></th>\n",
       "      <th></th>\n",
       "      <th></th>\n",
       "      <th></th>\n",
       "    </tr>\n",
       "  </thead>\n",
       "  <tbody>\n",
       "    <tr>\n",
       "      <th>Amer-Indian-Eskimo</th>\n",
       "      <td>0.080386</td>\n",
       "      <td>0.099678</td>\n",
       "      <td>0.003215</td>\n",
       "      <td>0.141479</td>\n",
       "      <td>0.096463</td>\n",
       "      <td>0.032154</td>\n",
       "      <td>0.070740</td>\n",
       "      <td>0.061093</td>\n",
       "      <td>0.106109</td>\n",
       "      <td>0.000000</td>\n",
       "      <td>0.106109</td>\n",
       "      <td>0.025723</td>\n",
       "      <td>0.083601</td>\n",
       "      <td>0.012862</td>\n",
       "      <td>0.080386</td>\n",
       "    </tr>\n",
       "    <tr>\n",
       "      <th>Asian-Pac-Islander</th>\n",
       "      <td>0.062560</td>\n",
       "      <td>0.133782</td>\n",
       "      <td>0.000000</td>\n",
       "      <td>0.085659</td>\n",
       "      <td>0.129933</td>\n",
       "      <td>0.015399</td>\n",
       "      <td>0.022137</td>\n",
       "      <td>0.056785</td>\n",
       "      <td>0.123195</td>\n",
       "      <td>0.003850</td>\n",
       "      <td>0.179018</td>\n",
       "      <td>0.014437</td>\n",
       "      <td>0.103946</td>\n",
       "      <td>0.042348</td>\n",
       "      <td>0.026949</td>\n",
       "    </tr>\n",
       "    <tr>\n",
       "      <th>Black</th>\n",
       "      <td>0.068822</td>\n",
       "      <td>0.156850</td>\n",
       "      <td>0.000320</td>\n",
       "      <td>0.078105</td>\n",
       "      <td>0.078105</td>\n",
       "      <td>0.013444</td>\n",
       "      <td>0.057298</td>\n",
       "      <td>0.087708</td>\n",
       "      <td>0.182778</td>\n",
       "      <td>0.008963</td>\n",
       "      <td>0.076504</td>\n",
       "      <td>0.032650</td>\n",
       "      <td>0.081306</td>\n",
       "      <td>0.022727</td>\n",
       "      <td>0.054417</td>\n",
       "    </tr>\n",
       "    <tr>\n",
       "      <th>Other</th>\n",
       "      <td>0.084871</td>\n",
       "      <td>0.095941</td>\n",
       "      <td>0.000000</td>\n",
       "      <td>0.103321</td>\n",
       "      <td>0.040590</td>\n",
       "      <td>0.040590</td>\n",
       "      <td>0.044280</td>\n",
       "      <td>0.143911</td>\n",
       "      <td>0.147601</td>\n",
       "      <td>0.011070</td>\n",
       "      <td>0.114391</td>\n",
       "      <td>0.018450</td>\n",
       "      <td>0.092251</td>\n",
       "      <td>0.011070</td>\n",
       "      <td>0.051661</td>\n",
       "    </tr>\n",
       "    <tr>\n",
       "      <th>White</th>\n",
       "      <td>0.054465</td>\n",
       "      <td>0.110871</td>\n",
       "      <td>0.000252</td>\n",
       "      <td>0.132801</td>\n",
       "      <td>0.131076</td>\n",
       "      <td>0.032895</td>\n",
       "      <td>0.040768</td>\n",
       "      <td>0.057916</td>\n",
       "      <td>0.090703</td>\n",
       "      <td>0.004098</td>\n",
       "      <td>0.131255</td>\n",
       "      <td>0.018658</td>\n",
       "      <td>0.116372</td>\n",
       "      <td>0.028976</td>\n",
       "      <td>0.048893</td>\n",
       "    </tr>\n",
       "  </tbody>\n",
       "</table>\n",
       "</div>"
      ],
      "text/plain": [
       "occupation                 ?  Adm-clerical  Armed-Forces  Craft-repair  \\\n",
       "race                                                                     \n",
       "Amer-Indian-Eskimo  0.080386      0.099678      0.003215      0.141479   \n",
       "Asian-Pac-Islander  0.062560      0.133782      0.000000      0.085659   \n",
       "Black               0.068822      0.156850      0.000320      0.078105   \n",
       "Other               0.084871      0.095941      0.000000      0.103321   \n",
       "White               0.054465      0.110871      0.000252      0.132801   \n",
       "\n",
       "occupation          Exec-managerial  Farming-fishing  Handlers-cleaners  \\\n",
       "race                                                                      \n",
       "Amer-Indian-Eskimo         0.096463         0.032154           0.070740   \n",
       "Asian-Pac-Islander         0.129933         0.015399           0.022137   \n",
       "Black                      0.078105         0.013444           0.057298   \n",
       "Other                      0.040590         0.040590           0.044280   \n",
       "White                      0.131076         0.032895           0.040768   \n",
       "\n",
       "occupation          Machine-op-inspct  Other-service  Priv-house-serv  \\\n",
       "race                                                                    \n",
       "Amer-Indian-Eskimo           0.061093       0.106109         0.000000   \n",
       "Asian-Pac-Islander           0.056785       0.123195         0.003850   \n",
       "Black                        0.087708       0.182778         0.008963   \n",
       "Other                        0.143911       0.147601         0.011070   \n",
       "White                        0.057916       0.090703         0.004098   \n",
       "\n",
       "occupation          Prof-specialty  Protective-serv     Sales  Tech-support  \\\n",
       "race                                                                          \n",
       "Amer-Indian-Eskimo        0.106109         0.025723  0.083601      0.012862   \n",
       "Asian-Pac-Islander        0.179018         0.014437  0.103946      0.042348   \n",
       "Black                     0.076504         0.032650  0.081306      0.022727   \n",
       "Other                     0.114391         0.018450  0.092251      0.011070   \n",
       "White                     0.131255         0.018658  0.116372      0.028976   \n",
       "\n",
       "occupation          Transport-moving  \n",
       "race                                  \n",
       "Amer-Indian-Eskimo          0.080386  \n",
       "Asian-Pac-Islander          0.026949  \n",
       "Black                       0.054417  \n",
       "Other                       0.051661  \n",
       "White                       0.048893  "
      ]
     },
     "execution_count": 25,
     "metadata": {},
     "output_type": "execute_result"
    }
   ],
   "source": [
    "pd.crosstab(income['race'], income['occupation'], normalize='index')"
   ]
  },
  {
   "cell_type": "markdown",
   "metadata": {},
   "source": [
    "We actually see about the same result for <br>\n",
    "$$P(occupation = exec-managerial | race = White) = 0.131$$\n",
    "$$P(occupation = exec-managerial | race = Asian-Pac-Islander) = 0.130$$\n",
    "The probability one's occupation is `handerls-cleaners` is highest given `race = Amer-Indian-Eskimo`, and \n",
    "$$P(occupation = Transport-moving | race = Asian-Pac-Islander) = 0.027$$\n",
    "the lowest probability for that occupation given race.\n"
   ]
  },
  {
   "cell_type": "markdown",
   "metadata": {},
   "source": [
    "My hypothesis was pretty far off, and it looks like overall, `race` doesn't play too much of a factor to influence one's `occupation`, although we do see some differences here and there."
   ]
  },
  {
   "cell_type": "markdown",
   "metadata": {},
   "source": [
    "## Naive Bayes Classifier\n",
    "\n",
    "Train a Naive Bayes Classifier of the form $P(agi|age, sex, race, occupation, education_years)$. Make 5 predictions with of specific cases with it, after first making a hypothesis about the prediction. Import what you need. Follow the example in the Titanic Case Study (don't make predictions in a loop!)."
   ]
  },
  {
   "cell_type": "markdown",
   "metadata": {},
   "source": [
    "So far we've looked at every category except `education_years`. Let's take a look now."
   ]
  },
  {
   "cell_type": "code",
   "execution_count": 26,
   "metadata": {},
   "outputs": [
    {
     "data": {
      "text/html": [
       "<div>\n",
       "<style scoped>\n",
       "    .dataframe tbody tr th:only-of-type {\n",
       "        vertical-align: middle;\n",
       "    }\n",
       "\n",
       "    .dataframe tbody tr th {\n",
       "        vertical-align: top;\n",
       "    }\n",
       "\n",
       "    .dataframe thead th {\n",
       "        text-align: right;\n",
       "    }\n",
       "</style>\n",
       "<table border=\"1\" class=\"dataframe\">\n",
       "  <thead>\n",
       "    <tr style=\"text-align: right;\">\n",
       "      <th></th>\n",
       "      <th>Count</th>\n",
       "      <th>Frequency</th>\n",
       "    </tr>\n",
       "    <tr>\n",
       "      <th>education_years</th>\n",
       "      <th></th>\n",
       "      <th></th>\n",
       "    </tr>\n",
       "  </thead>\n",
       "  <tbody>\n",
       "    <tr>\n",
       "      <th>1</th>\n",
       "      <td>51</td>\n",
       "      <td>0.001566</td>\n",
       "    </tr>\n",
       "    <tr>\n",
       "      <th>2</th>\n",
       "      <td>168</td>\n",
       "      <td>0.005160</td>\n",
       "    </tr>\n",
       "    <tr>\n",
       "      <th>3</th>\n",
       "      <td>333</td>\n",
       "      <td>0.010227</td>\n",
       "    </tr>\n",
       "    <tr>\n",
       "      <th>4</th>\n",
       "      <td>646</td>\n",
       "      <td>0.019840</td>\n",
       "    </tr>\n",
       "    <tr>\n",
       "      <th>5</th>\n",
       "      <td>514</td>\n",
       "      <td>0.015786</td>\n",
       "    </tr>\n",
       "    <tr>\n",
       "      <th>6</th>\n",
       "      <td>933</td>\n",
       "      <td>0.028654</td>\n",
       "    </tr>\n",
       "    <tr>\n",
       "      <th>7</th>\n",
       "      <td>1175</td>\n",
       "      <td>0.036086</td>\n",
       "    </tr>\n",
       "    <tr>\n",
       "      <th>8</th>\n",
       "      <td>433</td>\n",
       "      <td>0.013298</td>\n",
       "    </tr>\n",
       "    <tr>\n",
       "      <th>9</th>\n",
       "      <td>10501</td>\n",
       "      <td>0.322502</td>\n",
       "    </tr>\n",
       "    <tr>\n",
       "      <th>10</th>\n",
       "      <td>7291</td>\n",
       "      <td>0.223918</td>\n",
       "    </tr>\n",
       "    <tr>\n",
       "      <th>11</th>\n",
       "      <td>1382</td>\n",
       "      <td>0.042443</td>\n",
       "    </tr>\n",
       "    <tr>\n",
       "      <th>12</th>\n",
       "      <td>1067</td>\n",
       "      <td>0.032769</td>\n",
       "    </tr>\n",
       "    <tr>\n",
       "      <th>13</th>\n",
       "      <td>5355</td>\n",
       "      <td>0.164461</td>\n",
       "    </tr>\n",
       "    <tr>\n",
       "      <th>14</th>\n",
       "      <td>1723</td>\n",
       "      <td>0.052916</td>\n",
       "    </tr>\n",
       "    <tr>\n",
       "      <th>15</th>\n",
       "      <td>576</td>\n",
       "      <td>0.017690</td>\n",
       "    </tr>\n",
       "    <tr>\n",
       "      <th>16</th>\n",
       "      <td>413</td>\n",
       "      <td>0.012684</td>\n",
       "    </tr>\n",
       "  </tbody>\n",
       "</table>\n",
       "</div>"
      ],
      "text/plain": [
       "                 Count  Frequency\n",
       "education_years                  \n",
       "1                   51   0.001566\n",
       "2                  168   0.005160\n",
       "3                  333   0.010227\n",
       "4                  646   0.019840\n",
       "5                  514   0.015786\n",
       "6                  933   0.028654\n",
       "7                 1175   0.036086\n",
       "8                  433   0.013298\n",
       "9                10501   0.322502\n",
       "10                7291   0.223918\n",
       "11                1382   0.042443\n",
       "12                1067   0.032769\n",
       "13                5355   0.164461\n",
       "14                1723   0.052916\n",
       "15                 576   0.017690\n",
       "16                 413   0.012684"
      ]
     },
     "execution_count": 26,
     "metadata": {},
     "output_type": "execute_result"
    }
   ],
   "source": [
    "summarize_category(income['education_years'])"
   ]
  },
  {
   "cell_type": "markdown",
   "metadata": {},
   "source": [
    "We see a distribution that might be expected - most people have about 9,10, or 13 years of education, and thenthat probability decreases each year as you get further from these values. We could create bins here, as we've done with the `Age` category, but I will leave that exercise up to the reader."
   ]
  },
  {
   "cell_type": "markdown",
   "metadata": {},
   "source": [
    "We can also look at the empirical conditional probability using the function created above."
   ]
  },
  {
   "cell_type": "code",
   "execution_count": 27,
   "metadata": {},
   "outputs": [
    {
     "name": "stdout",
     "output_type": "stream",
     "text": [
      "P(agi|decade, sex, race, occupation, education_years)\n"
     ]
    },
    {
     "data": {
      "text/html": [
       "<div>\n",
       "<style scoped>\n",
       "    .dataframe tbody tr th:only-of-type {\n",
       "        vertical-align: middle;\n",
       "    }\n",
       "\n",
       "    .dataframe tbody tr th {\n",
       "        vertical-align: top;\n",
       "    }\n",
       "\n",
       "    .dataframe thead th {\n",
       "        text-align: right;\n",
       "    }\n",
       "</style>\n",
       "<table border=\"1\" class=\"dataframe\">\n",
       "  <thead>\n",
       "    <tr style=\"text-align: right;\">\n",
       "      <th></th>\n",
       "      <th></th>\n",
       "      <th></th>\n",
       "      <th></th>\n",
       "      <th>agi</th>\n",
       "      <th>&lt;=50K</th>\n",
       "      <th>&gt;50K</th>\n",
       "    </tr>\n",
       "    <tr>\n",
       "      <th>decade</th>\n",
       "      <th>sex</th>\n",
       "      <th>race</th>\n",
       "      <th>occupation</th>\n",
       "      <th>education_years</th>\n",
       "      <th></th>\n",
       "      <th></th>\n",
       "    </tr>\n",
       "  </thead>\n",
       "  <tbody>\n",
       "    <tr>\n",
       "      <th rowspan=\"5\" valign=\"top\">10</th>\n",
       "      <th rowspan=\"5\" valign=\"top\">Female</th>\n",
       "      <th rowspan=\"5\" valign=\"top\">Amer-Indian-Eskimo</th>\n",
       "      <th>?</th>\n",
       "      <th>10</th>\n",
       "      <td>1.0</td>\n",
       "      <td>0.0</td>\n",
       "    </tr>\n",
       "    <tr>\n",
       "      <th rowspan=\"2\" valign=\"top\">Adm-clerical</th>\n",
       "      <th>6</th>\n",
       "      <td>1.0</td>\n",
       "      <td>0.0</td>\n",
       "    </tr>\n",
       "    <tr>\n",
       "      <th>7</th>\n",
       "      <td>1.0</td>\n",
       "      <td>0.0</td>\n",
       "    </tr>\n",
       "    <tr>\n",
       "      <th rowspan=\"2\" valign=\"top\">Other-service</th>\n",
       "      <th>6</th>\n",
       "      <td>1.0</td>\n",
       "      <td>0.0</td>\n",
       "    </tr>\n",
       "    <tr>\n",
       "      <th>7</th>\n",
       "      <td>1.0</td>\n",
       "      <td>0.0</td>\n",
       "    </tr>\n",
       "    <tr>\n",
       "      <th>...</th>\n",
       "      <th>...</th>\n",
       "      <th>...</th>\n",
       "      <th>...</th>\n",
       "      <th>...</th>\n",
       "      <td>...</td>\n",
       "      <td>...</td>\n",
       "    </tr>\n",
       "    <tr>\n",
       "      <th rowspan=\"5\" valign=\"top\">90</th>\n",
       "      <th rowspan=\"5\" valign=\"top\">Male</th>\n",
       "      <th rowspan=\"5\" valign=\"top\">White</th>\n",
       "      <th rowspan=\"2\" valign=\"top\">Prof-specialty</th>\n",
       "      <th>13</th>\n",
       "      <td>1.0</td>\n",
       "      <td>0.0</td>\n",
       "    </tr>\n",
       "    <tr>\n",
       "      <th>15</th>\n",
       "      <td>0.0</td>\n",
       "      <td>1.0</td>\n",
       "    </tr>\n",
       "    <tr>\n",
       "      <th>Protective-serv</th>\n",
       "      <th>4</th>\n",
       "      <td>1.0</td>\n",
       "      <td>0.0</td>\n",
       "    </tr>\n",
       "    <tr>\n",
       "      <th>Sales</th>\n",
       "      <th>13</th>\n",
       "      <td>0.5</td>\n",
       "      <td>0.5</td>\n",
       "    </tr>\n",
       "    <tr>\n",
       "      <th>Transport-moving</th>\n",
       "      <th>9</th>\n",
       "      <td>1.0</td>\n",
       "      <td>0.0</td>\n",
       "    </tr>\n",
       "  </tbody>\n",
       "</table>\n",
       "<p>3368 rows × 2 columns</p>\n",
       "</div>"
      ],
      "text/plain": [
       "agi                                                                <=50K  >50K\n",
       "decade sex    race               occupation       education_years             \n",
       "10     Female Amer-Indian-Eskimo ?                10                 1.0   0.0\n",
       "                                 Adm-clerical     6                  1.0   0.0\n",
       "                                                  7                  1.0   0.0\n",
       "                                 Other-service    6                  1.0   0.0\n",
       "                                                  7                  1.0   0.0\n",
       "...                                                                  ...   ...\n",
       "90     Male   White              Prof-specialty   13                 1.0   0.0\n",
       "                                                  15                 0.0   1.0\n",
       "                                 Protective-serv  4                  1.0   0.0\n",
       "                                 Sales            13                 0.5   0.5\n",
       "                                 Transport-moving 9                  1.0   0.0\n",
       "\n",
       "[3368 rows x 2 columns]"
      ]
     },
     "execution_count": 27,
     "metadata": {},
     "output_type": "execute_result"
    }
   ],
   "source": [
    "agi_ = conditional_probability(income, 'agi', ['decade', 'sex', 'race', 'occupation', 'education_years'], 'class')\n",
    "agi_"
   ]
  },
  {
   "cell_type": "markdown",
   "metadata": {},
   "source": [
    "Here we have a large table with the empirical conditional probabilities. We won't go into these now since we are more concerned with Naive Bayes, so we now turn Naive Bayes Classifier."
   ]
  },
  {
   "cell_type": "markdown",
   "metadata": {},
   "source": [
    "I will start by copying the code for the Ordinal Encoder, in order to filter out categories with missing information. Based on the dataframe, it doesn't look like there are any missing values, though I will proceed with the Ordinal Encoder. Note I am using the `Decade` category here again, instead of `Age`."
   ]
  },
  {
   "cell_type": "code",
   "execution_count": 28,
   "metadata": {},
   "outputs": [],
   "source": [
    "from sklearn.naive_bayes import CategoricalNB\n",
    "from sklearn.preprocessing import OrdinalEncoder"
   ]
  },
  {
   "cell_type": "markdown",
   "metadata": {},
   "source": [
    "Listing income info here again just for reference, so we can see the different columns again without having to scroll up too far."
   ]
  },
  {
   "cell_type": "code",
   "execution_count": 29,
   "metadata": {},
   "outputs": [
    {
     "name": "stdout",
     "output_type": "stream",
     "text": [
      "<class 'pandas.core.frame.DataFrame'>\n",
      "RangeIndex: 32561 entries, 0 to 32560\n",
      "Data columns (total 16 columns):\n",
      " #   Column           Non-Null Count  Dtype \n",
      "---  ------           --------------  ----- \n",
      " 0   age              32561 non-null  int64 \n",
      " 1   class            32561 non-null  object\n",
      " 2   fnlwght          32561 non-null  int64 \n",
      " 3   education        32561 non-null  object\n",
      " 4   education_years  32561 non-null  int64 \n",
      " 5   marital_status   32561 non-null  object\n",
      " 6   occupation       32561 non-null  object\n",
      " 7   relationship     32561 non-null  object\n",
      " 8   race             32561 non-null  object\n",
      " 9   sex              32561 non-null  object\n",
      " 10  capital_gain     32561 non-null  int64 \n",
      " 11  capital_loss     32561 non-null  int64 \n",
      " 12  hours_per_week   32561 non-null  int64 \n",
      " 13  native_country   32561 non-null  object\n",
      " 14  agi              32561 non-null  object\n",
      " 15  decade           32561 non-null  int64 \n",
      "dtypes: int64(7), object(9)\n",
      "memory usage: 4.0+ MB\n"
     ]
    }
   ],
   "source": [
    "income.info()"
   ]
  },
  {
   "cell_type": "markdown",
   "metadata": {},
   "source": [
    "Now we see the encoder with the encoded categories we are interested in. I am essentially following the same process as in *Fundamentals*, Chapter 4, pages 195-196."
   ]
  },
  {
   "cell_type": "code",
   "execution_count": 30,
   "metadata": {},
   "outputs": [
    {
     "data": {
      "text/plain": [
       "[array([10, 20, 30, 40, 50, 60, 70, 80, 90], dtype=int64),\n",
       " array(['Female', 'Male'], dtype=object),\n",
       " array(['Amer-Indian-Eskimo', 'Asian-Pac-Islander', 'Black', 'Other',\n",
       "        'White'], dtype=object),\n",
       " array(['?', 'Adm-clerical', 'Armed-Forces', 'Craft-repair',\n",
       "        'Exec-managerial', 'Farming-fishing', 'Handlers-cleaners',\n",
       "        'Machine-op-inspct', 'Other-service', 'Priv-house-serv',\n",
       "        'Prof-specialty', 'Protective-serv', 'Sales', 'Tech-support',\n",
       "        'Transport-moving'], dtype=object),\n",
       " array([ 1,  2,  3,  4,  5,  6,  7,  8,  9, 10, 11, 12, 13, 14, 15, 16],\n",
       "       dtype=int64)]"
      ]
     },
     "execution_count": 30,
     "metadata": {},
     "output_type": "execute_result"
    }
   ],
   "source": [
    "encoder = OrdinalEncoder()\n",
    "\n",
    "with_age = income[income['age'].notnull()]\n",
    "\n",
    "encoder.fit(with_age[['decade', 'sex', 'race', 'occupation', 'education_years']])\n",
    "\n",
    "encoder.categories_\n"
   ]
  },
  {
   "cell_type": "markdown",
   "metadata": {},
   "source": [
    "Then we fit the Classifier with these categories, as in Lab 2."
   ]
  },
  {
   "cell_type": "code",
   "execution_count": 31,
   "metadata": {},
   "outputs": [
    {
     "data": {
      "text/html": [
       "<style>#sk-container-id-1 {\n",
       "  /* Definition of color scheme common for light and dark mode */\n",
       "  --sklearn-color-text: black;\n",
       "  --sklearn-color-line: gray;\n",
       "  /* Definition of color scheme for unfitted estimators */\n",
       "  --sklearn-color-unfitted-level-0: #fff5e6;\n",
       "  --sklearn-color-unfitted-level-1: #f6e4d2;\n",
       "  --sklearn-color-unfitted-level-2: #ffe0b3;\n",
       "  --sklearn-color-unfitted-level-3: chocolate;\n",
       "  /* Definition of color scheme for fitted estimators */\n",
       "  --sklearn-color-fitted-level-0: #f0f8ff;\n",
       "  --sklearn-color-fitted-level-1: #d4ebff;\n",
       "  --sklearn-color-fitted-level-2: #b3dbfd;\n",
       "  --sklearn-color-fitted-level-3: cornflowerblue;\n",
       "\n",
       "  /* Specific color for light theme */\n",
       "  --sklearn-color-text-on-default-background: var(--sg-text-color, var(--theme-code-foreground, var(--jp-content-font-color1, black)));\n",
       "  --sklearn-color-background: var(--sg-background-color, var(--theme-background, var(--jp-layout-color0, white)));\n",
       "  --sklearn-color-border-box: var(--sg-text-color, var(--theme-code-foreground, var(--jp-content-font-color1, black)));\n",
       "  --sklearn-color-icon: #696969;\n",
       "\n",
       "  @media (prefers-color-scheme: dark) {\n",
       "    /* Redefinition of color scheme for dark theme */\n",
       "    --sklearn-color-text-on-default-background: var(--sg-text-color, var(--theme-code-foreground, var(--jp-content-font-color1, white)));\n",
       "    --sklearn-color-background: var(--sg-background-color, var(--theme-background, var(--jp-layout-color0, #111)));\n",
       "    --sklearn-color-border-box: var(--sg-text-color, var(--theme-code-foreground, var(--jp-content-font-color1, white)));\n",
       "    --sklearn-color-icon: #878787;\n",
       "  }\n",
       "}\n",
       "\n",
       "#sk-container-id-1 {\n",
       "  color: var(--sklearn-color-text);\n",
       "}\n",
       "\n",
       "#sk-container-id-1 pre {\n",
       "  padding: 0;\n",
       "}\n",
       "\n",
       "#sk-container-id-1 input.sk-hidden--visually {\n",
       "  border: 0;\n",
       "  clip: rect(1px 1px 1px 1px);\n",
       "  clip: rect(1px, 1px, 1px, 1px);\n",
       "  height: 1px;\n",
       "  margin: -1px;\n",
       "  overflow: hidden;\n",
       "  padding: 0;\n",
       "  position: absolute;\n",
       "  width: 1px;\n",
       "}\n",
       "\n",
       "#sk-container-id-1 div.sk-dashed-wrapped {\n",
       "  border: 1px dashed var(--sklearn-color-line);\n",
       "  margin: 0 0.4em 0.5em 0.4em;\n",
       "  box-sizing: border-box;\n",
       "  padding-bottom: 0.4em;\n",
       "  background-color: var(--sklearn-color-background);\n",
       "}\n",
       "\n",
       "#sk-container-id-1 div.sk-container {\n",
       "  /* jupyter's `normalize.less` sets `[hidden] { display: none; }`\n",
       "     but bootstrap.min.css set `[hidden] { display: none !important; }`\n",
       "     so we also need the `!important` here to be able to override the\n",
       "     default hidden behavior on the sphinx rendered scikit-learn.org.\n",
       "     See: https://github.com/scikit-learn/scikit-learn/issues/21755 */\n",
       "  display: inline-block !important;\n",
       "  position: relative;\n",
       "}\n",
       "\n",
       "#sk-container-id-1 div.sk-text-repr-fallback {\n",
       "  display: none;\n",
       "}\n",
       "\n",
       "div.sk-parallel-item,\n",
       "div.sk-serial,\n",
       "div.sk-item {\n",
       "  /* draw centered vertical line to link estimators */\n",
       "  background-image: linear-gradient(var(--sklearn-color-text-on-default-background), var(--sklearn-color-text-on-default-background));\n",
       "  background-size: 2px 100%;\n",
       "  background-repeat: no-repeat;\n",
       "  background-position: center center;\n",
       "}\n",
       "\n",
       "/* Parallel-specific style estimator block */\n",
       "\n",
       "#sk-container-id-1 div.sk-parallel-item::after {\n",
       "  content: \"\";\n",
       "  width: 100%;\n",
       "  border-bottom: 2px solid var(--sklearn-color-text-on-default-background);\n",
       "  flex-grow: 1;\n",
       "}\n",
       "\n",
       "#sk-container-id-1 div.sk-parallel {\n",
       "  display: flex;\n",
       "  align-items: stretch;\n",
       "  justify-content: center;\n",
       "  background-color: var(--sklearn-color-background);\n",
       "  position: relative;\n",
       "}\n",
       "\n",
       "#sk-container-id-1 div.sk-parallel-item {\n",
       "  display: flex;\n",
       "  flex-direction: column;\n",
       "}\n",
       "\n",
       "#sk-container-id-1 div.sk-parallel-item:first-child::after {\n",
       "  align-self: flex-end;\n",
       "  width: 50%;\n",
       "}\n",
       "\n",
       "#sk-container-id-1 div.sk-parallel-item:last-child::after {\n",
       "  align-self: flex-start;\n",
       "  width: 50%;\n",
       "}\n",
       "\n",
       "#sk-container-id-1 div.sk-parallel-item:only-child::after {\n",
       "  width: 0;\n",
       "}\n",
       "\n",
       "/* Serial-specific style estimator block */\n",
       "\n",
       "#sk-container-id-1 div.sk-serial {\n",
       "  display: flex;\n",
       "  flex-direction: column;\n",
       "  align-items: center;\n",
       "  background-color: var(--sklearn-color-background);\n",
       "  padding-right: 1em;\n",
       "  padding-left: 1em;\n",
       "}\n",
       "\n",
       "\n",
       "/* Toggleable style: style used for estimator/Pipeline/ColumnTransformer box that is\n",
       "clickable and can be expanded/collapsed.\n",
       "- Pipeline and ColumnTransformer use this feature and define the default style\n",
       "- Estimators will overwrite some part of the style using the `sk-estimator` class\n",
       "*/\n",
       "\n",
       "/* Pipeline and ColumnTransformer style (default) */\n",
       "\n",
       "#sk-container-id-1 div.sk-toggleable {\n",
       "  /* Default theme specific background. It is overwritten whether we have a\n",
       "  specific estimator or a Pipeline/ColumnTransformer */\n",
       "  background-color: var(--sklearn-color-background);\n",
       "}\n",
       "\n",
       "/* Toggleable label */\n",
       "#sk-container-id-1 label.sk-toggleable__label {\n",
       "  cursor: pointer;\n",
       "  display: block;\n",
       "  width: 100%;\n",
       "  margin-bottom: 0;\n",
       "  padding: 0.5em;\n",
       "  box-sizing: border-box;\n",
       "  text-align: center;\n",
       "}\n",
       "\n",
       "#sk-container-id-1 label.sk-toggleable__label-arrow:before {\n",
       "  /* Arrow on the left of the label */\n",
       "  content: \"▸\";\n",
       "  float: left;\n",
       "  margin-right: 0.25em;\n",
       "  color: var(--sklearn-color-icon);\n",
       "}\n",
       "\n",
       "#sk-container-id-1 label.sk-toggleable__label-arrow:hover:before {\n",
       "  color: var(--sklearn-color-text);\n",
       "}\n",
       "\n",
       "/* Toggleable content - dropdown */\n",
       "\n",
       "#sk-container-id-1 div.sk-toggleable__content {\n",
       "  max-height: 0;\n",
       "  max-width: 0;\n",
       "  overflow: hidden;\n",
       "  text-align: left;\n",
       "  /* unfitted */\n",
       "  background-color: var(--sklearn-color-unfitted-level-0);\n",
       "}\n",
       "\n",
       "#sk-container-id-1 div.sk-toggleable__content.fitted {\n",
       "  /* fitted */\n",
       "  background-color: var(--sklearn-color-fitted-level-0);\n",
       "}\n",
       "\n",
       "#sk-container-id-1 div.sk-toggleable__content pre {\n",
       "  margin: 0.2em;\n",
       "  border-radius: 0.25em;\n",
       "  color: var(--sklearn-color-text);\n",
       "  /* unfitted */\n",
       "  background-color: var(--sklearn-color-unfitted-level-0);\n",
       "}\n",
       "\n",
       "#sk-container-id-1 div.sk-toggleable__content.fitted pre {\n",
       "  /* unfitted */\n",
       "  background-color: var(--sklearn-color-fitted-level-0);\n",
       "}\n",
       "\n",
       "#sk-container-id-1 input.sk-toggleable__control:checked~div.sk-toggleable__content {\n",
       "  /* Expand drop-down */\n",
       "  max-height: 200px;\n",
       "  max-width: 100%;\n",
       "  overflow: auto;\n",
       "}\n",
       "\n",
       "#sk-container-id-1 input.sk-toggleable__control:checked~label.sk-toggleable__label-arrow:before {\n",
       "  content: \"▾\";\n",
       "}\n",
       "\n",
       "/* Pipeline/ColumnTransformer-specific style */\n",
       "\n",
       "#sk-container-id-1 div.sk-label input.sk-toggleable__control:checked~label.sk-toggleable__label {\n",
       "  color: var(--sklearn-color-text);\n",
       "  background-color: var(--sklearn-color-unfitted-level-2);\n",
       "}\n",
       "\n",
       "#sk-container-id-1 div.sk-label.fitted input.sk-toggleable__control:checked~label.sk-toggleable__label {\n",
       "  background-color: var(--sklearn-color-fitted-level-2);\n",
       "}\n",
       "\n",
       "/* Estimator-specific style */\n",
       "\n",
       "/* Colorize estimator box */\n",
       "#sk-container-id-1 div.sk-estimator input.sk-toggleable__control:checked~label.sk-toggleable__label {\n",
       "  /* unfitted */\n",
       "  background-color: var(--sklearn-color-unfitted-level-2);\n",
       "}\n",
       "\n",
       "#sk-container-id-1 div.sk-estimator.fitted input.sk-toggleable__control:checked~label.sk-toggleable__label {\n",
       "  /* fitted */\n",
       "  background-color: var(--sklearn-color-fitted-level-2);\n",
       "}\n",
       "\n",
       "#sk-container-id-1 div.sk-label label.sk-toggleable__label,\n",
       "#sk-container-id-1 div.sk-label label {\n",
       "  /* The background is the default theme color */\n",
       "  color: var(--sklearn-color-text-on-default-background);\n",
       "}\n",
       "\n",
       "/* On hover, darken the color of the background */\n",
       "#sk-container-id-1 div.sk-label:hover label.sk-toggleable__label {\n",
       "  color: var(--sklearn-color-text);\n",
       "  background-color: var(--sklearn-color-unfitted-level-2);\n",
       "}\n",
       "\n",
       "/* Label box, darken color on hover, fitted */\n",
       "#sk-container-id-1 div.sk-label.fitted:hover label.sk-toggleable__label.fitted {\n",
       "  color: var(--sklearn-color-text);\n",
       "  background-color: var(--sklearn-color-fitted-level-2);\n",
       "}\n",
       "\n",
       "/* Estimator label */\n",
       "\n",
       "#sk-container-id-1 div.sk-label label {\n",
       "  font-family: monospace;\n",
       "  font-weight: bold;\n",
       "  display: inline-block;\n",
       "  line-height: 1.2em;\n",
       "}\n",
       "\n",
       "#sk-container-id-1 div.sk-label-container {\n",
       "  text-align: center;\n",
       "}\n",
       "\n",
       "/* Estimator-specific */\n",
       "#sk-container-id-1 div.sk-estimator {\n",
       "  font-family: monospace;\n",
       "  border: 1px dotted var(--sklearn-color-border-box);\n",
       "  border-radius: 0.25em;\n",
       "  box-sizing: border-box;\n",
       "  margin-bottom: 0.5em;\n",
       "  /* unfitted */\n",
       "  background-color: var(--sklearn-color-unfitted-level-0);\n",
       "}\n",
       "\n",
       "#sk-container-id-1 div.sk-estimator.fitted {\n",
       "  /* fitted */\n",
       "  background-color: var(--sklearn-color-fitted-level-0);\n",
       "}\n",
       "\n",
       "/* on hover */\n",
       "#sk-container-id-1 div.sk-estimator:hover {\n",
       "  /* unfitted */\n",
       "  background-color: var(--sklearn-color-unfitted-level-2);\n",
       "}\n",
       "\n",
       "#sk-container-id-1 div.sk-estimator.fitted:hover {\n",
       "  /* fitted */\n",
       "  background-color: var(--sklearn-color-fitted-level-2);\n",
       "}\n",
       "\n",
       "/* Specification for estimator info (e.g. \"i\" and \"?\") */\n",
       "\n",
       "/* Common style for \"i\" and \"?\" */\n",
       "\n",
       ".sk-estimator-doc-link,\n",
       "a:link.sk-estimator-doc-link,\n",
       "a:visited.sk-estimator-doc-link {\n",
       "  float: right;\n",
       "  font-size: smaller;\n",
       "  line-height: 1em;\n",
       "  font-family: monospace;\n",
       "  background-color: var(--sklearn-color-background);\n",
       "  border-radius: 1em;\n",
       "  height: 1em;\n",
       "  width: 1em;\n",
       "  text-decoration: none !important;\n",
       "  margin-left: 1ex;\n",
       "  /* unfitted */\n",
       "  border: var(--sklearn-color-unfitted-level-1) 1pt solid;\n",
       "  color: var(--sklearn-color-unfitted-level-1);\n",
       "}\n",
       "\n",
       ".sk-estimator-doc-link.fitted,\n",
       "a:link.sk-estimator-doc-link.fitted,\n",
       "a:visited.sk-estimator-doc-link.fitted {\n",
       "  /* fitted */\n",
       "  border: var(--sklearn-color-fitted-level-1) 1pt solid;\n",
       "  color: var(--sklearn-color-fitted-level-1);\n",
       "}\n",
       "\n",
       "/* On hover */\n",
       "div.sk-estimator:hover .sk-estimator-doc-link:hover,\n",
       ".sk-estimator-doc-link:hover,\n",
       "div.sk-label-container:hover .sk-estimator-doc-link:hover,\n",
       ".sk-estimator-doc-link:hover {\n",
       "  /* unfitted */\n",
       "  background-color: var(--sklearn-color-unfitted-level-3);\n",
       "  color: var(--sklearn-color-background);\n",
       "  text-decoration: none;\n",
       "}\n",
       "\n",
       "div.sk-estimator.fitted:hover .sk-estimator-doc-link.fitted:hover,\n",
       ".sk-estimator-doc-link.fitted:hover,\n",
       "div.sk-label-container:hover .sk-estimator-doc-link.fitted:hover,\n",
       ".sk-estimator-doc-link.fitted:hover {\n",
       "  /* fitted */\n",
       "  background-color: var(--sklearn-color-fitted-level-3);\n",
       "  color: var(--sklearn-color-background);\n",
       "  text-decoration: none;\n",
       "}\n",
       "\n",
       "/* Span, style for the box shown on hovering the info icon */\n",
       ".sk-estimator-doc-link span {\n",
       "  display: none;\n",
       "  z-index: 9999;\n",
       "  position: relative;\n",
       "  font-weight: normal;\n",
       "  right: .2ex;\n",
       "  padding: .5ex;\n",
       "  margin: .5ex;\n",
       "  width: min-content;\n",
       "  min-width: 20ex;\n",
       "  max-width: 50ex;\n",
       "  color: var(--sklearn-color-text);\n",
       "  box-shadow: 2pt 2pt 4pt #999;\n",
       "  /* unfitted */\n",
       "  background: var(--sklearn-color-unfitted-level-0);\n",
       "  border: .5pt solid var(--sklearn-color-unfitted-level-3);\n",
       "}\n",
       "\n",
       ".sk-estimator-doc-link.fitted span {\n",
       "  /* fitted */\n",
       "  background: var(--sklearn-color-fitted-level-0);\n",
       "  border: var(--sklearn-color-fitted-level-3);\n",
       "}\n",
       "\n",
       ".sk-estimator-doc-link:hover span {\n",
       "  display: block;\n",
       "}\n",
       "\n",
       "/* \"?\"-specific style due to the `<a>` HTML tag */\n",
       "\n",
       "#sk-container-id-1 a.estimator_doc_link {\n",
       "  float: right;\n",
       "  font-size: 1rem;\n",
       "  line-height: 1em;\n",
       "  font-family: monospace;\n",
       "  background-color: var(--sklearn-color-background);\n",
       "  border-radius: 1rem;\n",
       "  height: 1rem;\n",
       "  width: 1rem;\n",
       "  text-decoration: none;\n",
       "  /* unfitted */\n",
       "  color: var(--sklearn-color-unfitted-level-1);\n",
       "  border: var(--sklearn-color-unfitted-level-1) 1pt solid;\n",
       "}\n",
       "\n",
       "#sk-container-id-1 a.estimator_doc_link.fitted {\n",
       "  /* fitted */\n",
       "  border: var(--sklearn-color-fitted-level-1) 1pt solid;\n",
       "  color: var(--sklearn-color-fitted-level-1);\n",
       "}\n",
       "\n",
       "/* On hover */\n",
       "#sk-container-id-1 a.estimator_doc_link:hover {\n",
       "  /* unfitted */\n",
       "  background-color: var(--sklearn-color-unfitted-level-3);\n",
       "  color: var(--sklearn-color-background);\n",
       "  text-decoration: none;\n",
       "}\n",
       "\n",
       "#sk-container-id-1 a.estimator_doc_link.fitted:hover {\n",
       "  /* fitted */\n",
       "  background-color: var(--sklearn-color-fitted-level-3);\n",
       "}\n",
       "</style><div id=\"sk-container-id-1\" class=\"sk-top-container\"><div class=\"sk-text-repr-fallback\"><pre>CategoricalNB()</pre><b>In a Jupyter environment, please rerun this cell to show the HTML representation or trust the notebook. <br />On GitHub, the HTML representation is unable to render, please try loading this page with nbviewer.org.</b></div><div class=\"sk-container\" hidden><div class=\"sk-item\"><div class=\"sk-estimator fitted sk-toggleable\"><input class=\"sk-toggleable__control sk-hidden--visually\" id=\"sk-estimator-id-1\" type=\"checkbox\" checked><label for=\"sk-estimator-id-1\" class=\"sk-toggleable__label fitted sk-toggleable__label-arrow fitted\">&nbsp;&nbsp;CategoricalNB<a class=\"sk-estimator-doc-link fitted\" rel=\"noreferrer\" target=\"_blank\" href=\"https://scikit-learn.org/1.4/modules/generated/sklearn.naive_bayes.CategoricalNB.html\">?<span>Documentation for CategoricalNB</span></a><span class=\"sk-estimator-doc-link fitted\">i<span>Fitted</span></span></label><div class=\"sk-toggleable__content fitted\"><pre>CategoricalNB()</pre></div> </div></div></div></div>"
      ],
      "text/plain": [
       "CategoricalNB()"
      ]
     },
     "execution_count": 31,
     "metadata": {},
     "output_type": "execute_result"
    }
   ],
   "source": [
    "clf = CategoricalNB()\n",
    "\n",
    "clf.fit(encoder.transform(with_age[['decade', 'sex', 'race', 'occupation',\n",
    "                                        'education_years']]), with_age['agi'])"
   ]
  },
  {
   "cell_type": "markdown",
   "metadata": {},
   "source": [
    "Next, creating a function to display the results of our predictions."
   ]
  },
  {
   "cell_type": "code",
   "execution_count": 32,
   "metadata": {},
   "outputs": [],
   "source": [
    "def display_prediction(probs):\n",
    "    print(f'P( agi = >50K|*): {probs[0][1]}')\n",
    "    print(f'P(agi = <=50K|*): {probs[0][0]}')"
   ]
  },
  {
   "cell_type": "markdown",
   "metadata": {},
   "source": [
    "Using a Dict to \"Namespace\" results, as in lab 2."
   ]
  },
  {
   "cell_type": "code",
   "execution_count": 33,
   "metadata": {},
   "outputs": [],
   "source": [
    "predictions = {}"
   ]
  },
  {
   "cell_type": "markdown",
   "metadata": {},
   "source": [
    "Now we can make the 5 predictions. For the first prediction, let's look at a white man in his 20s, who works in Adm-Clerical work and has 9 years of education. I'm going to predict that his Agi is >50K."
   ]
  },
  {
   "cell_type": "code",
   "execution_count": 34,
   "metadata": {},
   "outputs": [],
   "source": [
    "predictions[1] = clf.predict_proba(encoder.transform([(20, 'Male', 'White', \n",
    "                                                        'Adm-clerical', 9)]))"
   ]
  },
  {
   "cell_type": "code",
   "execution_count": 35,
   "metadata": {},
   "outputs": [
    {
     "name": "stdout",
     "output_type": "stream",
     "text": [
      "P( agi = >50K|*): 0.028898293582970868\n",
      "P(agi = <=50K|*): 0.9711017064170292\n"
     ]
    }
   ],
   "source": [
    "display_prediction(predictions[1])"
   ]
  },
  {
   "cell_type": "markdown",
   "metadata": {},
   "source": [
    "There is 97% chance his agi is in fact <=50K, so my hypothesis was not correct."
   ]
  },
  {
   "cell_type": "markdown",
   "metadata": {},
   "source": [
    "Moving on, let's predict that a black woman in her 50s, who works in Exec-managerial work and has 12 years of education has an agi >50K."
   ]
  },
  {
   "cell_type": "code",
   "execution_count": 36,
   "metadata": {},
   "outputs": [],
   "source": [
    "predictions[2] = clf.predict_proba(encoder.transform([(50, 'Female', 'Black', \n",
    "                                                        'Exec-managerial', 12)]))"
   ]
  },
  {
   "cell_type": "code",
   "execution_count": 37,
   "metadata": {},
   "outputs": [
    {
     "name": "stdout",
     "output_type": "stream",
     "text": [
      "P( agi = >50K|*): 0.2512875089844287\n",
      "P(agi = <=50K|*): 0.7487124910155714\n"
     ]
    }
   ],
   "source": [
    "display_prediction(predictions[2])"
   ]
  },
  {
   "cell_type": "markdown",
   "metadata": {},
   "source": [
    "It looks like only 25% chance that she does make at least 50K, while 75% chance she does not, which is suprising to me."
   ]
  },
  {
   "cell_type": "markdown",
   "metadata": {},
   "source": [
    "For my next trick..I mean, my next prediction, let's predict a woman in his 30s of unknown race, working in Craft-repair, with 10 years of education. I hypothesize she does not make over 50K."
   ]
  },
  {
   "cell_type": "code",
   "execution_count": 38,
   "metadata": {},
   "outputs": [],
   "source": [
    "predictions[3] = clf.predict_proba(encoder.transform([(30, 'Female', 'Other', \n",
    "                                                        'Craft-repair', 10)]))"
   ]
  },
  {
   "cell_type": "code",
   "execution_count": 39,
   "metadata": {},
   "outputs": [
    {
     "name": "stdout",
     "output_type": "stream",
     "text": [
      "P( agi = >50K|*): 0.03117210843226513\n",
      "P(agi = <=50K|*): 0.9688278915677351\n"
     ]
    }
   ],
   "source": [
    "display_prediction(predictions[3])"
   ]
  },
  {
   "cell_type": "markdown",
   "metadata": {},
   "source": [
    "About a 97% chance she does not make over 50K, a correct hypothesis."
   ]
  },
  {
   "cell_type": "markdown",
   "metadata": {},
   "source": [
    "For the fourth prediction, let's try a man in his 50s, of asian descent, working in Prof-specialty field, with 16 years of education. I hypothesize he makes over 50K."
   ]
  },
  {
   "cell_type": "code",
   "execution_count": 40,
   "metadata": {},
   "outputs": [],
   "source": [
    "predictions[4] = clf.predict_proba(encoder.transform([(50, 'Male', 'Asian-Pac-Islander', \n",
    "                                                        'Prof-specialty', 16)]))"
   ]
  },
  {
   "cell_type": "code",
   "execution_count": 41,
   "metadata": {},
   "outputs": [
    {
     "name": "stdout",
     "output_type": "stream",
     "text": [
      "P( agi = >50K|*): 0.9582007976681152\n",
      "P(agi = <=50K|*): 0.0417992023318841\n"
     ]
    }
   ],
   "source": [
    "display_prediction(predictions[4])"
   ]
  },
  {
   "cell_type": "markdown",
   "metadata": {},
   "source": [
    "The hypothesis looks correct. There is a 96% chance he makes over 50K."
   ]
  },
  {
   "cell_type": "markdown",
   "metadata": {},
   "source": [
    "Finally, let's predict a black man in his 60s, who works in sales, and has 10 years of education. I predict he will make more than 50K."
   ]
  },
  {
   "cell_type": "code",
   "execution_count": 42,
   "metadata": {},
   "outputs": [],
   "source": [
    "predictions[5] = clf.predict_proba(encoder.transform([(60, 'Male', 'Black', \n",
    "                                                        'Sales', 10)]))"
   ]
  },
  {
   "cell_type": "code",
   "execution_count": 43,
   "metadata": {},
   "outputs": [
    {
     "name": "stdout",
     "output_type": "stream",
     "text": [
      "P( agi = >50K|*): 0.1629121390131851\n",
      "P(agi = <=50K|*): 0.8370878609868143\n"
     ]
    }
   ],
   "source": [
    "display_prediction(predictions[5])"
   ]
  },
  {
   "cell_type": "markdown",
   "metadata": {},
   "source": [
    "The hypothesis was wrong, as there is an 84% chance he does not make over 50K."
   ]
  },
  {
   "cell_type": "markdown",
   "metadata": {},
   "source": [
    "Overall a good variety of data. I think the education_years tripped me up a bit when making the predictions. I think it definitely would have helped to bin them into a smaller range, maybe something like 'High School Education', 'Bachelor's', 'Master's', and 'Beyond Master's'. A good exercise I'll try out in my spare time."
   ]
  },
  {
   "cell_type": "markdown",
   "metadata": {},
   "source": [
    "---\n",
    "\n",
    "**PRE-SUBMISSION CHECK LIST**\n",
    "\n",
    "Before you submit this assignent, go back and review the directions to ensure that you have followed each instruction.\n",
    "\n",
    "* [ ] Have you completed every section and answered every question asked?\n",
    "* [ ] For every question, have you described your approach and explained your results?\n",
    "* [ ] Have you checked for spelling and grammar errors?\n",
    "* [ ] Are your code blocks free of any errors?\n",
    "* [ ] Have you deleted unused code or markdown blocks? Removed scratch calculations? Excessive raw data print outs?\n",
    "* [ ] Hide all the code/output cells and make sure that you have sufficient discussion. Re-show the output cells but leave code cells hidden.\n",
    "* [ ] Have you *SAVED* your notebook?\n",
    "* [ ] Are you following the submission requirements for this particular assignment?\n"
   ]
  }
 ],
 "metadata": {
  "colab": {
   "include_colab_link": true,
   "name": "Problem Set 1.ipynb",
   "provenance": []
  },
  "kernelspec": {
   "display_name": "Python (en685648)",
   "language": "python",
   "name": "en685648"
  },
  "language_info": {
   "codemirror_mode": {
    "name": "ipython",
    "version": 3
   },
   "file_extension": ".py",
   "mimetype": "text/x-python",
   "name": "python",
   "nbconvert_exporter": "python",
   "pygments_lexer": "ipython3",
   "version": "3.11.7"
  },
  "toc": {
   "colors": {
    "hover_highlight": "#DAA520",
    "navigate_num": "#000000",
    "navigate_text": "#333333",
    "running_highlight": "#FF0000",
    "selected_highlight": "#FFD700",
    "sidebar_border": "#EEEEEE",
    "wrapper_background": "#FFFFFF"
   },
   "moveMenuLeft": true,
   "nav_menu": {
    "height": "99px",
    "width": "252px"
   },
   "navigate_menu": true,
   "number_sections": true,
   "sideBar": true,
   "threshold": 4,
   "toc_cell": false,
   "toc_section_display": "block",
   "toc_window_display": false,
   "widenNotebook": false
  }
 },
 "nbformat": 4,
 "nbformat_minor": 4
}
