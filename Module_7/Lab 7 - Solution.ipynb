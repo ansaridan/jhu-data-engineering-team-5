{
 "cells": [
  {
   "cell_type": "markdown",
   "metadata": {},
   "source": [
    "# Lab 7 - Inference - Solution"
   ]
  },
  {
   "cell_type": "code",
   "execution_count": 1,
   "metadata": {
    "tags": []
   },
   "outputs": [],
   "source": [
    "%matplotlib inline"
   ]
  },
  {
   "cell_type": "markdown",
   "metadata": {},
   "source": [
    "This will make all the `matplotlib` images appear in the notebook."
   ]
  },
  {
   "cell_type": "code",
   "execution_count": 1,
   "metadata": {
    "tags": []
   },
   "outputs": [],
   "source": [
    "import numpy as np\n",
    "import time\n",
    "import seaborn as sns\n",
    "import matplotlib.pyplot as plt\n",
    "import scipy.stats as stats\n",
    "\n",
    "sns.set(style=\"whitegrid\")"
   ]
  },
  {
   "cell_type": "markdown",
   "metadata": {},
   "source": [
    "## Directions\n",
    "\n",
    "**Failure to follow the directions will result in a \"0\"**\n",
    "\n",
    "The due dates for each are indicated in the Syllabus and the course calendar. If anything is unclear, please email us via Canvas Inbox or ask questions in the Lab Group discussion area on Teams.\n",
    "\n",
    "The Labs also present technical material that augments the lectures and \"book\".  You should read through the entire lab at the start of each module.\n",
    "\n",
    "### General Instructions\n",
    "\n",
    "1.  You will be submitting your assignment to Blackboard. If there are no accompanying files, you should submit *only* your notebook and it should be named using *only* your JHED id: fsmith79.ipynb for example if your JHED id were \"fsmith79\". If the assignment requires additional files, you should name the *folder/directory* your JHED id and put all items in that folder/directory, ZIP it up (only ZIP...no other compression), and submit it to Blackboard.\n",
    "    \n",
    "    * do **not** use absolute paths in your notebooks. All resources should appear in the same directory as the rest of your assignments.\n",
    "    * the directory **must** be named your JHED id and **only** your JHED id.\n",
    "    \n",
    "2. Data Science is as much about what you write (communicating) as the code you execute (researching). In many places, you will be required to execute code and discuss both the purpose and the result. Additionally, Data Science is about reproducibility and transparency. This includes good communication with your team and possibly with yourself. Therefore, you must show **all** work.\n",
    "\n",
    "3. Avail yourself of the Markdown/Codecell nature of the notebook. If you don't know about Markdown, look it up. Your notebooks should not look like ransom notes. Don't make everything bold. Clearly indicate what question you are answering.\n",
    "\n",
    "4. Submit a cleanly executed notebook. The first code cell should say `In [1]` and each successive code cell should increase by 1 throughout the notebook."
   ]
  },
  {
   "cell_type": "markdown",
   "metadata": {},
   "source": [
    "## Bayesian Inference\n",
    "\n",
    "Really, there are only a few classical problems in statistical inference. However, we use the Bayes Theorem as the basis for solving all of them:\n",
    "\n",
    "$$P(H|D) = \\frac{P(D|H)P(H)}{P(D)}$$\n",
    "\n",
    "You only need to identify what $H$ relates to...what is it? Is it some parameter of a distribution? Some property of a model (coefficients, error rate, etc.). For some formulations, we are more specific and specify $H$ as some parameter or parameters, $\\theta$:\n",
    "\n",
    "$$P(\\theta|D) = \\frac{P(D|\\theta)P(\\theta)}{P(D)}$$\n",
    "\n",
    "In the text we saw how we could estimate the posterior distribution using four methods: Grid, Exact, Monte Carlo and Bootstrap. For this Lab, we'll concentrate on the Bootstrap method for the reasons specified in the text."
   ]
  },
  {
   "cell_type": "markdown",
   "metadata": {},
   "source": [
    "## Statistical inference of a proportion in a Bernoulli Trial\n",
    "\n",
    "**1\\. Suppose we have a coin that shows up heads 60% of the time ($\\theta=p=0.6$). Generate 100 samples from this Binomial distribution (either as True/False or 1/0).**"
   ]
  },
  {
   "cell_type": "code",
   "execution_count": 2,
   "metadata": {
    "tags": []
   },
   "outputs": [
    {
     "name": "stdout",
     "output_type": "stream",
     "text": [
      "[1, 0, 0, 1, 1, 0, 1, 0, 1, 0, 1, 0, 0, 0, 1, 1, 1, 1, 1, 0]\n"
     ]
    }
   ],
   "source": [
    "np.random.seed([1244875])\n",
    "\n",
    "theta = 0.6\n",
    "data = [1 if np.random.rand() < theta else 0 for _ in range( 100)]\n",
    "print( data[0:20])"
   ]
  },
  {
   "cell_type": "markdown",
   "metadata": {},
   "source": [
    "This is the synthetic data. At this point, we pretend that this is data we collected from the real world and we have no idea what $\\theta$ really is. \n",
    "\n",
    "Understanding that inference is not certain, our goal is to make inferences about this parameter's value using this data we just \"collected.\" Normally, the first thing we do is just calculate the parameter from our data. An *estimate* of some real world parameter is often given a \"hat\", for example $\\theta$ becomes $\\hat{\\theta}$. Sometimes, it goes from Greek to Latin as in $\\sigma$ to $s$ and sometimes it gets an adornment as well as in $\\mu$ to $\\bar{x}$.\n",
    "\n",
    "**2\\. Calculate $\\hat{theta}$.**"
   ]
  },
  {
   "cell_type": "code",
   "execution_count": 3,
   "metadata": {},
   "outputs": [
    {
     "name": "stdout",
     "output_type": "stream",
     "text": [
      "0.67\n"
     ]
    }
   ],
   "source": [
    "theta_est = np.mean( data)\n",
    "print( theta_est)"
   ]
  },
  {
   "cell_type": "markdown",
   "metadata": {},
   "source": [
    "But we know that this $\\hat{\\theta}$ is not necessarily the \"true\" value. We want to know all the values that are supported by the data we collected and the degree to which they are supported...how confident we are in them. This is basically what we get when we calculate a posterior distribution over $\\theta$ based on the data.\n",
    "\n",
    "And this is where the **(Non-Parameteric Bayesian) Bootstrap** estimate of that posterior distribution comes in. In the text we established *theoretically* how we went from a single data set to an estimate of the posterior distribution of our parameters. Now we're going to do it for reals.  Use the data we have to \"bootstrap\" an estimate of the posterior probability distribution over $\\theta$, $P(\\theta|D)$ which is \"given the data we observed, how much are we to believe in the various values of $\\theta$ and how much should we believe in them?\" Remember that belief is quantified as probability.\n",
    "\n",
    "**3\\. Generate the Bootstrap of the posterior distribution of $\\hat{\\theta}$ and answer the following questions:**\n",
    "\n",
    "First, we write a simple function to do our bootstrap sampling for us. It takes the data, a metric function and the number of bootstrap samples as the arguments. A metric function can be anything we like but it will most likely be something like `np.mean`, `np.var`, etc., it is whatever function we use to calculate our parameter/statistics."
   ]
  },
  {
   "cell_type": "code",
   "execution_count": 4,
   "metadata": {
    "tags": []
   },
   "outputs": [],
   "source": [
    "def bootstrap_sample( data, f, n=100):\n",
    "    result = []\n",
    "    m = len( data)\n",
    "    for _ in range( n):\n",
    "        sample = np.random.choice( data, len(data), replace=True)\n",
    "        r = f( sample)\n",
    "        result.append( r)\n",
    "    return np.array( result)"
   ]
  },
  {
   "cell_type": "markdown",
   "metadata": {},
   "source": [
    "Now we used the function by supplying the data we \"collected\", our metric function `np.mean` and indicate we want 1000 bootstrap samples. This returns the data we can use as our posterior distribution of the proportion."
   ]
  },
  {
   "cell_type": "code",
   "execution_count": 5,
   "metadata": {
    "tags": []
   },
   "outputs": [],
   "source": [
    "posterior = bootstrap_sample( data, np.mean, 1000)"
   ]
  },
  {
   "cell_type": "markdown",
   "metadata": {},
   "source": [
    "If we like, we can plot a histogram of this posterior distribution:"
   ]
  },
  {
   "cell_type": "code",
   "execution_count": 7,
   "metadata": {},
   "outputs": [
    {
     "data": {
      "image/png": "[encoded data removed]",
      "text/plain": [
       "<Figure size 1000x600 with 1 Axes>"
      ]
     },
     "metadata": {},
     "output_type": "display_data"
    }
   ],
   "source": [
    "figure = plt.figure(figsize=(10, 6)) # first element is width, second is height.\n",
    "\n",
    "axes = figure.add_subplot(1, 1, 1)\n",
    "\n",
    "axes.hist( posterior, density=True, color=\"dimgray\")\n",
    "axes.set_ylabel( \"Density\")\n",
    "axes.set_xlabel( \"$\\hat{theta}$\")\n",
    "axes.set_title( \"Posterior Distribution of $\\hat{theta}$\")\n",
    "\n",
    "plt.show()\n",
    "plt.close()"
   ]
  },
  {
   "cell_type": "markdown",
   "metadata": {},
   "source": [
    "Note that while the data is discrete and boolean (true/false), the parameter $\\theta$ is continuous. You might also notice that our distribution appears to be normally distributed. Based on the Central Limit Theorem, this is what we'd expect."
   ]
  },
  {
   "cell_type": "markdown",
   "metadata": {},
   "source": [
    "**4\\. What is the 90% Credible Interval (Bayesian Confidence Interval) for $\\hat{\\theta}$? Interpret it.**\n",
    "\n",
    "Although we'll often plot the posterior distribution, the real payoff from having it is to be able to do computations with it. There are a number of functions we can use for that purpose, for example, `mquantiles`. `mquantiles` is normally used to summarize the distributions of data but in this case, our data is estimates of $\\theta$."
   ]
  },
  {
   "cell_type": "code",
   "execution_count": 7,
   "metadata": {},
   "outputs": [
    {
     "data": {
      "text/plain": [
       "array([0.63, 0.68, 0.61, 0.68, 0.6 , 0.6 , 0.65, 0.58, 0.65, 0.75, 0.66,\n",
       "       0.69, 0.72, 0.68, 0.63, 0.64, 0.76, 0.67, 0.7 , 0.68, 0.66, 0.64,\n",
       "       0.68, 0.7 , 0.68, 0.59, 0.65, 0.68, 0.69, 0.69, 0.67, 0.71, 0.65,\n",
       "       0.65, 0.72, 0.66, 0.65, 0.7 , 0.65, 0.69, 0.69, 0.64, 0.66, 0.73,\n",
       "       0.59, 0.63, 0.63, 0.66, 0.73, 0.65, 0.62, 0.73, 0.64, 0.64, 0.68,\n",
       "       0.65, 0.68, 0.62, 0.67, 0.64, 0.65, 0.62, 0.65, 0.68, 0.71, 0.67,\n",
       "       0.73, 0.66, 0.67, 0.63, 0.69, 0.65, 0.67, 0.59, 0.7 , 0.69, 0.71,\n",
       "       0.68, 0.62, 0.59, 0.71, 0.65, 0.68, 0.7 , 0.59, 0.69, 0.67, 0.68,\n",
       "       0.62, 0.71, 0.69, 0.65, 0.71, 0.72, 0.68, 0.7 , 0.74, 0.69, 0.67,\n",
       "       0.74, 0.69, 0.7 , 0.68, 0.69, 0.7 , 0.71, 0.62, 0.7 , 0.69, 0.65,\n",
       "       0.66, 0.7 , 0.78, 0.73, 0.64, 0.72, 0.7 , 0.72, 0.6 , 0.61, 0.65,\n",
       "       0.67, 0.75, 0.66, 0.67, 0.57, 0.75, 0.72, 0.6 , 0.61, 0.64, 0.73,\n",
       "       0.63, 0.73, 0.66, 0.7 , 0.66, 0.69, 0.68, 0.69, 0.57, 0.72, 0.66,\n",
       "       0.63, 0.66, 0.63, 0.71, 0.64, 0.67, 0.69, 0.62, 0.65, 0.69, 0.69,\n",
       "       0.68, 0.67, 0.67, 0.64, 0.62, 0.55, 0.68, 0.61, 0.74, 0.64, 0.64,\n",
       "       0.64, 0.63, 0.59, 0.61, 0.61, 0.62, 0.61, 0.66, 0.69, 0.67, 0.78,\n",
       "       0.59, 0.56, 0.57, 0.65, 0.74, 0.68, 0.68, 0.72, 0.61, 0.69, 0.65,\n",
       "       0.69, 0.65, 0.7 , 0.65, 0.74, 0.62, 0.62, 0.63, 0.69, 0.69, 0.62,\n",
       "       0.62, 0.61, 0.74, 0.6 , 0.71, 0.62, 0.62, 0.64, 0.64, 0.72, 0.67,\n",
       "       0.63, 0.7 , 0.7 , 0.63, 0.69, 0.67, 0.66, 0.72, 0.68, 0.71, 0.58,\n",
       "       0.65, 0.63, 0.68, 0.77, 0.65, 0.65, 0.65, 0.65, 0.66, 0.67, 0.7 ,\n",
       "       0.65, 0.69, 0.67, 0.65, 0.69, 0.66, 0.68, 0.71, 0.7 , 0.69, 0.57,\n",
       "       0.73, 0.74, 0.71, 0.72, 0.67, 0.57, 0.71, 0.66, 0.74, 0.68, 0.66,\n",
       "       0.67, 0.72, 0.73, 0.71, 0.66, 0.64, 0.7 , 0.66, 0.65, 0.66, 0.68,\n",
       "       0.72, 0.76, 0.64, 0.67, 0.7 , 0.57, 0.59, 0.65, 0.64, 0.69, 0.65,\n",
       "       0.64, 0.7 , 0.69, 0.67, 0.7 , 0.72, 0.62, 0.66, 0.56, 0.72, 0.73,\n",
       "       0.62, 0.59, 0.71, 0.7 , 0.72, 0.66, 0.66, 0.69, 0.52, 0.62, 0.58,\n",
       "       0.79, 0.67, 0.68, 0.74, 0.65, 0.8 , 0.71, 0.59, 0.62, 0.65, 0.72,\n",
       "       0.83, 0.65, 0.6 , 0.73, 0.65, 0.65, 0.65, 0.53, 0.59, 0.66, 0.69,\n",
       "       0.71, 0.65, 0.78, 0.7 , 0.62, 0.66, 0.69, 0.6 , 0.68, 0.63, 0.65,\n",
       "       0.77, 0.61, 0.69, 0.73, 0.74, 0.65, 0.67, 0.61, 0.64, 0.74, 0.67,\n",
       "       0.62, 0.65, 0.67, 0.66, 0.7 , 0.66, 0.67, 0.66, 0.69, 0.67, 0.68,\n",
       "       0.6 , 0.56, 0.66, 0.71, 0.68, 0.57, 0.62, 0.66, 0.64, 0.63, 0.62,\n",
       "       0.62, 0.72, 0.7 , 0.74, 0.64, 0.73, 0.6 , 0.72, 0.69, 0.64, 0.64,\n",
       "       0.67, 0.73, 0.71, 0.68, 0.68, 0.72, 0.64, 0.7 , 0.62, 0.7 , 0.61,\n",
       "       0.64, 0.67, 0.68, 0.67, 0.71, 0.58, 0.62, 0.74, 0.61, 0.72, 0.7 ,\n",
       "       0.76, 0.68, 0.63, 0.56, 0.63, 0.69, 0.62, 0.74, 0.72, 0.64, 0.65,\n",
       "       0.63, 0.67, 0.67, 0.57, 0.65, 0.61, 0.64, 0.64, 0.67, 0.65, 0.72,\n",
       "       0.62, 0.61, 0.58, 0.69, 0.71, 0.68, 0.72, 0.65, 0.71, 0.65, 0.65,\n",
       "       0.67, 0.78, 0.74, 0.73, 0.65, 0.67, 0.6 , 0.68, 0.72, 0.67, 0.7 ,\n",
       "       0.65, 0.64, 0.79, 0.72, 0.62, 0.69, 0.66, 0.65, 0.67, 0.66, 0.66,\n",
       "       0.6 , 0.68, 0.6 , 0.67, 0.65, 0.65, 0.7 , 0.7 , 0.69, 0.72, 0.75,\n",
       "       0.7 , 0.71, 0.66, 0.72, 0.68, 0.69, 0.73, 0.68, 0.74, 0.63, 0.71,\n",
       "       0.67, 0.68, 0.69, 0.75, 0.62, 0.67, 0.65, 0.63, 0.67, 0.65, 0.7 ,\n",
       "       0.64, 0.69, 0.62, 0.73, 0.64, 0.72, 0.61, 0.71, 0.64, 0.64, 0.68,\n",
       "       0.65, 0.62, 0.62, 0.65, 0.71, 0.59, 0.65, 0.68, 0.72, 0.63, 0.73,\n",
       "       0.64, 0.61, 0.68, 0.7 , 0.79, 0.68, 0.72, 0.74, 0.74, 0.69, 0.65,\n",
       "       0.62, 0.67, 0.65, 0.71, 0.65, 0.74, 0.7 , 0.7 , 0.72, 0.67, 0.6 ,\n",
       "       0.67, 0.7 , 0.67, 0.7 , 0.6 , 0.63, 0.71, 0.56, 0.59, 0.65, 0.65,\n",
       "       0.64, 0.72, 0.73, 0.67, 0.67, 0.62, 0.7 , 0.7 , 0.66, 0.65, 0.62,\n",
       "       0.66, 0.66, 0.65, 0.7 , 0.71, 0.67, 0.65, 0.7 , 0.73, 0.6 , 0.58,\n",
       "       0.62, 0.71, 0.72, 0.59, 0.71, 0.7 , 0.65, 0.55, 0.63, 0.68, 0.67,\n",
       "       0.63, 0.67, 0.63, 0.71, 0.72, 0.7 , 0.67, 0.63, 0.76, 0.66, 0.66,\n",
       "       0.68, 0.69, 0.71, 0.57, 0.71, 0.65, 0.64, 0.7 , 0.71, 0.69, 0.6 ,\n",
       "       0.65, 0.67, 0.69, 0.67, 0.68, 0.68, 0.65, 0.66, 0.7 , 0.72, 0.76,\n",
       "       0.68, 0.66, 0.69, 0.67, 0.72, 0.79, 0.7 , 0.65, 0.62, 0.6 , 0.65,\n",
       "       0.71, 0.64, 0.63, 0.67, 0.68, 0.63, 0.62, 0.67, 0.63, 0.69, 0.61,\n",
       "       0.65, 0.54, 0.72, 0.58, 0.6 , 0.74, 0.61, 0.75, 0.62, 0.68, 0.61,\n",
       "       0.72, 0.59, 0.63, 0.66, 0.72, 0.62, 0.73, 0.73, 0.67, 0.66, 0.65,\n",
       "       0.68, 0.63, 0.67, 0.66, 0.7 , 0.61, 0.68, 0.66, 0.71, 0.64, 0.69,\n",
       "       0.61, 0.6 , 0.68, 0.62, 0.63, 0.64, 0.65, 0.67, 0.66, 0.66, 0.65,\n",
       "       0.64, 0.63, 0.61, 0.75, 0.68, 0.65, 0.65, 0.61, 0.69, 0.66, 0.68,\n",
       "       0.64, 0.72, 0.65, 0.68, 0.63, 0.7 , 0.65, 0.77, 0.7 , 0.68, 0.66,\n",
       "       0.66, 0.62, 0.68, 0.66, 0.74, 0.67, 0.63, 0.82, 0.67, 0.71, 0.71,\n",
       "       0.65, 0.72, 0.7 , 0.56, 0.72, 0.79, 0.66, 0.72, 0.67, 0.6 , 0.76,\n",
       "       0.7 , 0.69, 0.69, 0.73, 0.56, 0.64, 0.7 , 0.7 , 0.68, 0.62, 0.66,\n",
       "       0.62, 0.52, 0.73, 0.72, 0.62, 0.58, 0.64, 0.65, 0.74, 0.75, 0.69,\n",
       "       0.7 , 0.72, 0.65, 0.7 , 0.81, 0.77, 0.66, 0.71, 0.76, 0.63, 0.69,\n",
       "       0.6 , 0.71, 0.69, 0.71, 0.69, 0.72, 0.65, 0.59, 0.66, 0.66, 0.67,\n",
       "       0.56, 0.64, 0.63, 0.64, 0.58, 0.68, 0.73, 0.69, 0.66, 0.72, 0.64,\n",
       "       0.78, 0.72, 0.57, 0.67, 0.74, 0.71, 0.68, 0.67, 0.67, 0.74, 0.66,\n",
       "       0.67, 0.6 , 0.58, 0.62, 0.68, 0.69, 0.63, 0.63, 0.58, 0.63, 0.69,\n",
       "       0.7 , 0.71, 0.64, 0.68, 0.73, 0.72, 0.56, 0.66, 0.63, 0.59, 0.7 ,\n",
       "       0.79, 0.66, 0.73, 0.75, 0.62, 0.75, 0.58, 0.67, 0.69, 0.68, 0.63,\n",
       "       0.67, 0.73, 0.64, 0.69, 0.71, 0.7 , 0.66, 0.73, 0.66, 0.65, 0.7 ,\n",
       "       0.65, 0.65, 0.65, 0.67, 0.68, 0.72, 0.62, 0.65, 0.64, 0.63, 0.75,\n",
       "       0.59, 0.61, 0.63, 0.65, 0.67, 0.68, 0.75, 0.72, 0.69, 0.62, 0.65,\n",
       "       0.71, 0.74, 0.67, 0.69, 0.76, 0.73, 0.7 , 0.69, 0.78, 0.67, 0.67,\n",
       "       0.69, 0.68, 0.69, 0.71, 0.7 , 0.64, 0.75, 0.72, 0.69, 0.65, 0.64,\n",
       "       0.67, 0.69, 0.69, 0.64, 0.71, 0.64, 0.72, 0.65, 0.67, 0.71, 0.57,\n",
       "       0.59, 0.72, 0.58, 0.58, 0.67, 0.59, 0.69, 0.72, 0.72, 0.7 , 0.63,\n",
       "       0.68, 0.72, 0.62, 0.67, 0.6 , 0.68, 0.67, 0.7 , 0.72, 0.63, 0.69,\n",
       "       0.69, 0.73, 0.67, 0.72, 0.61, 0.73, 0.66, 0.78, 0.66, 0.7 , 0.7 ,\n",
       "       0.7 , 0.63, 0.68, 0.62, 0.64, 0.66, 0.57, 0.66, 0.65, 0.71, 0.66,\n",
       "       0.72, 0.7 , 0.65, 0.61, 0.6 , 0.71, 0.62, 0.73, 0.69, 0.62, 0.62,\n",
       "       0.69, 0.67, 0.63, 0.74, 0.65, 0.59, 0.72, 0.73, 0.69, 0.69, 0.63,\n",
       "       0.66, 0.67, 0.61, 0.67, 0.65, 0.78, 0.63, 0.68, 0.64, 0.69, 0.7 ,\n",
       "       0.68, 0.7 , 0.73, 0.71, 0.66, 0.62, 0.71, 0.73, 0.6 , 0.63, 0.72,\n",
       "       0.61, 0.68, 0.62, 0.65, 0.66, 0.68, 0.67, 0.62, 0.56, 0.76, 0.7 ,\n",
       "       0.69, 0.71, 0.57, 0.62, 0.71, 0.71, 0.74, 0.73, 0.67, 0.68, 0.73,\n",
       "       0.71, 0.62, 0.7 , 0.62, 0.66, 0.69, 0.62, 0.61, 0.63, 0.62])"
      ]
     },
     "execution_count": 7,
     "metadata": {},
     "output_type": "execute_result"
    }
   ],
   "source": [
    "posterior"
   ]
  },
  {
   "cell_type": "code",
   "execution_count": 6,
   "metadata": {},
   "outputs": [
    {
     "data": {
      "text/plain": [
       "array([0.59, 0.74])"
      ]
     },
     "execution_count": 6,
     "metadata": {},
     "output_type": "execute_result"
    }
   ],
   "source": [
    "stats.mstats.mquantiles( posterior, [0.05, 0.95])"
   ]
  },
  {
   "cell_type": "markdown",
   "metadata": {},
   "source": [
    "An important part of Data Science and assignments in this course is interpreting the results. This is not purely a coding class. Therefore, you should always, *always* interpret your results:\n",
    "\n",
    "There is a 90% probability that the value of $\\theta$ is between 0.59 and 0.74 based on the data.\n",
    "\n",
    "Of course, there's nothing magical about only looking at the 90% Bayesian confidence/credible interval and you can look at other ranges of interest as well.\n",
    "More importantly, you should not rely on Bayesian confidence/credible intervals for inference.\n",
    "They are a sort of \"weigh station\" between Frequentist Statistics and Bayesian Inference using the posterior distribution."
   ]
  },
  {
   "cell_type": "markdown",
   "metadata": {},
   "source": [
    "**5\\. In Bayesian Statistics, we often identify a range of possible values for a parameter that we consider the same.**\n",
    "\n",
    "This is known as the ROPE (Region of Practical Equivalance). We know that a fair coin would have $\\theta$ of 0.5 but we're unlikely to get an exact value of 0.5 from our data. \n",
    "What range of values would you consider to be representative of a fair coin?\n",
    "Does it depend on the application?\n",
    "For our purposes, let the ROPE be 0.48-0.52.\n",
    "We can now answer the question, what is the probability that our coin's $\\theta$ lies in that range and is thus \"fair\"?\n",
    "\n",
    "Please review the ROPE section of *Fundamentals* again (right now). How does domain knowledge inform the ROPE? How does the ROPE operationalize \"meaningful\" and \"believable\"?"
   ]
  },
  {
   "cell_type": "code",
   "execution_count": 9,
   "metadata": {},
   "outputs": [
    {
     "data": {
      "text/plain": [
       "0.002"
      ]
     },
     "execution_count": 9,
     "metadata": {},
     "output_type": "execute_result"
    }
   ],
   "source": [
    "np.mean((0.48 <= posterior) & (posterior <= 0.52))"
   ]
  },
  {
   "cell_type": "markdown",
   "metadata": {},
   "source": [
    "One of the downsides to the Boostrap approach is that we do not follow \"Cromwell's Dictum\" and we can get events with zero probability. We should just interpret these events as actually having very small probabilities.\n",
    "\n",
    "Of course, now that we have this posterior distribution we can answer all kinds of (possibly) interesting and relevant questions to our problem. Let's stick with the basics, for now.\n",
    "\n",
    "If you are unsure of the questions that you can answer with a probability distribution like the posterior, review Lab 6 and Fundamentals.\n",
    "Any calculation you can perform on a distributional model can be performed on a ps"
   ]
  },
  {
   "cell_type": "markdown",
   "metadata": {},
   "source": [
    "## Exercises\n",
    "\n",
    "**Exercise 1.**\n",
    "\n",
    "**Learning Objective: apply the Bootstrap to a realistic problem. For additional examples, refer to the Applications section of the Inference chapter in *Fundamentals*.**\n",
    "\n",
    "In addition to estimates of the posterior distribution of parameters such as $\\theta$, we are often interested in the posterior distribution of the *difference* of two $\\theta$s. For example, we might be interested in the *difference* between the proportion of men who smoke ($\\theta_{men}$) and the proportion of women who smoke ($\\theta_{women}$). Using the Non-Parametric Bootstrap, we can generate posterior distributions for $\\hat{\\theta}_{men}$ and $\\hat{\\theta}_{women}$ as well as $d$, the *difference*.\n",
    "\n",
    "These are the steps:\n",
    "\n",
    "1. In the example above, we made up the data. However, if $\\theta_{men}$ = 0.23 and $\\theta_{women}$ = 0.34 and there were 100 observations each, we can re-create the actual samples. Re-create the actual samples.\n",
    "2. Generate the bootstrap samples for each group.\n",
    "3. Generate difference data. You can do this by simply subtracting, element by element, one bootstrap sample from the other, $\\theta_{men}$ - $\\theta_{women}$.\n",
    "4. Plot the distributions of all three.\n",
    "5. Calculate the 90% Bayesian Confidence Interval of all three **and interpret them**.\n",
    "6. Determine a ROPE for the difference and tell me what's the probability that the \"true\" value of the difference falls in the ROPE.\n",
    "\n",
    "Use as many Markdown Cells and Code Cells as you need; it should look nice (not like a ransom note)."
   ]
  },
  {
   "cell_type": "markdown",
   "metadata": {},
   "source": [
    "**Step 1. Recreate the data.**\n",
    "\n",
    "Note that in this case I just generate *exact* data with the values we want. You can't always do this but for most problems involving boolean values (live/die, for/against, etc.), we can generate the data explicitly.\n",
    "\n",
    "This just shows you another way to do it."
   ]
  },
  {
   "cell_type": "code",
   "execution_count": 10,
   "metadata": {},
   "outputs": [
    {
     "name": "stdout",
     "output_type": "stream",
     "text": [
      "men's data:  [0, 1, 0, 0, 0, 0, 1, 0, 1, 0, 0, 0, 1, 0, 0, 0, 0, 0, 0, 1]\n",
      "women's data:  [1, 0, 0, 0, 0, 1, 0, 0, 0, 0, 0, 1, 0, 1, 1, 0, 1, 0, 0, 0]\n"
     ]
    }
   ],
   "source": [
    "np.random.seed([9235274])\n",
    "\n",
    "men_theta = 0.23\n",
    "men_data = [1] * 23 + [0] * 77\n",
    "np.random.shuffle( men_data)\n",
    "print( \"men's data: \", men_data[0:20])\n",
    "\n",
    "women_theta = 0.34\n",
    "women_data = [1] * 34 + [0] * 66\n",
    "np.random.shuffle( women_data)\n",
    "print( \"women's data: \", women_data[0:20])"
   ]
  },
  {
   "cell_type": "markdown",
   "metadata": {},
   "source": [
    "This isn't really a step in inference at all. \n",
    "This is just to generate data that either that we would already have or, if we didn't have access to the raw data (for example, from a journal article or a newpaper story), it is data that matches the characteristics of the data in the article or story.\n",
    "\n",
    "**We cannot emphasize this enough. This is the only correct way to \"re-instantiate\" cross tabulated data as tidy data. We are not sampling from a distribution here. Please review Module 4 if you are confused.**\n",
    "\n",
    "The first thing we should do is to see what the main statistics of this data is. This is where the *meaningful* part comes from. Based on how we derived it, it should be exactly what we want:"
   ]
  },
  {
   "cell_type": "code",
   "execution_count": 11,
   "metadata": {},
   "outputs": [
    {
     "name": "stdout",
     "output_type": "stream",
     "text": [
      "men's mean= 0.23\n",
      "women's mean= 0.34\n",
      "difference= -0.11000000000000001\n"
     ]
    }
   ],
   "source": [
    "mens_mean = np.mean( men_data)\n",
    "print( \"men's mean=\", mens_mean)\n",
    "womens_mean = np.mean( women_data)\n",
    "print( \"women's mean=\", womens_mean)\n",
    "print( \"difference=\", mens_mean - womens_mean)"
   ]
  },
  {
   "cell_type": "markdown",
   "metadata": {},
   "source": [
    "The men's mean is 11% points below the women's mean, as we saw at the start."
   ]
  },
  {
   "cell_type": "markdown",
   "metadata": {},
   "source": [
    "**Step 2\\. Generate the bootstrap data for each**\n",
    "\n",
    "This begins the actual inference step. The Bootstrap samples are an estimation of the posterior distribution, usually arrived at using Bayes Rule:"
   ]
  },
  {
   "cell_type": "code",
   "execution_count": 12,
   "metadata": {},
   "outputs": [],
   "source": [
    "men_posterior = bootstrap_sample( men_data, np.mean, 1000)\n",
    "women_posterior = bootstrap_sample( women_data, np.mean, 1000)"
   ]
  },
  {
   "cell_type": "markdown",
   "metadata": {},
   "source": [
    "**Step 3. Calculate the difference.**\n",
    "\n",
    "Each element of each posterior is just a different possible theta. If we match each of the possible thetas by index, we have a possible index. As a result, we have generated a bootstrap sample of the *differences*."
   ]
  },
  {
   "cell_type": "code",
   "execution_count": 13,
   "metadata": {},
   "outputs": [],
   "source": [
    "difference = men_posterior - women_posterior"
   ]
  },
  {
   "cell_type": "markdown",
   "metadata": {},
   "source": [
    "**Step 4. Plot the posterior distributions**\n",
    "\n",
    "The `hist` plotting function will take of turning the raw observations of $\\theta$s and difference into an actual probability distribution (density).\n",
    "\n",
    "We can actually plot these side by side by adjusting the number of plots in the `add_subplot` command:"
   ]
  },
  {
   "cell_type": "code",
   "execution_count": 14,
   "metadata": {},
   "outputs": [
    {
     "data": {
      "image/png": "[encoded data removed]",
      "text/plain": [
       "<Figure size 2000x600 with 3 Axes>"
      ]
     },
     "metadata": {},
     "output_type": "display_data"
    }
   ],
   "source": [
    "figure = plt.figure(figsize=(20, 6)) # first element is width, second is height.\n",
    "\n",
    "axes = figure.add_subplot(1, 3, 1)\n",
    "\n",
    "axes.hist( men_posterior, density=True, color=\"dimgray\")\n",
    "axes.set_ylabel( \"Density\")\n",
    "axes.set_xlabel( \"$\\hat{theta}$\")\n",
    "axes.set_title( \"Posterior Distribution of Men's $\\hat{theta}$\")\n",
    "\n",
    "axes = figure.add_subplot(1, 3, 2)\n",
    "\n",
    "axes.hist( women_posterior, density=True, color=\"dimgray\")\n",
    "axes.set_ylabel( \"Density\")\n",
    "axes.set_xlabel( \"$\\hat{theta}$\")\n",
    "axes.set_title( \"Posterior Distribution of Women's $\\hat{theta}$\")\n",
    "\n",
    "axes = figure.add_subplot(1, 3, 3)\n",
    "\n",
    "axes.hist( difference, density=True, color=\"dimgray\")\n",
    "axes.set_ylabel( \"Density\")\n",
    "axes.set_xlabel( \"difference in $\\hat{theta}$\")\n",
    "axes.set_title( \"Posterior Distribution of Difference in $\\hat{theta}$s\")\n",
    "\n",
    "plt.show()\n",
    "plt.close()"
   ]
  },
  {
   "cell_type": "markdown",
   "metadata": {},
   "source": [
    "**Step 5**"
   ]
  },
  {
   "cell_type": "code",
   "execution_count": 15,
   "metadata": {},
   "outputs": [
    {
     "name": "stdout",
     "output_type": "stream",
     "text": [
      "90% BCI for men's theta: [0.1641 0.3   ]\n",
      "90% BCI for women's theta: [0.26 0.42]\n",
      "90% BCI for difference: [-0.21  0.  ]\n"
     ]
    }
   ],
   "source": [
    "print( \"90% BCI for men's theta:\", stats.mstats.mquantiles( men_posterior, [0.05, 0.95]))\n",
    "print( \"90% BCI for women's theta:\", stats.mstats.mquantiles( women_posterior, [0.05, 0.95]))\n",
    "print( \"90% BCI for difference:\", stats.mstats.mquantiles( difference, [0.05, 0.95]))"
   ]
  },
  {
   "cell_type": "markdown",
   "metadata": {},
   "source": [
    "The BIC or Bayes Confidence Interval or Credible Interval (or sometimes when it's obvious, just Confidence Interval. Andrew Gelman often does this) is range of theta values (means and difference in this case) that contain 90% of the probability density/mass.\n",
    "\n",
    "Based on the data (and the priors), there is a 90% probalility that the men's percentage is between 16 and 30%. There is a 90% probability that the women's percentage is between 26 and 42%. Finally, there is a 90% chance that the difference between the two percentages/rates is -21 to 0 percentage *points*."
   ]
  },
  {
   "cell_type": "markdown",
   "metadata": {},
   "source": [
    "**Step 6**\n",
    "\n",
    "Again, what difference is and is not important and then believeable will generally be problem specific.\n",
    "\n",
    "If we think about this problem, and someone reported something in the newspaper and you saw \"20% of men and 21% of women\", you'd probably be inclined to think that those aren't very different. Suppose you thought non-smoking campaigns might need to be gender based. Would that difference encourage you? What about 5 percentage points? Given the cost of different campaigns, I would be inclined to think that a difference of at least 10 percentage points would be necessary.\n",
    "\n",
    "So let's define a ROPE of about 9 to 11% percent for the difference in absolute terms. Since we know that the men's rate appears to be lower, we're trying to see the probability that the difference is between (-11, -9) percent:"
   ]
  },
  {
   "cell_type": "code",
   "execution_count": 16,
   "metadata": {},
   "outputs": [
    {
     "data": {
      "text/plain": [
       "0.142"
      ]
     },
     "execution_count": 16,
     "metadata": {},
     "output_type": "execute_result"
    }
   ],
   "source": [
    "np.mean((-0.11 <= difference) & (difference <= -0.09))"
   ]
  },
  {
   "cell_type": "markdown",
   "metadata": {},
   "source": [
    "So there's only a 14.2% probability that the men's rate is really as much as 9 to 11 percentage points lower, given the data and priors. This might be our initial report. We can also report on things like, what is the probability that the difference is less than -0.05 (-5%)?"
   ]
  },
  {
   "cell_type": "code",
   "execution_count": 17,
   "metadata": {},
   "outputs": [
    {
     "data": {
      "text/plain": [
       "0.814"
      ]
     },
     "execution_count": 17,
     "metadata": {},
     "output_type": "execute_result"
    }
   ],
   "source": [
    "np.mean(difference<-.05)"
   ]
  },
  {
   "cell_type": "markdown",
   "metadata": {},
   "source": [
    "so the probability that the difference is less than 5% (that men's rates are lower than women's rates) is highly probable (81.4%) it's just not clear it's sufficiently below to warrant a separate anti-smoking campaign."
   ]
  },
  {
   "cell_type": "markdown",
   "metadata": {},
   "source": [
    "Some other things to think about might include, what would it take for our ROPE to have a 50% probability? Would we simply need more data (increase the observations to 1000 and see what happens).\n",
    "\n",
    "**In this context, do not ever use zero (0) as a hypothesis. It is not an interesting hypothesis and it shows a lack of domain knowledge and failure of understanding of the technique. Leave the zeroes to the Frequentists.**\n",
    "\n",
    "**Notes**\n",
    "\n",
    "The basic idea of using bootstrap sampling to estimate a posterior distribution will stay with us throughout the entire semester. This will be our fundamental approach to statistical inference (there are other approaches and there are other *Bayesian* approaches). The important thing is to understand 1. why and 2. the dimensions along which the problems can vary such as,\n",
    "\n",
    "1. The nature of data. The data may take on a variety of different types. We've looked primarily at boolean or Bernoulli data. However, the data might be categorical (more than two discrete outcomes), counts, real values, etc. This means that there may be more than one $\\theta$. For example, the Normal distribution has two $\\theta$s: the mean, $\\mu$, and the variance, $\\sigma^2$. We don't often see inferential claims about the variance but that doesn't mean we could use the Bootstrap to test them. But you should think even more broadly than this. A linear regression as many $\\theta$s: the coefficients, the coefficient of determination, the error of the regression, etc. A decision tree has a structure and error rate.\n",
    "2. A related concept is variability. We may have two true values, 0.23 and 0.24, but the variability of the data may not permit us to distinguish between them.\n",
    "3. Another dimension is the amount of data. We may not be able to get a \"good\" inference because we have not collected enough data.\n",
    "\n",
    "And, of course, all of these will and do interact. And a lot of experimental design is based on trying to limit variability (by \"holding other things constant\") and to get the \"right\" amount of data to support the inference we want to make.\n",
    "\n",
    "These exercises investigate some of the dimensions."
   ]
  },
  {
   "cell_type": "markdown",
   "metadata": {},
   "source": [
    "**Exercise 2**\n",
    "\n",
    "**1\\. Repeat the guide example (coin flips) with a $\\theta = 0.05$ and discuss. Were the credible intervals the same size? Was your estimate of $\\theta$ as good? What does this say about statistical inference on relatively rare events or extreme values?**"
   ]
  },
  {
   "cell_type": "code",
   "execution_count": 18,
   "metadata": {},
   "outputs": [],
   "source": [
    "np.random.seed([87928356])"
   ]
  },
  {
   "cell_type": "markdown",
   "metadata": {},
   "source": [
    "**Step 1. Generate the data using $\\theta=0.05$:**\n",
    "\n",
    "(**Note**: I switch back to the random generation like the initial example.\n",
    "This is NOT the same thing as the smoking example above.\n",
    "You must be able to distinguish between the two cases.)"
   ]
  },
  {
   "cell_type": "code",
   "execution_count": 19,
   "metadata": {},
   "outputs": [
    {
     "name": "stdout",
     "output_type": "stream",
     "text": [
      "[1, 0, 0, 0, 0, 1, 0, 0, 0, 0, 0, 0, 0, 1, 0, 0, 0, 0, 0, 0]\n"
     ]
    }
   ],
   "source": [
    "theta = 0.05\n",
    "data = [1 if np.random.rand() < theta else 0 for _ in range( 100)] # we could use the fixed amount as well\n",
    "np.random.shuffle( data)\n",
    "print( data[0:20])"
   ]
  },
  {
   "cell_type": "markdown",
   "metadata": {},
   "source": [
    "**Step 2. Calculate the estimate of theta.**"
   ]
  },
  {
   "cell_type": "code",
   "execution_count": 20,
   "metadata": {
    "tags": []
   },
   "outputs": [
    {
     "name": "stdout",
     "output_type": "stream",
     "text": [
      "0.08\n"
     ]
    }
   ],
   "source": [
    "theta_est = np.mean( data)\n",
    "print( theta_est)"
   ]
  },
  {
   "cell_type": "markdown",
   "metadata": {},
   "source": [
    "**Step 3. Calculate the bootstrap sampling of $\\theta$.**"
   ]
  },
  {
   "cell_type": "code",
   "execution_count": 21,
   "metadata": {
    "tags": []
   },
   "outputs": [],
   "source": [
    "posterior = bootstrap_sample( data, np.mean, 1000)"
   ]
  },
  {
   "cell_type": "markdown",
   "metadata": {},
   "source": [
    "**Step 4. Plot the posterior distribution of $\\theta$.**"
   ]
  },
  {
   "cell_type": "code",
   "execution_count": 22,
   "metadata": {
    "tags": []
   },
   "outputs": [
    {
     "data": {
      "image/png": "[encoded data removed]",
      "text/plain": [
       "<Figure size 1000x600 with 1 Axes>"
      ]
     },
     "metadata": {},
     "output_type": "display_data"
    }
   ],
   "source": [
    "figure = plt.figure(figsize=(10, 6)) # first element is width, second is height.\n",
    "\n",
    "axes = figure.add_subplot(1, 1, 1)\n",
    "\n",
    "axes.hist( posterior, density=True, color=\"dimgray\")\n",
    "axes.set_ylabel( \"Density\")\n",
    "axes.set_xlabel( \"$\\hat{theta}$\")\n",
    "axes.set_title( \"Posterior Distribution of $\\hat{theta}$\")\n",
    "\n",
    "plt.show()"
   ]
  },
  {
   "cell_type": "markdown",
   "metadata": {},
   "source": [
    "**Step 5. Calculate the 90% Bayesian Confidence Interval and interpret it.**"
   ]
  },
  {
   "cell_type": "code",
   "execution_count": 23,
   "metadata": {},
   "outputs": [
    {
     "data": {
      "text/plain": [
       "array([0.04, 0.12])"
      ]
     },
     "execution_count": 23,
     "metadata": {},
     "output_type": "execute_result"
    }
   ],
   "source": [
    "stats.mstats.mquantiles( posterior, [0.05, 0.95])"
   ]
  },
  {
   "cell_type": "markdown",
   "metadata": {},
   "source": [
    "Based on the data, there is a 90% probability that the true proportion is between 4 and 12%.\n",
    "\n",
    "**Step 6. Using the ROPE of 48 to 52% for a \"fair\" coin, determine if this coin is fair.**"
   ]
  },
  {
   "cell_type": "code",
   "execution_count": 24,
   "metadata": {},
   "outputs": [
    {
     "data": {
      "text/plain": [
       "0.0"
      ]
     },
     "execution_count": 24,
     "metadata": {},
     "output_type": "execute_result"
    }
   ],
   "source": [
    "np.mean((0.48 <= posterior) & (posterior <= 0.52))"
   ]
  },
  {
   "cell_type": "markdown",
   "metadata": {},
   "source": [
    "Using the Bootstrap method, we can't really conclude that the probability is *truly* zero but it does seem that it is highly unlikely that coin is fair..."
   ]
  },
  {
   "cell_type": "markdown",
   "metadata": {},
   "source": [
    "**Discuss**\n",
    "\n",
    "1. Both coins were determined to not be fair, although certainly one was less fair than the other!\n",
    "2. Looking at the BCI (Bayesian Confidence Interval), we can see that for $\\theta$ = 0.67, the 90% BIC was 0.59-0.74 while for $\\theta=0.05$, the 90% BIC was 0.04-0.12. The spread is a lot smaller for the second (8 percentage points) than the original (15 percentage points).\n",
    "3. This points out a general problem with inference involving proportions. The more extreme the value, the more certain we are about it. But this doesn't particularly make sense. This is an artifact of the floor/ceiling effect (that $p$ cannot be lower than 0 or higher than 1). In fact, in Frequentist statistics, it is generally a rule of thumb that you should not make inferences about $p$ that are in the ranges (0, 0.05) and (0.95, 1.00).\n",
    "\n",
    "Can you think of an experiment that would test your intuitions about inferences for a rare event?"
   ]
  },
  {
   "cell_type": "markdown",
   "metadata": {},
   "source": [
    "**Statistical Inference for a single real valued $\\theta$**\n",
    "\n",
    "**Exercise 3**\n",
    "\n",
    "We can do the same thing for a real valued data (like weights, heights, etc.) and the $\\theta$'s that describe such distributions. If we have a normal distribution, there are two such $\\theta$s, $\\mu$, the mean, and $\\sigma$, the standard deviation. Remember, however, that we often think of the dispersion of our data as a percent of the mean or the *coefficient of variation*, v."
   ]
  },
  {
   "cell_type": "markdown",
   "metadata": {},
   "source": [
    "**a\\. Generate 50 observations from a normal distribution with $\\mu=102.7$ and $v=5\\%$.**\n",
    "\n",
    "You should refer to the previous Lab for generating synthetic data from the normal distribution and working with $v$, the coefficient of variation."
   ]
  },
  {
   "cell_type": "code",
   "execution_count": 25,
   "metadata": {},
   "outputs": [],
   "source": [
    "np.random.seed([2386431651])"
   ]
  },
  {
   "cell_type": "code",
   "execution_count": 26,
   "metadata": {
    "tags": []
   },
   "outputs": [
    {
     "name": "stdout",
     "output_type": "stream",
     "text": [
      "[ 98.36557147  98.34766079 100.68868897 114.21701087  93.90209963\n",
      " 101.60105999 106.3281915   93.82837625 103.52905088 102.59634221\n",
      "  96.57393961 107.33717338 108.60859285 103.07447625 101.85779681\n",
      "  99.02278237  96.93992197  93.40229053 110.77864541 103.16060406]\n"
     ]
    }
   ],
   "source": [
    "def to_std( mu, v):\n",
    "    return mu * v\n",
    "\n",
    "mu = 102.7\n",
    "v = 0.05\n",
    "s = to_std( mu, v)\n",
    "xs = np.random.normal( mu, s, 50)\n",
    "print( xs[0:20])"
   ]
  },
  {
   "cell_type": "markdown",
   "metadata": {},
   "source": [
    "**b. What is $\\bar{x}$?**"
   ]
  },
  {
   "cell_type": "code",
   "execution_count": 27,
   "metadata": {},
   "outputs": [
    {
     "name": "stdout",
     "output_type": "stream",
     "text": [
      "sample mean = 102.88771420524498\n"
     ]
    }
   ],
   "source": [
    "x_bar = np.mean( xs)\n",
    "print( \"sample mean =\", x_bar)"
   ]
  },
  {
   "cell_type": "markdown",
   "metadata": {},
   "source": [
    "**c. Generate the Bootstrap estimate of the posterior distribution of $\\bar{x}$.**"
   ]
  },
  {
   "cell_type": "code",
   "execution_count": 28,
   "metadata": {},
   "outputs": [],
   "source": [
    "posterior = bootstrap_sample( xs, np.mean, 1000)"
   ]
  },
  {
   "cell_type": "markdown",
   "metadata": {},
   "source": [
    "We can chart the posterior as before. As we will learn in the Visualization module, chart everything."
   ]
  },
  {
   "cell_type": "code",
   "execution_count": 29,
   "metadata": {},
   "outputs": [
    {
     "data": {
      "image/png": "[encoded data removed]",
      "text/plain": [
       "<Figure size 1000x600 with 1 Axes>"
      ]
     },
     "metadata": {},
     "output_type": "display_data"
    }
   ],
   "source": [
    "figure = plt.figure(figsize=(10, 6)) # first element is width, second is height.\n",
    "\n",
    "axes = figure.add_subplot(1, 1, 1)\n",
    "\n",
    "axes.hist( posterior, density=True, color=\"dimgray\")\n",
    "axes.set_ylabel( \"Density\")\n",
    "axes.set_xlabel( \"x-bar\")\n",
    "axes.set_title( \"Posterior Distribution of x-bar\")\n",
    "\n",
    "plt.show()"
   ]
  },
  {
   "cell_type": "markdown",
   "metadata": {},
   "source": [
    "**d. What is the 90% Credible Interval (Bayesian Confidence Interval) for $\\hat{\\theta}$?**"
   ]
  },
  {
   "cell_type": "code",
   "execution_count": 30,
   "metadata": {},
   "outputs": [
    {
     "data": {
      "text/plain": [
       "array([101.68855605, 104.07950503])"
      ]
     },
     "execution_count": 30,
     "metadata": {},
     "output_type": "execute_result"
    }
   ],
   "source": [
    "stats.mstats.mquantiles( posterior, [0.05, 0.95])"
   ]
  },
  {
   "cell_type": "markdown",
   "metadata": {},
   "source": [
    "There is a 90% probability, given the prior and data, that the value of the mean lies between 101.7 and 104.1."
   ]
  },
  {
   "cell_type": "markdown",
   "metadata": {},
   "source": [
    "**e. Define a ROPE of \"about 100\". What is the probability that $\\bar{x}$ falls within the ROPE?.**\n",
    "\n",
    "In general, defining a ROPE will be problem dependent, but for now I'd say anything in the range 98 to 102 would be \"about 100\":"
   ]
  },
  {
   "cell_type": "code",
   "execution_count": 31,
   "metadata": {},
   "outputs": [
    {
     "data": {
      "text/plain": [
       "0.105"
      ]
     },
     "execution_count": 31,
     "metadata": {},
     "output_type": "execute_result"
    }
   ],
   "source": [
    "np.mean((98.0 <= posterior) & (posterior <= 102))"
   ]
  },
  {
   "cell_type": "markdown",
   "metadata": {},
   "source": [
    "There's about an 11% chance the value is \"about\" 100, *given the data*."
   ]
  },
  {
   "cell_type": "markdown",
   "metadata": {},
   "source": [
    "**Exercise 4\\. Repeat Steps 1-5 with $v=25\\%$.**"
   ]
  },
  {
   "cell_type": "code",
   "execution_count": 32,
   "metadata": {},
   "outputs": [],
   "source": [
    "np.random.seed([484716248])"
   ]
  },
  {
   "cell_type": "markdown",
   "metadata": {},
   "source": [
    "**a. Generate synthetic data**"
   ]
  },
  {
   "cell_type": "code",
   "execution_count": 33,
   "metadata": {},
   "outputs": [
    {
     "name": "stdout",
     "output_type": "stream",
     "text": [
      "[ 38.19868365 102.0522274  130.49235161  89.20775923  72.87322846\n",
      " 115.81595998 128.77960838 116.56456988  64.85007524  81.22192103\n",
      " 151.5809209   89.52164419  93.72750905 110.29586974 131.7398279\n",
      " 120.99583239 100.89484478  70.63389597  88.37587876 106.48270981]\n"
     ]
    }
   ],
   "source": [
    "mu = 102.7\n",
    "v = 0.25\n",
    "s = to_std( mu, v)\n",
    "xs = np.random.normal( mu, s, 50)\n",
    "print( xs[0:20])"
   ]
  },
  {
   "cell_type": "markdown",
   "metadata": {},
   "source": [
    "**b. What is $\\bar{x}$?**"
   ]
  },
  {
   "cell_type": "code",
   "execution_count": 34,
   "metadata": {},
   "outputs": [
    {
     "name": "stdout",
     "output_type": "stream",
     "text": [
      "sample mean = 100.10515533698474\n"
     ]
    }
   ],
   "source": [
    "x_bar = np.mean( xs)\n",
    "print( \"sample mean =\", x_bar)"
   ]
  },
  {
   "cell_type": "markdown",
   "metadata": {},
   "source": [
    "**c. Generate the Bootstrap estimate of the posterior distribution of $\\bar{x}$.**"
   ]
  },
  {
   "cell_type": "code",
   "execution_count": 35,
   "metadata": {
    "tags": []
   },
   "outputs": [],
   "source": [
    "posterior = bootstrap_sample( xs, np.mean, 1000)"
   ]
  },
  {
   "cell_type": "code",
   "execution_count": 36,
   "metadata": {
    "tags": []
   },
   "outputs": [
    {
     "data": {
      "image/png": "[encoded data removed]",
      "text/plain": [
       "<Figure size 1000x600 with 1 Axes>"
      ]
     },
     "metadata": {},
     "output_type": "display_data"
    }
   ],
   "source": [
    "figure = plt.figure(figsize=(10, 6)) # first element is width, second is height.\n",
    "\n",
    "axes = figure.add_subplot(1, 1, 1)\n",
    "\n",
    "axes.hist( posterior, density=True, color=\"dimgray\")\n",
    "axes.set_ylabel( \"Density\")\n",
    "axes.set_xlabel( \"x-bar\")\n",
    "axes.set_title( \"Posterior Distribution of x-bar\")\n",
    "\n",
    "plt.show()"
   ]
  },
  {
   "cell_type": "markdown",
   "metadata": {},
   "source": [
    "This distribution is a lot more spread out than before and the center is not over the actual mean as it was; clearly the larger variance is having an effect on the data we \"sampled\".\n",
    "\n",
    "**d. What is the 90% Credible Interval (Bayesian Confidence Interval) for $\\hat{\\theta}$?**"
   ]
  },
  {
   "cell_type": "code",
   "execution_count": 37,
   "metadata": {},
   "outputs": [
    {
     "data": {
      "text/plain": [
       "array([ 93.87276597, 106.17955077])"
      ]
     },
     "execution_count": 37,
     "metadata": {},
     "output_type": "execute_result"
    }
   ],
   "source": [
    "stats.mstats.mquantiles( posterior, [0.05, 0.95])"
   ]
  },
  {
   "cell_type": "markdown",
   "metadata": {},
   "source": [
    "There is a 90% probability, based on the data and our prior, that the mean lies between 93.9 and 106.2. \n",
    "Previously, it was 101.7 to 104.1. \n",
    "The increased dispersion of this population has lead to greater variability in sampling.\n",
    "This decreases our ability to \"home in\" on the mean (even though the mean is the same for both exercises, the different variabilities imply different populations)."
   ]
  },
  {
   "cell_type": "markdown",
   "metadata": {},
   "source": [
    "**e. Define a ROPE of \"about 100\". What is the probability that $\\bar{x}$ falls within the ROPE?.**\n",
    "\n",
    "We can use the same ROPE as our idea of \"about 100\" hasn't changed, anything in the range 98 to 102 would be \"about 100\":"
   ]
  },
  {
   "cell_type": "code",
   "execution_count": 38,
   "metadata": {},
   "outputs": [
    {
     "data": {
      "text/plain": [
       "0.404"
      ]
     },
     "execution_count": 38,
     "metadata": {},
     "output_type": "execute_result"
    }
   ],
   "source": [
    "np.mean((98.0 <= posterior) & (posterior <= 102))"
   ]
  },
  {
   "cell_type": "markdown",
   "metadata": {},
   "source": [
    "Our confidence (\"belief\") in the ROPE has gone up from 10.5% to 40.4%, given the data and the prior, that the mean is in the range 98 to 102.\n",
    "Why?\n",
    "This population has more variability (25%) than the previous one (5%).\n",
    "By taking the same size sample, we have a harder time of making inferences about that population.\n",
    "We have become more confident in the wrong thing."
   ]
  },
  {
   "cell_type": "markdown",
   "metadata": {},
   "source": [
    "**Exercise 5\\. Repeat Steps #1-5 with $v=25\\%$ and 500 samples.**"
   ]
  },
  {
   "cell_type": "code",
   "execution_count": 39,
   "metadata": {},
   "outputs": [],
   "source": [
    "np.random.seed([484716248])"
   ]
  },
  {
   "cell_type": "markdown",
   "metadata": {},
   "source": [
    "The key differences between the three experiments are:\n",
    "\n",
    "1. The population in Exercise 3 had smaller variability than the population in Exercise 4.\n",
    "2. The sample size was the same for exercise 3 and 4.\n",
    "3. Here, we are increasing the sample size for the same population as Exercise 4. Does it help?\n",
    "\n",
    "**a. Generate synthetic data**"
   ]
  },
  {
   "cell_type": "code",
   "execution_count": 40,
   "metadata": {},
   "outputs": [
    {
     "name": "stdout",
     "output_type": "stream",
     "text": [
      "[ 38.19868365 102.0522274  130.49235161  89.20775923  72.87322846\n",
      " 115.81595998 128.77960838 116.56456988  64.85007524  81.22192103\n",
      " 151.5809209   89.52164419  93.72750905 110.29586974 131.7398279\n",
      " 120.99583239 100.89484478  70.63389597  88.37587876 106.48270981]\n"
     ]
    }
   ],
   "source": [
    "mu = 102.7\n",
    "v = 0.25\n",
    "s = to_std( mu, v)\n",
    "xs = np.random.normal( mu, s, 500) # increase sample size\n",
    "print( xs[0:20])"
   ]
  },
  {
   "cell_type": "markdown",
   "metadata": {},
   "source": [
    "Remember this step is not actually part of inference. This is data that was actually collected. In a few circumstances, you might need to generate data if you don't have access to the raw data."
   ]
  },
  {
   "cell_type": "markdown",
   "metadata": {},
   "source": [
    "**b. What is $\\bar{x}$?**"
   ]
  },
  {
   "cell_type": "code",
   "execution_count": 41,
   "metadata": {},
   "outputs": [
    {
     "name": "stdout",
     "output_type": "stream",
     "text": [
      "sample mean = 100.59955164950512\n"
     ]
    }
   ],
   "source": [
    "x_bar = np.mean( xs)\n",
    "print( \"sample mean =\", x_bar)"
   ]
  },
  {
   "cell_type": "markdown",
   "metadata": {},
   "source": [
    "**c. Generate the Bootstrap estimate of the posterior distribution of $\\bar{x}$.**"
   ]
  },
  {
   "cell_type": "code",
   "execution_count": 42,
   "metadata": {},
   "outputs": [],
   "source": [
    "posterior = bootstrap_sample( xs, np.mean, 1000)"
   ]
  },
  {
   "cell_type": "code",
   "execution_count": 43,
   "metadata": {},
   "outputs": [
    {
     "data": {
      "image/png": "[encoded data removed]",
      "text/plain": [
       "<Figure size 1000x600 with 1 Axes>"
      ]
     },
     "metadata": {},
     "output_type": "display_data"
    }
   ],
   "source": [
    "figure = plt.figure(figsize=(10, 6)) # first element is width, second is height.\n",
    "\n",
    "axes = figure.add_subplot(1, 1, 1)\n",
    "\n",
    "axes.hist( posterior, density=True, color=\"dimgray\")\n",
    "axes.set_ylabel( \"Density\")\n",
    "axes.set_xlabel( \"x-bar\")\n",
    "axes.set_title( \"Posterior Distribution of x-bar\")\n",
    "\n",
    "plt.show()"
   ]
  },
  {
   "cell_type": "markdown",
   "metadata": {},
   "source": [
    "Even with 10x more data, we don't really see a bootstrap distribution of the mean that centers over the true mean. An interesting exercise would be, how large a sample *do* you need?"
   ]
  },
  {
   "cell_type": "markdown",
   "metadata": {},
   "source": [
    "**d. What is the 90% Credible Interval (Bayesian Confidence Interval) for $\\hat{\\theta}$?**"
   ]
  },
  {
   "cell_type": "code",
   "execution_count": 44,
   "metadata": {},
   "outputs": [
    {
     "data": {
      "text/plain": [
       "array([ 98.78207679, 102.40873433])"
      ]
     },
     "execution_count": 44,
     "metadata": {},
     "output_type": "execute_result"
    }
   ],
   "source": [
    "stats.mstats.mquantiles( posterior, [0.05, 0.95])"
   ]
  },
  {
   "cell_type": "markdown",
   "metadata": {},
   "source": [
    "Our original 90% BCI was 101.7 to 104.1 (for a \"true\" mean of 102.7) or 104.1 - 101.7 = 2.4 points. \n",
    "After the increase in dispersion, we saw the 90% BCI go to 93.9 to 106.2 or 12.3 points. \n",
    "In this experiment we see that there is a 90% probability, given the data and priors, that the \"true\" mean lies in the range 98.9 to 102.4 or 3.5 points.\n",
    "\n",
    "So by increasing the sample size, we have become more confident in our range. \n",
    "It's worth nothing, however, that the true mean is out of that range. \n",
    "As mentioned above, it would be interesting to see how large a sample we would need to make everything work out \"perfectly\" (small 90% confidence interval that contains the \"true\" value about dead center).\n",
    "\n",
    "**e. Define a ROPE of \"about 100\". What is the probability that $\\bar{x}$ falls within the ROPE?.**\n",
    "\n",
    "We can use the same ROPE as our idea of \"about 100\" hasn't changed, anything in the range 98 to 102 would be \"about 100\". Again, where did \"about 100\" come from? It might be a stakeholder's claim about the number or a manufacturer's claim or you might have arrived at the value analytically and you're trying to do an experiment to verify it."
   ]
  },
  {
   "cell_type": "code",
   "execution_count": 45,
   "metadata": {},
   "outputs": [
    {
     "data": {
      "text/plain": [
       "0.897"
      ]
     },
     "execution_count": 45,
     "metadata": {},
     "output_type": "execute_result"
    }
   ],
   "source": [
    "np.mean((98.0 <= posterior) & (posterior <= 102))"
   ]
  },
  {
   "cell_type": "markdown",
   "metadata": {},
   "source": [
    "We've gone from 10.5% to 40.4% to 89.7% probability that the mean is \"really\" 100.\n",
    "This is an interesting way to see how given some hypothesis, \"about 100\", how the different dispersion of the data and sample size might affect your ability to determine the probability of the data supporting that hypothesis.\n",
    "\n",
    "By the way, the ROPE isn't necessarily the thing you want to have high probability.\n",
    "The opposite could be true.\n",
    "It is just an interval of values (possibly an open interval of values) for a parameter that you consider equivalent to each other, given the problem domain."
   ]
  },
  {
   "cell_type": "markdown",
   "metadata": {},
   "source": [
    "**Statistical Inference for a two real valued $\\theta$s**\n",
    "\n",
    "**Exercise 6. Following *Fundamentals*, apply the Bootstrap to make inferences about the difference between two means.**\n",
    "\n",
    "Below are the Quantiative GRE scores for STEM and Social Science graduates respectively. Analyze the difference in mean scores. \n",
    "\n",
    "Start by formulating a ROPE for this problem. Be clever but but don't overdo it."
   ]
  },
  {
   "cell_type": "code",
   "execution_count": 46,
   "metadata": {},
   "outputs": [],
   "source": [
    "stem_gre = [164.0, 168.0, 165.0, 171.0, 171.0, 156.0, 170.0, 159.0, 166.0, 155.0, 166.0, 159.0, 170.0, 157.0, 167.0, 156.0, 155.0, 160.0, 174.0, 158.0, 168.0, 174.0, 162.0, 161.0, 167.0, 159.0, 152.0, 163.0, 164.0, 171.0, 156.0, 165.0, 165.0, 175.0, 152.0, 172.0, 162.0, 168.0, 173.0, 167.0, 158.0, 168.0, 158.0, 167.0, 159.0, 168.0, 157.0, 158.0, 166.0, 163.0, 158.0, 165.0, 155.0, 160.0, 178.0, 165.0, 161.0, 165.0, 162.0, 165.0, 170.0, 162.0, 165.0, 164.0, 175.0, 155.0, 161.0, 161.0, 165.0, 168.0, 165.0, 171.0, 175.0, 161.0, 161.0, 167.0, 155.0, 160.0, 168.0, 159.0, 171.0, 150.0, 164.0, 167.0, 165.0, 153.0, 170.0, 170.0, 164.0, 160.0, 161.0, 169.0, 163.0, 162.0, 173.0, 161.0, 162.0, 167.0, 169.0, 155.0]\n",
    "soc_sci_gre = [157.0, 162.0, 164.0, 152.0, 170.0, 144.0, 142.0, 145.0, 150.0, 157.0, 154.0, 149.0, 169.0, 163.0, 163.0, 159.0, 150.0, 156.0, 157.0, 168.0, 149.0, 162.0, 156.0, 164.0, 152.0, 155.0, 156.0, 161.0, 144.0, 151.0, 159.0, 159.0, 150.0, 146.0, 172.0, 167.0, 162.0, 137.0, 164.0, 157.0, 150.0, 146.0, 167.0, 159.0, 152.0, 156.0, 154.0, 163.0, 167.0, 154.0, 151.0, 150.0, 162.0, 148.0, 155.0, 147.0, 160.0, 164.0, 162.0, 161.0, 146.0, 135.0, 143.0, 159.0, 163.0, 165.0, 175.0, 163.0, 156.0, 159.0, 160.0, 155.0, 137.0, 137.0, 156.0, 160.0, 153.0, 151.0, 164.0, 147.0, 152.0, 146.0, 138.0, 149.0, 149.0, 153.0, 154.0, 160.0, 149.0, 168.0, 133.0, 156.0, 166.0, 161.0, 154.0, 163.0, 162.0, 147.0, 157.0, 162.0]"
   ]
  },
  {
   "cell_type": "markdown",
   "metadata": {},
   "source": [
    "**a. Formulate the ROPE.**"
   ]
  },
  {
   "cell_type": "markdown",
   "metadata": {},
   "source": [
    "<div style=\"background: lemonchiffon; margin:20px; padding: 20px;\">\n",
    "    <strong>Note</strong>\n",
    "    <p>\n",
    "        In a real problem, you'll have a lot more domain knowledge so don't obsess about a <em>right</em> answer here much as being thoughtful and using it correctly.\n",
    "Remember, we formulate a ROPE by looking at the domain, not the data, although we may have been exposed to past data (which is part of the domain knowledge).\n",
    "If we use the data (or sample), we're overfitting to the sample instead of posing questions about the population.\n",
    "    </p>\n",
    "</div>\n",
    "\n",
    "GRE scores are not used as extensively for graduate school admissions as they were the past.\n",
    "A bit research showed some interesting facts but the main one was that the national average for the Quant Score for STEM was 158 and Social Science was 150.\n",
    "This is a difference of 8 points.\n",
    "An interesting starting point would be, do our scores reflect the national difference?\n",
    "An exactly 8 point difference is impossible so what's a reasonable range?\n",
    "7 to 9 points seems too fiddly and 0 to 20 would be too large.\n",
    "4 to 12 seems like a reasonable middle ground.\n",
    "\n",
    "<div style=\"background: lemonchiffon; margin:20px; padding: 20px;\">\n",
    "    <strong>Note</strong>\n",
    "    <p>\n",
    "        Remember, unlike the Frequentist approach, you can conduct multiple analyses of the posterior distribution. The posterior distribution summarizes all the knowledge we have about the uncertainty around the parameter. We can ask different questions to support our decision making.\n",
    "    </p>\n",
    "</div>\n",
    "\n",
    "A bit of research online showed that, for example, the minimum Quant GRE score for Ivy League schools was 160."
   ]
  },
  {
   "cell_type": "markdown",
   "metadata": {},
   "source": [
    "**b. Generate the bootstrap data for each.**"
   ]
  },
  {
   "cell_type": "code",
   "execution_count": 47,
   "metadata": {},
   "outputs": [],
   "source": [
    "x1_posterior = bootstrap_sample( stem_gre, np.mean, 1000)\n",
    "x2_posterior = bootstrap_sample( soc_sci_gre, np.mean, 1000)"
   ]
  },
  {
   "cell_type": "markdown",
   "metadata": {},
   "source": [
    "**c. Generate difference data. You can do this by simply subtracting, element by element, one bootstrap sample from the other.**\n",
    "\n",
    "This is just like before. Each element of $x_i^{posterior}$ is an independent estimate of the corresponding $\\bar{x_i}$ and we can create a corresponding estimate of the difference:"
   ]
  },
  {
   "cell_type": "code",
   "execution_count": 48,
   "metadata": {},
   "outputs": [],
   "source": [
    "difference = x1_posterior - x2_posterior"
   ]
  },
  {
   "cell_type": "code",
   "execution_count": 49,
   "metadata": {},
   "outputs": [
    {
     "data": {
      "image/png": "[encoded data removed]",
      "text/plain": [
       "<Figure size 2000x600 with 3 Axes>"
      ]
     },
     "metadata": {},
     "output_type": "display_data"
    }
   ],
   "source": [
    "figure = plt.figure(figsize=(20, 6)) # first element is width, second is height.\n",
    "\n",
    "axes = figure.add_subplot(1, 3, 1)\n",
    "\n",
    "axes.hist( x1_posterior, density=True, color=\"dimgray\")\n",
    "axes.set_ylabel( \"Density\")\n",
    "axes.set_xlabel( \"$\\hat{theta}$\")\n",
    "axes.set_title( \"Posterior Distribution of x1 $\\hat{theta}$\")\n",
    "\n",
    "axes = figure.add_subplot(1, 3, 2)\n",
    "\n",
    "axes.hist( x2_posterior, density=True, color=\"dimgray\")\n",
    "axes.set_ylabel( \"Density\")\n",
    "axes.set_xlabel( \"$\\hat{theta}$\")\n",
    "axes.set_title( \"Posterior Distribution of x2 $\\hat{theta}$\")\n",
    "\n",
    "axes = figure.add_subplot(1, 3, 3)\n",
    "\n",
    "axes.hist( difference, density=True, color=\"dimgray\")\n",
    "axes.set_ylabel( \"Density\")\n",
    "axes.set_xlabel( \"difference in $\\hat{theta}$\")\n",
    "axes.set_title( \"Posterior Distribution of Difference in $\\hat{theta}$s\")\n",
    "\n",
    "plt.show()\n",
    "plt.close()"
   ]
  },
  {
   "cell_type": "markdown",
   "metadata": {},
   "source": [
    "**d. Calculate the 90% Bayesian Confidence Interval of all three _and interpret them_**."
   ]
  },
  {
   "cell_type": "code",
   "execution_count": 50,
   "metadata": {},
   "outputs": [
    {
     "name": "stdout",
     "output_type": "stream",
     "text": [
      "x1 90% BIC: [162.87 164.88]\n",
      "x2 90% BIC: [154.1041 156.8877]\n",
      "difference 90% BIC [ 6.7241 10.1118]\n"
     ]
    }
   ],
   "source": [
    "print( \"x1 90% BIC:\", stats.mstats.mquantiles( x1_posterior, [0.05, 0.95]))\n",
    "print( \"x2 90% BIC:\", stats.mstats.mquantiles( x2_posterior, [0.05, 0.95]))\n",
    "print( \"difference 90% BIC\", stats.mstats.mquantiles( difference, [0.05, 0.95]))"
   ]
  },
  {
   "cell_type": "markdown",
   "metadata": {},
   "source": [
    "There is a 90% probability, given the data and priors, that the mean value of $x_{STEM}$ lies between 162.9 and 164.8. Similarly, there is a 90% probability that the mean value of $x_{SocSci}$ lies between 154.0 and 156.9. There is a 90% probability that the difference in means of the two data sets lies between 6.7 and 10.2, again, given the data and the priors."
   ]
  },
  {
   "cell_type": "markdown",
   "metadata": {},
   "source": [
    "**e. Determine a ROPE for the difference**"
   ]
  },
  {
   "cell_type": "code",
   "execution_count": 51,
   "metadata": {},
   "outputs": [
    {
     "data": {
      "text/plain": [
       "1.0"
      ]
     },
     "execution_count": 51,
     "metadata": {},
     "output_type": "execute_result"
    }
   ],
   "source": [
    "np.mean((4.0 <= difference) & (difference <= 12))"
   ]
  },
  {
   "cell_type": "markdown",
   "metadata": {},
   "source": [
    "So based on this ROPE, there is only a 99.9% probability, given the data and priors, that the difference between the means of the two sets of test scores reflect the national average figures."
   ]
  },
  {
   "cell_type": "markdown",
   "metadata": {},
   "source": [
    "## Discussion\n",
    "\n",
    "1\\. Discuss the similarities and differences in your results for Exercises 3-5. What do you think caused them given they all have the same mean?"
   ]
  },
  {
   "cell_type": "markdown",
   "metadata": {},
   "source": [
    "This is discussed along the way but the chief differences are probably due to:\n",
    "\n",
    "1. Sampling variation - this is not an artifact of the synthetic data. In the real world, you will experience sampling variation.\n",
    "2. Variance - although the means are the same, the variances are different. More disperse data will have more sampling variation and this impedes our ability to make inferences from it.\n",
    "3. Sample sizes - given the dispersion and the effect on sampling variation, larger samples sizes are the antidote. However, it's not always clear how big a sample size you need. We'll talk about this more in Experimental Design."
   ]
  },
  {
   "cell_type": "markdown",
   "metadata": {},
   "source": [
    "2\\. Why are we interested in estimating the posterior distribution?"
   ]
  },
  {
   "cell_type": "markdown",
   "metadata": {},
   "source": [
    "The posterior distribution is the estimate of the probability of all our hypotheses, given the data. We basically want to know, given the data, how believable each hypothesis is. As Sherlock Holmes said, \"Once you eliminate the impossible, whatever remains, no matter how improbable, must be the truth.\" The quote is interesting because P(D|H=h1) may actually *be* very improbable but if it is larger than any other $H=h_i$, it is still the most probable hypothesis (and because of normalization will actually end up with a high probability).\n",
    "\n",
    "In the case of categorical or discrete outcomes, our hypotheses are simple: either Elvis had an identical twin or he did not. We can just use Bayes Rule with the data. The posterior distribution is easy to calculate. However, in the case of numeric hypotheses about parameter values and descriptive statistics we wish to use as models, there are an infinite number of hypotheses, values for the parameter. Because of this, we have to deal with ranges, either the ROPE or Credible/Confidence intervals or others of our own design and interest.\n",
    "\n",
    "We can only get these if we calculate the posterior distribution. Still, the posterior distribution of the mean is not different in essence from the posterior distribution of the possibilities, identical twin or not identical twin. It's just because numeric hypotheses involve continuous values that we need to work with ranges."
   ]
  },
  {
   "cell_type": "markdown",
   "metadata": {},
   "source": [
    "3\\. In the previous Lab, we talked about how Systems Theory related to the variability of a variable. How then is \"keeping other things the same\" in experimental design or comparison related both to inference and Systems Theory?"
   ]
  },
  {
   "cell_type": "markdown",
   "metadata": {},
   "source": [
    "Previously we noted that a measurement of a variable has dispersion because there are all these other factors affecting it that we don't model directly and thus we end up with uncertainty. Basically, we measure the outcome of the coin but not all the factors that went into the result; we measure someone's height but not all the factors that went into their height, etc.\n",
    "\n",
    "Now, especially in the context of comparisons (differences in $\\theta$) between two groups, we want to really make sure that the only difference between the two groups is either the intervention or characteristic we're isolating. If we sampled only young women and only old men and presented it as the differences in voting patterns of women and men then we would probably end up with incorrect inferences. This is because we didn't keep all the factors affecting voting patterns the same, except for the one of interest. This is an extreme case. We can still be in trouble if:\n",
    "\n",
    "1. Our samples are biased (they don't reflect the population at large): young women are overrepresented in our sample and young men are underrepresented; old women are underrepresented and old men are overrepresented.\n",
    "2. They reflect the population at large but the populations are biased. If there are more young women than young men and more old men than older women, then what we think we are measuring by looking at men v. women might really be old v. young.\n",
    "\n",
    "In those situations where we want to test the efficacy of an intervention (a new drug or marketing campaign), this is the idea beyond randomized experiments. You randomly assign people (or anything really) to the two (or more) groups and then draw conclusions based the thing (or things) in your control."
   ]
  },
  {
   "cell_type": "markdown",
   "metadata": {},
   "source": [
    "## On Your Own\n",
    "\n",
    "We have only scratched the surface here. What you really want to understand is how variability and the amount of data you have interact especially when looking at *differences* in proportions and means. \n",
    "\n",
    "Based on the experiments above, two things tend to happen. First, the bounds of the Credible/Confidence Interval can change. They can get bigger or smaller. And they can contain the \"true\" value or not or with lesser or greater probility.\n",
    "\n",
    "Second, the probability of the ROPE changes. Additionally, the probability that a value of interest is contained in the ROPE changes.\n",
    "\n",
    "What you want to see, under controlled circumstances, is how the sample size and dispersion of the data interact to affect your conclusions.\n",
    "\n",
    "To do this, you could take examples above and,\n",
    "\n",
    "1. decrease $v$.\n",
    "2. increase $v$.\n",
    "3. decrease observations.\n",
    "4. increase observations,\n",
    "5. change the difference in the real $\\theta$s both for normal ($\\mu$) and bernoulli distributions keeping the other factors fixed to see what differences are and are not detectable with those factors (variability and data).\n",
    "6. change the ROPE...for example, supposed we *did* believe the mean was \"around 102\". How would these experiments affect you conclusions.\n",
    "7. do the same experiment over with a different random seed!\n",
    "\n",
    "You can write a helper function that does all the things at once to more quickly see what's going on. Additionally, make hypotheses ahead of time about what you think will happen."
   ]
  },
  {
   "cell_type": "markdown",
   "metadata": {},
   "source": [
    "*your work here*"
   ]
  }
 ],
 "metadata": {
  "jupytext": {
   "formats": "ipynb,md:myst"
  },
  "kernelspec": {
   "display_name": "Python (en685648)",
   "language": "python",
   "name": "en685648"
  },
  "language_info": {
   "codemirror_mode": {
    "name": "ipython",
    "version": 3
   },
   "file_extension": ".py",
   "mimetype": "text/x-python",
   "name": "python",
   "nbconvert_exporter": "python",
   "pygments_lexer": "ipython3",
   "version": "3.11.7"
  },
  "toc": {
   "colors": {
    "hover_highlight": "#DAA520",
    "navigate_num": "#000000",
    "navigate_text": "#333333",
    "running_highlight": "#FF0000",
    "selected_highlight": "#FFD700",
    "sidebar_border": "#EEEEEE",
    "wrapper_background": "#FFFFFF"
   },
   "moveMenuLeft": true,
   "nav_menu": {
    "height": "171px",
    "width": "252px"
   },
   "navigate_menu": true,
   "number_sections": true,
   "sideBar": true,
   "threshold": 4,
   "toc_cell": false,
   "toc_section_display": "block",
   "toc_window_display": false,
   "widenNotebook": false
  },
  "vscode": {
   "interpreter": {
    "hash": "3452dedc9ea1b239feed81966c2a8d386247d3864b15c2cf3bda4fdf9711bddf"
   }
  }
 },
 "nbformat": 4,
 "nbformat_minor": 4
}
