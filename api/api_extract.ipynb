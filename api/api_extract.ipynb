{
 "cells": [
  {
   "cell_type": "code",
   "execution_count": 1,
   "id": "0728ec31-1097-426b-8f87-f4b0baafc1c4",
   "metadata": {},
   "outputs": [],
   "source": [
    "import requests\n",
    "import json\n",
    "import pandas as pd"
   ]
  },
  {
   "cell_type": "code",
   "execution_count": null,
   "id": "f271e03e-eb4e-404e-9960-8c27ccb18588",
   "metadata": {},
   "outputs": [],
   "source": [
    "# ### Sending a GET request for SQL\n",
    "\n",
    "# Set the API endpoint URL\n",
    "url = \"http://localhost:8001/read_data\"\n",
    "\n",
    "# Set the request headers\n",
    "headers = {\n",
    "    'Content-Type': 'application/json'\n",
    "}\n",
    "\n",
    "# Send the POST request to the API endpoint\n",
    "response = requests.get(url)\n",
    "\n",
    "# Print the response status code and content\n",
    "print('Response Status Code:', response.status_code)\n",
    "print('Response Content:', json.loads(response.content))\n",
    "update_test = json.loads(response.content)"
   ]
  }
 ],
 "metadata": {
  "kernelspec": {
   "display_name": "Python 3 (ipykernel)",
   "language": "python",
   "name": "python3"
  },
  "language_info": {
   "codemirror_mode": {
    "name": "ipython",
    "version": 3
   },
   "file_extension": ".py",
   "mimetype": "text/x-python",
   "name": "python",
   "nbconvert_exporter": "python",
   "pygments_lexer": "ipython3",
   "version": "3.10.12"
  }
 },
 "nbformat": 4,
 "nbformat_minor": 5
}
