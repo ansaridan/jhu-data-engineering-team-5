{
 "cells": [
  {
   "cell_type": "code",
   "execution_count": 1,
   "metadata": {
    "colab": {},
    "colab_type": "code",
    "id": "HBi9tJ7G5d5S"
   },
   "outputs": [],
   "source": [
    "%matplotlib inline"
   ]
  },
  {
   "cell_type": "code",
   "execution_count": 2,
   "metadata": {
    "colab": {},
    "colab_type": "code",
    "id": "IxKx8NRG5d5h"
   },
   "outputs": [],
   "source": [
    "import numpy as np\n",
    "import time\n",
    "import seaborn as sns\n",
    "import matplotlib.pyplot as plt\n",
    "import scipy.stats as stats\n",
    "import pandas as pd\n",
    "\n",
    "sns.set(style=\"whitegrid\")"
   ]
  },
  {
   "cell_type": "markdown",
   "metadata": {
    "colab_type": "text",
    "id": "iCsKNn1J5d5v"
   },
   "source": [
    "# Problem Set 4\n",
    "\n",
    "## Directions\n",
    "\n",
    "1. Show all work/steps/calculations using a combination of code and Markdown.\n",
    "2. **All** work is to be your own. This is not a group project. You may, however, use code from the lectures and labs. Provide citations for any code that is not your own. You may also consult Stackoverflow, etc. This is not by any means \"closed book\" or anything like that. Basically, I need to see if *you* learned the concepts from the Lectures, *Fundamentals*, and Labs.\n",
    "3. Add whatever markdown or code cells you need in each part to explain and calculate your answers. Don't just provide answers but explain them as well. **Explain and interpret your results.**\n",
    "\n",
    "**Submission**\n",
    "\n",
    "For this assignment...\n",
    "\n",
    "0. Complete the pre-submission checklist at the end of the notebook.\n",
    "1. Name the notebook to be your JHED ID, ie, `ssmith1.ipynb`. Do not add anything else to the name.\n",
    "2. Upload to Canvas.\n",
    "\n",
    "Do not add anything to the names like \" Problem Set 2\".\n",
    "Any assignment not following the submission guidelines will generally be assumed to be incomplete under the Syllabus and therefore a \"C\".\n",
    "Do not return the data set.\n",
    "Do not return the eda.py file."
   ]
  },
  {
   "cell_type": "markdown",
   "metadata": {
    "colab_type": "text",
    "id": "_Wq-7RA05d5x"
   },
   "source": [
    "## Introduction\n",
    "\n",
    "\n",
    "<div style=\"background: lemonchiffon; margin:20px; padding: 20px;\">\n",
    "    <strong>Note</strong>\n",
    "    <p>This Problem Set covers Lab 7.</p>\n",
    "    <p>You <em>must</em> use Bayesian inference on all five problems of this Problem Set. Specifically, you must use the Non-Parametric Bootstrap to estimate posterior distributions (Problems 1-4) There should be no p-values or confidence intervals <em>at all.</em> No Frequentist inference.<p>\n",
    "</div>\n",
    "\n",
    "\n",
    "Lab 7 was all about statistical inference, specifically, Bayesian statistical inference. \n",
    "\n",
    "We start with some \"pregame\" questions.\n",
    "You should answer each of these in the Markdown cell provided.\n",
    "Be specific and to the point.\n",
    "\n",
    "The problems are designed to get progressively more difficult.\n",
    "\n",
    "* <a href=\"#q1\">Problem 1<a>\n",
    "* <a href=\"#q2\">Problem 2<a>\n",
    "* <a href=\"#q3\">Problem 3<a>\n",
    "* <a href=\"#q4\">Problem 4<a> \n",
    "* <a href=\"#q5\">Problem 5<a> \n",
    "  \n",
    "You can add more cells (markdown/code) but do not change the labeling or ordering of the existing cells."
   ]
  },
  {
   "cell_type": "markdown",
   "metadata": {},
   "source": [
    "## Pregame"
   ]
  },
  {
   "cell_type": "markdown",
   "metadata": {},
   "source": [
    "### Question 1. What kinds of questions can we answer using the posterior distribution? Be specific and list all of them."
   ]
  },
  {
   "cell_type": "markdown",
   "metadata": {},
   "source": [
    "The posterior distribution allows us to ask the question: 'Are the results believeable?' It allows us to find uncertainty in each of our values for a parameter or model. In other words, if $\\theta$ is our model or set of models, the posterior $P(\\theta | D)$, is the distribution of the models given the data."
   ]
  },
  {
   "cell_type": "markdown",
   "metadata": {},
   "source": [
    "In addition to the uncertainty in our parameter's values, we can also us the posterior distribution to calculate the probability of the Region of Practical Equivalence (ROPE). "
   ]
  },
  {
   "cell_type": "markdown",
   "metadata": {},
   "source": [
    "We can ask what probability is associated with a particular value or interval. Specifically: <br>\n",
    "What is the probability of $\\theta$ being x or larger? <br>\n",
    "What is the probability of $\\theta$ being x or less? <br>\n",
    "What is the probability of $\\theta$ being x to y?"
   ]
  },
  {
   "cell_type": "markdown",
   "metadata": {},
   "source": [
    "We can also ask questions going from probability to value: <br>\n",
    "What value is associated with a probability or higher?\n",
    "What value is associated with a probability or lower?\n",
    "What interval is associated with a particular probability?"
   ]
  },
  {
   "cell_type": "markdown",
   "metadata": {},
   "source": [
    "### Question 2. What role does an N% Credible Interval play in Bayesian inference? Is it the primary method of inference in Bayesian statistics?"
   ]
  },
  {
   "cell_type": "markdown",
   "metadata": {},
   "source": [
    "An N% Credible Interval is the N% probability a true parameter's value falls between a particular interval or range, based on the data. It has a slightly different interpretation than a Frequentist Confidence Interval. I believe it is the primary method of inference in Bayesian statistics. Our posterior distribution tells us what we need to know about our uncertainty in $\\theta$."
   ]
  },
  {
   "cell_type": "markdown",
   "metadata": {},
   "source": [
    "### Question 3. About the Regional of Practical Equivalence (ROPE)...\n",
    "\n",
    "1. In your own words, what is the ROPE?\n",
    "2. What kind of information do we use to define the ROPE?"
   ]
  },
  {
   "cell_type": "markdown",
   "metadata": {},
   "source": [
    "1. The ROPE is a range of values that we would be okay with in order to not change our beliefs in our model. Or at least the range of values we would find \"acceptable\" (I use acceptable loosely here, as I do not mean we are accepting or rejecting any values here, as we might do with a null model in a Frequentist approach)."
   ]
  },
  {
   "cell_type": "markdown",
   "metadata": {},
   "source": [
    "2. ROPE comes from our domain knowledge, not the data."
   ]
  },
  {
   "cell_type": "markdown",
   "metadata": {
    "colab_type": "text",
    "id": "QgjG4ntn5d6Q"
   },
   "source": [
    "<a id=\"q1\"></a>\n",
    "## Problem 1\n",
    "---\n",
    "\n",
    "\n",
    "You recently surveyed your customers in a marketing campaign to determine if they would be willing to switch from emails to text alerts. You have previously broken your customers into two groups \"Beer\" lovers and \"Wine\" lovers.\n",
    "\n",
    "The results are below:\n",
    "\n",
    "```\n",
    "                        Response\n",
    "                        No   Yes  Total\n",
    "       Segments    Wine  18  82  100\n",
    "                   Beer  53  47  100\n",
    "                   Total 71 129  200\n",
    "```\n",
    "As you analyze the data, you note that the overall percentage of customers who would be willing to get text messages instead of emails is 64.5% (129/200). Engineering and Marketing have established that in order for the switch (from email to SMS texts) to be cost effective, the proportion of customers will to switch had to be at least 60%.\n",
    "\n",
    "Because 64.5% is greater than 60.0%, the results of the survey are interesting (\"meaningful\") but how believable are they?\n"
   ]
  },
  {
   "cell_type": "markdown",
   "metadata": {
    "colab_type": "text",
    "id": "qj3OvlLc79EE"
   },
   "source": [
    "### Problem 1.1\n",
    "\n",
    "Let $\\theta$ be the percent of the total that responded yes, estimate the posterior distribution of P($\\theta$|Data)."
   ]
  },
  {
   "cell_type": "markdown",
   "metadata": {},
   "source": [
    "Start by recreating the data. Note I will round $\\theta$ as 65% to make working with the arrays easier."
   ]
  },
  {
   "cell_type": "code",
   "execution_count": 19,
   "metadata": {
    "colab": {},
    "colab_type": "code",
    "id": "K9bVo09R5d6R"
   },
   "outputs": [
    {
     "name": "stdout",
     "output_type": "stream",
     "text": [
      "[1, 1, 0, 0, 1, 1, 1, 1, 0, 0, 0, 1, 1, 0, 1, 1, 1, 0, 0, 1]\n",
      "Mean: 0.65\n"
     ]
    }
   ],
   "source": [
    "np.random.seed([281732])\n",
    "\n",
    "theta_yes = 0.65\n",
    "data = [1] * 65 + [0] * 35\n",
    "np.random.shuffle(data)\n",
    "print(data[0:20])\n",
    "print(f'Mean: {np.mean(data)}')"
   ]
  },
  {
   "cell_type": "markdown",
   "metadata": {},
   "source": [
    "Just making sure we set up our data correctly. Now we can generate our posterior distribution using Bootstrap sampling. Note I am copying the `bootstrap_sample` function from *Lab 7 - Solution.ipynb*."
   ]
  },
  {
   "cell_type": "code",
   "execution_count": 14,
   "metadata": {},
   "outputs": [],
   "source": [
    "def bootstrap_sample(data, f, n=100):\n",
    "    result = []\n",
    "    m = len(data)\n",
    "    for _ in range(n):\n",
    "        sample = np.random.choice(data, len(data), replace=True)\n",
    "        r = f(sample)\n",
    "        result.append(r)\n",
    "    return np.array(result)"
   ]
  },
  {
   "cell_type": "code",
   "execution_count": 20,
   "metadata": {},
   "outputs": [
    {
     "data": {
      "text/plain": [
       "array([0.63, 0.59, 0.72, 0.73, 0.63, 0.65, 0.62, 0.61, 0.73, 0.68, 0.75,\n",
       "       0.67, 0.56, 0.7 , 0.66, 0.61, 0.69, 0.67, 0.7 , 0.63])"
      ]
     },
     "execution_count": 20,
     "metadata": {},
     "output_type": "execute_result"
    }
   ],
   "source": [
    "posterior = bootstrap_sample(data, np.mean, 1000)\n",
    "posterior[0:20]"
   ]
  },
  {
   "cell_type": "markdown",
   "metadata": {},
   "source": [
    "Finally, we can create a histogram to visualize our posterior distribution"
   ]
  },
  {
   "cell_type": "code",
   "execution_count": 17,
   "metadata": {},
   "outputs": [
    {
     "data": {
      "image/png": "[encoded data removed]",
      "text/plain": [
       "<Figure size 1000x600 with 1 Axes>"
      ]
     },
     "metadata": {},
     "output_type": "display_data"
    }
   ],
   "source": [
    "figure = plt.figure(figsize=(10, 6))\n",
    "\n",
    "axes = figure.add_subplot(1, 1, 1)\n",
    "\n",
    "axes.hist(posterior, density=True, color=\"dimgray\")\n",
    "axes.set_ylabel(\"Density\")\n",
    "axes.set_xlabel(\"$\\hat{theta}$\")\n",
    "axes.set_title(\"Posterior Distribution of $\\hat{theta}$\")\n",
    "\n",
    "plt.show()\n",
    "plt.close()"
   ]
  },
  {
   "cell_type": "markdown",
   "metadata": {},
   "source": [
    "We see a somewhat symmetric posterior distribution, noting the highest density between $\\hat{\\theta}$ of 0.65-0.70."
   ]
  },
  {
   "cell_type": "markdown",
   "metadata": {
    "colab_type": "text",
    "id": "8Pn2gdi58F33"
   },
   "source": [
    "### Problem 1.2\n",
    "\n",
    "What is the 95% credible interval for $\\theta$? Interpret it."
   ]
  },
  {
   "cell_type": "code",
   "execution_count": 21,
   "metadata": {},
   "outputs": [
    {
     "data": {
      "text/plain": [
       "array([0.56, 0.75])"
      ]
     },
     "execution_count": 21,
     "metadata": {},
     "output_type": "execute_result"
    }
   ],
   "source": [
    "stats.mstats.mquantiles(posterior, [0.025, 0.975])"
   ]
  },
  {
   "cell_type": "markdown",
   "metadata": {},
   "source": [
    "The 95% credible interval is 0.56-0.75, meaning there is a 95% probability that the true value of $\\theta$ lies between 0.56-0.75, based on the data. (There is a 95% chance the percentage of people willing to switch from email to text alerts falls between 56-75%)."
   ]
  },
  {
   "cell_type": "markdown",
   "metadata": {},
   "source": [
    "### Problem 1.3\n",
    "\n",
    "Because the threshold was set at 60%, any percentage at 60% or greater is \"practically equivalent\" (we don't care how far above 60% it is as long as it's at least 60%). What is the probability of this ROPE? Interpret your result."
   ]
  },
  {
   "cell_type": "code",
   "execution_count": 23,
   "metadata": {},
   "outputs": [
    {
     "data": {
      "text/plain": [
       "0.88"
      ]
     },
     "execution_count": 23,
     "metadata": {},
     "output_type": "execute_result"
    }
   ],
   "source": [
    "np.mean(0.60 <= posterior)"
   ]
  },
  {
   "cell_type": "markdown",
   "metadata": {},
   "source": [
    "We have an 88% probability that the percentage of people who would be willing to switch from email to text alerts is at least 60%. What marketing would want to see, surely."
   ]
  },
  {
   "cell_type": "markdown",
   "metadata": {},
   "source": [
    "### Problem 1.4\n",
    "\n",
    "Even though the overall results appear to be satisfactory, Marketing is concerned we may lose Beer drinkers (ie, they believe the 53% \"no\" is meaningful). To what degree is the result believable for Beer drinkers. Discuss your results."
   ]
  },
  {
   "cell_type": "markdown",
   "metadata": {},
   "source": [
    "We can recreate the data just as we did above, but using a $\\theta$ to represent the percentage of beer drinkers who said no."
   ]
  },
  {
   "cell_type": "code",
   "execution_count": 28,
   "metadata": {},
   "outputs": [
    {
     "name": "stdout",
     "output_type": "stream",
     "text": [
      "[0, 1, 1, 0, 0, 0, 0, 1, 0, 0, 1, 0, 0, 0, 0, 1, 0, 0, 1, 1]\n",
      "Mean: 0.53\n"
     ]
    }
   ],
   "source": [
    "np.random.seed([147739])\n",
    "\n",
    "theta_no = 0.53\n",
    "data = [1] * 53 + [0] * 47\n",
    "np.random.shuffle(data)\n",
    "print(data[0:20])\n",
    "print(f'Mean: {np.mean(data)}')"
   ]
  },
  {
   "cell_type": "markdown",
   "metadata": {},
   "source": [
    "Now we calculate the posterior distribution"
   ]
  },
  {
   "cell_type": "code",
   "execution_count": 29,
   "metadata": {},
   "outputs": [
    {
     "data": {
      "text/plain": [
       "array([0.53, 0.51, 0.52, 0.43, 0.53, 0.49, 0.52, 0.48, 0.53, 0.52, 0.52,\n",
       "       0.45, 0.61, 0.59, 0.48, 0.49, 0.39, 0.54, 0.57, 0.54])"
      ]
     },
     "execution_count": 29,
     "metadata": {},
     "output_type": "execute_result"
    }
   ],
   "source": [
    "posterior = bootstrap_sample(data, np.mean, 1000)\n",
    "posterior[0:20]"
   ]
  },
  {
   "cell_type": "markdown",
   "metadata": {},
   "source": [
    "We can create a histogram as well"
   ]
  },
  {
   "cell_type": "code",
   "execution_count": 30,
   "metadata": {},
   "outputs": [
    {
     "data": {
      "image/png": "[encoded data removed]",
      "text/plain": [
       "<Figure size 1000x600 with 1 Axes>"
      ]
     },
     "metadata": {},
     "output_type": "display_data"
    }
   ],
   "source": [
    "figure = plt.figure(figsize=(10, 6))\n",
    "\n",
    "axes = figure.add_subplot(1, 1, 1)\n",
    "\n",
    "axes.hist(posterior, density=True, color=\"dimgray\")\n",
    "axes.set_ylabel(\"Density\")\n",
    "axes.set_xlabel(\"$\\hat{theta}$\")\n",
    "axes.set_title(\"Posterior Distribution of $\\hat{theta}$\")\n",
    "\n",
    "plt.show()\n",
    "plt.close()"
   ]
  },
  {
   "cell_type": "markdown",
   "metadata": {},
   "source": [
    "Again we see a fairly symmetric distribution here. Let's calculate the 95% credible interval for $\\theta$"
   ]
  },
  {
   "cell_type": "code",
   "execution_count": 31,
   "metadata": {},
   "outputs": [
    {
     "data": {
      "text/plain": [
       "array([0.44   , 0.62595])"
      ]
     },
     "execution_count": 31,
     "metadata": {},
     "output_type": "execute_result"
    }
   ],
   "source": [
    "stats.mstats.mquantiles(posterior, [0.025, 0.975])"
   ]
  },
  {
   "cell_type": "markdown",
   "metadata": {},
   "source": [
    "There is a 95% probability the percentage of beer drinkers not willing to switch from email to text alerts falls within 44% to 62.6%, based on the data. I believe the result we saw for beer drinkers not willing to switch (53%) is reasonable based on this 95% credible interval."
   ]
  },
  {
   "cell_type": "markdown",
   "metadata": {},
   "source": [
    "We could also consider looking at the probability of a ROPE if we had more domain knowledge about our beer drinkers."
   ]
  },
  {
   "cell_type": "markdown",
   "metadata": {
    "colab_type": "text",
    "id": "LiL5IHrB5d58"
   },
   "source": [
    "<a id=\"q2\"></a>\n",
    "## Problem 2\n",
    "\n",
    "---\n",
    "\n",
    "Fifteen volunteers were put on the Supper Dooper Human Kibble Diet(tm) for a month. They were weighed at the start and again after 30 days. Thus you can take `data1[\"start\"][0]` and `data1[\"end\"][0]` to be the weight of the same person with the first measurement at the start and the second measurement at the end of 30 days, etc. Thus, the people in \"start\" and the people in \"end\" *are* the same.\n",
    "\n",
    "The makers of The Super Dooper Human Kibble Diet(tm) are anxious to see the results of this study because they are planning to offer a money back guarantee of \"Lose at least 10 Pounds in 30 days or your money back!\"\n",
    "\n",
    "First, make very sure you're clear on what this question is really asking...there's two ways to interpret it and only one is right. \n",
    "\n",
    "Based on the data, answer the following questions:"
   ]
  },
  {
   "cell_type": "code",
   "execution_count": 3,
   "metadata": {
    "colab": {},
    "colab_type": "code",
    "id": "Bh0ty81u5d5-"
   },
   "outputs": [],
   "source": [
    "data2 = {}\n",
    "data2[\"start\"] = [129, 174, 200, 229, 205, 133, 143, 222, 161, 201, 194, 181, 185, 126, 212]\n",
    "data2[\"end\"] = [134, 171, 190, 227, 206, 130, 129, 218, 138, 187, 191, 177, 183, 124, 205]"
   ]
  },
  {
   "cell_type": "markdown",
   "metadata": {
    "colab_type": "text",
    "id": "ydBnQj_Z6ull"
   },
   "source": [
    "### Problem 2.1\n",
    "\n",
    "What is the probability that Super Dooper Human Kibble can make this claim (ie, how believable is it)?"
   ]
  },
  {
   "cell_type": "code",
   "execution_count": null,
   "metadata": {
    "colab": {},
    "colab_type": "code",
    "id": "onuEkkBX7Dnc"
   },
   "outputs": [],
   "source": []
  },
  {
   "cell_type": "markdown",
   "metadata": {
    "colab_type": "text",
    "id": "JeON0Rkr7EBc"
   },
   "source": []
  },
  {
   "cell_type": "markdown",
   "metadata": {
    "colab_type": "text",
    "id": "pEqdEI486woa"
   },
   "source": [
    "### Problem 2.2\n",
    "\n",
    "How likely is it that the diet doesn't work at all (zero weight loss? How would you define that? Assume that your weight fluctuates within a 5 pound band/range (+/- 2.5 pounds)."
   ]
  },
  {
   "cell_type": "code",
   "execution_count": null,
   "metadata": {
    "colab": {},
    "colab_type": "code",
    "id": "geEuuGZz7FwX"
   },
   "outputs": [],
   "source": []
  },
  {
   "cell_type": "markdown",
   "metadata": {
    "colab_type": "text",
    "id": "jiC8ZcoO7GAZ"
   },
   "source": []
  },
  {
   "cell_type": "markdown",
   "metadata": {},
   "source": [
    "### Problem 2.3\n",
    "\n",
    "How likely is it that you actually gain weight under the diet? Again, assume that your weight fluctuates about 5 pounds around your your \"true\" weight (both over and under, evenly)."
   ]
  },
  {
   "cell_type": "code",
   "execution_count": null,
   "metadata": {},
   "outputs": [],
   "source": []
  },
  {
   "cell_type": "markdown",
   "metadata": {
    "colab_type": "text",
    "id": "-rVM2R3b6yx7"
   },
   "source": [
    "### Problem 2.4\n",
    "\n",
    "The Lawyers and Accountants have re-crunched the numbers and the legal terms. If the diet doesn't \"work\" for 10 pounds, what value (threshold) will the diet work for at least 66% of the time? That is, what value can we substitute for \"10 pounds\" in our money back guarantee that will be true at least 66% of the time?"
   ]
  },
  {
   "cell_type": "code",
   "execution_count": null,
   "metadata": {
    "colab": {},
    "colab_type": "code",
    "id": "y3W2M-wO7Hys"
   },
   "outputs": [],
   "source": []
  },
  {
   "cell_type": "markdown",
   "metadata": {
    "colab_type": "text",
    "id": "V3Dz7NYk7IKb"
   },
   "source": []
  },
  {
   "cell_type": "markdown",
   "metadata": {
    "colab_type": "text",
    "id": "CPgOzkuR5d6H"
   },
   "source": [
    "<a id=\"q3\"></a>\n",
    "## Problem 3\n",
    "\n",
    "---\n",
    "\n",
    "The Data Science Team at Acme Company has developed a new engagement algorithm they believe will be more effective than the current one. To test the new algorithm they conducted an A/B test for two groups of 100 users each, selected at random, over a week. \n",
    "\n",
    "In order for the change to be cost effective, visitors need to spend at least 5 minutes more per week on the website under the new algorithm.\n",
    "\n",
    "The data is provided below (the people in \"old\" and the people in \"new\" are *not* the same) and measured in \"minutes spent on the website during the week\"."
   ]
  },
  {
   "cell_type": "code",
   "execution_count": 4,
   "metadata": {
    "colab": {},
    "colab_type": "code",
    "id": "QOg3cLjl5d6I"
   },
   "outputs": [],
   "source": [
    "data3 = {}\n",
    "data3[\"old\"] = [161, 184, 138, 178, 188, 175, 195, 214, 183, 184, 195, 196, 150, 206, 185, 202, 216, 186, 153, 174, 217, 217, 178, 172, 205, 192, 172, 222, 197, 174, 163, 206, 176, 176, 230, 202, 267, 186, 190, 200, 182, 160, 225, 185, 205, 213, 189, 171, 166, 239, 170, 198, 198, 198, 211, 194, 197, 212, 194, 236, 163, 218, 221, 189, 182, 182, 202, 172, 165, 180, 214, 186, 191, 179, 191, 204, 209, 212, 141, 188, 193, 192, 185, 199, 144, 146, 231, 201, 177, 191, 197, 182, 174, 231, 202, 195, 161, 187, 181, 186]\n",
    "data3[\"new\"] = [196, 245, 196, 243, 181, 161, 173, 151, 148, 195, 247, 164, 167, 234, 200, 215, 204, 190, 148, 127, 174, 135, 231, 199, 125, 138, 140, 206, 139, 177, 260, 231, 173, 172, 178, 224, 186, 115, 144, 222, 189, 107, 239, 124, 216, 169, 212, 262, 145, 221, 179, 192, 142, 232, 171, 233, 287, 216, 188, 156, 169, 238, 128, 155, 202, 174, 229, 198, 192, 169, 156, 238, 178, 220, 177, 191, 234, 251, 166, 123, 144, 127, 203, 230, 203, 188, 185, 255, 239, 227, 173, 196, 208, 236, 194, 204, 217, 252, 169, 166]"
   ]
  },
  {
   "cell_type": "markdown",
   "metadata": {
    "colab_type": "text",
    "id": "u0Z4fHQ_7Z8s"
   },
   "source": [
    "Based on the data, fully analyze the A/B test. You will be graded on the completeness and thoroughness of your analysis. You should make sure you include:\n",
    "\n",
    "1. BCI\n",
    "2. ROPE\n",
    "3. ?"
   ]
  },
  {
   "cell_type": "markdown",
   "metadata": {
    "colab_type": "text",
    "id": "Ho9Ex5-z7jXn"
   },
   "source": [
    "### Problem 3.1\n",
    "\n",
    "Calculate the 95% BCI and interpret it."
   ]
  },
  {
   "cell_type": "code",
   "execution_count": null,
   "metadata": {
    "colab": {},
    "colab_type": "code",
    "id": "ArMhVBx67lOi"
   },
   "outputs": [],
   "source": []
  },
  {
   "cell_type": "markdown",
   "metadata": {
    "colab_type": "text",
    "id": "Z0oEGU9C7lnj"
   },
   "source": [
    "### Problem 3.2\n",
    "\n",
    "Calculate the ROPE and interpret it."
   ]
  },
  {
   "cell_type": "code",
   "execution_count": null,
   "metadata": {},
   "outputs": [],
   "source": []
  },
  {
   "cell_type": "markdown",
   "metadata": {},
   "source": [
    "### Problem 3.3\n",
    "\n",
    "Answer one additional interesting question of inference using the posterior distribution you calculated (do not calculate a new or different one)."
   ]
  },
  {
   "cell_type": "code",
   "execution_count": null,
   "metadata": {},
   "outputs": [],
   "source": []
  },
  {
   "cell_type": "markdown",
   "metadata": {},
   "source": [
    "<a id=\"q4\"></a>\n",
    "## Problem 4\n",
    "\n",
    "In Problem Set 3, we looked at a dataset for abalone. For this problem, we're going to extend that EDA analysis from what was interesting/meaningful to see "
   ]
  },
  {
   "cell_type": "code",
   "execution_count": null,
   "metadata": {},
   "outputs": [],
   "source": [
    "df = pd.read_csv(\"https://raw.githubusercontent.com/fundamentals-of-data-science/datasets/master/abalone.original.csv\")"
   ]
  },
  {
   "cell_type": "markdown",
   "metadata": {},
   "source": [
    "### 1. What is a meaningful difference in mean ring counts for male and female abalone?"
   ]
  },
  {
   "cell_type": "markdown",
   "metadata": {},
   "source": [
    "(answer)"
   ]
  },
  {
   "cell_type": "markdown",
   "metadata": {},
   "source": [
    "### 2. Conduct an abbreviated EDA of male and female abalone ring counts. What is the observed difference in mean ring counts for male and female abalone?\n",
    "\n",
    "(add cells as necessary)"
   ]
  },
  {
   "cell_type": "code",
   "execution_count": null,
   "metadata": {},
   "outputs": [],
   "source": []
  },
  {
   "cell_type": "markdown",
   "metadata": {},
   "source": [
    "### 3. Is there a believable meaningful difference in male and female mean ring counts?\n",
    "\n",
    "(add cells as necessary)"
   ]
  },
  {
   "cell_type": "code",
   "execution_count": null,
   "metadata": {},
   "outputs": [],
   "source": []
  },
  {
   "cell_type": "markdown",
   "metadata": {
    "colab_type": "text",
    "id": "F4F64zmn5d6X"
   },
   "source": [
    "<a id=\"q5\"></a>\n",
    "## Problem 5\n",
    "---\n",
    "\n",
    "So far we have talked about the Non-Parametric Bootstrap. In this question, you will use the Parametric Bootstrap to solve a problem in Bayesian inference. The *Parametric* Bootstrap is useful in those cases where you don't have the original data.\n",
    "\n",
    "We could use the Normal Distribution for this problem because test scores are likely normally distributed. However, we run into a problem when doing simulations because we're likely to generate test scores outside the range 0-100.\n",
    "\n",
    "We can use the Truncated Normal Distribution (`truncnorm`) instead. From the scipy docs truncnorm page: https://docs.scipy.org/doc/scipy/reference/generated/scipy.stats.truncnorm.html\n",
    "\n",
    "\"The standard form of this distribution is a standard normal truncated to the range [a, b] — notice that a and b are defined over the domain of the standard normal. To convert clip values for a specific mean and standard deviation, use:\n",
    "\n",
    "a, b = (myclip_a - my_mean) / my_std, (myclip_b - my_mean) / my_std\n",
    "\n",
    "\"\n",
    "\n",
    "Plus further clarification on a and b from https://stackoverflow.com/questions/18441779/how-to-specify-upper-and-lower-limits-when-using-numpy-random-normal\n",
    "\n",
    "a, b = (lower - mu) / sigma, (upper - mu) / sigma\n",
    "\n",
    "> \"Within a school district, students were randomly assigned to one of two Math teachers - Mrs. Smith and Mrs. Jones. After the assignment, Mrs. Smith had 30 students, and Mrs. Jones had 25 students.\n",
    ">\n",
    "> At the end of the year, each class took the same standardized test. Mrs. Smith's students had an average test score of 78, with a standard deviation of 10; and Mrs. Jones' students had an average test score of 85, with a standard deviation of 15.\n",
    ">\n",
    "> What is the probability that Mrs. Smith and Mrs. Jones are equally effective teachers.\"\n",
    "\n",
    "**READ THIS CAREFULLY**\n",
    "\n",
    "The Parametric Bootstrap method is to take M bootstrap samples of size N *from the parameterized distribution*. Use M=1000 and the respective class sizes as N.\n",
    "\n",
    "**READ THAT AGAIN. MAKE SURE YOU HAVE IT RIGHT. IT'S NOT THE SAME AS THE NON-PARAMETRIC BOOTSTRAP**"
   ]
  },
  {
   "cell_type": "markdown",
   "metadata": {
    "colab_type": "text",
    "id": "OIQO_jJt8r4N"
   },
   "source": [
    "### Problem 5.1\n",
    "\n",
    "What might \"equally effective\" might mean in the context of Bayesian inference (ie, how do we operationalize this in Bayesian Inference?)."
   ]
  },
  {
   "cell_type": "markdown",
   "metadata": {
    "colab_type": "text",
    "id": "2to5PF_985yC"
   },
   "source": []
  },
  {
   "cell_type": "markdown",
   "metadata": {
    "colab_type": "text",
    "id": "LKempVu286cq"
   },
   "source": [
    "### Problem 5.2\n",
    "\n",
    "Now determine if it is *believable*."
   ]
  },
  {
   "cell_type": "code",
   "execution_count": null,
   "metadata": {},
   "outputs": [],
   "source": []
  },
  {
   "cell_type": "markdown",
   "metadata": {},
   "source": [
    "### Problem 5.3\n",
    "\n",
    "Answer one additional question of inference using the posterior distribution you calculated. Do not calculate a new one."
   ]
  },
  {
   "cell_type": "code",
   "execution_count": null,
   "metadata": {
    "colab": {},
    "colab_type": "code",
    "id": "kZr6SQ_e5d6Y"
   },
   "outputs": [],
   "source": []
  },
  {
   "cell_type": "markdown",
   "metadata": {
    "colab_type": "text",
    "id": "MX9sjc3h97FY"
   },
   "source": [
    "---\n",
    "\n",
    "**PRE-SUBMISSION CHECK LIST**\n",
    "\n",
    "Before you submit this assignent, go back and review the directions to ensure that you have followed each instruction.\n",
    "\n",
    "* [ ] Have you completed every section and answered every question asked?\n",
    "* [ ] For every question, have you described your approach and explained your results?\n",
    "* [ ] Have you checked for spelling and grammar errors?\n",
    "* [ ] Are your code blocks free of any errors?\n",
    "* [ ] Have you deleted unused code or markdown blocks? Removed scratch calculations? Excessive raw data print outs?\n",
    "* [ ] Hide all the code/output cells and make sure that you have sufficient discussion. Re-show the output cells but leave code cells hidden.\n",
    "* [ ] Have you *SAVED* your notebook?\n",
    "* [ ] Are you following the submission requirements for this particular assignment?"
   ]
  }
 ],
 "metadata": {
  "colab": {
   "collapsed_sections": [],
   "name": "Problem Set 4.ipynb",
   "provenance": [],
   "toc_visible": true
  },
  "kernelspec": {
   "display_name": "Python (en685648)",
   "language": "python",
   "name": "en685648"
  },
  "language_info": {
   "codemirror_mode": {
    "name": "ipython",
    "version": 3
   },
   "file_extension": ".py",
   "mimetype": "text/x-python",
   "name": "python",
   "nbconvert_exporter": "python",
   "pygments_lexer": "ipython3",
   "version": "3.11.7"
  },
  "toc": {
   "colors": {
    "hover_highlight": "#DAA520",
    "navigate_num": "#000000",
    "navigate_text": "#333333",
    "running_highlight": "#FF0000",
    "selected_highlight": "#FFD700",
    "sidebar_border": "#EEEEEE",
    "wrapper_background": "#FFFFFF"
   },
   "moveMenuLeft": true,
   "nav_menu": {
    "height": "66px",
    "width": "252px"
   },
   "navigate_menu": true,
   "number_sections": true,
   "sideBar": true,
   "threshold": 4,
   "toc_cell": false,
   "toc_section_display": "block",
   "toc_window_display": false,
   "widenNotebook": false
  }
 },
 "nbformat": 4,
 "nbformat_minor": 4
}
