{
 "cells": [
  {
   "cell_type": "markdown",
   "metadata": {
    "colab_type": "text",
    "id": "view-in-github"
   },
   "source": [
    "<a href=\"https://colab.research.google.com/github/fundamentals-of-data-science/course-materials/blob/master/labs/Lab_2.ipynb\" target=\"_parent\"><img src=\"https://colab.research.google.com/assets/colab-badge.svg\" alt=\"Open In Colab\"/></a>"
   ]
  },
  {
   "cell_type": "markdown",
   "metadata": {
    "colab_type": "text",
    "id": "Zi1DjOpGw0a9"
   },
   "source": [
    "# Module 2 Lab - Probability"
   ]
  },
  {
   "cell_type": "markdown",
   "metadata": {
    "colab_type": "text",
    "id": "cuTuPF2Aw0a_"
   },
   "source": [
    "## General Instructions\n",
    "\n",
    "In this course, Labs are the chance to applying concepts and methods discussed in the module.\n",
    "They are a low stakes (pass/fail) opportunity for you to try your hand at *doing*.\n",
    "Please make sure you follow the general Lab instructions, described in the Syllabus.\n",
    "The summary is:\n",
    "\n",
    "* Discussions should start as students work through the material, first Wednesday at the start of the new Module week. \n",
    "* Labs are due by **Sunday**.\n",
    "* Lab solutions are released Monday.  \n",
    "* Post Self Evaluation and Lab to Lab Group on Blackboard and Lab to Module on Blackboard on **Monday**.\n",
    "\n",
    "The last part is important because the Problem Sets will require you to perform the same or similar tasks without guidance.\n",
    "Problem Sets are your opportunity to demonstrate that you understand how to apply the concepts and methods discussed in the relevant Modules and Labs."
   ]
  },
  {
   "cell_type": "markdown",
   "metadata": {},
   "source": [
    "## Specific Instructions\n",
    "\n",
    "1.  For Blackboard submissions, if there are no accompanying files, you should submit *only* your notebook and it should be named using *only* your JHED id: fsmith79.ipynb for example if your JHED id were \"fsmith79\". If the assignment requires additional files, you should name the *folder/directory* your JHED id and put all items in that folder/directory, ZIP it up (only ZIP...no other compression), and submit it to Blackboard.\n",
    "\n",
    "    * do **not** use absolute paths in your notebooks. All resources should located in the same directory as the rest of your assignments.\n",
    "    * the directory **must** be named your JHED id and **only** your JHED id.\n",
    "    * do **not** return files provided by us (data files, .py files)\n",
    "\n",
    "\n",
    "2. Data Science is as much about what you write (communicating) as the code you execute (researching). In many places, you will be required to execute code and discuss both the purpose and the result. Additionally, Data Science is about reproducibility and transparency. This includes good communication with your team and possibly with yourself. Therefore, you must show **all** work.\n",
    "\n",
    "3. Avail yourself of the Markdown/Codecell nature of the notebook. If you don't know about Markdown, look it up. Your notebooks should not look like ransom notes. Don't make everything bold. Clearly indicate what question you are answering.\n",
    "\n",
    "4. Submit a cleanly executed notebook. The first code cell should say `In [1]` and each successive code cell should increase by 1 throughout the notebook."
   ]
  },
  {
   "cell_type": "code",
   "execution_count": 1,
   "metadata": {},
   "outputs": [],
   "source": [
    "from pprint import pprint"
   ]
  },
  {
   "cell_type": "markdown",
   "metadata": {
    "colab_type": "text",
    "id": "aoUSHSmHw0bC"
   },
   "source": [
    "## Manipulating and Interpreting Probability\n",
    "\n",
    "Given the following *joint probability distribution*, $P(A,B)$, for $A$ and $B$,\n",
    "\n",
    "```\n",
    "|    | a1   | a2   |\n",
    "|----|------|------|\n",
    "| b1 | 0.37 | 0.16 |\n",
    "| b2 | 0.23 | ?    |\n",
    "```\n",
    "\n",
    "Answer the following questions.\n",
    "\n",
    "**1\\. What is $P(A=a2, B=b2)$?**"
   ]
  },
  {
   "cell_type": "markdown",
   "metadata": {
    "colab_type": "text",
    "id": "eLkEU6Gww0bF"
   },
   "source": [
    "We know all possible probabilities in a joint probablity table must add up to 1 (from the `Second Axiom`). Therefore, P(A = a2, B = b2) is equal to `1 - (0.37 + 0.16 + 0.23) = 0.24` "
   ]
  },
  {
   "cell_type": "markdown",
   "metadata": {
    "colab_type": "text",
    "id": "hBpDJLMBw0bH"
   },
   "source": [
    "**2\\. If I observe events from this probability distribution, what is the probability of seeing (a1, b1) then (a2, b2)?**"
   ]
  },
  {
   "cell_type": "markdown",
   "metadata": {
    "colab_type": "text",
    "id": "dNfPdLVaw0bJ"
   },
   "source": [
    "Assuming all outcomes in the table are equally likely to occur and are independent from each other, the probability of seeing (a1, b1) followed by (a2, b2) is `(1/4) * (1/4) = (1/16)`"
   ]
  },
  {
   "cell_type": "markdown",
   "metadata": {
    "colab_type": "text",
    "id": "TdY20dH3w0bK"
   },
   "source": [
    "**3\\. Calculate the marginal probability distribution, $P(A)$.**"
   ]
  },
  {
   "cell_type": "markdown",
   "metadata": {
    "colab_type": "text",
    "id": "DSEK8ToJw0bQ"
   },
   "source": [
    "The marginal probability distribution `P(A = a1) = 0.60`, while the marginal probability distribution of `P(A = a2) = 0.40`. Here we simply add each column pertaining to each outcome for A."
   ]
  },
  {
   "cell_type": "markdown",
   "metadata": {
    "colab_type": "text",
    "id": "wHmrDBRew0bS"
   },
   "source": [
    "**4\\. Calculate the marginal probability distribution, $P(B)$.**"
   ]
  },
  {
   "cell_type": "markdown",
   "metadata": {
    "colab_type": "text",
    "id": "p2JDyyBiw0bU"
   },
   "source": [
    "Similarly, `P(B = b1) = 0.53`, while `P(B = b2) = 0.47`."
   ]
  },
  {
   "cell_type": "markdown",
   "metadata": {
    "colab_type": "text",
    "id": "vqghXUoZw0bV"
   },
   "source": [
    "**5\\. Calculate the conditional probability distribution, $P(A|B)$.**"
   ]
  },
  {
   "cell_type": "markdown",
   "metadata": {
    "colab_type": "text",
    "id": "Wnh_1qdyw0bX"
   },
   "source": [
    "In order to find conditional probabilities, we can look at each row of B, and normalize each outcome involving A over the marginal probability of `P(B = b1)` or `P(B = b2)`. We can say that <br>`P(A = a1 | B = b1) = 0.37/0.53 =  0.70`, `P(A = a2 | B = b1) = 0.30` and <br>\n",
    "`P(A = a1 | B = b2) = 0.49`, `P(A = a2 | B = b2) = 0.51`"
   ]
  },
  {
   "cell_type": "markdown",
   "metadata": {
    "colab_type": "text",
    "id": "dgKCDL4-w0bY"
   },
   "source": [
    "**6\\. Calculate the conditional probability distribution, $P(B|A)$.**"
   ]
  },
  {
   "cell_type": "markdown",
   "metadata": {
    "colab_type": "text",
    "id": "lD3r4Xhgw0ba"
   },
   "source": [
    "Similarly, we can say that <br> `P(B = b1 | A = a1) = 0.62`, `P(B = b2 | A = a1) = 0.38` and <br> `P(B = b1 | A = a2) = 0.40`, `P(B = b2 | A = a2) = 0.60`"
   ]
  },
  {
   "cell_type": "markdown",
   "metadata": {
    "colab_type": "text",
    "id": "CdjtfwHaw0bc"
   },
   "source": [
    "**7\\. Does $P(A|B) = P(B|A)$? What do we call the belief that these are always equal?**"
   ]
  },
  {
   "cell_type": "markdown",
   "metadata": {
    "colab_type": "text",
    "id": "QkH-Un_Cw0bd"
   },
   "source": [
    "P(A|B) does not equal P(B|A), as we can see each conditional probability above. The belief that these are always equal is called the `Inverse Probability Fallacy`."
   ]
  },
  {
   "cell_type": "markdown",
   "metadata": {
    "colab_type": "text",
    "id": "-SglgfKUw0be"
   },
   "source": [
    "**8\\. Does $P(A) = P(A|B)$? What does that mean about the independence of $A$ and $B$?**"
   ]
  },
  {
   "cell_type": "markdown",
   "metadata": {
    "colab_type": "text",
    "id": "DxMlSSIEw0bf"
   },
   "source": [
    "No, in this case, P(A) does not equal P(A|B). I don't think this tells us anything about whether A and B are independent. We need to also include the joint probabilities for that conclusion."
   ]
  },
  {
   "cell_type": "markdown",
   "metadata": {
    "colab_type": "text",
    "id": "p67gfq-Jw0bg"
   },
   "source": [
    "**9\\. Using $P(A)$, $P(B|A)$, $P(B)$ from above, calculate,**\n",
    "\n",
    "$P(A|B) = \\frac{P(B|A)P(A)}{P(B)}$\n",
    "\n",
    "Does it match your previous calculation for $P(A|B)$?"
   ]
  },
  {
   "cell_type": "markdown",
   "metadata": {
    "colab_type": "text",
    "id": "jUcxPvZFw0bh"
   },
   "source": [
    "`P(A = a1 | B = b1) = (0.62)(0.60) / (0.53) = 0.70` <br>\n",
    "`P(A = a2 | B = b1) = (0.40)(0.40) / (0.53) = 0.30` <br>\n",
    "`P(A = a1 | B = b2) = (0.38)(0.60) / (0.47) = 0.49` <br>\n",
    "`P(A = a2 | B = b2) = (0.60)(0.40) / (0.47) = 0.51` <br><br>\n",
    "Yes these are the same answers as the previous calculations."
   ]
  },
  {
   "cell_type": "markdown",
   "metadata": {
    "colab_type": "text",
    "id": "7EeMKnxIw0bi"
   },
   "source": [
    "**10\\. If we let A = H (some condition, characteristic, hypothesis) and B = D (some data, evidence, a test result), then how do we interpret each of the following: $P(H)$, $P(D)$, $P(H|D)$, $P(D|H)$, $P(H, D)$?**"
   ]
  },
  {
   "cell_type": "markdown",
   "metadata": {
    "colab_type": "text",
    "id": "qpeGvo4Kw0bm"
   },
   "source": [
    "P(H) - Probability of our hypothesis. Our prior probability in Bayes Rule.\n",
    "\n",
    "P(D) - Probability that we get this result. Our normalizer in Bayes Rule.\n",
    "\n",
    "P(H|D) - Probability of the hypothesis given we know D. Posterior probability in Bayes Rule.\n",
    "\n",
    "P(D|H) - Probability of our data given the hypothesis. The likelihood in Bayes Rule.\n",
    "\n",
    "P(H,D) - The joint probability between the hypthesis and data. "
   ]
  },
  {
   "cell_type": "markdown",
   "metadata": {
    "colab_type": "text",
    "id": "EnYagt27w0bo"
   },
   "source": [
    "## Bayes Rule\n",
    "\n",
    "Bayes Rule will be an important part of our toolset in the weeks to come, especially in terms of Bayesian Inference. Work through the following problems in Bayes Rule."
   ]
  },
  {
   "cell_type": "markdown",
   "metadata": {
    "colab_type": "text",
    "id": "oL8kmom4w0bp"
   },
   "source": [
    "### Problem 1 (Regular)\n",
    "\n",
    "You might be interested in the relationship between alcoholism and liver disease, in which case “being an alcoholic” (or not) is a test (evidence for) for liver disease (or not).\n",
    "\n",
    "Let `D` be the presence or absence of liver disease (`d` they have it; `~d`, \"not d\", they don't). Past data tells you that 10% of patients entering your clinic have liver disease. Let `A` be alcoholic (`a`) or not alcoholic (`~a`). 5% of the clinic’s patients are alcoholics.\n",
    "\n",
    "You know that among those patients diagnosed with liver disease, 7% are alcoholics and among those without liver disease, 95.2% are non-alcoholics.\n",
    "\n",
    "1. What is Bayes Rule for this problem? (write it out symbolically)\n",
    "2. From the above word problem, what values of Bayes Rule do you have? Which ones are missing?\n",
    "3. Calculate the missing values.\n",
    "4. Calculate the posterior probability *distributions* using Bayes Rule.\n",
    "5. Describe what each individual posterior probability means *in words*."
   ]
  },
  {
   "cell_type": "markdown",
   "metadata": {
    "colab_type": "text",
    "id": "qL5KnyVsw0bq"
   },
   "source": [
    "*answer here* (again, either use Markdown here or change to a code cell if you want to program the answer. Use Markdown cells for comments. I suggest calculating the missing information then using the code from Fundamentals to calculate the answers.)"
   ]
  },
  {
   "cell_type": "markdown",
   "metadata": {},
   "source": [
    "1. In general, Bayes Rule can be summarized as <br>\n",
    "`P(B|A) = P(A|B) P(B) / P(A)` <br><br>\n",
    "In this case, we would say that <br>\n",
    "`P(D|A) = P(A|D) P(D) / P(A)` <br><br>\n",
    "In other words, <br>\n",
    "`P(patient has liver disease | patient is an alcoholic) = P(patient is an alcoholic | patient has liver disease) * P(patient has liver disease) / P(patient is an alcoholic)`\n",
    "\n"
   ]
  },
  {
   "cell_type": "markdown",
   "metadata": {},
   "source": [
    "2. The info we have is `P(D = d), P(A = a), P(A = a | D = d)`, and `P(A = ~a | D = ~d)`. We are missing the joint probabilities, the marginal probabilities `P(A = ~a)`, `P(D = ~d)`, and the conditional probabilities `P(A = ~a | D = d)`, `P(A = a | D = ~d)`, and the four where D is conditional given A."
   ]
  },
  {
   "cell_type": "markdown",
   "metadata": {},
   "source": [
    "3. We know that `P(D = ~d) = 0.90` and `P(A = ~a) = 0.95`, since the marginal probabilities need to equal one for D or A, respectively. <br><br>\n",
    "\n",
    "\n",
    "\n",
    "We know `P(A = a | D = d) = 0.07 = P(A = a, D = d) / P(D = d)`, so we can find `P(A = a, D = d)` as `0.07 * 0.10 = 0.007`. We can perform the similar calculations to find each of the four joint distributions, summarized in the table below:\n",
    "\n",
    "\n",
    "```\n",
    "|    | a       | ~a       |\n",
    "|----|------   |------    |\n",
    "|  d | 0.007   | 0.093    |  0.10\n",
    "| ~d | 0.0432  | 0.8568   |  0.90\n",
    "       0.05       0.95\n",
    "```\n"
   ]
  },
  {
   "cell_type": "markdown",
   "metadata": {},
   "source": [
    "Finally we can look at the conditional probabilities. <br>\n",
    "`P(A = ~a | D = d) = 0.93` and<br>\n",
    "`P(A = a | D = ~d) = 0.048` <br><br>\n",
    "`P(D = d | A = a) = 0.14` <br>\n",
    "`P(D = d | A = ~a) = 0.099` <br>\n",
    "`P(D = ~d | A = a) = 0.864` <br>\n",
    "`P(D = ~d | A = ~a) = 0.902` <br>\n"
   ]
  },
  {
   "cell_type": "markdown",
   "metadata": {},
   "source": [
    "4. The posterior probability distributions are given as `P(D|A) = P(A|D) P(D) / P(A)`. <br>\n",
    "`P(D = d | A = a) = (0.07)(0.10) / (0.05) = 0.14` <br>\n",
    "`P(D = ~d | A = a) = (0.048)(0.90) / (0.05) = 0.864` <br>\n",
    "`P(D = d | A = ~a) = (0.93)(0.10) / (0.95) = 0.098` <br>\n",
    "`P(D = ~d | A = ~a) = (0.952)(0.90) / (0.95) = 0.902` <br>"
   ]
  },
  {
   "cell_type": "markdown",
   "metadata": {},
   "source": [
    "5. `P(D = d | A = a)` is the probability a patient has liver disease, given they are an alcoholic. <br>\n",
    "`P(D = ~d | A = a)` is the probability a patient does not have liver disease, given they are an alcoholic. <br>\n",
    "`P(D = d | A = ~a)` is the probability a patient has liver disease, given they are not an alcoholic.<br>\n",
    "`P(D = ~d | A = ~a)` is the probability a patient does not have liver disease, given they are not an alcoholic. <br>"
   ]
  },
  {
   "cell_type": "markdown",
   "metadata": {
    "colab_type": "text",
    "id": "Wf1S_QSIw0br"
   },
   "source": [
    "### Problem 2 (Harder)\n",
    "\n",
    "In a particular pain clinic, 10% of patients are prescribed narcotic pain killers. Overall, five percent of the clinic’s patients are addicted to narcotics (including pain killers and illegal substances). Out of all the people prescribed pain pills, 8% are addicts. What is the relationship between addiction and pain pill prescriptions?\n",
    "\n",
    "1. What is Bayes Rule for this problem? (write it out symbolically)\n",
    "2. From the above word problem, what values of Bayes Rule do you have? Which ones are missing?\n",
    "3. Calculate the missing values.\n",
    "4. Calculate the posterior probability *distributions* using Bayes Rule.\n",
    "5. Describe what each individual posterior probability means *in words*.\n",
    "\n",
    "(Note: this problem is structured slightly differently than usual. You will need to use Total Probability and the Axioms of Probability as well as solving simultaneous equations to get the answer)."
   ]
  },
  {
   "cell_type": "markdown",
   "metadata": {
    "colab_type": "text",
    "id": "igoRDGJww0bs"
   },
   "source": [
    "1. In general, Bayes Rule can be summarized as <br>\n",
    "`P(B|A) = P(A|B) P(B) / P(A)` <br><br>\n",
    "We can ask what the probability is that a patient is prescribed pain killers given they are an addict. In this case, we would say that <br>\n",
    "\n",
    "`P(patient is prescribed pain killers | patient is addict = P(patient is addict | patient is prescribed pain killers) * P(patient is prescribed pain killers) / P(patient is addict)`"
   ]
  },
  {
   "cell_type": "markdown",
   "metadata": {},
   "source": [
    "2. If we say that `a` is addicts and `~a` is non-addicts, and `p` is prescribed pain killers, while `~p` is not prescribed pain killers, then the info we have is `P(P = p), P(A = a), P(A = a | P = p)`. We are missing the joint probabilities, the marginal probabilities `P(A = ~a)`, `P(P = ~p)`, and the conditional probabilities `P(A = a | P = ~p)`, `P(A = ~a | P = p)`, `P(A = ~a | D = ~p)` and the four where P is conditional given A."
   ]
  },
  {
   "cell_type": "markdown",
   "metadata": {},
   "source": [
    "3. We know that `P(P = p) = 0.10` and `P(A = a) = 0.05`, and `P(A = a | P = p) = 0.08` <br><br>\n",
    "\n",
    "\n",
    "\n",
    "We know `P(A = a | P = p) = 0.08 = P(A = a, D = d) / P(P = p)`, so we can find `P(A = a, D = d)` as `0.08 * 0.10 = 0.008`. We can perform the similar calculations to find each of the four joint distributions, summarized in the table below:\n",
    "\n",
    "\n",
    "```\n",
    "|    | p       | ~p     |\n",
    "|----|------   |------  |\n",
    "|  a | 0.008   | 0.042  |  0.05\n",
    "| ~a | 0.092   |  0.858 |  0.95\n",
    "       0.10      0.90\n",
    "```\n"
   ]
  },
  {
   "cell_type": "markdown",
   "metadata": {},
   "source": [
    "Finally we can look at the conditional probabilities. <br>\n",
    "`P(A = a | P = ~p) = 0.047` and<br>\n",
    "`P(A = ~a | P = p) = 0.92` <br><br>\n",
    "`P(A = ~a | P = ~p) = 0.95` <br>\n",
    "`P(P = p | A = a) = 0.16` <br>\n",
    "`P(P = ~p | A = a) = 0.84` <br>\n",
    "`P(P = p | A = ~a) = 0.0968` <br>\n",
    "`P(P = ~p | A = ~a) = 0.903` <br>"
   ]
  },
  {
   "cell_type": "markdown",
   "metadata": {},
   "source": [
    "4. The posterior probability distributions are <br>\n",
    "`P(P = p | A = a) = (0.08)(0.10) / (0.05) = 0.16` <br>\n",
    "`P(P = ~p | A = a) = (0.047)(0.90) / (0.05) = 0.846` <br>\n",
    "`P(P = p | A = ~a) = (0.92)(0.10) / (0.95) = 0.0968` <br>\n",
    "`P(P = ~p | A = ~a) = (0.95)(0.90) / (0.95) = 0.90` <br>\n"
   ]
  },
  {
   "cell_type": "markdown",
   "metadata": {},
   "source": [
    "5. `P(P = p | A = a)` is the probability a patient is prescribed pain killers, given they are an addict. <br>\n",
    "`P(P = ~p | A = a)` is the probability a patient is not prescribed pain killers, given they are an addict. <br>\n",
    "`P(P = p | A = ~a)` is the probability a patient is prescribed pain killers, given they are not an addict.<br>\n",
    "`P(P = ~p | A = ~a)` is the probability a patient is not prescribed pain killers, given they are not an addict. <br>"
   ]
  },
  {
   "cell_type": "markdown",
   "metadata": {},
   "source": [
    "## Titanic"
   ]
  },
  {
   "cell_type": "code",
   "execution_count": 13,
   "metadata": {},
   "outputs": [],
   "source": [
    "import pandas as pd\n",
    "from pandasql import sqldf\n",
    "import seaborn as sns\n",
    "import matplotlib.pyplot as plt\n",
    "import warnings"
   ]
  },
  {
   "cell_type": "code",
   "execution_count": 14,
   "metadata": {},
   "outputs": [],
   "source": [
    "pysqldf = lambda q: sqldf(q, globals())\n",
    "warnings.filterwarnings('ignore')"
   ]
  },
  {
   "cell_type": "markdown",
   "metadata": {},
   "source": [
    "Make sure you worked through the Titanic case study. This is a continuation of that analysis. *Feel free to copy code blocks from the case study as you see fit*\n",
    "\n",
    "We start by loading the data:"
   ]
  },
  {
   "cell_type": "code",
   "execution_count": 3,
   "metadata": {},
   "outputs": [],
   "source": [
    "titanic = pd.read_csv(\"https://raw.githubusercontent.com/fundamentals-of-data-science/datasets/master/titanic.csv\")"
   ]
  },
  {
   "cell_type": "markdown",
   "metadata": {},
   "source": [
    "Copying the `summarize category` function here"
   ]
  },
  {
   "cell_type": "code",
   "execution_count": 7,
   "metadata": {},
   "outputs": [],
   "source": [
    "from pandas.core.algorithms import value_counts\n",
    "from pandas.core.reshape.concat import concat"
   ]
  },
  {
   "cell_type": "code",
   "execution_count": 8,
   "metadata": {},
   "outputs": [],
   "source": [
    "def summarize_category(series):\n",
    "    res_regu = value_counts(series)\n",
    "    res_norm = value_counts(series, normalize=True)\n",
    "    result = concat([res_regu, res_norm], axis=1, keys=['Count', 'Frequency'])\n",
    "    result = result.sort_index()\n",
    "    return result"
   ]
  },
  {
   "cell_type": "markdown",
   "metadata": {},
   "source": [
    "## Conditional Probabilities\n",
    "\n",
    "1. Calculate $P(survived|parch)$\n",
    "\n",
    "(Remember...every \"calculation\" includes discuss/code/discuss. In this case, describe what the conditional probability is, what you expect to see, calculate it, and then discuss the results relative to your hypothesized values)."
   ]
  },
  {
   "cell_type": "code",
   "execution_count": 4,
   "metadata": {},
   "outputs": [
    {
     "name": "stdout",
     "output_type": "stream",
     "text": [
      "<class 'pandas.core.frame.DataFrame'>\n",
      "RangeIndex: 1310 entries, 0 to 1309\n",
      "Data columns (total 14 columns):\n",
      " #   Column     Non-Null Count  Dtype  \n",
      "---  ------     --------------  -----  \n",
      " 0   pclass     1309 non-null   float64\n",
      " 1   survived   1309 non-null   float64\n",
      " 2   name       1309 non-null   object \n",
      " 3   sex        1309 non-null   object \n",
      " 4   age        1046 non-null   float64\n",
      " 5   sibsp      1309 non-null   float64\n",
      " 6   parch      1309 non-null   float64\n",
      " 7   ticket     1309 non-null   object \n",
      " 8   fare       1308 non-null   float64\n",
      " 9   cabin      295 non-null    object \n",
      " 10  embarked   1307 non-null   object \n",
      " 11  boat       486 non-null    object \n",
      " 12  body       121 non-null    float64\n",
      " 13  home.dest  745 non-null    object \n",
      "dtypes: float64(7), object(7)\n",
      "memory usage: 143.4+ KB\n"
     ]
    }
   ],
   "source": [
    "titanic.info()"
   ]
  },
  {
   "cell_type": "markdown",
   "metadata": {},
   "source": [
    "We can look at a summary of the survivors and parch using the `summarize_category` function created above."
   ]
  },
  {
   "cell_type": "code",
   "execution_count": 16,
   "metadata": {},
   "outputs": [
    {
     "data": {
      "text/html": [
       "<div>\n",
       "<style scoped>\n",
       "    .dataframe tbody tr th:only-of-type {\n",
       "        vertical-align: middle;\n",
       "    }\n",
       "\n",
       "    .dataframe tbody tr th {\n",
       "        vertical-align: top;\n",
       "    }\n",
       "\n",
       "    .dataframe thead th {\n",
       "        text-align: right;\n",
       "    }\n",
       "</style>\n",
       "<table border=\"1\" class=\"dataframe\">\n",
       "  <thead>\n",
       "    <tr style=\"text-align: right;\">\n",
       "      <th></th>\n",
       "      <th>Count</th>\n",
       "      <th>Frequency</th>\n",
       "    </tr>\n",
       "    <tr>\n",
       "      <th>parch</th>\n",
       "      <th></th>\n",
       "      <th></th>\n",
       "    </tr>\n",
       "  </thead>\n",
       "  <tbody>\n",
       "    <tr>\n",
       "      <th>0.0</th>\n",
       "      <td>1002</td>\n",
       "      <td>0.765470</td>\n",
       "    </tr>\n",
       "    <tr>\n",
       "      <th>1.0</th>\n",
       "      <td>170</td>\n",
       "      <td>0.129870</td>\n",
       "    </tr>\n",
       "    <tr>\n",
       "      <th>2.0</th>\n",
       "      <td>113</td>\n",
       "      <td>0.086325</td>\n",
       "    </tr>\n",
       "    <tr>\n",
       "      <th>3.0</th>\n",
       "      <td>8</td>\n",
       "      <td>0.006112</td>\n",
       "    </tr>\n",
       "    <tr>\n",
       "      <th>4.0</th>\n",
       "      <td>6</td>\n",
       "      <td>0.004584</td>\n",
       "    </tr>\n",
       "    <tr>\n",
       "      <th>5.0</th>\n",
       "      <td>6</td>\n",
       "      <td>0.004584</td>\n",
       "    </tr>\n",
       "    <tr>\n",
       "      <th>6.0</th>\n",
       "      <td>2</td>\n",
       "      <td>0.001528</td>\n",
       "    </tr>\n",
       "    <tr>\n",
       "      <th>9.0</th>\n",
       "      <td>2</td>\n",
       "      <td>0.001528</td>\n",
       "    </tr>\n",
       "  </tbody>\n",
       "</table>\n",
       "</div>"
      ],
      "text/plain": [
       "       Count  Frequency\n",
       "parch                  \n",
       "0.0     1002   0.765470\n",
       "1.0      170   0.129870\n",
       "2.0      113   0.086325\n",
       "3.0        8   0.006112\n",
       "4.0        6   0.004584\n",
       "5.0        6   0.004584\n",
       "6.0        2   0.001528\n",
       "9.0        2   0.001528"
      ]
     },
     "execution_count": 16,
     "metadata": {},
     "output_type": "execute_result"
    }
   ],
   "source": [
    "parch_counts = summarize_category(titanic['parch'])\n",
    "\n",
    "parch_counts"
   ]
  },
  {
   "cell_type": "code",
   "execution_count": 17,
   "metadata": {},
   "outputs": [
    {
     "data": {
      "text/html": [
       "<div>\n",
       "<style scoped>\n",
       "    .dataframe tbody tr th:only-of-type {\n",
       "        vertical-align: middle;\n",
       "    }\n",
       "\n",
       "    .dataframe tbody tr th {\n",
       "        vertical-align: top;\n",
       "    }\n",
       "\n",
       "    .dataframe thead th {\n",
       "        text-align: right;\n",
       "    }\n",
       "</style>\n",
       "<table border=\"1\" class=\"dataframe\">\n",
       "  <thead>\n",
       "    <tr style=\"text-align: right;\">\n",
       "      <th></th>\n",
       "      <th>Count</th>\n",
       "      <th>Frequency</th>\n",
       "    </tr>\n",
       "    <tr>\n",
       "      <th>survived</th>\n",
       "      <th></th>\n",
       "      <th></th>\n",
       "    </tr>\n",
       "  </thead>\n",
       "  <tbody>\n",
       "    <tr>\n",
       "      <th>0.0</th>\n",
       "      <td>809</td>\n",
       "      <td>0.618029</td>\n",
       "    </tr>\n",
       "    <tr>\n",
       "      <th>1.0</th>\n",
       "      <td>500</td>\n",
       "      <td>0.381971</td>\n",
       "    </tr>\n",
       "  </tbody>\n",
       "</table>\n",
       "</div>"
      ],
      "text/plain": [
       "          Count  Frequency\n",
       "survived                  \n",
       "0.0         809   0.618029\n",
       "1.0         500   0.381971"
      ]
     },
     "execution_count": 17,
     "metadata": {},
     "output_type": "execute_result"
    }
   ],
   "source": [
    "survivor_counts = summarize_category(titanic['survived'])\n",
    "survivor_counts"
   ]
  },
  {
   "cell_type": "markdown",
   "metadata": {},
   "source": [
    "We see that the number of passengers who survived is 500 of 1309, while the number of single passengers was 1002 out of 1309 total. We are interested in the probability that a passenger survived, given they were a parent/child on board (did not board as a single family member). <br>\n",
    "From our output above, we know that the marginal probabilities a passenger was single was 77%, while passengers with parents/children was about 23%. Similarly, the probability that a passenger survived was 38%, and did not survive was 62%. We can find the conditional probabilities using the `crosstab` method with pandas."
   ]
  },
  {
   "cell_type": "code",
   "execution_count": 19,
   "metadata": {},
   "outputs": [
    {
     "data": {
      "text/html": [
       "<div>\n",
       "<style scoped>\n",
       "    .dataframe tbody tr th:only-of-type {\n",
       "        vertical-align: middle;\n",
       "    }\n",
       "\n",
       "    .dataframe tbody tr th {\n",
       "        vertical-align: top;\n",
       "    }\n",
       "\n",
       "    .dataframe thead th {\n",
       "        text-align: right;\n",
       "    }\n",
       "</style>\n",
       "<table border=\"1\" class=\"dataframe\">\n",
       "  <thead>\n",
       "    <tr style=\"text-align: right;\">\n",
       "      <th>survived</th>\n",
       "      <th>0.0</th>\n",
       "      <th>1.0</th>\n",
       "    </tr>\n",
       "    <tr>\n",
       "      <th>parch</th>\n",
       "      <th></th>\n",
       "      <th></th>\n",
       "    </tr>\n",
       "  </thead>\n",
       "  <tbody>\n",
       "    <tr>\n",
       "      <th>0.0</th>\n",
       "      <td>0.664671</td>\n",
       "      <td>0.335329</td>\n",
       "    </tr>\n",
       "    <tr>\n",
       "      <th>1.0</th>\n",
       "      <td>0.411765</td>\n",
       "      <td>0.588235</td>\n",
       "    </tr>\n",
       "    <tr>\n",
       "      <th>2.0</th>\n",
       "      <td>0.495575</td>\n",
       "      <td>0.504425</td>\n",
       "    </tr>\n",
       "    <tr>\n",
       "      <th>3.0</th>\n",
       "      <td>0.375000</td>\n",
       "      <td>0.625000</td>\n",
       "    </tr>\n",
       "    <tr>\n",
       "      <th>4.0</th>\n",
       "      <td>0.833333</td>\n",
       "      <td>0.166667</td>\n",
       "    </tr>\n",
       "    <tr>\n",
       "      <th>5.0</th>\n",
       "      <td>0.833333</td>\n",
       "      <td>0.166667</td>\n",
       "    </tr>\n",
       "    <tr>\n",
       "      <th>6.0</th>\n",
       "      <td>1.000000</td>\n",
       "      <td>0.000000</td>\n",
       "    </tr>\n",
       "    <tr>\n",
       "      <th>9.0</th>\n",
       "      <td>1.000000</td>\n",
       "      <td>0.000000</td>\n",
       "    </tr>\n",
       "  </tbody>\n",
       "</table>\n",
       "</div>"
      ],
      "text/plain": [
       "survived       0.0       1.0\n",
       "parch                       \n",
       "0.0       0.664671  0.335329\n",
       "1.0       0.411765  0.588235\n",
       "2.0       0.495575  0.504425\n",
       "3.0       0.375000  0.625000\n",
       "4.0       0.833333  0.166667\n",
       "5.0       0.833333  0.166667\n",
       "6.0       1.000000  0.000000\n",
       "9.0       1.000000  0.000000"
      ]
     },
     "execution_count": 19,
     "metadata": {},
     "output_type": "execute_result"
    }
   ],
   "source": [
    "pd.crosstab(titanic['parch'], titanic['survived'], normalize='index')"
   ]
  },
  {
   "cell_type": "markdown",
   "metadata": {},
   "source": [
    "We can start with `P(survived = 1.0 | parch = 0.0) = 33.5%` and `P(survived = 0.0 | parch =0.0) = 66.4%`. From here we can find the joint probabilities as well."
   ]
  },
  {
   "cell_type": "markdown",
   "metadata": {},
   "source": [
    "Using a table as we did for the previous problems will help us visualize the data. We can start with the passengers who were single and survived - the joint probability is <br>\n",
    "`P(survived | single) = P(survived, single) / P(single)`. Rearranging to find <br>\n",
    "`P(survived, single) = 0.335 * 0.765 = 0.256`. From here, we can fill in the rest of the joint probabilities easily:  \n",
    "\n",
    "\n",
    "```\n",
    "|        | survived   | ~survived |\n",
    "|----    |------      |------     |\n",
    "|  parch |  0.126     | 0.108     |  0.234\n",
    "| ~parch |  0.256     | 0.509     |  0.765\n",
    "            0.382       0.618\n",
    "```"
   ]
  },
  {
   "cell_type": "markdown",
   "metadata": {},
   "source": [
    "Finally, we can calculate `P(survived | parch) = 0.126 / 0.234 = 0.538, or 54%`."
   ]
  },
  {
   "cell_type": "markdown",
   "metadata": {},
   "source": [
    "2. Calculate $P(survived|fare)$"
   ]
  },
  {
   "cell_type": "markdown",
   "metadata": {},
   "source": [
    "Similar to above, we can create a table to show the joint probabilities between passengers who survived and fare. Because there is a range of fare, we will need to discretize."
   ]
  },
  {
   "cell_type": "code",
   "execution_count": 22,
   "metadata": {},
   "outputs": [
    {
     "data": {
      "text/html": [
       "<div>\n",
       "<style scoped>\n",
       "    .dataframe tbody tr th:only-of-type {\n",
       "        vertical-align: middle;\n",
       "    }\n",
       "\n",
       "    .dataframe tbody tr th {\n",
       "        vertical-align: top;\n",
       "    }\n",
       "\n",
       "    .dataframe thead th {\n",
       "        text-align: right;\n",
       "    }\n",
       "</style>\n",
       "<table border=\"1\" class=\"dataframe\">\n",
       "  <thead>\n",
       "    <tr style=\"text-align: right;\">\n",
       "      <th></th>\n",
       "      <th>fare</th>\n",
       "    </tr>\n",
       "  </thead>\n",
       "  <tbody>\n",
       "    <tr>\n",
       "      <th>count</th>\n",
       "      <td>1308.000000</td>\n",
       "    </tr>\n",
       "    <tr>\n",
       "      <th>mean</th>\n",
       "      <td>33.295479</td>\n",
       "    </tr>\n",
       "    <tr>\n",
       "      <th>std</th>\n",
       "      <td>51.758668</td>\n",
       "    </tr>\n",
       "    <tr>\n",
       "      <th>min</th>\n",
       "      <td>0.000000</td>\n",
       "    </tr>\n",
       "    <tr>\n",
       "      <th>25%</th>\n",
       "      <td>7.895800</td>\n",
       "    </tr>\n",
       "    <tr>\n",
       "      <th>50%</th>\n",
       "      <td>14.454200</td>\n",
       "    </tr>\n",
       "    <tr>\n",
       "      <th>75%</th>\n",
       "      <td>31.275000</td>\n",
       "    </tr>\n",
       "    <tr>\n",
       "      <th>max</th>\n",
       "      <td>512.329200</td>\n",
       "    </tr>\n",
       "  </tbody>\n",
       "</table>\n",
       "</div>"
      ],
      "text/plain": [
       "              fare\n",
       "count  1308.000000\n",
       "mean     33.295479\n",
       "std      51.758668\n",
       "min       0.000000\n",
       "25%       7.895800\n",
       "50%      14.454200\n",
       "75%      31.275000\n",
       "max     512.329200"
      ]
     },
     "execution_count": 22,
     "metadata": {},
     "output_type": "execute_result"
    }
   ],
   "source": [
    "pd.DataFrame(titanic['fare'].describe())"
   ]
  },
  {
   "cell_type": "code",
   "execution_count": 24,
   "metadata": {},
   "outputs": [
    {
     "data": {
      "text/html": [
       "<div>\n",
       "<style scoped>\n",
       "    .dataframe tbody tr th:only-of-type {\n",
       "        vertical-align: middle;\n",
       "    }\n",
       "\n",
       "    .dataframe tbody tr th {\n",
       "        vertical-align: top;\n",
       "    }\n",
       "\n",
       "    .dataframe thead th {\n",
       "        text-align: right;\n",
       "    }\n",
       "</style>\n",
       "<table border=\"1\" class=\"dataframe\">\n",
       "  <thead>\n",
       "    <tr style=\"text-align: right;\">\n",
       "      <th></th>\n",
       "      <th>Count</th>\n",
       "      <th>Frequency</th>\n",
       "    </tr>\n",
       "    <tr>\n",
       "      <th>fare_range</th>\n",
       "      <th></th>\n",
       "      <th></th>\n",
       "    </tr>\n",
       "  </thead>\n",
       "  <tbody>\n",
       "    <tr>\n",
       "      <th>0.0</th>\n",
       "      <td>1224</td>\n",
       "      <td>0.935780</td>\n",
       "    </tr>\n",
       "    <tr>\n",
       "      <th>100.0</th>\n",
       "      <td>46</td>\n",
       "      <td>0.035168</td>\n",
       "    </tr>\n",
       "    <tr>\n",
       "      <th>200.0</th>\n",
       "      <td>34</td>\n",
       "      <td>0.025994</td>\n",
       "    </tr>\n",
       "    <tr>\n",
       "      <th>500.0</th>\n",
       "      <td>4</td>\n",
       "      <td>0.003058</td>\n",
       "    </tr>\n",
       "  </tbody>\n",
       "</table>\n",
       "</div>"
      ],
      "text/plain": [
       "            Count  Frequency\n",
       "fare_range                  \n",
       "0.0          1224   0.935780\n",
       "100.0          46   0.035168\n",
       "200.0          34   0.025994\n",
       "500.0           4   0.003058"
      ]
     },
     "execution_count": 24,
     "metadata": {},
     "output_type": "execute_result"
    }
   ],
   "source": [
    "titanic['fare_range'] = (titanic['fare'] // 100) * 100\n",
    "summarize_category(titanic['fare_range'])"
   ]
  },
  {
   "cell_type": "markdown",
   "metadata": {},
   "source": [
    "Now we can look at the conditional probabilities."
   ]
  },
  {
   "cell_type": "code",
   "execution_count": 25,
   "metadata": {},
   "outputs": [
    {
     "data": {
      "text/html": [
       "<div>\n",
       "<style scoped>\n",
       "    .dataframe tbody tr th:only-of-type {\n",
       "        vertical-align: middle;\n",
       "    }\n",
       "\n",
       "    .dataframe tbody tr th {\n",
       "        vertical-align: top;\n",
       "    }\n",
       "\n",
       "    .dataframe thead th {\n",
       "        text-align: right;\n",
       "    }\n",
       "</style>\n",
       "<table border=\"1\" class=\"dataframe\">\n",
       "  <thead>\n",
       "    <tr style=\"text-align: right;\">\n",
       "      <th>survived</th>\n",
       "      <th>0.0</th>\n",
       "      <th>1.0</th>\n",
       "    </tr>\n",
       "    <tr>\n",
       "      <th>fare_range</th>\n",
       "      <th></th>\n",
       "      <th></th>\n",
       "    </tr>\n",
       "  </thead>\n",
       "  <tbody>\n",
       "    <tr>\n",
       "      <th>0.0</th>\n",
       "      <td>0.640523</td>\n",
       "      <td>0.359477</td>\n",
       "    </tr>\n",
       "    <tr>\n",
       "      <th>100.0</th>\n",
       "      <td>0.260870</td>\n",
       "      <td>0.739130</td>\n",
       "    </tr>\n",
       "    <tr>\n",
       "      <th>200.0</th>\n",
       "      <td>0.352941</td>\n",
       "      <td>0.647059</td>\n",
       "    </tr>\n",
       "    <tr>\n",
       "      <th>500.0</th>\n",
       "      <td>0.000000</td>\n",
       "      <td>1.000000</td>\n",
       "    </tr>\n",
       "  </tbody>\n",
       "</table>\n",
       "</div>"
      ],
      "text/plain": [
       "survived         0.0       1.0\n",
       "fare_range                    \n",
       "0.0         0.640523  0.359477\n",
       "100.0       0.260870  0.739130\n",
       "200.0       0.352941  0.647059\n",
       "500.0       0.000000  1.000000"
      ]
     },
     "execution_count": 25,
     "metadata": {},
     "output_type": "execute_result"
    }
   ],
   "source": [
    "pd.crosstab(titanic['fare_range'], titanic['survived'], normalize='index')"
   ]
  },
  {
   "cell_type": "markdown",
   "metadata": {},
   "source": [
    "So for example, to calculate our joint probability `P(survived, fare = 0.0)`, we would simly multiply `P(survived | fare=0.0)* P(fare=0.0) = 0.359 * 0.936 = 0.336`. Following this pattern, our table then becomes:\n",
    "\n",
    "\n",
    "```\n",
    "|            | survived   | ~survived |\n",
    "|----        |------      |------     |\n",
    "| fare 0.0   |   0.336    |  0.6      |  0.936\n",
    "| fare 100.0 |   0.026    |  0.009    |  0.035\n",
    "| fare 200.0 |   0.0168   |  0.0082   |  0.025\n",
    "| fare 500.0 |   0.003    |  0.00     |  0.003\n",
    "                 0.382       0.618\n",
    "```"
   ]
  },
  {
   "cell_type": "markdown",
   "metadata": {},
   "source": [
    "From here we can easily calculate any of the conditional probabilities. For example, `P(survived = 1.0 | fare = 100.0) = 0.026 / 0.035 = 0.743`. Note there will be some rounding errors here."
   ]
  },
  {
   "cell_type": "markdown",
   "metadata": {},
   "source": [
    "## Naive Bayes Classifier"
   ]
  },
  {
   "cell_type": "code",
   "execution_count": 26,
   "metadata": {},
   "outputs": [],
   "source": [
    "from sklearn.naive_bayes import CategoricalNB\n",
    "from sklearn.preprocessing import OrdinalEncoder"
   ]
  },
  {
   "cell_type": "markdown",
   "metadata": {},
   "source": [
    "1. Calculate the Naive Bayes Classifier for $P(survived|pclass, sex, decade, parch, sibsp)$ and make 5 predictions.\n",
    "\n",
    "(Remember...discuss/code/discuss. This is especially true for the predictions...when you make up each passenger, do you expect them to survive or perish?)"
   ]
  },
  {
   "cell_type": "markdown",
   "metadata": {},
   "source": [
    "We know that for Naive Bayes Classifier, we can calculate each prior probability for the target variable, as we assume each feature is independent. First we discretize the age (as decade):"
   ]
  },
  {
   "cell_type": "code",
   "execution_count": 28,
   "metadata": {},
   "outputs": [
    {
     "data": {
      "text/html": [
       "<div>\n",
       "<style scoped>\n",
       "    .dataframe tbody tr th:only-of-type {\n",
       "        vertical-align: middle;\n",
       "    }\n",
       "\n",
       "    .dataframe tbody tr th {\n",
       "        vertical-align: top;\n",
       "    }\n",
       "\n",
       "    .dataframe thead th {\n",
       "        text-align: right;\n",
       "    }\n",
       "</style>\n",
       "<table border=\"1\" class=\"dataframe\">\n",
       "  <thead>\n",
       "    <tr style=\"text-align: right;\">\n",
       "      <th></th>\n",
       "      <th>Count</th>\n",
       "      <th>Frequency</th>\n",
       "    </tr>\n",
       "    <tr>\n",
       "      <th>decade</th>\n",
       "      <th></th>\n",
       "      <th></th>\n",
       "    </tr>\n",
       "  </thead>\n",
       "  <tbody>\n",
       "    <tr>\n",
       "      <th>0.0</th>\n",
       "      <td>82</td>\n",
       "      <td>0.078394</td>\n",
       "    </tr>\n",
       "    <tr>\n",
       "      <th>10.0</th>\n",
       "      <td>143</td>\n",
       "      <td>0.136711</td>\n",
       "    </tr>\n",
       "    <tr>\n",
       "      <th>20.0</th>\n",
       "      <td>344</td>\n",
       "      <td>0.328872</td>\n",
       "    </tr>\n",
       "    <tr>\n",
       "      <th>30.0</th>\n",
       "      <td>232</td>\n",
       "      <td>0.221797</td>\n",
       "    </tr>\n",
       "    <tr>\n",
       "      <th>40.0</th>\n",
       "      <td>135</td>\n",
       "      <td>0.129063</td>\n",
       "    </tr>\n",
       "    <tr>\n",
       "      <th>50.0</th>\n",
       "      <td>70</td>\n",
       "      <td>0.066922</td>\n",
       "    </tr>\n",
       "    <tr>\n",
       "      <th>60.0</th>\n",
       "      <td>32</td>\n",
       "      <td>0.030593</td>\n",
       "    </tr>\n",
       "    <tr>\n",
       "      <th>70.0</th>\n",
       "      <td>7</td>\n",
       "      <td>0.006692</td>\n",
       "    </tr>\n",
       "    <tr>\n",
       "      <th>80.0</th>\n",
       "      <td>1</td>\n",
       "      <td>0.000956</td>\n",
       "    </tr>\n",
       "  </tbody>\n",
       "</table>\n",
       "</div>"
      ],
      "text/plain": [
       "        Count  Frequency\n",
       "decade                  \n",
       "0.0        82   0.078394\n",
       "10.0      143   0.136711\n",
       "20.0      344   0.328872\n",
       "30.0      232   0.221797\n",
       "40.0      135   0.129063\n",
       "50.0       70   0.066922\n",
       "60.0       32   0.030593\n",
       "70.0        7   0.006692\n",
       "80.0        1   0.000956"
      ]
     },
     "execution_count": 28,
     "metadata": {},
     "output_type": "execute_result"
    }
   ],
   "source": [
    "titanic['decade'] = (titanic['age'] // 10) * 10\n",
    "summarize_category(titanic['decade'])"
   ]
  },
  {
   "cell_type": "markdown",
   "metadata": {},
   "source": [
    "Copying the conditional probability function here"
   ]
  },
  {
   "cell_type": "code",
   "execution_count": 44,
   "metadata": {},
   "outputs": [],
   "source": [
    "def conditional_probability(df, target, givens, cell=\"index\"):\n",
    "    \"\"\"\n",
    "    calculates a simple conditional probability (only one target variable) based off of:\n",
    "    https://stackoverflow.com/questions/54040923/change-order-of-pandas-multiindex\n",
    "    \n",
    "    P(target|givens...)\n",
    "    \n",
    "    df: the DataFrame to use for the calculation\n",
    "    target: the string name of the target variable\n",
    "    givens: a string or List of strings that represent the \"givens\"\n",
    "    cell: a column that is neither target nor givens to \"count\". Should be a column without NA.\n",
    "    \n",
    "    The default assumes you have added a column: df[\"index\"] = df.index to your DataFrame.\n",
    "    \"\"\"\n",
    "    if isinstance(givens, str):\n",
    "        givens = [givens]\n",
    "    print(f\"P({target}|{', '.join(givens)})\")\n",
    "    columns = [target] + givens\n",
    "    # handling multiple targets would require a more sophisticated join.\n",
    "    result = (df.groupby(columns).count() / df.groupby(givens).count())[cell]\n",
    "    # this makes sure the target is always the column\n",
    "    result = result.reorder_levels(givens + [target]).sort_index()\n",
    "    # this flattens the hiearchical index and should fill in missing values.\n",
    "    result = result.unstack(fill_value=0.0)\n",
    "    return pd.DataFrame(result)"
   ]
  },
  {
   "cell_type": "markdown",
   "metadata": {},
   "source": [
    "We can calculate the conditional probability of survival."
   ]
  },
  {
   "cell_type": "code",
   "execution_count": 93,
   "metadata": {},
   "outputs": [
    {
     "name": "stdout",
     "output_type": "stream",
     "text": [
      "P(survived|pclass, sex, decade, parch, sibsp)\n"
     ]
    },
    {
     "data": {
      "text/html": [
       "<div>\n",
       "<style scoped>\n",
       "    .dataframe tbody tr th:only-of-type {\n",
       "        vertical-align: middle;\n",
       "    }\n",
       "\n",
       "    .dataframe tbody tr th {\n",
       "        vertical-align: top;\n",
       "    }\n",
       "\n",
       "    .dataframe thead th {\n",
       "        text-align: right;\n",
       "    }\n",
       "</style>\n",
       "<table border=\"1\" class=\"dataframe\">\n",
       "  <thead>\n",
       "    <tr style=\"text-align: right;\">\n",
       "      <th></th>\n",
       "      <th></th>\n",
       "      <th></th>\n",
       "      <th></th>\n",
       "      <th>survived</th>\n",
       "      <th>0.0</th>\n",
       "      <th>1.0</th>\n",
       "    </tr>\n",
       "    <tr>\n",
       "      <th>pclass</th>\n",
       "      <th>sex</th>\n",
       "      <th>decade</th>\n",
       "      <th>parch</th>\n",
       "      <th>sibsp</th>\n",
       "      <th></th>\n",
       "      <th></th>\n",
       "    </tr>\n",
       "  </thead>\n",
       "  <tbody>\n",
       "    <tr>\n",
       "      <th rowspan=\"5\" valign=\"top\">1.0</th>\n",
       "      <th rowspan=\"5\" valign=\"top\">female</th>\n",
       "      <th>0.0</th>\n",
       "      <th>2.0</th>\n",
       "      <th>1.0</th>\n",
       "      <td>1.0</td>\n",
       "      <td>0.0</td>\n",
       "    </tr>\n",
       "    <tr>\n",
       "      <th rowspan=\"4\" valign=\"top\">10.0</th>\n",
       "      <th rowspan=\"3\" valign=\"top\">2.0</th>\n",
       "      <th>0.0</th>\n",
       "      <td>0.0</td>\n",
       "      <td>1.0</td>\n",
       "    </tr>\n",
       "    <tr>\n",
       "      <th>1.0</th>\n",
       "      <td>0.0</td>\n",
       "      <td>1.0</td>\n",
       "    </tr>\n",
       "    <tr>\n",
       "      <th>2.0</th>\n",
       "      <td>0.0</td>\n",
       "      <td>1.0</td>\n",
       "    </tr>\n",
       "    <tr>\n",
       "      <th>0.0</th>\n",
       "      <th>0.0</th>\n",
       "      <td>0.0</td>\n",
       "      <td>1.0</td>\n",
       "    </tr>\n",
       "    <tr>\n",
       "      <th>...</th>\n",
       "      <th>...</th>\n",
       "      <th>...</th>\n",
       "      <th>...</th>\n",
       "      <th>...</th>\n",
       "      <td>...</td>\n",
       "      <td>...</td>\n",
       "    </tr>\n",
       "    <tr>\n",
       "      <th rowspan=\"5\" valign=\"top\">3.0</th>\n",
       "      <th rowspan=\"5\" valign=\"top\">male</th>\n",
       "      <th>40.0</th>\n",
       "      <th>6.0</th>\n",
       "      <th>1.0</th>\n",
       "      <td>1.0</td>\n",
       "      <td>0.0</td>\n",
       "    </tr>\n",
       "    <tr>\n",
       "      <th rowspan=\"2\" valign=\"top\">50.0</th>\n",
       "      <th rowspan=\"2\" valign=\"top\">0.0</th>\n",
       "      <th>0.0</th>\n",
       "      <td>1.0</td>\n",
       "      <td>0.0</td>\n",
       "    </tr>\n",
       "    <tr>\n",
       "      <th>1.0</th>\n",
       "      <td>1.0</td>\n",
       "      <td>0.0</td>\n",
       "    </tr>\n",
       "    <tr>\n",
       "      <th>60.0</th>\n",
       "      <th>0.0</th>\n",
       "      <th>0.0</th>\n",
       "      <td>1.0</td>\n",
       "      <td>0.0</td>\n",
       "    </tr>\n",
       "    <tr>\n",
       "      <th>70.0</th>\n",
       "      <th>0.0</th>\n",
       "      <th>0.0</th>\n",
       "      <td>1.0</td>\n",
       "      <td>0.0</td>\n",
       "    </tr>\n",
       "  </tbody>\n",
       "</table>\n",
       "<p>230 rows × 2 columns</p>\n",
       "</div>"
      ],
      "text/plain": [
       "survived                          0.0  1.0\n",
       "pclass sex    decade parch sibsp          \n",
       "1.0    female 0.0    2.0   1.0    1.0  0.0\n",
       "              10.0   2.0   0.0    0.0  1.0\n",
       "                           1.0    0.0  1.0\n",
       "                           2.0    0.0  1.0\n",
       "                     0.0   0.0    0.0  1.0\n",
       "...                               ...  ...\n",
       "3.0    male   40.0   6.0   1.0    1.0  0.0\n",
       "              50.0   0.0   0.0    1.0  0.0\n",
       "                           1.0    1.0  0.0\n",
       "              60.0   0.0   0.0    1.0  0.0\n",
       "              70.0   0.0   0.0    1.0  0.0\n",
       "\n",
       "[230 rows x 2 columns]"
      ]
     },
     "execution_count": 93,
     "metadata": {},
     "output_type": "execute_result"
    }
   ],
   "source": [
    "survived_bayes = conditional_probability(titanic, 'survived', ['pclass', 'sex', 'decade', 'parch', 'sibsp'], 'name')\n",
    "survived_bayes"
   ]
  },
  {
   "cell_type": "markdown",
   "metadata": {},
   "source": [
    "Using the scikit-learn tools to create pseudocounts for missing data, as in Fundamentals, chapter 4."
   ]
  },
  {
   "cell_type": "code",
   "execution_count": 61,
   "metadata": {},
   "outputs": [
    {
     "data": {
      "text/plain": [
       "[array([1., 2., 3.]),\n",
       " array(['female', 'male'], dtype=object),\n",
       " array([ 0., 10., 20., 30., 40., 50., 60., 70., 80.]),\n",
       " array([0., 1., 2., 3., 4., 5., 6.]),\n",
       " array([0., 1., 2., 3., 4., 5., 8.])]"
      ]
     },
     "execution_count": 61,
     "metadata": {},
     "output_type": "execute_result"
    }
   ],
   "source": [
    "clf = CategoricalNB()\n",
    "encoder = OrdinalEncoder()\n",
    "with_age = titanic[titanic['age'].notnull()]\n",
    "\n",
    "encoder.fit(with_age[['pclass', 'sex', 'decade', 'parch', 'sibsp']])\n",
    "encoder.categories_"
   ]
  },
  {
   "cell_type": "markdown",
   "metadata": {},
   "source": [
    "Now we can fit the classifier with the specified features."
   ]
  },
  {
   "cell_type": "code",
   "execution_count": 62,
   "metadata": {},
   "outputs": [
    {
     "data": {
      "text/html": [
       "<style>#sk-container-id-2 {\n",
       "  /* Definition of color scheme common for light and dark mode */\n",
       "  --sklearn-color-text: black;\n",
       "  --sklearn-color-line: gray;\n",
       "  /* Definition of color scheme for unfitted estimators */\n",
       "  --sklearn-color-unfitted-level-0: #fff5e6;\n",
       "  --sklearn-color-unfitted-level-1: #f6e4d2;\n",
       "  --sklearn-color-unfitted-level-2: #ffe0b3;\n",
       "  --sklearn-color-unfitted-level-3: chocolate;\n",
       "  /* Definition of color scheme for fitted estimators */\n",
       "  --sklearn-color-fitted-level-0: #f0f8ff;\n",
       "  --sklearn-color-fitted-level-1: #d4ebff;\n",
       "  --sklearn-color-fitted-level-2: #b3dbfd;\n",
       "  --sklearn-color-fitted-level-3: cornflowerblue;\n",
       "\n",
       "  /* Specific color for light theme */\n",
       "  --sklearn-color-text-on-default-background: var(--sg-text-color, var(--theme-code-foreground, var(--jp-content-font-color1, black)));\n",
       "  --sklearn-color-background: var(--sg-background-color, var(--theme-background, var(--jp-layout-color0, white)));\n",
       "  --sklearn-color-border-box: var(--sg-text-color, var(--theme-code-foreground, var(--jp-content-font-color1, black)));\n",
       "  --sklearn-color-icon: #696969;\n",
       "\n",
       "  @media (prefers-color-scheme: dark) {\n",
       "    /* Redefinition of color scheme for dark theme */\n",
       "    --sklearn-color-text-on-default-background: var(--sg-text-color, var(--theme-code-foreground, var(--jp-content-font-color1, white)));\n",
       "    --sklearn-color-background: var(--sg-background-color, var(--theme-background, var(--jp-layout-color0, #111)));\n",
       "    --sklearn-color-border-box: var(--sg-text-color, var(--theme-code-foreground, var(--jp-content-font-color1, white)));\n",
       "    --sklearn-color-icon: #878787;\n",
       "  }\n",
       "}\n",
       "\n",
       "#sk-container-id-2 {\n",
       "  color: var(--sklearn-color-text);\n",
       "}\n",
       "\n",
       "#sk-container-id-2 pre {\n",
       "  padding: 0;\n",
       "}\n",
       "\n",
       "#sk-container-id-2 input.sk-hidden--visually {\n",
       "  border: 0;\n",
       "  clip: rect(1px 1px 1px 1px);\n",
       "  clip: rect(1px, 1px, 1px, 1px);\n",
       "  height: 1px;\n",
       "  margin: -1px;\n",
       "  overflow: hidden;\n",
       "  padding: 0;\n",
       "  position: absolute;\n",
       "  width: 1px;\n",
       "}\n",
       "\n",
       "#sk-container-id-2 div.sk-dashed-wrapped {\n",
       "  border: 1px dashed var(--sklearn-color-line);\n",
       "  margin: 0 0.4em 0.5em 0.4em;\n",
       "  box-sizing: border-box;\n",
       "  padding-bottom: 0.4em;\n",
       "  background-color: var(--sklearn-color-background);\n",
       "}\n",
       "\n",
       "#sk-container-id-2 div.sk-container {\n",
       "  /* jupyter's `normalize.less` sets `[hidden] { display: none; }`\n",
       "     but bootstrap.min.css set `[hidden] { display: none !important; }`\n",
       "     so we also need the `!important` here to be able to override the\n",
       "     default hidden behavior on the sphinx rendered scikit-learn.org.\n",
       "     See: https://github.com/scikit-learn/scikit-learn/issues/21755 */\n",
       "  display: inline-block !important;\n",
       "  position: relative;\n",
       "}\n",
       "\n",
       "#sk-container-id-2 div.sk-text-repr-fallback {\n",
       "  display: none;\n",
       "}\n",
       "\n",
       "div.sk-parallel-item,\n",
       "div.sk-serial,\n",
       "div.sk-item {\n",
       "  /* draw centered vertical line to link estimators */\n",
       "  background-image: linear-gradient(var(--sklearn-color-text-on-default-background), var(--sklearn-color-text-on-default-background));\n",
       "  background-size: 2px 100%;\n",
       "  background-repeat: no-repeat;\n",
       "  background-position: center center;\n",
       "}\n",
       "\n",
       "/* Parallel-specific style estimator block */\n",
       "\n",
       "#sk-container-id-2 div.sk-parallel-item::after {\n",
       "  content: \"\";\n",
       "  width: 100%;\n",
       "  border-bottom: 2px solid var(--sklearn-color-text-on-default-background);\n",
       "  flex-grow: 1;\n",
       "}\n",
       "\n",
       "#sk-container-id-2 div.sk-parallel {\n",
       "  display: flex;\n",
       "  align-items: stretch;\n",
       "  justify-content: center;\n",
       "  background-color: var(--sklearn-color-background);\n",
       "  position: relative;\n",
       "}\n",
       "\n",
       "#sk-container-id-2 div.sk-parallel-item {\n",
       "  display: flex;\n",
       "  flex-direction: column;\n",
       "}\n",
       "\n",
       "#sk-container-id-2 div.sk-parallel-item:first-child::after {\n",
       "  align-self: flex-end;\n",
       "  width: 50%;\n",
       "}\n",
       "\n",
       "#sk-container-id-2 div.sk-parallel-item:last-child::after {\n",
       "  align-self: flex-start;\n",
       "  width: 50%;\n",
       "}\n",
       "\n",
       "#sk-container-id-2 div.sk-parallel-item:only-child::after {\n",
       "  width: 0;\n",
       "}\n",
       "\n",
       "/* Serial-specific style estimator block */\n",
       "\n",
       "#sk-container-id-2 div.sk-serial {\n",
       "  display: flex;\n",
       "  flex-direction: column;\n",
       "  align-items: center;\n",
       "  background-color: var(--sklearn-color-background);\n",
       "  padding-right: 1em;\n",
       "  padding-left: 1em;\n",
       "}\n",
       "\n",
       "\n",
       "/* Toggleable style: style used for estimator/Pipeline/ColumnTransformer box that is\n",
       "clickable and can be expanded/collapsed.\n",
       "- Pipeline and ColumnTransformer use this feature and define the default style\n",
       "- Estimators will overwrite some part of the style using the `sk-estimator` class\n",
       "*/\n",
       "\n",
       "/* Pipeline and ColumnTransformer style (default) */\n",
       "\n",
       "#sk-container-id-2 div.sk-toggleable {\n",
       "  /* Default theme specific background. It is overwritten whether we have a\n",
       "  specific estimator or a Pipeline/ColumnTransformer */\n",
       "  background-color: var(--sklearn-color-background);\n",
       "}\n",
       "\n",
       "/* Toggleable label */\n",
       "#sk-container-id-2 label.sk-toggleable__label {\n",
       "  cursor: pointer;\n",
       "  display: block;\n",
       "  width: 100%;\n",
       "  margin-bottom: 0;\n",
       "  padding: 0.5em;\n",
       "  box-sizing: border-box;\n",
       "  text-align: center;\n",
       "}\n",
       "\n",
       "#sk-container-id-2 label.sk-toggleable__label-arrow:before {\n",
       "  /* Arrow on the left of the label */\n",
       "  content: \"▸\";\n",
       "  float: left;\n",
       "  margin-right: 0.25em;\n",
       "  color: var(--sklearn-color-icon);\n",
       "}\n",
       "\n",
       "#sk-container-id-2 label.sk-toggleable__label-arrow:hover:before {\n",
       "  color: var(--sklearn-color-text);\n",
       "}\n",
       "\n",
       "/* Toggleable content - dropdown */\n",
       "\n",
       "#sk-container-id-2 div.sk-toggleable__content {\n",
       "  max-height: 0;\n",
       "  max-width: 0;\n",
       "  overflow: hidden;\n",
       "  text-align: left;\n",
       "  /* unfitted */\n",
       "  background-color: var(--sklearn-color-unfitted-level-0);\n",
       "}\n",
       "\n",
       "#sk-container-id-2 div.sk-toggleable__content.fitted {\n",
       "  /* fitted */\n",
       "  background-color: var(--sklearn-color-fitted-level-0);\n",
       "}\n",
       "\n",
       "#sk-container-id-2 div.sk-toggleable__content pre {\n",
       "  margin: 0.2em;\n",
       "  border-radius: 0.25em;\n",
       "  color: var(--sklearn-color-text);\n",
       "  /* unfitted */\n",
       "  background-color: var(--sklearn-color-unfitted-level-0);\n",
       "}\n",
       "\n",
       "#sk-container-id-2 div.sk-toggleable__content.fitted pre {\n",
       "  /* unfitted */\n",
       "  background-color: var(--sklearn-color-fitted-level-0);\n",
       "}\n",
       "\n",
       "#sk-container-id-2 input.sk-toggleable__control:checked~div.sk-toggleable__content {\n",
       "  /* Expand drop-down */\n",
       "  max-height: 200px;\n",
       "  max-width: 100%;\n",
       "  overflow: auto;\n",
       "}\n",
       "\n",
       "#sk-container-id-2 input.sk-toggleable__control:checked~label.sk-toggleable__label-arrow:before {\n",
       "  content: \"▾\";\n",
       "}\n",
       "\n",
       "/* Pipeline/ColumnTransformer-specific style */\n",
       "\n",
       "#sk-container-id-2 div.sk-label input.sk-toggleable__control:checked~label.sk-toggleable__label {\n",
       "  color: var(--sklearn-color-text);\n",
       "  background-color: var(--sklearn-color-unfitted-level-2);\n",
       "}\n",
       "\n",
       "#sk-container-id-2 div.sk-label.fitted input.sk-toggleable__control:checked~label.sk-toggleable__label {\n",
       "  background-color: var(--sklearn-color-fitted-level-2);\n",
       "}\n",
       "\n",
       "/* Estimator-specific style */\n",
       "\n",
       "/* Colorize estimator box */\n",
       "#sk-container-id-2 div.sk-estimator input.sk-toggleable__control:checked~label.sk-toggleable__label {\n",
       "  /* unfitted */\n",
       "  background-color: var(--sklearn-color-unfitted-level-2);\n",
       "}\n",
       "\n",
       "#sk-container-id-2 div.sk-estimator.fitted input.sk-toggleable__control:checked~label.sk-toggleable__label {\n",
       "  /* fitted */\n",
       "  background-color: var(--sklearn-color-fitted-level-2);\n",
       "}\n",
       "\n",
       "#sk-container-id-2 div.sk-label label.sk-toggleable__label,\n",
       "#sk-container-id-2 div.sk-label label {\n",
       "  /* The background is the default theme color */\n",
       "  color: var(--sklearn-color-text-on-default-background);\n",
       "}\n",
       "\n",
       "/* On hover, darken the color of the background */\n",
       "#sk-container-id-2 div.sk-label:hover label.sk-toggleable__label {\n",
       "  color: var(--sklearn-color-text);\n",
       "  background-color: var(--sklearn-color-unfitted-level-2);\n",
       "}\n",
       "\n",
       "/* Label box, darken color on hover, fitted */\n",
       "#sk-container-id-2 div.sk-label.fitted:hover label.sk-toggleable__label.fitted {\n",
       "  color: var(--sklearn-color-text);\n",
       "  background-color: var(--sklearn-color-fitted-level-2);\n",
       "}\n",
       "\n",
       "/* Estimator label */\n",
       "\n",
       "#sk-container-id-2 div.sk-label label {\n",
       "  font-family: monospace;\n",
       "  font-weight: bold;\n",
       "  display: inline-block;\n",
       "  line-height: 1.2em;\n",
       "}\n",
       "\n",
       "#sk-container-id-2 div.sk-label-container {\n",
       "  text-align: center;\n",
       "}\n",
       "\n",
       "/* Estimator-specific */\n",
       "#sk-container-id-2 div.sk-estimator {\n",
       "  font-family: monospace;\n",
       "  border: 1px dotted var(--sklearn-color-border-box);\n",
       "  border-radius: 0.25em;\n",
       "  box-sizing: border-box;\n",
       "  margin-bottom: 0.5em;\n",
       "  /* unfitted */\n",
       "  background-color: var(--sklearn-color-unfitted-level-0);\n",
       "}\n",
       "\n",
       "#sk-container-id-2 div.sk-estimator.fitted {\n",
       "  /* fitted */\n",
       "  background-color: var(--sklearn-color-fitted-level-0);\n",
       "}\n",
       "\n",
       "/* on hover */\n",
       "#sk-container-id-2 div.sk-estimator:hover {\n",
       "  /* unfitted */\n",
       "  background-color: var(--sklearn-color-unfitted-level-2);\n",
       "}\n",
       "\n",
       "#sk-container-id-2 div.sk-estimator.fitted:hover {\n",
       "  /* fitted */\n",
       "  background-color: var(--sklearn-color-fitted-level-2);\n",
       "}\n",
       "\n",
       "/* Specification for estimator info (e.g. \"i\" and \"?\") */\n",
       "\n",
       "/* Common style for \"i\" and \"?\" */\n",
       "\n",
       ".sk-estimator-doc-link,\n",
       "a:link.sk-estimator-doc-link,\n",
       "a:visited.sk-estimator-doc-link {\n",
       "  float: right;\n",
       "  font-size: smaller;\n",
       "  line-height: 1em;\n",
       "  font-family: monospace;\n",
       "  background-color: var(--sklearn-color-background);\n",
       "  border-radius: 1em;\n",
       "  height: 1em;\n",
       "  width: 1em;\n",
       "  text-decoration: none !important;\n",
       "  margin-left: 1ex;\n",
       "  /* unfitted */\n",
       "  border: var(--sklearn-color-unfitted-level-1) 1pt solid;\n",
       "  color: var(--sklearn-color-unfitted-level-1);\n",
       "}\n",
       "\n",
       ".sk-estimator-doc-link.fitted,\n",
       "a:link.sk-estimator-doc-link.fitted,\n",
       "a:visited.sk-estimator-doc-link.fitted {\n",
       "  /* fitted */\n",
       "  border: var(--sklearn-color-fitted-level-1) 1pt solid;\n",
       "  color: var(--sklearn-color-fitted-level-1);\n",
       "}\n",
       "\n",
       "/* On hover */\n",
       "div.sk-estimator:hover .sk-estimator-doc-link:hover,\n",
       ".sk-estimator-doc-link:hover,\n",
       "div.sk-label-container:hover .sk-estimator-doc-link:hover,\n",
       ".sk-estimator-doc-link:hover {\n",
       "  /* unfitted */\n",
       "  background-color: var(--sklearn-color-unfitted-level-3);\n",
       "  color: var(--sklearn-color-background);\n",
       "  text-decoration: none;\n",
       "}\n",
       "\n",
       "div.sk-estimator.fitted:hover .sk-estimator-doc-link.fitted:hover,\n",
       ".sk-estimator-doc-link.fitted:hover,\n",
       "div.sk-label-container:hover .sk-estimator-doc-link.fitted:hover,\n",
       ".sk-estimator-doc-link.fitted:hover {\n",
       "  /* fitted */\n",
       "  background-color: var(--sklearn-color-fitted-level-3);\n",
       "  color: var(--sklearn-color-background);\n",
       "  text-decoration: none;\n",
       "}\n",
       "\n",
       "/* Span, style for the box shown on hovering the info icon */\n",
       ".sk-estimator-doc-link span {\n",
       "  display: none;\n",
       "  z-index: 9999;\n",
       "  position: relative;\n",
       "  font-weight: normal;\n",
       "  right: .2ex;\n",
       "  padding: .5ex;\n",
       "  margin: .5ex;\n",
       "  width: min-content;\n",
       "  min-width: 20ex;\n",
       "  max-width: 50ex;\n",
       "  color: var(--sklearn-color-text);\n",
       "  box-shadow: 2pt 2pt 4pt #999;\n",
       "  /* unfitted */\n",
       "  background: var(--sklearn-color-unfitted-level-0);\n",
       "  border: .5pt solid var(--sklearn-color-unfitted-level-3);\n",
       "}\n",
       "\n",
       ".sk-estimator-doc-link.fitted span {\n",
       "  /* fitted */\n",
       "  background: var(--sklearn-color-fitted-level-0);\n",
       "  border: var(--sklearn-color-fitted-level-3);\n",
       "}\n",
       "\n",
       ".sk-estimator-doc-link:hover span {\n",
       "  display: block;\n",
       "}\n",
       "\n",
       "/* \"?\"-specific style due to the `<a>` HTML tag */\n",
       "\n",
       "#sk-container-id-2 a.estimator_doc_link {\n",
       "  float: right;\n",
       "  font-size: 1rem;\n",
       "  line-height: 1em;\n",
       "  font-family: monospace;\n",
       "  background-color: var(--sklearn-color-background);\n",
       "  border-radius: 1rem;\n",
       "  height: 1rem;\n",
       "  width: 1rem;\n",
       "  text-decoration: none;\n",
       "  /* unfitted */\n",
       "  color: var(--sklearn-color-unfitted-level-1);\n",
       "  border: var(--sklearn-color-unfitted-level-1) 1pt solid;\n",
       "}\n",
       "\n",
       "#sk-container-id-2 a.estimator_doc_link.fitted {\n",
       "  /* fitted */\n",
       "  border: var(--sklearn-color-fitted-level-1) 1pt solid;\n",
       "  color: var(--sklearn-color-fitted-level-1);\n",
       "}\n",
       "\n",
       "/* On hover */\n",
       "#sk-container-id-2 a.estimator_doc_link:hover {\n",
       "  /* unfitted */\n",
       "  background-color: var(--sklearn-color-unfitted-level-3);\n",
       "  color: var(--sklearn-color-background);\n",
       "  text-decoration: none;\n",
       "}\n",
       "\n",
       "#sk-container-id-2 a.estimator_doc_link.fitted:hover {\n",
       "  /* fitted */\n",
       "  background-color: var(--sklearn-color-fitted-level-3);\n",
       "}\n",
       "</style><div id=\"sk-container-id-2\" class=\"sk-top-container\"><div class=\"sk-text-repr-fallback\"><pre>CategoricalNB()</pre><b>In a Jupyter environment, please rerun this cell to show the HTML representation or trust the notebook. <br />On GitHub, the HTML representation is unable to render, please try loading this page with nbviewer.org.</b></div><div class=\"sk-container\" hidden><div class=\"sk-item\"><div class=\"sk-estimator fitted sk-toggleable\"><input class=\"sk-toggleable__control sk-hidden--visually\" id=\"sk-estimator-id-2\" type=\"checkbox\" checked><label for=\"sk-estimator-id-2\" class=\"sk-toggleable__label fitted sk-toggleable__label-arrow fitted\">&nbsp;&nbsp;CategoricalNB<a class=\"sk-estimator-doc-link fitted\" rel=\"noreferrer\" target=\"_blank\" href=\"https://scikit-learn.org/1.4/modules/generated/sklearn.naive_bayes.CategoricalNB.html\">?<span>Documentation for CategoricalNB</span></a><span class=\"sk-estimator-doc-link fitted\">i<span>Fitted</span></span></label><div class=\"sk-toggleable__content fitted\"><pre>CategoricalNB()</pre></div> </div></div></div></div>"
      ],
      "text/plain": [
       "CategoricalNB()"
      ]
     },
     "execution_count": 62,
     "metadata": {},
     "output_type": "execute_result"
    }
   ],
   "source": [
    "clf.fit(encoder.transform(with_age[['pclass', 'sex', 'decade', 'parch', 'sibsp']]), with_age['survived'])"
   ]
  },
  {
   "cell_type": "markdown",
   "metadata": {},
   "source": [
    "Now time to make the predictions. We need 5 values to pass into the prediction, one for each of `passenger class`, `sex`, `decade`, `parch` and `sibsp`."
   ]
  },
  {
   "cell_type": "code",
   "execution_count": 63,
   "metadata": {},
   "outputs": [
    {
     "data": {
      "text/plain": [
       "array([1.])"
      ]
     },
     "execution_count": 63,
     "metadata": {},
     "output_type": "execute_result"
    }
   ],
   "source": [
    "clf.predict(encoder.transform([(1, 'female', 30, 3, 5)]))"
   ]
  },
  {
   "cell_type": "markdown",
   "metadata": {},
   "source": [
    "We can first calculate the naive Bayes classifier. Since there are a lot of categories for `parch` and for `sibsp`, I did not include every single one, but just a few is enough to get an idea of how the naive Bayes classifier works."
   ]
  },
  {
   "cell_type": "markdown",
   "metadata": {},
   "source": [
    "We can create 5 predictions to determine the probability a passenger will survive based on the above features. The predictions are as follows "
   ]
  },
  {
   "cell_type": "code",
   "execution_count": 123,
   "metadata": {},
   "outputs": [
    {
     "data": {
      "text/plain": [
       "survived\n",
       "0.0    1.0\n",
       "1.0    0.0\n",
       "Name: (3.0, male, 40.0, 0.0, 2.0), dtype: float64"
      ]
     },
     "execution_count": 123,
     "metadata": {},
     "output_type": "execute_result"
    }
   ],
   "source": [
    "survived_bayes.loc[(3, 'male', 40, 0, 2)]"
   ]
  },
  {
   "cell_type": "code",
   "execution_count": 37,
   "metadata": {},
   "outputs": [],
   "source": [
    "from tabulate import tabulate"
   ]
  },
  {
   "cell_type": "code",
   "execution_count": 124,
   "metadata": {},
   "outputs": [
    {
     "name": "stdout",
     "output_type": "stream",
     "text": [
      "  pclass  sex       decade    parch    sibsp    NBC not survived    NBC survived    Empirical not survived    Empirical survived\n",
      "--------  ------  --------  -------  -------  ------------------  --------------  ------------------------  --------------------\n",
      "       1  male          20        0        0           0.72867         0.27133                    0.583333              0.416667\n",
      "       1  female        60        0        0           0.220754        0.779246                   0                     1\n",
      "       3  male          30        1        0           0.797931        0.202069                   0                     1\n",
      "       1  female        30        2        1           0.0397851       0.960215                   0                     1\n",
      "       3  male          40        0        2           0.90019         0.0998097                  1                     0\n"
     ]
    }
   ],
   "source": [
    "table = []\n",
    "for tup in [(1, 'male', 20, 0, 0), (1, 'female', 60, 0, 0), (3, 'male', 30, 1, 0),\n",
    "            (1, 'female', 30, 2, 1), (3, 'male', 40, 0, 2)]:\n",
    "    result = clf.predict_proba(encoder.transform([tup]))\n",
    "    entry = survived_bayes.loc[tup]\n",
    "    not_survived, survived = entry.values[0], entry.values[1]\n",
    "    row = list(tup) + list(result[0]) + [not_survived, survived]\n",
    "    table.append(row)\n",
    "\n",
    "print(tabulate(table, headers=['pclass', 'sex', 'decade', 'parch', 'sibsp',\n",
    "                                'NBC not survived', 'NBC survived', 'Empirical not survived',\n",
    "                                'Empirical survived']))"
   ]
  },
  {
   "cell_type": "markdown",
   "metadata": {},
   "source": [
    "I know the empirical data doesn't make much sense, I was having trouble with the loc method in pandas, even though I believe my conditional probability function is working properly. Here we can see the Naive Bayes classifier predictions for each of 5 different predictions."
   ]
  }
 ],
 "metadata": {
  "colab": {
   "include_colab_link": true,
   "name": "Lab 2.ipynb",
   "provenance": []
  },
  "jupytext": {
   "formats": "ipynb,md:myst"
  },
  "kernelspec": {
   "display_name": "Python (en685648)",
   "language": "python",
   "name": "en685648"
  },
  "language_info": {
   "codemirror_mode": {
    "name": "ipython",
    "version": 3
   },
   "file_extension": ".py",
   "mimetype": "text/x-python",
   "name": "python",
   "nbconvert_exporter": "python",
   "pygments_lexer": "ipython3",
   "version": "3.11.7"
  },
  "toc": {
   "colors": {
    "hover_highlight": "#DAA520",
    "navigate_num": "#000000",
    "navigate_text": "#333333",
    "running_highlight": "#FF0000",
    "selected_highlight": "#FFD700",
    "sidebar_border": "#EEEEEE",
    "wrapper_background": "#FFFFFF"
   },
   "moveMenuLeft": true,
   "nav_menu": {
    "height": "207px",
    "width": "252px"
   },
   "navigate_menu": true,
   "number_sections": true,
   "sideBar": true,
   "threshold": 4,
   "toc_cell": false,
   "toc_section_display": "block",
   "toc_window_display": false,
   "widenNotebook": false
  }
 },
 "nbformat": 4,
 "nbformat_minor": 4
}
